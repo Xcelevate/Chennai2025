{
 "cells": [
  {
   "cell_type": "code",
   "execution_count": 1,
   "id": "2a982927-2c77-4c28-b9f7-44dfcb84f2d2",
   "metadata": {},
   "outputs": [
    {
     "ename": "SyntaxError",
     "evalue": "unterminated string literal (detected at line 1) (2034594222.py, line 1)",
     "output_type": "error",
     "traceback": [
      "\u001b[1;36m  Cell \u001b[1;32mIn[1], line 1\u001b[1;36m\u001b[0m\n\u001b[1;33m    print(keerthi!\")\u001b[0m\n\u001b[1;37m                  ^\u001b[0m\n\u001b[1;31mSyntaxError\u001b[0m\u001b[1;31m:\u001b[0m unterminated string literal (detected at line 1)\n"
     ]
    }
   ],
   "source": [
    "print(keerthi!\")"
   ]
  },
  {
   "cell_type": "code",
   "execution_count": 2,
   "id": "9e1112a1-c1ab-43d7-9641-29481c289a32",
   "metadata": {},
   "outputs": [
    {
     "name": "stdout",
     "output_type": "stream",
     "text": [
      "Hello World\n"
     ]
    }
   ],
   "source": [
    "print(\"Hello World\")"
   ]
  },
  {
   "cell_type": "code",
   "execution_count": 3,
   "id": "0986f8a8-c002-43b8-a65e-6e61dc6aa715",
   "metadata": {},
   "outputs": [
    {
     "ename": "SyntaxError",
     "evalue": "unterminated string literal (detected at line 1) (3474576738.py, line 1)",
     "output_type": "error",
     "traceback": [
      "\u001b[1;36m  Cell \u001b[1;32mIn[3], line 1\u001b[1;36m\u001b[0m\n\u001b[1;33m    print(\"Hello world)\u001b[0m\n\u001b[1;37m          ^\u001b[0m\n\u001b[1;31mSyntaxError\u001b[0m\u001b[1;31m:\u001b[0m unterminated string literal (detected at line 1)\n"
     ]
    }
   ],
   "source": [
    "print(\"Hello world)"
   ]
  },
  {
   "cell_type": "code",
   "execution_count": 5,
   "id": "d6dd0608-f2e1-409c-8585-54ba57312a6b",
   "metadata": {},
   "outputs": [
    {
     "name": "stdout",
     "output_type": "stream",
     "text": [
      "1. Mix 500g of Flour, 10g Yeast and 300ml Water in a bowl.\n",
      "2. Knead the dough for 10 minutes.\n",
      "3. Add 3g of Salt.\n",
      "4. Leave to rise for 2 hours.\n",
      "5. Bake at 200 degrees C for 30 minutes.\n"
     ]
    }
   ],
   "source": [
    "print(\"1. Mix 500g of Flour, 10g Yeast and 300ml Water in a bowl.\")\n",
    "print(\"2. Knead the dough for 10 minutes.\")\n",
    "print(\"3. Add 3g of Salt.\")\n",
    "print(\"4. Leave to rise for 2 hours.\")\n",
    "print(\"5. Bake at 200 degrees C for 30 minutes.\")"
   ]
  },
  {
   "cell_type": "code",
   "execution_count": 9,
   "id": "587d1b67-6b5c-4feb-bc00-a7b3c1736c88",
   "metadata": {},
   "outputs": [
    {
     "name": "stdout",
     "output_type": "stream",
     "text": [
      "Notes from Day 1\n",
      "The print statement is used to output dtrings\n",
      "Strings are strings of characters\n",
      "String Concatenatiuon is done withsign\n",
      "Bew lines can be created with a\n",
      "and the letter n\n"
     ]
    }
   ],
   "source": [
    "\n",
    "print(\"Notes from Day 1\") #double quotes\n",
    "print(\"The print statement is used to output dtrings\") #space before print\n",
    "print(\"Strings are strings of characters\") #parantheses doesn't close\n",
    "print(\"String Concatenatiuon is done with\"+\"sign\") #before + double quotes didn't close properly\n",
    "print(\"Bew lines can be created with a\\nand the letter n\") #\\n doesn't give properly"
   ]
  },
  {
   "cell_type": "code",
   "execution_count": 12,
   "id": "461c193d-bcba-4d8a-be43-0b6a506cb5f6",
   "metadata": {},
   "outputs": [
    {
     "name": "stdin",
     "output_type": "stream",
     "text": [
      "What is your name? keerthi\n"
     ]
    },
    {
     "name": "stdout",
     "output_type": "stream",
     "text": [
      "Hellokeerthi\n"
     ]
    }
   ],
   "source": [
    "print(\"Hello\"+input(\"What is your name?\"))"
   ]
  },
  {
   "cell_type": "code",
   "execution_count": 13,
   "id": "ae0ef5c0-460b-4cf4-bcf7-89666ec31075",
   "metadata": {},
   "outputs": [
    {
     "name": "stdin",
     "output_type": "stream",
     "text": [
      "What is your name? keerthi\n"
     ]
    }
   ],
   "source": [
    "name=input(\"What is your name?\")\n",
    "print(name)"
   ]
  },
  {
   "cell_type": "code",
   "execution_count": 14,
   "id": "6f04a3e8-5b85-4665-8c29-4015e793c1da",
   "metadata": {},
   "outputs": [
    {
     "name": "stdin",
     "output_type": "stream",
     "text": [
      "What is your name? keerthi\n"
     ]
    },
    {
     "name": "stdout",
     "output_type": "stream",
     "text": [
      "keerthi\n"
     ]
    }
   ],
   "source": [
    "name=input(\"What is your name?\")\n",
    "print(name)"
   ]
  },
  {
   "cell_type": "code",
   "execution_count": 16,
   "id": "4d6a4e5c-5eb5-478b-a8ef-8890dbd624f7",
   "metadata": {},
   "outputs": [
    {
     "name": "stdin",
     "output_type": "stream",
     "text": [
      "What is your name? keerthi\n"
     ]
    },
    {
     "name": "stdout",
     "output_type": "stream",
     "text": [
      "Hello keerthi.\n",
      "I am learning python.\n"
     ]
    }
   ],
   "source": [
    "name=input(\"What is your name?\")\n",
    "print(\"Hello \"+name+\".\\n\"+\"I am learning python.\")"
   ]
  },
  {
   "cell_type": "code",
   "execution_count": 17,
   "id": "dd61bddf-bd97-49b8-a07b-cd1cd12318e4",
   "metadata": {},
   "outputs": [
    {
     "name": "stdout",
     "output_type": "stream",
     "text": [
      "\n"
     ]
    }
   ],
   "source": [
    "name=\"\"\n",
    "print(name)"
   ]
  },
  {
   "cell_type": "code",
   "execution_count": 19,
   "id": "c32863b5-0c4f-459a-90ce-d74026d0e7ab",
   "metadata": {},
   "outputs": [
    {
     "name": "stdin",
     "output_type": "stream",
     "text": [
      "What is your name? keerthika manimaran\n"
     ]
    },
    {
     "name": "stdout",
     "output_type": "stream",
     "text": [
      "19\n"
     ]
    }
   ],
   "source": [
    "print(len(input(\"What is your name?\")))"
   ]
  },
  {
   "cell_type": "code",
   "execution_count": 21,
   "id": "4a90b0fa-4ca4-463f-acde-0df6734ed0fd",
   "metadata": {},
   "outputs": [
    {
     "name": "stdin",
     "output_type": "stream",
     "text": [
      "Enter a juice milk\n",
      "Enter a juice juice\n"
     ]
    },
    {
     "name": "stdout",
     "output_type": "stream",
     "text": [
      "glass1 = juice\n",
      "glass2 = milk\n"
     ]
    }
   ],
   "source": [
    "glass1=input(\"Enter a juice\")\n",
    "glass2=input(\"Enter a juice\")\n",
    "temp=glass1\n",
    "glass1=glass2\n",
    "glass2=temp\n",
    "print(\"glass1 = \"+glass1+\"\\n\"+\"glass2 = \"+glass2)"
   ]
  },
  {
   "cell_type": "code",
   "execution_count": 23,
   "id": "79c39ffd-ce65-4353-8017-d481406b90ec",
   "metadata": {},
   "outputs": [
    {
     "name": "stdout",
     "output_type": "stream",
     "text": [
      "4\n"
     ]
    }
   ],
   "source": [
    "print(len(\"9088\"))"
   ]
  },
  {
   "cell_type": "code",
   "execution_count": 24,
   "id": "10ac39ce-4f1d-4d9c-bb55-ab6d750cd3a6",
   "metadata": {},
   "outputs": [
    {
     "ename": "TypeError",
     "evalue": "object of type 'int' has no len()",
     "output_type": "error",
     "traceback": [
      "\u001b[1;31m---------------------------------------------------------------------------\u001b[0m",
      "\u001b[1;31mTypeError\u001b[0m                                 Traceback (most recent call last)",
      "Cell \u001b[1;32mIn[24], line 1\u001b[0m\n\u001b[1;32m----> 1\u001b[0m \u001b[38;5;28mprint\u001b[39m(\u001b[38;5;28mlen\u001b[39m(\u001b[38;5;241m9088\u001b[39m))\n",
      "\u001b[1;31mTypeError\u001b[0m: object of type 'int' has no len()"
     ]
    }
   ],
   "source": [
    "print(len(9088))"
   ]
  },
  {
   "cell_type": "code",
   "execution_count": 26,
   "id": "afbcc74e-6c05-4696-82f2-bdce01d80bea",
   "metadata": {},
   "outputs": [
    {
     "name": "stdout",
     "output_type": "stream",
     "text": [
      "H\n"
     ]
    }
   ],
   "source": [
    "str=\"Hello\"\n",
    "print(str[0])"
   ]
  },
  {
   "cell_type": "code",
   "execution_count": 28,
   "id": "3f0e9efd-cd66-4086-a2dd-0cde4c3303b7",
   "metadata": {},
   "outputs": [
    {
     "name": "stdout",
     "output_type": "stream",
     "text": [
      "he\n"
     ]
    }
   ],
   "source": [
    "name=\"hello\"\n",
    "print(name[0:2])"
   ]
  },
  {
   "cell_type": "code",
   "execution_count": 30,
   "id": "1ea234ce-76b6-46af-b1a8-3cf13fc2b087",
   "metadata": {},
   "outputs": [
    {
     "name": "stdout",
     "output_type": "stream",
     "text": [
      "h\n"
     ]
    }
   ],
   "source": [
    "name=\"hello\"\n",
    "print(name[0:1])"
   ]
  },
  {
   "cell_type": "code",
   "execution_count": 37,
   "id": "135db95d-4b0f-4f51-b469-fc7357518496",
   "metadata": {},
   "outputs": [
    {
     "name": "stdout",
     "output_type": "stream",
     "text": [
      "hl\n"
     ]
    }
   ],
   "source": [
    "name=\"hello\"\n",
    "print(name[0:4:2])"
   ]
  },
  {
   "cell_type": "markdown",
   "id": "58f94859-d08d-4bbe-95e3-4f2bdceb147d",
   "metadata": {},
   "source": []
  },
  {
   "cell_type": "code",
   "execution_count": 38,
   "id": "af6b6947-3157-4305-97d1-570af2dd3341",
   "metadata": {},
   "outputs": [
    {
     "name": "stdout",
     "output_type": "stream",
     "text": [
      "\n"
     ]
    }
   ],
   "source": [
    "name=\"hello\"\n",
    "print(name[2:1:2])"
   ]
  },
  {
   "cell_type": "code",
   "execution_count": 39,
   "id": "51958452-f829-42e3-8914-cb1329883a5b",
   "metadata": {},
   "outputs": [
    {
     "name": "stdout",
     "output_type": "stream",
     "text": [
      "o\n"
     ]
    }
   ],
   "source": [
    "name=\"Hello\"\n",
    "print(name[4])"
   ]
  },
  {
   "cell_type": "code",
   "execution_count": 40,
   "id": "729a3962-1344-4a9c-aaf2-aa4739bc4d9e",
   "metadata": {},
   "outputs": [
    {
     "name": "stdout",
     "output_type": "stream",
     "text": [
      "o\n"
     ]
    }
   ],
   "source": [
    "name=\"Hello\"\n",
    "print(name[-1])"
   ]
  },
  {
   "cell_type": "code",
   "execution_count": 44,
   "id": "1255cbf7-db4a-4ff7-841d-9e4d3c2fb938",
   "metadata": {},
   "outputs": [
    {
     "name": "stdout",
     "output_type": "stream",
     "text": [
      "aba\n"
     ]
    }
   ],
   "source": [
    "name=\"aba\"\n",
    "print(name[::-1])"
   ]
  },
  {
   "cell_type": "code",
   "execution_count": 45,
   "id": "e7a23db2-95ed-4807-b940-0611f17b3292",
   "metadata": {},
   "outputs": [
    {
     "name": "stdout",
     "output_type": "stream",
     "text": [
      "hello\n"
     ]
    }
   ],
   "source": [
    "name=\"hello\"\n",
    "print(name[::1])"
   ]
  },
  {
   "cell_type": "code",
   "execution_count": 46,
   "id": "624cbe9e-433e-4a13-b289-ca4061afef8b",
   "metadata": {},
   "outputs": [
    {
     "name": "stdout",
     "output_type": "stream",
     "text": [
      "123456\n"
     ]
    }
   ],
   "source": [
    "print(\"123\"+\"456\")"
   ]
  },
  {
   "cell_type": "code",
   "execution_count": 48,
   "id": "308c46d4-1f5e-4bf3-a888-1c929f129538",
   "metadata": {},
   "outputs": [
    {
     "name": "stdout",
     "output_type": "stream",
     "text": [
      "579\n"
     ]
    }
   ],
   "source": [
    "print(int(\"123\")+int(\"456\"))"
   ]
  },
  {
   "cell_type": "code",
   "execution_count": 49,
   "id": "258750c1-d8bd-4bed-b968-47605e9ebe74",
   "metadata": {},
   "outputs": [
    {
     "name": "stdout",
     "output_type": "stream",
     "text": [
      "579\n"
     ]
    }
   ],
   "source": [
    "print((123)+(456))"
   ]
  },
  {
   "cell_type": "code",
   "execution_count": 50,
   "id": "70669bfb-e4e9-456f-80c4-754fed047424",
   "metadata": {},
   "outputs": [
    {
     "name": "stdin",
     "output_type": "stream",
     "text": [
      "What is your name keerthika\n"
     ]
    },
    {
     "ename": "TypeError",
     "evalue": "can only concatenate str (not \"int\") to str",
     "output_type": "error",
     "traceback": [
      "\u001b[1;31m---------------------------------------------------------------------------\u001b[0m",
      "\u001b[1;31mTypeError\u001b[0m                                 Traceback (most recent call last)",
      "Cell \u001b[1;32mIn[50], line 1\u001b[0m\n\u001b[1;32m----> 1\u001b[0m \u001b[38;5;28mprint\u001b[39m(\u001b[38;5;124m\"\u001b[39m\u001b[38;5;124mNumber of letters in the name\u001b[39m\u001b[38;5;124m\"\u001b[39m\u001b[38;5;241m+\u001b[39m\u001b[38;5;28mlen\u001b[39m(\u001b[38;5;28minput\u001b[39m(\u001b[38;5;124m\"\u001b[39m\u001b[38;5;124mWhat is your name\u001b[39m\u001b[38;5;124m\"\u001b[39m)))\n",
      "\u001b[1;31mTypeError\u001b[0m: can only concatenate str (not \"int\") to str"
     ]
    }
   ],
   "source": [
    "print(\"Number of letters in the name\"+len(input(\"What is your name\")))"
   ]
  },
  {
   "cell_type": "code",
   "execution_count": 1,
   "id": "1bd2fa4b-6777-4fad-830d-b821b45267d6",
   "metadata": {},
   "outputs": [
    {
     "name": "stdin",
     "output_type": "stream",
     "text": [
      "name keerthika\n"
     ]
    },
    {
     "name": "stdout",
     "output_type": "stream",
     "text": [
      "Number of letters in the name9\n"
     ]
    }
   ],
   "source": [
    "\n",
    "print(\"Number of letters in the name\"+str(len(input(\"name\"))))"
   ]
  },
  {
   "cell_type": "code",
   "execution_count": 2,
   "id": "8886f468-7fe0-4437-994f-5b6b149fec14",
   "metadata": {},
   "outputs": [
    {
     "name": "stdout",
     "output_type": "stream",
     "text": [
      "7.0\n"
     ]
    }
   ],
   "source": [
    "print(3*3+3/3-3)"
   ]
  },
  {
   "cell_type": "code",
   "execution_count": 3,
   "id": "88613fa9-310c-4b5a-955d-14755f3c9c38",
   "metadata": {},
   "outputs": [
    {
     "name": "stdout",
     "output_type": "stream",
     "text": [
      "11.0\n"
     ]
    }
   ],
   "source": [
    "print(3*3-3/3+3)"
   ]
  },
  {
   "cell_type": "code",
   "execution_count": 4,
   "id": "cf40abdf-e1aa-4cfe-b987-709360af4bfa",
   "metadata": {},
   "outputs": [
    {
     "name": "stdout",
     "output_type": "stream",
     "text": [
      "3.0\n"
     ]
    }
   ],
   "source": [
    "print(3*(3+3)/3-3)"
   ]
  },
  {
   "cell_type": "code",
   "execution_count": 9,
   "id": "9f5288f9-8235-4e71-ad3a-5dc9fdb8133b",
   "metadata": {},
   "outputs": [
    {
     "name": "stdout",
     "output_type": "stream",
     "text": [
      "30.85399449035813 2\n"
     ]
    }
   ],
   "source": [
    "height=1.65\n",
    "weight=84\n",
    "bml=weight/(height**2)\n",
    "print(bml)"
   ]
  },
  {
   "cell_type": "code",
   "execution_count": 14,
   "id": "579ec079-aead-497d-ab0b-ebfe2a00d31c",
   "metadata": {},
   "outputs": [
    {
     "name": "stdout",
     "output_type": "stream",
     "text": [
      "31\n"
     ]
    }
   ],
   "source": [
    "height=1.65\n",
    "weight=84\n",
    "bml=round(weight/(height**2))\n",
    "print(bml)"
   ]
  },
  {
   "cell_type": "code",
   "execution_count": 15,
   "id": "835892ee-a19b-4ffe-b744-b99453342df4",
   "metadata": {},
   "outputs": [
    {
     "name": "stdout",
     "output_type": "stream",
     "text": [
      "31\n"
     ]
    }
   ],
   "source": [
    "height=1.65\n",
    "weight=84\n",
    "bml=weight/(height**2)\n",
    "print(round(bml))"
   ]
  },
  {
   "cell_type": "code",
   "execution_count": 19,
   "id": "545eee14-2236-4153-b008-5eb388b952cc",
   "metadata": {},
   "outputs": [
    {
     "name": "stdout",
     "output_type": "stream",
     "text": [
      "30.854\n"
     ]
    }
   ],
   "source": [
    "height=1.65\n",
    "weight=84\n",
    "bml=weight/(height**2)\n",
    "print(round(bml,3))"
   ]
  },
  {
   "cell_type": "code",
   "execution_count": 21,
   "id": "cd2c58eb-29ba-455e-80a5-c5fbb2817ef4",
   "metadata": {},
   "outputs": [
    {
     "name": "stdout",
     "output_type": "stream",
     "text": [
      "hello\n"
     ]
    }
   ],
   "source": [
    "print(f\"hello\")"
   ]
  },
  {
   "cell_type": "code",
   "execution_count": 30,
   "id": "41fc6980-93ed-41d0-9c79-3e76611845fb",
   "metadata": {},
   "outputs": [
    {
     "name": "stdout",
     "output_type": "stream",
     "text": [
      "hello keerthi age: 23\n"
     ]
    }
   ],
   "source": [
    "name=\"keerthi\"\n",
    "age=\"23\"\n",
    "print(f\"hello \"+name+\" age: \"+age)"
   ]
  },
  {
   "cell_type": "code",
   "execution_count": 32,
   "id": "67acef5f-04ba-4048-bc53-806934f0e63f",
   "metadata": {},
   "outputs": [
    {
     "name": "stdout",
     "output_type": "stream",
     "text": [
      "Hello keerthi age: 23\n"
     ]
    }
   ],
   "source": [
    "name=\"keerthi\"\n",
    "age=23\n",
    "print(f\"Hello {name} age: {age}\")"
   ]
  },
  {
   "cell_type": "code",
   "execution_count": 33,
   "id": "3a529d9b-4c08-464f-ae0f-618bd4fbf0bb",
   "metadata": {},
   "outputs": [
    {
     "ename": "SyntaxError",
     "evalue": "invalid syntax (2784766658.py, line 1)",
     "output_type": "error",
     "traceback": [
      "\u001b[1;36m  Cell \u001b[1;32mIn[33], line 1\u001b[1;36m\u001b[0m\n\u001b[1;33m    print(10%%2)\u001b[0m\n\u001b[1;37m             ^\u001b[0m\n\u001b[1;31mSyntaxError\u001b[0m\u001b[1;31m:\u001b[0m invalid syntax\n"
     ]
    }
   ],
   "source": [
    "print(10%%2)"
   ]
  },
  {
   "cell_type": "code",
   "execution_count": 34,
   "id": "622a8e64-de16-4ce4-8269-11e23315d3a0",
   "metadata": {},
   "outputs": [
    {
     "name": "stdout",
     "output_type": "stream",
     "text": [
      "PYTHON\n"
     ]
    }
   ],
   "source": [
    "text=\"PyThOn\"\n",
    "print(text.upper())"
   ]
  },
  {
   "cell_type": "code",
   "execution_count": 35,
   "id": "cee8e6f4-92a9-4d60-b4e1-5302ace1c1ba",
   "metadata": {},
   "outputs": [
    {
     "name": "stdout",
     "output_type": "stream",
     "text": [
      "python\n"
     ]
    }
   ],
   "source": [
    "text=\"PyThOn\"\n",
    "print(text.lower())"
   ]
  },
  {
   "cell_type": "code",
   "execution_count": 37,
   "id": "c10c2256-2be0-482d-ab06-a1fc6e887be5",
   "metadata": {},
   "outputs": [
    {
     "name": "stdout",
     "output_type": "stream",
     "text": [
      "Python\n"
     ]
    }
   ],
   "source": [
    "text=\"PyThOn\"\n",
    "print(text.capitalize())"
   ]
  },
  {
   "cell_type": "code",
   "execution_count": 40,
   "id": "774f45d3-147e-4991-863c-6bab42ef879d",
   "metadata": {},
   "outputs": [
    {
     "name": "stdout",
     "output_type": "stream",
     "text": [
      "Python Is An Programming Language\n"
     ]
    }
   ],
   "source": [
    "text=\"PyThOn is an programming language\"\n",
    "print(text.title())"
   ]
  },
  {
   "cell_type": "code",
   "execution_count": 39,
   "id": "8fb34688-ee16-442d-b9c4-4da386fb47a2",
   "metadata": {},
   "outputs": [
    {
     "name": "stdout",
     "output_type": "stream",
     "text": [
      "pYtHoN\n"
     ]
    }
   ],
   "source": [
    "text=\"PyThOn\"\n",
    "print(text.swapcase())"
   ]
  },
  {
   "cell_type": "code",
   "execution_count": 45,
   "id": "ec4080aa-56bd-48aa-b4c3-d14870c9dc95",
   "metadata": {},
   "outputs": [
    {
     "name": "stdout",
     "output_type": "stream",
     "text": [
      "- python\n"
     ]
    }
   ],
   "source": [
    "text=\"    - python    \"\n",
    "print(text.strip())"
   ]
  },
  {
   "cell_type": "code",
   "execution_count": 47,
   "id": "347d5f15-78ad-4564-8f89-d7e84763e205",
   "metadata": {},
   "outputs": [
    {
     "name": "stdout",
     "output_type": "stream",
     "text": [
      "I love java programming\n"
     ]
    }
   ],
   "source": [
    "text=\"I love python programming\"\n",
    "print(text.replace(\"I love python programming\",\"I love java programming\"))"
   ]
  },
  {
   "cell_type": "code",
   "execution_count": 48,
   "id": "644f8a19-9919-4e38-a7e3-b44bc45820f4",
   "metadata": {},
   "outputs": [
    {
     "ename": "NameError",
     "evalue": "name 'python' is not defined",
     "output_type": "error",
     "traceback": [
      "\u001b[1;31m---------------------------------------------------------------------------\u001b[0m",
      "\u001b[1;31mNameError\u001b[0m                                 Traceback (most recent call last)",
      "Cell \u001b[1;32mIn[48], line 2\u001b[0m\n\u001b[0;32m      1\u001b[0m text\u001b[38;5;241m=\u001b[39m\u001b[38;5;124m\"\u001b[39m\u001b[38;5;124mI love python programming\u001b[39m\u001b[38;5;124m\"\u001b[39m\n\u001b[1;32m----> 2\u001b[0m \u001b[38;5;28mprint\u001b[39m(text\u001b[38;5;241m.\u001b[39mfind(python))\n",
      "\u001b[1;31mNameError\u001b[0m: name 'python' is not defined"
     ]
    }
   ],
   "source": [
    "text=\"I love python programming\"\n",
    "print(text.find(python))"
   ]
  },
  {
   "cell_type": "code",
   "execution_count": 49,
   "id": "92dd6d48-9684-4094-bdfa-368c9b629613",
   "metadata": {},
   "outputs": [
    {
     "name": "stdout",
     "output_type": "stream",
     "text": [
      "-1\n"
     ]
    }
   ],
   "source": [
    "text=\"Python is not a snake\"\n",
    "print(text.find(\"is not\",10,))"
   ]
  },
  {
   "cell_type": "code",
   "execution_count": 50,
   "id": "d7482c00-e3da-4f52-a29c-546286fa7da3",
   "metadata": {},
   "outputs": [
    {
     "ename": "NameError",
     "evalue": "name 're' is not defined",
     "output_type": "error",
     "traceback": [
      "\u001b[1;31m---------------------------------------------------------------------------\u001b[0m",
      "\u001b[1;31mNameError\u001b[0m                                 Traceback (most recent call last)",
      "Cell \u001b[1;32mIn[50], line 2\u001b[0m\n\u001b[0;32m      1\u001b[0m text\u001b[38;5;241m=\u001b[39m\u001b[38;5;124m\"\u001b[39m\u001b[38;5;124mPython is not a snake\u001b[39m\u001b[38;5;124m\"\u001b[39m\n\u001b[1;32m----> 2\u001b[0m \u001b[38;5;28mprint\u001b[39m(re\u001b[38;5;241m.\u001b[39mfindall(\u001b[38;5;124mr\u001b[39m\u001b[38;5;124m'\u001b[39m\u001b[38;5;124m/b/nt/b\u001b[39m\u001b[38;5;124m'\u001b[39m,text))\n",
      "\u001b[1;31mNameError\u001b[0m: name 're' is not defined"
     ]
    }
   ],
   "source": [
    "text=\"Python is not a snake\"\n",
    "print(re.findall(r'/b/nt/b',text))"
   ]
  },
  {
   "cell_type": "code",
   "execution_count": 51,
   "id": "2a992cf7-18d8-46ad-9153-73e28774d033",
   "metadata": {},
   "outputs": [
    {
     "name": "stdout",
     "output_type": "stream",
     "text": [
      "['Python']\n"
     ]
    }
   ],
   "source": [
    "import re\n",
    "text=\"I love python. Python is good\"\n",
    "words=re.findall(r'Python',text)\n",
    "iteration=re.finditer(r'Python',text)\n",
    "print(words)"
   ]
  },
  {
   "cell_type": "code",
   "execution_count": 52,
   "id": "da3256b4-4a87-44e0-9aa5-5607720050a6",
   "metadata": {},
   "outputs": [
    {
     "name": "stdout",
     "output_type": "stream",
     "text": [
      "[15]\n"
     ]
    }
   ],
   "source": [
    "print([m.start() for m in iteration])"
   ]
  },
  {
   "cell_type": "code",
   "execution_count": 55,
   "id": "f8fd946f-a115-44ad-af2e-41363cc49e4f",
   "metadata": {},
   "outputs": [
    {
     "name": "stdin",
     "output_type": "stream",
     "text": [
      "name of the pet: dog\n",
      "name of the city: che\n"
     ]
    },
    {
     "name": "stdout",
     "output_type": "stream",
     "text": [
      "dogche\n"
     ]
    }
   ],
   "source": [
    "pet=input(\"name of the pet:\")\n",
    "city=input(\"name of the city:\")\n",
    "final_name=pet+city\n",
    "print(final_name)"
   ]
  },
  {
   "cell_type": "code",
   "execution_count": 56,
   "id": "f01596ed-afa7-4a5d-b0f2-312a42a21186",
   "metadata": {},
   "outputs": [
    {
     "name": "stdin",
     "output_type": "stream",
     "text": [
      "name of the pet: dog\n",
      "name of the city: chennai\n"
     ]
    },
    {
     "name": "stdout",
     "output_type": "stream",
     "text": [
      "dogchennai\n"
     ]
    }
   ],
   "source": [
    "pet=input(\"name of the pet:\")\n",
    "city=input(\"name of the city:\")\n",
    "final_name=pet+city\n",
    "print(final_name)"
   ]
  },
  {
   "cell_type": "code",
   "execution_count": 59,
   "id": "7d748151-7197-49bd-ae32-013222a2c124",
   "metadata": {},
   "outputs": [
    {
     "name": "stdin",
     "output_type": "stream",
     "text": [
      "name of the pet: dog\n",
      "name of the city: chennai\n"
     ]
    },
    {
     "name": "stdout",
     "output_type": "stream",
     "text": [
      "DogChennai\n"
     ]
    }
   ],
   "source": [
    "pet=input(\"name of the pet:\")\n",
    "city=input(\"name of the city:\")\n",
    "final_name=pet.capitalize()+city.capitalize()\n",
    "print(final_name)"
   ]
  },
  {
   "cell_type": "code",
   "execution_count": 61,
   "id": "29924058-e399-406e-8476-ca5709a84843",
   "metadata": {},
   "outputs": [
    {
     "name": "stdout",
     "output_type": "stream",
     "text": [
      "name:keerthika age:23\n"
     ]
    }
   ],
   "source": [
    "name=\"keerthika\"\n",
    "age=23\n",
    "print(\"name:{} age:{}\".format(name,age))"
   ]
  },
  {
   "cell_type": "code",
   "execution_count": 62,
   "id": "e811fcd2-f64a-4364-9e44-e9070dae22fc",
   "metadata": {},
   "outputs": [
    {
     "name": "stdout",
     "output_type": "stream",
     "text": [
      "name:keerthika age:23\n"
     ]
    }
   ],
   "source": [
    "name=\"keerthika\"\n",
    "age=23\n",
    "print(f\"name:{name} age:{age}\")"
   ]
  },
  {
   "cell_type": "code",
   "execution_count": 67,
   "id": "9522057d-c412-4ff8-9037-2c8907428439",
   "metadata": {},
   "outputs": [
    {
     "name": "stdout",
     "output_type": "stream",
     "text": [
      "['I', 'love', 'Python', 'Programming']\n"
     ]
    }
   ],
   "source": [
    "name=\"I love Python Programming\"\n",
    "print(name.split(\" \"))"
   ]
  },
  {
   "cell_type": "code",
   "execution_count": 71,
   "id": "13e7dfdd-c5a8-4f30-b231-a160785ccd36",
   "metadata": {},
   "outputs": [
    {
     "name": "stdout",
     "output_type": "stream",
     "text": [
      "I am a programmer\n"
     ]
    }
   ],
   "source": [
    "name=\"I am a programmer\"\n",
    "words=name.split(\",\")\n",
    "name_join=\"-\".join(words)\n",
    "print(name_join)"
   ]
  },
  {
   "cell_type": "code",
   "execution_count": 72,
   "id": "04945d37-e278-4a71-96c9-14f40fde875d",
   "metadata": {},
   "outputs": [
    {
     "name": "stdout",
     "output_type": "stream",
     "text": [
      "['I am a programmer']\n"
     ]
    }
   ],
   "source": [
    "name=\"I am a programmer\"\n",
    "words=name.split(\",\")\n",
    "print(words)"
   ]
  },
  {
   "cell_type": "code",
   "execution_count": 74,
   "id": "648d2c00-a33d-452b-826f-6c235bc2df03",
   "metadata": {},
   "outputs": [
    {
     "name": "stdout",
     "output_type": "stream",
     "text": [
      "I-am-a-programmer\n"
     ]
    }
   ],
   "source": [
    "name=\"I,am,a,programmer\"\n",
    "words=name.split(\",\")\n",
    "name_join=\"-\".join(words)\n",
    "print(name_join)"
   ]
  },
  {
   "cell_type": "code",
   "execution_count": 77,
   "id": "ab6b5aba-60e6-4ae1-9547-052ebe01ae06",
   "metadata": {},
   "outputs": [
    {
     "name": "stdout",
     "output_type": "stream",
     "text": [
      "keerthi***\n"
     ]
    }
   ],
   "source": [
    "name=\"keerthi\"\n",
    "print(name.ljust(10,'*'))"
   ]
  },
  {
   "cell_type": "code",
   "execution_count": 78,
   "id": "e5174f23-2742-40a7-aae5-f7b098694991",
   "metadata": {},
   "outputs": [
    {
     "name": "stdout",
     "output_type": "stream",
     "text": [
      "***keerthi\n"
     ]
    }
   ],
   "source": [
    "name=\"keerthi\"\n",
    "print(name.rjust(10,'*'))"
   ]
  },
  {
   "cell_type": "code",
   "execution_count": 80,
   "id": "3ea0dba5-5f9b-4170-86ef-fa44c92f9511",
   "metadata": {},
   "outputs": [
    {
     "name": "stdout",
     "output_type": "stream",
     "text": [
      "<class 'str'>\n"
     ]
    }
   ],
   "source": [
    "name=\"kee\"\n",
    "print(type(name))"
   ]
  },
  {
   "cell_type": "code",
   "execution_count": null,
   "id": "49e3f409-d3e1-4d5d-a0ac-03b0f830e7fd",
   "metadata": {},
   "outputs": [],
   "source": []
  }
 ],
 "metadata": {
  "kernelspec": {
   "display_name": "Python [conda env:base] *",
   "language": "python",
   "name": "conda-base-py"
  },
  "language_info": {
   "codemirror_mode": {
    "name": "ipython",
    "version": 3
   },
   "file_extension": ".py",
   "mimetype": "text/x-python",
   "name": "python",
   "nbconvert_exporter": "python",
   "pygments_lexer": "ipython3",
   "version": "3.13.5"
  }
 },
 "nbformat": 4,
 "nbformat_minor": 5
}
