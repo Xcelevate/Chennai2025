{
 "cells": [
  {
   "cell_type": "code",
   "execution_count": 2,
   "id": "96da4cd1-6919-4483-a11b-8846685425e9",
   "metadata": {},
   "outputs": [],
   "source": [
    "randomInt"
   ]
  },
  {
   "cell_type": "code",
   "execution_count": 3,
   "id": "c717bc3d-2de4-4314-a9e4-d4ee31eac4bf",
   "metadata": {},
   "outputs": [
    {
     "data": {
      "text/plain": [
       "5"
      ]
     },
     "execution_count": 3,
     "metadata": {},
     "output_type": "execute_result"
    }
   ],
   "source": [
    "randomInt"
   ]
  },
  {
   "cell_type": "code",
   "execution_count": 4,
   "id": "f62fbb44-5318-40e9-aa7f-01f1f2d63b9e",
   "metadata": {},
   "outputs": [
    {
     "data": {
      "text/plain": [
       "5"
      ]
     },
     "execution_count": 4,
     "metadata": {},
     "output_type": "execute_result"
    }
   ],
   "source": [
    "randomInt"
   ]
  },
  {
   "cell_type": "code",
   "execution_count": 5,
   "id": "45ab516d-f936-4a6a-b61a-013db7a3ef52",
   "metadata": {},
   "outputs": [
    {
     "data": {
      "text/plain": [
       "5"
      ]
     },
     "execution_count": 5,
     "metadata": {},
     "output_type": "execute_result"
    }
   ],
   "source": [
    "randomInt"
   ]
  },
  {
   "cell_type": "code",
   "execution_count": 6,
   "id": "e187a4f6-93f1-456b-93b3-f3e1a62159d4",
   "metadata": {},
   "outputs": [
    {
     "data": {
      "text/plain": [
       "5"
      ]
     },
     "execution_count": 6,
     "metadata": {},
     "output_type": "execute_result"
    }
   ],
   "source": [
    "randomInt"
   ]
  },
  {
   "cell_type": "code",
   "execution_count": 7,
   "id": "890b89af-5779-445f-812a-4d961d0d4d8d",
   "metadata": {},
   "outputs": [
    {
     "data": {
      "text/plain": [
       "5"
      ]
     },
     "execution_count": 7,
     "metadata": {},
     "output_type": "execute_result"
    }
   ],
   "source": [
    "randomInt"
   ]
  },
  {
   "cell_type": "code",
   "execution_count": 8,
   "id": "6e711695-87d0-4367-b67a-100fcc7854ef",
   "metadata": {},
   "outputs": [
    {
     "data": {
      "text/plain": [
       "5"
      ]
     },
     "execution_count": 8,
     "metadata": {},
     "output_type": "execute_result"
    }
   ],
   "source": [
    "randomInt"
   ]
  },
  {
   "cell_type": "code",
   "execution_count": 9,
   "id": "65c7189b-ad91-402a-87d7-42a68b2bd8ee",
   "metadata": {},
   "outputs": [],
   "source": [
    "import random\n",
    "randomInt=random.randint(1,10)"
   ]
  },
  {
   "cell_type": "code",
   "execution_count": 10,
   "id": "63cf6461-8753-4ee9-938a-dbbb9cee0a3e",
   "metadata": {},
   "outputs": [
    {
     "data": {
      "text/plain": [
       "3"
      ]
     },
     "execution_count": 10,
     "metadata": {},
     "output_type": "execute_result"
    }
   ],
   "source": [
    "randomInt"
   ]
  },
  {
   "cell_type": "code",
   "execution_count": 11,
   "id": "163dd87d-f317-4ca9-abf4-51f3fd1955d9",
   "metadata": {},
   "outputs": [],
   "source": [
    "import random\n",
    "randomInt=random.randint(1,10)"
   ]
  },
  {
   "cell_type": "code",
   "execution_count": 12,
   "id": "6f3217f7-1b21-4520-a252-8aeee4fe1b0f",
   "metadata": {},
   "outputs": [
    {
     "data": {
      "text/plain": [
       "5"
      ]
     },
     "execution_count": 12,
     "metadata": {},
     "output_type": "execute_result"
    }
   ],
   "source": [
    "randomInt"
   ]
  },
  {
   "cell_type": "code",
   "execution_count": 15,
   "id": "9dfdb467-193c-4d9d-914c-8a58cf96e69b",
   "metadata": {},
   "outputs": [],
   "source": [
    "import random\n",
    "randomInt=random.randint(11,20)"
   ]
  },
  {
   "cell_type": "code",
   "execution_count": 16,
   "id": "c799e48d-88de-42ad-892e-027e3739b47c",
   "metadata": {},
   "outputs": [
    {
     "data": {
      "text/plain": [
       "19"
      ]
     },
     "execution_count": 16,
     "metadata": {},
     "output_type": "execute_result"
    }
   ],
   "source": [
    "randomInt"
   ]
  },
  {
   "cell_type": "code",
   "execution_count": 17,
   "id": "b37a7a4b-1f24-4c6c-a6dd-bdb734712ddf",
   "metadata": {},
   "outputs": [],
   "source": [
    "import random\n",
    "randomInt=random.randint(11,20)"
   ]
  },
  {
   "cell_type": "code",
   "execution_count": 18,
   "id": "1cb7a88f-eac2-4e63-88f5-a2dbb70c8293",
   "metadata": {},
   "outputs": [
    {
     "data": {
      "text/plain": [
       "18"
      ]
     },
     "execution_count": 18,
     "metadata": {},
     "output_type": "execute_result"
    }
   ],
   "source": [
    "randomInt"
   ]
  },
  {
   "cell_type": "code",
   "execution_count": 19,
   "id": "7137e978-e96b-4d4c-9225-26444a7801ac",
   "metadata": {},
   "outputs": [
    {
     "data": {
      "text/plain": [
       "3.14"
      ]
     },
     "execution_count": 19,
     "metadata": {},
     "output_type": "execute_result"
    }
   ],
   "source": [
    "import my_module\n",
    "my_module.my_number"
   ]
  },
  {
   "cell_type": "code",
   "execution_count": 20,
   "id": "b6f59301-84fb-4858-96dd-9516d8a8a3f5",
   "metadata": {},
   "outputs": [
    {
     "data": {
      "text/plain": [
       "3.14"
      ]
     },
     "execution_count": 20,
     "metadata": {},
     "output_type": "execute_result"
    }
   ],
   "source": [
    "import kee_module\n",
    "kee_module.my_number"
   ]
  },
  {
   "cell_type": "code",
   "execution_count": 22,
   "id": "37051fef-a47b-4a9a-84b4-7a46bc70439f",
   "metadata": {},
   "outputs": [],
   "source": [
    "import random\n",
    "randomInt=random.random()"
   ]
  },
  {
   "cell_type": "code",
   "execution_count": 23,
   "id": "2b34a6fe-c458-4974-8a91-71569f1444dc",
   "metadata": {},
   "outputs": [
    {
     "data": {
      "text/plain": [
       "0.7952998127325587"
      ]
     },
     "execution_count": 23,
     "metadata": {},
     "output_type": "execute_result"
    }
   ],
   "source": [
    "randomInt"
   ]
  },
  {
   "cell_type": "code",
   "execution_count": 24,
   "id": "54a1428e-410f-4594-a501-523df7c7eb12",
   "metadata": {},
   "outputs": [],
   "source": [
    "import random\n",
    "randFloat=random.uniform(1,10)"
   ]
  },
  {
   "cell_type": "code",
   "execution_count": 25,
   "id": "f353a3b9-5285-4ec9-bd1e-311aa6a88c85",
   "metadata": {},
   "outputs": [
    {
     "data": {
      "text/plain": [
       "9.456310074796313"
      ]
     },
     "execution_count": 25,
     "metadata": {},
     "output_type": "execute_result"
    }
   ],
   "source": [
    "randFloat"
   ]
  },
  {
   "cell_type": "code",
   "execution_count": 27,
   "id": "a3de1669-c67f-4d13-96d6-4f89e931b431",
   "metadata": {},
   "outputs": [
    {
     "name": "stdout",
     "output_type": "stream",
     "text": [
      "9.68365317833612\n"
     ]
    }
   ],
   "source": [
    "randFloat=random.uniform(1,10)\n",
    "print(randFloat)"
   ]
  },
  {
   "cell_type": "code",
   "execution_count": 28,
   "id": "2831a4e5-c20a-4da5-ac34-0dfc75532822",
   "metadata": {},
   "outputs": [
    {
     "name": "stdout",
     "output_type": "stream",
     "text": [
      "5.302326730677488\n"
     ]
    }
   ],
   "source": [
    "randFloat=random.uniform(1,10)\n",
    "print(randFloat)"
   ]
  },
  {
   "cell_type": "code",
   "execution_count": 29,
   "id": "db6965f8-8535-4329-9643-69ac8a8f56d4",
   "metadata": {},
   "outputs": [
    {
     "name": "stdout",
     "output_type": "stream",
     "text": [
      "7.0429424812794945\n"
     ]
    }
   ],
   "source": [
    "randFloat=random.uniform(1,10)\n",
    "print(randFloat)"
   ]
  },
  {
   "cell_type": "code",
   "execution_count": 30,
   "id": "8022593b-179c-42e2-85b6-bcfac2e5c5b7",
   "metadata": {},
   "outputs": [
    {
     "name": "stdout",
     "output_type": "stream",
     "text": [
      "7.271307590450996\n"
     ]
    }
   ],
   "source": [
    "randFloat=random.uniform(1,10)\n",
    "print(randFloat)"
   ]
  },
  {
   "cell_type": "code",
   "execution_count": 31,
   "id": "a5516632-2567-41ae-83ec-b46e0f68f595",
   "metadata": {},
   "outputs": [
    {
     "name": "stdout",
     "output_type": "stream",
     "text": [
      "4.260544118863052\n"
     ]
    }
   ],
   "source": [
    "randFloat=random.uniform(1,10)\n",
    "print(randFloat)"
   ]
  },
  {
   "cell_type": "code",
   "execution_count": 32,
   "id": "51e8efdb-3a14-42cb-b317-1750351769b2",
   "metadata": {},
   "outputs": [
    {
     "name": "stdout",
     "output_type": "stream",
     "text": [
      "9.696451323014635\n"
     ]
    }
   ],
   "source": [
    "randFloat=random.uniform(1,10)\n",
    "print(randFloat)"
   ]
  },
  {
   "cell_type": "code",
   "execution_count": 33,
   "id": "9735531b-1ee4-4f5a-83a4-d29ecebd62e4",
   "metadata": {},
   "outputs": [
    {
     "name": "stdout",
     "output_type": "stream",
     "text": [
      "6.845843887165774\n"
     ]
    }
   ],
   "source": [
    "randFloat=random.uniform(1,10)\n",
    "print(randFloat)"
   ]
  },
  {
   "cell_type": "code",
   "execution_count": 34,
   "id": "ffbbd72d-fac6-45ad-9d13-85e43ccf341b",
   "metadata": {},
   "outputs": [
    {
     "name": "stdout",
     "output_type": "stream",
     "text": [
      "4.534041167024462\n"
     ]
    }
   ],
   "source": [
    "randFloat=random.uniform(1,10)\n",
    "print(randFloat)"
   ]
  },
  {
   "cell_type": "code",
   "execution_count": 42,
   "id": "6dbeaf56-db05-49da-b018-7f00755bd6c7",
   "metadata": {},
   "outputs": [
    {
     "name": "stdout",
     "output_type": "stream",
     "text": [
      "8.313352111443628\n"
     ]
    }
   ],
   "source": [
    "randFloat=random.uniform(1,10)\n",
    "print(randFloat)"
   ]
  },
  {
   "cell_type": "code",
   "execution_count": 37,
   "id": "302d50e7-be93-4ab3-a684-c6d95135d774",
   "metadata": {},
   "outputs": [
    {
     "name": "stdout",
     "output_type": "stream",
     "text": [
      "4.52\n"
     ]
    }
   ],
   "source": [
    "randFloat=round(random.uniform(1,10),2)\n",
    "print(randFloat)"
   ]
  },
  {
   "cell_type": "code",
   "execution_count": 51,
   "id": "6a4cf81f-ebdf-4021-b970-3c0cca708304",
   "metadata": {},
   "outputs": [
    {
     "name": "stdout",
     "output_type": "stream",
     "text": [
      "Tales\n"
     ]
    }
   ],
   "source": [
    "randbinary=1\n",
    "if(randbinary==0):\n",
    "    print(\"Head\")\n",
    "else:\n",
    "    print(\"Tales\")"
   ]
  },
  {
   "cell_type": "code",
   "execution_count": 58,
   "id": "eff6230e-1c9f-429c-81e9-d573e7787d80",
   "metadata": {},
   "outputs": [
    {
     "name": "stdout",
     "output_type": "stream",
     "text": [
      "Head\n"
     ]
    }
   ],
   "source": [
    "randbinary=random.randint(0,1)\n",
    "if(randbinary==0):\n",
    "    print(\"Head\")\n",
    "else:\n",
    "    print(\"Tails\")"
   ]
  },
  {
   "cell_type": "code",
   "execution_count": 62,
   "id": "7b11739f-90e6-408d-b5f9-7ad95d8b05b8",
   "metadata": {},
   "outputs": [
    {
     "data": {
      "text/plain": [
       "False"
      ]
     },
     "execution_count": 62,
     "metadata": {},
     "output_type": "execute_result"
    }
   ],
   "source": [
    "not(True or((True & False) & (False & True) & False))"
   ]
  },
  {
   "cell_type": "code",
   "execution_count": 67,
   "id": "4b8fdf86-2d4d-487a-832a-096718dad306",
   "metadata": {},
   "outputs": [
    {
     "data": {
      "text/plain": [
       "True"
      ]
     },
     "execution_count": 67,
     "metadata": {},
     "output_type": "execute_result"
    }
   ],
   "source": [
    "A=True\n",
    "B=False\n",
    "(A or B) and not(A and B)"
   ]
  },
  {
   "cell_type": "code",
   "execution_count": 68,
   "id": "27e64969-3de9-4eee-a2f0-3d12fa4d811a",
   "metadata": {},
   "outputs": [
    {
     "data": {
      "text/plain": [
       "True"
      ]
     },
     "execution_count": 68,
     "metadata": {},
     "output_type": "execute_result"
    }
   ],
   "source": [
    "a=True\n",
    "b=False\n",
    "(a and not b) or (b and not a)"
   ]
  },
  {
   "cell_type": "code",
   "execution_count": 82,
   "id": "8f63561d-d618-4048-b808-3f869a169327",
   "metadata": {},
   "outputs": [
    {
     "name": "stdin",
     "output_type": "stream",
     "text": [
      "Empty or any value: o\n",
      "Empty or any value: \n"
     ]
    },
    {
     "name": "stdout",
     "output_type": "stream",
     "text": [
      "True\n",
      "False\n"
     ]
    },
    {
     "data": {
      "text/plain": [
       "True"
      ]
     },
     "execution_count": 82,
     "metadata": {},
     "output_type": "execute_result"
    }
   ],
   "source": [
    "A=bool(input(\"Empty or any value:\"))\n",
    "B=bool(input(\"Empty or any value:\"))\n",
    "print(A)\n",
    "print(B)\n",
    "(A or B) and not(A and B)"
   ]
  },
  {
   "cell_type": "code",
   "execution_count": 74,
   "id": "7eac9a9f-2d84-4569-adc2-6c4bc0927527",
   "metadata": {},
   "outputs": [
    {
     "name": "stdin",
     "output_type": "stream",
     "text": [
      "enter a value: true\n",
      "enter a value: false\n"
     ]
    },
    {
     "data": {
      "text/plain": [
       "True"
      ]
     },
     "execution_count": 74,
     "metadata": {},
     "output_type": "execute_result"
    }
   ],
   "source": [
    "A=bool(input(\"enter a value:\"))\n",
    "B=bool(input(\"enter a value:\"))\n",
    "(a and not b) or (b and not a)"
   ]
  },
  {
   "cell_type": "code",
   "execution_count": 84,
   "id": "5c97a2b6-5c4c-4b97-a540-89b7fc005e3e",
   "metadata": {},
   "outputs": [
    {
     "name": "stdin",
     "output_type": "stream",
     "text": [
      "enter a value: \n",
      "enter a value: \n"
     ]
    },
    {
     "name": "stdout",
     "output_type": "stream",
     "text": [
      "False\n",
      "False\n",
      "True\n"
     ]
    }
   ],
   "source": [
    "A=bool(input(\"enter a value:\"))\n",
    "B=bool(input(\"enter a value:\"))\n",
    "print(A)\n",
    "print(B)\n",
    "C=not(A and B)\n",
    "print(C)"
   ]
  },
  {
   "cell_type": "code",
   "execution_count": 86,
   "id": "a6dbb849-f08b-41ed-9d7c-bf078c315675",
   "metadata": {},
   "outputs": [
    {
     "name": "stdin",
     "output_type": "stream",
     "text": [
      "enter a value: t\n",
      "enter a value: \n"
     ]
    },
    {
     "name": "stdout",
     "output_type": "stream",
     "text": [
      "True\n",
      "False\n",
      "False\n"
     ]
    }
   ],
   "source": [
    "A=bool(input(\"enter a value:\"))\n",
    "B=bool(input(\"enter a value:\"))\n",
    "print(A)\n",
    "print(B)\n",
    "C=not(A or B)\n",
    "print(C)"
   ]
  },
  {
   "cell_type": "code",
   "execution_count": 91,
   "id": "b43d04cf-c271-4059-93be-60a9769eff99",
   "metadata": {},
   "outputs": [
    {
     "name": "stdout",
     "output_type": "stream",
     "text": [
      "False\n"
     ]
    }
   ],
   "source": [
    "C=(not (2!=3) and (4<6))or((6!=7) and (8<2))\n",
    "print(C)"
   ]
  },
  {
   "cell_type": "code",
   "execution_count": 94,
   "id": "30a69557-2d73-4149-88e1-17cc8bfe28ce",
   "metadata": {},
   "outputs": [
    {
     "name": "stdin",
     "output_type": "stream",
     "text": [
      "Enter a number 8990\n"
     ]
    },
    {
     "name": "stdout",
     "output_type": "stream",
     "text": [
      "Even\n"
     ]
    }
   ],
   "source": [
    "a=int(input(\"Enter a number\"))\n",
    "if(a%2==0):\n",
    "    print(\"Even\")\n",
    "else:\n",
    "    print(\"Odd\")\n",
    "    "
   ]
  },
  {
   "cell_type": "code",
   "execution_count": 103,
   "id": "ba10829f-2fb0-420b-9aad-38619e21706b",
   "metadata": {},
   "outputs": [
    {
     "name": "stdin",
     "output_type": "stream",
     "text": [
      "enter a number: 98\n",
      "enter a number: 98\n"
     ]
    },
    {
     "name": "stdout",
     "output_type": "stream",
     "text": [
      "same\n"
     ]
    }
   ],
   "source": [
    "a=int(input(\"enter a number:\"))\n",
    "b=int(input(\"enter a number:\"))\n",
    "if(a<b):\n",
    "      print(b)\n",
    "elif(a>b):\n",
    "    print(a)\n",
    "else:\n",
    "    print(\"same\")"
   ]
  },
  {
   "cell_type": "code",
   "execution_count": 120,
   "id": "aef3e5fb-c539-4c7d-9003-0851aa6b5299",
   "metadata": {},
   "outputs": [
    {
     "name": "stdin",
     "output_type": "stream",
     "text": [
      "Enter a mark: 40000\n"
     ]
    },
    {
     "name": "stdout",
     "output_type": "stream",
     "text": [
      "Invalid mark\n"
     ]
    }
   ],
   "source": [
    "mark=int(input(\"Enter a mark:\"))\n",
    "if(mark>=90 and mark<=100):\n",
    "    print(\"A+\")\n",
    "elif(mark<90 and mark>=75):\n",
    "    print(\"A\")\n",
    "elif(mark<75 and mark>60):\n",
    "    print(\"B\")\n",
    "elif(mark<=60 and mark>=40):\n",
    "    print(\"C\")\n",
    "elif(mark<40 and mark>=0):\n",
    "    print(\"Fail\")\n",
    "else:\n",
    "    print(\"Invalid mark\")\n"
   ]
  },
  {
   "cell_type": "code",
   "execution_count": 123,
   "id": "01566b07-0f82-40dc-bd97-fc9a3b96b4be",
   "metadata": {},
   "outputs": [
    {
     "name": "stdin",
     "output_type": "stream",
     "text": [
      "Enter a mark: 67\n"
     ]
    },
    {
     "name": "stdout",
     "output_type": "stream",
     "text": [
      "B\n"
     ]
    }
   ],
   "source": [
    "mark=int(input(\"Enter a mark:\"))\n",
    "if(mark>=0 and mark<=100):\n",
    "    if(mark>=90 and mark<=100):\n",
    "        print(\"A+\")\n",
    "    elif(mark<90 and mark>=75):\n",
    "        print(\"A\")\n",
    "    elif(mark<75 and mark>60):\n",
    "        print(\"B\")\n",
    "    elif(mark<=60 and mark>=40):\n",
    "        print(\"C\")\n",
    "    else:\n",
    "        print(\"Fail\")\n",
    "else:\n",
    "    print(\"Invalid mark\")\n"
   ]
  },
  {
   "cell_type": "code",
   "execution_count": 126,
   "id": "2aca62c7-a02f-44be-935a-0e694d49cb74",
   "metadata": {},
   "outputs": [
    {
     "name": "stdout",
     "output_type": "stream",
     "text": [
      "Not Palindrome\n"
     ]
    }
   ],
   "source": [
    "a=\"keerthika\"\n",
    "b=a[::-1]\n",
    "if(a==b):\n",
    "    print(\"Palindrome\")\n",
    "else:\n",
    "    print(\"Not Palindrome\")"
   ]
  },
  {
   "cell_type": "code",
   "execution_count": 136,
   "id": "99057d1c-20d4-4354-97ae-8653fabe2d8d",
   "metadata": {},
   "outputs": [
    {
     "name": "stdin",
     "output_type": "stream",
     "text": [
      "Enter a name malayalam\n"
     ]
    },
    {
     "name": "stdout",
     "output_type": "stream",
     "text": [
      "Palindrome\n"
     ]
    }
   ],
   "source": [
    "a=input(\"Enter a name\")\n",
    "b=a[::-1]\n",
    "if(a==b):\n",
    "    print(\"Palindrome\")\n",
    "else:\n",
    "    print(\"Not Palindrome\")"
   ]
  },
  {
   "cell_type": "code",
   "execution_count": 134,
   "id": "439f37cf-fea0-4712-9faf-8eee8c2c2feb",
   "metadata": {},
   "outputs": [
    {
     "name": "stdin",
     "output_type": "stream",
     "text": [
      "Enter a name 123\n"
     ]
    },
    {
     "ename": "NameError",
     "evalue": "name 'reverse' is not defined",
     "output_type": "error",
     "traceback": [
      "\u001b[1;31m---------------------------------------------------------------------------\u001b[0m",
      "\u001b[1;31mNameError\u001b[0m                                 Traceback (most recent call last)",
      "Cell \u001b[1;32mIn[134], line 2\u001b[0m\n\u001b[0;32m      1\u001b[0m a\u001b[38;5;241m=\u001b[39m\u001b[38;5;28mint\u001b[39m(\u001b[38;5;28minput\u001b[39m(\u001b[38;5;124m\"\u001b[39m\u001b[38;5;124mEnter a name\u001b[39m\u001b[38;5;124m\"\u001b[39m))\n\u001b[1;32m----> 2\u001b[0m b\u001b[38;5;241m=\u001b[39mreverse(a)\n\u001b[0;32m      3\u001b[0m \u001b[38;5;28;01mif\u001b[39;00m(a\u001b[38;5;241m==\u001b[39mb):\n\u001b[0;32m      4\u001b[0m     \u001b[38;5;28mprint\u001b[39m(\u001b[38;5;124m\"\u001b[39m\u001b[38;5;124mPalindrome\u001b[39m\u001b[38;5;124m\"\u001b[39m)\n",
      "\u001b[1;31mNameError\u001b[0m: name 'reverse' is not defined"
     ]
    }
   ],
   "source": [
    "a=int(input(\"Enter a name\"))\n",
    "b=reverse(a)\n",
    "if(a==b):\n",
    "    print(\"Palindrome\")\n",
    "else:\n",
    "    print(\"Not Palindrome\")"
   ]
  },
  {
   "cell_type": "code",
   "execution_count": 137,
   "id": "b3a2a58e-a98d-4869-9ce0-bc3b10b6882b",
   "metadata": {},
   "outputs": [
    {
     "name": "stdout",
     "output_type": "stream",
     "text": [
      "True\n",
      "True\n",
      "True\n"
     ]
    }
   ],
   "source": [
    "s1=\"Python\"\n",
    "s2=\"12345\"\n",
    "print(s1.isalpha())\n",
    "print(s2.isdigit())\n",
    "print(s1.startswith(\"Py\"))"
   ]
  },
  {
   "cell_type": "code",
   "execution_count": 144,
   "id": "5d8a3dbf-a4d7-4cd4-914c-2a3fdc70761a",
   "metadata": {},
   "outputs": [
    {
     "name": "stdout",
     "output_type": "stream",
     "text": [
      "False\n"
     ]
    }
   ],
   "source": [
    "name=\"0112345\"\n",
    "c=name.startswith(\"1234\",3)\n",
    "print(c)"
   ]
  },
  {
   "cell_type": "code",
   "execution_count": 152,
   "id": "93a71cdc-f0e5-41de-8e65-5d9555003edf",
   "metadata": {},
   "outputs": [
    {
     "name": "stdout",
     "output_type": "stream",
     "text": [
      "True\n"
     ]
    }
   ],
   "source": [
    "name=\"kee\"\n",
    "c=name.isalpha()\n",
    "print(c)"
   ]
  },
  {
   "cell_type": "code",
   "execution_count": 150,
   "id": "dd5f6715-0995-4b95-b758-1a49faefcfde",
   "metadata": {},
   "outputs": [
    {
     "name": "stdout",
     "output_type": "stream",
     "text": [
      "True\n"
     ]
    }
   ],
   "source": [
    "name=\"1234\"\n",
    "c=name.isdigit()\n",
    "print(c)"
   ]
  },
  {
   "cell_type": "code",
   "execution_count": 154,
   "id": "b52ac3eb-45b6-4153-9668-d9ecb2703296",
   "metadata": {},
   "outputs": [
    {
     "name": "stdout",
     "output_type": "stream",
     "text": [
      "True\n"
     ]
    }
   ],
   "source": [
    "name=\"0112345\"\n",
    "c=name.startswith(\"0112\")\n",
    "print(c)"
   ]
  },
  {
   "cell_type": "code",
   "execution_count": 155,
   "id": "883b4edc-dd8c-4dbf-b858-d208b9e1398f",
   "metadata": {},
   "outputs": [
    {
     "name": "stdout",
     "output_type": "stream",
     "text": [
      "True\n"
     ]
    }
   ],
   "source": [
    "name=\"a1b23d4e\"\n",
    "c=name.isalnum()\n",
    "print(c)"
   ]
  },
  {
   "cell_type": "code",
   "execution_count": 159,
   "id": "ea186d95-9c2c-4e01-a402-7cea2ae9cd49",
   "metadata": {},
   "outputs": [
    {
     "name": "stdout",
     "output_type": "stream",
     "text": [
      "True\n"
     ]
    }
   ],
   "source": [
    "name=\"myfile.pdf\"\n",
    "c=name.endswith((\".txt\" , \".pdf\"))\n",
    "print(c)"
   ]
  },
  {
   "cell_type": "code",
   "execution_count": 184,
   "id": "a844b28c-583c-49cf-80c9-ad17fc4b3e99",
   "metadata": {},
   "outputs": [
    {
     "name": "stdin",
     "output_type": "stream",
     "text": [
      "Enter a year: -12\n"
     ]
    },
    {
     "name": "stdout",
     "output_type": "stream",
     "text": [
      "Invalid\n"
     ]
    }
   ],
   "source": [
    "a=input(\"Enter a year:\")\n",
    "year=int(year)\n",
    "if (a.isdigit()):\n",
    "    if(year>999):\n",
    "        if(year%400==0 or year%4==0 and year%100!=0):\n",
    "            print(\"Leap year\")\n",
    "        else:\n",
    "            print(\"Not Leap year\")\n",
    "    else:\n",
    "        print(\"Invalid\")\n",
    "else:\n",
    "    print(\"Invalid\")"
   ]
  },
  {
   "cell_type": "code",
   "execution_count": 173,
   "id": "b1ff0db3-f0de-44db-824b-f9a2ecb26e33",
   "metadata": {},
   "outputs": [
    {
     "name": "stdin",
     "output_type": "stream",
     "text": [
      "Enter a year: 2100\n"
     ]
    },
    {
     "name": "stdout",
     "output_type": "stream",
     "text": [
      "Not Leap year\n"
     ]
    }
   ],
   "source": [
    "year=int(input(\"Enter a year:\"))     \n",
    "if(year%400==0 or year%4==0 and year%100!=0):\n",
    "    print(\"Leap year\")\n",
    "else:\n",
    "    print(\"Not Leap year\")"
   ]
  },
  {
   "cell_type": "code",
   "execution_count": 201,
   "id": "7fe5eb98-cb76-48bc-94e8-9d0c1189623e",
   "metadata": {},
   "outputs": [
    {
     "name": "stdin",
     "output_type": "stream",
     "text": [
      "Enter a number: 5\n",
      "Enter a number: 6\n",
      "Enter a number: 7\n"
     ]
    },
    {
     "name": "stdout",
     "output_type": "stream",
     "text": [
      "Scalene\n"
     ]
    }
   ],
   "source": [
    "d=input(\"Enter a number:\")\n",
    "e=input(\"Enter a number:\")\n",
    "f=input(\"Enter a number:\")\n",
    "\n",
    "if(d.isdigit() and e.isdigit() and f.isdigit()):\n",
    "    a=int(d)\n",
    "    b=int(e)\n",
    "    c=int(f)\n",
    "    if(a+b>c or b+c>a or a+c>b):\n",
    "        if(a==b and b==c):\n",
    "            print(\"Equilateral\")\n",
    "        elif(a==b or b==c or a==c):\n",
    "            print(\"Isoceles\")\n",
    "        else:\n",
    "            print(\"Scalene\")\n",
    "    else:\n",
    "        print(\"Not a triangle\")\n",
    "else:\n",
    "     print(\"Not a triangle\")"
   ]
  },
  {
   "cell_type": "code",
   "execution_count": 212,
   "id": "66d9a5ce-630a-46f3-a11f-e444e4b6b189",
   "metadata": {},
   "outputs": [
    {
     "name": "stdin",
     "output_type": "stream",
     "text": [
      "Enter a number: 5\n",
      "Enter a number: 5\n",
      "Enter a number: 1.4\n"
     ]
    },
    {
     "name": "stdout",
     "output_type": "stream",
     "text": [
      "Isoceles\n"
     ]
    }
   ],
   "source": [
    "d=input(\"Enter a number:\")\n",
    "e=input(\"Enter a number:\")\n",
    "f=input(\"Enter a number:\")\n",
    "if(d.replace('.','').isdigit() and e.replace('.','').isdigit() and f.replace('.','').isdigit()):\n",
    "    a=float(d)\n",
    "    b=float(e)\n",
    "    c=float(f)\n",
    "    if(a+b>c and b+c>a and a+c>b):\n",
    "        if(a==b and b==c):\n",
    "            print(\"Equilateral\")\n",
    "        elif(a==b or b==c or a==c):\n",
    "            print(\"Isoceles\")\n",
    "        else:\n",
    "            print(\"Scalene\")\n",
    "    else:\n",
    "        print(\"Not a triangle\")\n",
    "else:\n",
    "     print(\"Not a triangle\")"
   ]
  },
  {
   "cell_type": "code",
   "execution_count": null,
   "id": "39bf4e4b-9c07-4fb9-85ac-a8556caba280",
   "metadata": {},
   "outputs": [],
   "source": []
  }
 ],
 "metadata": {
  "kernelspec": {
   "display_name": "Python [conda env:base] *",
   "language": "python",
   "name": "conda-base-py"
  },
  "language_info": {
   "codemirror_mode": {
    "name": "ipython",
    "version": 3
   },
   "file_extension": ".py",
   "mimetype": "text/x-python",
   "name": "python",
   "nbconvert_exporter": "python",
   "pygments_lexer": "ipython3",
   "version": "3.13.5"
  }
 },
 "nbformat": 4,
 "nbformat_minor": 5
}
