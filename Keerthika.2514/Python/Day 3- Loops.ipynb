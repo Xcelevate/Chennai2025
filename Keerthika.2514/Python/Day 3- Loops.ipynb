{
 "cells": [
  {
   "cell_type": "code",
   "execution_count": 6,
   "id": "7b583243-0816-4e0f-bc44-de250dc38a59",
   "metadata": {},
   "outputs": [
    {
     "data": {
      "text/plain": [
       "\u001b[1;31mInit signature:\u001b[0m \u001b[0marr\u001b[0m\u001b[1;33m.\u001b[0m\u001b[0marray\u001b[0m\u001b[1;33m(\u001b[0m\u001b[0mself\u001b[0m\u001b[1;33m,\u001b[0m \u001b[1;33m/\u001b[0m\u001b[1;33m,\u001b[0m \u001b[1;33m*\u001b[0m\u001b[0margs\u001b[0m\u001b[1;33m,\u001b[0m \u001b[1;33m**\u001b[0m\u001b[0mkwargs\u001b[0m\u001b[1;33m)\u001b[0m\u001b[1;33m\u001b[0m\u001b[1;33m\u001b[0m\u001b[0m\n",
       "\u001b[1;31mDocstring:\u001b[0m     \n",
       "array(typecode [, initializer]) -> array\n",
       "\n",
       "Return a new array whose items are restricted by typecode, and\n",
       "initialized from the optional initializer value, which must be a list,\n",
       "string or iterable over elements of the appropriate type.\n",
       "\n",
       "Arrays represent basic values and behave very much like lists, except\n",
       "the type of objects stored in them is constrained. The type is specified\n",
       "at object creation time by using a type code, which is a single character.\n",
       "The following type codes are defined:\n",
       "\n",
       "    Type code   C Type             Minimum size in bytes\n",
       "    'b'         signed integer     1\n",
       "    'B'         unsigned integer   1\n",
       "    'u'         Unicode character  2 (see note)\n",
       "    'h'         signed integer     2\n",
       "    'H'         unsigned integer   2\n",
       "    'i'         signed integer     2\n",
       "    'I'         unsigned integer   2\n",
       "    'l'         signed integer     4\n",
       "    'L'         unsigned integer   4\n",
       "    'q'         signed integer     8 (see note)\n",
       "    'Q'         unsigned integer   8 (see note)\n",
       "    'f'         floating-point     4\n",
       "    'd'         floating-point     8\n",
       "\n",
       "NOTE: The 'u' typecode corresponds to Python's unicode character. On\n",
       "narrow builds this is 2-bytes on wide builds this is 4-bytes.\n",
       "\n",
       "NOTE: The 'q' and 'Q' type codes are only available if the platform\n",
       "C compiler used to build Python supports 'long long', or, on Windows,\n",
       "'__int64'.\n",
       "\n",
       "Methods:\n",
       "\n",
       "append() -- append a new item to the end of the array\n",
       "buffer_info() -- return information giving the current memory info\n",
       "byteswap() -- byteswap all the items of the array\n",
       "count() -- return number of occurrences of an object\n",
       "extend() -- extend array by appending multiple elements from an iterable\n",
       "fromfile() -- read items from a file object\n",
       "fromlist() -- append items from the list\n",
       "frombytes() -- append items from the string\n",
       "index() -- return index of first occurrence of an object\n",
       "insert() -- insert a new item into the array at a provided position\n",
       "pop() -- remove and return item (default last)\n",
       "remove() -- remove first occurrence of an object\n",
       "reverse() -- reverse the order of the items in the array\n",
       "tofile() -- write all items to a file object\n",
       "tolist() -- return the array converted to an ordinary list\n",
       "tobytes() -- return the array converted to a string\n",
       "\n",
       "Attributes:\n",
       "\n",
       "typecode -- the typecode character used to create the array\n",
       "itemsize -- the length in bytes of one array item\n",
       "\u001b[1;31mType:\u001b[0m           type\n",
       "\u001b[1;31mSubclasses:\u001b[0m     "
      ]
     },
     "metadata": {},
     "output_type": "display_data"
    }
   ],
   "source": [
    "import array as arr\n",
    "arr.array?"
   ]
  },
  {
   "cell_type": "code",
   "execution_count": 7,
   "id": "3fd6324c-e098-4bbb-b368-166a8646012b",
   "metadata": {},
   "outputs": [
    {
     "name": "stdout",
     "output_type": "stream",
     "text": [
      "array('i', [1, 2, 3, 4, 5])\n",
      "1\n",
      "array('i', [1, 2, 3, 4, 5, 6])\n"
     ]
    }
   ],
   "source": [
    "import array as arr\n",
    "my_array=arr.array('i',[1,2,3,4,5])\n",
    "print(my_array)\n",
    "print(my_array[0])\n",
    "my_array.append(6)\n",
    "print(my_array)"
   ]
  },
  {
   "cell_type": "code",
   "execution_count": 16,
   "id": "6829d874-bcf2-4b1d-bab0-9adffc078bbe",
   "metadata": {},
   "outputs": [
    {
     "ename": "OverflowError",
     "evalue": "can't convert negative value to unsigned int",
     "output_type": "error",
     "traceback": [
      "\u001b[1;31m---------------------------------------------------------------------------\u001b[0m",
      "\u001b[1;31mOverflowError\u001b[0m                             Traceback (most recent call last)",
      "Cell \u001b[1;32mIn[16], line 2\u001b[0m\n\u001b[0;32m      1\u001b[0m \u001b[38;5;28;01mimport\u001b[39;00m\u001b[38;5;250m \u001b[39m\u001b[38;5;21;01marray\u001b[39;00m\u001b[38;5;250m \u001b[39m\u001b[38;5;28;01mas\u001b[39;00m\u001b[38;5;250m \u001b[39m\u001b[38;5;21;01marr\u001b[39;00m\n\u001b[1;32m----> 2\u001b[0m my_array\u001b[38;5;241m=\u001b[39marr\u001b[38;5;241m.\u001b[39marray(\u001b[38;5;124m'\u001b[39m\u001b[38;5;124mI\u001b[39m\u001b[38;5;124m'\u001b[39m,[\u001b[38;5;241m-\u001b[39m\u001b[38;5;241m1\u001b[39m,\u001b[38;5;241m-\u001b[39m\u001b[38;5;241m2\u001b[39m,\u001b[38;5;241m-\u001b[39m\u001b[38;5;241m3\u001b[39m,\u001b[38;5;241m-\u001b[39m\u001b[38;5;241m4\u001b[39m,\u001b[38;5;241m-\u001b[39m\u001b[38;5;241m5\u001b[39m])\n\u001b[0;32m      3\u001b[0m \u001b[38;5;28mprint\u001b[39m(my_array)\n",
      "\u001b[1;31mOverflowError\u001b[0m: can't convert negative value to unsigned int"
     ]
    }
   ],
   "source": [
    "import array as arr\n",
    "my_array=arr.array('I',[-1,-2,-3,-4,-5])\n",
    "print(my_array)\n"
   ]
  },
  {
   "cell_type": "code",
   "execution_count": 17,
   "id": "019b83a5-5095-4cf5-9358-2e4906136818",
   "metadata": {},
   "outputs": [
    {
     "name": "stdout",
     "output_type": "stream",
     "text": [
      "array('I', [1, 2, 3, 4, 5])\n"
     ]
    }
   ],
   "source": [
    "import array as arr\n",
    "my_array=arr.array('I',[1,2,3,4,5])\n",
    "print(my_array)\n"
   ]
  },
  {
   "cell_type": "code",
   "execution_count": 38,
   "id": "30331de0-759d-49f7-858b-b85c5dc70139",
   "metadata": {},
   "outputs": [
    {
     "name": "stdout",
     "output_type": "stream",
     "text": [
      "array('i', [1, 2, 3, 4, 5])\n"
     ]
    }
   ],
   "source": [
    "import array as arr\n",
    "my_array=arr.array('i',[1,2,3,4,5])\n",
    "print(my_array)\n"
   ]
  },
  {
   "cell_type": "code",
   "execution_count": 19,
   "id": "3eb620e7-f80f-44f9-82ae-a513b35604ed",
   "metadata": {},
   "outputs": [
    {
     "name": "stdout",
     "output_type": "stream",
     "text": [
      "[1 2 3 4 5]\n"
     ]
    }
   ],
   "source": [
    "import numpy as np\n",
    "numpy_array=np.array([1,2,3,4,5])\n",
    "print(numpy_array)"
   ]
  },
  {
   "cell_type": "code",
   "execution_count": 21,
   "id": "7870b3e9-cf28-409d-afb3-bc2489d25207",
   "metadata": {},
   "outputs": [
    {
     "name": "stdout",
     "output_type": "stream",
     "text": [
      "[1 2 3 4 5]\n",
      "[ 2  4  6  8 10]\n"
     ]
    }
   ],
   "source": [
    "import numpy as np\n",
    "numpy_array=np.array([1,2,3,4,5])\n",
    "print(numpy_array)\n",
    "print(numpy_array*2)"
   ]
  },
  {
   "cell_type": "code",
   "execution_count": 24,
   "id": "1868a1f7-6c8f-49e1-8864-a4f98729459e",
   "metadata": {},
   "outputs": [
    {
     "name": "stdout",
     "output_type": "stream",
     "text": [
      "[[1 2]\n",
      " [3 4]]\n"
     ]
    }
   ],
   "source": [
    "import numpy as np\n",
    "multi_dim_array=np.array([[1,2],[3,4]])\n",
    "print(multi_dim_array)"
   ]
  },
  {
   "cell_type": "code",
   "execution_count": 28,
   "id": "d8055686-344d-4bd5-9233-35a9eb7762ea",
   "metadata": {},
   "outputs": [
    {
     "name": "stdout",
     "output_type": "stream",
     "text": [
      "pro\n"
     ]
    }
   ],
   "source": [
    "import random\n",
    "friends=[\"pro\",\"kee\",\"sakthi\",\"charu\",\"sri\",\"abi\",\"akshu\",\"lavu\"]\n",
    "print(random.choice(friends))"
   ]
  },
  {
   "cell_type": "code",
   "execution_count": 45,
   "id": "4e59bb14-8774-42a0-bee3-5cbf336106b4",
   "metadata": {},
   "outputs": [
    {
     "name": "stdout",
     "output_type": "stream",
     "text": [
      "charu\n"
     ]
    }
   ],
   "source": [
    "import kee_module\n",
    "import random\n",
    "kee_module.friends     #adding the module file\n",
    "print(random.choice(friends))"
   ]
  },
  {
   "cell_type": "code",
   "execution_count": 52,
   "id": "cb588ac7-df08-47af-ae4d-1c8b65cafadd",
   "metadata": {},
   "outputs": [
    {
     "name": "stdout",
     "output_type": "stream",
     "text": [
      "sakthi\n"
     ]
    }
   ],
   "source": [
    "import kee_module\n",
    "import random\n",
    "kee_module.friends     #adding the module file\n",
    "print(random.choice(kee_module.friends))"
   ]
  },
  {
   "cell_type": "code",
   "execution_count": 56,
   "id": "60784b3b-8d11-44cb-b6cb-634119663e5c",
   "metadata": {},
   "outputs": [
    {
     "name": "stdout",
     "output_type": "stream",
     "text": [
      "sri\n"
     ]
    }
   ],
   "source": [
    "from f_files import friendsfile\n",
    "from f_files import fruitsfile\n",
    "print((random.choice(friendsfile.friends)))"
   ]
  },
  {
   "cell_type": "code",
   "execution_count": 58,
   "id": "c5d16800-77e6-48aa-978e-25895c0a8407",
   "metadata": {},
   "outputs": [
    {
     "name": "stdout",
     "output_type": "stream",
     "text": [
      "sri\n"
     ]
    }
   ],
   "source": [
    "import random\n",
    "friends=[\"pro\",\"kee\",\"sakthi\",\"charu\",\"sri\",\"abi\",\"akshu\",\"lavu\"]\n",
    "random_index=random.randint(0,4)\n",
    "print(friends[random_index])"
   ]
  },
  {
   "cell_type": "code",
   "execution_count": 62,
   "id": "08c8f831-9252-4a72-b9e2-16470b1313b9",
   "metadata": {},
   "outputs": [
    {
     "ename": "IndexError",
     "evalue": "list index out of range",
     "output_type": "error",
     "traceback": [
      "\u001b[1;31m---------------------------------------------------------------------------\u001b[0m",
      "\u001b[1;31mIndexError\u001b[0m                                Traceback (most recent call last)",
      "Cell \u001b[1;32mIn[62], line 4\u001b[0m\n\u001b[0;32m      2\u001b[0m friends\u001b[38;5;241m=\u001b[39m[\u001b[38;5;124m\"\u001b[39m\u001b[38;5;124mpro\u001b[39m\u001b[38;5;124m\"\u001b[39m,\u001b[38;5;124m\"\u001b[39m\u001b[38;5;124mkee\u001b[39m\u001b[38;5;124m\"\u001b[39m,\u001b[38;5;124m\"\u001b[39m\u001b[38;5;124msakthi\u001b[39m\u001b[38;5;124m\"\u001b[39m,\u001b[38;5;124m\"\u001b[39m\u001b[38;5;124mcharu\u001b[39m\u001b[38;5;124m\"\u001b[39m,\u001b[38;5;124m\"\u001b[39m\u001b[38;5;124msri\u001b[39m\u001b[38;5;124m\"\u001b[39m,\u001b[38;5;124m\"\u001b[39m\u001b[38;5;124mabi\u001b[39m\u001b[38;5;124m\"\u001b[39m,\u001b[38;5;124m\"\u001b[39m\u001b[38;5;124makshu\u001b[39m\u001b[38;5;124m\"\u001b[39m,\u001b[38;5;124m\"\u001b[39m\u001b[38;5;124mlavu\u001b[39m\u001b[38;5;124m\"\u001b[39m]\n\u001b[0;32m      3\u001b[0m random_index\u001b[38;5;241m=\u001b[39mrandom\u001b[38;5;241m.\u001b[39mrandint(\u001b[38;5;241m0\u001b[39m,\u001b[38;5;241m12\u001b[39m)\n\u001b[1;32m----> 4\u001b[0m \u001b[38;5;28mprint\u001b[39m(friends[random_index])\n",
      "\u001b[1;31mIndexError\u001b[0m: list index out of range"
     ]
    }
   ],
   "source": [
    "import random\n",
    "friends=[\"pro\",\"kee\",\"sakthi\",\"charu\",\"sri\",\"abi\",\"akshu\",\"lavu\"]\n",
    "random_index=random.randint(0,12)\n",
    "print(friends[random_index])"
   ]
  },
  {
   "cell_type": "code",
   "execution_count": 63,
   "id": "b96a9f6c-59d6-4901-9275-250460c4d767",
   "metadata": {},
   "outputs": [
    {
     "name": "stdout",
     "output_type": "stream",
     "text": [
      "<class 'list'>\n"
     ]
    }
   ],
   "source": [
    "fruits=[\"Apple\",\"Mango\",\"Graphes\",\"Pine apple\",\"Papaya\"]\n",
    "vegetables=[\"Spinach\",\"Kale\",\"Tomatoes\",\"Celery\",\"Potatoes\"]\n",
    "dirty_dozen=[fruits,vegetables]\n",
    "print(type(dirty_dozen))"
   ]
  },
  {
   "cell_type": "code",
   "execution_count": 64,
   "id": "79821a3c-54be-4cff-85b6-e96b88bcfa1a",
   "metadata": {},
   "outputs": [
    {
     "name": "stdout",
     "output_type": "stream",
     "text": [
      "Kale\n"
     ]
    }
   ],
   "source": [
    "fruits=[\"Apple\",\"Mango\",\"Graphes\",\"Pine apple\",\"Papaya\"]\n",
    "vegetables=[\"Spinach\",\"Kale\",\"Tomatoes\",\"Celery\",\"Potatoes\"]\n",
    "dirty_dozen=[fruits,vegetables]\n",
    "print(dirty_dozen[1][1])"
   ]
  },
  {
   "cell_type": "code",
   "execution_count": 65,
   "id": "d8396d51-b4e5-422f-8094-1f4452643072",
   "metadata": {},
   "outputs": [
    {
     "name": "stdout",
     "output_type": "stream",
     "text": [
      "[['Apple', 'Mango', 'Graphes', 'Pine apple', 'Papaya'], ['Spinach', 'Kale', 'Tomatoes', 'Celery', 'Potatoes']]\n"
     ]
    }
   ],
   "source": [
    "fruits=[\"Apple\",\"Mango\",\"Graphes\",\"Pine apple\",\"Papaya\"]\n",
    "vegetables=[\"Spinach\",\"Kale\",\"Tomatoes\",\"Celery\",\"Potatoes\"]\n",
    "dirty_dozen=[fruits,vegetables]\n",
    "print(dirty_dozen)"
   ]
  },
  {
   "cell_type": "code",
   "execution_count": 69,
   "id": "559985af-12f2-4242-91ae-8bb18279b58d",
   "metadata": {},
   "outputs": [
    {
     "name": "stdout",
     "output_type": "stream",
     "text": [
      "Random item: Pine apple\n"
     ]
    }
   ],
   "source": [
    "my_list=[\"Apple\",\"Mango\",\"Graphes\",\"Pine apple\",\"Papaya\"]\n",
    "random_item=random.choice(my_list)\n",
    "print(f\"Random item: {random_item}\") #single random element\n",
    "\n",
    "random_sample_unique=random.sample(my_list,3)\n",
    "print(f\"Random sample(unique): {random_sample_unique}\")  #3 unique random element\n",
    "\n",
    "random_numbers=\n"
   ]
  },
  {
   "cell_type": "code",
   "execution_count": 74,
   "id": "cbca91f5-e60b-4948-8795-3dc7aa276b39",
   "metadata": {},
   "outputs": [
    {
     "name": "stdin",
     "output_type": "stream",
     "text": [
      "index1 0\n",
      "index2 2\n"
     ]
    },
    {
     "name": "stdout",
     "output_type": "stream",
     "text": [
      "peaches\n"
     ]
    }
   ],
   "source": [
    "fruits=[\"Apples\",\"graphes\",\"peaches\"]\n",
    "veg=[\"spinach\",\"kale\",\"celery\"]\n",
    "dirty_dozen=[fruits,veg]\n",
    "index1=random.randint(0,1)\n",
    "index2=random.randint(0,2)\n",
    "print(dirty_dozen[int(input(\"index1\"))][int(input(\"index2\"))])"
   ]
  },
  {
   "cell_type": "code",
   "execution_count": 1,
   "id": "3cb1695a-93e0-491f-b862-71192f0a29a5",
   "metadata": {},
   "outputs": [
    {
     "name": "stdin",
     "output_type": "stream",
     "text": [
      "Enter index1 2\n",
      "Enter Index2 0\n"
     ]
    },
    {
     "name": "stdout",
     "output_type": "stream",
     "text": [
      "Dirty dozen exceeds values\n"
     ]
    }
   ],
   "source": [
    "fruits=[\"Apples\",\"graphes\",\"peaches\"]\n",
    "veg=[\"spinach\",\"kale\",\"celery\",\"drumsticks\"]\n",
    "dirty_dozen=[fruits,veg]\n",
    "index1=int(input(\"Enter index1\"))\n",
    "index2=int(input(\"Enter Index2\"))\n",
    "if(0<=index1<len(dirty_dozen)):\n",
    "    if(0<=index2<len(fruits) and index1==0):\n",
    "        print(dirty_dozen[index1][index2])\n",
    "    elif(0<=index2<len(veg) and index1==1):\n",
    "        print(dirty_dozen[index1][index2])\n",
    "    else:\n",
    "        print(\"invalid values\")\n",
    "else:\n",
    "    print(\"Dirty dozen exceeds values\")"
   ]
  },
  {
   "cell_type": "code",
   "execution_count": 2,
   "id": "04b59487-2462-46e9-9d93-eecd7829c470",
   "metadata": {},
   "outputs": [
    {
     "name": "stdout",
     "output_type": "stream",
     "text": [
      "Apples\n",
      "ApplesPie\n",
      "graphes\n",
      "graphesPie\n",
      "peaches\n",
      "peachesPie\n"
     ]
    }
   ],
   "source": [
    "fruits=[\"Apples\",\"graphes\",\"peaches\"]\n",
    "for fruit in fruits:\n",
    "    print(fruit)\n",
    "    print(fruit + \"Pie\")"
   ]
  },
  {
   "cell_type": "code",
   "execution_count": 5,
   "id": "7b0feb8c-1587-4349-a66a-d8c3dbc2fef8",
   "metadata": {},
   "outputs": [
    {
     "name": "stdout",
     "output_type": "stream",
     "text": [
      "Apples\n",
      "Apples + Pie\n",
      "graphes\n",
      "graphes + Pie\n",
      "peaches\n",
      "peaches + Pie\n"
     ]
    }
   ],
   "source": [
    "fruits=[\"Apples\",\"graphes\",\"peaches\"]\n",
    "for fruit in fruits:\n",
    "    print(fruit)\n",
    "    print(f\"{fruit} + Pie\")"
   ]
  },
  {
   "cell_type": "code",
   "execution_count": 13,
   "id": "ddc56c74-1288-4a07-b476-c3b6173fcf94",
   "metadata": {},
   "outputs": [
    {
     "name": "stdout",
     "output_type": "stream",
     "text": [
      "peaches\n",
      "peaches pie\n",
      "peaches\n",
      "peaches pie\n",
      "peaches\n",
      "peaches pie\n",
      "peaches\n",
      "peaches pie\n",
      "peaches\n",
      "peaches pie\n",
      "peaches\n",
      "peaches pie\n"
     ]
    }
   ],
   "source": [
    "for index in dirty_dozen:\n",
    "    for fruits in dirty_dozen[0]:\n",
    "        print(fruit)\n",
    "        print(fruit +\" pie\")"
   ]
  },
  {
   "cell_type": "code",
   "execution_count": 16,
   "id": "14769012-500d-4d01-a5f7-9303b7ec8d4d",
   "metadata": {},
   "outputs": [
    {
     "name": "stdout",
     "output_type": "stream",
     "text": [
      "Apples\n",
      "Apples Pie\n",
      "graphes\n",
      "graphes Pie\n",
      "peaches\n",
      "peaches Pie\n",
      "Apples\n",
      "Apples Pie\n",
      "graphes\n",
      "graphes Pie\n",
      "peaches\n",
      "peaches Pie\n"
     ]
    }
   ],
   "source": [
    "for index in range(0,len(dirty_dozen)):\n",
    "    for fruit in dirty_dozen[0]:\n",
    "        print(fruit)\n",
    "        print(fruit+\" Pie\")"
   ]
  },
  {
   "cell_type": "code",
   "execution_count": 31,
   "id": "697a5cae-2a2a-4f7d-8698-9ba09c5b8c52",
   "metadata": {},
   "outputs": [
    {
     "name": "stdin",
     "output_type": "stream",
     "text": [
      "No of elements to be sumed 5\n",
      "Enter Element 1\n"
     ]
    },
    {
     "name": "stdout",
     "output_type": "stream",
     "text": [
      "1\n"
     ]
    },
    {
     "name": "stdin",
     "output_type": "stream",
     "text": [
      "Enter Element 6\n"
     ]
    },
    {
     "name": "stdout",
     "output_type": "stream",
     "text": [
      "7\n"
     ]
    },
    {
     "name": "stdin",
     "output_type": "stream",
     "text": [
      "Enter Element 9\n"
     ]
    },
    {
     "name": "stdout",
     "output_type": "stream",
     "text": [
      "16\n"
     ]
    },
    {
     "name": "stdin",
     "output_type": "stream",
     "text": [
      "Enter Element 6\n"
     ]
    },
    {
     "name": "stdout",
     "output_type": "stream",
     "text": [
      "22\n"
     ]
    },
    {
     "name": "stdin",
     "output_type": "stream",
     "text": [
      "Enter Element 4\n"
     ]
    },
    {
     "name": "stdout",
     "output_type": "stream",
     "text": [
      "26\n"
     ]
    }
   ],
   "source": [
    "#1st question\n",
    "n=int(input(\"No of elements to be sumed\"))\n",
    "marks=[]\n",
    "for i in range(0,n):\n",
    "    marks.append(int(input(\"Enter Element\")))\n",
    "    total=sum(marks)\n",
    "    print(total)"
   ]
  },
  {
   "cell_type": "code",
   "execution_count": 35,
   "id": "03d3ebaa-38ea-46e1-8e6b-a880de50eeb7",
   "metadata": {},
   "outputs": [
    {
     "name": "stdin",
     "output_type": "stream",
     "text": [
      "Enter a number 30\n"
     ]
    },
    {
     "name": "stdout",
     "output_type": "stream",
     "text": [
      "FizzBuzz\n"
     ]
    }
   ],
   "source": [
    "#2nd question\n",
    "number=int(input(\"Enter a number\"))\n",
    "if(number%3==0 and number%5==0):\n",
    "    print(\"FizzBuzz\")\n",
    "elif(number%3==0 or number%5==0):\n",
    "    if(number%3==0):\n",
    "        print(\"Fizz\")\n",
    "    else:\n",
    "        print(\"Buzz\")\n",
    "else:\n",
    "    print(\"Invalid\")\n",
    "    "
   ]
  },
  {
   "cell_type": "code",
   "execution_count": 44,
   "id": "366da237-137d-43fc-9712-7769704fd16e",
   "metadata": {},
   "outputs": [
    {
     "name": "stdin",
     "output_type": "stream",
     "text": [
      "Enter the weight 70\n",
      "Enter the height 1.75\n"
     ]
    },
    {
     "name": "stdout",
     "output_type": "stream",
     "text": [
      "22.86\n",
      "Normal weight\n"
     ]
    }
   ],
   "source": [
    "#BMI question\n",
    "weight=input(\"Enter the weight\")\n",
    "height=input(\"Enter the height\")\n",
    "weight1=float(weight)\n",
    "height1=float(height)\n",
    "bmi=round(weight1/(height1 * height1),2)\n",
    "print(bmi)\n",
    "if(bmi<0 and bmi<18.5):\n",
    "    print(\"Under weight\")\n",
    "elif(bmi>=18.5 and bmi<24.9):\n",
    "    print(\"Normal weight\")\n",
    "elif(bmi>25 and bmi<=29.9):\n",
    "    print(\"Over weight\")\n",
    "elif(bmi>=30):\n",
    "    print(\"Obesity\")\n",
    "else:\n",
    "    print(\"Invalid\")\n",
    "\n"
   ]
  },
  {
   "cell_type": "code",
   "execution_count": null,
   "id": "9b1ed5a2-2d97-4e03-8414-9272ae02adc0",
   "metadata": {},
   "outputs": [],
   "source": [
    "#anagrams\n",
    "s1=input(\"Enter a word\")\n",
    "s2=input(\"Enter a word\")\n"
   ]
  },
  {
   "cell_type": "code",
   "execution_count": 56,
   "id": "314f1335-c196-46fe-ad6f-229a3bdf1139",
   "metadata": {},
   "outputs": [
    {
     "name": "stdin",
     "output_type": "stream",
     "text": [
      "Enter a password hsDF#$%16473\n"
     ]
    },
    {
     "name": "stdout",
     "output_type": "stream",
     "text": [
      "Strong\n"
     ]
    }
   ],
   "source": [
    "#password check\n",
    "password=input(\"Enter a password\")\n",
    "specialchar=[\"!\",\"@\",\"#\",\"$\",\"%\",\"^\",\"&\",\"*\",\"(\",\")\",\"-\",\"_\",\"=\",\"+\",\":\",\";\",\"<\",\">\",\"?\",\"/\"]\n",
    "lowcount=0\n",
    "upcount=0\n",
    "digitcount=0\n",
    "charr=0\n",
    "specialcharr=0\n",
    "if(len(password)>8):\n",
    "    for i in password:\n",
    "        if(i.islower()):\n",
    "            lowcount +=1\n",
    "        elif(i.isupper()):\n",
    "            upcount +=1\n",
    "        elif(i.isdigit()):\n",
    "            digitcount+=1\n",
    "        elif(i in specialchar):\n",
    "            specialcharr+=1\n",
    "        else:\n",
    "            charr+=1\n",
    "    if(lowcount>=1 and upcount>=1 and digitcount>=1 and specialcharr>=2):\n",
    "        if(specialcharr==2):\n",
    "            print(\"valid\")\n",
    "        elif(specialcharr>2 and specialcharr<=4):\n",
    "            print(\"Strong\")\n",
    "        elif(specialcharr>4):\n",
    "            print(\"Very strong\")\n",
    "        else:\n",
    "            print(\"Not valid special characters\")\n",
    "    else:\n",
    "        print(\"Not valid strengh checkers\")\n",
    "else:\n",
    "    print(\"Invalid password length\")\n",
    "\n"
   ]
  },
  {
   "cell_type": "code",
   "execution_count": 57,
   "id": "be1d9eef-d565-496b-aff4-0def72536963",
   "metadata": {},
   "outputs": [
    {
     "name": "stdout",
     "output_type": "stream",
     "text": [
      "1\n",
      "2\n",
      "3\n",
      "4\n"
     ]
    }
   ],
   "source": [
    "mylist=[1,2,3,4,5]\n",
    "for element in mylist:\n",
    "    print(element)\n",
    "    if(element==4):\n",
    "        break\n",
    "    else:\n",
    "        continue\n",
    "        "
   ]
  },
  {
   "cell_type": "code",
   "execution_count": 64,
   "id": "fd6f3ff5-eaf2-4d24-aaad-2dd90cd8cf99",
   "metadata": {},
   "outputs": [
    {
     "name": "stdout",
     "output_type": "stream",
     "text": [
      "1\n",
      "2\n",
      "3\n"
     ]
    }
   ],
   "source": [
    "mylist=[1,2,3,4,5]\n",
    "for element in mylist:\n",
    "   \n",
    "    if(element==4):\n",
    "        break\n",
    "    else:\n",
    "        pass\n",
    "    print(element)\n",
    "        "
   ]
  },
  {
   "cell_type": "code",
   "execution_count": 73,
   "id": "97caf6e6-e462-4ba1-9a70-f9ae2aa1cf9f",
   "metadata": {},
   "outputs": [
    {
     "name": "stdout",
     "output_type": "stream",
     "text": [
      "k\n",
      "e\n",
      "e\n",
      "r\n",
      "t\n",
      "h\n",
      "i\n",
      "k\n",
      "a\n"
     ]
    }
   ],
   "source": [
    "name=\"keerthika\"\n",
    "charlist=[]\n",
    "for c in name:\n",
    "    print(c)\n",
    "    charlist.append(c)\n",
    "    list1=charlist\n",
    "    charlist.sort()"
   ]
  },
  {
   "cell_type": "code",
   "execution_count": 79,
   "id": "a9464e56-25ff-497e-b470-7350e25aa3a9",
   "metadata": {},
   "outputs": [
    {
     "name": "stdout",
     "output_type": "stream",
     "text": [
      "k\n",
      "e\n",
      "e\n",
      "r\n",
      "t\n",
      "h\n",
      "i\n",
      "k\n",
      "a\n"
     ]
    }
   ],
   "source": [
    "name=\"keerthika\"\n",
    "charlist=[]\n",
    "for c in name:\n",
    "    print(c)\n",
    "    charlist.append(c)\n",
    "charlist.sort()\n",
    "\n"
   ]
  },
  {
   "cell_type": "code",
   "execution_count": 81,
   "id": "d0068e5e-3cff-4c2d-a0d7-59aade0d4fbf",
   "metadata": {},
   "outputs": [
    {
     "name": "stdout",
     "output_type": "stream",
     "text": [
      "keerthika\n",
      "['a', 'e', 'e', 'h', 'i', 'k', 'k', 'r', 't']\n"
     ]
    }
   ],
   "source": [
    "name=\"keerthika\"\n",
    "sorted_word=sorted(name)\n",
    "print(name)\n",
    "print(sorted_word)"
   ]
  },
  {
   "cell_type": "code",
   "execution_count": null,
   "id": "232c80c2-7504-4f04-8558-3209899fa640",
   "metadata": {},
   "outputs": [],
   "source": [
    "name=\"keerthi\"\n",
    "for i in "
   ]
  }
 ],
 "metadata": {
  "kernelspec": {
   "display_name": "Python [conda env:base] *",
   "language": "python",
   "name": "conda-base-py"
  },
  "language_info": {
   "codemirror_mode": {
    "name": "ipython",
    "version": 3
   },
   "file_extension": ".py",
   "mimetype": "text/x-python",
   "name": "python",
   "nbconvert_exporter": "python",
   "pygments_lexer": "ipython3",
   "version": "3.13.5"
  }
 },
 "nbformat": 4,
 "nbformat_minor": 5
}
