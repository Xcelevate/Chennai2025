{
 "cells": [
  {
   "cell_type": "code",
   "execution_count": 8,
   "id": "c4a0d3e0-200f-4882-b94a-52dcfa3bb1f7",
   "metadata": {},
   "outputs": [
    {
     "name": "stdout",
     "output_type": "stream",
     "text": [
      "3\n",
      "2.937843678148402\n"
     ]
    }
   ],
   "source": [
    "import random\n",
    "randomint=random.randint(1,10)\n",
    "print(randomint)\n",
    "print(random.random()*10)\n"
   ]
  },
  {
   "cell_type": "code",
   "execution_count": 19,
   "id": "392cd0ca-0d0a-4e4f-9262-6ea15a70416a",
   "metadata": {},
   "outputs": [],
   "source": [
    "import my_trail"
   ]
  },
  {
   "cell_type": "code",
   "execution_count": 26,
   "id": "4e6ba75f-6d7d-4552-9b36-a0a80fbd9f0b",
   "metadata": {},
   "outputs": [
    {
     "data": {
      "text/plain": [
       "123"
      ]
     },
     "execution_count": 26,
     "metadata": {},
     "output_type": "execute_result"
    }
   ],
   "source": [
    "my_trail.example"
   ]
  },
  {
   "cell_type": "code",
   "execution_count": 2,
   "id": "fc248d27-0c49-4916-b12f-e8a0fcfff6ce",
   "metadata": {},
   "outputs": [],
   "source": [
    "import my_chec"
   ]
  },
  {
   "cell_type": "code",
   "execution_count": 3,
   "id": "ee71d6ec-556b-491d-9df2-b528d4a0bc8d",
   "metadata": {},
   "outputs": [
    {
     "data": {
      "text/plain": [
       "123"
      ]
     },
     "execution_count": 3,
     "metadata": {},
     "output_type": "execute_result"
    }
   ],
   "source": [
    "my_chec.sample"
   ]
  },
  {
   "cell_type": "code",
   "execution_count": 9,
   "id": "0e070141-fd92-451c-8d74-ef91dee38f31",
   "metadata": {},
   "outputs": [
    {
     "name": "stdout",
     "output_type": "stream",
     "text": [
      "4.957573693399246\n"
     ]
    }
   ],
   "source": [
    "randfloat=random.uniform(1,10)\n",
    "print(randfloat)"
   ]
  },
  {
   "cell_type": "code",
   "execution_count": 10,
   "id": "2beb2751-a9e9-4e8b-92a4-7381d0c45f79",
   "metadata": {},
   "outputs": [
    {
     "name": "stdout",
     "output_type": "stream",
     "text": [
      "7.506776624740423\n"
     ]
    }
   ],
   "source": [
    "randfloat=random.uniform(1,10)\n",
    "print(randfloat)"
   ]
  },
  {
   "cell_type": "code",
   "execution_count": 11,
   "id": "09296793-1086-4bef-80d3-14fa94f70c9d",
   "metadata": {},
   "outputs": [
    {
     "name": "stdout",
     "output_type": "stream",
     "text": [
      "3.809129288442637\n"
     ]
    }
   ],
   "source": [
    "randfloat=random.uniform(1,10)\n",
    "print(randfloat)"
   ]
  },
  {
   "cell_type": "code",
   "execution_count": 17,
   "id": "05c2cc94-8870-4947-ac5e-c634134ee724",
   "metadata": {},
   "outputs": [
    {
     "name": "stdout",
     "output_type": "stream",
     "text": [
      "6.49\n"
     ]
    }
   ],
   "source": [
    "randfloat=round(random.uniform(1,10),2)\n",
    "print(randfloat)"
   ]
  },
  {
   "cell_type": "code",
   "execution_count": 13,
   "id": "ed3a918f-6c6c-4a70-92e5-6dc64613edc9",
   "metadata": {},
   "outputs": [
    {
     "name": "stdout",
     "output_type": "stream",
     "text": [
      "3\n"
     ]
    }
   ],
   "source": [
    "randomint=random.randint(1,10)\n",
    "print(randomint)"
   ]
  },
  {
   "cell_type": "code",
   "execution_count": 14,
   "id": "018c573b-e524-4b17-9b4c-ae843bdf8a43",
   "metadata": {},
   "outputs": [
    {
     "name": "stdout",
     "output_type": "stream",
     "text": [
      "1\n"
     ]
    }
   ],
   "source": [
    "randomint=random.randint(1,10)\n",
    "print(randomint)"
   ]
  },
  {
   "cell_type": "code",
   "execution_count": 15,
   "id": "7b81365a-7db5-4364-94a3-bf1a00369f2e",
   "metadata": {},
   "outputs": [
    {
     "name": "stdout",
     "output_type": "stream",
     "text": [
      "5\n"
     ]
    }
   ],
   "source": [
    "randomint=random.randint(1,10)\n",
    "print(randomint)"
   ]
  },
  {
   "cell_type": "code",
   "execution_count": 20,
   "id": "3b9075b1-0a65-4342-881b-b44cdd8f6052",
   "metadata": {},
   "outputs": [
    {
     "name": "stdout",
     "output_type": "stream",
     "text": [
      "0\n",
      "Head\n"
     ]
    }
   ],
   "source": [
    "randbinary=random.randint(0,1)\n",
    "print(randbinary)\n",
    "if(randbinary==0):\n",
    "    print(\"Head\")\n",
    "else:\n",
    "    print(\"Tail\")"
   ]
  },
  {
   "cell_type": "code",
   "execution_count": 21,
   "id": "46849990-bfbd-4a3c-903f-1673baaf0f00",
   "metadata": {},
   "outputs": [
    {
     "name": "stdout",
     "output_type": "stream",
     "text": [
      "1\n",
      "Tail\n"
     ]
    }
   ],
   "source": [
    "randbinary=random.randint(0,1)\n",
    "print(randbinary)\n",
    "if(randbinary==0):\n",
    "    print(\"Head\")\n",
    "else:\n",
    "    print(\"Tail\")"
   ]
  },
  {
   "cell_type": "code",
   "execution_count": 24,
   "id": "ff76bab9-a6a9-4fe8-b4f8-b243c313a6ac",
   "metadata": {},
   "outputs": [
    {
     "data": {
      "text/plain": [
       "False"
      ]
     },
     "execution_count": 24,
     "metadata": {},
     "output_type": "execute_result"
    }
   ],
   "source": [
    "not(True or(True&False)&(False&True)&False)"
   ]
  },
  {
   "cell_type": "code",
   "execution_count": 32,
   "id": "ade1b02f-56b9-46b8-92f6-1ee4b94b1a22",
   "metadata": {},
   "outputs": [
    {
     "data": {
      "text/plain": [
       "True"
      ]
     },
     "execution_count": 32,
     "metadata": {},
     "output_type": "execute_result"
    }
   ],
   "source": [
    "(True or False) and not(True and False)\n"
   ]
  },
  {
   "cell_type": "code",
   "execution_count": 33,
   "id": "c734e014-eb22-4101-b0aa-396f294ed142",
   "metadata": {},
   "outputs": [
    {
     "data": {
      "text/plain": [
       "True"
      ]
     },
     "execution_count": 33,
     "metadata": {},
     "output_type": "execute_result"
    }
   ],
   "source": [
    "(True and not False) or(False and not True)"
   ]
  },
  {
   "cell_type": "code",
   "execution_count": 37,
   "id": "7808df87-507f-4f67-a00c-335a76e432a8",
   "metadata": {},
   "outputs": [
    {
     "name": "stdin",
     "output_type": "stream",
     "text": [
      "True or False True\n",
      "True or false \n"
     ]
    },
    {
     "name": "stdout",
     "output_type": "stream",
     "text": [
      "True\n",
      "True\n"
     ]
    }
   ],
   "source": [
    "A=bool(input(\"True or False\"))\n",
    "B=bool(input(\"True or false\"))\n",
    "C=(A or B) and not(A and B)\n",
    "D=(A and not B) or(B and not A)\n",
    "print(C)\n",
    "print(D)"
   ]
  },
  {
   "cell_type": "code",
   "execution_count": 36,
   "id": "1d5ec862-5557-40f1-a329-2462fcd8ee29",
   "metadata": {},
   "outputs": [
    {
     "name": "stdout",
     "output_type": "stream",
     "text": [
      "<class 'bool'>\n"
     ]
    }
   ],
   "source": [
    "A=bool(\"True\")\n",
    "print(type(A))"
   ]
  },
  {
   "cell_type": "code",
   "execution_count": 38,
   "id": "39ce6862-862d-4446-96e6-59082e4fef65",
   "metadata": {},
   "outputs": [
    {
     "name": "stdin",
     "output_type": "stream",
     "text": [
      "Empty or Not \n",
      "Empty or Not Empty\n"
     ]
    },
    {
     "name": "stdout",
     "output_type": "stream",
     "text": [
      "True\n",
      "True\n"
     ]
    }
   ],
   "source": [
    "A=bool(input(\"Empty or Not\"))\n",
    "B=bool(input(\"Empty or Not\"))\n",
    "C=(A or B) and not(A and B)\n",
    "D=(A and not B) or(B and not A)\n",
    "print(C)\n",
    "print(D)"
   ]
  },
  {
   "cell_type": "code",
   "execution_count": 39,
   "id": "d64f478a-bf35-4d28-a6b9-9ecba11aac80",
   "metadata": {},
   "outputs": [
    {
     "name": "stdin",
     "output_type": "stream",
     "text": [
      "True or False True\n",
      "True or false True\n"
     ]
    },
    {
     "name": "stdout",
     "output_type": "stream",
     "text": [
      "False\n",
      "False\n"
     ]
    }
   ],
   "source": [
    "A=bool(input(\"True or False\"))\n",
    "B=bool(input(\"True or false\"))\n",
    "C=not(A and B)\n",
    "D=not(A or B)\n",
    "print(C)\n",
    "print(D)"
   ]
  },
  {
   "cell_type": "code",
   "execution_count": 40,
   "id": "8129c060-f22e-4487-9bde-b1698c670707",
   "metadata": {},
   "outputs": [
    {
     "data": {
      "text/plain": [
       "False"
      ]
     },
     "execution_count": 40,
     "metadata": {},
     "output_type": "execute_result"
    }
   ],
   "source": [
    "((not(2!=3)and (4<6))or((6!=7) and(8<2)))"
   ]
  },
  {
   "cell_type": "code",
   "execution_count": 48,
   "id": "52ff1b2a-24b1-4db4-a100-4247b955998e",
   "metadata": {},
   "outputs": [
    {
     "name": "stdin",
     "output_type": "stream",
     "text": [
      "Enter your number 55\n"
     ]
    },
    {
     "name": "stdout",
     "output_type": "stream",
     "text": [
      "odd\n"
     ]
    }
   ],
   "source": [
    "i=int(input(\"Enter your number\"))\n",
    "if(i%2==0):\n",
    " print(\"even\")\n",
    "else:\n",
    " print(\"odd\")"
   ]
  },
  {
   "cell_type": "code",
   "execution_count": 47,
   "id": "fe7168aa-b669-4ca0-a500-f75f08bee2ea",
   "metadata": {},
   "outputs": [
    {
     "name": "stdin",
     "output_type": "stream",
     "text": [
      "Enter your number 55\n",
      "Enter your number 55\n"
     ]
    },
    {
     "name": "stdout",
     "output_type": "stream",
     "text": [
      "equal to\n"
     ]
    }
   ],
   "source": [
    "a=int(input(\"Enter your number\"))\n",
    "b=int(input(\"Enter your number\"))\n",
    "if(a>b):\n",
    "    print(\"Greater Than\")\n",
    "elif(a<b):\n",
    "    print(\"Lesser Than\")\n",
    "else:\n",
    "    print(\"equal to\")"
   ]
  },
  {
   "cell_type": "code",
   "execution_count": 49,
   "id": "3a1b9cd6-7145-4777-b8c5-8b1d208a4814",
   "metadata": {},
   "outputs": [
    {
     "name": "stdin",
     "output_type": "stream",
     "text": [
      "Enter your number 28\n"
     ]
    },
    {
     "name": "stdout",
     "output_type": "stream",
     "text": [
      "even\n"
     ]
    }
   ],
   "source": [
    "i=int(input(\"Enter your number\"))\n",
    "if(i%2==0):\n",
    " print(\"even\")\n",
    "else:\n",
    " print(\"odd\")\n"
   ]
  },
  {
   "cell_type": "code",
   "execution_count": 50,
   "id": "c318aaac-bfd5-4a56-9a1b-23c30d877952",
   "metadata": {},
   "outputs": [
    {
     "name": "stdin",
     "output_type": "stream",
     "text": [
      "Enter your number 55\n",
      "Enter your number 58\n"
     ]
    },
    {
     "name": "stdout",
     "output_type": "stream",
     "text": [
      "Lesser Than\n"
     ]
    }
   ],
   "source": [
    "a=int(input(\"Enter your number\"))\n",
    "b=int(input(\"Enter your number\"))\n",
    "if(a>b):\n",
    "    print(\"Greater Than\")\n",
    "elif(a<b):\n",
    "    print(\"Lesser Than\")\n",
    "else:\n",
    "    print(\"equal to\")"
   ]
  },
  {
   "cell_type": "code",
   "execution_count": 52,
   "id": "3ca67e63-23bf-43c6-8cbc-1a01ef2f5478",
   "metadata": {},
   "outputs": [
    {
     "name": "stdin",
     "output_type": "stream",
     "text": [
      "Enter your number 25\n",
      "Enter your number 20\n"
     ]
    },
    {
     "name": "stdout",
     "output_type": "stream",
     "text": [
      "Greater Than\n"
     ]
    }
   ],
   "source": [
    "a=int(input(\"Enter your number\"))\n",
    "b=int(input(\"Enter your number\"))\n",
    "if(a>b):\n",
    "    print(\"Greater Than\")\n",
    "elif(a<b):\n",
    "    print(\"Lesser Than\")\n",
    "else:\n",
    "    print(\"equal to\")"
   ]
  },
  {
   "cell_type": "code",
   "execution_count": 61,
   "id": "3b04b13e-9829-4579-a371-5ef4ee019e99",
   "metadata": {},
   "outputs": [
    {
     "name": "stdin",
     "output_type": "stream",
     "text": [
      "Enter your marks -26\n"
     ]
    },
    {
     "name": "stdout",
     "output_type": "stream",
     "text": [
      "Invalid marks\n"
     ]
    }
   ],
   "source": [
    "marks=int(input(\"Enter your marks\"))\n",
    "if(type(marks==int)):\n",
    " if(marks>0):\n",
    "  if(marks>=90):\n",
    "    print(\"A\")\n",
    "  elif(marks<90 and marks>=75):\n",
    "    print(\"B\")\n",
    "  elif(marks<75 and marks>=60):\n",
    "    print(\"C\")\n",
    "  elif(marks<60 and marks>=40):\n",
    "    print(\"D\")\n",
    "  else:\n",
    "    print(\"Fail\")\n",
    " else:\n",
    "    print(\"Invalid marks\")"
   ]
  },
  {
   "cell_type": "code",
   "execution_count": 64,
   "id": "841de1ca-58a6-46aa-a9fc-9b9935eef1cc",
   "metadata": {},
   "outputs": [
    {
     "name": "stdin",
     "output_type": "stream",
     "text": [
      "Enter a word mom\n"
     ]
    },
    {
     "name": "stdout",
     "output_type": "stream",
     "text": [
      "Palindrome\n"
     ]
    }
   ],
   "source": [
    "text=input(\"Enter a word\")\n",
    "text=text.lower()\n",
    "if(text==text[::-1]):\n",
    "   print(\"Palindrome\")\n",
    "else:\n",
    "   print(\"Not a palindrome\")"
   ]
  },
  {
   "cell_type": "code",
   "execution_count": 65,
   "id": "1e38218b-a3e1-4a4f-8a60-0f797f351b70",
   "metadata": {},
   "outputs": [
    {
     "name": "stdin",
     "output_type": "stream",
     "text": [
      "Enter a word RAM\n"
     ]
    },
    {
     "name": "stdout",
     "output_type": "stream",
     "text": [
      "Not a palindrome\n"
     ]
    }
   ],
   "source": [
    "text=input(\"Enter a word\")\n",
    "text=text.lower()\n",
    "if(text==text[::-1]):\n",
    "   print(\"Palindrome\")\n",
    "else:\n",
    "   print(\"Not a palindrome\")\n"
   ]
  },
  {
   "cell_type": "code",
   "execution_count": 88,
   "id": "749ba0bf-82ca-4722-ba51-57ede62bd41d",
   "metadata": {},
   "outputs": [
    {
     "name": "stdin",
     "output_type": "stream",
     "text": [
      "Enter a year:  2000\n"
     ]
    },
    {
     "name": "stdout",
     "output_type": "stream",
     "text": [
      "2000 is a leap year\n"
     ]
    }
   ],
   "source": [
    "year = input(\"Enter a year: \")\n",
    "if year.isdigit() and len(year) == 4 and int(year)>0 :\n",
    "    year=int(year)\n",
    "    if (year % 4 == 0 and year % 100 != 0) or (year % 400 == 0):\n",
    "        print(year, \"is a leap year\")\n",
    "    else:\n",
    "        print(year, \"is not a leap year\")\n",
    "else:\n",
    "    print(\"Invalid year\")\n"
   ]
  },
  {
   "cell_type": "code",
   "execution_count": 68,
   "id": "548c3ecd-b89f-49d0-89af-016154fe68e0",
   "metadata": {},
   "outputs": [
    {
     "name": "stdout",
     "output_type": "stream",
     "text": [
      "True\n",
      "False\n",
      "True\n",
      "False\n",
      "True\n",
      "True\n"
     ]
    }
   ],
   "source": [
    "a=\"python\"\n",
    "b=\"12345\"\n",
    "print(a.isalpha())\n",
    "print(a.isdigit())\n",
    "print(a.startswith(\"p\"))\n",
    "print(b.isalpha())\n",
    "print(b.isdigit())\n",
    "print(b.startswith(\"1\"))"
   ]
  },
  {
   "cell_type": "code",
   "execution_count": 69,
   "id": "28aa2f7f-9833-41b1-b61c-52cec67b5ee6",
   "metadata": {},
   "outputs": [
    {
     "name": "stdout",
     "output_type": "stream",
     "text": [
      "True\n"
     ]
    }
   ],
   "source": [
    "str=\"ab123c\"\n",
    "print(str.isalnum())"
   ]
  },
  {
   "cell_type": "code",
   "execution_count": 73,
   "id": "b4e802fe-6d66-4972-886f-f0a837c7b0ff",
   "metadata": {},
   "outputs": [
    {
     "name": "stdin",
     "output_type": "stream",
     "text": [
      " 0112255\n"
     ]
    },
    {
     "name": "stdout",
     "output_type": "stream",
     "text": [
      "True\n",
      "False\n",
      "False\n"
     ]
    }
   ],
   "source": [
    "a=input()\n",
    "print(a.startswith(\"01\"))\n",
    "print(a.startswith(\"01\",3))\n",
    "print(a.startswith(\"01\",3,4))\n",
    "            "
   ]
  },
  {
   "cell_type": "code",
   "execution_count": 76,
   "id": "28c7cbeb-a30e-46cc-bc13-1651374c9a63",
   "metadata": {},
   "outputs": [
    {
     "name": "stdin",
     "output_type": "stream",
     "text": [
      " sreeganeshram\n"
     ]
    },
    {
     "name": "stdout",
     "output_type": "stream",
     "text": [
      "True\n",
      "True\n",
      "False\n"
     ]
    }
   ],
   "source": [
    "a=input()\n",
    "print(a.endswith(\"m\"))\n",
    "print(a.endswith(\"m\",3))\n",
    "print(a.endswith(\"m\",3,4))\n",
    "            "
   ]
  },
  {
   "cell_type": "code",
   "execution_count": 89,
   "id": "41eb60f1-56e9-44f7-bd7e-879a2db7d7ff",
   "metadata": {},
   "outputs": [
    {
     "name": "stdin",
     "output_type": "stream",
     "text": [
      "Enter side a:  8\n",
      "Enter side b:  5\n",
      "Enter side c:  8\n"
     ]
    },
    {
     "name": "stdout",
     "output_type": "stream",
     "text": [
      "Isosceles triangle\n"
     ]
    }
   ],
   "source": [
    "a = float(input(\"Enter side a: \"))\n",
    "b = float(input(\"Enter side b: \"))\n",
    "c = float(input(\"Enter side c: \"))\n",
    "if (a + b > c) and (b + c > a) and (c + a > b):\n",
    "    if a == b == c:\n",
    "        print(\"Equilateral triangle\")\n",
    "    elif a == b or b == c or a == c:\n",
    "        print(\"Isosceles triangle\")\n",
    "    else:\n",
    "        print(\"Scalene triangle\")\n",
    "else:\n",
    "    print(\"Not a valid triangle\")\n"
   ]
  },
  {
   "cell_type": "code",
   "execution_count": 100,
   "id": "a619c530-b1b4-4e2b-8336-5b41149d8d07",
   "metadata": {},
   "outputs": [
    {
     "name": "stdin",
     "output_type": "stream",
     "text": [
      "Enter side a:  5\n",
      "Enter side b:  5\n",
      "Enter side c:  6\n"
     ]
    },
    {
     "name": "stdout",
     "output_type": "stream",
     "text": [
      "Isosceles triangle\n"
     ]
    }
   ],
   "source": [
    "a = input(\"Enter side a: \")\n",
    "b = input(\"Enter side b: \")\n",
    "c = input(\"Enter side c: \")\n",
    "if a.isdigit() and b.isdigit() and c.isdigit():\n",
    "    a = int(a)\n",
    "    b = int(b)\n",
    "    c = int(c)\n",
    "    if (a + b > c) and (b + c > a) and (c + a > b):\n",
    "        if a == b == c:\n",
    "            print(\"Equilateral triangle\")\n",
    "        elif a == b or b == c or a == c:\n",
    "            print(\"Isosceles triangle\")\n",
    "        else:\n",
    "            print(\"Scalene triangle\")\n",
    "    else:\n",
    "        print(\"Not a valid triangle\")\n",
    "else:\n",
    "    print(\"Invalid input: sides must be positive integers\")\n",
    "\n",
    "     "
   ]
  },
  {
   "cell_type": "code",
   "execution_count": 1,
   "id": "b5b5c59a-e99e-4e26-b885-2e8f0d6db570",
   "metadata": {},
   "outputs": [
    {
     "name": "stdin",
     "output_type": "stream",
     "text": [
      "Enter side :  1.2\n",
      "Enter side :  5\n",
      "Enter side :  abc\n"
     ]
    },
    {
     "name": "stdout",
     "output_type": "stream",
     "text": [
      "Invalid input\n"
     ]
    }
   ],
   "source": [
    "x = input(\"Enter side : \")\n",
    "y = input(\"Enter side : \")\n",
    "z = input(\"Enter side : \")\n",
    "p=x.replace(\".\",\"\")\n",
    "q=y.replace(\".\",\"\")\n",
    "r=z.replace(\".\",\"\")\n",
    "if (p.isdigit() and q.isdigit() and r.isdigit()):\n",
    "    a = float(x)\n",
    "    b = float(y)\n",
    "    c = float(z)\n",
    "    if (a < b+c) and (b < c + a) and (c < a + b):\n",
    "        if a == b == c:\n",
    "            print(\"Equilateral triangle\")\n",
    "        elif a == b or b == c or a == c:\n",
    "            print(\"Isosceles triangle\")\n",
    "        else:\n",
    "            print(\"Scalene triangle\")\n",
    "    else:\n",
    "            print(\"Not a valid triangle\")\n",
    "else:\n",
    "        print(\"Invalid input\")\n"
   ]
  },
  {
   "cell_type": "code",
   "execution_count": null,
   "id": "7a97e92b-c3bf-4420-87dd-4674ac1349ab",
   "metadata": {},
   "outputs": [],
   "source": []
  }
 ],
 "metadata": {
  "kernelspec": {
   "display_name": "Python [conda env:base] *",
   "language": "python",
   "name": "conda-base-py"
  },
  "language_info": {
   "codemirror_mode": {
    "name": "ipython",
    "version": 3
   },
   "file_extension": ".py",
   "mimetype": "text/x-python",
   "name": "python",
   "nbconvert_exporter": "python",
   "pygments_lexer": "ipython3",
   "version": "3.13.5"
  }
 },
 "nbformat": 4,
 "nbformat_minor": 5
}
