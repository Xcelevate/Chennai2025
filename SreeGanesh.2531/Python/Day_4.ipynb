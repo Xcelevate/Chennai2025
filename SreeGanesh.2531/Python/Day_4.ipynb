{
 "cells": [
  {
   "cell_type": "code",
   "execution_count": 1,
   "id": "59bdfa8d-0efb-43f7-981d-eac18af534ee",
   "metadata": {},
   "outputs": [
    {
     "name": "stdout",
     "output_type": "stream",
     "text": [
      "<class 'int'>\n",
      "<class 'type'>\n"
     ]
    }
   ],
   "source": [
    "print(type(5))\n",
    "print(type(type(5)))"
   ]
  },
  {
   "cell_type": "code",
   "execution_count": 2,
   "id": "9c328b5e-d5c6-4bbb-91ab-0f55155e74e0",
   "metadata": {},
   "outputs": [
    {
     "name": "stdout",
     "output_type": "stream",
     "text": [
      "121121\n"
     ]
    }
   ],
   "source": [
    "x=\"121\"\n",
    "y=2\n",
    "print(x*y)"
   ]
  },
  {
   "cell_type": "code",
   "execution_count": 3,
   "id": "c78e36a3-1e79-4596-ac13-eccecc258d0d",
   "metadata": {},
   "outputs": [
    {
     "name": "stdout",
     "output_type": "stream",
     "text": [
      "0\n",
      "1\n",
      "2\n",
      "3\n",
      "4\n",
      "5\n"
     ]
    }
   ],
   "source": [
    "for i in range(6):\n",
    "    pass\n",
    "    print(i)\n",
    "    "
   ]
  },
  {
   "cell_type": "code",
   "execution_count": 5,
   "id": "1e9b6da1-1143-4fed-ae3b-79770c724da7",
   "metadata": {},
   "outputs": [
    {
     "name": "stdout",
     "output_type": "stream",
     "text": [
      "3\n"
     ]
    }
   ],
   "source": [
    "import random\n",
    "print(random.randint(1,3))"
   ]
  },
  {
   "cell_type": "code",
   "execution_count": 7,
   "id": "d42ace0b-e32c-47e8-82e6-a20679435b49",
   "metadata": {},
   "outputs": [
    {
     "name": "stdout",
     "output_type": "stream",
     "text": [
      "[2]\n"
     ]
    }
   ],
   "source": [
    "nums = [1, 2, 3]\n",
    "\n",
    "for n in nums[::2]:   # iterate over a copy using slicing\n",
    "    nums.remove(n)\n",
    "\n",
    "print(nums)\n"
   ]
  },
  {
   "cell_type": "code",
   "execution_count": 13,
   "id": "e519d1bc-ad4b-403d-855b-52cc5432aa3d",
   "metadata": {},
   "outputs": [
    {
     "name": "stdout",
     "output_type": "stream",
     "text": [
      "0 1\n",
      "0 2\n",
      "1 0\n",
      "1 2\n",
      "2 0\n",
      "2 1\n"
     ]
    }
   ],
   "source": [
    "for i in range(3):\n",
    "    for j in range(3):\n",
    "        if(i==j):\n",
    "            continue\n",
    "        print(i,j)"
   ]
  },
  {
   "cell_type": "code",
   "execution_count": 16,
   "id": "def7313f-7f05-41db-9fb1-5fced2502891",
   "metadata": {},
   "outputs": [
    {
     "data": {
      "text/plain": [
       "9"
      ]
     },
     "execution_count": 16,
     "metadata": {},
     "output_type": "execute_result"
    }
   ],
   "source": [
    "pow(3,2)\n"
   ]
  },
  {
   "cell_type": "code",
   "execution_count": 17,
   "id": "9b7c77dc-65e5-4745-beda-eeeec09675ca",
   "metadata": {},
   "outputs": [
    {
     "data": {
      "text/plain": [
       "1"
      ]
     },
     "execution_count": 17,
     "metadata": {},
     "output_type": "execute_result"
    }
   ],
   "source": [
    "pow(3,2,2)\n"
   ]
  },
  {
   "cell_type": "code",
   "execution_count": 18,
   "id": "ccbcce24-4515-48a7-839a-828314ba0ddb",
   "metadata": {},
   "outputs": [
    {
     "data": {
      "text/plain": [
       "True"
      ]
     },
     "execution_count": 18,
     "metadata": {},
     "output_type": "execute_result"
    }
   ],
   "source": [
    "isinstance(5,int)"
   ]
  },
  {
   "cell_type": "code",
   "execution_count": 19,
   "id": "2d3cd1bd-66c1-4cb7-bb1f-06cffd0ece21",
   "metadata": {},
   "outputs": [
    {
     "data": {
      "text/plain": [
       "True"
      ]
     },
     "execution_count": 19,
     "metadata": {},
     "output_type": "execute_result"
    }
   ],
   "source": [
    "isinstance(5.0,(int,float))"
   ]
  },
  {
   "cell_type": "code",
   "execution_count": 24,
   "id": "2594662d-0b11-4d31-bcf2-343336496d19",
   "metadata": {},
   "outputs": [
    {
     "name": "stdout",
     "output_type": "stream",
     "text": [
      "True\n"
     ]
    }
   ],
   "source": [
    "x=2+3j\n",
    "print(isinstance(x,(int,float,complex)))"
   ]
  },
  {
   "cell_type": "code",
   "execution_count": 25,
   "id": "0ff1aab3-41ee-4d00-a13e-ebbbc42e8681",
   "metadata": {},
   "outputs": [
    {
     "data": {
      "text/plain": [
       "False"
      ]
     },
     "execution_count": 25,
     "metadata": {},
     "output_type": "execute_result"
    }
   ],
   "source": [
    "isinstance(2.009,(int,complex))"
   ]
  },
  {
   "cell_type": "code",
   "execution_count": 35,
   "id": "db88a241-2527-45a4-b8d1-abe04bf70df9",
   "metadata": {},
   "outputs": [
    {
     "name": "stdout",
     "output_type": "stream",
     "text": [
      "14\n",
      "9\n"
     ]
    }
   ],
   "source": [
    "def my_fn(a,b=3,*args):\n",
    "    return(a*b+len(args))\n",
    "print(my_fn(3,4,5,6))\n",
    "print(my_fn(3))"
   ]
  },
  {
   "cell_type": "code",
   "execution_count": 38,
   "id": "f5f8f209-f64b-471f-a90c-6caf10f03a80",
   "metadata": {},
   "outputs": [
    {
     "name": "stdout",
     "output_type": "stream",
     "text": [
      "Hello\n",
      "Bye\n"
     ]
    }
   ],
   "source": [
    "def my_fn():\n",
    "    print(\"Hello\")\n",
    "    print(\"Bye\")\n",
    "my_fn()"
   ]
  },
  {
   "cell_type": "code",
   "execution_count": 39,
   "id": "735bc869-409a-4ed1-92a6-3015e05031b1",
   "metadata": {},
   "outputs": [
    {
     "name": "stdout",
     "output_type": "stream",
     "text": [
      "1\n"
     ]
    }
   ],
   "source": [
    "def sub(x,y=2):\n",
    "    return x-y\n",
    "print(sub(3))"
   ]
  },
  {
   "cell_type": "code",
   "execution_count": 41,
   "id": "8dcbbdd8-50bd-4612-8ecb-a1d136411133",
   "metadata": {},
   "outputs": [
    {
     "name": "stdout",
     "output_type": "stream",
     "text": [
      "1\n",
      "None\n"
     ]
    }
   ],
   "source": [
    "def sub(x,y=2):\n",
    "    print (x-y)\n",
    "print(sub(3))"
   ]
  },
  {
   "cell_type": "code",
   "execution_count": 42,
   "id": "d6bff87d-51c7-4fcf-9eb1-6a677f3a12a9",
   "metadata": {},
   "outputs": [
    {
     "name": "stdout",
     "output_type": "stream",
     "text": [
      "1\n"
     ]
    }
   ],
   "source": [
    "def sub(x,y=2):\n",
    "    print (x-y)\n",
    "(sub(3))"
   ]
  },
  {
   "cell_type": "code",
   "execution_count": null,
   "id": "add1505c-be31-42e0-a6d4-3637670424b7",
   "metadata": {},
   "outputs": [],
   "source": [
    "def calculator():\n",
    "    print(\"Welcome to the calculator app!\")\n",
    "\n",
    "    result = None\n",
    "\n",
    "    while True:\n",
    "        if result is None:\n",
    "            num1 = float(input(\"What is the first number?: \"))\n",
    "        else:\n",
    "            choice = input(\"Type 'es' to continue calculating with {:.1f}, or type 'n' to start a new calculation: \".format(result))\n",
    "            if choice.lower() == 'n':\n",
    "                result = None\n",
    "                continue\n",
    "            elif choice.lower() == 'es':\n",
    "                num1 = result\n",
    "            else:\n",
    "                print(\"Invalid choice. Exiting.\")\n",
    "                break\n",
    "\n",
    "        op = input(\"Pick an operation (+, -, *, /): \")\n",
    "\n",
    "        try:\n",
    "            num2 = float(input(\"What is the next number?: \"))\n",
    "        except ValueError:\n",
    "            print(\"Invalid input. Please enter a number.\")\n",
    "            continue\n",
    "\n",
    "        if op == '+':\n",
    "            result = num1 + num2\n",
    "        elif op == '-':\n",
    "            result = num1 - num2\n",
    "        elif op == '*':\n",
    "            result = num1 * num2\n",
    "        elif op == '/':\n",
    "            if num2 == 0:\n",
    "                print(\"Error: Cannot divide by zero.\")\n",
    "                continue\n",
    "            result = num1 / num2\n",
    "        else:\n",
    "            print(\"Invalid operator.\")\n",
    "            continue\n",
    "\n",
    "        print(f\"{num1} {op} {num2} = {result}\")\n",
    "\n",
    "        next_step = input(\"Type 'es' to continue calculating with {}, or type 'n' to start a new calculation. Type 'stop' to quit: \".format(result)).lower()\n",
    "        if next_step == 'stop':\n",
    "            print(\"Thank you for using the app.\")\n",
    "            break\n",
    "        elif next_step == 'n':\n",
    "            result = None\n",
    "        elif next_step != 'es':\n",
    "            print(\"Unknown command. Exiting.\")\n",
    "            break\n",
    "\n",
    "# Run the calculator\n",
    "calculator()\n"
   ]
  },
  {
   "cell_type": "code",
   "execution_count": 2,
   "id": "7fc4ebe0-8874-4192-8703-305f9aacb3bf",
   "metadata": {},
   "outputs": [
    {
     "name": "stdout",
     "output_type": "stream",
     "text": [
      "<class 'type'>\n"
     ]
    }
   ],
   "source": [
    "print(type(type(5)))"
   ]
  },
  {
   "cell_type": "code",
   "execution_count": null,
   "id": "eb6df9ef-ff23-4015-b8e7-e0143e052e98",
   "metadata": {},
   "outputs": [],
   "source": []
  }
 ],
 "metadata": {
  "kernelspec": {
   "display_name": "Python [conda env:base] *",
   "language": "python",
   "name": "conda-base-py"
  },
  "language_info": {
   "codemirror_mode": {
    "name": "ipython",
    "version": 3
   },
   "file_extension": ".py",
   "mimetype": "text/x-python",
   "name": "python",
   "nbconvert_exporter": "python",
   "pygments_lexer": "ipython3",
   "version": "3.13.5"
  }
 },
 "nbformat": 4,
 "nbformat_minor": 5
}
