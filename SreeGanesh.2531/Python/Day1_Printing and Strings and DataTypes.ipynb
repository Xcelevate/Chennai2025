{
 "cells": [
  {
   "cell_type": "code",
   "execution_count": 2,
   "id": "1c8e4184-be83-43db-a332-cd96375dfc86",
   "metadata": {},
   "outputs": [
    {
     "name": "stdout",
     "output_type": "stream",
     "text": [
      "Hello World!\n"
     ]
    }
   ],
   "source": [
    "print(\"Hello World!\")\n"
   ]
  },
  {
   "cell_type": "code",
   "execution_count": 3,
   "id": "0ceebda3-7c88-4b82-b90f-0740cf4de84b",
   "metadata": {},
   "outputs": [
    {
     "ename": "SyntaxError",
     "evalue": "unterminated string literal (detected at line 1) (3956935761.py, line 1)",
     "output_type": "error",
     "traceback": [
      "\u001b[1;36m  Cell \u001b[1;32mIn[3], line 1\u001b[1;36m\u001b[0m\n\u001b[1;33m    print(\"Hello World!)\u001b[0m\n\u001b[1;37m          ^\u001b[0m\n\u001b[1;31mSyntaxError\u001b[0m\u001b[1;31m:\u001b[0m unterminated string literal (detected at line 1)\n"
     ]
    }
   ],
   "source": [
    "print(\"Hello World!)"
   ]
  },
  {
   "cell_type": "code",
   "execution_count": 4,
   "id": "8cc4bd7a-5c15-46e0-8c6c-55a6412534f1",
   "metadata": {},
   "outputs": [
    {
     "ename": "SyntaxError",
     "evalue": "unterminated string literal (detected at line 1) (2334651526.py, line 1)",
     "output_type": "error",
     "traceback": [
      "\u001b[1;36m  Cell \u001b[1;32mIn[4], line 1\u001b[1;36m\u001b[0m\n\u001b[1;33m    print(Hello World!\")\u001b[0m\n\u001b[1;37m                      ^\u001b[0m\n\u001b[1;31mSyntaxError\u001b[0m\u001b[1;31m:\u001b[0m unterminated string literal (detected at line 1)\n"
     ]
    }
   ],
   "source": [
    "print(Hello World!\")"
   ]
  },
  {
   "cell_type": "code",
   "execution_count": 1,
   "id": "a361ef2d-bef3-483d-9503-14c50898259d",
   "metadata": {},
   "outputs": [
    {
     "ename": "SyntaxError",
     "evalue": "invalid decimal literal (1681233018.py, line 1)",
     "output_type": "error",
     "traceback": [
      "\u001b[1;36m  Cell \u001b[1;32mIn[1], line 1\u001b[1;36m\u001b[0m\n\u001b[1;33m    print(Mix 500g of Flour, 10g Yeast and 300ml Water in a bowl.\")\u001b[0m\n\u001b[1;37m                ^\u001b[0m\n\u001b[1;31mSyntaxError\u001b[0m\u001b[1;31m:\u001b[0m invalid decimal literal\n"
     ]
    }
   ],
   "source": [
    "print(Mix 500g of Flour, 10g Yeast and 300ml Water in a bowl.\")"
   ]
  },
  {
   "cell_type": "code",
   "execution_count": 4,
   "id": "66fb4f95-18a8-4f2a-b4f8-d106a2d5d4eb",
   "metadata": {},
   "outputs": [
    {
     "name": "stdout",
     "output_type": "stream",
     "text": [
      "Mix 500g of Flour, 10g Yeast and 300ml Water in a bowl.\n",
      "Knead the dough for 10 minutes.\n",
      "Add 3g of salt.\n",
      "Leave to rise for 2 hrs.\n",
      "Bake at 200 degrees c for 30 mins.\n"
     ]
    }
   ],
   "source": [
    "print(\"Mix 500g of Flour, 10g Yeast and 300ml Water in a bowl.\")\n",
    "print(\"Knead the dough for 10 minutes.\")\n",
    "print(\"Add 3g of salt.\")\n",
    "print(\"Leave to rise for 2 hrs.\")\n",
    "print(\"Bake at 200 degrees c for 30 mins.\")"
   ]
  },
  {
   "cell_type": "code",
   "execution_count": 12,
   "id": "f9e80e85-60be-4739-b30b-727c2dd2dbad",
   "metadata": {},
   "outputs": [
    {
     "name": "stdout",
     "output_type": "stream",
     "text": [
      "Notes from Day 1\n",
      "The print statement is used to output strings\n",
      "Strings are strings of characters\n",
      "String Concatenation is done with the + sign\n",
      "New lines can be created with a \\ and the letter n\n"
     ]
    }
   ],
   "source": [
    "print(\"Notes from Day 1\")\n",
    "print(\"The print statement is used to output strings\")\n",
    "print(\"Strings are strings of characters\")\n",
    "print(\"String Concatenation is done with the + sign\")\n",
    "print(\"New lines can be created with a \\ and the letter n\")"
   ]
  },
  {
   "cell_type": "code",
   "execution_count": 20,
   "id": "7c41521b-bdb6-4424-8107-dd970746618a",
   "metadata": {},
   "outputs": [
    {
     "name": "stdin",
     "output_type": "stream",
     "text": [
      "What is your name? SREE GANESH RAM\n"
     ]
    },
    {
     "name": "stdout",
     "output_type": "stream",
     "text": [
      "Hello SREE GANESH RAM\n"
     ]
    }
   ],
   "source": [
    "print(\"Hello \"+ input(\"What is your name?\"))\n",
    "\n"
   ]
  },
  {
   "cell_type": "code",
   "execution_count": 21,
   "id": "854177f7-ffea-4e9d-99f3-b47d73779bdb",
   "metadata": {},
   "outputs": [
    {
     "name": "stdin",
     "output_type": "stream",
     "text": [
      "What is your name? Ganesh\n"
     ]
    },
    {
     "name": "stdout",
     "output_type": "stream",
     "text": [
      "Ganesh\n"
     ]
    }
   ],
   "source": [
    "name=input(\"What is your name?\")\n",
    "print(name)"
   ]
  },
  {
   "cell_type": "code",
   "execution_count": 1,
   "id": "65b24835-85ec-41ec-b496-e924f679d7ff",
   "metadata": {},
   "outputs": [
    {
     "name": "stdin",
     "output_type": "stream",
     "text": [
      "What is your name? Ganesh\n"
     ]
    },
    {
     "name": "stdout",
     "output_type": "stream",
     "text": [
      "Hi Ganesh\n",
      "Iam learning Python\n"
     ]
    }
   ],
   "source": [
    "name=input(\"What is your name?\")\n",
    "print(\"Hi\"+\" \"+name+\"\\nIam learning Python\")"
   ]
  },
  {
   "cell_type": "code",
   "execution_count": 3,
   "id": "73c3ba42-92d4-4d23-abd4-183f22d95769",
   "metadata": {},
   "outputs": [
    {
     "name": "stdin",
     "output_type": "stream",
     "text": [
      "What is your name? SREE GANESH RAM GOPALKRISHNAN\n"
     ]
    },
    {
     "name": "stdout",
     "output_type": "stream",
     "text": [
      "29\n"
     ]
    }
   ],
   "source": [
    "print(len(input(\"What is your name?\")))"
   ]
  },
  {
   "cell_type": "code",
   "execution_count": 7,
   "id": "7e75cf43-b48e-48fb-b799-fc47c813a5e8",
   "metadata": {},
   "outputs": [],
   "source": [
    "glass1=\"milk\"\n",
    "glass2=\"juice\"\n",
    "temp=glass1\n",
    "glass1=glass2\n",
    "glass2=temp\n"
   ]
  },
  {
   "cell_type": "code",
   "execution_count": 5,
   "id": "526b1a97-7cd5-4353-856b-b76732aa8770",
   "metadata": {},
   "outputs": [
    {
     "name": "stdout",
     "output_type": "stream",
     "text": [
      "He\n",
      "H\n",
      "\n"
     ]
    }
   ],
   "source": [
    "str=(\"Hello\")\n",
    "print(str[0:2])\n",
    "print(str[0:2:5])\n",
    "print(str[2:1:2])"
   ]
  },
  {
   "cell_type": "code",
   "execution_count": 3,
   "id": "b530aab5-b4b6-4f2d-a745-d326c83f21eb",
   "metadata": {},
   "outputs": [
    {
     "name": "stdout",
     "output_type": "stream",
     "text": [
      "G\n"
     ]
    }
   ],
   "source": [
    "name=\"Ganesh\"\n",
    "print(name[0])\n"
   ]
  },
  {
   "cell_type": "code",
   "execution_count": 6,
   "id": "9b0e207e-6858-4516-8493-092e9b342cba",
   "metadata": {},
   "outputs": [
    {
     "name": "stdout",
     "output_type": "stream",
     "text": [
      "\n"
     ]
    }
   ],
   "source": [
    "print(str[2:1:2])"
   ]
  },
  {
   "cell_type": "code",
   "execution_count": 7,
   "id": "dee6de2c-f55e-4b43-8991-1081cf5e3a6e",
   "metadata": {},
   "outputs": [
    {
     "name": "stdout",
     "output_type": "stream",
     "text": [
      "o\n"
     ]
    }
   ],
   "source": [
    "print(str[4])"
   ]
  },
  {
   "cell_type": "code",
   "execution_count": 8,
   "id": "bf86f994-df9b-430a-9f26-950168b1d91e",
   "metadata": {},
   "outputs": [
    {
     "name": "stdout",
     "output_type": "stream",
     "text": [
      "o\n"
     ]
    }
   ],
   "source": [
    "print(str[-1])"
   ]
  },
  {
   "cell_type": "code",
   "execution_count": 10,
   "id": "73c3d4d6-f760-4849-9da2-63f89d3345dc",
   "metadata": {},
   "outputs": [
    {
     "name": "stdout",
     "output_type": "stream",
     "text": [
      "aba\n",
      "aba\n"
     ]
    }
   ],
   "source": [
    "str=\"aba\"\n",
    "print(str[::-1])\n",
    "print(str[::1])"
   ]
  },
  {
   "cell_type": "code",
   "execution_count": 11,
   "id": "d829c713-3c8b-437e-8b02-e5e579925d22",
   "metadata": {},
   "outputs": [
    {
     "data": {
      "text/plain": [
       "str"
      ]
     },
     "execution_count": 11,
     "metadata": {},
     "output_type": "execute_result"
    }
   ],
   "source": [
    "type(\"123\")"
   ]
  },
  {
   "cell_type": "code",
   "execution_count": 12,
   "id": "a0ba4551-7515-4d9b-8f22-09ba6ae4d588",
   "metadata": {},
   "outputs": [
    {
     "data": {
      "text/plain": [
       "\u001b[1;31mInit signature:\u001b[0m \u001b[0mtype\u001b[0m\u001b[1;33m(\u001b[0m\u001b[0mself\u001b[0m\u001b[1;33m,\u001b[0m \u001b[1;33m/\u001b[0m\u001b[1;33m,\u001b[0m \u001b[1;33m*\u001b[0m\u001b[0margs\u001b[0m\u001b[1;33m,\u001b[0m \u001b[1;33m**\u001b[0m\u001b[0mkwargs\u001b[0m\u001b[1;33m)\u001b[0m\u001b[1;33m\u001b[0m\u001b[1;33m\u001b[0m\u001b[0m\n",
       "\u001b[1;31mDocstring:\u001b[0m     \n",
       "type(object) -> the object's type\n",
       "type(name, bases, dict, **kwds) -> a new type\n",
       "\u001b[1;31mType:\u001b[0m           type\n",
       "\u001b[1;31mSubclasses:\u001b[0m     ABCMeta, EnumType, _AnyMeta, NamedTupleMeta, _TypedDictMeta, _ABC, MetaHasDescriptors, CType_Type, _TzSingleton, _TzFactory, ..."
      ]
     },
     "metadata": {},
     "output_type": "display_data"
    }
   ],
   "source": [
    "type?"
   ]
  },
  {
   "cell_type": "code",
   "execution_count": 13,
   "id": "07e3f525-0ca4-4a16-ae6d-1f93f6cfb24c",
   "metadata": {},
   "outputs": [
    {
     "name": "stdout",
     "output_type": "stream",
     "text": [
      "579\n"
     ]
    }
   ],
   "source": [
    "print(int(\"123\")+int(\"456\"))"
   ]
  },
  {
   "cell_type": "code",
   "execution_count": 14,
   "id": "2d743e96-9621-4381-b1ca-e5b4e731d7c1",
   "metadata": {},
   "outputs": [
    {
     "ename": "ValueError",
     "evalue": "invalid literal for int() with base 10: 'abc'",
     "output_type": "error",
     "traceback": [
      "\u001b[1;31m---------------------------------------------------------------------------\u001b[0m",
      "\u001b[1;31mValueError\u001b[0m                                Traceback (most recent call last)",
      "Cell \u001b[1;32mIn[14], line 1\u001b[0m\n\u001b[1;32m----> 1\u001b[0m \u001b[38;5;28mprint\u001b[39m(\u001b[38;5;28mint\u001b[39m(\u001b[38;5;124m\"\u001b[39m\u001b[38;5;124mabc\u001b[39m\u001b[38;5;124m\"\u001b[39m)\u001b[38;5;241m+\u001b[39m\u001b[38;5;28mint\u001b[39m(\u001b[38;5;124m\"\u001b[39m\u001b[38;5;124m456\u001b[39m\u001b[38;5;124m\"\u001b[39m))\n",
      "\u001b[1;31mValueError\u001b[0m: invalid literal for int() with base 10: 'abc'"
     ]
    }
   ],
   "source": [
    "print(int(\"abc\")+int(\"456\"))"
   ]
  },
  {
   "cell_type": "code",
   "execution_count": 15,
   "id": "bb48d216-4072-4b2f-958a-50cdc726cee5",
   "metadata": {},
   "outputs": [
    {
     "ename": "SyntaxError",
     "evalue": "unterminated string literal (detected at line 1) (4219877077.py, line 1)",
     "output_type": "error",
     "traceback": [
      "\u001b[1;36m  Cell \u001b[1;32mIn[15], line 1\u001b[1;36m\u001b[0m\n\u001b[1;33m    print(Number of letters in the name \"+len(input(\"What is your name\")))\u001b[0m\n\u001b[1;37m                                                                      ^\u001b[0m\n\u001b[1;31mSyntaxError\u001b[0m\u001b[1;31m:\u001b[0m unterminated string literal (detected at line 1)\n"
     ]
    }
   ],
   "source": [
    "print(Number of letters in the name \"+len(input(\"What is your name\")))"
   ]
  },
  {
   "cell_type": "code",
   "execution_count": 16,
   "id": "3b4d343d-5006-4b84-b7ee-b9e9bee15674",
   "metadata": {},
   "outputs": [
    {
     "ename": "_IncompleteInputError",
     "evalue": "incomplete input (3437797198.py, line 1)",
     "output_type": "error",
     "traceback": [
      "\u001b[1;36m  Cell \u001b[1;32mIn[16], line 1\u001b[1;36m\u001b[0m\n\u001b[1;33m    length=str(len(input(\"What is your name\"))\u001b[0m\n\u001b[1;37m                                              ^\u001b[0m\n\u001b[1;31m_IncompleteInputError\u001b[0m\u001b[1;31m:\u001b[0m incomplete input\n"
     ]
    }
   ],
   "source": [
    "length=str(len(input(\"What is your name\"))"
   ]
  },
  {
   "cell_type": "code",
   "execution_count": 17,
   "id": "dc73c1e5-e980-44ea-bca8-eb86dca38a37",
   "metadata": {},
   "outputs": [
    {
     "ename": "NameError",
     "evalue": "name 'length' is not defined",
     "output_type": "error",
     "traceback": [
      "\u001b[1;31m---------------------------------------------------------------------------\u001b[0m",
      "\u001b[1;31mNameError\u001b[0m                                 Traceback (most recent call last)",
      "Cell \u001b[1;32mIn[17], line 1\u001b[0m\n\u001b[1;32m----> 1\u001b[0m \u001b[38;5;28mprint\u001b[39m(\u001b[38;5;124m\"\u001b[39m\u001b[38;5;124mNumber of letters in the name\u001b[39m\u001b[38;5;124m\"\u001b[39m\u001b[38;5;241m+\u001b[39mlength)\n",
      "\u001b[1;31mNameError\u001b[0m: name 'length' is not defined"
     ]
    }
   ],
   "source": [
    "print(\"Number of letters in the name\"+length)"
   ]
  },
  {
   "cell_type": "code",
   "execution_count": 20,
   "id": "961a5d6e-39d2-47bd-9ea4-46161eb17e32",
   "metadata": {},
   "outputs": [
    {
     "name": "stdout",
     "output_type": "stream",
     "text": [
      "3.0\n"
     ]
    }
   ],
   "source": [
    "print(3*(3+3)/3-3)"
   ]
  },
  {
   "cell_type": "code",
   "execution_count": 1,
   "id": "7c75fd53-3087-430c-a2b9-9f1c259111dc",
   "metadata": {},
   "outputs": [],
   "source": [
    "h=1.65\n",
    "w=84\n",
    "bmi=w/h**2"
   ]
  },
  {
   "cell_type": "code",
   "execution_count": 2,
   "id": "fdf4acc0-ff7d-45ed-b118-7c84dae83d2e",
   "metadata": {},
   "outputs": [
    {
     "name": "stdout",
     "output_type": "stream",
     "text": [
      "30.85399449035813\n"
     ]
    }
   ],
   "source": [
    "print(bmi)"
   ]
  },
  {
   "cell_type": "code",
   "execution_count": 3,
   "id": "f63cf5c2-ef36-4f60-abe5-a812c802b1bd",
   "metadata": {},
   "outputs": [
    {
     "name": "stdout",
     "output_type": "stream",
     "text": [
      "31\n"
     ]
    }
   ],
   "source": [
    "                                                                                                                                                                                                                                                                                                                                                                                                                                                                                                                                                                                                                                                                                                                                                print(round(bmi))                                                                                                                              "
   ]
  },
  {
   "cell_type": "code",
   "execution_count": 4,
   "id": "a4b314a3-97d9-4c95-9c6c-45144bc35ee2",
   "metadata": {},
   "outputs": [
    {
     "name": "stdout",
     "output_type": "stream",
     "text": [
      "31 2\n"
     ]
    }
   ],
   "source": [
    "print(round(bmi),2)"
   ]
  },
  {
   "cell_type": "code",
   "execution_count": 6,
   "id": "69f308d4-4fec-488f-9903-3dc43d3db4a9",
   "metadata": {},
   "outputs": [
    {
     "name": "stdout",
     "output_type": "stream",
     "text": [
      "30.854\n"
     ]
    }
   ],
   "source": [
    "print(round(bmi,3))"
   ]
  },
  {
   "cell_type": "code",
   "execution_count": 4,
   "id": "f4ed74f4-bb75-440f-80ad-666fd9b72386",
   "metadata": {},
   "outputs": [
    {
     "name": "stdout",
     "output_type": "stream",
     "text": [
      "HelloGanesh age:23.0\n",
      "Name:Ganesh age:23.0\n"
     ]
    }
   ],
   "source": [
    "name=\"Ganesh\"\n",
    "age=\"23.0\"\n",
    "print(f\"Hello{name} age:{age}\")\n",
    "print(\"Name:{} age:{}\".format(name,age))"
   ]
  },
  {
   "cell_type": "code",
   "execution_count": 16,
   "id": "73f11d5a-7b44-422c-8a74-dab425ee7ab5",
   "metadata": {},
   "outputs": [
    {
     "name": "stdout",
     "output_type": "stream",
     "text": [
      "5.0\n"
     ]
    }
   ],
   "source": [
    "print(10.2//2)"
   ]
  },
  {
   "cell_type": "code",
   "execution_count": 18,
   "id": "8fe28abf-cff0-40ab-b868-43950aafbf46",
   "metadata": {},
   "outputs": [
    {
     "name": "stdout",
     "output_type": "stream",
     "text": [
      "Python is a programming language\n",
      "Python Is A Programming Language\n"
     ]
    }
   ],
   "source": [
    "text=\"python is a programming language\"\n",
    "print(text.capitalize())\n",
    "print(text.title())"
   ]
  },
  {
   "cell_type": "code",
   "execution_count": 20,
   "id": "27cd9872-cc84-489d-8836-856e422706b7",
   "metadata": {},
   "outputs": [
    {
     "name": "stdout",
     "output_type": "stream",
     "text": [
      "java is a programming language\n"
     ]
    }
   ],
   "source": [
    "print(text.replace(\"python\",\"java\",1))"
   ]
  },
  {
   "cell_type": "code",
   "execution_count": 26,
   "id": "d1fc59e0-5b33-47bc-a8c0-96d4a7e8e809",
   "metadata": {},
   "outputs": [
    {
     "name": "stdout",
     "output_type": "stream",
     "text": [
      "7\n"
     ]
    }
   ],
   "source": [
    "text=\"I love python programming.python is a snake\"\n",
    "print(text.find(\"python\"))"
   ]
  },
  {
   "cell_type": "code",
   "execution_count": 30,
   "id": "92d4be81-090e-4493-8e9f-d8832552e3db",
   "metadata": {},
   "outputs": [
    {
     "name": "stdout",
     "output_type": "stream",
     "text": [
      "[]\n"
     ]
    }
   ],
   "source": [
    "import re \n",
    "text=\"I love python programming.python is a snake\"\n",
    "print(re.findall('r/b/w+/b',text))"
   ]
  },
  {
   "cell_type": "code",
   "execution_count": 33,
   "id": "f3feb290-e64c-46c8-a4ff-34a129638e65",
   "metadata": {},
   "outputs": [
    {
     "name": "stdout",
     "output_type": "stream",
     "text": [
      "[]\n"
     ]
    }
   ],
   "source": [
    "import re \n",
    "text=\"I love python programming.python is a snake\"\n",
    "print(re.findall(r\"/b/w+/b\",text))"
   ]
  },
  {
   "cell_type": "code",
   "execution_count": 32,
   "id": "701631e4-b99e-40f8-993f-5a97ea637667",
   "metadata": {},
   "outputs": [
    {
     "name": "stdout",
     "output_type": "stream",
     "text": [
      "['python', 'python']\n"
     ]
    }
   ],
   "source": [
    "import re \n",
    "text=\"I love python programming.python is a snake\"\n",
    "print(re.findall(\"python\",text))"
   ]
  },
  {
   "cell_type": "code",
   "execution_count": 41,
   "id": "952369d0-6d49-4ee3-b143-c62bdfdcdb67",
   "metadata": {},
   "outputs": [
    {
     "name": "stdout",
     "output_type": "stream",
     "text": [
      "['python', 'python']\n",
      "<callable_iterator object at 0x000001462381D990>\n"
     ]
    }
   ],
   "source": [
    "import re \n",
    "text=\"I love python programming.python is a snake\"\n",
    "words=re.findall(\"python\",text) \n",
    "iteration=re.finditer(\"rpython\",text) \n",
    "print(words)\n",
    "print(iteration)"
   ]
  },
  {
   "cell_type": "code",
   "execution_count": 45,
   "id": "6dfaf966-04b4-444f-9b3c-1cfa502461e7",
   "metadata": {},
   "outputs": [
    {
     "ename": "SyntaxError",
     "evalue": "unterminated string literal (detected at line 3) (3053831992.py, line 3)",
     "output_type": "error",
     "traceback": [
      "\u001b[1;36m  Cell \u001b[1;32mIn[45], line 3\u001b[1;36m\u001b[0m\n\u001b[1;33m    print(\"Trichy\" +\" \"+Rockfort\")\u001b[0m\n\u001b[1;37m                                ^\u001b[0m\n\u001b[1;31mSyntaxError\u001b[0m\u001b[1;31m:\u001b[0m unterminated string literal (detected at line 3)\n"
     ]
    }
   ],
   "source": [
    "name1=\"Trichy\"\n",
    "name2=\"Rockfort\"\n",
    "print(\"Trichy\" +\" \"+Rockfort\")"
   ]
  },
  {
   "cell_type": "code",
   "execution_count": 47,
   "id": "a461d277-e767-4849-b7f4-a8deb0aa86e6",
   "metadata": {},
   "outputs": [
    {
     "name": "stdin",
     "output_type": "stream",
     "text": [
      "what is your city name? chennai\n",
      "what is the nickname of your city? howard\n"
     ]
    },
    {
     "name": "stdout",
     "output_type": "stream",
     "text": [
      "Mychennaihoward\n"
     ]
    }
   ],
   "source": [
    "name=input(\"what is your city name?\")\n",
    "nickname=input(\"what is the nickname of your city?\")\n",
    "print(f\"My{name}{nickname}\")"
   ]
  },
  {
   "cell_type": "code",
   "execution_count": 53,
   "id": "ff9450a9-8e30-46d4-a1b5-046cb303a488",
   "metadata": {},
   "outputs": [
    {
     "name": "stdout",
     "output_type": "stream",
     "text": [
      "['I', 'love', 'Python', 'Program']\n"
     ]
    }
   ],
   "source": [
    "text=\"I,love,Python,Program\"\n",
    "words=text.split(\",\")\n",
    "type(words)\n",
    "print(words)"
   ]
  },
  {
   "cell_type": "code",
   "execution_count": 56,
   "id": "a1f8084a-10bd-4ffe-a8af-126e8b410497",
   "metadata": {
    "scrolled": true
   },
   "outputs": [
    {
     "name": "stdout",
     "output_type": "stream",
     "text": [
      "I_am_an_enginner\n",
      "I_,_a_m_,_a_n_,_e_n_g_i_n_n_e_r\n"
     ]
    }
   ],
   "source": [
    "text=\"I,am,an,enginner\"\n",
    "words=text.split(\",\")\n",
    "text_join=\"_\".join(words)\n",
    "print(text_join)\n",
    "text2=\"I,am,an,enginner\"\n",
    "words=text.split(\",\")\n",
    "text2_join=\"_\".join(text2)\n",
    "print(text2_join)"
   ]
  },
  {
   "cell_type": "code",
   "execution_count": 58,
   "id": "fc79c666-3725-44ea-ad05-2a088027f395",
   "metadata": {},
   "outputs": [
    {
     "name": "stdout",
     "output_type": "stream",
     "text": [
      "Ganesh*\n",
      "*Ganesh\n"
     ]
    }
   ],
   "source": [
    "print(name.ljust(7,'*'))\n",
    "print(name.rjust(7,'*'))"
   ]
  },
  {
   "cell_type": "code",
   "execution_count": 60,
   "id": "c340fd22-7d01-45c3-aac9-532ccb6f348a",
   "metadata": {},
   "outputs": [
    {
     "name": "stdout",
     "output_type": "stream",
     "text": [
      "8\n",
      "0.0\n"
     ]
    }
   ],
   "source": [
    "print(round(7.5))\n",
    "print(round(3.145678,-3))\n"
   ]
  },
  {
   "cell_type": "code",
   "execution_count": 2,
   "id": "09ef7ca0-4a96-4ec8-879f-4d420bad335d",
   "metadata": {},
   "outputs": [
    {
     "name": "stdout",
     "output_type": "stream",
     "text": [
      "['Ram']\n"
     ]
    }
   ],
   "source": [
    "text=\"Ram\"\n",
    "words=text.split(\",\",2)\n",
    "print(words)"
   ]
  },
  {
   "cell_type": "code",
   "execution_count": 8,
   "id": "9d3e8236-6c2a-499b-967f-580ca3614899",
   "metadata": {},
   "outputs": [
    {
     "name": "stdout",
     "output_type": "stream",
     "text": [
      "3.14\n"
     ]
    }
   ],
   "source": [
    "pi=3.14159\n",
    "print(f\"{pi:.2f}\")"
   ]
  },
  {
   "cell_type": "code",
   "execution_count": 11,
   "id": "2ac8dabb-d6b3-43a9-9830-1d3d6cff8737",
   "metadata": {},
   "outputs": [
    {
     "name": "stdout",
     "output_type": "stream",
     "text": [
      "....Hi All\n",
      "Hi All.....\n"
     ]
    }
   ],
   "source": [
    "text=\"....Hi All.....\"\n",
    "print(text.rstrip(\".\"))\n",
    "print(text.lstrip(\".\"))"
   ]
  },
  {
   "cell_type": "code",
   "execution_count": null,
   "id": "d27f3ee0-f450-401d-863f-028442f5a628",
   "metadata": {},
   "outputs": [],
   "source": []
  }
 ],
 "metadata": {
  "kernelspec": {
   "display_name": "Python [conda env:base] *",
   "language": "python",
   "name": "conda-base-py"
  },
  "language_info": {
   "codemirror_mode": {
    "name": "ipython",
    "version": 3
   },
   "file_extension": ".py",
   "mimetype": "text/x-python",
   "name": "python",
   "nbconvert_exporter": "python",
   "pygments_lexer": "ipython3",
   "version": "3.13.5"
  }
 },
 "nbformat": 4,
 "nbformat_minor": 5
}
