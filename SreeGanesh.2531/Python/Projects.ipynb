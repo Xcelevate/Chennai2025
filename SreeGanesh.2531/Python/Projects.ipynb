{
 "cells": [
  {
   "cell_type": "code",
   "execution_count": 12,
   "id": "95b5ba28-78a0-453a-900b-48379a102ed2",
   "metadata": {},
   "outputs": [
    {
     "name": "stdout",
     "output_type": "stream",
     "text": [
      "Welcome to Rock, Paper, Scissors Game!\n",
      "What do you choose?\n",
      "Type 0 for Rock \n",
      "Type 1 for Paper \n",
      "Type 2 for Scissors \n"
     ]
    },
    {
     "name": "stdin",
     "output_type": "stream",
     "text": [
      "Enter your choice (0/1/2):  6\n"
     ]
    },
    {
     "name": "stdout",
     "output_type": "stream",
     "text": [
      "Invalid choice. You lose \n"
     ]
    }
   ],
   "source": [
    "#Rock,Paper,Scissors\n",
    "import random\n",
    "print(\"Welcome to Rock, Paper, Scissors Game!\")\n",
    "print(\"What do you choose?\")\n",
    "print(\"Type 0 for Rock \")\n",
    "print(\"Type 1 for Paper \")\n",
    "print(\"Type 2 for Scissors \")\n",
    "user_choice = input(\"Enter your choice (0/1/2): \")\n",
    "if(user_choice.isdigit()):\n",
    "    user_choice=str(user_choice)\n",
    "if user_choice.isalpha()==False:\n",
    "    print(\"Invalid choice. You lose \")\n",
    "else:\n",
    "    computer_choice = random.randint(0, 2)\n",
    "    choices = [\"Rock \", \"Paper \", \"Scissors \"]\n",
    "    print(f\"\\nYou chose: {choices[user_choice]}\")\n",
    "    print(f\"Computer chose: {choices[computer_choice]}\")\n",
    "    if user_choice == computer_choice:\n",
    "        print(\"It's a draw \")\n",
    "    elif (user_choice == 0 and computer_choice == 2) or \\\n",
    "         (user_choice == 1 and computer_choice == 0) or \\\n",
    "         (user_choice == 2 and computer_choice == 1):\n",
    "        print(\"You win! \")\n",
    "    else:\n",
    "        print(\"You lose! \")\n"
   ]
  },
  {
   "cell_type": "code",
   "execution_count": 21,
   "id": "ec7e5ec6-1967-457a-b4ec-a1a826b5ea26",
   "metadata": {},
   "outputs": [
    {
     "name": "stdout",
     "output_type": "stream",
     "text": [
      "Welcome to Treasure Island.\n",
      "Your mission is to find the treasure.\n"
     ]
    },
    {
     "name": "stdin",
     "output_type": "stream",
     "text": [
      "You're at a cross road. Where do you want to go? Type \"left\" or \"right\":  @\n"
     ]
    },
    {
     "name": "stdout",
     "output_type": "stream",
     "text": [
      "Oh,See you next time!\n"
     ]
    }
   ],
   "source": [
    "#Treasure Island\n",
    "print(\"Welcome to Treasure Island.\")\n",
    "print(\"Your mission is to find the treasure.\") \n",
    "choice1 = input('You\\'re at a cross road. Where do you want to go? Type \"left\" or \"right\": ').lower()\n",
    "if choice1 == \"left\":\n",
    "    choice2 = input('You\\'ve come to a lake. There is an island in the middle of the lake. '\n",
    "                    'Type \"wait\" to wait for a boat. Type \"swim\" to swim across: ').lower()\n",
    "    if choice2 == \"wait\":\n",
    "        choice3 = input(\"You arrive at the island unharmed. \"\n",
    "                        \"There is a house with 3 doors: one red, one yellow, and one blue. \"\n",
    "                        \"Which colour do you choose? \").lower()\n",
    "        if choice3 == \"red\":\n",
    "            print(\"It's a room full of fire. Game Over.\")\n",
    "        elif choice3 == \"blue\":\n",
    "            print(\"You enter a room of beasts. Game Over.\")\n",
    "        elif choice3 == \"yellow\":\n",
    "            print(\"You found the treasure! You Win!\")\n",
    "        else:\n",
    "            print(\"You chose a door that doesn't exist. Game Over.\")\n",
    "    elif choice2==\"swim\": \n",
    "        print(\"You got attacked by an angry trout. Game Over.\")\n",
    "    else:\n",
    "        print(\"Invalid choice.Game Over.\")\n",
    "elif choice1 ==\"right\":\n",
    "    print(\"You fell into a hole. Game Over.\")\n",
    "else:\n",
    "    print(\"Oh,See you next time!\")"
   ]
  },
  {
   "cell_type": "code",
   "execution_count": 1,
   "id": "0cce93c6-1b5d-46f1-b851-03c08829b22e",
   "metadata": {},
   "outputs": [
    {
     "name": "stdout",
     "output_type": "stream",
     "text": [
      "Welcome to the Tip Calculator!\n",
      "\n",
      "Hello I am here to help to you calculate the bills!\n"
     ]
    },
    {
     "name": "stdin",
     "output_type": "stream",
     "text": [
      "What was the total bill? ₹ 2000\n",
      "What percentage tip would you like to give? 10, 12, or 15?  10\n",
      "How many people to split the bill?  6\n"
     ]
    },
    {
     "name": "stdout",
     "output_type": "stream",
     "text": [
      "366.66666666666663\n"
     ]
    }
   ],
   "source": [
    "#Tip Calculator\n",
    "print(\"Welcome to the Tip Calculator!\")\n",
    "print(\"\\nHello I am here to help to you calculate the bills!\")\n",
    "total_bill = input(\"What was the total bill? ₹\")\n",
    "tips = input(\"What percentage tip would you like to give? 10, 12, or 15? \")\n",
    "peoples = input(\"How many people to split the bill? \")\n",
    "if total_bill.replace(\".\",\"\" ).isdigit() and tips.replace(\".\",\"\").isdigit() and peoples.replace(\".\",\"\").isdigit():\n",
    "    total_bill = float(total_bill)\n",
    "    tips = float(tips)\n",
    "    peoples = int(peoples)\n",
    "    if(total_bill > 0 and tips>0 and peoples > 0):\n",
    "        tip_amount=total_bill*(tips/100)\n",
    "        peoples_tip_amount=tip_amount/peoples\n",
    "        peoples_bill_amount=total_bill/peoples\n",
    "        peoples_amount=(peoples_tip_amount + peoples_bill_amount)\n",
    "        if(peoples_amount>=100 and tips>0 and tips<50 and peoples_tip_amount>5 and total_bill>100):\n",
    "            print(peoples_amount)\n",
    "        else:\n",
    "            print(\"peoples amount\",peoples_amount)\n",
    "            print(\"peoples tip amount\",peoples_tip_amount)\n",
    "            print(\"peoples total bill amount\",peoples_bill_amount)\n",
    "            print(\"tips\",tips)\n",
    "            print(\"tip amount\",tip_amount)\n",
    "            print(\"You have entered some invalid data recheck with it\")\n",
    "    else:\n",
    "        print(\"Values must be grater than zero\")\n",
    "       \n",
    "else:\n",
    "    print(\"Invalid input! Please enter numeric values only.\")\n",
    "    \n",
    "\n"
   ]
  },
  {
   "cell_type": "code",
   "execution_count": null,
   "id": "f95a16e3-8a93-4af7-b6cf-3392adb08866",
   "metadata": {},
   "outputs": [],
   "source": []
  }
 ],
 "metadata": {
  "kernelspec": {
   "display_name": "Python [conda env:base] *",
   "language": "python",
   "name": "conda-base-py"
  },
  "language_info": {
   "codemirror_mode": {
    "name": "ipython",
    "version": 3
   },
   "file_extension": ".py",
   "mimetype": "text/x-python",
   "name": "python",
   "nbconvert_exporter": "python",
   "pygments_lexer": "ipython3",
   "version": "3.13.5"
  }
 },
 "nbformat": 4,
 "nbformat_minor": 5
}
