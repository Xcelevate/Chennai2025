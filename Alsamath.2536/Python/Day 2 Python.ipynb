{
 "cells": [
  {
   "cell_type": "code",
   "execution_count": 38,
   "id": "8ac570e9-d826-4858-9fd7-dc6d12bcd06f",
   "metadata": {},
   "outputs": [
    {
     "data": {
      "text/plain": [
       "16"
      ]
     },
     "execution_count": 38,
     "metadata": {},
     "output_type": "execute_result"
    }
   ],
   "source": [
    "#Randomization \n",
    "#randInt(a,b)\n",
    "\n",
    "randomInt=random.randint(11,20)\n",
    "randomInt"
   ]
  },
  {
   "cell_type": "code",
   "execution_count": 43,
   "id": "ccacec4a-5846-44cb-acc8-541483d52e7e",
   "metadata": {},
   "outputs": [
    {
     "name": "stdout",
     "output_type": "stream",
     "text": [
      "23\n"
     ]
    }
   ],
   "source": [
    "print(random.randint(23,24))\n"
   ]
  },
  {
   "cell_type": "code",
   "execution_count": 52,
   "id": "8bae0ac0-ba12-4179-8a47-213a2c979e8f",
   "metadata": {},
   "outputs": [
    {
     "data": {
      "text/plain": [
       "3.14"
      ]
     },
     "execution_count": 52,
     "metadata": {},
     "output_type": "execute_result"
    }
   ],
   "source": [
    "import PROGRAM_1\n",
    "PROGRAM_1.value"
   ]
  },
  {
   "cell_type": "code",
   "execution_count": 88,
   "id": "136251e8-537b-4185-bc66-d50e34d52507",
   "metadata": {},
   "outputs": [
    {
     "data": {
      "text/plain": [
       "9"
      ]
     },
     "execution_count": 88,
     "metadata": {},
     "output_type": "execute_result"
    }
   ],
   "source": [
    "randomNum=round(random.random()*10)\n",
    "randomNum"
   ]
  },
  {
   "cell_type": "code",
   "execution_count": 81,
   "id": "71571f9f-38d9-4ee7-b9e0-095b793f4aff",
   "metadata": {},
   "outputs": [
    {
     "data": {
      "text/plain": [
       "3.7030625029641806"
      ]
     },
     "execution_count": 81,
     "metadata": {},
     "output_type": "execute_result"
    }
   ],
   "source": [
    "randFloat=random.uniform(1,10)\n",
    "randFloat"
   ]
  },
  {
   "cell_type": "code",
   "execution_count": 82,
   "id": "b0dbedf3-38d8-4d51-b867-04a040a2a935",
   "metadata": {},
   "outputs": [
    {
     "name": "stdout",
     "output_type": "stream",
     "text": [
      "1.8570416925385025\n"
     ]
    }
   ],
   "source": [
    "print(random.uniform(1,10))"
   ]
  },
  {
   "cell_type": "code",
   "execution_count": 91,
   "id": "600b1de6-8e1c-4629-8c94-7e213de0e821",
   "metadata": {},
   "outputs": [
    {
     "name": "stdout",
     "output_type": "stream",
     "text": [
      "9.54\n"
     ]
    }
   ],
   "source": [
    "print(round(random.uniform(1,10),2))"
   ]
  },
  {
   "cell_type": "code",
   "execution_count": 107,
   "id": "c99a8422-771b-4fcc-b240-38465fae6095",
   "metadata": {},
   "outputs": [
    {
     "ename": "SyntaxError",
     "evalue": "invalid syntax (4097080243.py, line 2)",
     "output_type": "error",
     "traceback": [
      "\u001b[1;36m  Cell \u001b[1;32mIn[107], line 2\u001b[1;36m\u001b[0m\n\u001b[1;33m    if(randBinary==0) ? print(\"Tail\"):print(\"Head\")\u001b[0m\n\u001b[1;37m                      ^\u001b[0m\n\u001b[1;31mSyntaxError\u001b[0m\u001b[1;31m:\u001b[0m invalid syntax\n"
     ]
    }
   ],
   "source": [
    "randBinary=random.randint(0,1)\n",
    "if(randBinary==0): print(\"Tail\"):print(\"Head\")\n",
    "  \n"
   ]
  },
  {
   "cell_type": "code",
   "execution_count": 112,
   "id": "a15685e9-dac7-4eab-b3f2-650febcb0eb1",
   "metadata": {},
   "outputs": [
    {
     "data": {
      "text/plain": [
       "False"
      ]
     },
     "execution_count": 112,
     "metadata": {},
     "output_type": "execute_result"
    }
   ],
   "source": [
    "not(True or(True and False) and (False and True) and False)"
   ]
  },
  {
   "cell_type": "code",
   "execution_count": 142,
   "id": "97cfc746-410f-46e4-a8c6-11c4e9efca98",
   "metadata": {},
   "outputs": [
    {
     "name": "stdout",
     "output_type": "stream",
     "text": [
      "False\n",
      "False\n",
      "True\n",
      "True\n"
     ]
    }
   ],
   "source": [
    "a=False\n",
    "b=False\n",
    "XOR_1=(a or b) and not(a and b)  #one type of xor expression\n",
    "XOR_2=(a and not b) or (b and not a) #another type of xor expression\n",
    "NAND=not(a and b)\n",
    "NOR=not(a or b)\n",
    "\n",
    "print(XOR_1)\n",
    "print(XOR_2)\n",
    "print(NAND)\n",
    "print(NOR)"
   ]
  },
  {
   "cell_type": "code",
   "execution_count": 132,
   "id": "7fc72838-a1b3-426c-9b25-441b50f6f31f",
   "metadata": {},
   "outputs": [
    {
     "name": "stdout",
     "output_type": "stream",
     "text": [
      "True\n",
      "<class 'bool'>\n"
     ]
    }
   ],
   "source": [
    "a=bool()\n",
    "print(a)\n",
    "print(type(a))"
   ]
  },
  {
   "cell_type": "code",
   "execution_count": 147,
   "id": "5e2f3442-ca8d-4bef-8cc9-255bc254fb3c",
   "metadata": {
    "scrolled": true
   },
   "outputs": [
    {
     "name": "stdout",
     "output_type": "stream",
     "text": [
      "250\n"
     ]
    }
   ],
   "source": [
    "print(120|\n",
    "      130)"
   ]
  },
  {
   "cell_type": "code",
   "execution_count": 152,
   "id": "2b300d9e-f8b6-4954-9c7f-96449f687779",
   "metadata": {},
   "outputs": [
    {
     "name": "stdin",
     "output_type": "stream",
     "text": [
      "Enter a number 12\n"
     ]
    },
    {
     "name": "stdout",
     "output_type": "stream",
     "text": [
      "Even\n"
     ]
    }
   ],
   "source": [
    "num=int(input(\"Enter a number\"))\n",
    "if(num%2==0):\n",
    "    print(\"Even\")\n",
    "else:\n",
    "    print(\"Odd\")"
   ]
  },
  {
   "cell_type": "code",
   "execution_count": 159,
   "id": "bc9d851f-b259-4749-ab43-fab774a11754",
   "metadata": {},
   "outputs": [
    {
     "name": "stdin",
     "output_type": "stream",
     "text": [
      "Enter a number -778786\n",
      "Enter another number -887678687687686\n"
     ]
    },
    {
     "name": "stdout",
     "output_type": "stream",
     "text": [
      "-778786\n"
     ]
    }
   ],
   "source": [
    "num1=int(input(\"Enter a number\"))\n",
    "num2=int(input(\"Enter another number\"))\n",
    "if(num1==num2):\n",
    "    print(\"Both the numbers are same\")\n",
    "elif(num1>num2):\n",
    "    print(num1)\n",
    "else:\n",
    "    print(num2)"
   ]
  },
  {
   "cell_type": "code",
   "execution_count": 183,
   "id": "0c02bae7-b1dd-4d92-9b40-4f9168732246",
   "metadata": {},
   "outputs": [
    {
     "name": "stdout",
     "output_type": "stream",
     "text": [
      "__________________GRADING SYSTEM_______________________\n"
     ]
    },
    {
     "name": "stdin",
     "output_type": "stream",
     "text": [
      "Enter your Marks 20\n"
     ]
    },
    {
     "name": "stdout",
     "output_type": "stream",
     "text": [
      "Sorry to say this ! You Failed the Exam\n"
     ]
    }
   ],
   "source": [
    "print(\"__________________GRADING SYSTEM_______________________\")\n",
    "marks=int(input(\"Enter your Marks\"))\n",
    "if(marks>=90 and marks<=100): \n",
    "    print(\"Your Grade is :{}\".format(\"A+\"))\n",
    "elif(marks<90 and marks>=75):\n",
    "    print(\"Your Grade is : A\")\n",
    "elif(marks<75 and marks>60): \n",
    "    print(\"Your Grade is:B\")\n",
    "elif(marks<=60 and marks>=40):\n",
    "    print(\"Your Grade is:C\")\n",
    "elif(marks>100 or marks<0):\n",
    "    print(\"Enter the valid mark \\nNOTE: Your mark should need to be below 100 and above 0\")\n",
    "else:\n",
    "    print(\"Sorry to say this ! You Failed the Exam\")\n",
    "    "
   ]
  },
  {
   "cell_type": "code",
   "execution_count": 190,
   "id": "f099fd72-ceb4-4720-b1aa-88503de378fd",
   "metadata": {},
   "outputs": [
    {
     "name": "stdin",
     "output_type": "stream",
     "text": [
      "Enter your statement natan\n"
     ]
    },
    {
     "name": "stdout",
     "output_type": "stream",
     "text": [
      "It is a palindrome\n"
     ]
    }
   ],
   "source": [
    "text=input(\"Enter your statement\")\n",
    "reverse_text=text[::-1]\n",
    "if(text==reverse_text):\n",
    "    print(\"It is a palindrome\")\n",
    "else:\n",
    "    print(\"It is not a palindrome\")"
   ]
  },
  {
   "cell_type": "code",
   "execution_count": 212,
   "id": "295f7ad5-83c4-4528-b889-a3fc97bbf158",
   "metadata": {},
   "outputs": [
    {
     "name": "stdout",
     "output_type": "stream",
     "text": [
      "True\n",
      "True\n",
      "True\n",
      "True\n"
     ]
    }
   ],
   "source": [
    "s1=\"Ratna\"\n",
    "s2=\"12\"\n",
    "s3=\"alsamath08j\"\n",
    "print(s1.isalpha())\n",
    "print(s2.isdigit())\n",
    "print(s1.startswith(\"Ra\"))\n",
    "print(s3.isalnum())"
   ]
  },
  {
   "cell_type": "code",
   "execution_count": 210,
   "id": "f087964c-ae84-4cd7-86b3-78439ad466d0",
   "metadata": {},
   "outputs": [
    {
     "name": "stdout",
     "output_type": "stream",
     "text": [
      "True\n"
     ]
    }
   ],
   "source": [
    "print(\"abc\"in(\"abc123\"))"
   ]
  },
  {
   "cell_type": "code",
   "execution_count": 231,
   "id": "b96d8082-c6b0-4106-89b4-4adb78a7a37f",
   "metadata": {},
   "outputs": [
    {
     "name": "stdout",
     "output_type": "stream",
     "text": [
      "True\n",
      "True\n",
      "True\n",
      "True\n",
      "True\n",
      "False\n",
      "True\n"
     ]
    }
   ],
   "source": [
    "alphabets=\"alamata\"\n",
    "document=\"myfile.txt\"\n",
    "print(alphabets.startswith(\"a\"))\n",
    "print(alphabets.startswith(\"am\",2))\n",
    "print(alphabets.startswith(\"ama\",2,5))\n",
    "print(alphabets.endswith(\"ata\",4,len(alphabets))) \n",
    "print(document.endswith((\".pdf\",\".txt\")))#we can use multiple values as a tuple of values into the endswith \n",
    "print(document.endswith(\".pdf\"or\".txt\"))#we can use multiple values into the ends with by using \"or\"\n",
    "print(document.endswith(\".pdf\"and\".txt\"))\n",
    "                        "
   ]
  },
  {
   "cell_type": "code",
   "execution_count": 275,
   "id": "f2d99135-348e-4102-9fd5-87a9105135bd",
   "metadata": {},
   "outputs": [
    {
     "name": "stdin",
     "output_type": "stream",
     "text": [
      "Enter the Year 2100\n"
     ]
    },
    {
     "name": "stdout",
     "output_type": "stream",
     "text": [
      "It is not a leap year\n"
     ]
    }
   ],
   "source": [
    "year=input(\"Enter the Year\")\n",
    "\n",
    "if(year.isdigit() and len(year)==4 and int(year)>0):\n",
    "    value=int(year)\n",
    "    if((value%4==0 and value%100!=0) or value%400==0):\n",
    "            print(\"It is a leap year\")\n",
    "    else:\n",
    "        print(\"It is not a leap year\")\n",
    "else:\n",
    "    print(\"Invalid\")"
   ]
  },
  {
   "cell_type": "code",
   "execution_count": 276,
   "id": "7c799591-eb7b-4da0-b241-edfd8dc7986b",
   "metadata": {},
   "outputs": [
    {
     "name": "stdin",
     "output_type": "stream",
     "text": [
      "Enter the Year 2024\n"
     ]
    },
    {
     "name": "stdout",
     "output_type": "stream",
     "text": [
      "It is a leap year\n"
     ]
    }
   ],
   "source": [
    "year=input(\"Enter the Year\")\n",
    "\n",
    "if(year.isdigit() and len(year)==4 and int(year)>0):\n",
    "    value=int(year)\n",
    "    if((value%4==0 and value%100!=0) or value%400==0):\n",
    "            print(\"It is a leap year\")\n",
    "    else:\n",
    "        print(\"It is not a leap year\")\n",
    "else:\n",
    "    print(\"Invalid\")\n",
    "\n",
    "    "
   ]
  },
  {
   "cell_type": "code",
   "execution_count": 305,
   "id": "310d76b0-2dd2-4b88-9f4f-0cae83245fc2",
   "metadata": {},
   "outputs": [
    {
     "name": "stdin",
     "output_type": "stream",
     "text": [
      "Enter your first side of the triangle: 1.1\n",
      "Enter your second side of the triangle: 1.1\n",
      "Enter your third side of the triangle: 1.1\n"
     ]
    },
    {
     "name": "stdout",
     "output_type": "stream",
     "text": [
      "1.1\n",
      "Equilateral\n"
     ]
    }
   ],
   "source": [
    "side1=input(\"Enter your first side of the triangle:\")\n",
    "side2=input(\"Enter your second side of the triangle:\")\n",
    "side3=input(\"Enter your third side of the triangle:\")\n",
    "if(str(side1).replace('.','').isdigit() and \n",
    "   str(side2).replace('.','').isdigit() and \n",
    "   str(side3).replace('.','').isdigit()):\n",
    "    s1=float(side1)\n",
    "    s2=float(side2)\n",
    "    s3=float(side3)\n",
    "\n",
    "    if((s1+s2)>s3 and (s2+s3)>s1 and (s3+s1)>s2 and s1>0 and s2>0 and s3>0):\n",
    "        if(s1==s2 and s2==s3 and s3==s1):\n",
    "            print(\"Equilateral\")\n",
    "        elif(s1==s2 or s2==s3 or s3==s1):\n",
    "            print(\"Isoceles\")\n",
    "        else:\n",
    "            print(\"Scalene\")\n",
    "    else:\n",
    "        print(\"Invalid Triangle\")\n",
    "else:\n",
    "    print(\"Invalid\")\n",
    "        "
   ]
  },
  {
   "cell_type": "code",
   "execution_count": 314,
   "id": "9e75da77-4ece-4a17-9b6a-24af9ee11aad",
   "metadata": {},
   "outputs": [
    {
     "name": "stdout",
     "output_type": "stream",
     "text": [
      "_______________Tip Calculator___________________\n",
      "\n",
      "Hello I am here to help you to calculate your bills \n",
      "\n",
      "Give me the below details\n"
     ]
    },
    {
     "name": "stdin",
     "output_type": "stream",
     "text": [
      "Enter your total bill in rupees:Rs. 2000.45\n",
      "How much tips you decided to give (in percentage)% ? 20\n",
      "How many members are there to split the bill with tip? 10\n"
     ]
    },
    {
     "name": "stdout",
     "output_type": "stream",
     "text": [
      "240\n"
     ]
    }
   ],
   "source": [
    "print(\"_______________Tip Calculator___________________\")\n",
    "print(\"\\nHello I am here to help you to calculate your bills \")\n",
    "print(\"\\nGive me the below details\")\n",
    "total_bill=input(\"Enter your total bill in rupees:Rs.\") \n",
    "tips=input(\"How much tips you decided to give (in percentage)% ?\")\n",
    "members=input(\"How many members are there to split the bill with tip?\")\n",
    "\n",
    "if(total_bill.replace(\".\",\"\").isdigit() and tips.replace(\".\",\"\").isdigit() and members.replace(\".\",\"\").isdigit()):\n",
    "    total_bill=float(total_bill)\n",
    "    tips=float(tips)\n",
    "    tip_amount=total_bill*(tips/100)\n",
    "    members=int(members)\n",
    "    members_tip_amount=tip_amount/members\n",
    "    members_bill_amount=total_bill/members\n",
    "\n",
    "    \n",
    "    members_amount=round(members_tip_amount + members_bill_amount)\n",
    "    if(members_amount>=100 and (tips>0 and tips<50) and members_tip_amount>5):\n",
    "        print(members_amount)\n",
    "    \n",
    "    else:\n",
    "        print(\"members tip amount\",members_tip_amount)\n",
    "        print(\"members total bill amount \",members_bill_amount)\n",
    "        print(\"tips\",tips)\n",
    "        print(\"tip amount\",tip_amount)\n",
    "        print(\"You have entered some invalid data recheck with it\")\n",
    "\n",
    "    \n",
    "\n"
   ]
  },
  {
   "cell_type": "code",
   "execution_count": null,
   "id": "9b91afbb-9751-4a3d-b9d6-ffe6d673d49f",
   "metadata": {},
   "outputs": [],
   "source": []
  }
 ],
 "metadata": {
  "kernelspec": {
   "display_name": "Python [conda env:base] *",
   "language": "python",
   "name": "conda-base-py"
  },
  "language_info": {
   "codemirror_mode": {
    "name": "ipython",
    "version": 3
   },
   "file_extension": ".py",
   "mimetype": "text/x-python",
   "name": "python",
   "nbconvert_exporter": "python",
   "pygments_lexer": "ipython3",
   "version": "3.13.5"
  }
 },
 "nbformat": 4,
 "nbformat_minor": 5
}
