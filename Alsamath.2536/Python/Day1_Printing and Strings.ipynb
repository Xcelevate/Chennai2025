{
 "cells": [
  {
   "cell_type": "markdown",
   "id": "f8d5d729-21f6-44ee-abf8-450f0cf61833",
   "metadata": {},
   "source": [
    "# n"
   ]
  },
  {
   "cell_type": "code",
   "execution_count": 1,
   "id": "26218700-b224-4739-ac35-000f8573528f",
   "metadata": {},
   "outputs": [
    {
     "name": "stdout",
     "output_type": "stream",
     "text": [
      "Hello World!\n"
     ]
    }
   ],
   "source": [
    "print(\"Hello World!\")"
   ]
  },
  {
   "cell_type": "code",
   "execution_count": 2,
   "id": "57dfe97f-85ea-40c8-a455-286493b43aed",
   "metadata": {},
   "outputs": [
    {
     "ename": "SyntaxError",
     "evalue": "unterminated string literal (detected at line 1) (2771583741.py, line 1)",
     "output_type": "error",
     "traceback": [
      "\u001b[1;36m  Cell \u001b[1;32mIn[2], line 1\u001b[1;36m\u001b[0m\n\u001b[1;33m    print(\"Hello World)\u001b[0m\n\u001b[1;37m          ^\u001b[0m\n\u001b[1;31mSyntaxError\u001b[0m\u001b[1;31m:\u001b[0m unterminated string literal (detected at line 1)\n"
     ]
    }
   ],
   "source": [
    "print(\"Hello World)"
   ]
  },
  {
   "cell_type": "code",
   "execution_count": 3,
   "id": "aabbeaeb-0f15-42ec-8502-6efe387db80a",
   "metadata": {},
   "outputs": [
    {
     "ename": "SyntaxError",
     "evalue": "unterminated string literal (detected at line 1) (2334651526.py, line 1)",
     "output_type": "error",
     "traceback": [
      "\u001b[1;36m  Cell \u001b[1;32mIn[3], line 1\u001b[1;36m\u001b[0m\n\u001b[1;33m    print(Hello World!\")\u001b[0m\n\u001b[1;37m                      ^\u001b[0m\n\u001b[1;31mSyntaxError\u001b[0m\u001b[1;31m:\u001b[0m unterminated string literal (detected at line 1)\n"
     ]
    }
   ],
   "source": [
    "print(Hello World!\")"
   ]
  },
  {
   "cell_type": "code",
   "execution_count": 4,
   "id": "4ddf5563-8f78-4c28-8193-ec98c96b525e",
   "metadata": {},
   "outputs": [
    {
     "name": "stdout",
     "output_type": "stream",
     "text": [
      "1. Mix 500g of Flour, 10g Yeast and 300ml Water in a bowl.\n"
     ]
    }
   ],
   "source": [
    "print(\"1. Mix 500g of Flour, 10g Yeast and 300ml Water in a bowl.\")"
   ]
  },
  {
   "cell_type": "code",
   "execution_count": 49,
   "id": "f643c3c2-32a4-4428-a02b-f5747bd67325",
   "metadata": {
    "scrolled": true
   },
   "outputs": [
    {
     "name": "stdout",
     "output_type": "stream",
     "text": [
      "1. Mix 500g of Flour, 10g Yeast and 300ml Water in a bowl.\n",
      "2. Knead the dough for 10 minutes.\n",
      "3. Add 3g of Salt.\n",
      "4. Leave to rise for 2 hours.\n",
      "5. Bake at 200 degress C for 30 minutes.\n"
     ]
    }
   ],
   "source": [
    "#Exercise 1 \n",
    "print(\"1. Mix 500g of Flour, 10g Yeast and 300ml Water in a bowl.\")    \n",
    "print(\"2. Knead the dough for 10 minutes.\")\n",
    "print(\"3. Add 3g of Salt.\")\n",
    "print(\"4. Leave to rise for 2 hours.\")\n",
    "print(\"5. Bake at 200 degress C for 30 minutes.\")"
   ]
  },
  {
   "cell_type": "code",
   "execution_count": 6,
   "id": "845e8dee-aba5-4e4a-8b1b-370ae929d823",
   "metadata": {},
   "outputs": [
    {
     "ename": "_IncompleteInputError",
     "evalue": "incomplete input (1609252557.py, line 1)",
     "output_type": "error",
     "traceback": [
      "\u001b[1;36m  Cell \u001b[1;32mIn[6], line 1\u001b[1;36m\u001b[0m\n\u001b[1;33m    print(\"1. Mix 500g of Flour, 10g Yeast and 300ml Water in a bowl.\\n 2. Knead the dough for 10 minutes.\"\u001b[0m\n\u001b[1;37m                                                                                                           ^\u001b[0m\n\u001b[1;31m_IncompleteInputError\u001b[0m\u001b[1;31m:\u001b[0m incomplete input\n"
     ]
    }
   ],
   "source": [
    "print(\"1. Mix 500g of Flour, 10g Yeast and 300ml Water in a bowl.\\n 2. Knead the dough for 10 minutes.\""
   ]
  },
  {
   "cell_type": "code",
   "execution_count": 7,
   "id": "f67ab3be-993a-4f18-b091-0300015a2eec",
   "metadata": {},
   "outputs": [
    {
     "ename": "_IncompleteInputError",
     "evalue": "incomplete input (2826409437.py, line 1)",
     "output_type": "error",
     "traceback": [
      "\u001b[1;36m  Cell \u001b[1;32mIn[7], line 1\u001b[1;36m\u001b[0m\n\u001b[1;33m    print(\"1. Mix 500g of Flour, 10g Yeast and 300ml Water in a bowl.\\n 2. Knead the dough for 10 minutes.\\n\"\u001b[0m\n\u001b[1;37m                                                                                                             ^\u001b[0m\n\u001b[1;31m_IncompleteInputError\u001b[0m\u001b[1;31m:\u001b[0m incomplete input\n"
     ]
    }
   ],
   "source": [
    "print(\"1. Mix 500g of Flour, 10g Yeast and 300ml Water in a bowl.\\n 2. Knead the dough for 10 minutes.\\n\""
   ]
  },
  {
   "cell_type": "code",
   "execution_count": 9,
   "id": "b6b24fe0-71b9-45e2-82e6-6321629d638d",
   "metadata": {},
   "outputs": [
    {
     "name": "stdout",
     "output_type": "stream",
     "text": [
      "1. Mix 500g of Flour, 10g Yeast and 300ml Water in a bowl.\n",
      "2. Knead the dough for 10 minutes.\n",
      "\n"
     ]
    }
   ],
   "source": [
    "print(\"1. Mix 500g of Flour, 10g Yeast and 300ml Water in a bowl.\\n2. Knead the dough for 10 minutes.\\n\")"
   ]
  },
  {
   "cell_type": "code",
   "execution_count": 10,
   "id": "96090e3d-9eea-4892-bd25-53c27746d4ee",
   "metadata": {},
   "outputs": [
    {
     "name": "stdout",
     "output_type": "stream",
     "text": [
      "Hello World!\n"
     ]
    }
   ],
   "source": [
    "print(\"Hello\"+\" \"+\"World!\")"
   ]
  },
  {
   "cell_type": "code",
   "execution_count": 11,
   "id": "dc14200c-0704-40bc-a045-9a821252b960",
   "metadata": {},
   "outputs": [
    {
     "name": "stdout",
     "output_type": "stream",
     "text": [
      "HelloWorld!\n"
     ]
    }
   ],
   "source": [
    "print(\"Hello\"+\"World!\")"
   ]
  },
  {
   "cell_type": "code",
   "execution_count": 13,
   "id": "fd8ce435-c88b-424e-b253-af3512f9a340",
   "metadata": {},
   "outputs": [
    {
     "data": {
      "text/plain": [
       "\u001b[1;31mSignature:\u001b[0m \u001b[0minput\u001b[0m\u001b[1;33m(\u001b[0m\u001b[0mprompt\u001b[0m\u001b[1;33m=\u001b[0m\u001b[1;34m''\u001b[0m\u001b[1;33m)\u001b[0m\u001b[1;33m\u001b[0m\u001b[1;33m\u001b[0m\u001b[0m\n",
       "\u001b[1;31mDocstring:\u001b[0m\n",
       "Forward raw_input to frontends\n",
       "\n",
       "Raises\n",
       "------\n",
       "StdinNotImplementedError if active frontend doesn't support stdin.\n",
       "\u001b[1;31mFile:\u001b[0m      c:\\users\\dell\\anaconda3\\lib\\site-packages\\ipykernel\\kernelbase.py\n",
       "\u001b[1;31mType:\u001b[0m      method"
      ]
     },
     "metadata": {},
     "output_type": "display_data"
    }
   ],
   "source": [
    "input?"
   ]
  },
  {
   "cell_type": "code",
   "execution_count": 52,
   "id": "918de357-e0b4-4885-bf71-c2d74fef6a49",
   "metadata": {},
   "outputs": [
    {
     "name": "stdin",
     "output_type": "stream",
     "text": [
      "What is your name? Alsamath\n"
     ]
    },
    {
     "name": "stdout",
     "output_type": "stream",
     "text": [
      "Hello I amAlsamath\n"
     ]
    }
   ],
   "source": [
    "print(\"Hello I am\"+input(\"What is your name?\"))"
   ]
  },
  {
   "cell_type": "code",
   "execution_count": 16,
   "id": "3e13515b-fa3a-4c2e-8285-f7ed6f23fbec",
   "metadata": {},
   "outputs": [
    {
     "name": "stdin",
     "output_type": "stream",
     "text": [
      "What is your name? Alsamath \n"
     ]
    }
   ],
   "source": [
    "name=input(\"What is your name?\")"
   ]
  },
  {
   "cell_type": "code",
   "execution_count": 17,
   "id": "5f1aefe1-bb9f-4ad5-9d4a-f97719e861a9",
   "metadata": {},
   "outputs": [
    {
     "name": "stdout",
     "output_type": "stream",
     "text": [
      "Alsamath \n"
     ]
    }
   ],
   "source": [
    "print(name)"
   ]
  },
  {
   "cell_type": "code",
   "execution_count": 53,
   "id": "cded642a-103f-4b6d-a048-0af96e9cebde",
   "metadata": {},
   "outputs": [
    {
     "name": "stdin",
     "output_type": "stream",
     "text": [
      " Alsamath\n"
     ]
    },
    {
     "name": "stdout",
     "output_type": "stream",
     "text": [
      "Hello Alsamath\n",
      "I am Learning Python\n"
     ]
    },
    {
     "name": "stdin",
     "output_type": "stream",
     "text": [
      "What is your name? Alsamath\n"
     ]
    },
    {
     "name": "stdout",
     "output_type": "stream",
     "text": [
      "Hello Alsamath\n",
      "I am Learning Python\n"
     ]
    }
   ],
   "source": [
    "#Exercise 2 \n",
    "print(\"Hello \"+input()+\"\\nI am Learning Python\")  # not a good practice \n",
    "\n",
    "name=input(\"What is your name?\")\n",
    "print(\"Hello \"+name+\"\\nI am Learning Python\")   # good practice "
   ]
  },
  {
   "cell_type": "code",
   "execution_count": 9,
   "id": "62fc93c6-1825-44cc-959a-9f50cee7e69d",
   "metadata": {},
   "outputs": [
    {
     "name": "stdin",
     "output_type": "stream",
     "text": [
      "Enter your Name to check the length of your name Alsamath Jaffar\n"
     ]
    },
    {
     "data": {
      "text/plain": [
       "15"
      ]
     },
     "execution_count": 9,
     "metadata": {},
     "output_type": "execute_result"
    }
   ],
   "source": [
    "len(input(\"Enter your Name to check the length of your name\"))"
   ]
  },
  {
   "cell_type": "code",
   "execution_count": 24,
   "id": "e1eafb20-80b1-4c28-ba16-b22c4b889d16",
   "metadata": {},
   "outputs": [],
   "source": [
    "glass1=\"milk\"\n",
    "glass2=\"juice\"\n",
    "\n",
    "\n"
   ]
  },
  {
   "cell_type": "code",
   "execution_count": 29,
   "id": "0d952f59-21d4-4be9-88ce-9b0b49bfa939",
   "metadata": {},
   "outputs": [
    {
     "name": "stdout",
     "output_type": "stream",
     "text": [
      "Before Swapping \n",
      "glass1: milk \n",
      "glass2: juice\n",
      "\n",
      "After Swapping \n",
      "glass1: juice \n",
      "glass2: milk\n"
     ]
    }
   ],
   "source": [
    "\n",
    "print(\"Before Swapping \"+\"\\nglass1:\",glass1,\"\\nglass2:\",glass2)\n",
    "temp=glass1\n",
    "glass1=glass2\n",
    "glass2=temp\n",
    "print(\"\\nAfter Swapping \"+\"\\nglass1:\",glass1,\"\\nglass2:\",glass2)"
   ]
  },
  {
   "cell_type": "code",
   "execution_count": 78,
   "id": "8cf8b700-c89d-4acb-b44a-66874268cf86",
   "metadata": {},
   "outputs": [
    {
     "ename": "TypeError",
     "evalue": "object of type 'int' has no len()",
     "output_type": "error",
     "traceback": [
      "\u001b[1;31m---------------------------------------------------------------------------\u001b[0m",
      "\u001b[1;31mTypeError\u001b[0m                                 Traceback (most recent call last)",
      "Cell \u001b[1;32mIn[78], line 1\u001b[0m\n\u001b[1;32m----> 1\u001b[0m \u001b[38;5;28mlen\u001b[39m(\u001b[38;5;241m123\u001b[39m)\n",
      "\u001b[1;31mTypeError\u001b[0m: object of type 'int' has no len()"
     ]
    }
   ],
   "source": [
    "len(123) #len is used only for strings"
   ]
  },
  {
   "cell_type": "code",
   "execution_count": 79,
   "id": "4f873296-7839-492a-9d96-469e0284dba2",
   "metadata": {},
   "outputs": [],
   "source": [
    "str=\"Hello\" #subscripting "
   ]
  },
  {
   "cell_type": "code",
   "execution_count": 34,
   "id": "66517248-2e27-40c7-a173-ee749afb03d1",
   "metadata": {},
   "outputs": [
    {
     "name": "stdout",
     "output_type": "stream",
     "text": [
      "A\n"
     ]
    }
   ],
   "source": [
    "print(str[0])"
   ]
  },
  {
   "cell_type": "code",
   "execution_count": 67,
   "id": "7dd7e5a6-3b4b-432a-a468-f506325ed949",
   "metadata": {},
   "outputs": [
    {
     "name": "stdout",
     "output_type": "stream",
     "text": [
      "\n"
     ]
    }
   ],
   "source": [
    "print(str[2:2:2])"
   ]
  },
  {
   "cell_type": "code",
   "execution_count": 75,
   "id": "68272e9b-903d-4b48-ba27-4d8103b9a339",
   "metadata": {},
   "outputs": [
    {
     "name": "stdout",
     "output_type": "stream",
     "text": [
      "\n"
     ]
    }
   ],
   "source": [
    "print(str[2:1:2])"
   ]
  },
  {
   "cell_type": "code",
   "execution_count": 77,
   "id": "93f3873d-4e8a-4a36-94aa-5eba402858f4",
   "metadata": {},
   "outputs": [
    {
     "ename": "TypeError",
     "evalue": "'str' object does not support item assignment",
     "output_type": "error",
     "traceback": [
      "\u001b[1;31m---------------------------------------------------------------------------\u001b[0m",
      "\u001b[1;31mTypeError\u001b[0m                                 Traceback (most recent call last)",
      "Cell \u001b[1;32mIn[77], line 1\u001b[0m\n\u001b[1;32m----> 1\u001b[0m \u001b[38;5;28mstr\u001b[39m[\u001b[38;5;241m0\u001b[39m]\u001b[38;5;241m=\u001b[39m\u001b[38;5;124m\"\u001b[39m\u001b[38;5;124mM\u001b[39m\u001b[38;5;124m\"\u001b[39m\n",
      "\u001b[1;31mTypeError\u001b[0m: 'str' object does not support item assignment"
     ]
    }
   ],
   "source": [
    "str[0]=\"M\" # strings are immutable \n"
   ]
  },
  {
   "cell_type": "code",
   "execution_count": 120,
   "id": "c0b2f61c-eb78-4330-bda1-94cf688a811a",
   "metadata": {},
   "outputs": [],
   "source": [
    "str=\"malayalam\"\n",
    "forward=str[0:5]\n",
    "backward=str[::-1]\n",
    "\n"
   ]
  },
  {
   "cell_type": "code",
   "execution_count": 119,
   "id": "2f3891bb-63a9-4355-9d77-f7779044f281",
   "metadata": {},
   "outputs": [
    {
     "name": "stdout",
     "output_type": "stream",
     "text": [
      "olleH\n"
     ]
    }
   ],
   "source": [
    "print(backward)"
   ]
  },
  {
   "cell_type": "code",
   "execution_count": 121,
   "id": "5661fcd5-e1d6-4263-8624-3909822d1520",
   "metadata": {},
   "outputs": [
    {
     "name": "stdout",
     "output_type": "stream",
     "text": [
      "False\n"
     ]
    }
   ],
   "source": [
    "print(forward is backward)"
   ]
  },
  {
   "cell_type": "code",
   "execution_count": 123,
   "id": "496e6e76-5194-49ab-9dc7-e2dc5ec65704",
   "metadata": {},
   "outputs": [
    {
     "data": {
      "text/plain": [
       "\u001b[1;31mInit signature:\u001b[0m \u001b[0mtype\u001b[0m\u001b[1;33m(\u001b[0m\u001b[0mself\u001b[0m\u001b[1;33m,\u001b[0m \u001b[1;33m/\u001b[0m\u001b[1;33m,\u001b[0m \u001b[1;33m*\u001b[0m\u001b[0margs\u001b[0m\u001b[1;33m,\u001b[0m \u001b[1;33m**\u001b[0m\u001b[0mkwargs\u001b[0m\u001b[1;33m)\u001b[0m\u001b[1;33m\u001b[0m\u001b[1;33m\u001b[0m\u001b[0m\n",
       "\u001b[1;31mDocstring:\u001b[0m     \n",
       "type(object) -> the object's type\n",
       "type(name, bases, dict, **kwds) -> a new type\n",
       "\u001b[1;31mType:\u001b[0m           type\n",
       "\u001b[1;31mSubclasses:\u001b[0m     ABCMeta, EnumType, _AnyMeta, NamedTupleMeta, _TypedDictMeta, _ABC, MetaHasDescriptors, CType_Type, _TzSingleton, _TzFactory, ..."
      ]
     },
     "metadata": {},
     "output_type": "display_data"
    }
   ],
   "source": [
    "type?"
   ]
  },
  {
   "cell_type": "code",
   "execution_count": 124,
   "id": "8a91b50c-301a-48a8-9fb9-bf0de64b330c",
   "metadata": {},
   "outputs": [
    {
     "name": "stdout",
     "output_type": "stream",
     "text": [
      "579\n"
     ]
    }
   ],
   "source": [
    "print(int(\"123\")+int(\"456\"))  # type casting  converting string --> int"
   ]
  },
  {
   "cell_type": "code",
   "execution_count": 125,
   "id": "12a7a1d3-989d-4fc4-8bd7-8dd3e9f22a3b",
   "metadata": {},
   "outputs": [
    {
     "ename": "ValueError",
     "evalue": "invalid literal for int() with base 10: 'abc'",
     "output_type": "error",
     "traceback": [
      "\u001b[1;31m---------------------------------------------------------------------------\u001b[0m",
      "\u001b[1;31mValueError\u001b[0m                                Traceback (most recent call last)",
      "Cell \u001b[1;32mIn[125], line 1\u001b[0m\n\u001b[1;32m----> 1\u001b[0m \u001b[38;5;28mprint\u001b[39m(\u001b[38;5;28mint\u001b[39m(\u001b[38;5;124m\"\u001b[39m\u001b[38;5;124mabc\u001b[39m\u001b[38;5;124m\"\u001b[39m)\u001b[38;5;241m+\u001b[39m\u001b[38;5;28mint\u001b[39m(\u001b[38;5;124m\"\u001b[39m\u001b[38;5;124m456\u001b[39m\u001b[38;5;124m\"\u001b[39m))\n",
      "\u001b[1;31mValueError\u001b[0m: invalid literal for int() with base 10: 'abc'"
     ]
    }
   ],
   "source": [
    "print(int(\"abc\")+int(\"456\"))  # type casting  converting string --> int"
   ]
  },
  {
   "cell_type": "code",
   "execution_count": 132,
   "id": "d2d5e1de-a1c6-453e-80b8-dd3300dbfef6",
   "metadata": {},
   "outputs": [
    {
     "name": "stdin",
     "output_type": "stream",
     "text": [
      "What is your name? a\n"
     ]
    },
    {
     "ename": "TypeError",
     "evalue": "'str' object is not callable",
     "output_type": "error",
     "traceback": [
      "\u001b[1;31m---------------------------------------------------------------------------\u001b[0m",
      "\u001b[1;31mTypeError\u001b[0m                                 Traceback (most recent call last)",
      "Cell \u001b[1;32mIn[132], line 1\u001b[0m\n\u001b[1;32m----> 1\u001b[0m a \u001b[38;5;241m=\u001b[39m \u001b[38;5;28mstr\u001b[39m(\u001b[38;5;28mlen\u001b[39m(\u001b[38;5;28minput\u001b[39m(\u001b[38;5;124m\"\u001b[39m\u001b[38;5;124mWhat is your name?\u001b[39m\u001b[38;5;124m\"\u001b[39m)))\n",
      "\u001b[1;31mTypeError\u001b[0m: 'str' object is not callable"
     ]
    }
   ],
   "source": [
    "a = str(len(input(\"What is your name?\")))"
   ]
  },
  {
   "cell_type": "code",
   "execution_count": 3,
   "id": "7252b383-171e-494e-8c84-0a6c4c9868cd",
   "metadata": {},
   "outputs": [
    {
     "name": "stdin",
     "output_type": "stream",
     "text": [
      "What is your name? Alsamath\n"
     ]
    },
    {
     "name": "stdout",
     "output_type": "stream",
     "text": [
      "Number of letters in the name 8\n"
     ]
    }
   ],
   "source": [
    "print(\"Number of letters in the name\" +\" \"+ (str(len(input(\"What is your name?\")))))"
   ]
  },
  {
   "cell_type": "code",
   "execution_count": 139,
   "id": "ed5c682b-c78e-4b75-b942-74f83773aca1",
   "metadata": {},
   "outputs": [
    {
     "name": "stdout",
     "output_type": "stream",
     "text": [
      "ALSAMATH IS LEARNING PYTHON\n"
     ]
    }
   ],
   "source": [
    "text=\"Alsamath is learning python\"\n",
    "print(text.upper())"
   ]
  },
  {
   "cell_type": "code",
   "execution_count": 140,
   "id": "a7e754f6-d7b6-4f2e-a3f7-d08e9ca8d411",
   "metadata": {},
   "outputs": [
    {
     "name": "stdout",
     "output_type": "stream",
     "text": [
      "alsamath is learning python\n"
     ]
    }
   ],
   "source": [
    "print(text.lower())"
   ]
  },
  {
   "cell_type": "code",
   "execution_count": 141,
   "id": "bcd35a8b-8a87-4311-b2c0-d408eeb0dc14",
   "metadata": {},
   "outputs": [
    {
     "name": "stdout",
     "output_type": "stream",
     "text": [
      "Alsamath is learning python\n"
     ]
    }
   ],
   "source": [
    "print(text.capitalize())"
   ]
  },
  {
   "cell_type": "code",
   "execution_count": 142,
   "id": "2e3f2614-589a-422e-acd7-3e5001f16a31",
   "metadata": {},
   "outputs": [
    {
     "name": "stdout",
     "output_type": "stream",
     "text": [
      "Alsamath Is Learning Python\n"
     ]
    }
   ],
   "source": [
    "print(text.title())"
   ]
  },
  {
   "cell_type": "code",
   "execution_count": 143,
   "id": "b9bd5104-e535-46b2-9de2-34cf97c9f38b",
   "metadata": {},
   "outputs": [
    {
     "name": "stdout",
     "output_type": "stream",
     "text": [
      "aLSAMATH IS LEARNING PYTHON\n"
     ]
    }
   ],
   "source": [
    "print(text.swapcase())"
   ]
  },
  {
   "cell_type": "code",
   "execution_count": 144,
   "id": "3a39d7be-67a1-4784-b5fa-282207185e08",
   "metadata": {},
   "outputs": [
    {
     "name": "stdout",
     "output_type": "stream",
     "text": [
      "Alsamath is learning python\n"
     ]
    }
   ],
   "source": [
    "print(text.strip())"
   ]
  },
  {
   "cell_type": "code",
   "execution_count": 155,
   "id": "d59399a8-ce18-4cba-8d03-cd78437d164d",
   "metadata": {},
   "outputs": [],
   "source": [
    "a=\"    Anuragh sir is teaching python now       \"\n"
   ]
  },
  {
   "cell_type": "code",
   "execution_count": 156,
   "id": "13cfb15f-ad6c-4560-8da3-2826ba49d306",
   "metadata": {},
   "outputs": [
    {
     "name": "stdout",
     "output_type": "stream",
     "text": [
      "Anuragh sir is teaching python now\n"
     ]
    }
   ],
   "source": [
    "print(a.strip())"
   ]
  },
  {
   "cell_type": "code",
   "execution_count": 157,
   "id": "3cb4cbc9-0f19-47d7-ab5f-bc5f50c807e2",
   "metadata": {},
   "outputs": [
    {
     "name": "stdout",
     "output_type": "stream",
     "text": [
      "    Anuragh sir is teaching python now\n"
     ]
    }
   ],
   "source": [
    "print(a.rstrip())"
   ]
  },
  {
   "cell_type": "code",
   "execution_count": 158,
   "id": "c2534909-9976-4642-addf-863c90a2b71f",
   "metadata": {},
   "outputs": [
    {
     "name": "stdout",
     "output_type": "stream",
     "text": [
      "Anuragh sir is teaching python now       \n"
     ]
    }
   ],
   "source": [
    "print(a.lstrip())"
   ]
  },
  {
   "cell_type": "code",
   "execution_count": 159,
   "id": "a232c1e5-5240-4011-b2f4-4f3eb529d22a",
   "metadata": {},
   "outputs": [],
   "source": [
    "sentence=\"I love python programming\""
   ]
  },
  {
   "cell_type": "code",
   "execution_count": 162,
   "id": "ac21af81-c676-447a-9e77-2bc857020f78",
   "metadata": {},
   "outputs": [
    {
     "name": "stdout",
     "output_type": "stream",
     "text": [
      "7\n"
     ]
    }
   ],
   "source": [
    "print(sentence.find(\"python\"))"
   ]
  },
  {
   "cell_type": "code",
   "execution_count": 163,
   "id": "77a2da76-0399-4e84-a5a7-e22e56747354",
   "metadata": {},
   "outputs": [],
   "source": [
    "new_sentence=sentence.replace(\"python\",\"java\")"
   ]
  },
  {
   "cell_type": "code",
   "execution_count": 164,
   "id": "8a026d52-b914-473d-9977-abce6489d463",
   "metadata": {},
   "outputs": [
    {
     "name": "stdout",
     "output_type": "stream",
     "text": [
      "I love java programming\n"
     ]
    }
   ],
   "source": [
    "print(new_sentence)"
   ]
  },
  {
   "cell_type": "code",
   "execution_count": 5,
   "id": "57c97f42-e109-4ac0-bf8f-72c6b358cb6c",
   "metadata": {},
   "outputs": [],
   "source": [
    "sentences=\"i love python programming and python is not a snake\"\n"
   ]
  },
  {
   "cell_type": "code",
   "execution_count": 6,
   "id": "ebba03e2-6f80-42d9-9935-b30fa24e6cf5",
   "metadata": {},
   "outputs": [
    {
     "ename": "AttributeError",
     "evalue": "'str' object has no attribute 'findall'",
     "output_type": "error",
     "traceback": [
      "\u001b[1;31m---------------------------------------------------------------------------\u001b[0m",
      "\u001b[1;31mAttributeError\u001b[0m                            Traceback (most recent call last)",
      "Cell \u001b[1;32mIn[6], line 1\u001b[0m\n\u001b[1;32m----> 1\u001b[0m \u001b[38;5;28mprint\u001b[39m(sentences\u001b[38;5;241m.\u001b[39mfindall(\u001b[38;5;124m\"\u001b[39m\u001b[38;5;124mpython\u001b[39m\u001b[38;5;124m\"\u001b[39m))\n",
      "\u001b[1;31mAttributeError\u001b[0m: 'str' object has no attribute 'findall'"
     ]
    }
   ],
   "source": [
    "print(sentences.findall(\"python\"))"
   ]
  },
  {
   "cell_type": "code",
   "execution_count": 7,
   "id": "9f0163b3-83a6-4b5f-a6cb-9d8a75e4c8ec",
   "metadata": {},
   "outputs": [],
   "source": [
    "import re\n"
   ]
  },
  {
   "cell_type": "code",
   "execution_count": 8,
   "id": "92f5f05e-b848-4606-8de3-1d43548dd552",
   "metadata": {},
   "outputs": [],
   "source": [
    "text=\"I love Python Programming Python is not a snake\""
   ]
  },
  {
   "cell_type": "code",
   "execution_count": 9,
   "id": "be613022-5dd1-45b5-bc7b-628d10c37e9f",
   "metadata": {},
   "outputs": [
    {
     "ename": "TypeError",
     "evalue": "findall() missing 1 required positional argument: 'string'",
     "output_type": "error",
     "traceback": [
      "\u001b[1;31m---------------------------------------------------------------------------\u001b[0m",
      "\u001b[1;31mTypeError\u001b[0m                                 Traceback (most recent call last)",
      "Cell \u001b[1;32mIn[9], line 1\u001b[0m\n\u001b[1;32m----> 1\u001b[0m \u001b[38;5;28mprint\u001b[39m(re\u001b[38;5;241m.\u001b[39mfindall(\u001b[38;5;124m\"\u001b[39m\u001b[38;5;124mPython\u001b[39m\u001b[38;5;124m\"\u001b[39m))\n",
      "\u001b[1;31mTypeError\u001b[0m: findall() missing 1 required positional argument: 'string'"
     ]
    }
   ],
   "source": [
    "print(re.findall(\"Python\"))"
   ]
  },
  {
   "cell_type": "code",
   "execution_count": 21,
   "id": "0450bc9d-edd7-4f63-ba53-32d079c2668c",
   "metadata": {},
   "outputs": [
    {
     "name": "stdin",
     "output_type": "stream",
     "text": [
      " yogesh\n",
      " the best\n"
     ]
    },
    {
     "name": "stdout",
     "output_type": "stream",
     "text": [
      "yogesh the best\n"
     ]
    }
   ],
   "source": [
    "role_model=input()\n",
    "strength=input()\n",
    "print(role_model,strength)"
   ]
  },
  {
   "cell_type": "code",
   "execution_count": 35,
   "id": "117f182f-7e80-4f2e-84cf-76a125214cda",
   "metadata": {},
   "outputs": [
    {
     "name": "stdout",
     "output_type": "stream",
     "text": [
      "Hi Guys , Lets form a Group name\n",
      "Kindly Follow my instruction\n",
      "\n"
     ]
    },
    {
     "name": "stdin",
     "output_type": "stream",
     "text": [
      "Enter your First Name Alsamath \n",
      "Enter your Last Name sameer\n",
      "Enter the date you born 08\n"
     ]
    },
    {
     "name": "stdout",
     "output_type": "stream",
     "text": [
      "Wait a sec!!! Your group name is processing .......\n",
      "\n",
      "Hey You got your mail id \n",
      "Here it is  Alsa08eer\n",
      "Thank you and Bye Bye !!!!!\n"
     ]
    }
   ],
   "source": [
    "print(\"Hi Guys , Lets form a Group name\\nKindly Follow my instruction\\n\")\n",
    "First_Name=input(\"Enter your First Name\")\n",
    "Last_Name=input(\"Enter your Last Name\")\n",
    "DOB=input(\"Enter the date you born\")\n",
    "print(\"Wait a sec!!! Your group name is processing .......\\n\")\n",
    "print(\"Hey You got your mail id \\nHere it is \"\n",
    "      ,First_Name[0:(len(First_Name)//2)]+DOB+Last_Name[(len(Last_Name)//2):len(Last_Name)])\n",
    "\n",
    "print(\"Thank you and Bye Bye !!!!!\")"
   ]
  },
  {
   "cell_type": "code",
   "execution_count": 38,
   "id": "dedd1460-ebc8-47fc-9fe9-751344582184",
   "metadata": {},
   "outputs": [
    {
     "name": "stdout",
     "output_type": "stream",
     "text": [
      "['I', 'love', 'thalapathy']\n"
     ]
    }
   ],
   "source": [
    "text= \"I love thalapathy\"\n",
    "new_text=text.split(\" \")\n",
    "print(new_text)      "
   ]
  },
  {
   "cell_type": "code",
   "execution_count": 44,
   "id": "cad7a3d4-2a9e-4681-aab5-0ddf9d7103a5",
   "metadata": {},
   "outputs": [
    {
     "name": "stdout",
     "output_type": "stream",
     "text": [
      "I-am-here-to-study-python-\n",
      "I_am_here_to_study_python_\n",
      "I- -a-m- -h-e-r-e- -t-o- -s-t-u-d-y- -p-y-t-h-o-n- \n"
     ]
    }
   ],
   "source": [
    "data=\"I am here to study python \"\n",
    "words=data.split(\" \")\n",
    "updated_word=\"-\".join(words)\n",
    "updated_word_2=\"_\".join(words)\n",
    "print(updated_word)\n",
    "print(updated_word_2)\n",
    "updated_data=\"-\".join(data)\n",
    "print(updated_data)"
   ]
  },
  {
   "cell_type": "code",
   "execution_count": 45,
   "id": "dad2acce-42e8-4daa-9b5d-eac878be365b",
   "metadata": {},
   "outputs": [
    {
     "name": "stdout",
     "output_type": "stream",
     "text": [
      "alsamath**\n",
      "**alsamath\n"
     ]
    }
   ],
   "source": [
    "name=\"alsamath\"\n",
    "name_left=name.ljust(10,\"*\")\n",
    "name_right=name.rjust(10,\"*\")\n",
    "print(name_left)\n",
    "print(name_right)"
   ]
  },
  {
   "cell_type": "code",
   "execution_count": 46,
   "id": "82b57a36-16a3-45dd-b275-468e8d854c2c",
   "metadata": {},
   "outputs": [
    {
     "name": "stdout",
     "output_type": "stream",
     "text": [
      "3.148\n"
     ]
    }
   ],
   "source": [
    "print(round(3.147832,3))"
   ]
  },
  {
   "cell_type": "code",
   "execution_count": 47,
   "id": "9e99412f-bd14-4eca-bce8-63dd4950568f",
   "metadata": {},
   "outputs": [
    {
     "name": "stdout",
     "output_type": "stream",
     "text": [
      "0.0\n"
     ]
    }
   ],
   "source": [
    "print(round(3.147832,-3))"
   ]
  },
  {
   "cell_type": "code",
   "execution_count": 94,
   "id": "dc4e3853-b87b-4d69-a6bc-2e6eb4a1b63e",
   "metadata": {},
   "outputs": [
    {
     "name": "stdout",
     "output_type": "stream",
     "text": [
      "I love cricket\n",
      "I Love Cricket\n"
     ]
    }
   ],
   "source": [
    "text=\"i love cricket\"\n",
    "print(text.capitalize())\n",
    "print(text.title())"
   ]
  },
  {
   "cell_type": "code",
   "execution_count": 104,
   "id": "a5432016-7de0-49ea-aa15-4643b46c1065",
   "metadata": {},
   "outputs": [
    {
     "name": "stdout",
     "output_type": "stream",
     "text": [
      "my name is vignesh and my age is 21\n"
     ]
    }
   ],
   "source": [
    "name=\"vignesh\"\n",
    "age=21\n",
    "print(f\"my name is {name} and my age is {age}\")"
   ]
  },
  {
   "cell_type": "code",
   "execution_count": 107,
   "id": "f39aa02f-fc2b-41bf-9b7e-fc880ee92689",
   "metadata": {},
   "outputs": [
    {
     "name": "stdout",
     "output_type": "stream",
     "text": [
      "3.14\n"
     ]
    }
   ],
   "source": [
    "pi=3.14159\n",
    "print(f\"{pi:.2f}\")"
   ]
  },
  {
   "cell_type": "code",
   "execution_count": 111,
   "id": "0ed26991-632b-4141-833f-556dbc0fa94c",
   "metadata": {},
   "outputs": [
    {
     "name": "stdout",
     "output_type": "stream",
     "text": [
      "my name is alsamath and my age is 21\n"
     ]
    }
   ],
   "source": [
    "print(\"my name is {} and my age is {}\".format(\"alsamath\",21))"
   ]
  },
  {
   "cell_type": "code",
   "execution_count": 115,
   "id": "7ad86060-f442-43e0-b187-1d35aebc29f4",
   "metadata": {},
   "outputs": [
    {
     "name": "stdout",
     "output_type": "stream",
     "text": [
      "...Hi All\n"
     ]
    }
   ],
   "source": [
    "text=\"...Hi All....\"\n",
    "print(text.rstrip('.'))"
   ]
  },
  {
   "cell_type": "code",
   "execution_count": null,
   "id": "7ff582ec-0b6e-46c7-9fc4-58fa46b45c1a",
   "metadata": {},
   "outputs": [],
   "source": []
  }
 ],
 "metadata": {
  "kernelspec": {
   "display_name": "Python [conda env:base] *",
   "language": "python",
   "name": "conda-base-py"
  },
  "language_info": {
   "codemirror_mode": {
    "name": "ipython",
    "version": 3
   },
   "file_extension": ".py",
   "mimetype": "text/x-python",
   "name": "python",
   "nbconvert_exporter": "python",
   "pygments_lexer": "ipython3",
   "version": "3.13.5"
  }
 },
 "nbformat": 4,
 "nbformat_minor": 5
}
