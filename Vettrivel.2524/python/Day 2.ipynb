{
 "cells": [
  {
   "cell_type": "code",
   "execution_count": 6,
   "id": "192c5b2d-8279-4e5a-93a4-c462bcad68a9",
   "metadata": {},
   "outputs": [
    {
     "data": {
      "text/plain": [
       "198"
      ]
     },
     "execution_count": 6,
     "metadata": {},
     "output_type": "execute_result"
    }
   ],
   "source": [
    "import random \n",
    "r = random.randint(1,200)\n",
    "r"
   ]
  },
  {
   "cell_type": "code",
   "execution_count": 3,
   "id": "5291f7a2-6939-4429-a1fd-0959935499b6",
   "metadata": {},
   "outputs": [
    {
     "name": "stdout",
     "output_type": "stream",
     "text": [
      "c\n"
     ]
    }
   ],
   "source": [
    "color=['a','b','c']\n",
    "print(random.choice(color))"
   ]
  },
  {
   "cell_type": "code",
   "execution_count": 7,
   "id": "06e5109d-0a53-4501-91d7-2dc84ff22d9b",
   "metadata": {},
   "outputs": [
    {
     "data": {
      "text/plain": [
       "1.7885650360413734"
      ]
     },
     "execution_count": 7,
     "metadata": {},
     "output_type": "execute_result"
    }
   ],
   "source": [
    "q=random.uniform(1,2)\n",
    "q"
   ]
  },
  {
   "cell_type": "code",
   "execution_count": 9,
   "id": "38aa8566-3f2f-4f58-8554-a361a2b8a251",
   "metadata": {},
   "outputs": [
    {
     "data": {
      "text/plain": [
       "['c', 'a', 'b']"
      ]
     },
     "execution_count": 9,
     "metadata": {},
     "output_type": "execute_result"
    }
   ],
   "source": [
    "random.shuffle(color)\n",
    "color"
   ]
  },
  {
   "cell_type": "code",
   "execution_count": 12,
   "id": "5d07d0c0-7b61-464d-b18c-09414591e340",
   "metadata": {},
   "outputs": [
    {
     "data": {
      "text/plain": [
       "35"
      ]
     },
     "execution_count": 12,
     "metadata": {},
     "output_type": "execute_result"
    }
   ],
   "source": [
    "import victor\n",
    "victor.c"
   ]
  },
  {
   "cell_type": "code",
   "execution_count": 17,
   "id": "d9074e46-5e34-4323-b638-e0c6d27bd195",
   "metadata": {},
   "outputs": [
    {
     "data": {
      "text/plain": [
       "0.6201424975390676"
      ]
     },
     "execution_count": 17,
     "metadata": {},
     "output_type": "execute_result"
    }
   ],
   "source": [
    "random.random()"
   ]
  },
  {
   "cell_type": "code",
   "execution_count": 19,
   "id": "e634fbc8-55f7-4311-bb97-8fe9a6818801",
   "metadata": {},
   "outputs": [
    {
     "data": {
      "text/plain": [
       "1.2904403402802196"
      ]
     },
     "execution_count": 19,
     "metadata": {},
     "output_type": "execute_result"
    }
   ],
   "source": [
    "random.uniform(1,2)"
   ]
  },
  {
   "cell_type": "code",
   "execution_count": 32,
   "id": "3f1d3709-0bb4-4d09-8b39-87493a30c6a6",
   "metadata": {},
   "outputs": [
    {
     "name": "stdout",
     "output_type": "stream",
     "text": [
      "head\n"
     ]
    }
   ],
   "source": [
    "a=random.randint(0,1)\n",
    "if(a==1):\n",
    "    print(\"head\")\n",
    "else:\n",
    "    print(\"tails\")"
   ]
  },
  {
   "cell_type": "code",
   "execution_count": 39,
   "id": "e53d7b2e-4bca-414d-a196-18a16a4ee264",
   "metadata": {},
   "outputs": [
    {
     "name": "stdout",
     "output_type": "stream",
     "text": [
      "c\n"
     ]
    }
   ],
   "source": [
    "a=random.randint(1,10)\n",
    "if (a>8):print(\"a\")\n",
    "elif (a>5):print(\"c\")\n",
    "else:print(\"b\")"
   ]
  },
  {
   "cell_type": "code",
   "execution_count": 46,
   "id": "40143857-69c4-4d93-afd6-6fb739507fd2",
   "metadata": {},
   "outputs": [
    {
     "name": "stdout",
     "output_type": "stream",
     "text": [
      "Welcome to the game\n",
      "choose any 2 roads , 1 , 2 \n"
     ]
    },
    {
     "name": "stdin",
     "output_type": "stream",
     "text": [
      "enter road: 1\n"
     ]
    },
    {
     "name": "stdout",
     "output_type": "stream",
     "text": [
      "you have chosen the death path, u died\n"
     ]
    }
   ],
   "source": [
    "print(\"Welcome to the game\")\n",
    "print(\"choose any 2 roads , 1 , 2 \")\n",
    "a=int(input(\"enter road:\"))\n",
    "if(a==1):\n",
    "    print(\"you have chosen the death path, u died\")\n",
    "else:\n",
    "    print(\"now u need to choose the car colour red , blue\")\n",
    "    "
   ]
  },
  {
   "cell_type": "code",
   "execution_count": 57,
   "id": "d1cf703c-82b7-4a01-80ae-9b4df5a46ee2",
   "metadata": {},
   "outputs": [
    {
     "name": "stdout",
     "output_type": "stream",
     "text": [
      "1\n",
      "1\n"
     ]
    }
   ],
   "source": [
    "v = random.randint(0,1)\n",
    "r = random.randint(0,1)\n",
    "print(v and r)\n",
    "print(v or r)"
   ]
  },
  {
   "cell_type": "code",
   "execution_count": 64,
   "id": "16861533-13d9-4ca6-8dba-a3783af83e8c",
   "metadata": {},
   "outputs": [
    {
     "data": {
      "text/plain": [
       "True"
      ]
     },
     "execution_count": 64,
     "metadata": {},
     "output_type": "execute_result"
    }
   ],
   "source": [
    "not(False or ((True and False) and (False and True) and False))"
   ]
  },
  {
   "cell_type": "code",
   "execution_count": 68,
   "id": "7b899f46-03e1-4cb4-aa8a-c18ae0ad5e95",
   "metadata": {},
   "outputs": [
    {
     "data": {
      "text/plain": [
       "True"
      ]
     },
     "execution_count": 68,
     "metadata": {},
     "output_type": "execute_result"
    }
   ],
   "source": [
    "not(False | ((True & False) & (False & True) & False))"
   ]
  },
  {
   "cell_type": "code",
   "execution_count": 197,
   "id": "03a93b9e-5421-422b-b713-f1e6e0297613",
   "metadata": {},
   "outputs": [
    {
     "name": "stdin",
     "output_type": "stream",
     "text": [
      "0 or 1: 0\n",
      "0 or 1: 1\n"
     ]
    },
    {
     "data": {
      "text/plain": [
       "True"
      ]
     },
     "execution_count": 197,
     "metadata": {},
     "output_type": "execute_result"
    }
   ],
   "source": [
    "a = int(input(\"0 or 1:\"))\n",
    "b = int(input(\"0 or 1:\"))\n",
    "if(a==1):\n",
    "    a = True\n",
    "else:\n",
    "    a =  False\n",
    "if(b==1):\n",
    "    b = True\n",
    "else:\n",
    "    b =  False\n",
    "(a and not b)or(b and not a)"
   ]
  },
  {
   "cell_type": "code",
   "execution_count": 198,
   "id": "49308132-7346-42b1-81c4-0f0d35bc7f37",
   "metadata": {},
   "outputs": [
    {
     "name": "stdin",
     "output_type": "stream",
     "text": [
      "0 or 1: 0\n",
      "0 or 1: 1\n"
     ]
    },
    {
     "data": {
      "text/plain": [
       "True"
      ]
     },
     "execution_count": 198,
     "metadata": {},
     "output_type": "execute_result"
    }
   ],
   "source": [
    "#EXOR\n",
    "a = bool(int(input(\"0 or 1:\")))\n",
    "b = bool(int(input(\"0 or 1:\")))\n",
    "(a and not b)or(b and not a)"
   ]
  },
  {
   "cell_type": "code",
   "execution_count": 83,
   "id": "638c20f7-cfc0-41cb-a17a-c4ca3011a553",
   "metadata": {},
   "outputs": [
    {
     "data": {
      "text/plain": [
       "False"
      ]
     },
     "execution_count": 83,
     "metadata": {},
     "output_type": "execute_result"
    }
   ],
   "source": [
    "(a or b) and not(a and b)"
   ]
  },
  {
   "cell_type": "code",
   "execution_count": 96,
   "id": "e04bd5c4-f3e1-4910-bd81-3355f322d67c",
   "metadata": {},
   "outputs": [
    {
     "name": "stdin",
     "output_type": "stream",
     "text": [
      " 1\n",
      " 0\n"
     ]
    },
    {
     "name": "stdout",
     "output_type": "stream",
     "text": [
      "True\n",
      "False\n"
     ]
    }
   ],
   "source": [
    "c=bool(int(input()))\n",
    "d=bool(int(input()))\n",
    "print(not(c and d))\n",
    "print(not(c or d))"
   ]
  },
  {
   "cell_type": "code",
   "execution_count": 98,
   "id": "4e0b6566-26c8-4ba8-94ec-39a29c91c040",
   "metadata": {},
   "outputs": [
    {
     "name": "stdin",
     "output_type": "stream",
     "text": [
      " 0\n"
     ]
    },
    {
     "name": "stdout",
     "output_type": "stream",
     "text": [
      "Even\n"
     ]
    }
   ],
   "source": [
    "#Even or Odd\n",
    "j=int(input())\n",
    "if (j%2==0):\n",
    "    print(\"Even\")\n",
    "else:\n",
    "    print(\"Odd\")"
   ]
  },
  {
   "cell_type": "code",
   "execution_count": 104,
   "id": "d66ec617-2221-490f-a137-9fe72c4ae1eb",
   "metadata": {},
   "outputs": [
    {
     "name": "stdin",
     "output_type": "stream",
     "text": [
      " 34\n",
      " 34\n"
     ]
    },
    {
     "name": "stdout",
     "output_type": "stream",
     "text": [
      "same\n"
     ]
    }
   ],
   "source": [
    "f = int(input())\n",
    "g = int(input())\n",
    "\"\"\"if (f>g):\n",
    "    print(f)\n",
    "elif(f<g):\n",
    "    print(g)\n",
    "else:\n",
    "    print(\"same\")\"\"\"\n",
    "print( f if (f>g) else g if(g>f) else \"same\")"
   ]
  },
  {
   "cell_type": "code",
   "execution_count": 121,
   "id": "804367f4-24b8-4ddc-9e06-ad10a820071c",
   "metadata": {},
   "outputs": [
    {
     "name": "stdin",
     "output_type": "stream",
     "text": [
      "Please enter your mark: 123\n"
     ]
    },
    {
     "name": "stdout",
     "output_type": "stream",
     "text": [
      "please enter valid mark\n"
     ]
    }
   ],
   "source": [
    "#grading system\n",
    "a = int(input(\"Please enter your mark:\"))\n",
    "print(\"please enter valid mark\" if (a>100) else \"A+\" if(a>=90) else \"A\" if(a>=75) else \"B\" if(a>60) else \"C\" if(a>=40) else \"Fail\")"
   ]
  },
  {
   "cell_type": "code",
   "execution_count": 139,
   "id": "f6cedc99-ab4a-48c4-873b-8a746ad38343",
   "metadata": {},
   "outputs": [
    {
     "name": "stdin",
     "output_type": "stream",
     "text": [
      "Enter the word: !@#$%^&*())(*&^%$#@!\n"
     ]
    },
    {
     "name": "stdout",
     "output_type": "stream",
     "text": [
      "palindrome\n"
     ]
    }
   ],
   "source": [
    "#palindrome\n",
    "a = (input(\"Enter the word:\"))\n",
    "b = (a)[::-1]\n",
    "if (a==b):\n",
    "    print(\"palindrome\")\n",
    "else:\n",
    "    print(\"not palindrome\")"
   ]
  },
  {
   "cell_type": "code",
   "execution_count": 196,
   "id": "59a7702f-0431-4093-a340-d0111fe5224d",
   "metadata": {},
   "outputs": [
    {
     "name": "stdin",
     "output_type": "stream",
     "text": [
      "Enter the year 8989\n"
     ]
    },
    {
     "name": "stdout",
     "output_type": "stream",
     "text": [
      "Not Leap year\n"
     ]
    }
   ],
   "source": [
    "#leap year\n",
    "a = input(\"Enter the year\")\n",
    "if(a.isdigit() and len(a)==4):\n",
    "    year=int(a)\n",
    "    if(year%400==0):\n",
    "        print(\"Leap year\")\n",
    "    elif(year%4==0):\n",
    "        if(year%100!=0):\n",
    "            print(\"Leap year\")\n",
    "        else: \n",
    "            print(\"Not Leap year\")\n",
    "    else:\n",
    "        print(\"Not Leap year\")\n",
    "else:\n",
    "    print(\"Invalid\")"
   ]
  },
  {
   "cell_type": "code",
   "execution_count": 173,
   "id": "c77aa0b2-530a-43d7-be8a-1586d5739e5a",
   "metadata": {},
   "outputs": [
    {
     "name": "stdout",
     "output_type": "stream",
     "text": [
      "True\n",
      "True\n",
      "True\n"
     ]
    }
   ],
   "source": [
    "#boolean functions\n",
    "a=\"abc\"\n",
    "b=\"123\"\n",
    "c=\"ab123c\"\n",
    "print(a.isalpha())\n",
    "print(c.isalnum())\n",
    "print(b.isdigit())"
   ]
  },
  {
   "cell_type": "code",
   "execution_count": 195,
   "id": "1b33ed43-2c3e-4d63-8975-82254a1257a8",
   "metadata": {},
   "outputs": [
    {
     "name": "stdout",
     "output_type": "stream",
     "text": [
      "True\n",
      "True\n",
      "True\n",
      "True\n"
     ]
    }
   ],
   "source": [
    "#boolean functions\n",
    "f=\"air-force\"\n",
    "print(f.startswith(\"air\"))\n",
    "print(f.startswith(\"-f\",3))\n",
    "print(\"air\" in f)\n",
    "\n",
    "print(f.endswith(\"ir\",0,3))"
   ]
  },
  {
   "cell_type": "code",
   "execution_count": 170,
   "id": "24787b43-43c6-44cd-8e0d-8f437e709881",
   "metadata": {},
   "outputs": [
    {
     "data": {
      "text/plain": [
       "'      air      '"
      ]
     },
     "execution_count": 170,
     "metadata": {},
     "output_type": "execute_result"
    }
   ],
   "source": [
    "a=\"air\"\n",
    "b=a.center(15)\n",
    "b"
   ]
  },
  {
   "cell_type": "code",
   "execution_count": 222,
   "id": "b572a7b1-4b6b-47ea-a171-74468d6eacae",
   "metadata": {},
   "outputs": [
    {
     "name": "stdout",
     "output_type": "stream",
     "text": [
      "True\n",
      "4\n",
      "2\n"
     ]
    }
   ],
   "source": [
    "#contains\n",
    "a=\"wrestling is wrestling\"\n",
    "print(\"lin\" in a)\n",
    "print(a.find(\"t\"))\n",
    "print(a.count(\"t\"))"
   ]
  },
  {
   "cell_type": "code",
   "execution_count": 221,
   "id": "c57b8b4f-8bfe-4611-a1cf-189f21586434",
   "metadata": {},
   "outputs": [
    {
     "name": "stdout",
     "output_type": "stream",
     "text": [
      "[0, 8]\n"
     ]
    }
   ],
   "source": [
    "#all positions using re\n",
    "import re\n",
    "a=\"malayalam\"\n",
    "res = [m.start() for m in re.finditer(\"m\",a)]\n",
    "print(res)"
   ]
  },
  {
   "cell_type": "code",
   "execution_count": 223,
   "id": "c7aa488d-128a-464f-9db6-a525bcaae5f6",
   "metadata": {},
   "outputs": [
    {
     "name": "stdin",
     "output_type": "stream",
     "text": [
      "Enter the length: 12\n",
      "Enter the length: 12\n",
      "Enter the length: 12\n"
     ]
    },
    {
     "name": "stdout",
     "output_type": "stream",
     "text": [
      "Equilateral Triangle\n"
     ]
    }
   ],
   "source": [
    "x = input(\"Enter the length:\")\n",
    "y = input(\"Enter the length:\")\n",
    "z = input(\"Enter the length:\")\n",
    "\n",
    "p=x.replace(\".\",\"\")\n",
    "q=y.replace(\".\",\"\")\n",
    "r=z.replace(\".\",\"\")\n",
    "if(p.isdigit() and q.isdigit() and r.isdigit()):\n",
    "    a=float(x)\n",
    "    b=float(y)\n",
    "    c=float(z)\n",
    "    if(a<b+c and b<a+c and c<a+b):\n",
    "        if(a==b==c):\n",
    "            print(\"Equilateral Triangle\")\n",
    "        elif(a==b or a==c or b==c):\n",
    "            print(\"Isosceles Triangle\")\n",
    "        else:\n",
    "            print(\"Scalene Triangle\")\n",
    "    else:\n",
    "        print(\"Invalid\")\n",
    "else:\n",
    "    print(\"please give a number\")\n",
    "    "
   ]
  },
  {
   "cell_type": "code",
   "execution_count": null,
   "id": "12375ab8-1d88-442d-ba42-3e1cdc82df1f",
   "metadata": {},
   "outputs": [],
   "source": []
  }
 ],
 "metadata": {
  "kernelspec": {
   "display_name": "Python [conda env:base] *",
   "language": "python",
   "name": "conda-base-py"
  },
  "language_info": {
   "codemirror_mode": {
    "name": "ipython",
    "version": 3
   },
   "file_extension": ".py",
   "mimetype": "text/x-python",
   "name": "python",
   "nbconvert_exporter": "python",
   "pygments_lexer": "ipython3",
   "version": "3.13.5"
  }
 },
 "nbformat": 4,
 "nbformat_minor": 5
}
