{
 "cells": [
  {
   "cell_type": "code",
   "execution_count": 4,
   "id": "e36173b8-da39-4892-b3cf-e461b3e4cd30",
   "metadata": {},
   "outputs": [
    {
     "data": {
      "text/plain": [
       "30.85399449035813"
      ]
     },
     "execution_count": 4,
     "metadata": {},
     "output_type": "execute_result"
    }
   ],
   "source": [
    "h=1.65\n",
    "w=84\n",
    "bmi=w/h**2\n",
    "bmi"
   ]
  },
  {
   "cell_type": "code",
   "execution_count": 5,
   "id": "0f0bf274-74e4-4f4c-b9fb-1b65433b2e0d",
   "metadata": {},
   "outputs": [
    {
     "data": {
      "text/plain": [
       "30.85"
      ]
     },
     "execution_count": 5,
     "metadata": {},
     "output_type": "execute_result"
    }
   ],
   "source": [
    "round(bmi,2)"
   ]
  },
  {
   "cell_type": "code",
   "execution_count": 9,
   "id": "e4b6532f-e977-4cb2-86da-3d06dbfa3f7a",
   "metadata": {},
   "outputs": [
    {
     "name": "stdout",
     "output_type": "stream",
     "text": [
      "my name is victor and I'm 20.0 years old\n"
     ]
    }
   ],
   "source": [
    "name = \"victor\"\n",
    "age = 20\n",
    "print(f\"my name is {name} and I'm {age} years old\")"
   ]
  },
  {
   "cell_type": "code",
   "execution_count": 10,
   "id": "4ba10f95-76e4-482f-8f58-5ab95f8144c7",
   "metadata": {},
   "outputs": [
    {
     "data": {
      "text/plain": [
       "float"
      ]
     },
     "execution_count": 10,
     "metadata": {},
     "output_type": "execute_result"
    }
   ],
   "source": [
    "type(bmi)"
   ]
  },
  {
   "cell_type": "code",
   "execution_count": 11,
   "id": "934e0309-d8fa-412e-8536-effeae5f1e42",
   "metadata": {},
   "outputs": [
    {
     "data": {
      "text/plain": [
       "5"
      ]
     },
     "execution_count": 11,
     "metadata": {},
     "output_type": "execute_result"
    }
   ],
   "source": [
    "11//2"
   ]
  },
  {
   "cell_type": "code",
   "execution_count": 12,
   "id": "2f3d731a-12fe-4cf1-a5f4-dff003cedac5",
   "metadata": {},
   "outputs": [
    {
     "data": {
      "text/plain": [
       "1"
      ]
     },
     "execution_count": 12,
     "metadata": {},
     "output_type": "execute_result"
    }
   ],
   "source": [
    "11%2"
   ]
  },
  {
   "cell_type": "code",
   "execution_count": 13,
   "id": "0ebcf5f6-cc28-4207-9f68-8756a48c1b1b",
   "metadata": {},
   "outputs": [
    {
     "data": {
      "text/plain": [
       "5.5"
      ]
     },
     "execution_count": 13,
     "metadata": {},
     "output_type": "execute_result"
    }
   ],
   "source": [
    "11/2"
   ]
  },
  {
   "cell_type": "code",
   "execution_count": 25,
   "id": "85140f71-c1c1-4611-ad38-654f04177aeb",
   "metadata": {},
   "outputs": [
    {
     "name": "stdout",
     "output_type": "stream",
     "text": [
      "POPOYE IS THE GOAT\n",
      "popoye is the goat\n",
      "Popoye Is The Goat\n",
      "Popoye is the goat\n",
      "POPOYE IS THE GoAT\n"
     ]
    }
   ],
   "source": [
    "a=\"popoye is the gOat\"\n",
    "print(a.upper())\n",
    "print(a.lower())\n",
    "print(a.title())\n",
    "print(a.capitalize())\n",
    "print(a.swapcase())"
   ]
  },
  {
   "cell_type": "code",
   "execution_count": 28,
   "id": "d0a09c68-b898-4679-a768-e43b01aa8223",
   "metadata": {},
   "outputs": [
    {
     "data": {
      "text/plain": [
       "15"
      ]
     },
     "execution_count": 28,
     "metadata": {},
     "output_type": "execute_result"
    }
   ],
   "source": [
    "a.find(\"O\")"
   ]
  },
  {
   "cell_type": "code",
   "execution_count": 30,
   "id": "ce80e185-c633-4027-b44a-0b1227456ae1",
   "metadata": {},
   "outputs": [
    {
     "data": {
      "text/plain": [
       "'shinchan is the gOat'"
      ]
     },
     "execution_count": 30,
     "metadata": {},
     "output_type": "execute_result"
    }
   ],
   "source": [
    "b=a.replace(\"popoye\",\"shinchan\")\n",
    "b"
   ]
  },
  {
   "cell_type": "code",
   "execution_count": 36,
   "id": "f6417a8b-31d0-449f-be6c-b9743fc41dfb",
   "metadata": {},
   "outputs": [
    {
     "name": "stdin",
     "output_type": "stream",
     "text": [
      "name of animal tiger\n",
      "name of city chennia\n"
     ]
    },
    {
     "data": {
      "text/plain": [
       "'TICH'"
      ]
     },
     "execution_count": 36,
     "metadata": {},
     "output_type": "execute_result"
    }
   ],
   "source": [
    "y=input(\"name of animal\")\n",
    "z=input(\"name of city\")\n",
    "q=y[0:2]\n",
    "p=z[0:2]\n",
    "x=q+p\n",
    "w=x.swapcase()\n",
    "w"
   ]
  },
  {
   "cell_type": "code",
   "execution_count": 37,
   "id": "d65d2a02-7968-45de-9b0b-972cd968fa41",
   "metadata": {},
   "outputs": [
    {
     "name": "stdout",
     "output_type": "stream",
     "text": [
      "name:victorage:20.0\n",
      "name:victorage:20.0\n"
     ]
    }
   ],
   "source": [
    "print(f\"name:{name}age:{age}\")\n",
    "print(\"name:{}age:{}\".format(name,age))"
   ]
  },
  {
   "cell_type": "code",
   "execution_count": 40,
   "id": "9fe563a1-63f7-404e-8f8b-e36955151a6d",
   "metadata": {},
   "outputs": [
    {
     "data": {
      "text/plain": [
       "'i_love_python_program'"
      ]
     },
     "execution_count": 40,
     "metadata": {},
     "output_type": "execute_result"
    }
   ],
   "source": [
    "text=\"i,love,python,program\"\n",
    "words=text.split(\",\")\n",
    "text_join=\"_\".join(words)\n",
    "text_join"
   ]
  },
  {
   "cell_type": "code",
   "execution_count": 41,
   "id": "272b65d4-7ff3-4604-b1e8-318745aecfc5",
   "metadata": {},
   "outputs": [
    {
     "data": {
      "text/plain": [
       "'i_l_o_v_e_p_y_t_h_o_n_p_r_o_g_r_a_m'"
      ]
     },
     "execution_count": 41,
     "metadata": {},
     "output_type": "execute_result"
    }
   ],
   "source": [
    "text=\"ilovepythonprogram\"\n",
    "text_join=\"_\".join(text)\n",
    "text_join"
   ]
  },
  {
   "cell_type": "code",
   "execution_count": 47,
   "id": "d20a3392-7d0a-46c8-b7d3-a64d27cfd944",
   "metadata": {},
   "outputs": [
    {
     "name": "stdout",
     "output_type": "stream",
     "text": [
      "********************************************Victor\n"
     ]
    }
   ],
   "source": [
    "name=\"Victor\"\n",
    "print(name.rjust(50,\"*\"))"
   ]
  },
  {
   "cell_type": "code",
   "execution_count": 50,
   "id": "88e0e65b-4c26-4988-a54c-4dbda4fdece3",
   "metadata": {},
   "outputs": [
    {
     "name": "stdout",
     "output_type": "stream",
     "text": [
      "3.141590\n"
     ]
    }
   ],
   "source": [
    "pi=3.14159\n",
    "print(f\"{pi:2f}\")"
   ]
  }
 ],
 "metadata": {
  "kernelspec": {
   "display_name": "Python [conda env:base] *",
   "language": "python",
   "name": "conda-base-py"
  },
  "language_info": {
   "codemirror_mode": {
    "name": "ipython",
    "version": 3
   },
   "file_extension": ".py",
   "mimetype": "text/x-python",
   "name": "python",
   "nbconvert_exporter": "python",
   "pygments_lexer": "ipython3",
   "version": "3.13.5"
  }
 },
 "nbformat": 4,
 "nbformat_minor": 5
}
