{
 "cells": [
  {
   "cell_type": "code",
   "execution_count": 1,
   "id": "06d6f742-c0d1-41b3-b800-3a0964768fb0",
   "metadata": {},
   "outputs": [
    {
     "name": "stdout",
     "output_type": "stream",
     "text": [
      "Thiru\n"
     ]
    }
   ],
   "source": [
    "print(\"Thiru\")"
   ]
  },
  {
   "cell_type": "code",
   "execution_count": 3,
   "id": "3347953a-f61f-4837-86bf-3edaef7f370b",
   "metadata": {},
   "outputs": [
    {
     "name": "stdout",
     "output_type": "stream",
     "text": [
      "Mix 500g of Flour, 10g Yeast and 300ml Water in a bowl.\n"
     ]
    }
   ],
   "source": [
    "print(\"Mix 500g of Flour, 10g Yeast and 300ml Water in a bowl.\")\n",
    "      "
   ]
  },
  {
   "cell_type": "code",
   "execution_count": 4,
   "id": "4af5cdce-bf8d-4c55-a727-ae18d7ea72c7",
   "metadata": {},
   "outputs": [
    {
     "name": "stdout",
     "output_type": "stream",
     "text": [
      "Knead the dough for 10 minutes.\n"
     ]
    }
   ],
   "source": [
    "print(\"Knead the dough for 10 minutes.\")"
   ]
  },
  {
   "cell_type": "code",
   "execution_count": 5,
   "id": "858f4767-c8aa-44f3-ab06-d625e7cd1ec3",
   "metadata": {},
   "outputs": [
    {
     "name": "stdout",
     "output_type": "stream",
     "text": [
      "Add 3g of Salt.\n"
     ]
    }
   ],
   "source": [
    "print(\"Add 3g of Salt.\")"
   ]
  },
  {
   "cell_type": "code",
   "execution_count": 6,
   "id": "1e81b84c-9191-45c4-ad07-ec52ccc3d333",
   "metadata": {},
   "outputs": [
    {
     "name": "stdout",
     "output_type": "stream",
     "text": [
      "Leave to rise for 2 hours.\n"
     ]
    }
   ],
   "source": [
    "print(\"Leave to rise for 2 hours.\")"
   ]
  },
  {
   "cell_type": "code",
   "execution_count": 7,
   "id": "5efafaab-e94e-49c7-90d3-a22d6fcf08c4",
   "metadata": {},
   "outputs": [
    {
     "name": "stdout",
     "output_type": "stream",
     "text": [
      "Bake at 200 degrees C for 30 minutes.\n"
     ]
    }
   ],
   "source": [
    "print(\"Bake at 200 degrees C for 30 minutes.\")"
   ]
  },
  {
   "cell_type": "code",
   "execution_count": 11,
   "id": "af8c8f25-580e-4b02-b4a1-4c21a0161748",
   "metadata": {},
   "outputs": [
    {
     "name": "stdout",
     "output_type": "stream",
     "text": [
      "Mix 500g of Flour, 10g Yeast and 300ml Water in a bowl.\n",
      "Knead the dough for 10 minutes.\n",
      "Add 3g of Salt.\n",
      "Leave to rise for 2 hours.\n",
      "Bake at 200 degrees C for 30 minutes.\n"
     ]
    }
   ],
   "source": [
    "print(\"Mix 500g of Flour, 10g Yeast and 300ml Water in a bowl.\\n\" \"Knead the dough for 10 minutes.\\n\" \"Add 3g of Salt.\\n\" \"Leave to rise for 2 hours.\\n\" \"Bake at 200 degrees C for 30 minutes.\") "
   ]
  },
  {
   "cell_type": "markdown",
   "id": "98cc6205-8fd4-42f8-8cc9-2bc335498b68",
   "metadata": {},
   "source": [
    "#missing double quotes\n",
    "print(\"Notes from Day 1\")\n",
    "#indentation error\n",
    "print(\"The print statement is used to output strings\")\n",
    "#missing paranthesis\n",
    "print(Strings are strings od characters\")\n",
    "#priint error\n",
    "print(\"String Concatenation is done with the + sign\")\n",
    "#use of more paranthesis\n",
    "print(\"New lines can be created with a | and the letter n)"
   ]
  },
  {
   "cell_type": "code",
   "execution_count": 12,
   "id": "9c51891b-4ed9-4922-8732-c889b9b11152",
   "metadata": {},
   "outputs": [
    {
     "name": "stdout",
     "output_type": "stream",
     "text": [
      "Notes from Day 1\n",
      "The print statement is used to output strings\n",
      "Strings are strings od characters\n",
      "String Concatenation is done with the + sign\n",
      "New lines can be created with a | and the letter n\n"
     ]
    }
   ],
   "source": [
    "print(\"Notes from Day 1\")#missing double quotes \n",
    "print(\"The print statement is used to output strings\") #indentation error\n",
    "print(\"Strings are strings od characters\") #missing paranthesis \n",
    "print(\"String Concatenation is done with the + sign\") #priint error\n",
    "print(\"New lines can be created with a | and the letter n\") #use of more paranthesis\n",
    "\n",
    "\n",
    "\n",
    "\n"
   ]
  },
  {
   "cell_type": "code",
   "execution_count": 13,
   "id": "8f655862-3dfc-4698-ab00-932aef7265bc",
   "metadata": {},
   "outputs": [
    {
     "name": "stdin",
     "output_type": "stream",
     "text": [
      "1 \n"
     ]
    },
    {
     "data": {
      "text/plain": [
       "''"
      ]
     },
     "execution_count": 13,
     "metadata": {},
     "output_type": "execute_result"
    }
   ],
   "source": [
    "input(\"1\")"
   ]
  },
  {
   "cell_type": "code",
   "execution_count": 14,
   "id": "2a37e7a3-9f5c-4d9d-9192-86fc9a5dee8e",
   "metadata": {},
   "outputs": [
    {
     "data": {
      "text/plain": [
       "\u001b[1;31mSignature:\u001b[0m \u001b[0mprint\u001b[0m\u001b[1;33m(\u001b[0m\u001b[1;33m*\u001b[0m\u001b[0margs\u001b[0m\u001b[1;33m,\u001b[0m \u001b[0msep\u001b[0m\u001b[1;33m=\u001b[0m\u001b[1;34m' '\u001b[0m\u001b[1;33m,\u001b[0m \u001b[0mend\u001b[0m\u001b[1;33m=\u001b[0m\u001b[1;34m'\\n'\u001b[0m\u001b[1;33m,\u001b[0m \u001b[0mfile\u001b[0m\u001b[1;33m=\u001b[0m\u001b[1;32mNone\u001b[0m\u001b[1;33m,\u001b[0m \u001b[0mflush\u001b[0m\u001b[1;33m=\u001b[0m\u001b[1;32mFalse\u001b[0m\u001b[1;33m)\u001b[0m\u001b[1;33m\u001b[0m\u001b[1;33m\u001b[0m\u001b[0m\n",
       "\u001b[1;31mDocstring:\u001b[0m\n",
       "Prints the values to a stream, or to sys.stdout by default.\n",
       "\n",
       "sep\n",
       "  string inserted between values, default a space.\n",
       "end\n",
       "  string appended after the last value, default a newline.\n",
       "file\n",
       "  a file-like object (stream); defaults to the current sys.stdout.\n",
       "flush\n",
       "  whether to forcibly flush the stream.\n",
       "\u001b[1;31mType:\u001b[0m      builtin_function_or_method"
      ]
     },
     "metadata": {},
     "output_type": "display_data"
    }
   ],
   "source": [
    "print?"
   ]
  },
  {
   "cell_type": "raw",
   "id": "6575ad5e-ae1f-4bc6-ae54-cfcbaf824756",
   "metadata": {},
   "source": [
    "print()"
   ]
  },
  {
   "cell_type": "code",
   "execution_count": 15,
   "id": "68fabf42-bc3e-4778-ad98-bb09b6ee4837",
   "metadata": {},
   "outputs": [
    {
     "name": "stdin",
     "output_type": "stream",
     "text": [
      "What is your name? thiru\n"
     ]
    },
    {
     "name": "stdout",
     "output_type": "stream",
     "text": [
      "Hello thiru\n"
     ]
    }
   ],
   "source": [
    "print(\"Hello \" + input(\"What is your name?\"))"
   ]
  },
  {
   "cell_type": "code",
   "execution_count": 16,
   "id": "7003a1c0-3aaa-43af-b95f-872976b9ef98",
   "metadata": {},
   "outputs": [
    {
     "name": "stdin",
     "output_type": "stream",
     "text": [
      "Thiru good morning\n"
     ]
    }
   ],
   "source": [
    "name=input(\"Thiru\")"
   ]
  },
  {
   "cell_type": "code",
   "execution_count": 19,
   "id": "d6699e2d-a307-48c5-bec5-d244de5d53ab",
   "metadata": {},
   "outputs": [
    {
     "name": "stdin",
     "output_type": "stream",
     "text": [
      " Thiru\n"
     ]
    },
    {
     "name": "stdout",
     "output_type": "stream",
     "text": [
      "Hello Thiru I am learning python\n"
     ]
    }
   ],
   "source": [
    "name= input()\n",
    "print(\"Hello\",name,\"I am learning python\")"
   ]
  },
  {
   "cell_type": "code",
   "execution_count": null,
   "id": "e1d6c6d3-3da3-40be-a0fc-0d60ca457818",
   "metadata": {},
   "outputs": [],
   "source": []
  },
  {
   "cell_type": "code",
   "execution_count": null,
   "id": "0f1242ab-994e-4d4b-9b66-cde6e0a88661",
   "metadata": {},
   "outputs": [],
   "source": []
  },
  {
   "cell_type": "code",
   "execution_count": 21,
   "id": "6ee228fa-8972-4f92-9042-d5adbdf0dc0d",
   "metadata": {},
   "outputs": [
    {
     "name": "stdin",
     "output_type": "stream",
     "text": [
      "What is your name? Thirupathi Degavath\n"
     ]
    },
    {
     "name": "stdout",
     "output_type": "stream",
     "text": [
      "19\n"
     ]
    }
   ],
   "source": [
    "name = len(input(\"What is your name?\"))\n",
    "print(name)"
   ]
  },
  {
   "cell_type": "code",
   "execution_count": 24,
   "id": "f5b126b6-7ada-4cf8-b976-5a060f740567",
   "metadata": {},
   "outputs": [
    {
     "name": "stdout",
     "output_type": "stream",
     "text": [
      "juice milk\n"
     ]
    }
   ],
   "source": [
    "glass1=\"milk\"\n",
    "glass2=\"juice\"\n",
    "temp=glass1\n",
    "glass1=glass2\n",
    "glass2=temp\n",
    "\n",
    "\n",
    "\n",
    "print(glass1,glass2)"
   ]
  },
  {
   "cell_type": "code",
   "execution_count": 26,
   "id": "4df95c9d-d8a4-470d-9d6d-7f5a784297d4",
   "metadata": {},
   "outputs": [
    {
     "name": "stdout",
     "output_type": "stream",
     "text": [
      "3\n"
     ]
    }
   ],
   "source": [
    "print(len(\"123\"))\n"
   ]
  },
  {
   "cell_type": "code",
   "execution_count": 41,
   "id": "66af272d-afd9-4ed1-9d0f-127c13ac1954",
   "metadata": {},
   "outputs": [
    {
     "name": "stdout",
     "output_type": "stream",
     "text": [
      "o\n"
     ]
    }
   ],
   "source": [
    "str=\"hello\"\n",
    "print(str[:-2:-1])"
   ]
  },
  {
   "cell_type": "code",
   "execution_count": 60,
   "id": "ec5e2617-ccd5-459b-86d1-1a2881572cb6",
   "metadata": {},
   "outputs": [
    {
     "name": "stdout",
     "output_type": "stream",
     "text": [
      "malayalam\n"
     ]
    }
   ],
   "source": [
    "name=\"malayalam\"\n",
    "print(name[::-1])"
   ]
  },
  {
   "cell_type": "code",
   "execution_count": 66,
   "id": "2186fcb7-7c9c-4b22-a508-b9ecb79cb950",
   "metadata": {},
   "outputs": [
    {
     "name": "stdout",
     "output_type": "stream",
     "text": [
      "\n"
     ]
    }
   ],
   "source": [
    "print()\n"
   ]
  },
  {
   "cell_type": "code",
   "execution_count": 63,
   "id": "4e9c30c4-faf3-4bf7-b89c-75fb312b9cde",
   "metadata": {},
   "outputs": [
    {
     "data": {
      "text/plain": [
       "\u001b[1;31mInit signature:\u001b[0m \u001b[0mtype\u001b[0m\u001b[1;33m(\u001b[0m\u001b[0mself\u001b[0m\u001b[1;33m,\u001b[0m \u001b[1;33m/\u001b[0m\u001b[1;33m,\u001b[0m \u001b[1;33m*\u001b[0m\u001b[0margs\u001b[0m\u001b[1;33m,\u001b[0m \u001b[1;33m**\u001b[0m\u001b[0mkwargs\u001b[0m\u001b[1;33m)\u001b[0m\u001b[1;33m\u001b[0m\u001b[1;33m\u001b[0m\u001b[0m\n",
       "\u001b[1;31mDocstring:\u001b[0m     \n",
       "type(object) -> the object's type\n",
       "type(name, bases, dict, **kwds) -> a new type\n",
       "\u001b[1;31mType:\u001b[0m           type\n",
       "\u001b[1;31mSubclasses:\u001b[0m     ABCMeta, EnumType, _AnyMeta, NamedTupleMeta, _TypedDictMeta, _ABC, MetaHasDescriptors, CType_Type, _TzSingleton, _TzFactory, ..."
      ]
     },
     "metadata": {},
     "output_type": "display_data"
    }
   ],
   "source": [
    "type?"
   ]
  },
  {
   "cell_type": "code",
   "execution_count": 65,
   "id": "910d6cd3-0a50-4cee-94f5-566ac6162d44",
   "metadata": {},
   "outputs": [
    {
     "ename": "ValueError",
     "evalue": "invalid literal for int() with base 10: 'abc'",
     "output_type": "error",
     "traceback": [
      "\u001b[1;31m---------------------------------------------------------------------------\u001b[0m",
      "\u001b[1;31mValueError\u001b[0m                                Traceback (most recent call last)",
      "Cell \u001b[1;32mIn[65], line 1\u001b[0m\n\u001b[1;32m----> 1\u001b[0m \u001b[38;5;28mprint\u001b[39m(\u001b[38;5;28mint\u001b[39m(\u001b[38;5;124m\"\u001b[39m\u001b[38;5;124mabc\u001b[39m\u001b[38;5;124m\"\u001b[39m)\u001b[38;5;241m+\u001b[39m\u001b[38;5;28mint\u001b[39m(\u001b[38;5;124m\"\u001b[39m\u001b[38;5;124m456\u001b[39m\u001b[38;5;124m\"\u001b[39m))\n",
      "\u001b[1;31mValueError\u001b[0m: invalid literal for int() with base 10: 'abc'"
     ]
    }
   ],
   "source": [
    "print(int(\"456\"))\n"
   ]
  },
  {
   "cell_type": "code",
   "execution_count": 69,
   "id": "f7b8c805-6bcf-46bd-9e77-a15cf87d126f",
   "metadata": {},
   "outputs": [
    {
     "name": "stdin",
     "output_type": "stream",
     "text": [
      "What is your name? a\n"
     ]
    },
    {
     "name": "stdout",
     "output_type": "stream",
     "text": [
      "Number of letters in the name 1\n"
     ]
    }
   ],
   "source": [
    "print(\"Number of letters in the name\", len(input(\"What is your name?\")))"
   ]
  },
  {
   "cell_type": "code",
   "execution_count": 5,
   "id": "660de065-c447-4ea6-9429-01eeb84a290d",
   "metadata": {},
   "outputs": [
    {
     "name": "stdin",
     "output_type": "stream",
     "text": [
      "What is your name? Thirupathi\n"
     ]
    },
    {
     "name": "stdout",
     "output_type": "stream",
     "text": [
      "10\n",
      "<class 'str'>\n",
      "2618430384784\n"
     ]
    }
   ],
   "source": [
    "length=str(len(input(\"What is your name?\")))\n",
    "print(length)\n",
    "print(type(length))\n",
    "print(id(length)) NN,"
   ]
  },
  {
   "cell_type": "code",
   "execution_count": 6,
   "id": "eca7d55d-8f96-43fd-9a17-b7a21fa96a7a",
   "metadata": {},
   "outputs": [
    {
     "name": "stdout",
     "output_type": "stream",
     "text": [
      "30.854\n"
     ]
    }
   ],
   "source": [
    "height=1.65\n",
    "weight=84\n",
    "bmi=(weight)/(height**2)\n",
    "print(round((bmi),4))"
   ]
  },
  {
   "cell_type": "code",
   "execution_count": 7,
   "id": "7a613eea-f262-4716-8036-fd72f2c2292d",
   "metadata": {},
   "outputs": [
    {
     "name": "stdout",
     "output_type": "stream",
     "text": [
      "Thirupathi\n"
     ]
    }
   ],
   "source": [
    "print(f\"Thirupathi\")"
   ]
  },
  {
   "cell_type": "code",
   "execution_count": 5,
   "id": "b8dfaa61-f918-4bd7-8f3b-e81a55d8d2ab",
   "metadata": {},
   "outputs": [
    {
     "name": "stdout",
     "output_type": "stream",
     "text": [
      "Hello Thirupathi age: 22.0\n"
     ]
    }
   ],
   "source": [
    "name=\"Thirupathi\"\n",
    "age=22.0\n",
    "print(f\"Hello {name} age: {age}\")"
   ]
  },
  {
   "cell_type": "code",
   "execution_count": 12,
   "id": "a93c921f-27c6-45ca-96da-c44b9ed9bd65",
   "metadata": {},
   "outputs": [
    {
     "ename": "SyntaxError",
     "evalue": "invalid syntax (2751400364.py, line 1)",
     "output_type": "error",
     "traceback": [
      "\u001b[1;36m  Cell \u001b[1;32mIn[12], line 1\u001b[1;36m\u001b[0m\n\u001b[1;33m    print(10%%2)\u001b[0m\n\u001b[1;37m             ^\u001b[0m\n\u001b[1;31mSyntaxError\u001b[0m\u001b[1;31m:\u001b[0m invalid syntax\n"
     ]
    }
   ],
   "source": [
    "print(10%%2)\n"
   ]
  },
  {
   "cell_type": "code",
   "execution_count": 13,
   "id": "baef90bf-0873-4e0f-b1c6-0dd72092dcdf",
   "metadata": {},
   "outputs": [
    {
     "data": {
      "text/plain": [
       "2.0"
      ]
     },
     "execution_count": 13,
     "metadata": {},
     "output_type": "execute_result"
    }
   ],
   "source": [
    "10/2//2\n"
   ]
  },
  {
   "cell_type": "code",
   "execution_count": 14,
   "id": "1aa38c19-898c-4b1c-b0c6-94bdb614cc3b",
   "metadata": {},
   "outputs": [
    {
     "ename": "SyntaxError",
     "evalue": "unmatched ')' (3288398343.py, line 1)",
     "output_type": "error",
     "traceback": [
      "\u001b[1;36m  Cell \u001b[1;32mIn[14], line 1\u001b[1;36m\u001b[0m\n\u001b[1;33m    my_string = \"Programming\")\u001b[0m\n\u001b[1;37m                             ^\u001b[0m\n\u001b[1;31mSyntaxError\u001b[0m\u001b[1;31m:\u001b[0m unmatched ')'\n"
     ]
    }
   ],
   "source": [
    "my_string = \"Programming\")\n",
    "\n",
    "\n",
    "\n",
    "\n",
    "\n",
    "\n",
    "\n"
   ]
  },
  {
   "cell_type": "code",
   "execution_count": 15,
   "id": "1d1f2aee-d7c7-442e-9d01-2d9617685624",
   "metadata": {},
   "outputs": [
    {
     "name": "stdout",
     "output_type": "stream",
     "text": [
      "Thirupathi\n"
     ]
    }
   ],
   "source": [
    "print(name.title())"
   ]
  },
  {
   "cell_type": "code",
   "execution_count": 17,
   "id": "7c05a32c-e12b-46e8-95d2-082740a8872e",
   "metadata": {},
   "outputs": [
    {
     "name": "stdout",
     "output_type": "stream",
     "text": [
      "Python is a programming language\n",
      "Python Is A Programming Language\n"
     ]
    }
   ],
   "source": [
    "text = \"PyThon is a Programming Language\"\n",
    "print(text.capitalize())\n",
    "print(text.title())"
   ]
  },
  {
   "cell_type": "code",
   "execution_count": 18,
   "id": "8e98fa8d-d758-4051-89e9-56b588613229",
   "metadata": {},
   "outputs": [
    {
     "name": "stdout",
     "output_type": "stream",
     "text": [
      "Object `title` not found.\n"
     ]
    }
   ],
   "source": [
    "\n"
   ]
  },
  {
   "cell_type": "code",
   "execution_count": 6,
   "id": "db4f8918-127d-4ba3-9fd0-66bb2dcbe42e",
   "metadata": {},
   "outputs": [
    {
     "name": "stdout",
     "output_type": "stream",
     "text": [
      "Object `split` not found.\n"
     ]
    }
   ],
   "source": [
    "split?\n"
   ]
  },
  {
   "cell_type": "code",
   "execution_count": 21,
   "id": "51938fd7-563c-4f40-aefb-e91b81a0004a",
   "metadata": {},
   "outputs": [
    {
     "data": {
      "text/plain": [
       "0"
      ]
     },
     "execution_count": 21,
     "metadata": {},
     "output_type": "execute_result"
    }
   ],
   "source": [
    "0+0\n"
   ]
  },
  {
   "cell_type": "code",
   "execution_count": 23,
   "id": "36e6d589-f0ad-446e-ae87-f2814c8ab771",
   "metadata": {},
   "outputs": [
    {
     "name": "stdout",
     "output_type": "stream",
     "text": [
      "pYtHON IS A pROGRAMMING lANGUAGE\n"
     ]
    }
   ],
   "source": [
    "print(text.swapcase())"
   ]
  },
  {
   "cell_type": "code",
   "execution_count": 24,
   "id": "82140a35-64cc-45a7-87e8-74a5048887eb",
   "metadata": {},
   "outputs": [
    {
     "name": "stdout",
     "output_type": "stream",
     "text": [
      "Object `find` not found.\n"
     ]
    }
   ],
   "source": [
    "find?\n"
   ]
  },
  {
   "cell_type": "code",
   "execution_count": 42,
   "id": "e5476e06-031e-4c3c-b3fd-74c9f10d1a66",
   "metadata": {},
   "outputs": [
    {
     "name": "stdout",
     "output_type": "stream",
     "text": [
      "I love Java programming.\n"
     ]
    }
   ],
   "source": [
    "sentence = \"I love python programming.\"\n",
    "print(sentence.replace(\"python\",\"Java\"))"
   ]
  },
  {
   "cell_type": "code",
   "execution_count": 37,
   "id": "e473d781-030c-46de-8bdb-dc0ac1c68846",
   "metadata": {},
   "outputs": [
    {
     "name": "stdout",
     "output_type": "stream",
     "text": [
      "7\n"
     ]
    }
   ],
   "source": [
    "sentence=\"I love python programming python is not a snake\"\n",
    "print(sentence.find(\"python\"))"
   ]
  },
  {
   "cell_type": "code",
   "execution_count": 39,
   "id": "7cea9702-e86f-48d5-8e1c-065d3f5c1df5",
   "metadata": {},
   "outputs": [],
   "source": [
    "import re"
   ]
  },
  {
   "cell_type": "code",
   "execution_count": 41,
   "id": "486ca108-e97f-4d99-91fb-f3a837c430c5",
   "metadata": {},
   "outputs": [
    {
     "data": {
      "text/plain": [
       "13"
      ]
     },
     "execution_count": 41,
     "metadata": {},
     "output_type": "execute_result"
    }
   ],
   "source": [
    "6+7\n"
   ]
  },
  {
   "cell_type": "code",
   "execution_count": 44,
   "id": "68247825-309c-4486-aae6-c01a0b66b847",
   "metadata": {},
   "outputs": [
    {
     "name": "stdout",
     "output_type": "stream",
     "text": [
      "[]\n"
     ]
    }
   ],
   "source": [
    "print(re.findall(r'/b/wt/b',sentence))"
   ]
  },
  {
   "cell_type": "code",
   "execution_count": 53,
   "id": "137769db-d979-4d06-b858-08b960c2a86a",
   "metadata": {},
   "outputs": [
    {
     "data": {
      "text/plain": [
       "16"
      ]
     },
     "execution_count": 53,
     "metadata": {},
     "output_type": "execute_result"
    }
   ],
   "source": [
    "7+9\n"
   ]
  },
  {
   "cell_type": "code",
   "execution_count": 52,
   "id": "4d627805-f79e-4d7b-a432-273f60a7de8d",
   "metadata": {},
   "outputs": [
    {
     "name": "stdout",
     "output_type": "stream",
     "text": [
      "<callable_iterator object at 0x0000029BBBB1D930>\n",
      "[7, 26]\n"
     ]
    }
   ],
   "source": [
    "sentence=\"I love python programming python is not a snake\"\n",
    "iteration=re.finditer(r'python',sentence)\n",
    "print(iteration)\n",
    "print([m.start() for m in iteration])"
   ]
  },
  {
   "cell_type": "code",
   "execution_count": 4,
   "id": "2f599c91-99a5-46fc-9c91-79779c68353e",
   "metadata": {},
   "outputs": [
    {
     "name": "stdin",
     "output_type": "stream",
     "text": [
      "What is your name?  Thiru\n",
      "Enter your city name:  Nayak\n"
     ]
    },
    {
     "name": "stdout",
     "output_type": "stream",
     "text": [
      "kayaNTh\n",
      "ThiruNayak10\n"
     ]
    }
   ],
   "source": [
    "name = input(\"What is your name? \")\n",
    "city = input(\"Enter your city name: \")\n",
    "x = name.capitalize() + city.capitalize()\n",
    "print(f\"{city[::-1]}{name[0:2]}\\n{x}{len(x)}\")"
   ]
  },
  {
   "cell_type": "code",
   "execution_count": 4,
   "id": "f56f34f6-55c4-44d3-835f-bd9468514bd7",
   "metadata": {},
   "outputs": [
    {
     "name": "stdin",
     "output_type": "stream",
     "text": [
      "Enter your name? Thirupathi\n",
      "Enter your age: Nayak\n"
     ]
    },
    {
     "name": "stdout",
     "output_type": "stream",
     "text": [
      "name:Thirupathi age:Nayak\n"
     ]
    }
   ],
   "source": [
    "name=input(\"Enter your name?\")\n",
    "age=input(\"Enter your age:\")\n",
    "print(\"name:{} age:{}\".format(name,age))"
   ]
  },
  {
   "cell_type": "code",
   "execution_count": 21,
   "id": "f6b66d81-03b8-4b6c-9b8c-4bdab28b5172",
   "metadata": {},
   "outputs": [
    {
     "name": "stdout",
     "output_type": "stream",
     "text": [
      "['Hello', 'Thirupathi', 'Nayak', 'Degavath']\n"
     ]
    }
   ],
   "source": [
    "text=\"Hello Thirupathi Nayak Degavath\"\n",
    "test=text.split(\" \")\n",
    "print(test)"
   ]
  },
  {
   "cell_type": "code",
   "execution_count": 17,
   "id": "e39efa3b-a2b9-4cf8-9b9d-709618c3eeee",
   "metadata": {},
   "outputs": [
    {
     "name": "stdout",
     "output_type": "stream",
     "text": [
      "I,am,a,programmer\n",
      "I_am_a_programmer\n"
     ]
    }
   ],
   "source": [
    "think=\"I,am,a,programmer\"\n",
    "words=think.split(\",\")\n",
    "print(think.ljust(3,'*'))\n",
    "text_join=\"_\".join(words)\n",
    "print(text_join)"
   ]
  },
  {
   "cell_type": "code",
   "execution_count": 20,
   "id": "8ed89d43-23e6-496f-a635-6292d15d7d68",
   "metadata": {},
   "outputs": [
    {
     "name": "stdout",
     "output_type": "stream",
     "text": [
      "***********************************************************************************************Thirupathi\n"
     ]
    }
   ],
   "source": [
    "name=\"Thirupathi\"\n",
    "print(name.rjust(105,\"*\"))"
   ]
  },
  {
   "cell_type": "markdown",
   "id": "9bc2d330-45fb-4716-a0ec-747b4b979d96",
   "metadata": {},
   "source": [
    "### 333...3.3\n",
    "3\n",
    "0\n"
   ]
  },
  {
   "cell_type": "code",
   "execution_count": 22,
   "id": "fd9cf26b-4c53-4dbd-907f-9a3877f8dfba",
   "metadata": {},
   "outputs": [
    {
     "name": "stdout",
     "output_type": "stream",
     "text": [
      "0.0\n"
     ]
    }
   ],
   "source": [
    "print(round(3.0878,-3))"
   ]
  },
  {
   "cell_type": "code",
   "execution_count": null,
   "id": "3b589617-f1bc-49fb-8ff6-bd333e4dfa7c",
   "metadata": {},
   "outputs": [],
   "source": []
  }
 ],
 "metadata": {
  "kernelspec": {
   "display_name": "Python [conda env:base] *",
   "language": "python",
   "name": "conda-base-py"
  },
  "language_info": {
   "codemirror_mode": {
    "name": "ipython",
    "version": 3
   },
   "file_extension": ".py",
   "mimetype": "text/x-python",
   "name": "python",
   "nbconvert_exporter": "python",
   "pygments_lexer": "ipython3",
   "version": "3.13.5"
  }
 },
 "nbformat": 4,
 "nbformat_minor": 5
}
