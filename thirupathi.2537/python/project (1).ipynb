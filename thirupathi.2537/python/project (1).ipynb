{
 "cells": [
  {
   "cell_type": "code",
   "execution_count": 1,
   "id": "6058fd27-cedd-4ff0-b877-05cfdaecf303",
   "metadata": {},
   "outputs": [
    {
     "name": "stdout",
     "output_type": "stream",
     "text": [
      "\n",
      "*******************************************************************************\n",
      "          |                   |                  |                     |\n",
      " _________|________________.=\"\"_;=.______________|_____________________|_______\n",
      "|                   |  ,-\"_,=\"\"     '\"=.|                  |\n",
      "|___________________|__\"=._o'\"-._        '\"=.______________|___________________\n",
      "          |                '\"=._o'\"=._      _'\"=._                     |\n",
      " _________|_____________________:=._o \"=._.\"_.-=\"'\"=.__________________|_______\n",
      "|                   |    __.--\" , ; '\"=._o.\" ,-\"\"\"-._ \".   |\n",
      "|___________________|_._\"  ,. .' ' '' ,  '\"-._\"-._   \". '__|___________________\n",
      "          |           |o'\"=._' , \"' '; .\". ,  \"-._\"-._; ;              |\n",
      " _________|___________| ;'-.o'\"=._; .\" ' ''.\"' . \"-._ /_______________|_______\n",
      "|                   | |o;    '\"-.o'\"=._''  '' \" ,__.--o;   |\n",
      "|___________________|_| ;     (#) '-.o '\"=.'_.--\"_o.-; ;___|___________________\n",
      "____/______/______/___|o;._    \"      '\".o|o_.--\"    ;o;____/______/______/____\n",
      "/______/______/______/_\"=._o--._        ; | ;        ; ;/______/______/______/_ \n",
      "____/______/______/______/__\"=._o--._   ;o|o;     _._;o;____/______/______/____\n",
      "/______/______/______/______/____\"=._o._; | ;_.--\"o.--\"_/______/______/______/_ \n",
      "____/______/______/______/______/_____\"=.o|o_.--\"\"___/______/______/______/____\n",
      "/______/______/______/______/______/______/______/______/______/______/_____ /\n",
      "*******************************************************************************\n",
      "\n",
      "Welcome to Treasure Island.\n",
      "Your mission is to find the treasure.\n"
     ]
    },
    {
     "name": "stdin",
     "output_type": "stream",
     "text": [
      "You're at a cross road. Where do you want to go? Type 'left' or 'right':\n",
      " 1\n"
     ]
    },
    {
     "name": "stdout",
     "output_type": "stream",
     "text": [
      "Invalid input! Game Over.\n"
     ]
    }
   ],
   "source": [
    "print('''\n",
    "*******************************************************************************\n",
    "          |                   |                  |                     |\n",
    " _________|________________.=\"\"_;=.______________|_____________________|_______\n",
    "|                   |  ,-\"_,=\"\"     '\"=.|                  |\n",
    "|___________________|__\"=._o'\"-._        '\"=.______________|___________________\n",
    "          |                '\"=._o'\"=._      _'\"=._                     |\n",
    " _________|_____________________:=._o \"=._.\"_.-=\"'\"=.__________________|_______\n",
    "|                   |    __.--\" , ; '\"=._o.\" ,-\"\"\"-._ \".   |\n",
    "|___________________|_._\"  ,. .' ' '' ,  '\"-._\"-._   \". '__|___________________\n",
    "          |           |o'\"=._' , \"' '; .\". ,  \"-._\"-._; ;              |\n",
    " _________|___________| ;'-.o'\"=._; .\" ' ''.\"\\' . \"-._ /_______________|_______\n",
    "|                   | |o;    '\"-.o'\"=._''  '' \" ,__.--o;   |\n",
    "|___________________|_| ;     (#) '-.o '\"=.'_.--\"_o.-; ;___|___________________\n",
    "____/______/______/___|o;._    \"      '\".o|o_.--\"    ;o;____/______/______/____\n",
    "/______/______/______/_\"=._o--._        ; | ;        ; ;/______/______/______/_ \n",
    "____/______/______/______/__\"=._o--._   ;o|o;     _._;o;____/______/______/____\n",
    "/______/______/______/______/____\"=._o._; | ;_.--\"o.--\"_/______/______/______/_ \n",
    "____/______/______/______/______/_____\"=.o|o_.--\"\"___/______/______/______/____\n",
    "/______/______/______/______/______/______/______/______/______/______/_____ /\n",
    "*******************************************************************************\n",
    "''')\n",
    "\n",
    "print(\"Welcome to Treasure Island.\")\n",
    "print(\"Your mission is to find the treasure.\")\n",
    "\n",
    "choice1 = input(\"You're at a cross road. Where do you want to go? Type 'left' or 'right':\\n\").lower()\n",
    "if choice1 not in [\"left\", \"right\"]:\n",
    "    print(\"Invalid input! Game Over.\")\n",
    "elif choice1 == \"left\":\n",
    "    choice2 = input(\"You've come to a lake. Type 'wait' to wait for a boat or 'swim' to swim across:\\n\").lower()\n",
    "    if choice2 not in [\"wait\", \"swim\"]:\n",
    "        print(\"Invalid input! Game Over.\")\n",
    "    elif choice2 == \"wait\":\n",
    "        choice3 = input(\"You arrive at a house with 3 doors: red, yellow, and blue. Which colour do you choose?\\n\").lower()\n",
    "        if choice3 not in [\"red\", \"yellow\", \"blue\"]:\n",
    "            print(\"Invalid input! Game Over.\")\n",
    "        elif choice3 == \"red\":\n",
    "            print(\"It's a room full of fire. Game Over.\")\n",
    "        elif choice3 == \"yellow\":\n",
    "            print(\"You found the treasure! You Win!\")\n",
    "        elif choice3 == \"blue\":\n",
    "            print(\"You enter a room of beasts. Game Over.\")\n",
    "    else:\n",
    "        print(\"You get attacked by an angry trout. Game Over.\")\n",
    "else:\n",
    "    print(\"You fell into a hole. Game Over.\")\n"
   ]
  },
  {
   "cell_type": "code",
   "execution_count": 4,
   "id": "f2aef5c4-e6e4-4e67-91dc-e129f524453a",
   "metadata": {},
   "outputs": [
    {
     "name": "stdin",
     "output_type": "stream",
     "text": [
      "What do you choose? Type 0 for Rock, 1 for Paper or 2 for Scissors:\n",
      " O\n"
     ]
    },
    {
     "name": "stdout",
     "output_type": "stream",
     "text": [
      "Invalid input! Please enter a number 0, 1, or 2.\n"
     ]
    }
   ],
   "source": [
    "import random\n",
    "rock = '''\n",
    "    _______\n",
    "---'   ____)\n",
    "      (_____)\n",
    "      (_____)\n",
    "      (____)\n",
    "---.__(___)\n",
    "'''\n",
    "paper = '''\n",
    "    _______\n",
    "---'   ____)____\n",
    "          ______)\n",
    "          _______)\n",
    "         _______)\n",
    "---.__________)\n",
    "'''\n",
    "scissors = '''\n",
    "    _______\n",
    "---'   ____)____\n",
    "          ______)\n",
    "       __________)\n",
    "      (____)\n",
    "---.__(___)\n",
    "'''\n",
    "rps = [rock, paper, scissors]\n",
    "user_input = input(\"What do you choose? Type 0 for Rock, 1 for Paper or 2 for Scissors:\\n\")\n",
    "if not user_input.isdigit():\n",
    "    print(\"Invalid input! Please enter a number 0, 1, or 2.\")\n",
    "else:\n",
    "    user_choice = int(user_input)\n",
    "    if user_choice < 0 or user_choice > 2:\n",
    "        print(\"Invalid input! Please enter 0, 1, or 2.\")\n",
    "    else:\n",
    "        print(rps[user_choice])\n",
    "        computer_choice = random.randint(0, 2)\n",
    "        print(\"Computer chose:\")\n",
    "        print(rps[computer_choice])\n",
    "        if user_choice == computer_choice:\n",
    "            print(\"It's a draw.\")\n",
    "        elif (user_choice == 0 and computer_choice == 2) or \\\n",
    "             (user_choice == 1 and computer_choice == 0) or \\\n",
    "             (user_choice == 2 and computer_choice == 1):\n",
    "            print(\"You win!\")\n",
    "        else:\n",
    "            print(\"You lose!\")\n"
   ]
  },
  {
   "cell_type": "code",
   "execution_count": 1,
   "id": "7ca093d5-a9ab-432f-a8ef-0ff614ad7e23",
   "metadata": {},
   "outputs": [
    {
     "name": "stdout",
     "output_type": "stream",
     "text": [
      "Welcome to the Tip Calculator!\n"
     ]
    },
    {
     "name": "stdin",
     "output_type": "stream",
     "text": [
      "What was the total bill? ₹ 200\n",
      "How much tip would you like to give? (0–50%)  15\n",
      "How many people to split the bill?  2\n"
     ]
    },
    {
     "name": "stdout",
     "output_type": "stream",
     "text": [
      "Each person should pay: ₹130.0\n",
      "Total bill including tip: ₹260.0\n"
     ]
    }
   ],
   "source": [
    "print(\"Welcome to the Tip Calculator!\")\n",
    "bill_input = input(\"What was the total bill? ₹\")\n",
    "tip_input = input(\"How much tip would you like to give? (0–50%) \")\n",
    "people_input = input(\"How many people to split the bill? \")\n",
    "if (bill_input.replace('.', '', 1).isdigit() and \n",
    "    tip_input.replace('.', '', 1).isdigit() and \n",
    "    people_input.isdigit()):\n",
    "    bill = float(bill_input)\n",
    "    tip = float(tip_input)\n",
    "    people = int(people_input)\n",
    "    if bill <= 0 or tip < 0 or tip > 50 or people <= 0:\n",
    "        print(\"Invalid input! Bill and number of people must be positive, tip between 0–50%.\")\n",
    "    else:\n",
    "        total_tip_amount = bill * (tip / 100)\n",
    "        total_bill = bill + total_tip_amount * people\n",
    "        each_person_total =  total_bill/ people\n",
    "\n",
    "        print(f\"Each person should pay: ₹{round(each_person_total, 2)}\")\n",
    "        print(f\"Total bill including tip: ₹{round(total_bill, 2)}\")\n",
    "else:\n",
    "    print(\"Invalid input! Please enter numeric values only \")\n",
    "\n"
   ]
  },
  {
   "cell_type": "code",
   "execution_count": null,
   "id": "2a44d7eb-de85-4e3d-b5dd-943a973dfa8b",
   "metadata": {},
   "outputs": [],
   "source": []
  }
 ],
 "metadata": {
  "kernelspec": {
   "display_name": "Python [conda env:base] *",
   "language": "python",
   "name": "conda-base-py"
  },
  "language_info": {
   "codemirror_mode": {
    "name": "ipython",
    "version": 3
   },
   "file_extension": ".py",
   "mimetype": "text/x-python",
   "name": "python",
   "nbconvert_exporter": "python",
   "pygments_lexer": "ipython3",
   "version": "3.13.5"
  }
 },
 "nbformat": 4,
 "nbformat_minor": 5
}
