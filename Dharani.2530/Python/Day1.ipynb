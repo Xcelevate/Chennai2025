{
 "cells": [
  {
   "cell_type": "code",
   "execution_count": 1,
   "id": "c72f45cf-9b0d-4ead-8577-c7759e474bcd",
   "metadata": {},
   "outputs": [
    {
     "name": "stdin",
     "output_type": "stream",
     "text": [
      "firstname: dharani\n",
      "lastname: nalini\n"
     ]
    },
    {
     "name": "stdout",
     "output_type": "stream",
     "text": [
      "your nick name is: DN\n",
      "Your Name is: Dharani Nalini\n"
     ]
    }
   ],
   "source": [
    "firstname = input(\"firstname:\")\n",
    "lastname = input(\"lastname:\")\n",
    "text = firstname + \" \" + lastname\n",
    "final_name=text.title()\n",
    "fname=firstname\n",
    "lname=lastname\n",
    "nick1=fname[0]\n",
    "nick2=lname[0]\n",
    "nickname = nick1.upper() + nick2.upper()\n",
    "print(\"your nick name is:\",nickname)\n",
    "print(\"Your Name is:\" ,final_name)\n"
   ]
  },
  {
   "cell_type": "code",
   "execution_count": 20,
   "id": "87e93a9d-92b6-45e2-8663-e79ad8cc867f",
   "metadata": {},
   "outputs": [
    {
     "name": "stdout",
     "output_type": "stream",
     "text": [
      "Name: Dharani Age: 20\n"
     ]
    }
   ],
   "source": [
    "name = \"Dharani\"\n",
    "age = 20\n",
    "\n",
    "print(f\"Name: {name} Age: {age}\")\n"
   ]
  },
  {
   "cell_type": "code",
   "execution_count": 28,
   "id": "d3176e3c-56b4-4f4a-9d10-e966ac478e07",
   "metadata": {},
   "outputs": [
    {
     "name": "stdout",
     "output_type": "stream",
     "text": [
      "['i ,love ,python,program']\n"
     ]
    }
   ],
   "source": [
    "text=\"i ,love ,python,program\"\n",
    "words=text.split(\";\")\n",
    "print(words)\n"
   ]
  },
  {
   "cell_type": "code",
   "execution_count": 34,
   "id": "0b112cf5-7c1f-4d49-b4da-6cce524e4f55",
   "metadata": {},
   "outputs": [
    {
     "name": "stdout",
     "output_type": "stream",
     "text": [
      "i_am_a_programmer\n"
     ]
    }
   ],
   "source": [
    "text=\"i am a programmer\"\n",
    "words=text.split(\" \")\n",
    "text_join=\"_\".join(words)\n",
    "print(text_join)"
   ]
  },
  {
   "cell_type": "code",
   "execution_count": 40,
   "id": "86c0a345-6997-49be-aa24-0b9c84f492db",
   "metadata": {},
   "outputs": [
    {
     "name": "stdout",
     "output_type": "stream",
     "text": [
      "dharani***\n",
      "@@dharani\n"
     ]
    }
   ],
   "source": [
    "name=\"dharani\"\n",
    "print(name.ljust(10,'*'))\n",
    "print(name.rjust(9,'@'))\n",
    "\n"
   ]
  },
  {
   "cell_type": "code",
   "execution_count": 42,
   "id": "e9ed818c-b6e4-4d34-9acf-58ab58b4dc07",
   "metadata": {},
   "outputs": [
    {
     "name": "stdout",
     "output_type": "stream",
     "text": [
      "I am a programmer.i am a \n"
     ]
    }
   ],
   "source": [
    "text = \"i am a programmer.i am a \"\n",
    "print(text.capitalize())\n"
   ]
  },
  {
   "cell_type": "code",
   "execution_count": null,
   "id": "18a0aea0-4645-4c6e-9dee-2ad3f45bb479",
   "metadata": {},
   "outputs": [],
   "source": []
  }
 ],
 "metadata": {
  "kernelspec": {
   "display_name": "Python [conda env:base] *",
   "language": "python",
   "name": "conda-base-py"
  },
  "language_info": {
   "codemirror_mode": {
    "name": "ipython",
    "version": 3
   },
   "file_extension": ".py",
   "mimetype": "text/x-python",
   "name": "python",
   "nbconvert_exporter": "python",
   "pygments_lexer": "ipython3",
   "version": "3.13.5"
  }
 },
 "nbformat": 4,
 "nbformat_minor": 5
}
