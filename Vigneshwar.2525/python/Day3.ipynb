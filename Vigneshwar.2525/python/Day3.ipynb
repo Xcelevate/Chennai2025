{
 "cells": [
  {
   "cell_type": "code",
   "execution_count": 6,
   "id": "050e8355-f8a7-4883-ae8a-82aeb04691c9",
   "metadata": {},
   "outputs": [
    {
     "name": "stdout",
     "output_type": "stream",
     "text": [
      "array('i', [-1, -2, -3])\n"
     ]
    }
   ],
   "source": [
    "import array as arr\n",
    "my_array = arr.array('i', [-1, -2, -3])\n",
    "print(my_array)"
   ]
  },
  {
   "cell_type": "code",
   "execution_count": 4,
   "id": "ea39e617-a73e-4389-830b-07bede9884f6",
   "metadata": {},
   "outputs": [
    {
     "name": "stdout",
     "output_type": "stream",
     "text": [
      "2\n"
     ]
    }
   ],
   "source": [
    "print(my_array[1])"
   ]
  },
  {
   "cell_type": "code",
   "execution_count": 5,
   "id": "4ce6187d-08e8-446b-b673-2ae565ee231c",
   "metadata": {},
   "outputs": [
    {
     "name": "stdout",
     "output_type": "stream",
     "text": [
      "array('i', [1, 2, 3, 6])\n"
     ]
    }
   ],
   "source": [
    "my_array.append(6)\n",
    "print(my_array)"
   ]
  },
  {
   "cell_type": "code",
   "execution_count": 8,
   "id": "200a39fc-de19-4fce-a59c-c786dae7e843",
   "metadata": {},
   "outputs": [
    {
     "name": "stdout",
     "output_type": "stream",
     "text": [
      "[1 2 3 4 5]\n"
     ]
    }
   ],
   "source": [
    "import numpy as np \n",
    "# creat a  numpy array \n",
    "numpy_array=np.array([1,2,3,4,5])\n",
    "print(numpy_array)"
   ]
  },
  {
   "cell_type": "code",
   "execution_count": 12,
   "id": "80bc36cd-050e-47da-8ac1-e12ffe21ed3d",
   "metadata": {},
   "outputs": [
    {
     "name": "stdout",
     "output_type": "stream",
     "text": [
      "acice\n"
     ]
    }
   ],
   "source": [
    "import random\n",
    "ff=[\"acice\",\"jon\",\"viki\",\"devid\"]\n",
    "print(random.choice(ff))"
   ]
  },
  {
   "cell_type": "code",
   "execution_count": 13,
   "id": "79535699-d18f-4c17-b994-93a64424b1f3",
   "metadata": {},
   "outputs": [
    {
     "data": {
      "text/plain": [
       "-2"
      ]
     },
     "execution_count": 13,
     "metadata": {},
     "output_type": "execute_result"
    }
   ],
   "source": [
    "random.choice(my_array)"
   ]
  },
  {
   "cell_type": "code",
   "execution_count": 1,
   "id": "5e8e0a5c-d7cb-4c6d-9b3c-95a61c744ac2",
   "metadata": {},
   "outputs": [
    {
     "data": {
      "text/plain": [
       "'dood'"
      ]
     },
     "execution_count": 1,
     "metadata": {},
     "output_type": "execute_result"
    }
   ],
   "source": [
    "import sample1\n",
    "import random\n",
    "random.choice(sample1.good)"
   ]
  },
  {
   "cell_type": "code",
   "execution_count": 4,
   "id": "1c9852d1-230a-4a63-80d9-98977cf8d608",
   "metadata": {},
   "outputs": [
    {
     "data": {
      "text/plain": [
       "\u001b[1;31mInit signature:\u001b[0m \u001b[0marr\u001b[0m\u001b[1;33m.\u001b[0m\u001b[0marray\u001b[0m\u001b[1;33m(\u001b[0m\u001b[0mself\u001b[0m\u001b[1;33m,\u001b[0m \u001b[1;33m/\u001b[0m\u001b[1;33m,\u001b[0m \u001b[1;33m*\u001b[0m\u001b[0margs\u001b[0m\u001b[1;33m,\u001b[0m \u001b[1;33m**\u001b[0m\u001b[0mkwargs\u001b[0m\u001b[1;33m)\u001b[0m\u001b[1;33m\u001b[0m\u001b[1;33m\u001b[0m\u001b[0m\n",
       "\u001b[1;31mDocstring:\u001b[0m     \n",
       "array(typecode [, initializer]) -> array\n",
       "\n",
       "Return a new array whose items are restricted by typecode, and\n",
       "initialized from the optional initializer value, which must be a list,\n",
       "string or iterable over elements of the appropriate type.\n",
       "\n",
       "Arrays represent basic values and behave very much like lists, except\n",
       "the type of objects stored in them is constrained. The type is specified\n",
       "at object creation time by using a type code, which is a single character.\n",
       "The following type codes are defined:\n",
       "\n",
       "    Type code   C Type             Minimum size in bytes\n",
       "    'b'         signed integer     1\n",
       "    'B'         unsigned integer   1\n",
       "    'u'         Unicode character  2 (see note)\n",
       "    'h'         signed integer     2\n",
       "    'H'         unsigned integer   2\n",
       "    'i'         signed integer     2\n",
       "    'I'         unsigned integer   2\n",
       "    'l'         signed integer     4\n",
       "    'L'         unsigned integer   4\n",
       "    'q'         signed integer     8 (see note)\n",
       "    'Q'         unsigned integer   8 (see note)\n",
       "    'f'         floating-point     4\n",
       "    'd'         floating-point     8\n",
       "\n",
       "NOTE: The 'u' typecode corresponds to Python's unicode character. On\n",
       "narrow builds this is 2-bytes on wide builds this is 4-bytes.\n",
       "\n",
       "NOTE: The 'q' and 'Q' type codes are only available if the platform\n",
       "C compiler used to build Python supports 'long long', or, on Windows,\n",
       "'__int64'.\n",
       "\n",
       "Methods:\n",
       "\n",
       "append() -- append a new item to the end of the array\n",
       "buffer_info() -- return information giving the current memory info\n",
       "byteswap() -- byteswap all the items of the array\n",
       "count() -- return number of occurrences of an object\n",
       "extend() -- extend array by appending multiple elements from an iterable\n",
       "fromfile() -- read items from a file object\n",
       "fromlist() -- append items from the list\n",
       "frombytes() -- append items from the string\n",
       "index() -- return index of first occurrence of an object\n",
       "insert() -- insert a new item into the array at a provided position\n",
       "pop() -- remove and return item (default last)\n",
       "remove() -- remove first occurrence of an object\n",
       "reverse() -- reverse the order of the items in the array\n",
       "tofile() -- write all items to a file object\n",
       "tolist() -- return the array converted to an ordinary list\n",
       "tobytes() -- return the array converted to a string\n",
       "\n",
       "Attributes:\n",
       "\n",
       "typecode -- the typecode character used to create the array\n",
       "itemsize -- the length in bytes of one array item\n",
       "\u001b[1;31mType:\u001b[0m           type\n",
       "\u001b[1;31mSubclasses:\u001b[0m     "
      ]
     },
     "metadata": {},
     "output_type": "display_data"
    }
   ],
   "source": [
    "import array as arr\n",
    "arr.array?"
   ]
  },
  {
   "cell_type": "code",
   "execution_count": 3,
   "id": "8ce83991-86cd-4fa8-a754-9188c0846548",
   "metadata": {},
   "outputs": [
    {
     "ename": "SyntaxError",
     "evalue": "invalid syntax (2971329820.py, line 1)",
     "output_type": "error",
     "traceback": [
      "\u001b[1;36m  Cell \u001b[1;32mIn[3], line 1\u001b[1;36m\u001b[0m\n\u001b[1;33m    from Day3_sample\u001b[0m\n\u001b[1;37m                     ^\u001b[0m\n\u001b[1;31mSyntaxError\u001b[0m\u001b[1;31m:\u001b[0m invalid syntax\n"
     ]
    }
   ],
   "source": [
    "from Day3_sample \n",
    "import fruits\n",
    "fruits.fff"
   ]
  },
  {
   "cell_type": "code",
   "execution_count": 6,
   "id": "e3a0db37-7a5f-4d4c-b914-dc4bb07058bd",
   "metadata": {},
   "outputs": [
    {
     "name": "stdout",
     "output_type": "stream",
     "text": [
      "bob\n"
     ]
    }
   ],
   "source": [
    "import random \n",
    "friends=[\"alice\",\"bob\",\"dood\",\"luca\",\"tod\"]\n",
    "random_index=random.randint(0,4)\n",
    "print(friends[random_index])\n",
    "\n"
   ]
  },
  {
   "cell_type": "code",
   "execution_count": 8,
   "id": "81fa8d01-fb80-49d8-b9dd-22126a102274",
   "metadata": {},
   "outputs": [
    {
     "ename": "IndexError",
     "evalue": "list index out of range",
     "output_type": "error",
     "traceback": [
      "\u001b[1;31m---------------------------------------------------------------------------\u001b[0m",
      "\u001b[1;31mIndexError\u001b[0m                                Traceback (most recent call last)",
      "Cell \u001b[1;32mIn[8], line 4\u001b[0m\n\u001b[0;32m      2\u001b[0m friends\u001b[38;5;241m=\u001b[39m[\u001b[38;5;124m\"\u001b[39m\u001b[38;5;124malice\u001b[39m\u001b[38;5;124m\"\u001b[39m,\u001b[38;5;124m\"\u001b[39m\u001b[38;5;124mbob\u001b[39m\u001b[38;5;124m\"\u001b[39m,\u001b[38;5;124m\"\u001b[39m\u001b[38;5;124mdood\u001b[39m\u001b[38;5;124m\"\u001b[39m,\u001b[38;5;124m\"\u001b[39m\u001b[38;5;124mluca\u001b[39m\u001b[38;5;124m\"\u001b[39m,\u001b[38;5;124m\"\u001b[39m\u001b[38;5;124mtod\u001b[39m\u001b[38;5;124m\"\u001b[39m]\n\u001b[0;32m      3\u001b[0m random_index\u001b[38;5;241m=\u001b[39mrandom\u001b[38;5;241m.\u001b[39mrandint(\u001b[38;5;241m0\u001b[39m,\u001b[38;5;241m999\u001b[39m)\n\u001b[1;32m----> 4\u001b[0m \u001b[38;5;28mprint\u001b[39m(friends[random_index])\n",
      "\u001b[1;31mIndexError\u001b[0m: list index out of range"
     ]
    }
   ],
   "source": [
    "import random \n",
    "friends=[\"alice\",\"bob\",\"dood\",\"luca\",\"tod\"]\n",
    "random_index=random.randint(0,999)\n",
    "print(friends[random_index])\n",
    "\n"
   ]
  },
  {
   "cell_type": "code",
   "execution_count": 11,
   "id": "8998f382-3c76-46a2-8a53-4caa1efc817b",
   "metadata": {},
   "outputs": [
    {
     "name": "stdout",
     "output_type": "stream",
     "text": [
      "onion\n"
     ]
    }
   ],
   "source": [
    "#nested list\n",
    "fruits=[\"cherry\",\"apple\",\"banana\",\"graphs\",\"watermelon\",\"mango\",\"orange\"]\n",
    "vegetables=[\"tomato\",\"onion\",\"beetroot\",\"carrot\",\"kale\"]\n",
    "dirty_donzen = [fruits,vegetables]\n",
    "print(dirty_donzen[1][1])"
   ]
  },
  {
   "cell_type": "code",
   "execution_count": 12,
   "id": "ba33ed6c-a7b8-4d87-9166-ee8151c6f44a",
   "metadata": {},
   "outputs": [],
   "source": [
    "#existing list\n",
    "my_list=[\"cherry\",\"apple\",\"banana\",\"graphs\",\"watermelon\",\"mango\",\"orange\"]\n"
   ]
  },
  {
   "cell_type": "code",
   "execution_count": 13,
   "id": "3570ff6a-3e47-4d76-b54b-15fc3ed44671",
   "metadata": {},
   "outputs": [
    {
     "name": "stdout",
     "output_type": "stream",
     "text": [
      "random item: banana\n"
     ]
    }
   ],
   "source": [
    "#select a single random element\n",
    "random_item=random.choice(my_list)\n",
    "print(f\"random item: {random_item}\")"
   ]
  },
  {
   "cell_type": "code",
   "execution_count": 27,
   "id": "397cebe3-318b-40a0-b71e-8da8d5f0b3a5",
   "metadata": {},
   "outputs": [
    {
     "name": "stdin",
     "output_type": "stream",
     "text": [
      " 0\n",
      " 2\n"
     ]
    },
    {
     "name": "stdout",
     "output_type": "stream",
     "text": [
      "banana\n"
     ]
    }
   ],
   "source": [
    "import random\n",
    "\n",
    "fruits = ['apple','orange','banana','guava']\n",
    "vegetables = ['spinach','kale','tomatoes','potatoes']\n",
    "dirty_dozen = [fruits, vegetables]\n",
    "a=int(input())\n",
    "b=int(input())\n",
    "if 0<= a <len(dirty_dozen):\n",
    "    if 0<=b <len(fruits) or 0<= b <len(vegetables):\n",
    "        print(dirty_dozen[a][b])\n",
    "\n",
    "\n",
    "        "
   ]
  },
  {
   "cell_type": "code",
   "execution_count": 34,
   "id": "ba364df8-1979-4c59-a849-81c8164972fb",
   "metadata": {},
   "outputs": [
    {
     "name": "stdout",
     "output_type": "stream",
     "text": [
      "apple\n",
      "applepie\n",
      "orange\n",
      "orangepie\n",
      "banana\n",
      "bananapie\n",
      "guava\n",
      "guavapie\n"
     ]
    }
   ],
   "source": [
    "fruits = ['apple','orange','banana','guava']\n",
    "for fruit in fruits:\n",
    "    print(fruit)\n",
    "    print(fruit + \"pie\")"
   ]
  },
  {
   "cell_type": "code",
   "execution_count": 55,
   "id": "45bbcede-54e8-4061-93ef-e798360fdc41",
   "metadata": {},
   "outputs": [
    {
     "name": "stdin",
     "output_type": "stream",
     "text": [
      "enter the count: 3\n",
      "Enter the numbers: 10\n",
      "Enter the numbers: 20\n",
      "Enter the numbers: 30\n"
     ]
    },
    {
     "name": "stdout",
     "output_type": "stream",
     "text": [
      "60\n"
     ]
    }
   ],
   "source": [
    "#p1\n",
    "\n",
    "def find_sum(num):\n",
    "    Total = sum(num)\n",
    "    return Total\n",
    "\n",
    "count=int(input(\"enter the count:\"))\n",
    "num=[]\n",
    "\n",
    "for i in range(count):\n",
    "    A=int(input(\"Enter the numbers:\"))\n",
    "    num.append(A)\n",
    "    \n",
    "Total = find_sum(num)\n",
    "print(Total)"
   ]
  },
  {
   "cell_type": "code",
   "execution_count": 54,
   "id": "9de6aae4-931b-40ab-a203-04de2f962ade",
   "metadata": {},
   "outputs": [
    {
     "name": "stdout",
     "output_type": "stream",
     "text": [
      "1\n",
      "2\n",
      "fizz\n",
      "4\n",
      "buzz\n",
      "fizz\n",
      "7\n",
      "8\n",
      "fizz\n",
      "buzz\n",
      "11\n",
      "fizz\n",
      "13\n",
      "14\n",
      "fizzbuzz\n",
      "16\n",
      "17\n",
      "fizz\n",
      "19\n",
      "buzz\n"
     ]
    }
   ],
   "source": [
    "#fizzbuzz\n",
    "\n",
    "for i in range(1,21):\n",
    "    if i%3==0 and i%5==0:\n",
    "        print(\"fizzbuzz\")\n",
    "    elif i%3==0:\n",
    "        print(\"fizz\")\n",
    "    elif i%5==0:\n",
    "        print(\"buzz\")\n",
    "    else:\n",
    "        print(i)"
   ]
  },
  {
   "cell_type": "code",
   "execution_count": 69,
   "id": "ea1f1e19-2aef-4b6f-a895-d31ca346fa13",
   "metadata": {},
   "outputs": [
    {
     "name": "stdin",
     "output_type": "stream",
     "text": [
      "enter the height: 1.789\n",
      "enter the weight: 999\n"
     ]
    },
    {
     "name": "stdout",
     "output_type": "stream",
     "text": [
      "Obesity\n"
     ]
    }
   ],
   "source": [
    "#bmi\n",
    "\n",
    "Height=float(input(\"enter the height:\"))\n",
    "Weight=float(input(\"enter the weight:\"))\n",
    "\n",
    "bmi=((Weight)/(Height**2))\n",
    "if bmi < 18.5:\n",
    "    print(\"Underweight\")\n",
    "elif 18.5 <= bmi < 25:\n",
    "    print(\"Normal weight\")\n",
    "elif 25 <= bmi < 30:\n",
    "    print(\"Overweight\")\n",
    "elif bmi >= 30:\n",
    "    print(\"Obesity\")\n",
    "else:\n",
    "    print(\"Invalid BMI\")"
   ]
  },
  {
   "cell_type": "code",
   "execution_count": 1,
   "id": "d6e992e1-0596-4edb-9a73-f297c865d1b4",
   "metadata": {},
   "outputs": [
    {
     "name": "stdin",
     "output_type": "stream",
     "text": [
      "Enter word1: ki\n",
      "Enter word2: ik\n"
     ]
    },
    {
     "name": "stdout",
     "output_type": "stream",
     "text": [
      "yes\n"
     ]
    }
   ],
   "source": [
    "word1=input(\"Enter word1:\")\n",
    "word2=input(\"Enter word2:\")\n",
    "if word1.isalpha() and word2.isalpha() and len(word1)==len(word2):\n",
    "    temp=list(word2) \n",
    "    for i in word1:\n",
    "        if i in temp:\n",
    "            temp.remove(i)\n",
    "        else:  v\n",
    "            print(\"no\")\n",
    "            break\n",
    "    else:\n",
    "        print(\"yes\")\n",
    "else:\n",
    "    print(\"no\")"
   ]
  },
  {
   "cell_type": "code",
   "execution_count": 5,
   "id": "1f598c88-36e1-4bfe-83ee-754622b8797d",
   "metadata": {},
   "outputs": [
    {
     "name": "stdin",
     "output_type": "stream",
     "text": [
      "enter the pass:  21e3e\n"
     ]
    },
    {
     "name": "stdout",
     "output_type": "stream",
     "text": [
      "pass >= 8\n"
     ]
    },
    {
     "ename": "SystemExit",
     "evalue": "",
     "output_type": "error",
     "traceback": [
      "An exception has occurred, use %tb to see the full traceback.\n",
      "\u001b[1;31mSystemExit\u001b[0m\n"
     ]
    },
    {
     "name": "stderr",
     "output_type": "stream",
     "text": [
      "C:\\Users\\DELL\\anaconda3\\Lib\\site-packages\\IPython\\core\\interactiveshell.py:3585: UserWarning: To exit: use 'exit', 'quit', or Ctrl-D.\n",
      "  warn(\"To exit: use 'exit', 'quit', or Ctrl-D.\", stacklevel=1)\n"
     ]
    }
   ],
   "source": [
    "# pass\n",
    "import sys\n",
    "\n",
    "password = input(\"enter the pass: \")\n",
    "\n",
    "password = str(password)\n",
    "list_chr = ['!', '@', '#', '$', '%', '^', '&', '*', '(', ')', '-', '_', '+', '=', ':', ';']\n",
    "num = ['0','1','2','3','4','5','6','7','8','9']\n",
    "\n",
    "c = 0\n",
    "nc = 0\n",
    "\n",
    "if len(password) >= 8:\n",
    "    for i in password:\n",
    "        if i in list_chr:\n",
    "            c += 1\n",
    "        elif i in num:\n",
    "            nc += 1\n",
    "        else:\n",
    "            continue\n",
    "    if nc == 0:\n",
    "        print(\"num is missing\")\n",
    "    elif c == 0:\n",
    "        print(\"spl is missing\")\n",
    "else:\n",
    "    print(\"pass >= 8\")\n",
    "    sys.exit()\n",
    "\n",
    "if 2 < c <= 4:\n",
    "    print(\"strong\")\n",
    "if c > 4:\n",
    "    print(\"v strong\")\n"
   ]
  },
  {
   "cell_type": "code",
   "execution_count": null,
   "id": "a3ff3b7d-59e8-43f2-b039-8b2a9392f2ea",
   "metadata": {},
   "outputs": [],
   "source": []
  }
 ],
 "metadata": {
  "kernelspec": {
   "display_name": "Python [conda env:base] *",
   "language": "python",
   "name": "conda-base-py"
  },
  "language_info": {
   "codemirror_mode": {
    "name": "ipython",
    "version": 3
   },
   "file_extension": ".py",
   "mimetype": "text/x-python",
   "name": "python",
   "nbconvert_exporter": "python",
   "pygments_lexer": "ipython3",
   "version": "3.13.5"
  }
 },
 "nbformat": 4,
 "nbformat_minor": 5
}
