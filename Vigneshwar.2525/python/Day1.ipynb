{
 "cells": [
  {
   "cell_type": "code",
   "execution_count": 53,
   "id": "49d7c821-6da2-44ca-9c19-477944eb4f57",
   "metadata": {},
   "outputs": [
    {
     "name": "stdout",
     "output_type": "stream",
     "text": [
      "viki\n"
     ]
    }
   ],
   "source": [
    "print(\"viki\")  #print()"
   ]
  },
  {
   "cell_type": "code",
   "execution_count": 2,
   "id": "581af256-9ed3-4b87-a648-04fe2fcf649d",
   "metadata": {},
   "outputs": [
    {
     "name": "stdout",
     "output_type": "stream",
     "text": [
      "Mix 500g of Flour, 10g Yeast and 300ml Water in a bowl.\n",
      "Knead the dough for 10 minutes.\n",
      "Add 3g of Salt.\n",
      "Leave to rise for 2 hours.\n",
      "Bake at 200 degrees C for 30 minutes.\n"
     ]
    }
   ],
   "source": [
    "print(\"Mix 500g of Flour, 10g Yeast and 300ml Water in a bowl.\")\n",
    "print(\"Knead the dough for 10 minutes.\")\n",
    "print(\"Add 3g of Salt.\")\n",
    "print(\"Leave to rise for 2 hours.\")\n",
    "print(\"Bake at 200 degrees C for 30 minutes.\")"
   ]
  },
  {
   "cell_type": "code",
   "execution_count": 3,
   "id": "a24ccf55-6745-420c-9747-cbbe6380dece",
   "metadata": {},
   "outputs": [
    {
     "name": "stdout",
     "output_type": "stream",
     "text": [
      "Mix 500g of Flour, 10g Yeast and 300ml Water in a bowl.\n",
      "Knead the dough for 10 minutes.\n",
      "Add 3g of Salt.\n",
      "Leave to rise for 2 hours.\n",
      "Bake at 200 degrees C for 30 minutes.\n"
     ]
    }
   ],
   "source": [
    "print(\"Mix 500g of Flour, 10g Yeast and 300ml Water in a bowl.\\n\" \"Knead the dough for 10 minutes.\\n\" \"Add 3g of Salt.\\n\" \"Leave to rise for 2 hours.\\n\" \"Bake at 200 degrees C for 30 minutes.\") "
   ]
  },
  {
   "cell_type": "code",
   "execution_count": 4,
   "id": "68419d6c-04e5-4685-a5c1-e785484dfc92",
   "metadata": {},
   "outputs": [
    {
     "ename": "SyntaxError",
     "evalue": "unterminated string literal (detected at line 6) (4233454311.py, line 6)",
     "output_type": "error",
     "traceback": [
      "\u001b[1;36m  Cell \u001b[1;32mIn[4], line 6\u001b[1;36m\u001b[0m\n\u001b[1;33m    print(Strings are strings od characters\")\u001b[0m\n\u001b[1;37m                                           ^\u001b[0m\n\u001b[1;31mSyntaxError\u001b[0m\u001b[1;31m:\u001b[0m unterminated string literal (detected at line 6)\n"
     ]
    }
   ],
   "source": [
    "#missing double quotes\n",
    "print(\"Notes from Day 1\")\n",
    "#indentation error\n",
    "print(\"The print statement is used to output strings\")\n",
    "#missing paranthesis\n",
    "print(Strings are strings od characters\")\n",
    "#priint error\n",
    "print(\"String Concatenation is done with the + sign\")\n",
    "#use of more paranthesis\n",
    "print(\"New lines can be created with a | and the letter n)"
   ]
  },
  {
   "cell_type": "code",
   "execution_count": 5,
   "id": "d51cac84-8933-4f0b-b199-2b42336ce5b5",
   "metadata": {},
   "outputs": [
    {
     "name": "stdout",
     "output_type": "stream",
     "text": [
      "Notes from Day 1\n",
      "The print statement is used to output strings\n",
      "Strings are strings od characters\n",
      "String Concatenation is done with the + sign\n",
      "New lines can be created with a | and the letter n\n"
     ]
    }
   ],
   "source": [
    "print(\"Notes from Day 1\")#missing double quotes \n",
    "print(\"The print statement is used to output strings\") #indentation error\n",
    "print(\"Strings are strings od characters\") #missing paranthesis \n",
    "print(\"String Concatenation is done with the + sign\") #priint error\n",
    "print(\"New lines can be created with a | and the letter n\") #use of more paranthesis\n"
   ]
  },
  {
   "cell_type": "code",
   "execution_count": 6,
   "id": "469f9678-e122-441e-89f1-1e744239da33",
   "metadata": {},
   "outputs": [
    {
     "ename": "SyntaxError",
     "evalue": "invalid syntax (3696817796.py, line 1)",
     "output_type": "error",
     "traceback": [
      "\u001b[1;36m  Cell \u001b[1;32mIn[6], line 1\u001b[1;36m\u001b[0m\n\u001b[1;33m    Day 1 Python Notes\u001b[0m\n\u001b[1;37m        ^\u001b[0m\n\u001b[1;31mSyntaxError\u001b[0m\u001b[1;31m:\u001b[0m invalid syntax\n"
     ]
    }
   ],
   "source": [
    "Day 1 Python Notes\n",
    "The print() statement is used to display output.\n",
    "A string is a sequence of characters written inside quotes (\" \" or ' ').\n",
    "String concatenation (joining strings) is done using the + operator.\n",
    "A new line in strings is created using \\n.\n",
    "Strings can be repeated using the * operator."
   ]
  },
  {
   "cell_type": "code",
   "execution_count": null,
   "id": "1ac4c7a2-fb3d-40cc-bd86-2a6abdee5cdf",
   "metadata": {},
   "outputs": [],
   "source": [
    "print(\"Hello\" + \" World\")   # Concatenation\n",
    "print(\"Hello\\nWorld\")       # New line\n",
    "print(\"Hi \" * 3)            # Repetition"
   ]
  },
  {
   "cell_type": "code",
   "execution_count": 9,
   "id": "3dcb0ae8-7970-4bf4-ae29-a4b7a4b9402b",
   "metadata": {},
   "outputs": [
    {
     "name": "stdin",
     "output_type": "stream",
     "text": [
      "1 1\n"
     ]
    },
    {
     "data": {
      "text/plain": [
       "'1'"
      ]
     },
     "execution_count": 9,
     "metadata": {},
     "output_type": "execute_result"
    }
   ],
   "source": [
    "input(\"1\") #input()"
   ]
  },
  {
   "cell_type": "code",
   "execution_count": 10,
   "id": "0d04ff01-a3b2-4397-8ff0-48d4358c1779",
   "metadata": {},
   "outputs": [
    {
     "data": {
      "text/plain": [
       "\u001b[1;31mSignature:\u001b[0m \u001b[0mprint\u001b[0m\u001b[1;33m(\u001b[0m\u001b[1;33m*\u001b[0m\u001b[0margs\u001b[0m\u001b[1;33m,\u001b[0m \u001b[0msep\u001b[0m\u001b[1;33m=\u001b[0m\u001b[1;34m' '\u001b[0m\u001b[1;33m,\u001b[0m \u001b[0mend\u001b[0m\u001b[1;33m=\u001b[0m\u001b[1;34m'\\n'\u001b[0m\u001b[1;33m,\u001b[0m \u001b[0mfile\u001b[0m\u001b[1;33m=\u001b[0m\u001b[1;32mNone\u001b[0m\u001b[1;33m,\u001b[0m \u001b[0mflush\u001b[0m\u001b[1;33m=\u001b[0m\u001b[1;32mFalse\u001b[0m\u001b[1;33m)\u001b[0m\u001b[1;33m\u001b[0m\u001b[1;33m\u001b[0m\u001b[0m\n",
       "\u001b[1;31mDocstring:\u001b[0m\n",
       "Prints the values to a stream, or to sys.stdout by default.\n",
       "\n",
       "sep\n",
       "  string inserted between values, default a space.\n",
       "end\n",
       "  string appended after the last value, default a newline.\n",
       "file\n",
       "  a file-like object (stream); defaults to the current sys.stdout.\n",
       "flush\n",
       "  whether to forcibly flush the stream.\n",
       "\u001b[1;31mType:\u001b[0m      builtin_function_or_method"
      ]
     },
     "metadata": {},
     "output_type": "display_data"
    }
   ],
   "source": [
    "print?"
   ]
  },
  {
   "cell_type": "code",
   "execution_count": 11,
   "id": "5c2bef36-3337-4e69-a103-9e8e6278c82e",
   "metadata": {},
   "outputs": [
    {
     "name": "stdout",
     "output_type": "stream",
     "text": [
      "\n"
     ]
    }
   ],
   "source": [
    "print()"
   ]
  },
  {
   "cell_type": "code",
   "execution_count": 12,
   "id": "db9748cd-1583-4fa3-ad8f-aeaaeae3a351",
   "metadata": {},
   "outputs": [
    {
     "name": "stdin",
     "output_type": "stream",
     "text": [
      "What is your name? viki\n"
     ]
    },
    {
     "name": "stdout",
     "output_type": "stream",
     "text": [
      "Hello viki\n"
     ]
    }
   ],
   "source": [
    "print(\"Hello \" + input(\"What is your name?\"))"
   ]
  },
  {
   "cell_type": "code",
   "execution_count": 13,
   "id": "539a0101-96f4-4326-80e3-d3a10c7e2056",
   "metadata": {},
   "outputs": [
    {
     "name": "stdin",
     "output_type": "stream",
     "text": [
      " viki\n"
     ]
    },
    {
     "name": "stdout",
     "output_type": "stream",
     "text": [
      "viki good morning\n"
     ]
    }
   ],
   "source": [
    "name=input()\n",
    "print(name+\" \"+ \"good morning\")"
   ]
  },
  {
   "cell_type": "code",
   "execution_count": 14,
   "id": "9cd4da61-21e6-432b-b63f-d61666c358b6",
   "metadata": {},
   "outputs": [
    {
     "name": "stdin",
     "output_type": "stream",
     "text": [
      " viki\n"
     ]
    },
    {
     "name": "stdout",
     "output_type": "stream",
     "text": [
      "Hello viki I am learning python\n"
     ]
    }
   ],
   "source": [
    "name= input()\n",
    "print(\"Hello\",name,\"I am learning python\")"
   ]
  },
  {
   "cell_type": "code",
   "execution_count": 15,
   "id": "92e798ea-7567-4930-b278-899c3aa83325",
   "metadata": {},
   "outputs": [
    {
     "name": "stdin",
     "output_type": "stream",
     "text": [
      "What is your name? viki\n"
     ]
    },
    {
     "name": "stdout",
     "output_type": "stream",
     "text": [
      "4\n"
     ]
    }
   ],
   "source": [
    "name = len(input(\"What is your name?\"))\n",
    "print(name)    #len"
   ]
  },
  {
   "cell_type": "code",
   "execution_count": 16,
   "id": "d62a18a4-baff-4ba3-bb78-fda4247904b0",
   "metadata": {},
   "outputs": [
    {
     "name": "stdout",
     "output_type": "stream",
     "text": [
      "juice milk\n",
      "juice\n",
      "milk\n"
     ]
    }
   ],
   "source": [
    "glass1=\"milk\"  #method 1\n",
    "glass2=\"juice\"\n",
    "temp=glass1\n",
    "glass1=glass2\n",
    "glass2=temp\n",
    "\n",
    "print(glass1,glass2)  #method 2\n",
    "print(glass1+\"\\n\"+glass2) #print on next line\n"
   ]
  },
  {
   "cell_type": "code",
   "execution_count": 17,
   "id": "bbe23c43-af30-439c-bfef-fa7a1aa6e571",
   "metadata": {},
   "outputs": [
    {
     "name": "stdout",
     "output_type": "stream",
     "text": [
      "3\n"
     ]
    }
   ],
   "source": [
    "print(len(\"123\"))"
   ]
  },
  {
   "cell_type": "code",
   "execution_count": 18,
   "id": "e4aafd27-58e8-4755-bbe4-6fcce0503018",
   "metadata": {},
   "outputs": [
    {
     "name": "stdout",
     "output_type": "stream",
     "text": [
      "o\n"
     ]
    }
   ],
   "source": [
    "strr=\"hello\"   #single item subscripting\n",
    "print(strr[4])"
   ]
  },
  {
   "cell_type": "code",
   "execution_count": 19,
   "id": "b9c81152-920f-41a1-a706-e7c1b24c10ea",
   "metadata": {},
   "outputs": [
    {
     "name": "stdout",
     "output_type": "stream",
     "text": [
      "o\n"
     ]
    }
   ],
   "source": [
    "strr=\"hello\"\n",
    "print(strr[:-2:-1])"
   ]
  },
  {
   "cell_type": "code",
   "execution_count": 20,
   "id": "c58d8bda-4eb4-4b2b-bca1-b1aa89c04faa",
   "metadata": {},
   "outputs": [
    {
     "name": "stdout",
     "output_type": "stream",
     "text": [
      "mom\n"
     ]
    }
   ],
   "source": [
    "name=\"mom\"\n",
    "print(name[::-1])"
   ]
  },
  {
   "cell_type": "code",
   "execution_count": 22,
   "id": "e2e78fca-9ef8-45a9-a771-9d970213cb79",
   "metadata": {},
   "outputs": [
    {
     "name": "stdin",
     "output_type": "stream",
     "text": [
      "What is your name? viki\n"
     ]
    },
    {
     "name": "stdout",
     "output_type": "stream",
     "text": [
      "Number of letters in the name 4\n"
     ]
    }
   ],
   "source": [
    "print(\"Number of letters in the name\", len(input(\"What is your name?\")))"
   ]
  },
  {
   "cell_type": "code",
   "execution_count": 23,
   "id": "25e0e284-3041-4dd3-bc3e-16f3c06b6eb3",
   "metadata": {},
   "outputs": [
    {
     "name": "stdout",
     "output_type": "stream",
     "text": [
      "30.854\n"
     ]
    }
   ],
   "source": [
    "height=1.65\n",
    "weight=84\n",
    "bmi=(weight)/(height**2)\n",
    "print(round((bmi),4))"
   ]
  },
  {
   "cell_type": "code",
   "execution_count": 52,
   "id": "2230322c-131f-4a28-81a1-25eaf89b6147",
   "metadata": {},
   "outputs": [
    {
     "name": "stdout",
     "output_type": "stream",
     "text": [
      "viki\n"
     ]
    }
   ],
   "source": [
    "print(f\"viki\")"
   ]
  },
  {
   "cell_type": "code",
   "execution_count": 51,
   "id": "da9167ed-f176-4ac5-a018-07bbf5d940ac",
   "metadata": {},
   "outputs": [
    {
     "name": "stdout",
     "output_type": "stream",
     "text": [
      "Hello viki age: 22\n"
     ]
    }
   ],
   "source": [
    "name=\"viki\"\n",
    "age=22\n",
    "print(f\"Hello {name} age: {age}\")"
   ]
  },
  {
   "cell_type": "code",
   "execution_count": 26,
   "id": "aceed93f-2c48-4daf-b23e-b9f8ef1a75bd",
   "metadata": {},
   "outputs": [
    {
     "ename": "SyntaxError",
     "evalue": "invalid syntax (2978296256.py, line 1)",
     "output_type": "error",
     "traceback": [
      "\u001b[1;36m  Cell \u001b[1;32mIn[26], line 1\u001b[1;36m\u001b[0m\n\u001b[1;33m    print(10%%2) #to fix print(10%2)\u001b[0m\n\u001b[1;37m             ^\u001b[0m\n\u001b[1;31mSyntaxError\u001b[0m\u001b[1;31m:\u001b[0m invalid syntax\n"
     ]
    }
   ],
   "source": [
    "print(10%%2) #to fix print(10%2)"
   ]
  },
  {
   "cell_type": "code",
   "execution_count": 27,
   "id": "6d30df09-9eba-4d94-8beb-afa49be86384",
   "metadata": {},
   "outputs": [
    {
     "ename": "SyntaxError",
     "evalue": "unmatched ')' (177255511.py, line 1)",
     "output_type": "error",
     "traceback": [
      "\u001b[1;36m  Cell \u001b[1;32mIn[27], line 1\u001b[1;36m\u001b[0m\n\u001b[1;33m    my_string = \"Programming\")  #to fix begin with (\u001b[0m\n\u001b[1;37m                             ^\u001b[0m\n\u001b[1;31mSyntaxError\u001b[0m\u001b[1;31m:\u001b[0m unmatched ')'\n"
     ]
    }
   ],
   "source": [
    "my_string = \"Programming\")  #to fix begin with ("
   ]
  },
  {
   "cell_type": "code",
   "execution_count": 50,
   "id": "abd32bd6-548e-42fa-8d6d-cc744c05e077",
   "metadata": {},
   "outputs": [
    {
     "name": "stdout",
     "output_type": "stream",
     "text": [
      "Viki\n"
     ]
    }
   ],
   "source": [
    "name=\"viki\"\n",
    "print(name.title())"
   ]
  },
  {
   "cell_type": "code",
   "execution_count": 29,
   "id": "aecdef19-96dd-4e81-a486-e24ca0d651d0",
   "metadata": {},
   "outputs": [
    {
     "name": "stdout",
     "output_type": "stream",
     "text": [
      "Python is a programming language\n",
      "Python Is A Programming Language\n",
      "pYtHON IS A pROGRAMMING lANGUAGE\n",
      "PYTHON IS A PROGRAMMING LANGUAGE\n",
      "python is a programming language\n"
     ]
    }
   ],
   "source": [
    "text = \"PyThon is a Programming Language\"\n",
    "print(text.capitalize())\n",
    "print(text.title())\n",
    "print(text.swapcase())\n",
    "print(text.upper())\n",
    "print(text.lower())"
   ]
  },
  {
   "cell_type": "code",
   "execution_count": 30,
   "id": "5d0b6dad-5400-46b8-9b6b-c6fc7970b916",
   "metadata": {},
   "outputs": [
    {
     "ename": "SyntaxError",
     "evalue": "invalid character '→' (U+2192) (1409204737.py, line 1)",
     "output_type": "error",
     "traceback": [
      "\u001b[1;36m  Cell \u001b[1;32mIn[30], line 1\u001b[1;36m\u001b[0m\n\u001b[1;33m    capitalize() → Makes the first character uppercase and the rest lowercase.\u001b[0m\n\u001b[1;37m                 ^\u001b[0m\n\u001b[1;31mSyntaxError\u001b[0m\u001b[1;31m:\u001b[0m invalid character '→' (U+2192)\n"
     ]
    }
   ],
   "source": [
    "capitalize() → Makes the first character uppercase and the rest lowercase.\n",
    "title() → Makes the first letter of every word uppercase.\n",
    "swapcase() → Swaps the case of every letter (uppercase → lowercase, lowercase → uppercase).\n",
    "upper() → Converts the whole string to uppercase.\n",
    "lower() → Converts the whole string to lowercase."
   ]
  },
  {
   "cell_type": "code",
   "execution_count": 31,
   "id": "608a7832-ad48-4968-a3af-99333fa19525",
   "metadata": {},
   "outputs": [
    {
     "name": "stdout",
     "output_type": "stream",
     "text": [
      "I love Java programming.\n",
      "I love python programming.\n"
     ]
    }
   ],
   "source": [
    "sentence = \"I love python programming.\"  #replace()\n",
    "print(sentence.replace(\"python\",\"Java\"))\n",
    "print(sentence)"
   ]
  },
  {
   "cell_type": "code",
   "execution_count": 32,
   "id": "73666843-052e-46fd-8310-b932a44c9974",
   "metadata": {},
   "outputs": [
    {
     "ename": "SyntaxError",
     "evalue": "invalid character '→' (U+2192) (843163062.py, line 1)",
     "output_type": "error",
     "traceback": [
      "\u001b[1;36m  Cell \u001b[1;32mIn[32], line 1\u001b[1;36m\u001b[0m\n\u001b[1;33m    replace(old, new) → changes text in a string.\u001b[0m\n\u001b[1;37m                      ^\u001b[0m\n\u001b[1;31mSyntaxError\u001b[0m\u001b[1;31m:\u001b[0m invalid character '→' (U+2192)\n"
     ]
    }
   ],
   "source": [
    "replace(old, new) → changes text in a string.\n",
    "\n",
    "It replaces the word/part you give with something new.\n",
    "\n",
    "The original string stays the same (string is not changed)."
   ]
  },
  {
   "cell_type": "code",
   "execution_count": 33,
   "id": "67aa6c24-b6b1-486a-a42e-b329d3a89de6",
   "metadata": {},
   "outputs": [
    {
     "name": "stdout",
     "output_type": "stream",
     "text": [
      "7\n"
     ]
    }
   ],
   "source": [
    "#find()\n",
    "sentence=\"I love python programming python is not a snake\"\n",
    "print(sentence.find(\"python\"))"
   ]
  },
  {
   "cell_type": "code",
   "execution_count": 34,
   "id": "83ef33af-2f4d-4bec-8f52-9f012d2d0b61",
   "metadata": {},
   "outputs": [
    {
     "ename": "SyntaxError",
     "evalue": "invalid character '→' (U+2192) (2763956470.py, line 1)",
     "output_type": "error",
     "traceback": [
      "\u001b[1;36m  Cell \u001b[1;32mIn[34], line 1\u001b[1;36m\u001b[0m\n\u001b[1;33m    find(word) → gives the index (position number) of the first match in the string.\u001b[0m\n\u001b[1;37m               ^\u001b[0m\n\u001b[1;31mSyntaxError\u001b[0m\u001b[1;31m:\u001b[0m invalid character '→' (U+2192)\n"
     ]
    }
   ],
   "source": [
    "find(word) → gives the index (position number) of the first match in the string.\n",
    "If the word is not found, it returns -1."
   ]
  },
  {
   "cell_type": "code",
   "execution_count": 35,
   "id": "9b1f70f5-7431-440f-8f81-8b6cd598604f",
   "metadata": {},
   "outputs": [
    {
     "name": "stdout",
     "output_type": "stream",
     "text": [
      "[]\n"
     ]
    }
   ],
   "source": [
    "import re\n",
    "print(re.findall(r'/b/wt/b',sentence))\n"
   ]
  },
  {
   "cell_type": "code",
   "execution_count": 36,
   "id": "fdd316a0-2b0c-4c5f-b19b-f03270487fdd",
   "metadata": {},
   "outputs": [
    {
     "name": "stdout",
     "output_type": "stream",
     "text": [
      "<callable_iterator object at 0x000001E92C7BD540>\n",
      "[7, 26]\n"
     ]
    }
   ],
   "source": [
    "sentence=\"I love python programming python is not a snake\"\n",
    "iteration=re.finditer(r'python',sentence)\n",
    "print(iteration)\n",
    "print([m.start() for m in iteration])"
   ]
  },
  {
   "cell_type": "code",
   "execution_count": 39,
   "id": "4eef3250-2789-4477-9f59-7a868ec187a0",
   "metadata": {},
   "outputs": [
    {
     "name": "stdin",
     "output_type": "stream",
     "text": [
      "Enter your emotion: happy\n",
      "Enter your favorite flower: rose\n"
     ]
    },
    {
     "name": "stdout",
     "output_type": "stream",
     "text": [
      "HappyRose9\n"
     ]
    }
   ],
   "source": [
    "emotion=input(\"Enter your emotion:\")\n",
    "flower=input(\"Enter your favorite flower:\")\n",
    "x=len(emotion.capitalize()+flower.capitalize())\n",
    "print(emotion.capitalize()+flower.capitalize()+str(x))"
   ]
  },
  {
   "cell_type": "code",
   "execution_count": 40,
   "id": "ea7bbd71-8440-42b8-b3ad-b8d60ce3838e",
   "metadata": {},
   "outputs": [
    {
     "name": "stdin",
     "output_type": "stream",
     "text": [
      "Enter your name? viki\n",
      "Enter your age: 21\n"
     ]
    },
    {
     "name": "stdout",
     "output_type": "stream",
     "text": [
      "name:viki age:21\n"
     ]
    }
   ],
   "source": [
    "name=input(\"Enter your name?\")  #format()\n",
    "age=input(\"Enter your age:\")\n",
    "print(\"name:{} age:{}\".format(name,age))\n"
   ]
  },
  {
   "cell_type": "code",
   "execution_count": 49,
   "id": "991d4672-20ca-42de-bc34-d5075abad656",
   "metadata": {},
   "outputs": [
    {
     "name": "stdout",
     "output_type": "stream",
     "text": [
      "['Hello', 'kiki']\n"
     ]
    }
   ],
   "source": [
    "text=\"Hello kiki\"  #split()\n",
    "test=text.split(\" \")\n",
    "print(test)"
   ]
  },
  {
   "cell_type": "code",
   "execution_count": 42,
   "id": "050c71c4-ac92-4987-a0a8-579bb3a00a28",
   "metadata": {},
   "outputs": [
    {
     "name": "stdout",
     "output_type": "stream",
     "text": [
      "I,am,a,programmer\n",
      "I_am_a_programmer\n"
     ]
    }
   ],
   "source": [
    "think=\"I,am,a,programmer\"\n",
    "words=think.split(\",\")\n",
    "print(think.ljust(3,'*'))\n",
    "text_join=\"_\".join(words)\n",
    "print(text_join)"
   ]
  },
  {
   "cell_type": "code",
   "execution_count": 47,
   "id": "46173031-0098-472e-9a4a-6cc05b629f53",
   "metadata": {},
   "outputs": [
    {
     "name": "stdout",
     "output_type": "stream",
     "text": [
      "******viki\n"
     ]
    }
   ],
   "source": [
    "name=\"viki\"\n",
    "print(name.rjust(10,\"*\"))"
   ]
  },
  {
   "cell_type": "code",
   "execution_count": 48,
   "id": "0fc71005-a2dd-45a7-8ad7-3af7bf0c11c2",
   "metadata": {},
   "outputs": [
    {
     "name": "stdout",
     "output_type": "stream",
     "text": [
      "viki******\n"
     ]
    }
   ],
   "source": [
    "name=\"viki\"\n",
    "print(name.ljust(10,\"*\"))"
   ]
  },
  {
   "cell_type": "code",
   "execution_count": 45,
   "id": "63907f17-fe46-431d-bdd2-132d5172e75f",
   "metadata": {},
   "outputs": [
    {
     "name": "stdout",
     "output_type": "stream",
     "text": [
      "0.0\n"
     ]
    }
   ],
   "source": [
    "print(round(3.0878,-3))"
   ]
  },
  {
   "cell_type": "code",
   "execution_count": 46,
   "id": "caced84e-162c-4e1c-a83a-84dd15c88bf7",
   "metadata": {},
   "outputs": [
    {
     "name": "stdout",
     "output_type": "stream",
     "text": [
      "3.14\n"
     ]
    }
   ],
   "source": [
    "pi=3.14159\n",
    "print(f\"{pi:.2f}\")"
   ]
  },
  {
   "cell_type": "code",
   "execution_count": null,
   "id": "5e0aa107-ab59-49a3-af87-e971075be58b",
   "metadata": {},
   "outputs": [],
   "source": []
  },
  {
   "cell_type": "code",
   "execution_count": null,
   "id": "9ec2b773-9b5e-4769-ae43-9773af4bffa7",
   "metadata": {},
   "outputs": [],
   "source": []
  }
 ],
 "metadata": {
  "kernelspec": {
   "display_name": "Python [conda env:base] *",
   "language": "python",
   "name": "conda-base-py"
  },
  "language_info": {
   "codemirror_mode": {
    "name": "ipython",
    "version": 3
   },
   "file_extension": ".py",
   "mimetype": "text/x-python",
   "name": "python",
   "nbconvert_exporter": "python",
   "pygments_lexer": "ipython3",
   "version": "3.13.5"
  }
 },
 "nbformat": 4,
 "nbformat_minor": 5
}
