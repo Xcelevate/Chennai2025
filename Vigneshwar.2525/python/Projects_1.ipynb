{
 "cells": [
  {
   "cell_type": "code",
   "execution_count": 5,
   "id": "7824011a-db99-4b73-8a4a-a2ee0f81e82b",
   "metadata": {},
   "outputs": [
    {
     "name": "stdin",
     "output_type": "stream",
     "text": [
      "Enter the bill amount:  8988hbujk\n",
      "Enter the people count:  uwgde8t128te12\n",
      "Enter the tip % 13he7183uje3\n"
     ]
    },
    {
     "name": "stdout",
     "output_type": "stream",
     "text": [
      "invalid input\n"
     ]
    }
   ],
   "source": [
    "a=(input(\"Enter the bill amount: \"))\n",
    "b=(input(\"Enter the people count: \"))\n",
    "c=(input(\"Enter the tip %\"))\n",
    "\n",
    "if (a.replace('.','').isdigit()) and (b.replace('.','').isdigit()) and (c.replace('.','').isdigit()):\n",
    "    a=int(a)\n",
    "    b=int(b)\n",
    "    c=float(c)\n",
    "    if a>=100 and b<=5 and c <= 50:\n",
    "       c=((c/100)*a)\n",
    "       a=round((a+c),0)\n",
    "       T=a/b\n",
    "       print(\"amt per person:\",T)\n",
    "    else:\n",
    "       print(\"check the bill amt and tip\")\n",
    "else:\n",
    "    print(\"invalid input\")\n",
    "\n"
   ]
  },
  {
   "cell_type": "code",
   "execution_count": 6,
   "id": "6249f9bf-0fc9-471c-8a69-b886c382a3ef",
   "metadata": {},
   "outputs": [
    {
     "name": "stdout",
     "output_type": "stream",
     "text": [
      "Welcome to Treasure Island.\n",
      "Your mission is to find the treasure.\n",
      "You're at a cross road. Where do you want to go?\n",
      "Type \"left\" or \"right\": \n"
     ]
    },
    {
     "name": "stdin",
     "output_type": "stream",
     "text": [
      " 1u3ggudkj\n"
     ]
    },
    {
     "ename": "SystemExit",
     "evalue": "",
     "output_type": "error",
     "traceback": [
      "An exception has occurred, use %tb to see the full traceback.\n",
      "\u001b[1;31mSystemExit\u001b[0m\n"
     ]
    },
    {
     "name": "stderr",
     "output_type": "stream",
     "text": [
      "C:\\Users\\DELL\\anaconda3\\Lib\\site-packages\\IPython\\core\\interactiveshell.py:3585: UserWarning: To exit: use 'exit', 'quit', or Ctrl-D.\n",
      "  warn(\"To exit: use 'exit', 'quit', or Ctrl-D.\", stacklevel=1)\n"
     ]
    }
   ],
   "source": [
    "import sys\n",
    "\n",
    "print(\"\"\"Welcome to Treasure Island.\n",
    "Your mission is to find the treasure.\n",
    "You're at a cross road. Where do you want to go?\n",
    "Type \"left\" or \"right\": \"\"\")\n",
    "\n",
    "\n",
    "x=input().lower()\n",
    "Left = \"\"\"You've come to a lake. There is an island in the middle of the lake.\n",
    "  Type \"wait\" to wait for a boat. Type \"swim\" to swim across.\"\"\"\n",
    "\n",
    "Right = \"You fell into a hole. Game Over.\"\n",
    "\n",
    "if x==\"left\":\n",
    "    print(Left)\n",
    "elif x==\"right\":\n",
    "    print(Right)\n",
    "    sys.exit()\n",
    "elif x!=\"left\" or \"right\":\n",
    "    sys.exit()\n",
    "  \n",
    "    \n",
    "x=input().lower()\n",
    "wait = \"\"\"You arrive at the island unharmed. There is a house with 3 doors.\n",
    "One red, one yellow and one blue. Which colour do you choose?\"\"\"\n",
    "swim = \"You get attacked by an angry trout. Game Over.\"\n",
    "\n",
    "if x==\"wait\":\n",
    "    print(wait)\n",
    "elif x==\"swim\":\n",
    "    print(swim)\n",
    "    sys.exit()\n",
    "elif x!=\"wait\" or \"swim\":\n",
    "    sys.exit()\n",
    "    \n",
    "x=input().lower()\n",
    "red=\"It's a room full of fire. Game Over.\"\n",
    "yellow=\"You found the treasure! You Win!\"\n",
    "blue=\"You enter a room of beasts. Game Over.\"\n",
    "\n",
    "if x==\"red\":\n",
    "    print(red)\n",
    "    sys.exit()\n",
    "elif x==\"yellow\":\n",
    "    print(yellow)\n",
    "elif x==\"blue\":\n",
    "    print(blue)\n",
    "    sys.exit()\n",
    "elif x!=\"red\" or \"yellow\" or \"blue\":\n",
    "    sys.exit()\n",
    "    "
   ]
  },
  {
   "cell_type": "code",
   "execution_count": 4,
   "id": "174c9e20-cae9-42d4-b41d-dabd74fd732b",
   "metadata": {},
   "outputs": [
    {
     "name": "stdout",
     "output_type": "stream",
     "text": [
      "What do you choose? Type 0 for Rock, 1 for Paper or 2 for Scissors.\n"
     ]
    },
    {
     "name": "stdin",
     "output_type": "stream",
     "text": [
      " 7\n"
     ]
    },
    {
     "name": "stdout",
     "output_type": "stream",
     "text": [
      "invalid\n"
     ]
    }
   ],
   "source": [
    "import random\n",
    "\n",
    "print(\"What do you choose? Type 0 for Rock, 1 for Paper or 2 for Scissors.\")\n",
    "x = int(input())\n",
    "\n",
    "a = \"\"\"   _______\n",
    "---'   ____)\n",
    "      (_____)\n",
    "      (_____)\n",
    "      (____)\n",
    "---.__(___)\"\"\"\n",
    "\n",
    "b = \"\"\"    _______\n",
    "---'   ____)____\n",
    "          ______)\n",
    "          _______)\n",
    "         _______)\n",
    "---.__________)\"\"\"\n",
    "\n",
    "c = \"\"\"    _______\n",
    "---'   ____)____\n",
    "          ______)\n",
    "       __________)\n",
    "      (____)\n",
    "---.__(___)\"\"\"\n",
    "\n",
    "options = [a, b, c]\n",
    "\n",
    "if x < 0 or x > 2:\n",
    "    print(\"invalid\")\n",
    "else:\n",
    "    y = random.randint(0, 2)\n",
    "    print(\"You chose:\")\n",
    "    print(options[x])\n",
    "    print(\"Computer chose:\")\n",
    "    print(options[y])\n",
    "\n",
    "    if x == y:\n",
    "        print(\"Match draw\")\n",
    "    elif (x == 0 and y == 2) or (x == 1 and y == 0) or (x == 2 and y == 1):\n",
    "        print(\"You win\")\n",
    "    else:\n",
    "        print(\"Computer wins\")\n"
   ]
  },
  {
   "cell_type": "code",
   "execution_count": null,
   "id": "6250c4f5-ee87-4614-8013-3ee31aa49170",
   "metadata": {},
   "outputs": [],
   "source": [
    "a=(input(\"Enter the bill amount: \"))\n",
    "if (a.replace('.','').isdigit()):\n",
    "    b=(input(\"Enter the people count: \"))\n",
    "    if(b.replace('.','').isdigit()) and\n",
    "\n",
    "c=(input(\"Enter the tip %\"))\n",
    "\n",
    " and (b.replace('.','').isdigit()) and (c.replace('.','').isdigit()):\n",
    "    a=int(a)\n",
    "    b=int(b)\n",
    "    c=float(c)\n",
    "    if a>=100 and b<=5 and c <= 50:\n",
    "       c=((c/100)*a)\n",
    "       a=round((a+c),0)\n",
    "       T=a/b\n",
    "       print(\"amt per person:\",T)\n",
    "    else:\n",
    "       print(\"check the bill amt and tip\")\n",
    "else:\n",
    "    print(\"invalid input\")\n",
    "\n"
   ]
  },
  {
   "cell_type": "code",
   "execution_count": 3,
   "id": "a7120069-674d-4faa-b3c3-0cc59bb9e3d2",
   "metadata": {},
   "outputs": [
    {
     "name": "stdin",
     "output_type": "stream",
     "text": [
      " 99\n"
     ]
    },
    {
     "data": {
      "text/plain": [
       "str"
      ]
     },
     "execution_count": 3,
     "metadata": {},
     "output_type": "execute_result"
    }
   ],
   "source": [
    "a=input()\n",
    "type(a)\n"
   ]
  },
  {
   "cell_type": "code",
   "execution_count": null,
   "id": "596aa9ec-4774-4902-97fa-ce1eb83a2caf",
   "metadata": {},
   "outputs": [],
   "source": []
  }
 ],
 "metadata": {
  "kernelspec": {
   "display_name": "Python [conda env:base] *",
   "language": "python",
   "name": "conda-base-py"
  },
  "language_info": {
   "codemirror_mode": {
    "name": "ipython",
    "version": 3
   },
   "file_extension": ".py",
   "mimetype": "text/x-python",
   "name": "python",
   "nbconvert_exporter": "python",
   "pygments_lexer": "ipython3",
   "version": "3.13.5"
  }
 },
 "nbformat": 4,
 "nbformat_minor": 5
}
