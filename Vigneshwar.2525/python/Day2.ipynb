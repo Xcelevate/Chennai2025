{
 "cells": [
  {
   "cell_type": "code",
   "execution_count": 25,
   "id": "0e03b261-a17b-43c3-8c5c-0d4cbdc403f6",
   "metadata": {
    "panel-layout": {
     "height": 0,
     "visible": true,
     "width": 100
    }
   },
   "outputs": [
    {
     "name": "stdout",
     "output_type": "stream",
     "text": [
      "25\n"
     ]
    }
   ],
   "source": [
    "#randomization\n",
    "\n",
    "# randInt(a,b)\n",
    "\n",
    "import random\n",
    "randomInt = random.randint(10,50)\n",
    "print(randomInt)"
   ]
  },
  {
   "cell_type": "code",
   "execution_count": 26,
   "id": "a2fd9f0d-6ddc-48d5-9c2e-94003fa7244d",
   "metadata": {
    "panel-layout": {
     "height": 27.140625,
     "visible": true,
     "width": 100
    }
   },
   "outputs": [
    {
     "data": {
      "text/plain": [
       "5.5"
      ]
     },
     "execution_count": 26,
     "metadata": {},
     "output_type": "execute_result"
    }
   ],
   "source": [
    "import sample1\n",
    "sample1.my_number"
   ]
  },
  {
   "cell_type": "code",
   "execution_count": 32,
   "id": "0e632d72-3474-4356-b14c-25fe3b024efe",
   "metadata": {},
   "outputs": [
    {
     "name": "stdout",
     "output_type": "stream",
     "text": [
      "4.279700416891408\n"
     ]
    }
   ],
   "source": [
    "randomNum = random.random() *10\n",
    "print(randomNum)"
   ]
  },
  {
   "cell_type": "code",
   "execution_count": 30,
   "id": "63e0e0e0-bd64-4134-9a9f-3efceb90eaf8",
   "metadata": {},
   "outputs": [
    {
     "name": "stdout",
     "output_type": "stream",
     "text": [
      "4.2183622730823584\n"
     ]
    }
   ],
   "source": [
    "print(random.uniform(1,5))"
   ]
  },
  {
   "cell_type": "code",
   "execution_count": 34,
   "id": "480eb30a-0836-4b29-869a-a5de9e50879d",
   "metadata": {},
   "outputs": [
    {
     "name": "stdout",
     "output_type": "stream",
     "text": [
      "3.02\n"
     ]
    }
   ],
   "source": [
    "print (round((random.uniform(1,5)),2))"
   ]
  },
  {
   "cell_type": "code",
   "execution_count": 60,
   "id": "5a273e7f-93b0-4064-b4e2-9eb13a4a31b8",
   "metadata": {},
   "outputs": [
    {
     "name": "stdout",
     "output_type": "stream",
     "text": [
      "1\n",
      "head\n"
     ]
    }
   ],
   "source": [
    "a=\"head\"\n",
    "b=\"tail\"\n",
    "c=random.randint(0,1)\n",
    "print(c)\n",
    "if c==0:\n",
    "   print (b)\n",
    "else:\n",
    "   print (a)\n"
   ]
  },
  {
   "cell_type": "code",
   "execution_count": 63,
   "id": "cec04975-31c4-4665-a087-6a8af86d13cc",
   "metadata": {},
   "outputs": [
    {
     "data": {
      "text/plain": [
       "False"
      ]
     },
     "execution_count": 63,
     "metadata": {},
     "output_type": "execute_result"
    }
   ],
   "source": [
    "not (True or (True and False ) and (False and True ) and False )"
   ]
  },
  {
   "cell_type": "code",
   "execution_count": 64,
   "id": "7f850792-a2f9-40d7-a306-250034731deb",
   "metadata": {},
   "outputs": [
    {
     "data": {
      "text/plain": [
       "True"
      ]
     },
     "execution_count": 64,
     "metadata": {},
     "output_type": "execute_result"
    }
   ],
   "source": [
    "a=True\n",
    "b=False \n",
    "( a or b ) or not (b and a)"
   ]
  },
  {
   "cell_type": "raw",
   "id": "58fc953c-305b-41bc-b705-760ae0269c5e",
   "metadata": {},
   "source": [
    "( a and not b ) or (b and not a)"
   ]
  },
  {
   "cell_type": "code",
   "execution_count": 74,
   "id": "3e8c547b-163e-436e-a198-97c27748085a",
   "metadata": {},
   "outputs": [
    {
     "name": "stdin",
     "output_type": "stream",
     "text": [
      "empty and not empty mdd\n",
      "empty and not empty wq\n"
     ]
    },
    {
     "name": "stdout",
     "output_type": "stream",
     "text": [
      "True\n",
      "True\n"
     ]
    },
    {
     "data": {
      "text/plain": [
       "False"
      ]
     },
     "execution_count": 74,
     "metadata": {},
     "output_type": "execute_result"
    }
   ],
   "source": [
    "a=bool(input(\"empty or not empty\"))\n",
    "b=bool(input(\"empty or not empty\"))\n",
    "print(a)\n",
    "print(b)\n",
    "(a or b ) and not ( a and b)"
   ]
  },
  {
   "cell_type": "code",
   "execution_count": 79,
   "id": "0d2d3e78-8a66-44d7-9174-903596762c3e",
   "metadata": {},
   "outputs": [
    {
     "data": {
      "text/plain": [
       "True"
      ]
     },
     "execution_count": 79,
     "metadata": {},
     "output_type": "execute_result"
    }
   ],
   "source": [
    "not(a and b)"
   ]
  },
  {
   "cell_type": "code",
   "execution_count": 81,
   "id": "82c7287d-2994-4abd-9ac8-2c3fd2dbbe83",
   "metadata": {},
   "outputs": [
    {
     "data": {
      "text/plain": [
       "False"
      ]
     },
     "execution_count": 81,
     "metadata": {},
     "output_type": "execute_result"
    }
   ],
   "source": [
    "not(a or b)"
   ]
  },
  {
   "cell_type": "code",
   "execution_count": 1,
   "id": "f4a29123-0a83-4c66-9292-1898b4a39923",
   "metadata": {},
   "outputs": [
    {
     "name": "stdin",
     "output_type": "stream",
     "text": [
      " 0\n"
     ]
    },
    {
     "name": "stdout",
     "output_type": "stream",
     "text": [
      "even\n"
     ]
    }
   ],
   "source": [
    "a=int(input())\n",
    "if a%2==0:\n",
    "    print(\"even\")\n",
    "else:\n",
    "    print(\"odd\")"
   ]
  },
  {
   "cell_type": "code",
   "execution_count": 4,
   "id": "5df9dc63-5b1d-4151-8a75-29a6ab3cce63",
   "metadata": {},
   "outputs": [
    {
     "name": "stdin",
     "output_type": "stream",
     "text": [
      " 1\n",
      " 1\n"
     ]
    },
    {
     "name": "stdout",
     "output_type": "stream",
     "text": [
      "equal\n"
     ]
    }
   ],
   "source": [
    "a=int(input())\n",
    "b=int(input())\n",
    "\n",
    "if a>b:\n",
    "    print(\"a is greater\")\n",
    "elif a<b:\n",
    "    print(\"b is greater\")\n",
    "else:\n",
    "    print(\"equal\")"
   ]
  },
  {
   "cell_type": "code",
   "execution_count": 26,
   "id": "cf967966-95d2-4bc0-9de6-3ebf3deef851",
   "metadata": {},
   "outputs": [
    {
     "name": "stdin",
     "output_type": "stream",
     "text": [
      " 7\n"
     ]
    },
    {
     "name": "stdout",
     "output_type": "stream",
     "text": [
      "Fail\n"
     ]
    }
   ],
   "source": [
    "a=int(input())\n",
    "if a<100 and a>0:\n",
    "   if a>90:\n",
    "       print(\"A+\")\n",
    "   elif 90>a>75:\n",
    "      print(\"A\")\n",
    "   elif 75>a>60:\n",
    "      print(\"B\")\n",
    "   elif 60>a>=40:\n",
    "      print(\"c\")\n",
    "   elif a<40:\n",
    "      print(\"Fail\")\n",
    "else:\n",
    "    print(\"invalid num\")\n"
   ]
  },
  {
   "cell_type": "code",
   "execution_count": 40,
   "id": "e82a9707-7c90-4971-bfc1-2c8a578e0071",
   "metadata": {},
   "outputs": [
    {
     "name": "stdin",
     "output_type": "stream",
     "text": [
      "enter a number or word: ???_???\n"
     ]
    },
    {
     "name": "stdout",
     "output_type": "stream",
     "text": [
      "palindrom\n"
     ]
    }
   ],
   "source": [
    "a=input(\"enter a number or word:\")\n",
    "b= a[::-1]\n",
    "if b==a:\n",
    "    print(\"palindrom\")\n",
    "else:\n",
    "    print(\"not palindrom\")"
   ]
  },
  {
   "cell_type": "code",
   "execution_count": 44,
   "id": "e1429878-979c-463a-bcd0-abbd39d6da8c",
   "metadata": {},
   "outputs": [
    {
     "name": "stdout",
     "output_type": "stream",
     "text": [
      "True\n"
     ]
    }
   ],
   "source": [
    "a = \"hai\"\n",
    "print(a.startswith(\"h\"))\n"
   ]
  },
  {
   "cell_type": "code",
   "execution_count": 46,
   "id": "c06d0b56-8d01-41be-a47f-1289a7d13c37",
   "metadata": {},
   "outputs": [
    {
     "name": "stdout",
     "output_type": "stream",
     "text": [
      "False\n"
     ]
    }
   ],
   "source": [
    "s = \"Vigneshwar\"\n",
    "print(s.startswith(\"ne\", 2, 6)) \n"
   ]
  },
  {
   "cell_type": "code",
   "execution_count": 48,
   "id": "67dbf00d-cd00-49da-92c5-dc668bf3142d",
   "metadata": {},
   "outputs": [
    {
     "name": "stdout",
     "output_type": "stream",
     "text": [
      "True\n"
     ]
    }
   ],
   "source": [
    "s = \"Vigneshw9293023ar\"\n",
    "print(s.isalnum()) \n"
   ]
  },
  {
   "cell_type": "code",
   "execution_count": 50,
   "id": "89677c3b-6b9c-4139-ab4b-077d835765d1",
   "metadata": {},
   "outputs": [
    {
     "name": "stdout",
     "output_type": "stream",
     "text": [
      "True\n"
     ]
    }
   ],
   "source": [
    "s = \"Vigneshwar\"\n",
    "print(s.endswith(\"r\"))\n",
    "\n"
   ]
  },
  {
   "cell_type": "code",
   "execution_count": 86,
   "id": "5b5e8931-5d87-4d7d-94e4-4d312f69b659",
   "metadata": {},
   "outputs": [
    {
     "name": "stdin",
     "output_type": "stream",
     "text": [
      "Enter the year: hu\n"
     ]
    },
    {
     "name": "stdout",
     "output_type": "stream",
     "text": [
      "invalid\n"
     ]
    }
   ],
   "source": [
    "c = (input(\"Enter the year:\"))\n",
    "if (len(str(c)) > 3) and (c.isdigit()):\n",
    "   if (c%4==0 and c%100!=0):\n",
    "      print(\"leap year\")\n",
    "   elif( c%400==0):\n",
    "      print(\"leap year\")\n",
    "   else:\n",
    "      print(\"not leap year\")\n",
    "else:\n",
    "    print(\"invalid\")"
   ]
  },
  {
   "cell_type": "code",
   "execution_count": 118,
   "id": "52295f74-64e6-42a7-b79a-e11387d73d6e",
   "metadata": {},
   "outputs": [
    {
     "name": "stdin",
     "output_type": "stream",
     "text": [
      "enter a num:  7.3\n",
      "enter a num:  3.3\n",
      "enter a num:  3.3\n"
     ]
    },
    {
     "name": "stdout",
     "output_type": "stream",
     "text": [
      "invalid\n"
     ]
    }
   ],
   "source": [
    "a=(input(\"enter a num: \"))\n",
    "b=(input(\"enter a num: \"))\n",
    "c=(input(\"enter a num: \"))\n",
    "\n",
    "if (a.isdigit()) and (b.isdigit()) and (c.isdigit()) and a + b > c and a + c > b and b + c > a:                                  \n",
    "   if(a==b==c):\n",
    "      print(\"quilateral\")\n",
    "   elif a==b or b==c or c==a:\n",
    "\n",
    "\n",
    "        \n",
    "      print(\"isoceles\")\n",
    "   else:\n",
    "      print(\"scalene\")\n",
    "else:\n",
    "    print(\"invalid\")\n"
   ]
  },
  {
   "cell_type": "code",
   "execution_count": null,
   "id": "73d21d1b-ea25-41e4-9d02-e901659e74cf",
   "metadata": {},
   "outputs": [],
   "source": []
  }
 ],
 "metadata": {
  "kernelspec": {
   "display_name": "Python [conda env:base] *",
   "language": "python",
   "name": "conda-base-py"
  },
  "language_info": {
   "codemirror_mode": {
    "name": "ipython",
    "version": 3
   },
   "file_extension": ".py",
   "mimetype": "text/x-python",
   "name": "python",
   "nbconvert_exporter": "python",
   "pygments_lexer": "ipython3",
   "version": "3.13.5"
  },
  "panel-cell-order": [
   "0e03b261-a17b-43c3-8c5c-0d4cbdc403f6",
   "a2fd9f0d-6ddc-48d5-9c2e-94003fa7244d"
  ]
 },
 "nbformat": 4,
 "nbformat_minor": 5
}
