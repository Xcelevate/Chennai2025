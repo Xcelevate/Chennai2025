{
 "cells": [
  {
   "cell_type": "code",
   "execution_count": 39,
   "id": "64cecccc-e1f7-4897-980d-2d9d01a5b1ba",
   "metadata": {},
   "outputs": [
    {
     "name": "stdin",
     "output_type": "stream",
     "text": [
      "Enter first number:  2\n"
     ]
    },
    {
     "name": "stdout",
     "output_type": "stream",
     "text": [
      "choose the operator:\n",
      "        \n",
      "        +\n",
      "        -\n",
      "        *\n",
      "        /\n",
      "        %\n",
      "        //\n",
      "        **\n"
     ]
    },
    {
     "name": "stdin",
     "output_type": "stream",
     "text": [
      "Enter the operator:  +\n",
      "Enter next number:  2\n"
     ]
    },
    {
     "name": "stdout",
     "output_type": "stream",
     "text": [
      "Result: 4.0\n",
      "Do you want to 'continue' or 'stop' or 'restart' the calculation?\n"
     ]
    },
    {
     "name": "stdin",
     "output_type": "stream",
     "text": [
      " continue\n"
     ]
    },
    {
     "name": "stdout",
     "output_type": "stream",
     "text": [
      "choose the operator:\n",
      "        \n",
      "        +\n",
      "        -\n",
      "        *\n",
      "        /\n",
      "        %\n",
      "        //\n",
      "        **\n"
     ]
    },
    {
     "name": "stdin",
     "output_type": "stream",
     "text": [
      "Enter the operator:  *\n",
      "Enter next number:  3\n"
     ]
    },
    {
     "name": "stdout",
     "output_type": "stream",
     "text": [
      "Result: 12.0\n",
      "Do you want to 'continue' or 'stop' or 'restart' the calculation?\n"
     ]
    },
    {
     "name": "stdin",
     "output_type": "stream",
     "text": [
      " restart\n",
      "Enter new number:  2\n"
     ]
    },
    {
     "name": "stdout",
     "output_type": "stream",
     "text": [
      "choose the operator:\n",
      "        \n",
      "        +\n",
      "        -\n",
      "        *\n",
      "        /\n",
      "        %\n",
      "        //\n",
      "        **\n"
     ]
    },
    {
     "name": "stdin",
     "output_type": "stream",
     "text": [
      "Enter the operator:  +\n",
      "Enter next number:  2\n"
     ]
    },
    {
     "name": "stdout",
     "output_type": "stream",
     "text": [
      "Result: 4.0\n",
      "Do you want to 'continue' or 'stop' or 'restart' the calculation?\n"
     ]
    },
    {
     "name": "stdin",
     "output_type": "stream",
     "text": [
      " stop\n"
     ]
    },
    {
     "name": "stdout",
     "output_type": "stream",
     "text": [
      "Thank you!!!...FOR CALCULATION...\n"
     ]
    }
   ],
   "source": [
    "# Calculator\n",
    "\n",
    "num1 = input(\"Enter first number: \")\n",
    "\n",
    "if num1.replace('.', '', 1).isdigit():\n",
    "    y = \"continue\"\n",
    "    num1 = float(num1)\n",
    "\n",
    "    while y != \"stop\" and y != \"restart\":\n",
    "        print(\"\"\"choose the operator:\n",
    "        \n",
    "        +\n",
    "        -\n",
    "        *\n",
    "        /\n",
    "        %\n",
    "        //\n",
    "        **\"\"\")\n",
    "\n",
    "        x = input(\"Enter the operator: \")\n",
    "        num2 = float(input(\"Enter next number: \"))\n",
    "\n",
    "        if x == '+':\n",
    "            f = num1 + num2\n",
    "        elif x == '-':\n",
    "            f = num1 - num2\n",
    "        elif x == '*':\n",
    "            f = num1 * num2\n",
    "        elif x == '/':\n",
    "            f = num1 / num2\n",
    "        elif x == '%':\n",
    "            f = num1 % num2\n",
    "        elif x == '//':\n",
    "            f = num1 // num2\n",
    "        elif x == '**':\n",
    "            f = num1 ** num2\n",
    "        else:\n",
    "            print(\"Invalid operator!\")\n",
    "            continue\n",
    "\n",
    "        print(\"Result:\", f)\n",
    "        print(\"Do you want to 'continue' or 'stop' or 'restart' the calculation?\")\n",
    "        y = input().lower()\n",
    "\n",
    "        if y == \"stop\":\n",
    "            print(\"Thank you!!!...FOR CALCULATION...\")\n",
    "        elif y == \"continue\":\n",
    "            num1 = f\n",
    "        elif y == \"restart\":\n",
    "            num1 = input(\"Enter new number: \")\n",
    "            if num1.replace('.', '', 1).isdigit():\n",
    "                num1 = float(num1)\n",
    "                y = \"continue\"\n",
    "                continue\n",
    "            else:\n",
    "                print(\"Invalid input\")\n",
    "                break\n",
    "\n",
    "else:\n",
    "    print(\"Invalid input\")\n"
   ]
  },
  {
   "cell_type": "code",
   "execution_count": null,
   "id": "475a64f9-8389-4549-a352-f8417a7523f2",
   "metadata": {},
   "outputs": [],
   "source": []
  }
 ],
 "metadata": {
  "kernelspec": {
   "display_name": "Python [conda env:base] *",
   "language": "python",
   "name": "conda-base-py"
  },
  "language_info": {
   "codemirror_mode": {
    "name": "ipython",
    "version": 3
   },
   "file_extension": ".py",
   "mimetype": "text/x-python",
   "name": "python",
   "nbconvert_exporter": "python",
   "pygments_lexer": "ipython3",
   "version": "3.13.5"
  }
 },
 "nbformat": 4,
 "nbformat_minor": 5
}
