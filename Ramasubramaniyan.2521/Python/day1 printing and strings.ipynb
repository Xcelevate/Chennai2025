{
 "cells": [
  {
   "cell_type": "code",
   "execution_count": 13,
   "id": "206879bb-895e-4158-91b4-92a47814c526",
   "metadata": {},
   "outputs": [
    {
     "data": {
      "text/plain": [
       "\u001b[1;31mInit signature:\u001b[0m \u001b[0mtype\u001b[0m\u001b[1;33m(\u001b[0m\u001b[0mself\u001b[0m\u001b[1;33m,\u001b[0m \u001b[1;33m/\u001b[0m\u001b[1;33m,\u001b[0m \u001b[1;33m*\u001b[0m\u001b[0margs\u001b[0m\u001b[1;33m,\u001b[0m \u001b[1;33m**\u001b[0m\u001b[0mkwargs\u001b[0m\u001b[1;33m)\u001b[0m\u001b[1;33m\u001b[0m\u001b[1;33m\u001b[0m\u001b[0m\n",
       "\u001b[1;31mDocstring:\u001b[0m     \n",
       "type(object) -> the object's type\n",
       "type(name, bases, dict, **kwds) -> a new type\n",
       "\u001b[1;31mType:\u001b[0m           type\n",
       "\u001b[1;31mSubclasses:\u001b[0m     ABCMeta, EnumType, _AnyMeta, NamedTupleMeta, _TypedDictMeta, _ABC, MetaHasDescriptors, CType_Type, _TzSingleton, _TzFactory, ..."
      ]
     },
     "metadata": {},
     "output_type": "display_data"
    }
   ],
   "source": [
    "type?"
   ]
  },
  {
   "cell_type": "code",
   "execution_count": 15,
   "id": "bd4088e3-cb8b-4d96-9f68-957be3b23a32",
   "metadata": {},
   "outputs": [
    {
     "ename": "ValueError",
     "evalue": "invalid literal for int() with base 10: 'd23'",
     "output_type": "error",
     "traceback": [
      "\u001b[1;31m---------------------------------------------------------------------------\u001b[0m",
      "\u001b[1;31mValueError\u001b[0m                                Traceback (most recent call last)",
      "Cell \u001b[1;32mIn[15], line 1\u001b[0m\n\u001b[1;32m----> 1\u001b[0m \u001b[38;5;28mprint\u001b[39m(\u001b[38;5;28mint\u001b[39m(\u001b[38;5;124m\"\u001b[39m\u001b[38;5;124md23\u001b[39m\u001b[38;5;124m\"\u001b[39m)\u001b[38;5;241m+\u001b[39m\u001b[38;5;28mint\u001b[39m(\u001b[38;5;124m\"\u001b[39m\u001b[38;5;124m456\u001b[39m\u001b[38;5;124m\"\u001b[39m))\n",
      "\u001b[1;31mValueError\u001b[0m: invalid literal for int() with base 10: 'd23'"
     ]
    }
   ],
   "source": [
    "print(int(\"d23\")+int(\"456\"))"
   ]
  },
  {
   "cell_type": "code",
   "execution_count": 25,
   "id": "9ba2ae92-1188-4244-bb6e-721a16e5916b",
   "metadata": {},
   "outputs": [
    {
     "name": "stdin",
     "output_type": "stream",
     "text": [
      "What is your name:  ramasubramaniyan\n"
     ]
    },
    {
     "ename": "TypeError",
     "evalue": "'str' object is not callable",
     "output_type": "error",
     "traceback": [
      "\u001b[1;31m---------------------------------------------------------------------------\u001b[0m",
      "\u001b[1;31mTypeError\u001b[0m                                 Traceback (most recent call last)",
      "Cell \u001b[1;32mIn[25], line 1\u001b[0m\n\u001b[1;32m----> 1\u001b[0m \u001b[38;5;28mprint\u001b[39m(\u001b[38;5;124m\"\u001b[39m\u001b[38;5;124mNumber of letters in the name: \u001b[39m\u001b[38;5;124m\"\u001b[39m\u001b[38;5;241m+\u001b[39m \u001b[38;5;28mstr\u001b[39m(\u001b[38;5;28mlen\u001b[39m(\u001b[38;5;28minput\u001b[39m(\u001b[38;5;124m\"\u001b[39m\u001b[38;5;124mWhat is your name: \u001b[39m\u001b[38;5;124m\"\u001b[39m))))\n",
      "\u001b[1;31mTypeError\u001b[0m: 'str' object is not callable"
     ]
    }
   ],
   "source": [
    "print(\"Number of letters in the name: \"+ str(len(input(\"What is your name: \"))))"
   ]
  },
  {
   "cell_type": "code",
   "execution_count": 28,
   "id": "02bb5efe-8d4b-4e01-b89f-161dd87d64e1",
   "metadata": {},
   "outputs": [
    {
     "name": "stdout",
     "output_type": "stream",
     "text": [
      "3.0\n"
     ]
    }
   ],
   "source": [
    "print(3*(3+3)/3-3)"
   ]
  },
  {
   "cell_type": "code",
   "execution_count": 27,
   "id": "c44f9ae3-1aa0-41df-8adf-9fc72df27d9a",
   "metadata": {},
   "outputs": [
    {
     "data": {
      "text/plain": [
       "float"
      ]
     },
     "execution_count": 27,
     "metadata": {},
     "output_type": "execute_result"
    }
   ],
   "source": [
    "type(7.0)"
   ]
  },
  {
   "cell_type": "code",
   "execution_count": 29,
   "id": "38a8a661-d036-4fe8-9ed9-0d764e282657",
   "metadata": {},
   "outputs": [
    {
     "data": {
      "text/plain": [
       "3.0"
      ]
     },
     "execution_count": 29,
     "metadata": {},
     "output_type": "execute_result"
    }
   ],
   "source": [
    "3*3/3"
   ]
  },
  {
   "cell_type": "code",
   "execution_count": 30,
   "id": "9042153c-c515-4892-a4ba-ad4b4a4f880d",
   "metadata": {},
   "outputs": [
    {
     "data": {
      "text/plain": [
       "11.0"
      ]
     },
     "execution_count": 30,
     "metadata": {},
     "output_type": "execute_result"
    }
   ],
   "source": [
    "3*3-3/3+3"
   ]
  },
  {
   "cell_type": "code",
   "execution_count": 42,
   "id": "b1aad261-d5ad-4266-883c-4697245e1ea2",
   "metadata": {},
   "outputs": [
    {
     "data": {
      "text/plain": [
       "30.85"
      ]
     },
     "execution_count": 42,
     "metadata": {},
     "output_type": "execute_result"
    }
   ],
   "source": [
    "height=1.65\n",
    "weight=84\n",
    "bmi=weight/height**2\n",
    "round(bmi,2)"
   ]
  },
  {
   "cell_type": "code",
   "execution_count": 100,
   "id": "751f816f-42ab-4df4-859f-8eba34683716",
   "metadata": {},
   "outputs": [
    {
     "name": "stdout",
     "output_type": "stream",
     "text": [
      "Hello, My name is Ram and I'm 22.0 years old.\n",
      "Name: Ram age:22.0\n"
     ]
    }
   ],
   "source": [
    "name = 'Ram'\n",
    "age = 22.0\n",
    "print(f\"Hello, My name is {name} and I'm {age} years old.\")\n",
    "print(\"Name: {} age:{}\".format(name,age))"
   ]
  },
  {
   "cell_type": "code",
   "execution_count": 56,
   "id": "5fd2ffaf-cb2f-48d8-8ef0-3124b08d8944",
   "metadata": {},
   "outputs": [
    {
     "data": {
      "text/plain": [
       "float"
      ]
     },
     "execution_count": 56,
     "metadata": {},
     "output_type": "execute_result"
    }
   ],
   "source": [
    "type(age)"
   ]
  },
  {
   "cell_type": "code",
   "execution_count": 62,
   "id": "85130537-6a1f-40a1-aa3c-b77a14c9daab",
   "metadata": {},
   "outputs": [
    {
     "data": {
      "text/plain": [
       "5"
      ]
     },
     "execution_count": 62,
     "metadata": {},
     "output_type": "execute_result"
    }
   ],
   "source": [
    "10//2"
   ]
  },
  {
   "cell_type": "code",
   "execution_count": 78,
   "id": "91728c1f-b9b7-4ca9-a3bb-428086fdeb0e",
   "metadata": {},
   "outputs": [],
   "source": [
    "text=\"pYtHoN is a programming language\""
   ]
  },
  {
   "cell_type": "code",
   "execution_count": 70,
   "id": "3ed35ec1-0327-46c8-89b2-f1392065445a",
   "metadata": {},
   "outputs": [
    {
     "data": {
      "text/plain": [
       "'PYTHON IS A PROGRAMMING LANGUAGE'"
      ]
     },
     "execution_count": 70,
     "metadata": {},
     "output_type": "execute_result"
    }
   ],
   "source": [
    "text.upper()"
   ]
  },
  {
   "cell_type": "code",
   "execution_count": 71,
   "id": "25ba659a-aa16-4a98-bba2-51bf9a06717f",
   "metadata": {},
   "outputs": [
    {
     "data": {
      "text/plain": [
       "'python is a programming language'"
      ]
     },
     "execution_count": 71,
     "metadata": {},
     "output_type": "execute_result"
    }
   ],
   "source": [
    "text.lower()"
   ]
  },
  {
   "cell_type": "code",
   "execution_count": 72,
   "id": "e848444d-d10c-4b71-bf30-ba4801c7862b",
   "metadata": {},
   "outputs": [
    {
     "data": {
      "text/plain": [
       "'Python is a programming language'"
      ]
     },
     "execution_count": 72,
     "metadata": {},
     "output_type": "execute_result"
    }
   ],
   "source": [
    "text.capitalize()"
   ]
  },
  {
   "cell_type": "code",
   "execution_count": 73,
   "id": "5a7a105a-6037-4562-9a3d-0b5b617ff2ae",
   "metadata": {},
   "outputs": [
    {
     "data": {
      "text/plain": [
       "'Python Is A Programming Language'"
      ]
     },
     "execution_count": 73,
     "metadata": {},
     "output_type": "execute_result"
    }
   ],
   "source": [
    "text.title()"
   ]
  },
  {
   "cell_type": "code",
   "execution_count": 74,
   "id": "b4eb806b-7438-4f25-bb0f-c0b49c9bd7b6",
   "metadata": {},
   "outputs": [
    {
     "data": {
      "text/plain": [
       "'PyThOn IS A PROGRAMMING LANGUAGE'"
      ]
     },
     "execution_count": 74,
     "metadata": {},
     "output_type": "execute_result"
    }
   ],
   "source": [
    "text.swapcase()"
   ]
  },
  {
   "cell_type": "code",
   "execution_count": 79,
   "id": "66ec2491-fa87-4d06-9bdb-a05640d69199",
   "metadata": {},
   "outputs": [
    {
     "data": {
      "text/plain": [
       "'pYtHoN is a programming language'"
      ]
     },
     "execution_count": 79,
     "metadata": {},
     "output_type": "execute_result"
    }
   ],
   "source": [
    "text.strip()"
   ]
  },
  {
   "cell_type": "code",
   "execution_count": 87,
   "id": "3f99776f-f686-4d51-9c35-2c7dcb727a20",
   "metadata": {},
   "outputs": [],
   "source": [
    "text=\"I love python programming python\""
   ]
  },
  {
   "cell_type": "code",
   "execution_count": 88,
   "id": "954060e0-c204-49d6-9f1a-04fc5d3d4ee5",
   "metadata": {},
   "outputs": [
    {
     "data": {
      "text/plain": [
       "-1"
      ]
     },
     "execution_count": 88,
     "metadata": {},
     "output_type": "execute_result"
    }
   ],
   "source": [
    "text.find(\"java\")"
   ]
  },
  {
   "cell_type": "code",
   "execution_count": 89,
   "id": "fb9c26b7-6000-4944-9978-ad903d7000e8",
   "metadata": {},
   "outputs": [
    {
     "data": {
      "text/plain": [
       "'I love java programming java'"
      ]
     },
     "execution_count": 89,
     "metadata": {},
     "output_type": "execute_result"
    }
   ],
   "source": [
    "text.replace(\"python\",\"java\")"
   ]
  },
  {
   "cell_type": "code",
   "execution_count": 96,
   "id": "bd0ba741-0fc3-43d6-ae76-aabc490466f2",
   "metadata": {},
   "outputs": [
    {
     "data": {
      "text/plain": [
       "['python', 'python']"
      ]
     },
     "execution_count": 96,
     "metadata": {},
     "output_type": "execute_result"
    }
   ],
   "source": [
    "import re\n",
    "re.findall(r'\\bpython\\b', text)\n"
   ]
  },
  {
   "cell_type": "code",
   "execution_count": 99,
   "id": "f83a29d7-4d55-4666-ac73-33e1a2c941d5",
   "metadata": {},
   "outputs": [
    {
     "name": "stdin",
     "output_type": "stream",
     "text": [
      "name 1: jakbfkjhassfkj\n",
      "name 2: kjafkljha\n"
     ]
    },
    {
     "data": {
      "text/plain": [
       "'JAKBFKJHASSFKJKJAFKLJHA'"
      ]
     },
     "execution_count": 99,
     "metadata": {},
     "output_type": "execute_result"
    }
   ],
   "source": [
    "name1=input(\"name 1:\")\n",
    "name2=input(\"name 2:\")\n",
    "name3=name1+name2\n",
    "name4=name3.upper()\n",
    "name4"
   ]
  },
  {
   "cell_type": "code",
   "execution_count": 106,
   "id": "12c4b4b6-c9ae-4bd9-a17d-6f80208859b9",
   "metadata": {},
   "outputs": [],
   "source": [
    "words = text.split(\" \")"
   ]
  },
  {
   "cell_type": "code",
   "execution_count": 107,
   "id": "0413011e-0737-4972-b100-fa965c32d55a",
   "metadata": {},
   "outputs": [
    {
     "data": {
      "text/plain": [
       "['I', 'love', 'python', 'programming', 'python']"
      ]
     },
     "execution_count": 107,
     "metadata": {},
     "output_type": "execute_result"
    }
   ],
   "source": [
    "words"
   ]
  },
  {
   "cell_type": "code",
   "execution_count": 116,
   "id": "4604ed88-a80e-4710-b4a7-159507290326",
   "metadata": {},
   "outputs": [
    {
     "data": {
      "text/plain": [
       "['ILovePythonProgramming']"
      ]
     },
     "execution_count": 116,
     "metadata": {},
     "output_type": "execute_result"
    }
   ],
   "source": [
    "text=\"ILovePythonProgramming\"\n",
    "text.split(\",\")"
   ]
  },
  {
   "cell_type": "code",
   "execution_count": 117,
   "id": "05e15542-1837-40c9-84cc-61e56df871a8",
   "metadata": {},
   "outputs": [
    {
     "data": {
      "text/plain": [
       "list"
      ]
     },
     "execution_count": 117,
     "metadata": {},
     "output_type": "execute_result"
    }
   ],
   "source": [
    "type(words)"
   ]
  },
  {
   "cell_type": "code",
   "execution_count": 118,
   "id": "4f5b0dc3-0a76-4ca2-bc95-e1bdfb64488c",
   "metadata": {},
   "outputs": [
    {
     "name": "stdout",
     "output_type": "stream",
     "text": [
      "I-love-python-programming-python\n"
     ]
    }
   ],
   "source": [
    "sentence = '-'.join(words)\n",
    "print(sentence)"
   ]
  },
  {
   "cell_type": "code",
   "execution_count": 119,
   "id": "1bbecd56-e560-4a52-bfc2-f658f80dc361",
   "metadata": {},
   "outputs": [
    {
     "name": "stdout",
     "output_type": "stream",
     "text": [
      "I-L-o-v-e-P-y-t-h-o-n-P-r-o-g-r-a-m-m-i-n-g\n"
     ]
    }
   ],
   "source": [
    "sent=\"-\".join(text)\n",
    "print(sent)"
   ]
  },
  {
   "cell_type": "code",
   "execution_count": 122,
   "id": "aca03a04-02ed-441c-94c3-649a5b1740f7",
   "metadata": {},
   "outputs": [
    {
     "name": "stdout",
     "output_type": "stream",
     "text": [
      "Ram%%%%%\n"
     ]
    }
   ],
   "source": [
    "name=\"Ram\"\n",
    "print(name.ljust(8,'%'))"
   ]
  },
  {
   "cell_type": "code",
   "execution_count": 123,
   "id": "2afe0809-2357-4f2c-b7fc-d8b8c36d3e86",
   "metadata": {},
   "outputs": [
    {
     "name": "stdout",
     "output_type": "stream",
     "text": [
      "&&&Ram\n"
     ]
    }
   ],
   "source": [
    "print(name.rjust(6,\"&\"))"
   ]
  },
  {
   "cell_type": "code",
   "execution_count": 130,
   "id": "8abb0837-cd49-4e04-b788-e1ca2675350e",
   "metadata": {},
   "outputs": [
    {
     "data": {
      "text/plain": [
       "7"
      ]
     },
     "execution_count": 130,
     "metadata": {},
     "output_type": "execute_result"
    }
   ],
   "source": [
    "round(7.4)"
   ]
  },
  {
   "cell_type": "code",
   "execution_count": 133,
   "id": "eed1301c-f90e-4209-8bb3-c10c0651c761",
   "metadata": {},
   "outputs": [
    {
     "data": {
      "text/plain": [
       "10000"
      ]
     },
     "execution_count": 133,
     "metadata": {},
     "output_type": "execute_result"
    }
   ],
   "source": [
    "round(12345,-4)"
   ]
  },
  {
   "cell_type": "code",
   "execution_count": 3,
   "id": "e6ac853f-15a9-4ca7-b166-7b0e1aa9fe37",
   "metadata": {},
   "outputs": [
    {
     "data": {
      "text/plain": [
       "list"
      ]
     },
     "execution_count": 3,
     "metadata": {},
     "output_type": "execute_result"
    }
   ],
   "source": [
    "type(\"Ram\".split())"
   ]
  },
  {
   "cell_type": "code",
   "execution_count": null,
   "id": "c393d16d-97db-46f9-90e4-5eb5bd81828a",
   "metadata": {},
   "outputs": [],
   "source": []
  }
 ],
 "metadata": {
  "kernelspec": {
   "display_name": "Python 3 (ipykernel)",
   "language": "python",
   "name": "python3"
  },
  "language_info": {
   "codemirror_mode": {
    "name": "ipython",
    "version": 3
   },
   "file_extension": ".py",
   "mimetype": "text/x-python",
   "name": "python",
   "nbconvert_exporter": "python",
   "pygments_lexer": "ipython3",
   "version": "3.13.5"
  }
 },
 "nbformat": 4,
 "nbformat_minor": 5
}
