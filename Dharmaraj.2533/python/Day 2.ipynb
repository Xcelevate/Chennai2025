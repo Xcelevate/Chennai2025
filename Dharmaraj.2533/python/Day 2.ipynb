{
 "cells": [
  {
   "cell_type": "code",
   "execution_count": 57,
   "id": "1a02adfc-29e0-4144-8cb3-9155f67e513c",
   "metadata": {},
   "outputs": [
    {
     "name": "stdout",
     "output_type": "stream",
     "text": [
      "25\n"
     ]
    }
   ],
   "source": [
    "import random\n",
    "randomint = random.randint(1,200)\n",
    "print(randomint)"
   ]
  },
  {
   "cell_type": "code",
   "execution_count": 15,
   "id": "84a725b9-c1b0-4cce-9650-6fe077580bb5",
   "metadata": {},
   "outputs": [
    {
     "name": "stdout",
     "output_type": "stream",
     "text": [
      "mt\n"
     ]
    }
   ],
   "source": [
    "bike=[\"mt\",\"duke\",\"f220\"]\n",
    "print(random.choice(bike))"
   ]
  },
  {
   "cell_type": "code",
   "execution_count": 28,
   "id": "63ff1a76-1d54-4e69-aa8f-1b9ffcccfd09",
   "metadata": {},
   "outputs": [
    {
     "name": "stdout",
     "output_type": "stream",
     "text": [
      "['f220', 'mt', 'duke']\n"
     ]
    }
   ],
   "source": [
    "random.shuffle(bike)\n",
    "print(bike)"
   ]
  },
  {
   "cell_type": "code",
   "execution_count": 27,
   "id": "eccffd84-4b03-4d2e-9fe6-c7ac4129cb9c",
   "metadata": {},
   "outputs": [
    {
     "data": {
      "text/plain": [
       "'dharma'"
      ]
     },
     "execution_count": 27,
     "metadata": {},
     "output_type": "execute_result"
    }
   ],
   "source": [
    "import dharma_code\n",
    "dharma_code.name"
   ]
  },
  {
   "cell_type": "code",
   "execution_count": 30,
   "id": "013a91db-0a06-4dea-86f0-03fb49d8f62e",
   "metadata": {},
   "outputs": [
    {
     "name": "stdout",
     "output_type": "stream",
     "text": [
      "7.0192584630135855\n"
     ]
    }
   ],
   "source": [
    "import random\n",
    "randomint = random.random()*12\n",
    "print(randomint)"
   ]
  },
  {
   "cell_type": "code",
   "execution_count": 31,
   "id": "24a11722-8e88-42d7-9fd0-0efbaf2e154f",
   "metadata": {},
   "outputs": [
    {
     "name": "stdout",
     "output_type": "stream",
     "text": [
      "26.258306867324436\n"
     ]
    }
   ],
   "source": [
    "import random\n",
    "randomint = random.uniform(1,50)\n",
    "print(randomint)"
   ]
  },
  {
   "cell_type": "code",
   "execution_count": 33,
   "id": "4dee25df-69df-4f38-ac06-ba629d6eaf14",
   "metadata": {},
   "outputs": [
    {
     "name": "stdout",
     "output_type": "stream",
     "text": [
      "3.82\n"
     ]
    }
   ],
   "source": [
    "import random\n",
    "randomint = round(random.uniform(1,50),2)\n",
    "print(randomint)"
   ]
  },
  {
   "cell_type": "code",
   "execution_count": 42,
   "id": "e69c322f-b789-4b03-b257-2aaa25b681af",
   "metadata": {},
   "outputs": [
    {
     "name": "stdout",
     "output_type": "stream",
     "text": [
      "head\n"
     ]
    }
   ],
   "source": [
    "r = random.randint(0,1)\n",
    "if(r==0):\n",
    "    print(\"head\")\n",
    "else:\n",
    "    print(\"tails\")"
   ]
  },
  {
   "cell_type": "code",
   "execution_count": 46,
   "id": "c4de71a3-0115-4bde-96f0-e010cdbcbb06",
   "metadata": {},
   "outputs": [
    {
     "data": {
      "text/plain": [
       "False"
      ]
     },
     "execution_count": 46,
     "metadata": {},
     "output_type": "execute_result"
    }
   ],
   "source": [
    "not(True or ((True and False) and (False and True) and False))"
   ]
  },
  {
   "cell_type": "code",
   "execution_count": 52,
   "id": "b7b788da-ad5c-4834-80d3-2e012752a361",
   "metadata": {},
   "outputs": [
    {
     "data": {
      "text/plain": [
       "True"
      ]
     },
     "execution_count": 52,
     "metadata": {},
     "output_type": "execute_result"
    }
   ],
   "source": [
    "a = True\n",
    "b = False\n",
    "(a or b) and not(a and  b)"
   ]
  },
  {
   "cell_type": "code",
   "execution_count": 50,
   "id": "c84cb13a-5d18-45ba-b929-62fcf4d97f98",
   "metadata": {},
   "outputs": [
    {
     "data": {
      "text/plain": [
       "True"
      ]
     },
     "execution_count": 50,
     "metadata": {},
     "output_type": "execute_result"
    }
   ],
   "source": [
    "(True and not False) or (False and not True )"
   ]
  },
  {
   "cell_type": "code",
   "execution_count": 56,
   "id": "6ded8933-5891-456f-9282-14c47dbc0fbf",
   "metadata": {},
   "outputs": [
    {
     "name": "stdin",
     "output_type": "stream",
     "text": [
      "0 or 1 1\n",
      "0 or 1 0\n"
     ]
    },
    {
     "name": "stdout",
     "output_type": "stream",
     "text": [
      "True\n",
      "False\n"
     ]
    }
   ],
   "source": [
    "a = bool(int(input(\"0 or 1\")))\n",
    "b = bool(int(input(\"0 or 1\")))\n",
    "print (a)\n",
    "print (b)"
   ]
  },
  {
   "cell_type": "code",
   "execution_count": 60,
   "id": "34652864-39a4-4333-a2ec-2a1d3ff5919c",
   "metadata": {},
   "outputs": [
    {
     "data": {
      "text/plain": [
       "True"
      ]
     },
     "execution_count": 60,
     "metadata": {},
     "output_type": "execute_result"
    }
   ],
   "source": [
    "not(0 and 1)\n"
   ]
  },
  {
   "cell_type": "code",
   "execution_count": 61,
   "id": "4ae4b36e-1ac0-490c-a18b-8c2b5679163d",
   "metadata": {},
   "outputs": [
    {
     "data": {
      "text/plain": [
       "False"
      ]
     },
     "execution_count": 61,
     "metadata": {},
     "output_type": "execute_result"
    }
   ],
   "source": [
    "not(0 or 1)"
   ]
  },
  {
   "cell_type": "code",
   "execution_count": 64,
   "id": "5965b7e4-7ac8-4080-82a9-765132830126",
   "metadata": {},
   "outputs": [
    {
     "name": "stdin",
     "output_type": "stream",
     "text": [
      " 0\n"
     ]
    },
    {
     "name": "stdout",
     "output_type": "stream",
     "text": [
      "Even\n"
     ]
    }
   ],
   "source": [
    "a = int(input())\n",
    "if (a%2==0):\n",
    "    print(\"Even\")\n",
    "else:\n",
    "    print(\"Odd\")"
   ]
  },
  {
   "cell_type": "code",
   "execution_count": 73,
   "id": "4353728c-a12f-421d-9398-99894eb440ba",
   "metadata": {},
   "outputs": [
    {
     "name": "stdin",
     "output_type": "stream",
     "text": [
      " 40\n",
      " 40\n"
     ]
    },
    {
     "name": "stdout",
     "output_type": "stream",
     "text": [
      "same\n"
     ]
    }
   ],
   "source": [
    "a = int(input())\n",
    "b = int(input())\n",
    "if(a>b):\n",
    "    print(a)\n",
    "elif(a<b):\n",
    "    print(b)\n",
    "else:\n",
    "    print(\"same\")"
   ]
  },
  {
   "cell_type": "code",
   "execution_count": 30,
   "id": "492193d5-020c-47e2-b49e-4e1f562c2e6b",
   "metadata": {},
   "outputs": [
    {
     "name": "stdin",
     "output_type": "stream",
     "text": [
      " 45\n"
     ]
    },
    {
     "name": "stdout",
     "output_type": "stream",
     "text": [
      "c\n"
     ]
    }
   ],
   "source": [
    "a = int(input())\n",
    "if(type == str):\n",
    "    print(\"INVALID\")\n",
    "elif(a >100):\n",
    "    print(\"INVALID\")\n",
    "elif(a<=100 and a>=90):\n",
    "    print(\"A+\")\n",
    "elif(a<90 and a>=75):\n",
    "    print(\"A\")\n",
    "elif(a<75 and a>=60):\n",
    "    print(\"B\")\n",
    "elif(a<60 and a>=40):\n",
    "    print(\"c\")\n",
    "elif(a<40 and a>0):\n",
    "    print(\"Fail\")\n",
    "elif(a<0):\n",
    "    print(\"invalid\")\n"
   ]
  },
  {
   "cell_type": "code",
   "execution_count": 5,
   "id": "a9f98fba-f873-4258-a91a-378ed3c40363",
   "metadata": {},
   "outputs": [
    {
     "name": "stdin",
     "output_type": "stream",
     "text": [
      " 120\n"
     ]
    },
    {
     "name": "stdout",
     "output_type": "stream",
     "text": [
      "not palinrome\n"
     ]
    }
   ],
   "source": [
    "a = input()\n",
    "b = str(a)[::-1]\n",
    "if(a==b):\n",
    "    print(\"palinrome\")\n",
    "else:\n",
    "    print(\"not palinrome\")"
   ]
  },
  {
   "cell_type": "code",
   "execution_count": 38,
   "id": "57f63433-748a-42d7-acc4-5e1c5530533c",
   "metadata": {},
   "outputs": [
    {
     "name": "stdin",
     "output_type": "stream",
     "text": [
      " 2100\n"
     ]
    },
    {
     "name": "stdout",
     "output_type": "stream",
     "text": [
      "leap year\n"
     ]
    }
   ],
   "source": [
    "V=input()\n",
    "b=len(V)\n",
    "if(V.isdigit() and b==4):\n",
    "    a=int(V)\n",
    "    if(a%400==0):\n",
    "        print(\"leap year\")\n",
    "    elif(a%4==0):\n",
    "        print(\"leap year\")\n",
    "    elif(a%100==0):\n",
    "        print(\" not leap year\")\n",
    "    else:\n",
    "        print(\" not leap year\")\n",
    "else:\n",
    "    print(\"Invalid\")\n",
    "    "
   ]
  },
  {
   "cell_type": "code",
   "execution_count": 9,
   "id": "38bfd868-c0a6-4cae-ad13-d314fa0d780d",
   "metadata": {},
   "outputs": [
    {
     "name": "stdout",
     "output_type": "stream",
     "text": [
      "True\n",
      "True\n",
      "True\n"
     ]
    }
   ],
   "source": [
    "s1= \"python\"\n",
    "s2= \"12345\"\n",
    "print (s1.isalpha())\n",
    "print (s2.isdigit())\n",
    "print (s2.startswith(\"12\"))"
   ]
  },
  {
   "cell_type": "code",
   "execution_count": 15,
   "id": "fb2c7a1f-9f43-456a-9229-813f5a0a9def",
   "metadata": {},
   "outputs": [
    {
     "name": "stdin",
     "output_type": "stream",
     "text": [
      " @\n"
     ]
    },
    {
     "name": "stdout",
     "output_type": "stream",
     "text": [
      " not alphabet\n"
     ]
    }
   ],
   "source": [
    "a = input()\n",
    "if(a.isalpha()):\n",
    "    print(\"alphabet\")\n",
    "else:\n",
    "     print(\" not alphabet\")\n",
    "    "
   ]
  },
  {
   "cell_type": "code",
   "execution_count": 20,
   "id": "0ebfd396-619f-46d6-8c03-88c101b399ca",
   "metadata": {},
   "outputs": [
    {
     "name": "stdin",
     "output_type": "stream",
     "text": [
      " 45\n"
     ]
    },
    {
     "name": "stdout",
     "output_type": "stream",
     "text": [
      "digit\n"
     ]
    }
   ],
   "source": [
    "a = input()\n",
    "if(a.isdigit()):\n",
    "    print(\"digit\")\n",
    "else:\n",
    "    print(\"not digit\")"
   ]
  },
  {
   "cell_type": "code",
   "execution_count": 26,
   "id": "50f2561a-77dc-4243-a92f-a1fa20a4aede",
   "metadata": {},
   "outputs": [
    {
     "name": "stdout",
     "output_type": "stream",
     "text": [
      "True\n",
      "False\n",
      "True\n"
     ]
    }
   ],
   "source": [
    "a =\"i love python\"\n",
    "print(a.startswith(\"i\"))\n",
    "print(a.startswith(\"py\"))\n",
    "print(a.endswith(\"n\")) "
   ]
  },
  {
   "cell_type": "code",
   "execution_count": 29,
   "id": "c478c67f-b812-488a-a79c-736f95632569",
   "metadata": {},
   "outputs": [
    {
     "name": "stdout",
     "output_type": "stream",
     "text": [
      "False\n"
     ]
    }
   ],
   "source": [
    "a = \"1q2w@3e4r5t6yu7\"\n",
    "print(a.isalnum())"
   ]
  },
  {
   "cell_type": "code",
   "execution_count": 56,
   "id": "a09d36f1-9a34-489b-8677-e5e9e48a5dda",
   "metadata": {},
   "outputs": [
    {
     "name": "stdin",
     "output_type": "stream",
     "text": [
      " 7\n",
      " 7\n",
      " 8\n"
     ]
    },
    {
     "name": "stdout",
     "output_type": "stream",
     "text": [
      "equilateral\n"
     ]
    }
   ],
   "source": [
    "a = int(input())\n",
    "b = int(input())\n",
    "c = int(input())\n",
    "if(a<(b+c) and b<(a+c) and c<(a+b)):\n",
    "    if(a==b) or (a==c) or (b==c):\n",
    "            print(\"equilateral\")\n",
    "    elif((a==b) or (a==c) or (b==c)):\n",
    "        print(\"isoceles\")\n",
    "    elif(a!=b!=c):\n",
    "        print(\"scalene\")\n",
    "else:\n",
    "    print(\"invalid\")\n",
    "    "
   ]
  },
  {
   "cell_type": "code",
   "execution_count": null,
   "id": "7d80efdb-2b24-46e9-b85e-a2cc1fc2b8fc",
   "metadata": {},
   "outputs": [],
   "source": []
  },
  {
   "cell_type": "code",
   "execution_count": null,
   "id": "fef5ccf4-88df-4a6a-9827-5d394262964c",
   "metadata": {},
   "outputs": [],
   "source": []
  },
  {
   "cell_type": "code",
   "execution_count": null,
   "id": "8bac4e76-ceb7-4651-8d13-7ab4ad51f423",
   "metadata": {},
   "outputs": [],
   "source": []
  }
 ],
 "metadata": {
  "kernelspec": {
   "display_name": "Python [conda env:base] *",
   "language": "python",
   "name": "conda-base-py"
  },
  "language_info": {
   "codemirror_mode": {
    "name": "ipython",
    "version": 3
   },
   "file_extension": ".py",
   "mimetype": "text/x-python",
   "name": "python",
   "nbconvert_exporter": "python",
   "pygments_lexer": "ipython3",
   "version": "3.13.5"
  }
 },
 "nbformat": 4,
 "nbformat_minor": 5
}
