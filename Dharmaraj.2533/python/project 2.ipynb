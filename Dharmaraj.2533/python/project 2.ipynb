{
 "cells": [
  {
   "cell_type": "code",
   "execution_count": 45,
   "id": "6ea9a68a-47da-4455-97ae-31a15f050cc6",
   "metadata": {},
   "outputs": [
    {
     "name": "stdout",
     "output_type": "stream",
     "text": [
      "Welcome to Treasure Island\n",
      "Your mission is to find the treasure\n",
      "You're at a cross road. Where do you want to go?\n",
      "Type: left or right\n"
     ]
    },
    {
     "name": "stdin",
     "output_type": "stream",
     "text": [
      " left\n"
     ]
    },
    {
     "name": "stdout",
     "output_type": "stream",
     "text": [
      "You've came to a lake. There is an island in the middle of the lake.Type wait to wait for a boat. Type swim to swim across \n"
     ]
    },
    {
     "name": "stdin",
     "output_type": "stream",
     "text": [
      " wait\n"
     ]
    },
    {
     "name": "stdout",
     "output_type": "stream",
     "text": [
      "You arrive at the island unharmed. There is a house with 3 doors.One red, one yellow and one blue. Which colour do you choose?\n"
     ]
    },
    {
     "name": "stdin",
     "output_type": "stream",
     "text": [
      " red\n"
     ]
    },
    {
     "name": "stdout",
     "output_type": "stream",
     "text": [
      "It's a room full of fire🔥. Game Over\n"
     ]
    }
   ],
   "source": [
    "print(\"Welcome to Treasure Island\")\n",
    "print(\"Your mission is to find the treasure\")\n",
    "print(\"You're at a cross road. Where do you want to go?\")\n",
    "print(\"Type: left or right\")\n",
    "a = input().lower()\n",
    "if(a == \"right\"):\n",
    "    print(\"game over\")\n",
    "elif(a==\"left\"):\n",
    "    print(\"You've came to a lake. There is an island in the middle of the lake.Type wait to wait for a boat. Type swim to swim across \")\n",
    "    b = input().lower()\n",
    "    if(b==\"swim\"):\n",
    "        print(\"You get attacked by an angry trout. Game Over\")\n",
    "    elif(b==\"wait\"):    \n",
    "        print(\"You arrive at the island unharmed. There is a house with 3 doors.One red, one yellow and one blue. Which colour do you choose?\")\n",
    "        c = input().lower()\n",
    "        if(c==\"red\"):\n",
    "            print(\"It's a room full of fire🔥. Game Over\")\n",
    "        elif(c==\"blue\"):\n",
    "            print(\"You enter a room of beasts🐯. Game Over\")\n",
    "        elif(c==\"yellow\"):\n",
    "                print(\"🎉😄You found the treasure! You Won!😄🎉\")\n",
    "        else:\n",
    "            print(\"🤬 Dont give anything else🤬\")\n",
    "    else:\n",
    "        print(\"🤬Dont give anything else🤬\")\n",
    "else:\n",
    "    print(\"🤬 Dont give anything else🤬\")\n",
    "\n",
    "    "
   ]
  },
  {
   "cell_type": "code",
   "execution_count": null,
   "id": "1f84fd2b-1fc5-47cc-a3e4-047edc802079",
   "metadata": {},
   "outputs": [],
   "source": []
  }
 ],
 "metadata": {
  "kernelspec": {
   "display_name": "Python [conda env:base] *",
   "language": "python",
   "name": "conda-base-py"
  },
  "language_info": {
   "codemirror_mode": {
    "name": "ipython",
    "version": 3
   },
   "file_extension": ".py",
   "mimetype": "text/x-python",
   "name": "python",
   "nbconvert_exporter": "python",
   "pygments_lexer": "ipython3",
   "version": "3.13.5"
  }
 },
 "nbformat": 4,
 "nbformat_minor": 5
}
