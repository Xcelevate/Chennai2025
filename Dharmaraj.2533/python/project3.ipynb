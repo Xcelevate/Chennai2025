{
 "cells": [
  {
   "cell_type": "code",
   "execution_count": 7,
   "id": "f11c2f5a-fb0b-4795-aa36-6fde4d10f56a",
   "metadata": {},
   "outputs": [
    {
     "name": "stdout",
     "output_type": "stream",
     "text": [
      "Welcome to the tip calculator!\n",
      "What was the total bill? $\n"
     ]
    },
    {
     "name": "stdin",
     "output_type": "stream",
     "text": [
      " 200\n"
     ]
    },
    {
     "name": "stdout",
     "output_type": "stream",
     "text": [
      "How much tip would you like to give?\n"
     ]
    },
    {
     "name": "stdin",
     "output_type": "stream",
     "text": [
      " 12.5\n"
     ]
    },
    {
     "name": "stdout",
     "output_type": "stream",
     "text": [
      "How many people to split the bill?\n"
     ]
    },
    {
     "name": "stdin",
     "output_type": "stream",
     "text": [
      " 2\n"
     ]
    },
    {
     "name": "stdout",
     "output_type": "stream",
     "text": [
      "each person should pay 112.5\n"
     ]
    }
   ],
   "source": [
    "print(\"Welcome to the tip calculator!\")\n",
    "print(\"What was the total bill? $\")\n",
    "x = input()\n",
    "y=x.replace(\".\",\"\")\n",
    "if(y.isdigit()):\n",
    "    a = float(x)\n",
    "    if(a>=100):\n",
    "        print(\"How much tip would you like to give?\")\n",
    "        p=input()\n",
    "        zx=p.replace(\".\",\"\")\n",
    "        if zx.isdigit():\n",
    "            b=float(p)\n",
    "            if(b<50):\n",
    "                print(\"How many people to split the bill?\")\n",
    "                c=input()\n",
    "                if(c.isdigit()):\n",
    "                    q=int(c)\n",
    "                    if(q<20):\n",
    "                        d=(a*b)/100\n",
    "                        if(d/q>5):\n",
    "                            total = d+a\n",
    "                            ui=round((total/q),2)\n",
    "                            print(f\"each person should pay {ui}\")\n",
    "                        else:\n",
    "                            print(\"reduce no.of people\")\n",
    "                    else:\n",
    "                        print(\"no.of people exceeded\")\n",
    "                else:\n",
    "                    print(\"invalid value\")\n",
    "            else:\n",
    "                print(\"give less then 50\")\n",
    "        else:\n",
    "            print(\"invalid value\")\n",
    "    else:\n",
    "        print(\"give more then 100\")\n",
    "else:\n",
    "    print(\"invalid value\")\n"
   ]
  },
  {
   "cell_type": "code",
   "execution_count": null,
   "id": "39fa36f2-0fce-4688-b4c7-5aea9fc7edcb",
   "metadata": {},
   "outputs": [],
   "source": []
  }
 ],
 "metadata": {
  "kernelspec": {
   "display_name": "Python [conda env:base] *",
   "language": "python",
   "name": "conda-base-py"
  },
  "language_info": {
   "codemirror_mode": {
    "name": "ipython",
    "version": 3
   },
   "file_extension": ".py",
   "mimetype": "text/x-python",
   "name": "python",
   "nbconvert_exporter": "python",
   "pygments_lexer": "ipython3",
   "version": "3.13.5"
  }
 },
 "nbformat": 4,
 "nbformat_minor": 5
}
