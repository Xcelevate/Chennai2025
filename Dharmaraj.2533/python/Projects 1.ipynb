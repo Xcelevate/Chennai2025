{
 "cells": [
  {
   "cell_type": "code",
   "execution_count": 29,
   "id": "eff6bd39-1169-45be-8e5a-bbedf462bbe9",
   "metadata": {},
   "outputs": [
    {
     "name": "stdin",
     "output_type": "stream",
     "text": [
      "Enter your choice :rock,paper,scissors rok\n"
     ]
    },
    {
     "name": "stdout",
     "output_type": "stream",
     "text": [
      "scissors\n",
      "😡Don’t choose anything else — only rock, paper, or scissors😡!\n"
     ]
    }
   ],
   "source": [
    "# rock paper scissors\n",
    "import random\n",
    "a = [\"rock\",\"paper\",\"scissors\"]\n",
    "player =input(\"Enter your choice :rock,paper,scissors\").lower()\n",
    "com = random.choice(a)\n",
    "print(com)\n",
    "if((com == \"rock\" and player ==\"paper\" ) or (com == \"paper\" and player ==\"scissors\") or (com == \"scissors\" and player ==\"rock\")):\n",
    "    print(\"😄you win....congratulations😄\")\n",
    "elif((com == \"paper\" and player ==\"rock\") or (com == \"scissors\" and player ==\"paper\") or (com == \"rock\" and player ==\"scissors\")):\n",
    "    print(\" 😔you loss....try again 😔\")\n",
    "elif((com == \"rock\" and player ==\"rock\") or (com == \"paper\" and player ==\"paper\") or (com == \"scissors\" and player ==\"scissors\")):\n",
    "    print(\"😊The match is a draw.......😊\")\n",
    "else:\n",
    "    print(\"😡Don’t choose anything else — only rock, paper, or scissors😡!\")"
   ]
  },
  {
   "cell_type": "code",
   "execution_count": null,
   "id": "075bf759-0e13-420a-86b2-a4dc825c91ed",
   "metadata": {},
   "outputs": [],
   "source": []
  }
 ],
 "metadata": {
  "kernelspec": {
   "display_name": "Python [conda env:base] *",
   "language": "python",
   "name": "conda-base-py"
  },
  "language_info": {
   "codemirror_mode": {
    "name": "ipython",
    "version": 3
   },
   "file_extension": ".py",
   "mimetype": "text/x-python",
   "name": "python",
   "nbconvert_exporter": "python",
   "pygments_lexer": "ipython3",
   "version": "3.13.5"
  }
 },
 "nbformat": 4,
 "nbformat_minor": 5
}
