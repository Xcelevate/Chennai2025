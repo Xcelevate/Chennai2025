{
 "cells": [
  {
   "cell_type": "code",
   "execution_count": 1,
   "id": "d39738ce-24e0-45ea-8a49-7d92da89a49e",
   "metadata": {},
   "outputs": [
    {
     "name": "stdout",
     "output_type": "stream",
     "text": [
      "love\n"
     ]
    }
   ],
   "source": [
    "print(\"love\")"
   ]
  },
  {
   "cell_type": "code",
   "execution_count": 2,
   "id": "1f82b7ac-7d07-4b81-b058-440e5d29ced3",
   "metadata": {},
   "outputs": [
    {
     "ename": "SyntaxError",
     "evalue": "unterminated string literal (detected at line 1) (730656601.py, line 1)",
     "output_type": "error",
     "traceback": [
      "\u001b[1;36m  Cell \u001b[1;32mIn[2], line 1\u001b[1;36m\u001b[0m\n\u001b[1;33m    print(\"love)\u001b[0m\n\u001b[1;37m          ^\u001b[0m\n\u001b[1;31mSyntaxError\u001b[0m\u001b[1;31m:\u001b[0m unterminated string literal (detected at line 1)\n"
     ]
    }
   ],
   "source": [
    "print(\"love)"
   ]
  },
  {
   "cell_type": "code",
   "execution_count": 4,
   "id": "21bdefde-6404-49bd-87af-4131319813ee",
   "metadata": {},
   "outputs": [
    {
     "ename": "SyntaxError",
     "evalue": "unterminated string literal (detected at line 1) (2118794906.py, line 1)",
     "output_type": "error",
     "traceback": [
      "\u001b[1;36m  Cell \u001b[1;32mIn[4], line 1\u001b[1;36m\u001b[0m\n\u001b[1;33m    print(love\")\u001b[0m\n\u001b[1;37m              ^\u001b[0m\n\u001b[1;31mSyntaxError\u001b[0m\u001b[1;31m:\u001b[0m unterminated string literal (detected at line 1)\n"
     ]
    }
   ],
   "source": [
    "print(love\")"
   ]
  },
  {
   "cell_type": "code",
   "execution_count": 5,
   "id": "5c8c1a68-6b99-4720-a0ae-54822cb27f24",
   "metadata": {},
   "outputs": [],
   "source": [
    "a=2"
   ]
  },
  {
   "cell_type": "code",
   "execution_count": 6,
   "id": "d15971a4-aef7-48dd-ad89-11c43a00261d",
   "metadata": {},
   "outputs": [],
   "source": [
    "b=2"
   ]
  },
  {
   "cell_type": "code",
   "execution_count": 7,
   "id": "daf99f93-7bda-4211-a462-67e85b6c6a38",
   "metadata": {},
   "outputs": [
    {
     "data": {
      "text/plain": [
       "4"
      ]
     },
     "execution_count": 7,
     "metadata": {},
     "output_type": "execute_result"
    }
   ],
   "source": [
    "a+b"
   ]
  },
  {
   "cell_type": "code",
   "execution_count": 8,
   "id": "f3cca31a-a34a-4e38-8a5e-bb5e37c9adfe",
   "metadata": {},
   "outputs": [],
   "source": [
    "c=a+b"
   ]
  },
  {
   "cell_type": "code",
   "execution_count": 9,
   "id": "ad4baf4c-62b7-4662-9510-578330fd0989",
   "metadata": {},
   "outputs": [
    {
     "name": "stdout",
     "output_type": "stream",
     "text": [
      "8\n"
     ]
    }
   ],
   "source": [
    "print(c*2)"
   ]
  },
  {
   "cell_type": "code",
   "execution_count": 10,
   "id": "9bceed9b-28b4-4545-8dbf-2ad84ad01a64",
   "metadata": {},
   "outputs": [
    {
     "name": "stdout",
     "output_type": "stream",
     "text": [
      "max 500 of flour ,10 yeast and 300ml water in a bowl\n",
      "knesd te dou for 10 mintutes \n"
     ]
    }
   ],
   "source": [
    "print(\"max 500 of flour ,10 yeast and 300ml water in a bowl\")\n",
    "print(\"knesd te dou for 10 mintutes \")"
   ]
  },
  {
   "cell_type": "code",
   "execution_count": 11,
   "id": "a8a761ad-448d-4271-be41-6d611a28ca03",
   "metadata": {},
   "outputs": [
    {
     "name": "stdout",
     "output_type": "stream",
     "text": [
      "1.max 500 of flour ,10 yeast and 300ml water in a bowl\n",
      "2.knesd te dou for 10 mintutes \n",
      "3.Add 3 of salt\n",
      "4.Leave to rise for 2 houurs\n",
      "5.Bake at 200 degrees  C for 30 minutes\n"
     ]
    }
   ],
   "source": [
    "print(\"1.max 500 of flour ,10 yeast and 300ml water in a bowl\")\n",
    "print(\"2.knesd te dou for 10 mintutes \")\n",
    "print(\"3.Add 3 of salt\")\n",
    "print(\"4.Leave to rise for 2 houurs\")\n",
    "print(\"5.Bake at 200 degrees  C for 30 minutes\")\n"
   ]
  },
  {
   "cell_type": "code",
   "execution_count": 13,
   "id": "e60d3568-a264-4006-8545-e37e279188e7",
   "metadata": {
    "scrolled": true
   },
   "outputs": [
    {
     "name": "stdout",
     "output_type": "stream",
     "text": [
      "Notes from Day 1\n",
      "The print statement is used to output strings\n",
      "strings are strings of characters\n",
      "string concatenation  is done with the + sign \n",
      "New lines can be created with a \\ and the latter n \n"
     ]
    }
   ],
   "source": [
    "print(\"Notes from Day 1\")\n",
    "print(\"The print statement is used to output strings\")\n",
    "print(\"strings are strings of characters\")\n",
    "print(\"string concatenation  is done with the + sign \")\n",
    "print(\"New lines can be created with a \\ and the latter n \")"
   ]
  },
  {
   "cell_type": "code",
   "execution_count": 1,
   "id": "4341a940-fb92-40ba-82e4-17fca3535a86",
   "metadata": {},
   "outputs": [
    {
     "data": {
      "text/plain": [
       "\u001b[1;31mSignature:\u001b[0m \u001b[0minput\u001b[0m\u001b[1;33m(\u001b[0m\u001b[0mprompt\u001b[0m\u001b[1;33m=\u001b[0m\u001b[1;34m''\u001b[0m\u001b[1;33m)\u001b[0m\u001b[1;33m\u001b[0m\u001b[1;33m\u001b[0m\u001b[0m\n",
       "\u001b[1;31mDocstring:\u001b[0m\n",
       "Forward raw_input to frontends\n",
       "\n",
       "Raises\n",
       "------\n",
       "StdinNotImplementedError if active frontend doesn't support stdin.\n",
       "\u001b[1;31mFile:\u001b[0m      c:\\users\\omega\\anaconda3\\lib\\site-packages\\ipykernel\\kernelbase.py\n",
       "\u001b[1;31mType:\u001b[0m      method"
      ]
     },
     "metadata": {},
     "output_type": "display_data"
    }
   ],
   "source": [
    "input?"
   ]
  },
  {
   "cell_type": "code",
   "execution_count": 6,
   "id": "6ca74dbd-a938-43b4-b104-5e449657c58d",
   "metadata": {},
   "outputs": [
    {
     "name": "stdin",
     "output_type": "stream",
     "text": [
      "name DS\n"
     ]
    },
    {
     "name": "stdout",
     "output_type": "stream",
     "text": [
      "hello DS\n"
     ]
    }
   ],
   "source": [
    "print(\"hello \" + input(\"name\"))"
   ]
  },
  {
   "cell_type": "code",
   "execution_count": 7,
   "id": "8e246cb3-d9b5-4156-abd9-6df6400e1814",
   "metadata": {},
   "outputs": [
    {
     "ename": "SyntaxError",
     "evalue": "invalid syntax. Perhaps you forgot a comma? (3667604517.py, line 2)",
     "output_type": "error",
     "traceback": [
      "\u001b[1;36m  Cell \u001b[1;32mIn[7], line 2\u001b[1;36m\u001b[0m\n\u001b[1;33m    print(\"hello \"name)\u001b[0m\n\u001b[1;37m          ^\u001b[0m\n\u001b[1;31mSyntaxError\u001b[0m\u001b[1;31m:\u001b[0m invalid syntax. Perhaps you forgot a comma?\n"
     ]
    }
   ],
   "source": [
    "name= input(\"enter your name\")\n",
    "print(\"hello \"name)"
   ]
  },
  {
   "cell_type": "code",
   "execution_count": 8,
   "id": "089130d2-168b-4733-96a6-dd5bfcf8f1ca",
   "metadata": {},
   "outputs": [
    {
     "ename": "SyntaxError",
     "evalue": "invalid syntax. Perhaps you forgot a comma? (3967146810.py, line 2)",
     "output_type": "error",
     "traceback": [
      "\u001b[1;36m  Cell \u001b[1;32mIn[8], line 2\u001b[1;36m\u001b[0m\n\u001b[1;33m    print(\"hello \"name)\u001b[0m\n\u001b[1;37m          ^\u001b[0m\n\u001b[1;31mSyntaxError\u001b[0m\u001b[1;31m:\u001b[0m invalid syntax. Perhaps you forgot a comma?\n"
     ]
    }
   ],
   "source": [
    "name= input(\"enter your name\")\n",
    "print(\" hello \"name)\n",
    "print(\"i am good by \")"
   ]
  },
  {
   "cell_type": "code",
   "execution_count": 12,
   "id": "54c75258-1d81-4037-a440-1cd891339c81",
   "metadata": {},
   "outputs": [
    {
     "name": "stdin",
     "output_type": "stream",
     "text": [
      "enter your name DS\n"
     ]
    },
    {
     "name": "stdout",
     "output_type": "stream",
     "text": [
      " hello  DS\n",
      "i am good by \n"
     ]
    }
   ],
   "source": [
    "name= input(\"enter your name\")\n",
    "print(\" hello \", name)\n",
    "print(\"i am good by \")"
   ]
  },
  {
   "cell_type": "code",
   "execution_count": 13,
   "id": "293d753d-a9c1-4035-9ae1-33ad48667f04",
   "metadata": {},
   "outputs": [
    {
     "ename": "TypeError",
     "evalue": "'str' object is not callable",
     "output_type": "error",
     "traceback": [
      "\u001b[1;31m---------------------------------------------------------------------------\u001b[0m",
      "\u001b[1;31mTypeError\u001b[0m                                 Traceback (most recent call last)",
      "Cell \u001b[1;32mIn[13], line 1\u001b[0m\n\u001b[1;32m----> 1\u001b[0m name(\u001b[38;5;124m\"\u001b[39m\u001b[38;5;124m\"\u001b[39m)\n",
      "\u001b[1;31mTypeError\u001b[0m: 'str' object is not callable"
     ]
    }
   ],
   "source": [
    "name(\"\")"
   ]
  },
  {
   "cell_type": "code",
   "execution_count": 14,
   "id": "f7c50faf-4d8d-4888-8d4f-04817706e323",
   "metadata": {},
   "outputs": [
    {
     "ename": "TypeError",
     "evalue": "'str' object is not callable",
     "output_type": "error",
     "traceback": [
      "\u001b[1;31m---------------------------------------------------------------------------\u001b[0m",
      "\u001b[1;31mTypeError\u001b[0m                                 Traceback (most recent call last)",
      "Cell \u001b[1;32mIn[14], line 1\u001b[0m\n\u001b[1;32m----> 1\u001b[0m name(\u001b[38;5;124m\"\u001b[39m\u001b[38;5;124m\"\u001b[39m)\n\u001b[0;32m      2\u001b[0m \u001b[38;5;28mprint\u001b[39m(name)\n",
      "\u001b[1;31mTypeError\u001b[0m: 'str' object is not callable"
     ]
    }
   ],
   "source": [
    "name(\"\")\n",
    "print(name)"
   ]
  },
  {
   "cell_type": "code",
   "execution_count": 15,
   "id": "4e81e46c-fa1e-4d21-ade7-9927553f7977",
   "metadata": {},
   "outputs": [
    {
     "ename": "KeyboardInterrupt",
     "evalue": "Interrupted by user",
     "output_type": "error",
     "traceback": [
      "\u001b[1;31m---------------------------------------------------------------------------\u001b[0m",
      "\u001b[1;31mKeyboardInterrupt\u001b[0m                         Traceback (most recent call last)",
      "Cell \u001b[1;32mIn[15], line 1\u001b[0m\n\u001b[1;32m----> 1\u001b[0m \u001b[38;5;28mprint\u001b[39m (\u001b[38;5;28mlen\u001b[39m(\u001b[38;5;28minput\u001b[39m(\u001b[38;5;124m\"\u001b[39m\u001b[38;5;124mwhat is your name\u001b[39m\u001b[38;5;124m\"\u001b[39m)))\n",
      "File \u001b[1;32m~\\anaconda3\\Lib\\site-packages\\ipykernel\\kernelbase.py:1282\u001b[0m, in \u001b[0;36mKernel.raw_input\u001b[1;34m(self, prompt)\u001b[0m\n\u001b[0;32m   1280\u001b[0m     msg \u001b[38;5;241m=\u001b[39m \u001b[38;5;124m\"\u001b[39m\u001b[38;5;124mraw_input was called, but this frontend does not support input requests.\u001b[39m\u001b[38;5;124m\"\u001b[39m\n\u001b[0;32m   1281\u001b[0m     \u001b[38;5;28;01mraise\u001b[39;00m StdinNotImplementedError(msg)\n\u001b[1;32m-> 1282\u001b[0m \u001b[38;5;28;01mreturn\u001b[39;00m \u001b[38;5;28mself\u001b[39m\u001b[38;5;241m.\u001b[39m_input_request(\n\u001b[0;32m   1283\u001b[0m     \u001b[38;5;28mstr\u001b[39m(prompt),\n\u001b[0;32m   1284\u001b[0m     \u001b[38;5;28mself\u001b[39m\u001b[38;5;241m.\u001b[39m_parent_ident[\u001b[38;5;124m\"\u001b[39m\u001b[38;5;124mshell\u001b[39m\u001b[38;5;124m\"\u001b[39m],\n\u001b[0;32m   1285\u001b[0m     \u001b[38;5;28mself\u001b[39m\u001b[38;5;241m.\u001b[39mget_parent(\u001b[38;5;124m\"\u001b[39m\u001b[38;5;124mshell\u001b[39m\u001b[38;5;124m\"\u001b[39m),\n\u001b[0;32m   1286\u001b[0m     password\u001b[38;5;241m=\u001b[39m\u001b[38;5;28;01mFalse\u001b[39;00m,\n\u001b[0;32m   1287\u001b[0m )\n",
      "File \u001b[1;32m~\\anaconda3\\Lib\\site-packages\\ipykernel\\kernelbase.py:1325\u001b[0m, in \u001b[0;36mKernel._input_request\u001b[1;34m(self, prompt, ident, parent, password)\u001b[0m\n\u001b[0;32m   1322\u001b[0m \u001b[38;5;28;01mexcept\u001b[39;00m \u001b[38;5;167;01mKeyboardInterrupt\u001b[39;00m:\n\u001b[0;32m   1323\u001b[0m     \u001b[38;5;66;03m# re-raise KeyboardInterrupt, to truncate traceback\u001b[39;00m\n\u001b[0;32m   1324\u001b[0m     msg \u001b[38;5;241m=\u001b[39m \u001b[38;5;124m\"\u001b[39m\u001b[38;5;124mInterrupted by user\u001b[39m\u001b[38;5;124m\"\u001b[39m\n\u001b[1;32m-> 1325\u001b[0m     \u001b[38;5;28;01mraise\u001b[39;00m \u001b[38;5;167;01mKeyboardInterrupt\u001b[39;00m(msg) \u001b[38;5;28;01mfrom\u001b[39;00m\u001b[38;5;250m \u001b[39m\u001b[38;5;28;01mNone\u001b[39;00m\n\u001b[0;32m   1326\u001b[0m \u001b[38;5;28;01mexcept\u001b[39;00m \u001b[38;5;167;01mException\u001b[39;00m:\n\u001b[0;32m   1327\u001b[0m     \u001b[38;5;28mself\u001b[39m\u001b[38;5;241m.\u001b[39mlog\u001b[38;5;241m.\u001b[39mwarning(\u001b[38;5;124m\"\u001b[39m\u001b[38;5;124mInvalid Message:\u001b[39m\u001b[38;5;124m\"\u001b[39m, exc_info\u001b[38;5;241m=\u001b[39m\u001b[38;5;28;01mTrue\u001b[39;00m)\n",
      "\u001b[1;31mKeyboardInterrupt\u001b[0m: Interrupted by user"
     ]
    }
   ],
   "source": [
    "print (len(input(\"what is your name\")))\n"
   ]
  },
  {
   "cell_type": "code",
   "execution_count": 17,
   "id": "69fbda0d-4589-4a95-bdb3-58ae6704e14f",
   "metadata": {},
   "outputs": [
    {
     "name": "stdin",
     "output_type": "stream",
     "text": [
      "what is your name DHARMARAJ YOGARAJ SAAMINADHAN IN AMMAMKAVU\n"
     ]
    },
    {
     "name": "stdout",
     "output_type": "stream",
     "text": [
      "42\n"
     ]
    }
   ],
   "source": [
    "print (len(input(\"what is your name\")))"
   ]
  },
  {
   "cell_type": "code",
   "execution_count": 19,
   "id": "73d413f7-15c6-4bb6-afd8-02447154fccb",
   "metadata": {},
   "outputs": [],
   "source": [
    "glass1 = \"milk\"\n",
    "glass2 = \"juice\""
   ]
  },
  {
   "cell_type": "code",
   "execution_count": 23,
   "id": "c7adbc77-341a-4cd8-93a5-a8f2246e5ddd",
   "metadata": {},
   "outputs": [
    {
     "name": "stdout",
     "output_type": "stream",
     "text": [
      "juice\n",
      "juice\n"
     ]
    }
   ],
   "source": [
    "print(glass1)\n",
    "print(glass2\n",
    "     )"
   ]
  },
  {
   "cell_type": "code",
   "execution_count": null,
   "id": "e768a9df-1748-4feb-bbdd-97a122da7393",
   "metadata": {},
   "outputs": [],
   "source": []
  },
  {
   "cell_type": "code",
   "execution_count": 21,
   "id": "2e796cf9-2e08-4e8f-8911-6e5a70740943",
   "metadata": {},
   "outputs": [],
   "source": [
    "glass1 = \"milk\"\n",
    "glass2 = \"juice\"\n",
    " \n",
    "\n"
   ]
  },
  {
   "cell_type": "code",
   "execution_count": 22,
   "id": "b75d71ed-cc77-4eac-97fd-fb606740fdb3",
   "metadata": {},
   "outputs": [],
   "source": [
    " tem =glass1  \n",
    "glass1 = glass2\n",
    "glass2 = glass1 "
   ]
  },
  {
   "cell_type": "code",
   "execution_count": 24,
   "id": "44a24be8-60a1-475c-afe6-be85860fed2f",
   "metadata": {},
   "outputs": [
    {
     "name": "stdout",
     "output_type": "stream",
     "text": [
      "juice\n"
     ]
    }
   ],
   "source": [
    "print(glass1 )"
   ]
  },
  {
   "cell_type": "code",
   "execution_count": 31,
   "id": "fd207230-a3d3-423a-a007-a0180eefa8bd",
   "metadata": {},
   "outputs": [
    {
     "name": "stdout",
     "output_type": "stream",
     "text": [
      "3\n"
     ]
    }
   ],
   "source": [
    " print (len(\"123\"))"
   ]
  },
  {
   "cell_type": "code",
   "execution_count": null,
   "id": "2258b9f2-d1b2-454c-8a0f-c69285eef2f6",
   "metadata": {},
   "outputs": [],
   "source": []
  },
  {
   "cell_type": "code",
   "execution_count": 45,
   "id": "1f40e232-4721-4ef4-9cb8-b18f8da03f5f",
   "metadata": {
    "scrolled": true
   },
   "outputs": [
    {
     "name": "stdout",
     "output_type": "stream",
     "text": [
      "\n"
     ]
    }
   ],
   "source": [
    "str=\"hello\"\n",
    "print(str[2:1:2])\n",
    "      \n"
   ]
  },
  {
   "cell_type": "code",
   "execution_count": 49,
   "id": "a82f8c23-67aa-48bc-901e-3c2ecef1960f",
   "metadata": {},
   "outputs": [
    {
     "name": "stdout",
     "output_type": "stream",
     "text": [
      "O\n"
     ]
    }
   ],
   "source": [
    "str = \"HELLO\"\n",
    "print(str[4])\n"
   ]
  },
  {
   "cell_type": "code",
   "execution_count": 50,
   "id": "98d43abf-50a0-4016-8963-0bc4f917de28",
   "metadata": {},
   "outputs": [
    {
     "data": {
      "text/plain": [
       "'HELLO'"
      ]
     },
     "execution_count": 50,
     "metadata": {},
     "output_type": "execute_result"
    }
   ],
   "source": [
    "str[::1]"
   ]
  },
  {
   "cell_type": "code",
   "execution_count": 51,
   "id": "f092cfeb-73f3-4b7f-8570-b2d4d01d3fa9",
   "metadata": {},
   "outputs": [
    {
     "data": {
      "text/plain": [
       "float"
      ]
     },
     "execution_count": 51,
     "metadata": {},
     "output_type": "execute_result"
    }
   ],
   "source": [
    "type(86.32)"
   ]
  },
  {
   "cell_type": "code",
   "execution_count": 52,
   "id": "57e5cc9e-b226-4620-bff4-e89f68c4d299",
   "metadata": {},
   "outputs": [
    {
     "data": {
      "text/plain": [
       "int"
      ]
     },
     "execution_count": 52,
     "metadata": {},
     "output_type": "execute_result"
    }
   ],
   "source": [
    "type(54)"
   ]
  },
  {
   "cell_type": "code",
   "execution_count": 53,
   "id": "a9fa06f2-1953-44f4-a41c-f7e16e59ee0f",
   "metadata": {},
   "outputs": [
    {
     "data": {
      "text/plain": [
       "str"
      ]
     },
     "execution_count": 53,
     "metadata": {},
     "output_type": "execute_result"
    }
   ],
   "source": [
    "type(\"123\")"
   ]
  },
  {
   "cell_type": "code",
   "execution_count": null,
   "id": "dc09d4d4-3cb5-4ac1-a17c-239b225926b0",
   "metadata": {},
   "outputs": [],
   "source": []
  },
  {
   "cell_type": "code",
   "execution_count": 57,
   "id": "9af5f550-53f8-4eae-9fd3-15e8ed897a2f",
   "metadata": {},
   "outputs": [
    {
     "ename": "ValueError",
     "evalue": "invalid literal for int() with base 10: 'abc'",
     "output_type": "error",
     "traceback": [
      "\u001b[1;31m---------------------------------------------------------------------------\u001b[0m",
      "\u001b[1;31mValueError\u001b[0m                                Traceback (most recent call last)",
      "Cell \u001b[1;32mIn[57], line 1\u001b[0m\n\u001b[1;32m----> 1\u001b[0m \u001b[38;5;28mprint\u001b[39m(\u001b[38;5;28mint\u001b[39m(\u001b[38;5;124m\"\u001b[39m\u001b[38;5;124mabc\u001b[39m\u001b[38;5;124m\"\u001b[39m)\u001b[38;5;241m+\u001b[39m\u001b[38;5;28mint\u001b[39m(\u001b[38;5;124m\"\u001b[39m\u001b[38;5;124m4567\u001b[39m\u001b[38;5;124m\"\u001b[39m))\n",
      "\u001b[1;31mValueError\u001b[0m: invalid literal for int() with base 10: 'abc'"
     ]
    }
   ],
   "source": [
    "print(int(\"a23\")+int(\"4567\"))"
   ]
  },
  {
   "cell_type": "code",
   "execution_count": null,
   "id": "a815a348-cd93-4640-82a8-1785875a3b8d",
   "metadata": {},
   "outputs": [],
   "source": [
    "print(\"number of letters in the name \"= len(input(\"what is\"))"
   ]
  },
  {
   "cell_type": "code",
   "execution_count": 58,
   "id": "52f58e57-b9f9-4a68-95d1-ba33c5cfdfac",
   "metadata": {},
   "outputs": [
    {
     "name": "stdout",
     "output_type": "stream",
     "text": [
      "7.0\n"
     ]
    }
   ],
   "source": [
    "print(3*3+3/3-3)"
   ]
  },
  {
   "cell_type": "code",
   "execution_count": 59,
   "id": "e46601e4-7944-4614-bdd8-f7d8ae35dcb3",
   "metadata": {},
   "outputs": [
    {
     "data": {
      "text/plain": [
       "3.0"
      ]
     },
     "execution_count": 59,
     "metadata": {},
     "output_type": "execute_result"
    }
   ],
   "source": [
    "3*(3+3)/3-3"
   ]
  },
  {
   "cell_type": "code",
   "execution_count": null,
   "id": "dccf5d63-8926-4a36-845a-584b1e62e1da",
   "metadata": {},
   "outputs": [],
   "source": []
  },
  {
   "cell_type": "code",
   "execution_count": null,
   "id": "e1cb8c86-86f1-4d8b-8f0f-13989cfbec16",
   "metadata": {},
   "outputs": [],
   "source": []
  },
  {
   "cell_type": "code",
   "execution_count": null,
   "id": "855f9078-5fa1-44a2-835a-866025a685ce",
   "metadata": {},
   "outputs": [],
   "source": []
  }
 ],
 "metadata": {
  "kernelspec": {
   "display_name": "Python [conda env:base] *",
   "language": "python",
   "name": "conda-base-py"
  },
  "language_info": {
   "codemirror_mode": {
    "name": "ipython",
    "version": 3
   },
   "file_extension": ".py",
   "mimetype": "text/x-python",
   "name": "python",
   "nbconvert_exporter": "python",
   "pygments_lexer": "ipython3",
   "version": "3.13.5"
  }
 },
 "nbformat": 4,
 "nbformat_minor": 5
}
