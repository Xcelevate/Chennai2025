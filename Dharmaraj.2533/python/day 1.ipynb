{
 "cells": [
  {
   "cell_type": "code",
   "execution_count": 6,
   "id": "5488ee87-9728-4888-8d28-17f87206d547",
   "metadata": {},
   "outputs": [
    {
     "name": "stdout",
     "output_type": "stream",
     "text": [
      "30.85399449035813\n"
     ]
    }
   ],
   "source": [
    "w=84\n",
    "h=1.65\n",
    "\n",
    "bmi = w/h **2\n",
    "print(bmi)"
   ]
  },
  {
   "cell_type": "code",
   "execution_count": 9,
   "id": "8b6b4b1b-1d29-47b8-82bb-910e42a66605",
   "metadata": {},
   "outputs": [
    {
     "data": {
      "text/plain": [
       "30.854"
      ]
     },
     "execution_count": 9,
     "metadata": {},
     "output_type": "execute_result"
    }
   ],
   "source": [
    "round(bmi,3)"
   ]
  },
  {
   "cell_type": "code",
   "execution_count": 14,
   "id": "32628cc6-65fe-45d2-b398-c562a0cba8a8",
   "metadata": {},
   "outputs": [
    {
     "name": "stdout",
     "output_type": "stream",
     "text": [
      "my name is dharma and my age is 21.0\n"
     ]
    }
   ],
   "source": [
    "name = \"dharma\"\n",
    "age = 21.0\n",
    "print (f\"my name is {name} and my age is {age}\")"
   ]
  },
  {
   "cell_type": "code",
   "execution_count": 19,
   "id": "3580b83a-c4e5-4f0d-a4fe-5af2e575bb29",
   "metadata": {},
   "outputs": [
    {
     "name": "stdout",
     "output_type": "stream",
     "text": [
      "1\n",
      "5\n"
     ]
    }
   ],
   "source": [
    "a=11%2\n",
    "b=11//2\n",
    "print(a)\n",
    "print(b)"
   ]
  },
  {
   "cell_type": "code",
   "execution_count": 21,
   "id": "05257288-2b08-4747-b690-7586637a83be",
   "metadata": {},
   "outputs": [
    {
     "name": "stdout",
     "output_type": "stream",
     "text": [
      "PYTHON\n",
      "python\n"
     ]
    },
    {
     "ename": "AttributeError",
     "evalue": "'str' object has no attribute 'capitalze'",
     "output_type": "error",
     "traceback": [
      "\u001b[1;31m---------------------------------------------------------------------------\u001b[0m",
      "\u001b[1;31mAttributeError\u001b[0m                            Traceback (most recent call last)",
      "Cell \u001b[1;32mIn[21], line 4\u001b[0m\n\u001b[0;32m      2\u001b[0m \u001b[38;5;28mprint\u001b[39m(text\u001b[38;5;241m.\u001b[39mupper())\n\u001b[0;32m      3\u001b[0m \u001b[38;5;28mprint\u001b[39m(text\u001b[38;5;241m.\u001b[39mlower())\n\u001b[1;32m----> 4\u001b[0m \u001b[38;5;28mprint\u001b[39m(text\u001b[38;5;241m.\u001b[39mcapitalze())\n\u001b[0;32m      5\u001b[0m \u001b[38;5;28mprint\u001b[39m(text\u001b[38;5;241m.\u001b[39mtitle())\n\u001b[0;32m      6\u001b[0m \u001b[38;5;28mprint\u001b[39m(text\u001b[38;5;241m.\u001b[39mswapcase())\n",
      "\u001b[1;31mAttributeError\u001b[0m: 'str' object has no attribute 'capitalze'"
     ]
    }
   ],
   "source": [
    "text = \"Python\"\n",
    "print(text.upper())\n",
    "print(text.lower())\n",
    "print(text.capitalze())\n",
    "print(text.title())\n",
    "print(text.swapcase())"
   ]
  },
  {
   "cell_type": "code",
   "execution_count": 27,
   "id": "2bf58eb1-4e43-4b94-9fd0-b965f29cf4c5",
   "metadata": {},
   "outputs": [
    {
     "name": "stdout",
     "output_type": "stream",
     "text": [
      "PYTHON IS LANG\n",
      "python is lang\n",
      "Python is lang\n",
      "Python Is Lang\n",
      "PYTHON IS LANG\n"
     ]
    }
   ],
   "source": [
    "text = \"python is lang\"\n",
    "print(text.upper())\n",
    "print(text.lower())\n",
    "print(text.capitalize())\n",
    "print(text.title())\n",
    "print(text.swapcase())"
   ]
  },
  {
   "cell_type": "code",
   "execution_count": 30,
   "id": "fc4d7e14-60b3-4487-a1db-66890b9b629c",
   "metadata": {},
   "outputs": [
    {
     "name": "stdout",
     "output_type": "stream",
     "text": [
      "8\n"
     ]
    }
   ],
   "source": [
    "text = \" I love python\"\n",
    "print(text.find(\"python\"))"
   ]
  },
  {
   "cell_type": "code",
   "execution_count": 33,
   "id": "9189758a-61d4-42a4-ad55-e14fa5708257",
   "metadata": {},
   "outputs": [
    {
     "name": "stdout",
     "output_type": "stream",
     "text": [
      " I love java\n"
     ]
    }
   ],
   "source": [
    "text = \" I love python\"\n",
    "print(text.replace(\"python\",\"java\"))"
   ]
  },
  {
   "cell_type": "code",
   "execution_count": 35,
   "id": "f53e7ff4-aa7c-43c6-bc91-12afdd6b63c9",
   "metadata": {},
   "outputs": [
    {
     "ename": "SyntaxError",
     "evalue": "invalid syntax (137795215.py, line 4)",
     "output_type": "error",
     "traceback": [
      "\u001b[1;36m  Cell \u001b[1;32mIn[35], line 4\u001b[1;36m\u001b[0m\n\u001b[1;33m    z =x.upper()-\u001b[0m\n\u001b[1;37m                 ^\u001b[0m\n\u001b[1;31mSyntaxError\u001b[0m\u001b[1;31m:\u001b[0m invalid syntax\n"
     ]
    }
   ],
   "source": [
    "A = input(\"Enter animal name \")\n",
    "c = input(\"Enter city name\")\n",
    "x=a+c\n",
    "z =x.upper()-\n",
    "print(z)---------------------------------------------------------------------------------------------------------------------------------------\n"
   ]
  },
  {
   "cell_type": "code",
   "execution_count": 40,
   "id": "2a4c42f1-3f2b-49b7-9781-5737dda9c4c0",
   "metadata": {},
   "outputs": [
    {
     "name": "stdin",
     "output_type": "stream",
     "text": [
      "Enter animal name  fff\n",
      "Enter city name fete\n"
     ]
    },
    {
     "name": "stdout",
     "output_type": "stream",
     "text": [
      "FFFFETE\n"
     ]
    }
   ],
   "source": [
    "A = input(\"Enter animal name \")\n",
    "c = input(\"Enter city name\")\n",
    "x=A+c\n",
    "z =x.upper()\n",
    "print(z)"
   ]
  },
  {
   "cell_type": "code",
   "execution_count": 41,
   "id": "c167e222-ec06-4dae-a903-8e2bcfd4f6bb",
   "metadata": {},
   "outputs": [
    {
     "name": "stdout",
     "output_type": "stream",
     "text": [
      "name:dharmaage:21.0\n",
      "name:dharmaage:21.0\n"
     ]
    }
   ],
   "source": [
    "print (f\"name:{name}age:{age}\")\n",
    "print (\"name:{}age:{}\".format(name,age))"
   ]
  },
  {
   "cell_type": "code",
   "execution_count": 42,
   "id": "602a2eae-b215-44f2-84bc-8a3236fa5f08",
   "metadata": {},
   "outputs": [
    {
     "name": "stdout",
     "output_type": "stream",
     "text": [
      "['I ', 'love', 'python', 'program ']\n"
     ]
    }
   ],
   "source": [
    "a = \"I ,love,python,program \"\n",
    "words = a.split(\",\")\n",
    "print(words)"
   ]
  },
  {
   "cell_type": "code",
   "execution_count": 46,
   "id": "f08ed2a5-4961-42fc-9358-f3e7c6e042fc",
   "metadata": {
    "scrolled": true
   },
   "outputs": [
    {
     "name": "stdout",
     "output_type": "stream",
     "text": [
      " i am a programmer\n"
     ]
    }
   ],
   "source": [
    "a = \" i am a programmer\"\n",
    "words = a.split(\" , \") \n",
    "a_join = \"java\".join(words)\n",
    "print(a_join)"
   ]
  },
  {
   "cell_type": "code",
   "execution_count": 49,
   "id": "d6619c02-87dc-497b-8d9f-8ba30519f314",
   "metadata": {},
   "outputs": [
    {
     "name": "stdout",
     "output_type": "stream",
     "text": [
      "dharma****\n",
      "dharma\n"
     ]
    }
   ],
   "source": [
    "name = \"dharma\"\n",
    "print(name.ljust(10,\"*\"))\n",
    "print(name.rjust(5,\"+\"))"
   ]
  },
  {
   "cell_type": "code",
   "execution_count": null,
   "id": "67a2d23c-6378-4c52-97a4-a767561be2cf",
   "metadata": {},
   "outputs": [],
   "source": []
  }
 ],
 "metadata": {
  "kernelspec": {
   "display_name": "Python [conda env:base] *",
   "language": "python",
   "name": "conda-base-py"
  },
  "language_info": {
   "codemirror_mode": {
    "name": "ipython",
    "version": 3
   },
   "file_extension": ".py",
   "mimetype": "text/x-python",
   "name": "python",
   "nbconvert_exporter": "python",
   "pygments_lexer": "ipython3",
   "version": "3.13.5"
  }
 },
 "nbformat": 4,
 "nbformat_minor": 5
}
