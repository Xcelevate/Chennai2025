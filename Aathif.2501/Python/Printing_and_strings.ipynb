{
 "cells": [
  {
   "cell_type": "code",
   "execution_count": 1,
   "id": "ab0b8e7e-3008-4d7a-9545-81379c2fd8ab",
   "metadata": {},
   "outputs": [
    {
     "ename": "SyntaxError",
     "evalue": "unterminated string literal (detected at line 1) (3237244355.py, line 1)",
     "output_type": "error",
     "traceback": [
      "\u001b[1;36m  Cell \u001b[1;32mIn[1], line 1\u001b[1;36m\u001b[0m\n\u001b[1;33m    print(i am learning today \")\u001b[0m\n\u001b[1;37m                              ^\u001b[0m\n\u001b[1;31mSyntaxError\u001b[0m\u001b[1;31m:\u001b[0m unterminated string literal (detected at line 1)\n"
     ]
    }
   ],
   "source": [
    "print(i am learning today\")"
   ]
  },
  {
   "cell_type": "code",
   "execution_count": 2,
   "id": "cff956f4-b4ef-4b78-a980-87faf0444c1b",
   "metadata": {},
   "outputs": [
    {
     "ename": "SyntaxError",
     "evalue": "unterminated string literal (detected at line 1) (3292162680.py, line 1)",
     "output_type": "error",
     "traceback": [
      "\u001b[1;36m  Cell \u001b[1;32mIn[2], line 1\u001b[1;36m\u001b[0m\n\u001b[1;33m    print(i am learning today\")\u001b[0m\n\u001b[1;37m                             ^\u001b[0m\n\u001b[1;31mSyntaxError\u001b[0m\u001b[1;31m:\u001b[0m unterminated string literal (detected at line 1)\n"
     ]
    }
   ],
   "source": [
    "print(i am learning today\")\n"
   ]
  },
  {
   "cell_type": "code",
   "execution_count": 3,
   "id": "8fe1eba2-96b5-4375-9e31-6ac7fe7c49b9",
   "metadata": {},
   "outputs": [
    {
     "name": "stdout",
     "output_type": "stream",
     "text": [
      "i am learning today\n"
     ]
    }
   ],
   "source": [
    "print(\"i am learning today\")"
   ]
  },
  {
   "cell_type": "code",
   "execution_count": 4,
   "id": "9c9de919-1fa5-4f1c-a789-793a808f8399",
   "metadata": {},
   "outputs": [
    {
     "ename": "SyntaxError",
     "evalue": "unterminated string literal (detected at line 1) (3829476576.py, line 1)",
     "output_type": "error",
     "traceback": [
      "\u001b[1;36m  Cell \u001b[1;32mIn[4], line 1\u001b[1;36m\u001b[0m\n\u001b[1;33m    print(\"i am learning today)\u001b[0m\n\u001b[1;37m          ^\u001b[0m\n\u001b[1;31mSyntaxError\u001b[0m\u001b[1;31m:\u001b[0m unterminated string literal (detected at line 1)\n"
     ]
    }
   ],
   "source": [
    "print(\"i am learning today)"
   ]
  },
  {
   "cell_type": "code",
   "execution_count": 5,
   "id": "af6646d5-c5d8-43da-9e47-0384d0030afc",
   "metadata": {},
   "outputs": [
    {
     "ename": "SyntaxError",
     "evalue": "unterminated string literal (detected at line 1) (1451707036.py, line 1)",
     "output_type": "error",
     "traceback": [
      "\u001b[1;36m  Cell \u001b[1;32mIn[5], line 1\u001b[1;36m\u001b[0m\n\u001b[1;33m    print(\"i am learning today !)\u001b[0m\n\u001b[1;37m          ^\u001b[0m\n\u001b[1;31mSyntaxError\u001b[0m\u001b[1;31m:\u001b[0m unterminated string literal (detected at line 1)\n"
     ]
    }
   ],
   "source": [
    "print(\"i am learning today !)"
   ]
  },
  {
   "cell_type": "code",
   "execution_count": 6,
   "id": "8bc233f3-1dfa-4193-9419-f24f0ad90902",
   "metadata": {},
   "outputs": [
    {
     "ename": "SyntaxError",
     "evalue": "invalid decimal literal (3094415247.py, line 2)",
     "output_type": "error",
     "traceback": [
      "\u001b[1;36m  Cell \u001b[1;32mIn[6], line 2\u001b[1;36m\u001b[0m\n\u001b[1;33m    (1.mix 500g of flour, 10g yeast and 300ml water in a bowl.\u001b[0m\n\u001b[1;37m      ^\u001b[0m\n\u001b[1;31mSyntaxError\u001b[0m\u001b[1;31m:\u001b[0m invalid decimal literal\n"
     ]
    }
   ],
   "source": [
    "print\n",
    "(1.mix 500g of flour, 10g yeast and 300ml water in a bowl.\n",
    "2.knead the dough for 10 minutes.\n",
    "3. add 3g of salt.\n",
    "4.leave to rise for 2 hours.\n",
    "5.bake at 200 degrees C fro 30 minutes.)"
   ]
  },
  {
   "cell_type": "code",
   "execution_count": 7,
   "id": "113ea11e-c834-45f6-9f56-81c97f2e0388",
   "metadata": {},
   "outputs": [
    {
     "ename": "SyntaxError",
     "evalue": "invalid decimal literal (3207113646.py, line 2)",
     "output_type": "error",
     "traceback": [
      "\u001b[1;36m  Cell \u001b[1;32mIn[7], line 2\u001b[1;36m\u001b[0m\n\u001b[1;33m    (1.Mix 500g of flour, 10g yeast and 300ml water in a bowl.\u001b[0m\n\u001b[1;37m      ^\u001b[0m\n\u001b[1;31mSyntaxError\u001b[0m\u001b[1;31m:\u001b[0m invalid decimal literal\n"
     ]
    }
   ],
   "source": [
    "print\n",
    "(1.Mix 500g of flour, 10g yeast and 300ml water in a bowl.\n",
    "2.Knead the dough for 10 minutes.\n",
    "3.Add 3g of salt.\n",
    "4.Leave to rise for 2 hours.\n",
    "5.Bake at 200 degrees C for 30 minutes.)"
   ]
  },
  {
   "cell_type": "code",
   "execution_count": 8,
   "id": "92e4603c-fb6e-4ff2-b04f-39f2c656f656",
   "metadata": {},
   "outputs": [
    {
     "ename": "SyntaxError",
     "evalue": "invalid decimal literal (4135858321.py, line 1)",
     "output_type": "error",
     "traceback": [
      "\u001b[1;36m  Cell \u001b[1;32mIn[8], line 1\u001b[1;36m\u001b[0m\n\u001b[1;33m    print(1.Mix 500g of Flour, 10g Yeast and 300ml Water in a bowl.)\u001b[0m\n\u001b[1;37m           ^\u001b[0m\n\u001b[1;31mSyntaxError\u001b[0m\u001b[1;31m:\u001b[0m invalid decimal literal\n"
     ]
    }
   ],
   "source": [
    "print(1.Mix 500g of Flour, 10g Yeast and 300ml Water in a bowl.)\n",
    "print(2.Knead the dough for 10 minutes.)\n",
    "print(3.Add 3g of salt.)\n",
    "print(4.Leave to rise for 2 hours.)\n",
    "print(5.Bake at 200 degrees C for 30 minutes.)"
   ]
  },
  {
   "cell_type": "code",
   "execution_count": 9,
   "id": "13fd0503-8f88-48ea-be15-1aed7867788d",
   "metadata": {},
   "outputs": [
    {
     "ename": "SyntaxError",
     "evalue": "invalid decimal literal (103332505.py, line 1)",
     "output_type": "error",
     "traceback": [
      "\u001b[1;36m  Cell \u001b[1;32mIn[9], line 1\u001b[1;36m\u001b[0m\n\u001b[1;33m    print(2.Knead the dough for 10 minutes.)\u001b[0m\n\u001b[1;37m           ^\u001b[0m\n\u001b[1;31mSyntaxError\u001b[0m\u001b[1;31m:\u001b[0m invalid decimal literal\n"
     ]
    }
   ],
   "source": [
    "print(2.Knead the dough for 10 minutes.)\n",
    "print(3.Add 3g of salt.)\n",
    "print(4.Leave to rise for 2 hours.)\n",
    "print(5.Bake at 200 degrees C for 30 minutes.)"
   ]
  },
  {
   "cell_type": "code",
   "execution_count": 10,
   "id": "9c6737aa-77bc-417f-b980-08d95654963f",
   "metadata": {},
   "outputs": [
    {
     "ename": "SyntaxError",
     "evalue": "unterminated string literal (detected at line 2) (1525460910.py, line 2)",
     "output_type": "error",
     "traceback": [
      "\u001b[1;36m  Cell \u001b[1;32mIn[10], line 2\u001b[1;36m\u001b[0m\n\u001b[1;33m    (\"1.Mix 500g of flour, 10g yeast and 300ml water in a bowl.\u001b[0m\n\u001b[1;37m     ^\u001b[0m\n\u001b[1;31mSyntaxError\u001b[0m\u001b[1;31m:\u001b[0m unterminated string literal (detected at line 2)\n"
     ]
    }
   ],
   "source": [
    "print\n",
    "(\"1.Mix 500g of flour, 10g yeast and 300ml water in a bowl.\n",
    "2.Knead the dough for 10 minutes.\n",
    "3.Add 3g of salt.\n",
    "4.Leave to rise for 2 hours.\n",
    "5.Bake at 200 degrees C for 30 minutes.\")"
   ]
  },
  {
   "cell_type": "code",
   "execution_count": 12,
   "id": "415ed671-ad51-4ff4-8fea-427d81e2f6a5",
   "metadata": {},
   "outputs": [
    {
     "name": "stdout",
     "output_type": "stream",
     "text": [
      "1.Mix 500g of Flour, 10g Yeast and 300ml Water in a bowl.\n",
      "2.Knead the dough for 10 minutes.\n",
      "3.Add 3g of salt.\n",
      "4.Leave to rise for 2 hours.\n",
      "5.Bake at 200 degrees C for 30 minutes.\n"
     ]
    }
   ],
   "source": [
    "print(\"1.Mix 500g of Flour, 10g Yeast and 300ml Water in a bowl.\")\n",
    "print(\"2.Knead the dough for 10 minutes.\")\n",
    "print(\"3.Add 3g of salt.\")\n",
    "print(\"4.Leave to rise for 2 hours.\")\n",
    "print(\"5.Bake at 200 degrees C for 30 minutes.\")"
   ]
  },
  {
   "cell_type": "code",
   "execution_count": 14,
   "id": "d29f585a-950a-481f-918a-8be07c0e5ee0",
   "metadata": {},
   "outputs": [
    {
     "ename": "SyntaxError",
     "evalue": "unterminated string literal (detected at line 1) (3259131612.py, line 1)",
     "output_type": "error",
     "traceback": [
      "\u001b[1;36m  Cell \u001b[1;32mIn[14], line 1\u001b[1;36m\u001b[0m\n\u001b[1;33m    print(Notes from Day1\") #double quotes missing in the start\u001b[0m\n\u001b[1;37m                         ^\u001b[0m\n\u001b[1;31mSyntaxError\u001b[0m\u001b[1;31m:\u001b[0m unterminated string literal (detected at line 1)\n"
     ]
    }
   ],
   "source": [
    "print(Notes from Day1\") #double quotes missing in the start\n",
    "print(\"Notes from Day1\") #fix"
   ]
  },
  {
   "cell_type": "code",
   "execution_count": 16,
   "id": "601dcda9-4c85-412c-9766-17684c29053c",
   "metadata": {},
   "outputs": [
    {
     "ename": "SyntaxError",
     "evalue": "unterminated string literal (detected at line 1) (4068513807.py, line 1)",
     "output_type": "error",
     "traceback": [
      "\u001b[1;36m  Cell \u001b[1;32mIn[16], line 1\u001b[1;36m\u001b[0m\n\u001b[1;33m    print(Notes from Day1\")\u001b[0m\n\u001b[1;37m                         ^\u001b[0m\n\u001b[1;31mSyntaxError\u001b[0m\u001b[1;31m:\u001b[0m unterminated string literal (detected at line 1)\n"
     ]
    }
   ],
   "source": [
    "print(Notes from Day1\") \n",
    "print (\"The print statement is used to ouput strings\")\n",
    "print (\"String are strings of character\"\n",
    "priint (\"String concatenation is done with + sign\")\n",
    "print ((\"New lines can be created with a \\ and the letter n\")"
   ]
  },
  {
   "cell_type": "code",
   "execution_count": 17,
   "id": "71dd8d8b-eeeb-4a76-a3ce-d7d860f727c0",
   "metadata": {},
   "outputs": [
    {
     "ename": "SyntaxError",
     "evalue": "unterminated string literal (detected at line 1) (2298622005.py, line 1)",
     "output_type": "error",
     "traceback": [
      "\u001b[1;36m  Cell \u001b[1;32mIn[17], line 1\u001b[1;36m\u001b[0m\n\u001b[1;33m    print(Notes from Day1\")\u001b[0m\n\u001b[1;37m                         ^\u001b[0m\n\u001b[1;31mSyntaxError\u001b[0m\u001b[1;31m:\u001b[0m unterminated string literal (detected at line 1)\n"
     ]
    }
   ],
   "source": [
    "print(Notes from Day1\") \n",
    "print (\"The print statement is used to ouput strings\")\n",
    "print (\"String are strings of character\"\n",
    "priint (\"String concatenation is done with + sign\")\n",
    "print ((\"New lines can be created with a \\ and the letter n\")"
   ]
  },
  {
   "cell_type": "code",
   "execution_count": 18,
   "id": "7911e456-d3fd-413d-8adf-515563c17eaa",
   "metadata": {},
   "outputs": [
    {
     "name": "stdin",
     "output_type": "stream",
     "text": [
      "what is your name hero\n"
     ]
    },
    {
     "name": "stdout",
     "output_type": "stream",
     "text": [
      "hero\n"
     ]
    }
   ],
   "source": [
    "name =  input (\"what is your name\")\n",
    "print (name)"
   ]
  },
  {
   "cell_type": "code",
   "execution_count": 20,
   "id": "0fff1487-4ecd-46f1-b7dc-035d1cc93457",
   "metadata": {},
   "outputs": [
    {
     "name": "stdin",
     "output_type": "stream",
     "text": [
      "what is your name hero\n"
     ]
    },
    {
     "name": "stdout",
     "output_type": "stream",
     "text": [
      "hi,i am hero\n"
     ]
    }
   ],
   "source": [
    "name =  input (\"what is your name\")\n",
    "print (\"hi,i am\"+\" \"+name)"
   ]
  },
  {
   "cell_type": "code",
   "execution_count": 21,
   "id": "ed4972fa-e85b-469c-8ed6-0c7f190ab2e8",
   "metadata": {},
   "outputs": [
    {
     "name": "stdin",
     "output_type": "stream",
     "text": [
      "put your name Aathif ahamed\n"
     ]
    },
    {
     "name": "stdout",
     "output_type": "stream",
     "text": [
      "13\n"
     ]
    }
   ],
   "source": [
    "print(len(input(\"put your name\")))"
   ]
  },
  {
   "cell_type": "code",
   "execution_count": 22,
   "id": "409c5b7e-f685-43ce-8bc0-9dcb762abbb1",
   "metadata": {},
   "outputs": [
    {
     "name": "stdin",
     "output_type": "stream",
     "text": [
      "put your name Aathif ahamed sharbudeen\n"
     ]
    },
    {
     "name": "stdout",
     "output_type": "stream",
     "text": [
      "24\n"
     ]
    }
   ],
   "source": [
    "print(len(input(\"put your name\")))"
   ]
  },
  {
   "cell_type": "code",
   "execution_count": 23,
   "id": "162bd296-95e4-47b9-bab4-3a6a1217e353",
   "metadata": {},
   "outputs": [
    {
     "name": "stdout",
     "output_type": "stream",
     "text": [
      "juice\n",
      "milk\n"
     ]
    }
   ],
   "source": [
    "glass1=\"milk\"\n",
    "glass2=\"juice\"\n",
    "temp=glass1\n",
    "glass1=glass2\n",
    "glass2=temp\n",
    "print(glass1)\n",
    "print(glass2)"
   ]
  },
  {
   "cell_type": "code",
   "execution_count": 24,
   "id": "cfba9650-9ebe-40fe-b9a0-2ba165083271",
   "metadata": {},
   "outputs": [
    {
     "ename": "TypeError",
     "evalue": "type 'str' is not subscriptable",
     "output_type": "error",
     "traceback": [
      "\u001b[1;31m---------------------------------------------------------------------------\u001b[0m",
      "\u001b[1;31mTypeError\u001b[0m                                 Traceback (most recent call last)",
      "Cell \u001b[1;32mIn[24], line 1\u001b[0m\n\u001b[1;32m----> 1\u001b[0m \u001b[38;5;28mstr\u001b[39m[\u001b[38;5;241m0\u001b[39m]\n",
      "\u001b[1;31mTypeError\u001b[0m: type 'str' is not subscriptable"
     ]
    }
   ],
   "source": [
    "str[0]"
   ]
  },
  {
   "cell_type": "code",
   "execution_count": 25,
   "id": "e27a0c66-7676-4840-85ac-001a4b947586",
   "metadata": {},
   "outputs": [
    {
     "data": {
      "text/plain": [
       "'h'"
      ]
     },
     "execution_count": 25,
     "metadata": {},
     "output_type": "execute_result"
    }
   ],
   "source": [
    "str=\"hello\"\n",
    "str[0]"
   ]
  },
  {
   "cell_type": "code",
   "execution_count": 27,
   "id": "fad4173b-aeb4-475a-bb48-459012500dd1",
   "metadata": {},
   "outputs": [
    {
     "data": {
      "text/plain": [
       "''"
      ]
     },
     "execution_count": 27,
     "metadata": {},
     "output_type": "execute_result"
    }
   ],
   "source": [
    "str[0:0]"
   ]
  },
  {
   "cell_type": "code",
   "execution_count": 28,
   "id": "c441704f-6d90-48ce-8218-6d5fee85c37f",
   "metadata": {},
   "outputs": [
    {
     "data": {
      "text/plain": [
       "''"
      ]
     },
     "execution_count": 28,
     "metadata": {},
     "output_type": "execute_result"
    }
   ],
   "source": [
    "str[0:0]"
   ]
  },
  {
   "cell_type": "code",
   "execution_count": 29,
   "id": "3265116f-ef4f-4067-8ebb-0538cf39764c",
   "metadata": {},
   "outputs": [
    {
     "data": {
      "text/plain": [
       "'h'"
      ]
     },
     "execution_count": 29,
     "metadata": {},
     "output_type": "execute_result"
    }
   ],
   "source": [
    "str[0:2:5]"
   ]
  },
  {
   "cell_type": "code",
   "execution_count": 30,
   "id": "b09f77dd-3565-4535-b81c-36041bcaf38e",
   "metadata": {},
   "outputs": [
    {
     "data": {
      "text/plain": [
       "'h'"
      ]
     },
     "execution_count": 30,
     "metadata": {},
     "output_type": "execute_result"
    }
   ],
   "source": [
    "str[0:4:5]"
   ]
  },
  {
   "cell_type": "code",
   "execution_count": 31,
   "id": "ea375a7b-9d58-40b3-bd27-0411fcb314d5",
   "metadata": {},
   "outputs": [
    {
     "data": {
      "text/plain": [
       "''"
      ]
     },
     "execution_count": 31,
     "metadata": {},
     "output_type": "execute_result"
    }
   ],
   "source": [
    "str[2:1:2]"
   ]
  },
  {
   "cell_type": "raw",
   "id": "35e12077-138d-4c7c-ae21-25f4bba9c0b0",
   "metadata": {},
   "source": [
    "str[-1]"
   ]
  },
  {
   "cell_type": "code",
   "execution_count": 33,
   "id": "0d78c1bf-391b-4726-9664-06da24697d29",
   "metadata": {},
   "outputs": [
    {
     "data": {
      "text/plain": [
       "'o'"
      ]
     },
     "execution_count": 33,
     "metadata": {},
     "output_type": "execute_result"
    }
   ],
   "source": [
    "str[4]"
   ]
  },
  {
   "cell_type": "code",
   "execution_count": 35,
   "id": "b4b2d9d6-8b59-4a9c-9b14-0c317b4602ef",
   "metadata": {},
   "outputs": [
    {
     "name": "stdout",
     "output_type": "stream",
     "text": [
      "o\n"
     ]
    }
   ],
   "source": [
    "print(str[4])"
   ]
  },
  {
   "cell_type": "code",
   "execution_count": 36,
   "id": "359155d2-2942-4cd1-b98e-de5dee578daa",
   "metadata": {},
   "outputs": [
    {
     "name": "stdout",
     "output_type": "stream",
     "text": [
      "o\n"
     ]
    }
   ],
   "source": [
    "print(str[len(str)-1])"
   ]
  },
  {
   "cell_type": "code",
   "execution_count": 40,
   "id": "58542433-b873-47e4-9310-d33aeac8db4f",
   "metadata": {},
   "outputs": [],
   "source": [
    "str1=\"more\""
   ]
  },
  {
   "cell_type": "code",
   "execution_count": 41,
   "id": "594293e3-5b2a-4ccd-921f-19275e31d68a",
   "metadata": {},
   "outputs": [
    {
     "name": "stdout",
     "output_type": "stream",
     "text": [
      "erom\n"
     ]
    }
   ],
   "source": [
    "print(str1[::-1])"
   ]
  },
  {
   "cell_type": "code",
   "execution_count": 42,
   "id": "9c9ca673-8363-44f2-b318-32daf148e938",
   "metadata": {},
   "outputs": [
    {
     "name": "stdout",
     "output_type": "stream",
     "text": [
      "more\n"
     ]
    }
   ],
   "source": [
    "print(str1[::1])"
   ]
  },
  {
   "cell_type": "code",
   "execution_count": 45,
   "id": "3b976564-264a-42f5-bdc0-788aa0716f2d",
   "metadata": {},
   "outputs": [
    {
     "name": "stdout",
     "output_type": "stream",
     "text": [
      "123456\n"
     ]
    }
   ],
   "source": [
    "print(123_456)"
   ]
  },
  {
   "cell_type": "code",
   "execution_count": 47,
   "id": "9a7a8bc1-450e-4878-b692-7f447b3910d8",
   "metadata": {},
   "outputs": [
    {
     "data": {
      "text/plain": [
       "str"
      ]
     },
     "execution_count": 47,
     "metadata": {},
     "output_type": "execute_result"
    }
   ],
   "source": [
    "type(\"hi\")"
   ]
  },
  {
   "cell_type": "code",
   "execution_count": 48,
   "id": "421b0a0a-e228-4431-a4b9-5256b957a688",
   "metadata": {},
   "outputs": [
    {
     "data": {
      "text/plain": [
       "int"
      ]
     },
     "execution_count": 48,
     "metadata": {},
     "output_type": "execute_result"
    }
   ],
   "source": [
    "type(123+456)"
   ]
  },
  {
   "cell_type": "code",
   "execution_count": 49,
   "id": "120879f0-be11-45d1-b9d2-d0b318aa371b",
   "metadata": {},
   "outputs": [
    {
     "data": {
      "text/plain": [
       "float"
      ]
     },
     "execution_count": 49,
     "metadata": {},
     "output_type": "execute_result"
    }
   ],
   "source": [
    "type(75.4)"
   ]
  },
  {
   "cell_type": "code",
   "execution_count": 50,
   "id": "f662c962-64a8-4e00-bf92-def9cbdde0ec",
   "metadata": {},
   "outputs": [
    {
     "data": {
      "text/plain": [
       "float"
      ]
     },
     "execution_count": 50,
     "metadata": {},
     "output_type": "execute_result"
    }
   ],
   "source": [
    "type(76.54321245)"
   ]
  },
  {
   "cell_type": "code",
   "execution_count": 51,
   "id": "7e65657a-018e-43d4-b065-a303b6f18b25",
   "metadata": {},
   "outputs": [
    {
     "name": "stdout",
     "output_type": "stream",
     "text": [
      "579\n"
     ]
    }
   ],
   "source": [
    "print(int(\"123\")+int(\"456\"))"
   ]
  },
  {
   "cell_type": "code",
   "execution_count": 53,
   "id": "1d4e8d36-016c-468e-98d8-e6093b5d9f88",
   "metadata": {},
   "outputs": [
    {
     "name": "stdin",
     "output_type": "stream",
     "text": [
      "what is your name ? Aathif\n"
     ]
    },
    {
     "ename": "TypeError",
     "evalue": "can only concatenate str (not \"int\") to str",
     "output_type": "error",
     "traceback": [
      "\u001b[1;31m---------------------------------------------------------------------------\u001b[0m",
      "\u001b[1;31mTypeError\u001b[0m                                 Traceback (most recent call last)",
      "Cell \u001b[1;32mIn[53], line 1\u001b[0m\n\u001b[1;32m----> 1\u001b[0m \u001b[38;5;28mprint\u001b[39m(\u001b[38;5;124m\"\u001b[39m\u001b[38;5;124mnumber of letters in the name\u001b[39m\u001b[38;5;124m\"\u001b[39m\u001b[38;5;241m+\u001b[39m\u001b[38;5;28mlen\u001b[39m(\u001b[38;5;28minput\u001b[39m(\u001b[38;5;124m\"\u001b[39m\u001b[38;5;124mwhat is your name ?\u001b[39m\u001b[38;5;124m\"\u001b[39m)))\n",
      "\u001b[1;31mTypeError\u001b[0m: can only concatenate str (not \"int\") to str"
     ]
    }
   ],
   "source": [
    "print(\"number of letters in the name\"+len(input(\"what is your name ?\")))"
   ]
  },
  {
   "cell_type": "code",
   "execution_count": 54,
   "id": "9ac5082e-b974-4c2f-afc4-b0f6b5241093",
   "metadata": {},
   "outputs": [
    {
     "name": "stdout",
     "output_type": "stream",
     "text": [
      "p\n",
      "ogram\n",
      "gnimmargorp\n"
     ]
    }
   ],
   "source": [
    "my_string =\"programming\"\n",
    "print(my_string[0]) #\n",
    "print(my_string[2:7]) # substring from index 2 to 6\n",
    "print(my_string[::-1]) #reversing a string"
   ]
  },
  {
   "cell_type": "code",
   "execution_count": 58,
   "id": "de03d4e1-4e3d-448e-b39a-ef1a2231ded0",
   "metadata": {},
   "outputs": [
    {
     "name": "stdout",
     "output_type": "stream",
     "text": [
      "PYTHON\n",
      "python\n",
      "Python\n",
      "Python\n",
      "PYtHoN\n"
     ]
    }
   ],
   "source": [
    "text=\"pyThOn\"\n",
    "print(text.upper())\n",
    "print(text.lower())\n",
    "print(text.capitalize())\n",
    "print(text.title())\n",
    "print(text.swapcase())"
   ]
  },
  {
   "cell_type": "code",
   "execution_count": 60,
   "id": "cf8b026d-10e3-4f31-9fc8-63f2dcd20750",
   "metadata": {},
   "outputs": [
    {
     "name": "stdout",
     "output_type": "stream",
     "text": [
      "7\n"
     ]
    }
   ],
   "source": [
    "sentence =\"I love Python programming.\"\n",
    "print(sentence.find(\"Python\")) #returns staring index no ,oe  -1 if not found also case sensitive"
   ]
  },
  {
   "cell_type": "code",
   "execution_count": 61,
   "id": "fe1eb4da-f271-4bdf-b91b-58b16f4dccaf",
   "metadata": {},
   "outputs": [
    {
     "name": "stdout",
     "output_type": "stream",
     "text": [
      "I love Java programming.\n"
     ]
    }
   ],
   "source": [
    "print(sentence.replace(\"Python\",\"Java\")) #replace any character where ever it finds the match we give"
   ]
  },
  {
   "cell_type": "code",
   "execution_count": 62,
   "id": "45e60691-f282-4c2f-b8a4-6f8666f12ad7",
   "metadata": {},
   "outputs": [
    {
     "name": "stdout",
     "output_type": "stream",
     "text": [
      "['Python', 'Python']\n"
     ]
    }
   ],
   "source": [
    "# re means regular expression we need to import it\n",
    "import re \n",
    "text=\"I love Python. Python is good\"\n",
    "words = re.findall(r'Python',text) #q \n",
    "iteration = re.finditer(r'Python',text) #\n",
    "print(words)"
   ]
  },
  {
   "cell_type": "code",
   "execution_count": 93,
   "id": "83a86848-c03e-472f-9bf3-c8042c121cc6",
   "metadata": {},
   "outputs": [
    {
     "name": "stdin",
     "output_type": "stream",
     "text": [
      "what is the name ? anurag\n",
      "what is the city ? banglore\n"
     ]
    },
    {
     "name": "stdout",
     "output_type": "stream",
     "text": [
      "Auaeoga\n"
     ]
    }
   ],
   "source": [
    "name1= input(\"what is the name ?\")\n",
    "name2= input(\"what is the city ?\")\n",
    "final_name = (name1[::2]+name2[::-2])\n",
    "print(final_name.title())"
   ]
  },
  {
   "cell_type": "code",
   "execution_count": 98,
   "id": "2fdc4b1d-3343-4b60-b3d1-47e766ffe5b3",
   "metadata": {},
   "outputs": [
    {
     "name": "stdout",
     "output_type": "stream",
     "text": [
      "name:hero age:20\n",
      "name:heroage:20\n"
     ]
    }
   ],
   "source": [
    "name =\"hero\"\n",
    "age=20\n",
    "print(f\"name:{name} age:{age}\")\n",
    "print(\"name:{}age:{}\".format(name,age))"
   ]
  },
  {
   "cell_type": "code",
   "execution_count": 99,
   "id": "22133c8b-f8f6-4f50-a0e0-1d77b570c587",
   "metadata": {},
   "outputs": [
    {
     "name": "stdout",
     "output_type": "stream",
     "text": [
      "['I', 'love', 'Python.', 'Python', 'is', 'good']\n"
     ]
    }
   ],
   "source": [
    "print(text.split())"
   ]
  },
  {
   "cell_type": "code",
   "execution_count": 101,
   "id": "dbb6bff1-b25a-4147-bf35-a945746b9738",
   "metadata": {},
   "outputs": [
    {
     "name": "stdout",
     "output_type": "stream",
     "text": [
      "['i', 'love', 'python', 'programming']\n"
     ]
    }
   ],
   "source": [
    "text1=\"i,love,python,programming\"\n",
    "words = text1.split(\",\")\n",
    "print(words)"
   ]
  },
  {
   "cell_type": "code",
   "execution_count": 111,
   "id": "74e2f421-d9e0-488b-ad21-4a185b8a6941",
   "metadata": {},
   "outputs": [
    {
     "name": "stdout",
     "output_type": "stream",
     "text": [
      "i-am-a-programmer\n"
     ]
    }
   ],
   "source": [
    "text2=\"i,am,a,programmer\"\n",
    "words1=text2.split(\",\")\n",
    "text_join=\"-\".join (words1) #replaces\n",
    "print(text_join)"
   ]
  },
  {
   "cell_type": "code",
   "execution_count": 109,
   "id": "a1f001ad-3acb-4583-bf1e-23fc378f6a62",
   "metadata": {},
   "outputs": [
    {
     "name": "stdout",
     "output_type": "stream",
     "text": [
      "hero******\n"
     ]
    }
   ],
   "source": [
    "print(name.ljust(10,'*'))"
   ]
  },
  {
   "cell_type": "code",
   "execution_count": 118,
   "id": "4fe47992-0d3a-4418-9439-5d608a4cc10f",
   "metadata": {},
   "outputs": [
    {
     "ename": "SyntaxError",
     "evalue": "invalid decimal literal (862973601.py, line 2)",
     "output_type": "error",
     "traceback": [
      "\u001b[1;36m  Cell \u001b[1;32mIn[118], line 2\u001b[1;36m\u001b[0m\n\u001b[1;33m    print(pi:.2f)\u001b[0m\n\u001b[1;37m              ^\u001b[0m\n\u001b[1;31mSyntaxError\u001b[0m\u001b[1;31m:\u001b[0m invalid decimal literal\n"
     ]
    }
   ],
   "source": [
    "pi=3.1427\n",
    "print(\"pi:.2f\")"
   ]
  },
  {
   "cell_type": "code",
   "execution_count": null,
   "id": "0a4d312e-91f5-4759-8a10-f4c6f7d07444",
   "metadata": {},
   "outputs": [],
   "source": []
  }
 ],
 "metadata": {
  "kernelspec": {
   "display_name": "Python [conda env:base] *",
   "language": "python",
   "name": "conda-base-py"
  },
  "language_info": {
   "codemirror_mode": {
    "name": "ipython",
    "version": 3
   },
   "file_extension": ".py",
   "mimetype": "text/x-python",
   "name": "python",
   "nbconvert_exporter": "python",
   "pygments_lexer": "ipython3",
   "version": "3.13.5"
  }
 },
 "nbformat": 4,
 "nbformat_minor": 5
}
