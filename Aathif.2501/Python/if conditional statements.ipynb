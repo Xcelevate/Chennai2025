{
 "cells": [
  {
   "cell_type": "code",
   "execution_count": 1,
   "id": "18427cde-43dc-4573-988a-b92d29f4da20",
   "metadata": {},
   "outputs": [
    {
     "name": "stdout",
     "output_type": "stream",
     "text": [
      " i am hero\n"
     ]
    }
   ],
   "source": [
    "name =\"hero\"\n",
    "print(f\" i am {name}\")"
   ]
  },
  {
   "cell_type": "code",
   "execution_count": 20,
   "id": "05aa32e2-a1a0-4a13-8541-12fa337ef851",
   "metadata": {},
   "outputs": [
    {
     "data": {
      "text/plain": [
       "3"
      ]
     },
     "execution_count": 20,
     "metadata": {},
     "output_type": "execute_result"
    }
   ],
   "source": [
    "# random function or package . we need to import them . randomization\n",
    "import random\n",
    "randomint =random.randint(1,10) # random values between 1 and 10\n",
    "randomint # or we can print like print(randomint)"
   ]
  },
  {
   "cell_type": "code",
   "execution_count": 30,
   "id": "a8213cea-a3eb-4bd1-85f8-c2a4f4838bae",
   "metadata": {},
   "outputs": [
    {
     "ename": "TypeError",
     "evalue": "Random.randint() missing 2 required positional arguments: 'a' and 'b'",
     "output_type": "error",
     "traceback": [
      "\u001b[1;31m---------------------------------------------------------------------------\u001b[0m",
      "\u001b[1;31mTypeError\u001b[0m                                 Traceback (most recent call last)",
      "Cell \u001b[1;32mIn[30], line 2\u001b[0m\n\u001b[0;32m      1\u001b[0m \u001b[38;5;28;01mimport\u001b[39;00m\u001b[38;5;250m \u001b[39m\u001b[38;5;21;01mrandom\u001b[39;00m\n\u001b[1;32m----> 2\u001b[0m randomint \u001b[38;5;241m=\u001b[39mrandom\u001b[38;5;241m.\u001b[39mrandint() \n\u001b[0;32m      3\u001b[0m randomint\n",
      "\u001b[1;31mTypeError\u001b[0m: Random.randint() missing 2 required positional arguments: 'a' and 'b'"
     ]
    }
   ],
   "source": [
    "import random\n",
    "randomint =random.randint() \n",
    "randomint"
   ]
  },
  {
   "cell_type": "code",
   "execution_count": 31,
   "id": "bdc20b96-d120-40ea-80e3-644deef96fb0",
   "metadata": {},
   "outputs": [
    {
     "data": {
      "text/plain": [
       "420"
      ]
     },
     "execution_count": 31,
     "metadata": {},
     "output_type": "execute_result"
    }
   ],
   "source": [
    "import my_module # we have to create module in python file then import it . access it\n",
    "my_module.my_number"
   ]
  },
  {
   "cell_type": "code",
   "execution_count": 48,
   "id": "126bd366-84a9-4a37-9c69-10cec9674762",
   "metadata": {},
   "outputs": [
    {
     "data": {
      "text/plain": [
       "0.34025698201919696"
      ]
     },
     "execution_count": 48,
     "metadata": {},
     "output_type": "execute_result"
    }
   ],
   "source": [
    "import random\n",
    "random.random()*10 # gives values between 0.0 and 1.0"
   ]
  },
  {
   "cell_type": "code",
   "execution_count": 57,
   "id": "53d1950f-9d3e-4efc-80f5-f3ff23424d31",
   "metadata": {},
   "outputs": [
    {
     "data": {
      "text/plain": [
       "2"
      ]
     },
     "execution_count": 57,
     "metadata": {},
     "output_type": "execute_result"
    }
   ],
   "source": [
    "import random\n",
    "round(random.uniform(1,10)) # random float values"
   ]
  },
  {
   "cell_type": "code",
   "execution_count": 74,
   "id": "637f7d45-9f54-41bb-a048-1a9b3287a855",
   "metadata": {},
   "outputs": [
    {
     "name": "stdout",
     "output_type": "stream",
     "text": [
      "1\n",
      "Tails\n"
     ]
    }
   ],
   "source": [
    "randbinary= random.randint(0,1) # indentation means leave exacts spaces .\n",
    "print(randbinary)\n",
    "if randbinary == 0 :\n",
    "    print(\"Head\")\n",
    "else :\n",
    "    print(\"Tails\")"
   ]
  },
  {
   "cell_type": "code",
   "execution_count": 75,
   "id": "e1560cb5-c322-48d3-a430-940ebd6c3bab",
   "metadata": {},
   "outputs": [
    {
     "data": {
      "text/plain": [
       "False"
      ]
     },
     "execution_count": 75,
     "metadata": {},
     "output_type": "execute_result"
    }
   ],
   "source": [
    "not(True or (True & False)&(False &  True)& False)"
   ]
  },
  {
   "cell_type": "code",
   "execution_count": 76,
   "id": "383c5db0-cd37-422e-9218-31d576565049",
   "metadata": {},
   "outputs": [
    {
     "data": {
      "text/plain": [
       "True"
      ]
     },
     "execution_count": 76,
     "metadata": {},
     "output_type": "execute_result"
    }
   ],
   "source": [
    "a=True\n",
    "b=False\n",
    "(a or b) and not (a and b)"
   ]
  },
  {
   "cell_type": "code",
   "execution_count": 77,
   "id": "b12fd8ec-d39f-47d1-896a-a700d9fa5a76",
   "metadata": {},
   "outputs": [
    {
     "data": {
      "text/plain": [
       "True"
      ]
     },
     "execution_count": 77,
     "metadata": {},
     "output_type": "execute_result"
    }
   ],
   "source": [
    "a=True\n",
    "b=False\n",
    "(a and not b) or (b and not a)"
   ]
  },
  {
   "cell_type": "code",
   "execution_count": 79,
   "id": "473aebc8-843f-4054-988f-4908a5747834",
   "metadata": {},
   "outputs": [
    {
     "name": "stdin",
     "output_type": "stream",
     "text": [
      "true or false true\n",
      "true or false false\n"
     ]
    },
    {
     "name": "stdout",
     "output_type": "stream",
     "text": [
      "<class 'bool'>\n"
     ]
    }
   ],
   "source": [
    "a=bool(input(\"true or false\"))\n",
    "b=bool(input(\"true or false\"))\n",
    "print (type(a))"
   ]
  },
  {
   "cell_type": "code",
   "execution_count": 81,
   "id": "02f30330-5ef3-4147-a2f1-8fc07232558d",
   "metadata": {},
   "outputs": [
    {
     "name": "stdin",
     "output_type": "stream",
     "text": [
      "empty or not  \n",
      "empty or not false\n"
     ]
    },
    {
     "name": "stdout",
     "output_type": "stream",
     "text": [
      "<class 'bool'>\n",
      "True\n"
     ]
    }
   ],
   "source": [
    "a=bool(input(\"empty or not \"))\n",
    "b=bool(input(\"empty or not\"))\n",
    "print(type(a))\n",
    "print(b)"
   ]
  },
  {
   "cell_type": "code",
   "execution_count": 85,
   "id": "f0b30d63-971c-4c1b-b91c-c00b5ccdd5ea",
   "metadata": {},
   "outputs": [
    {
     "name": "stdout",
     "output_type": "stream",
     "text": [
      "True\n",
      "False\n",
      "False\n",
      "True\n"
     ]
    }
   ],
   "source": [
    "nand=not(a and b)\n",
    "nor=not(a or b)\n",
    "print(nand)\n",
    "print(nor)\n",
    "print(a)\n",
    "print(b)"
   ]
  },
  {
   "cell_type": "code",
   "execution_count": 86,
   "id": "4975d67a-960b-4177-8a4b-ec55de449507",
   "metadata": {},
   "outputs": [
    {
     "name": "stdout",
     "output_type": "stream",
     "text": [
      "False\n"
     ]
    }
   ],
   "source": [
    "a=True\n",
    "b=False\n",
    "c=(not(2!=3) and (4<6)) or ((6!=7) and(8<2))\n",
    "print(c)"
   ]
  },
  {
   "cell_type": "code",
   "execution_count": 92,
   "id": "bb50c457-e1c5-4701-a738-eebdd401acd4",
   "metadata": {},
   "outputs": [
    {
     "name": "stdin",
     "output_type": "stream",
     "text": [
      "check whether num is even or odd 0\n"
     ]
    },
    {
     "name": "stdout",
     "output_type": "stream",
     "text": [
      "even\n"
     ]
    }
   ],
   "source": [
    "a=int(input(\"check whether num is even or odd\"))\n",
    "if (a%2)==0:\n",
    "    print(\"even\")\n",
    "else :\n",
    "    print(\"odd\")\n",
    "    "
   ]
  },
  {
   "cell_type": "code",
   "execution_count": 95,
   "id": "8beb84ab-de87-4eac-9942-0568f69be344",
   "metadata": {},
   "outputs": [
    {
     "name": "stdin",
     "output_type": "stream",
     "text": [
      "enter a number 5\n",
      "enter a number 5\n"
     ]
    },
    {
     "name": "stdout",
     "output_type": "stream",
     "text": [
      "5 equals\n"
     ]
    }
   ],
   "source": [
    "a=input(\"enter a number\")\n",
    "b=input(\"enter a number\")\n",
    "if a>b:\n",
    "    print(a)\n",
    "elif a<b :\n",
    "    print(b)\n",
    "else :\n",
    "    print(a+\" \"+\"equals\")"
   ]
  },
  {
   "cell_type": "code",
   "execution_count": 122,
   "id": "105fa2c2-c4e1-4be3-b59f-4da2f844831d",
   "metadata": {},
   "outputs": [
    {
     "name": "stdin",
     "output_type": "stream",
     "text": [
      "name of the student ram\n",
      "marks -25\n"
     ]
    },
    {
     "name": "stdout",
     "output_type": "stream",
     "text": [
      "Wrong input\n"
     ]
    }
   ],
   "source": [
    "student=input(\"name of the student\")\n",
    "mark = int(input(\"marks\"))\n",
    "if ((mark<=100) & (mark>=0)) : \n",
    "    if(mark>=90) :\n",
    "        print(\"A+\")\n",
    "    elif ((mark<90) & (mark>=75)): \n",
    "        print(\"A\")\n",
    "    elif ((mark<75) & (mark>60)): \n",
    "        print(\"B\")\n",
    "    elif ((mark<=60) & (mark>=40)):\n",
    "        print(\"C\")\n",
    "    elif((mark<40) & (mark>=0)) :\n",
    "        print(\"Fail\")\n",
    "else:\n",
    "        print(\"Wrong input\")"
   ]
  },
  {
   "cell_type": "code",
   "execution_count": 131,
   "id": "c2bd0e03-5115-4aa5-90f8-bf9394f511d1",
   "metadata": {},
   "outputs": [
    {
     "name": "stdin",
     "output_type": "stream",
     "text": [
      "enter any word dad\n"
     ]
    },
    {
     "name": "stdout",
     "output_type": "stream",
     "text": [
      "Yes\n",
      "dad=dad\n"
     ]
    }
   ],
   "source": [
    "x=input(\"enter any word\")\n",
    "temp=x\n",
    "if x==x[::-1] :\n",
    "    print(\"Yes\")\n",
    "    print(temp+'='+x[::-1])\n",
    "else :\n",
    "    print(\"no\")"
   ]
  },
  {
   "cell_type": "code",
   "execution_count": 5,
   "id": "cd639a40-73e3-4b11-b39a-7d891c6b4c5f",
   "metadata": {},
   "outputs": [
    {
     "name": "stdout",
     "output_type": "stream",
     "text": [
      "False\n"
     ]
    }
   ],
   "source": [
    "y=\"happy!home\"\n",
    "print(y.isalpha())"
   ]
  },
  {
   "cell_type": "code",
   "execution_count": 9,
   "id": "b5e19f50-b0d5-4e53-8a95-1f7ce4860448",
   "metadata": {},
   "outputs": [
    {
     "name": "stdout",
     "output_type": "stream",
     "text": [
      "False\n"
     ]
    }
   ],
   "source": [
    "z=\"123=\"\n",
    "print(z.isdigit())"
   ]
  },
  {
   "cell_type": "code",
   "execution_count": 14,
   "id": "f2289407-bd39-4f48-8912-0a85a64d1a0d",
   "metadata": {},
   "outputs": [
    {
     "name": "stdout",
     "output_type": "stream",
     "text": [
      "False\n"
     ]
    }
   ],
   "source": [
    "p=\"abc123!\"\n",
    "print(p.isalnum())"
   ]
  },
  {
   "cell_type": "code",
   "execution_count": 19,
   "id": "79b1c5a1-b908-422c-8a7e-d1df4a79cf91",
   "metadata": {},
   "outputs": [
    {
     "name": "stdout",
     "output_type": "stream",
     "text": [
      "True\n"
     ]
    }
   ],
   "source": [
    "print(\"a\" in y)"
   ]
  },
  {
   "cell_type": "code",
   "execution_count": 31,
   "id": "01a0ea0b-3129-4624-a3c4-0cdd78b0fdff",
   "metadata": {},
   "outputs": [
    {
     "name": "stdout",
     "output_type": "stream",
     "text": [
      "False\n",
      "False\n",
      "True\n"
     ]
    }
   ],
   "source": [
    "a=\"011234\"\n",
    "print(a.startswith(\"123\"))\n",
    "print(a.startswith(\"123\"))\n",
    "print(a.endswith(\"3\" and \"4\"))\n"
   ]
  },
  {
   "cell_type": "code",
   "execution_count": 47,
   "id": "7f0af331-1a2b-4fc9-93c6-b3b004af9b76",
   "metadata": {},
   "outputs": [
    {
     "name": "stdout",
     "output_type": "stream",
     "text": [
      "False\n"
     ]
    }
   ],
   "source": [
    "a= \"myfile.doc\"\n",
    "print(a.endswith(\".txt\" and \".pdf\" and \".doc\"))"
   ]
  },
  {
   "cell_type": "code",
   "execution_count": 115,
   "id": "629476a4-2c9a-45fb-befc-c98bc63e5c53",
   "metadata": {},
   "outputs": [
    {
     "name": "stdin",
     "output_type": "stream",
     "text": [
      "enter a year -98\\\n"
     ]
    },
    {
     "name": "stdout",
     "output_type": "stream",
     "text": [
      "invalid\n"
     ]
    }
   ],
   "source": [
    "year=input(\"enter a year\")\n",
    "\n",
    "if year.isdigit() and len(year) == 4 and int(year)>0 :\n",
    "    x=int(year)\n",
    "    if x % 4 == 0:\n",
    "            if x % 100 == 0:\n",
    "                if x % 400 == 0:\n",
    "                     print(\"its a leap year\")\n",
    "                else:\n",
    "                     print(\"its not a leap year\")\n",
    "            else:\n",
    "                print(\"its a leap year\")\n",
    "    else:\n",
    "             print(\"its not a leap year\")\n",
    "\n",
    "else:\n",
    "    print(\"invalid\")\n",
    "\n",
    "\n",
    "    "
   ]
  },
  {
   "cell_type": "markdown",
   "id": "741d14ac-bc61-47ed-a412-150ed2d5929d",
   "metadata": {},
   "source": [
    "a=input(\"enter side a\")\n",
    "b=input(\"enter side b\")\n",
    "c=input(\"enter side c\")\n",
    "if a.isdigit() and b.isdigit() and c.isdigit() :\n",
    "    a=float(a)\n",
    "    b=float(b)\n",
    "    c=float(c)\n",
    "    if a>0 and b>0 and c>0 :\n",
    "        if (a+b)>c and (b+c)>a and (c+a)>b:\n",
    "            if a==b==c :\n",
    "                print(\"equilateral\")\n",
    "            elif a==b or b==c or c==a:\n",
    "                print(\"isoceles\")\n",
    "            else :\n",
    "                print(\"scalene\")\n",
    "        else:\n",
    "            print(\"not a triangle\")\n",
    "    else:\n",
    "        print(\"not positive\")\n",
    "else:\n",
    "    print(\"invalid\")"
   ]
  },
  {
   "cell_type": "code",
   "execution_count": 161,
   "id": "2d061dff-ac09-43a1-9b44-58052623e661",
   "metadata": {},
   "outputs": [
    {
     "name": "stdin",
     "output_type": "stream",
     "text": [
      "enter side a 5\n",
      "enter side b 12\n",
      "enter side c 13\n"
     ]
    },
    {
     "name": "stdout",
     "output_type": "stream",
     "text": [
      "scalene\n"
     ]
    }
   ],
   "source": [
    "a=input(\"enter side a\")\n",
    "b=input(\"enter side b\")\n",
    "c=input(\"enter side c\")\n",
    "if a.isdigit() and b.isdigit() and c.isdigit() :\n",
    "    a=float(a)\n",
    "    b=float(b)\n",
    "    c=float(c)\n",
    "    if a>0 and b>0 and c>0 :\n",
    "        if (a+b)>c and (b+c)>a and (c+a)>b:\n",
    "            if a==b==c :\n",
    "                print(\"equilateral\")\n",
    "            elif a==b or b==c or c==a:\n",
    "                print(\"isoceles\")\n",
    "            else :\n",
    "                print(\"scalene\")\n",
    "        else:\n",
    "            print(\"not a triangle\")\n",
    "    else:\n",
    "        print(\"not positive\")\n",
    "else:\n",
    "    print(\"invalid\")"
   ]
  },
  {
   "cell_type": "code",
   "execution_count": null,
   "id": "7816f59d-7556-469a-808c-6affe9f1c164",
   "metadata": {},
   "outputs": [],
   "source": []
  }
 ],
 "metadata": {
  "kernelspec": {
   "display_name": "Python [conda env:base] *",
   "language": "python",
   "name": "conda-base-py"
  },
  "language_info": {
   "codemirror_mode": {
    "name": "ipython",
    "version": 3
   },
   "file_extension": ".py",
   "mimetype": "text/x-python",
   "name": "python",
   "nbconvert_exporter": "python",
   "pygments_lexer": "ipython3",
   "version": "3.13.5"
  }
 },
 "nbformat": 4,
 "nbformat_minor": 5
}
