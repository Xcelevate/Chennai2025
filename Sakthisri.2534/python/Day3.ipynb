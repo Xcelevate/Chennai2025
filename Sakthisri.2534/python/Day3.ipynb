{
 "cells": [
  {
   "cell_type": "code",
   "execution_count": null,
   "id": "a3e5e3e2-5d2b-4d09-85f8-b90a587b1e85",
   "metadata": {},
   "outputs": [],
   "source": [
    "#Used to create arrays that store elements of the same data type."
   ]
  },
  {
   "cell_type": "code",
   "execution_count": 10,
   "id": "fd502736-c93b-4005-b7b5-232921eb4291",
   "metadata": {},
   "outputs": [
    {
     "name": "stdout",
     "output_type": "stream",
     "text": [
      "array('i', [-1, -2, -3])\n"
     ]
    }
   ],
   "source": [
    "import array as arr\n",
    "my_array = arr.array( 'i',[-1, -2, -3])  #- Type Code 'i' Represents signed integers (e.g., -1, 0, 42).All elements must be integers.\n",
    "print(my_array)"
   ]
  },
  {
   "cell_type": "code",
   "execution_count": 3,
   "id": "eca13b14-88d9-4952-afc4-69242562611d",
   "metadata": {},
   "outputs": [
    {
     "name": "stdout",
     "output_type": "stream",
     "text": [
      "-1\n"
     ]
    }
   ],
   "source": [
    "print(my_array[0])"
   ]
  },
  {
   "cell_type": "code",
   "execution_count": 14,
   "id": "ab60812e-514e-482f-adf6-5ec961cd16e0",
   "metadata": {},
   "outputs": [
    {
     "name": "stdout",
     "output_type": "stream",
     "text": [
      "array('i', [-1, -2, -3, 6, 6, 6])\n"
     ]
    }
   ],
   "source": [
    "#Adds a single element to the end of the array\n",
    "#append()\n",
    "#array_name.append(value) SYNTAX\n",
    "my_array.append(6)\n",
    "print(my_array)"
   ]
  },
  {
   "cell_type": "code",
   "execution_count": 15,
   "id": "4c259f9c-b52b-4396-b28c-2db5bedcb0d8",
   "metadata": {},
   "outputs": [
    {
     "name": "stdout",
     "output_type": "stream",
     "text": [
      "[1 2 3 4 5]\n"
     ]
    }
   ],
   "source": [
    "#NumPy is used for efficient numerical operations\n",
    "import numpy as np \n",
    "# creat a  numpy array \n",
    "numpy_array=np.array([1,2,3,4,5])\n",
    "print(numpy_array)"
   ]
  },
  {
   "cell_type": "code",
   "execution_count": 16,
   "id": "0273ab95-cb7b-49ad-8cba-cd8e0720f2fe",
   "metadata": {},
   "outputs": [
    {
     "name": "stdout",
     "output_type": "stream",
     "text": [
      "sri\n"
     ]
    }
   ],
   "source": [
    "import random\n",
    "FRUITS=[\"acice\",\"jon\",\"sri\",\"devid\"]\n",
    "print(random.choice(FRUITS))"
   ]
  },
  {
   "cell_type": "code",
   "execution_count": 20,
   "id": "7602f641-3280-49c7-869e-bc42eeeda4e8",
   "metadata": {},
   "outputs": [
    {
     "data": {
      "text/plain": [
       "6"
      ]
     },
     "execution_count": 20,
     "metadata": {},
     "output_type": "execute_result"
    }
   ],
   "source": [
    "random.choice(my_array)"
   ]
  },
  {
   "cell_type": "code",
   "execution_count": 22,
   "id": "f7811641-6791-4e4e-8ae3-24aac701d0cf",
   "metadata": {},
   "outputs": [
    {
     "data": {
      "text/plain": [
       "\u001b[1;31mInit signature:\u001b[0m \u001b[0marr\u001b[0m\u001b[1;33m.\u001b[0m\u001b[0marray\u001b[0m\u001b[1;33m(\u001b[0m\u001b[0mself\u001b[0m\u001b[1;33m,\u001b[0m \u001b[1;33m/\u001b[0m\u001b[1;33m,\u001b[0m \u001b[1;33m*\u001b[0m\u001b[0margs\u001b[0m\u001b[1;33m,\u001b[0m \u001b[1;33m**\u001b[0m\u001b[0mkwargs\u001b[0m\u001b[1;33m)\u001b[0m\u001b[1;33m\u001b[0m\u001b[1;33m\u001b[0m\u001b[0m\n",
       "\u001b[1;31mDocstring:\u001b[0m     \n",
       "array(typecode [, initializer]) -> array\n",
       "\n",
       "Return a new array whose items are restricted by typecode, and\n",
       "initialized from the optional initializer value, which must be a list,\n",
       "string or iterable over elements of the appropriate type.\n",
       "\n",
       "Arrays represent basic values and behave very much like lists, except\n",
       "the type of objects stored in them is constrained. The type is specified\n",
       "at object creation time by using a type code, which is a single character.\n",
       "The following type codes are defined:\n",
       "\n",
       "    Type code   C Type             Minimum size in bytes\n",
       "    'b'         signed integer     1\n",
       "    'B'         unsigned integer   1\n",
       "    'u'         Unicode character  2 (see note)\n",
       "    'h'         signed integer     2\n",
       "    'H'         unsigned integer   2\n",
       "    'i'         signed integer     2\n",
       "    'I'         unsigned integer   2\n",
       "    'l'         signed integer     4\n",
       "    'L'         unsigned integer   4\n",
       "    'q'         signed integer     8 (see note)\n",
       "    'Q'         unsigned integer   8 (see note)\n",
       "    'f'         floating-point     4\n",
       "    'd'         floating-point     8\n",
       "\n",
       "NOTE: The 'u' typecode corresponds to Python's unicode character. On\n",
       "narrow builds this is 2-bytes on wide builds this is 4-bytes.\n",
       "\n",
       "NOTE: The 'q' and 'Q' type codes are only available if the platform\n",
       "C compiler used to build Python supports 'long long', or, on Windows,\n",
       "'__int64'.\n",
       "\n",
       "Methods:\n",
       "\n",
       "append() -- append a new item to the end of the array\n",
       "buffer_info() -- return information giving the current memory info\n",
       "byteswap() -- byteswap all the items of the array\n",
       "count() -- return number of occurrences of an object\n",
       "extend() -- extend array by appending multiple elements from an iterable\n",
       "fromfile() -- read items from a file object\n",
       "fromlist() -- append items from the list\n",
       "frombytes() -- append items from the string\n",
       "index() -- return index of first occurrence of an object\n",
       "insert() -- insert a new item into the array at a provided position\n",
       "pop() -- remove and return item (default last)\n",
       "remove() -- remove first occurrence of an object\n",
       "reverse() -- reverse the order of the items in the array\n",
       "tofile() -- write all items to a file object\n",
       "tolist() -- return the array converted to an ordinary list\n",
       "tobytes() -- return the array converted to a string\n",
       "\n",
       "Attributes:\n",
       "\n",
       "typecode -- the typecode character used to create the array\n",
       "itemsize -- the length in bytes of one array item\n",
       "\u001b[1;31mType:\u001b[0m           type\n",
       "\u001b[1;31mSubclasses:\u001b[0m     "
      ]
     },
     "metadata": {},
     "output_type": "display_data"
    }
   ],
   "source": [
    "import array as arr\n",
    "arr.array?"
   ]
  },
  {
   "cell_type": "code",
   "execution_count": 23,
   "id": "ec25c4d5-c3e0-435f-8ac8-fd8f7590b415",
   "metadata": {},
   "outputs": [
    {
     "name": "stdout",
     "output_type": "stream",
     "text": [
      "bob\n"
     ]
    }
   ],
   "source": [
    "import random \n",
    "friends=[\"alice\",\"bob\",\"dood\",\"luca\",\"tod\"]\n",
    "random_index=random.randint(0,4)\n",
    "print(friends[random_index])\n"
   ]
  },
  {
   "cell_type": "raw",
   "id": "8a8ff250-9256-409c-9f1d-51b461604992",
   "metadata": {},
   "source": [
    "Lists are used to store multiple items in a single variable.\n",
    "Lists are created using square brackets"
   ]
  },
  {
   "cell_type": "code",
   "execution_count": 36,
   "id": "21f5df50-cc34-4dd8-a8b1-7aa41bc3fc6b",
   "metadata": {},
   "outputs": [
    {
     "name": "stdout",
     "output_type": "stream",
     "text": [
      "['apple', 'banana', 'cherry']\n"
     ]
    }
   ],
   "source": [
    "#CRATE A LIST\n",
    "mylist=[\"apple\",\"banana\",\"cherry\"]\n",
    "print(mylist)"
   ]
  },
  {
   "cell_type": "code",
   "execution_count": 37,
   "id": "c41392d9-3206-431d-8825-71373c83e7c2",
   "metadata": {},
   "outputs": [
    {
     "name": "stdout",
     "output_type": "stream",
     "text": [
      "['apple', 'banana', 'cherry', 'apple', 'cherry']\n"
     ]
    }
   ],
   "source": [
    "#ists allow duplicate values\n",
    "thislist = [\"apple\", \"banana\", \"cherry\", \"apple\", \"cherry\"]\n",
    "print(thislist)"
   ]
  },
  {
   "cell_type": "code",
   "execution_count": 39,
   "id": "d04a5958-a808-4045-9a42-3869cb35029e",
   "metadata": {},
   "outputs": [
    {
     "name": "stdout",
     "output_type": "stream",
     "text": [
      "3\n"
     ]
    }
   ],
   "source": [
    "#Print the number of items in the list:\n",
    "thislist = [\"apple\", \"banana\", \"cherry\"]\n",
    "print(len(thislist))"
   ]
  },
  {
   "cell_type": "code",
   "execution_count": 41,
   "id": "45a70a6f-04ad-4ec5-8689-4446d7b0a825",
   "metadata": {},
   "outputs": [
    {
     "name": "stdout",
     "output_type": "stream",
     "text": [
      "['apple', 'banana', 'cherry']\n",
      "[1, 5, 7, 9, 3]\n",
      "[True, False, False]\n"
     ]
    }
   ],
   "source": [
    "#List items can be of any data type\n",
    "list1 = [\"apple\", \"banana\", \"cherry\"]\n",
    "list2 = [1, 5, 7, 9, 3]\n",
    "list3 = [True, False, False]\n",
    "print(list1)\n",
    "print(list2)\n",
    "print(list3)\n"
   ]
  },
  {
   "cell_type": "code",
   "execution_count": 44,
   "id": "a782ac33-7e2f-496e-9a2d-e58cbedd5707",
   "metadata": {},
   "outputs": [
    {
     "name": "stdout",
     "output_type": "stream",
     "text": [
      "['abc', 34, True, 40, 'male']\n",
      "<class 'list'>\n"
     ]
    }
   ],
   "source": [
    "#A list can contain different data types\n",
    "list1 = [\"abc\", 34, True, 40, \"male\"]\n",
    "print(list1)\n",
    "print(type(list1))"
   ]
  },
  {
   "cell_type": "code",
   "execution_count": 45,
   "id": "48c8dcfe-d8c3-45ba-a7d4-a1127ef1c34a",
   "metadata": {},
   "outputs": [
    {
     "name": "stdout",
     "output_type": "stream",
     "text": [
      "['apple', 'banana', 'cherry']\n"
     ]
    }
   ],
   "source": [
    "#It is also possible to use the list() constructor when creating a new list.\n",
    "thislist = list((\"apple\", \"banana\", \"cherry\")) # note the double round-brackets\n",
    "print(thislist)"
   ]
  },
  {
   "cell_type": "code",
   "execution_count": 2,
   "id": "d6564dde-983c-44cd-8d7e-540f0b221c67",
   "metadata": {},
   "outputs": [
    {
     "name": "stdout",
     "output_type": "stream",
     "text": [
      "Charlie\n"
     ]
    }
   ],
   "source": [
    "import random\n",
    "friends=['Alice','Bob','Charlie','David','Eve']\n",
    "print(random.choice(friends))\n"
   ]
  },
  {
   "cell_type": "code",
   "execution_count": 7,
   "id": "409319e7-307c-437b-948d-d2c51a0c4a7b",
   "metadata": {},
   "outputs": [
    {
     "name": "stdout",
     "output_type": "stream",
     "text": [
      "Bob\n"
     ]
    }
   ],
   "source": [
    "friends=['Alice','Bob','Charlie','David','Eve']\n",
    "random_index=random.randint(0,4)\n",
    "print(friends[random_index])\n"
   ]
  },
  {
   "cell_type": "code",
   "execution_count": 11,
   "id": "a3670849-08d5-437f-8965-66f185f6af56",
   "metadata": {},
   "outputs": [
    {
     "name": "stdout",
     "output_type": "stream",
     "text": [
      "Nectarines\n"
     ]
    }
   ],
   "source": [
    "#Nested List\n",
    "fruits=[\"Strawberry\",\"Nectarines\",\"Apples\",\"Mango\",\"Grapes\",\"Avacado\"]\n",
    "vegetables = [\"Onion\",\"Pepper\",\"Brinjal\",\"Tomatato\",\"Potato\"]\n",
    "dirty_dozen=[fruits,vegetables]\n",
    "print(dirty_dozen[0][1])"
   ]
  },
  {
   "cell_type": "code",
   "execution_count": 12,
   "id": "53e4d35b-bbae-41a7-976f-480428541c2e",
   "metadata": {},
   "outputs": [],
   "source": [
    "#exsisting list\n",
    "my_list=['apple','banana','cherry','date','strawberry ']\n"
   ]
  },
  {
   "cell_type": "code",
   "execution_count": 20,
   "id": "a8913f85-9bec-4233-9bbf-0a75966b426d",
   "metadata": {},
   "outputs": [
    {
     "name": "stdout",
     "output_type": "stream",
     "text": [
      "random item: apple\n"
     ]
    }
   ],
   "source": [
    "#select a single random element\n",
    "random_item=random.choice(my_list)\n",
    "print(f\"random item: {random_item}\")\n"
   ]
  },
  {
   "cell_type": "code",
   "execution_count": null,
   "id": "c695af54-1a5e-452d-9ec1-6e97e6dd0750",
   "metadata": {},
   "outputs": [],
   "source": [
    "# select 3 unique random elements (with"
   ]
  },
  {
   "cell_type": "code",
   "execution_count": 33,
   "id": "3aba6a9f-1683-4402-8938-a9d538717782",
   "metadata": {},
   "outputs": [
    {
     "name": "stdout",
     "output_type": "stream",
     "text": [
      "['spianch', 'kale', 'tomatoes', 'potatoes']\n"
     ]
    }
   ],
   "source": [
    "fruitz=['apple','orange','banana','guava']\n",
    "vegetablez=['spianch','kale','tomatoes','potatoes']\n",
    "dirty_dozen=[fruitz,vegetablez]\n",
    "index1=random.randint(0,1)\n",
    "index2=random.randint(0,2)\n",
    "if index1<len(fruitz):\n",
    "    print(dirty_dozen[index1])\n",
    "else:\n",
    "    print(\"no\")"
   ]
  },
  {
   "cell_type": "code",
   "execution_count": 55,
   "id": "ef956d7b-93e7-4d74-905e-192cbc6cab00",
   "metadata": {},
   "outputs": [
    {
     "name": "stdout",
     "output_type": "stream",
     "text": [
      "berry pie\n",
      "mango pie\n",
      "dragon fruit pie\n",
      "egg fruit pie\n"
     ]
    }
   ],
   "source": [
    "#for loop\n",
    "fruits=[\"berry\",\"mango\",\"dragon fruit\",\"egg fruit\"]\n",
    "for i in fruits:\n",
    "    print(i +\" \"+ \"pie\")\n",
    "    "
   ]
  },
  {
   "cell_type": "code",
   "execution_count": 61,
   "id": "a91f40f2-26b5-4646-b94e-128bae3fd553",
   "metadata": {},
   "outputs": [
    {
     "name": "stdout",
     "output_type": "stream",
     "text": [
      "spianch pie\n",
      "kale pie\n",
      "tomatoes pie\n",
      "potatoes pie\n"
     ]
    }
   ],
   "source": [
    "fruits=[\"berry\",\"mango\",\"dragon fruit\",\"egg fruit\"]\n",
    "for i in dirty_dozen[1]:\n",
    "    print(i +\" \"+ \"pie\")"
   ]
  },
  {
   "cell_type": "raw",
   "id": "a3d5c804-c814-4c12-9f11-dd422f5f0517",
   "metadata": {},
   "source": [
    "#CREATE FUNCTION\n",
    "def function_name():"
   ]
  },
  {
   "cell_type": "code",
   "execution_count": 58,
   "id": "0cfe3fc7-84a8-4fa3-817d-95c2cc5d4799",
   "metadata": {},
   "outputs": [],
   "source": [
    "## SUM OF INTEGERS USING LOOP AND SUM() QUESTION-1\n",
    "def sumMarks():\n",
    "    n=int(input(\"Enter number of numbers:\"))\n",
    "    numbers=[]\n",
    "    result=0\n",
    "    for i in range(n):\n",
    "        num=int(input(\"Enter number:\"))\n",
    "        numbers.append(num)\n",
    "    for i in numbers:\n",
    "        result+= i\n",
    "        \n",
    "    print(\"SUM OF THE GIVEN NUMBERS:\",result)"
   ]
  },
  {
   "cell_type": "code",
   "execution_count": 59,
   "id": "00ae9aee-a418-41f3-9ead-d3fe581fbf73",
   "metadata": {},
   "outputs": [
    {
     "name": "stdin",
     "output_type": "stream",
     "text": [
      "Enter number of numbers: 2\n",
      "Enter number: 1\n",
      "Enter number: 1\n"
     ]
    },
    {
     "name": "stdout",
     "output_type": "stream",
     "text": [
      "SUM OF THE GIVEN NUMBERS: 2\n"
     ]
    }
   ],
   "source": [
    "sumMarks()"
   ]
  },
  {
   "cell_type": "code",
   "execution_count": 2,
   "id": "077f893d-c255-48a0-adb0-fa6c34a5edd3",
   "metadata": {},
   "outputs": [
    {
     "name": "stdout",
     "output_type": "stream",
     "text": [
      "1\n",
      "2\n",
      "Fizz\n",
      "4\n",
      "Buzz\n",
      "Fizz\n",
      "7\n",
      "8\n",
      "Fizz\n",
      "Buzz\n",
      "11\n",
      "Fizz\n",
      "13\n",
      "14\n",
      "Fizz Buzz\n",
      "16\n",
      "17\n",
      "Fizz\n",
      "19\n",
      "Buzz\n"
     ]
    }
   ],
   "source": [
    "#FIZZ BUZZ TYPE\n",
    "#Fizz is divisible by 3,buzz is divisible by 5 and fizzbuzz if divisible by both\n",
    "for i in range(1, 21):\n",
    "    if (i%3==0) and (i%5==0):\n",
    "        print(\"Fizz Buzz\")\n",
    "    elif(i%3==0) :\n",
    "        print(\"Fizz\")\n",
    "    elif (i%5==0):\n",
    "        print(\"Buzz\")\n",
    "    else:\n",
    "        print(i)\n",
    "        \n"
   ]
  },
  {
   "cell_type": "code",
   "execution_count": 3,
   "id": "b2a99fe8-48e6-41c5-898d-f2de4fd6414d",
   "metadata": {},
   "outputs": [
    {
     "name": "stdin",
     "output_type": "stream",
     "text": [
      "Enter height: 1.64\n",
      "Enter weight: 60\n"
     ]
    },
    {
     "name": "stdout",
     "output_type": "stream",
     "text": [
      "BMI: 22.31\n",
      "NORMAL WEIGHT\n"
     ]
    }
   ],
   "source": [
    "height=float(input(\"Enter height:\"))\n",
    "weight=float(input(\"Enter weight:\"))\n",
    "bmi=(weight)/(height**2)\n",
    "print(\"BMI:\",round((bmi),2))\n",
    "if bmi < 18.5:\n",
    "    print(\"UNDER WEIGHT\")\n",
    "elif 18.5<= bmi <=24.9:\n",
    "    print(\"NORMAL WEIGHT\")\n",
    "elif 25 <= bmi <=29.9:\n",
    "    print(\"OVER WEIGHT\")\n",
    "elif bmi>30:\n",
    "    print(\"OBESITY\")\n",
    "else:\n",
    "    print(\"Invalid details\")\n"
   ]
  },
  {
   "cell_type": "code",
   "execution_count": 1,
   "id": "aecac7ee-d3af-4768-af8a-5bdebcfb158d",
   "metadata": {},
   "outputs": [
    {
     "name": "stdin",
     "output_type": "stream",
     "text": [
      "Enter word1: viki\n",
      "Enter word2: kivi\n"
     ]
    },
    {
     "name": "stdout",
     "output_type": "stream",
     "text": [
      "yes\n"
     ]
    }
   ],
   "source": [
    "word1=input(\"Enter word1:\")\n",
    "word2=input(\"Enter word2:\")\n",
    "if word1.isalpha() and word2.isalpha() and len(word1)==len(word2):\n",
    "    temp=list(word2) \n",
    "    for i in word1:\n",
    "        if i in temp:\n",
    "            temp.remove(i)\n",
    "        else:\n",
    "            print(\"no\")\n",
    "            break\n",
    "    else:\n",
    "        print(\"yes\")\n",
    "else:\n",
    "    print(\"no\")\n"
   ]
  },
  {
   "cell_type": "code",
   "execution_count": 51,
   "id": "fb63c3cb-9a31-45ad-b9c3-fa3e707b95e1",
   "metadata": {},
   "outputs": [
    {
     "name": "stdin",
     "output_type": "stream",
     "text": [
      "Enter your password: gfd\n"
     ]
    },
    {
     "name": "stdout",
     "output_type": "stream",
     "text": [
      "Enter more than 8 char\n"
     ]
    }
   ],
   "source": [
    "password = input(\"Enter your password:\")\n",
    "special_char= ['!','@','#','$','%','^','&','*','(',')','-','_','+','=',':',';']\n",
    "upper=lower=digit=special=0\n",
    "if len(password)>=8:\n",
    "    for i in password:\n",
    "        if i.isupper():\n",
    "            upper+= 1\n",
    "        elif i.islower():\n",
    "            lower+= 1\n",
    "        elif i.isdigit():\n",
    "            digit+= 1\n",
    "        elif i in special_char:\n",
    "            special+= 1\n",
    "    if len(password)>=8 and upper>=1 and lower>=1 and digit>=1 and special>=2:\n",
    "        print(\"Very Strong\")\n",
    "    elif len(password) >= 8 and (upper+lower+digit+special)>=4:\n",
    "        print(\"Strong\")\n",
    "    else:\n",
    "        print(\"Weak\")\n",
    "else:\n",
    "    print(\"Enter more than 8 char\")"
   ]
  },
  {
   "cell_type": "code",
   "execution_count": null,
   "id": "ea6b8f66-18e8-442b-b530-04b42a2d429b",
   "metadata": {},
   "outputs": [],
   "source": [
    "word1=input(\"Enter word1:\")\n",
    "word2=input(\"Enter word2:\")\n",
    "if word1.isalpha() and word2.isalpha() and len(word1)==len(word2):\n",
    "    "
   ]
  },
  {
   "cell_type": "code",
   "execution_count": null,
   "id": "41d3c3ae-d0c9-4f5b-af01-f308a1eecc6d",
   "metadata": {},
   "outputs": [],
   "source": []
  },
  {
   "cell_type": "code",
   "execution_count": null,
   "id": "173ac2cd-ec17-49a0-8799-15ed275b2048",
   "metadata": {},
   "outputs": [],
   "source": []
  }
 ],
 "metadata": {
  "kernelspec": {
   "display_name": "Python [conda env:base] *",
   "language": "python",
   "name": "conda-base-py"
  },
  "language_info": {
   "codemirror_mode": {
    "name": "ipython",
    "version": 3
   },
   "file_extension": ".py",
   "mimetype": "text/x-python",
   "name": "python",
   "nbconvert_exporter": "python",
   "pygments_lexer": "ipython3",
   "version": "3.13.5"
  }
 },
 "nbformat": 4,
 "nbformat_minor": 5
}
