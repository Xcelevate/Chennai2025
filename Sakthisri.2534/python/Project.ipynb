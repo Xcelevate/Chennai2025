{
 "cells": [
  {
   "cell_type": "code",
   "execution_count": 6,
   "id": "f505cd58-2624-4d65-990f-472d73e2d8cb",
   "metadata": {},
   "outputs": [
    {
     "name": "stdout",
     "output_type": "stream",
     "text": [
      "Welcome to Treasure Island.\n",
      "Your mission is to find the treasure.\n",
      "You're at a cross road. \n",
      "Where do you want to go?\n"
     ]
    },
    {
     "name": "stdin",
     "output_type": "stream",
     "text": [
      " Type \"left\" or \"right\" \n",
      " left\n"
     ]
    },
    {
     "name": "stdout",
     "output_type": "stream",
     "text": [
      "You've come to a lake. There is an island in the middle of the lake.\n"
     ]
    },
    {
     "name": "stdin",
     "output_type": "stream",
     "text": [
      "Type \"wait\" to wait for a boat. Type \"swim\" to swim across. wait\n"
     ]
    },
    {
     "name": "stdout",
     "output_type": "stream",
     "text": [
      "You arrive at the island unharmed. There is a house with 3 doors.\n"
     ]
    },
    {
     "name": "stdin",
     "output_type": "stream",
     "text": [
      "One red, one yellow and one blue. Which colour do you choose? yellow\n"
     ]
    },
    {
     "name": "stdout",
     "output_type": "stream",
     "text": [
      "You found the treasure! You Win!\n"
     ]
    }
   ],
   "source": [
    "#TRESSURE HUNT-PROJECT1\n",
    "print(\"Welcome to Treasure Island.\\nYour mission is to find the treasure.\\nYou're at a cross road. \\nWhere do you want to go?\")\n",
    "option=['left','right']\n",
    "direction=input(' Type \"left\" or \"right\" \\n').lower()\n",
    "if(direction==\"left\"):\n",
    "    print(\"You've come to a lake. There is an island in the middle of the lake.\")\n",
    "    choice1=input('Type \"wait\" to wait for a boat. Type \"swim\" to swim across.').lower()\n",
    "    if choice1==\"wait\":\n",
    "        print(\"You arrive at the island unharmed. There is a house with 3 doors.\")\n",
    "        choice2=input(\"One red, one yellow and one blue. Which colour do you choose?\").lower()\n",
    "        if choice2==\"yellow\":\n",
    "            print(\"You found the treasure! You Win!\")\n",
    "        elif choice2==\"red\":\n",
    "            print(\"It's a room full of fire. Game Over.\")\n",
    "        elif choice2==\"blue\":\n",
    "            print(\"You enter a room of beasts. Game Over.\")\n",
    "        else:\n",
    "            print(\"Wrong colour..Exit from game\")\n",
    "    elif choice1==\"swim\":\n",
    "        print(\"You get attacked by an angry trout. Game Over.\")\n",
    "    else:\n",
    "        print(\"Oops..Exit from the Game..\")\n",
    "        \n",
    "elif(direction==\"right\"):\n",
    "    print(\"You fell into a hole. Game Over.\")\n",
    "else:\n",
    "    print(\"Oops..Exit from the Game..\")"
   ]
  },
  {
   "cell_type": "code",
   "execution_count": 7,
   "id": "f392e1d0-bed1-4040-8727-908914de927e",
   "metadata": {},
   "outputs": [
    {
     "name": "stdin",
     "output_type": "stream",
     "text": [
      "Enter your option: stone\n"
     ]
    },
    {
     "name": "stdout",
     "output_type": "stream",
     "text": [
      "Computer Choose: stone\n",
      "User Choose: stone\n",
      "Match draw..Try again..\n"
     ]
    }
   ],
   "source": [
    "#StonePaperScissor Project-2\n",
    "import random\n",
    "options=['stone','paper','scissor']\n",
    "computer_choose=random.choice(options)\n",
    "user_choose=(input(\"Enter your option:\")).lower()\n",
    "print(\"Computer Choose:\",computer_choose)\n",
    "print(\"User Choose:\",user_choose)\n",
    "if user_choose in options:\n",
    "    if (computer_choose==user_choose):\n",
    "        print(\"Match draw..Try again..\")\n",
    "    elif(computer_choose=='stone' and user_choose=='scissor') or (computer_choose=='paper' and user_choose=='stone') or (computer_choose=='scissor' and user_choose=='paper'):\n",
    "        print(\"Computer win the match..You lost..\")\n",
    "    else:\n",
    "        print(\"You win the match..\")\n",
    "else:\n",
    "    print(\"Enter a valid option\")"
   ]
  },
  {
   "cell_type": "code",
   "execution_count": 5,
   "id": "ac37c99a-0ebb-4855-950c-33c8f8f2791f",
   "metadata": {},
   "outputs": [
    {
     "name": "stdin",
     "output_type": "stream",
     "text": [
      "Enter total bill: 200\n",
      "Enter number of members: 4\n",
      "Enter tip percentage: 3.6\n"
     ]
    },
    {
     "name": "stdout",
     "output_type": "stream",
     "text": [
      "Total tip amount: 200\n",
      "New bill: 207\n",
      "Tip amount per head: 1.8000000000000003\n"
     ]
    }
   ],
   "source": [
    "#tip_program Project-3\n",
    "total_bill=input(\"Enter total bill:\")\n",
    "no_members=input(\"Enter number of members:\")\n",
    "tip_percent=input(\"Enter tip percentage:\")\n",
    "if(no_members.isdigit()) and (total_bill.replace('.','').isdigit())and (no_members.replace('.','').isdigit()) and (tip_percent.replace('.','').isdigit()):\n",
    "    new_total_bill=float(total_bill)\n",
    "    new_no_members=int(no_members)\n",
    "    new_tip_percent=float(tip_percent)\n",
    "    if new_no_members<=5 and new_tip_percent<=5 and new_total_bill>=100:\n",
    "        tip_amount=(new_tip_percent)/100*new_total_bill\n",
    "        print(\"Total tip amount:\",total_bill)\n",
    "        new_bill=round((int(total_bill)+tip_amount))\n",
    "        print(\"New bill:\",new_bill)\n",
    "        tip_per_head=tip_amount/int(no_members)\n",
    "        print(\"Tip amount per head:\",tip_per_head)\n",
    "    else:\n",
    "        print(\"Sorry,NO.of meembers <=5 and percentage should be <=5\",\"\\nEnter details carefully..\")\n",
    "else:\n",
    "    print(\"Please,Enter a valid details..\")\n",
    "    \n",
    "    "
   ]
  },
  {
   "cell_type": "code",
   "execution_count": 3,
   "id": "5c3a9d65-b506-4194-9881-51758632523b",
   "metadata": {},
   "outputs": [
    {
     "name": "stdout",
     "output_type": "stream",
     "text": [
      "Welcome to the Calculator App!\n"
     ]
    },
    {
     "name": "stdin",
     "output_type": "stream",
     "text": [
      "What is the first number: 5\n"
     ]
    },
    {
     "name": "stdout",
     "output_type": "stream",
     "text": [
      "Operators:\n",
      "+\n",
      "-\n",
      "*\n",
      "/\n",
      "\n"
     ]
    },
    {
     "name": "stdin",
     "output_type": "stream",
     "text": [
      "Choose your operator: /\n",
      "What is the next number: 5\n"
     ]
    },
    {
     "name": "stdout",
     "output_type": "stream",
     "text": [
      "5 / 5 = 1.0\n",
      "Enter 'es' to continue\n",
      "Enter 'n' to Restart\n",
      "Enter 'Stop' to end the calculation\n"
     ]
    },
    {
     "name": "stdin",
     "output_type": "stream",
     "text": [
      "Enter further_choice: stop\n"
     ]
    },
    {
     "name": "stdout",
     "output_type": "stream",
     "text": [
      "Thank you for using the calculator!\n"
     ]
    }
   ],
   "source": [
    "#PROJECT-4 Calculator\n",
    "\n",
    "print(\"Welcome to the Calculator App!\")\n",
    "num1=input(\"What is the first number:\")\n",
    "if num1.replace('.','').isdigit():\n",
    "    while True:\n",
    "        op=['+','-','*','/']\n",
    "        print(\"Operators:\\n+\\n-\\n*\\n/\\n\")\n",
    "        operator=input(\"Choose your operator:\")\n",
    "        if operator in op:\n",
    "            num2=input(\"What is the next number:\")\n",
    "            if num2.replace('.','').isdigit():\n",
    "                if operator=='+':\n",
    "                    result=float(num1)+float(num2)\n",
    "                elif operator=='-':\n",
    "                    result=float(num1)-float(num2)\n",
    "                elif operator=='*':\n",
    "                    result=float(num1)*float(num2)\n",
    "                elif operator=='/':\n",
    "                    if float(num2)==0:\n",
    "                        print(\"Error,cannot divisible by zero!!\")\n",
    "                        break\n",
    "                    else:\n",
    "                        result=float(num1)/float(num2)\n",
    "            else:\n",
    "                print(\"pls,Enter valid number\")\n",
    "                break\n",
    "        else:\n",
    "            print(\"Invalid Operator\")\n",
    "            break\n",
    "        print(f\"{num1} {operator} {num2} = {result}\")\n",
    "        print(\"Enter 'es' to continue\\nEnter 'n' to Restart\\nEnter 'Stop' to end the calculation\")\n",
    "        choice=['es','n','stop']\n",
    "        further_choice=input(\"Enter further_choice:\").lower()\n",
    "        if further_choice.islower() and further_choice in choice:\n",
    "            if further_choice=='es':\n",
    "                num1=result\n",
    "                print(\"your result as your first number\",result)\n",
    "                continue\n",
    "            elif further_choice=='n':\n",
    "                new_num=input(\"What is the first new number:\")\n",
    "                if new_num.replace('.','').isdigit():\n",
    "                    new_num1=float(new_num)\n",
    "                    continue\n",
    "                else:\n",
    "                    print(\"pls,Enter valid number\")\n",
    "                    break\n",
    "            elif further_choice=='stop':\n",
    "                print(\"Thank you for using the calculator!\")\n",
    "                break\n",
    "        else:\n",
    "             print(\"Invalid choice..\")\n",
    "             break\n",
    "else:\n",
    "    print(\"Enter a valid number\")\n",
    "                              \n",
    "                        \n",
    "                \n",
    "                    \n",
    "                \n"
   ]
  },
  {
   "cell_type": "raw",
   "id": "709a71a0-3ce2-4759-a7f5-2761e8c4e4c9",
   "metadata": {},
   "source": [
    "#PROJECT-5 Hurdle one to Hurdle five:\n",
    "while not at_goal():\n",
    "    if wall_on_right():\n",
    "        if front_is_clear():\n",
    "            move()\n",
    "        elif wall_in_front():\n",
    "            turn_left()\n",
    "    elif right_is_clear():\n",
    "        for i in range(3): turn_left(); \n",
    "        move()     \n"
   ]
  }
 ],
 "metadata": {
  "kernelspec": {
   "display_name": "Python [conda env:base] *",
   "language": "python",
   "name": "conda-base-py"
  },
  "language_info": {
   "codemirror_mode": {
    "name": "ipython",
    "version": 3
   },
   "file_extension": ".py",
   "mimetype": "text/x-python",
   "name": "python",
   "nbconvert_exporter": "python",
   "pygments_lexer": "ipython3",
   "version": "3.13.5"
  }
 },
 "nbformat": 4,
 "nbformat_minor": 5
}
