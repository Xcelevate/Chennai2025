{
 "cells": [
  {
   "cell_type": "code",
   "execution_count": 1,
   "id": "71e49b34-c927-4994-a155-61968b7a3077",
   "metadata": {},
   "outputs": [
    {
     "name": "stdout",
     "output_type": "stream",
     "text": [
      "10\n"
     ]
    }
   ],
   "source": [
    "#Randomization\n",
    "#randInt(a,b)\n",
    "\n",
    "import random\n",
    "randomInt=random.randint(10,10)\n",
    "print(randomInt)\n"
   ]
  },
  {
   "cell_type": "code",
   "execution_count": 14,
   "id": "36d998a1-4232-4db5-bc68-c2cfd8cafc2b",
   "metadata": {},
   "outputs": [
    {
     "data": {
      "text/plain": [
       "3.14"
      ]
     },
     "execution_count": 14,
     "metadata": {},
     "output_type": "execute_result"
    }
   ],
   "source": [
    "import sample1\n",
    "sample1.my_number"
   ]
  },
  {
   "cell_type": "code",
   "execution_count": 16,
   "id": "463176e5-584c-4d4b-a2b7-2580b692534e",
   "metadata": {},
   "outputs": [
    {
     "name": "stdout",
     "output_type": "stream",
     "text": [
      "5.58\n"
     ]
    }
   ],
   "source": [
    "randomNum=random.random()*10\n",
    "print(round(randomNum,2))"
   ]
  },
  {
   "cell_type": "code",
   "execution_count": 24,
   "id": "8c1f4bf9-2bbf-4707-a641-7690a29477cc",
   "metadata": {},
   "outputs": [
    {
     "name": "stdout",
     "output_type": "stream",
     "text": [
      "3.85\n"
     ]
    }
   ],
   "source": [
    "print(round((random.uniform(1,5)),2))"
   ]
  },
  {
   "cell_type": "code",
   "execution_count": 36,
   "id": "1dfd2804-f943-4420-be3e-7e2d36af7388",
   "metadata": {},
   "outputs": [
    {
     "name": "stdout",
     "output_type": "stream",
     "text": [
      "0\n",
      "HEADS\n"
     ]
    }
   ],
   "source": [
    "#print head or tails randomly\n",
    "randbinary=random.randint(0,1)\n",
    "print(randbinary)\n",
    "if randbinary==0 :\n",
    "    print(\"HEADS\")\n",
    "else:\n",
    "    print(\"TAILS\")"
   ]
  },
  {
   "cell_type": "raw",
   "id": "882a629e-a8c9-4eb6-9e02-3eb778bae3b5",
   "metadata": {},
   "source": [
    "Logical Expression\n",
    "\n",
    "A and B\n",
    "A or B\n",
    "A not B\n",
    "not(A and B)\n",
    "not(A or B)"
   ]
  },
  {
   "cell_type": "code",
   "execution_count": 47,
   "id": "13d0056b-87cc-4f42-93db-361eec26ad4c",
   "metadata": {},
   "outputs": [
    {
     "name": "stdout",
     "output_type": "stream",
     "text": [
      "valid\n"
     ]
    }
   ],
   "source": [
    "a=10\n",
    "if a>9 or a==0:\n",
    "    print(\"valid\")\n",
    "else:\n",
    "    print(\"invalid\")"
   ]
  },
  {
   "cell_type": "code",
   "execution_count": 45,
   "id": "9c57e8c8-6103-4049-921e-1b6b6ef24287",
   "metadata": {},
   "outputs": [
    {
     "data": {
      "text/plain": [
       "False"
      ]
     },
     "execution_count": 45,
     "metadata": {},
     "output_type": "execute_result"
    }
   ],
   "source": [
    "not(True or ((True &  False)&(False & True)& False))"
   ]
  },
  {
   "cell_type": "code",
   "execution_count": 59,
   "id": "29633f28-578c-4d05-b96f-20ba4f1cb04d",
   "metadata": {},
   "outputs": [
    {
     "name": "stdin",
     "output_type": "stream",
     "text": [
      "Empty or NonEmpty t\n",
      "Empty or NonEmpty \n"
     ]
    },
    {
     "name": "stdout",
     "output_type": "stream",
     "text": [
      "True\n",
      "False\n"
     ]
    },
    {
     "data": {
      "text/plain": [
       "True"
      ]
     },
     "execution_count": 59,
     "metadata": {},
     "output_type": "execute_result"
    }
   ],
   "source": [
    "A=bool(input(\"Empty or NonEmpty\"))\n",
    "B=bool(input(\"Empty or NonEmpty\"))\n",
    "print(A)\n",
    "print(B)\n",
    "(A or B) and not(A and B)"
   ]
  },
  {
   "cell_type": "code",
   "execution_count": 60,
   "id": "bd666a08-4ada-4f92-9d69-95a25a65333c",
   "metadata": {},
   "outputs": [
    {
     "data": {
      "text/plain": [
       "True"
      ]
     },
     "execution_count": 60,
     "metadata": {},
     "output_type": "execute_result"
    }
   ],
   "source": [
    "(A and not B) or (B and not A) "
   ]
  },
  {
   "cell_type": "code",
   "execution_count": 68,
   "id": "ccb3b50f-7cc5-47eb-b65f-50ce031f0404",
   "metadata": {},
   "outputs": [
    {
     "name": "stdout",
     "output_type": "stream",
     "text": [
      "True \n",
      " False\n"
     ]
    }
   ],
   "source": [
    "a1=True\n",
    "b1=False\n",
    "z=not(a1 and b1)\n",
    "y=not(a1 or b1)\n",
    "print(z,\"\\n\",y)\n"
   ]
  },
  {
   "cell_type": "code",
   "execution_count": 71,
   "id": "33eaf4d6-1e30-41f7-a290-ace9f281a0be",
   "metadata": {},
   "outputs": [
    {
     "data": {
      "text/plain": [
       "False"
      ]
     },
     "execution_count": 71,
     "metadata": {},
     "output_type": "execute_result"
    }
   ],
   "source": [
    "((not(2!=3) and (4<6))or((6!=7)and(8<2)))"
   ]
  },
  {
   "cell_type": "code",
   "execution_count": 78,
   "id": "54c62bc3-39ea-4f68-b588-fd03972fff09",
   "metadata": {},
   "outputs": [
    {
     "name": "stdin",
     "output_type": "stream",
     "text": [
      " 19\n"
     ]
    },
    {
     "name": "stdout",
     "output_type": "stream",
     "text": [
      "ODD\n"
     ]
    }
   ],
   "source": [
    "#odd even check\n",
    "num1=int(input())\n",
    "if(num1%2==0):\n",
    "    print(\"EVEN\")\n",
    "else:\n",
    "    print(\"ODD\")"
   ]
  },
  {
   "cell_type": "code",
   "execution_count": 87,
   "id": "57d9e012-6c78-4a41-b133-9e7ae5a4ea44",
   "metadata": {},
   "outputs": [
    {
     "name": "stdin",
     "output_type": "stream",
     "text": [
      " 3\n",
      " 4\n"
     ]
    },
    {
     "name": "stdout",
     "output_type": "stream",
     "text": [
      "4\n"
     ]
    }
   ],
   "source": [
    "#check whether a number is greater than ,less than or eqal to the second number\n",
    "N1=int(input())\n",
    "N2=int(input())\n",
    "if(N1>N2):\n",
    "    print(N1)\n",
    "elif(N2>N1):\n",
    "    print(N2)\n",
    "else:\n",
    "    print(\"same\")"
   ]
  },
  {
   "cell_type": "code",
   "execution_count": 5,
   "id": "045affa5-47c8-4b44-95d9-0bb65cd77a4b",
   "metadata": {},
   "outputs": [
    {
     "name": "stdin",
     "output_type": "stream",
     "text": [
      " 101\n"
     ]
    },
    {
     "name": "stdout",
     "output_type": "stream",
     "text": [
      "Invalid Number\n"
     ]
    }
   ],
   "source": [
    "#Grading system\n",
    "marks=int(input())\n",
    "if marks>=90 and marks<=100:\n",
    "    print(\"A+\")\n",
    "    if marks>=75 and marks<90:\n",
    "        print(\"A\")\n",
    "    elif marks>60 and marks<75:\n",
    "        print(\"B\")\n",
    "    elif marks>=40 and marks<=60:\n",
    "        print (\"C\")\n",
    "    elif marks>=0 and marks<40:\n",
    "        print(\"Fail\")\n",
    "else:\n",
    "    print(\"Invalid Number\")\n"
   ]
  },
  {
   "cell_type": "code",
   "execution_count": 19,
   "id": "b2d9a987-3723-4f44-82fb-8628507dbea5",
   "metadata": {},
   "outputs": [
    {
     "name": "stdin",
     "output_type": "stream",
     "text": [
      "Enter a word: @@@\n"
     ]
    },
    {
     "name": "stdout",
     "output_type": "stream",
     "text": [
      "Palindrome\n"
     ]
    }
   ],
   "source": [
    "#check palindrome or not\n",
    "number=input(\"Enter a word:\")\n",
    "reverse=(number[::-1])\n",
    "if(reverse==number):\n",
    "    print(\"Palindrome\")\n",
    "else:\n",
    "    print(\"Not a palindrome\")"
   ]
  },
  {
   "cell_type": "code",
   "execution_count": 21,
   "id": "9ba4698f-ce7d-49de-ae82-d2fcd2286012",
   "metadata": {},
   "outputs": [
    {
     "name": "stdout",
     "output_type": "stream",
     "text": [
      "True\n",
      "False\n",
      "True\n"
     ]
    }
   ],
   "source": [
    "s1=\"python\"\n",
    "s2=\"12345\"\n",
    "print(s1.isalpha())\n",
    "print(s2.isalpha())\n",
    "print(s1.startswith(\"py\"))\n"
   ]
  },
  {
   "cell_type": "code",
   "execution_count": 46,
   "id": "ac5f1449-fe7d-4d2d-84a5-514acd9096ba",
   "metadata": {},
   "outputs": [
    {
     "name": "stdout",
     "output_type": "stream",
     "text": [
      "True\n",
      "True\n",
      "False\n"
     ]
    }
   ],
   "source": [
    "s3=\"ab123c\"\n",
    "if(s3.isalnum()):\n",
    "    print(\"True\")\n",
    "else:\n",
    "    print(\"False\")\n",
    "print(s3.endswith(\"c\"))\n",
    "print(s3.endswith(\"cc\"))"
   ]
  },
  {
   "cell_type": "code",
   "execution_count": 29,
   "id": "f4244e66-8900-4a7d-ba7e-fda3b053506c",
   "metadata": {},
   "outputs": [
    {
     "name": "stdout",
     "output_type": "stream",
     "text": [
      "True\n"
     ]
    }
   ],
   "source": [
    "s4=\"abc123\"\n",
    "if(\"abc\" in \"abc123\"):\n",
    "    print(\"True\")\n",
    "else:\n",
    "    print(\"False\")"
   ]
  },
  {
   "cell_type": "code",
   "execution_count": 34,
   "id": "94871f40-7597-48eb-8a03-86e2f3b5e69c",
   "metadata": {},
   "outputs": [
    {
     "name": "stdout",
     "output_type": "stream",
     "text": [
      "Inside the basket\n"
     ]
    }
   ],
   "source": [
    "fruits=[\"apple\",\"avacado\",\"orange\",\"grapes\"]\n",
    "if(\"apple\" in fruits):\n",
    "    print(\"Inside the basket\")\n",
    "else:\n",
    "    print(\"Sorry,We don't have apple\")"
   ]
  },
  {
   "cell_type": "code",
   "execution_count": 40,
   "id": "d37e48ca-db95-4668-bb42-af27c9cc6610",
   "metadata": {},
   "outputs": [
    {
     "name": "stdout",
     "output_type": "stream",
     "text": [
      "False\n",
      "True\n",
      "False\n",
      "True\n",
      "True\n"
     ]
    }
   ],
   "source": [
    "s5=\"0112345\"\n",
    "print(s5.startswith(\"123\"))  #startswith\n",
    "print(s5.startswith(\"123\",2))\n",
    "print(s5.startswith(\"123\",))\n",
    "print(s5.startswith(\"0\"))\n",
    "print(s5.endswith(\"45\"))  #endswith"
   ]
  },
  {
   "cell_type": "code",
   "execution_count": 44,
   "id": "d60c36b4-3be7-47b4-9e43-6df5834ad53d",
   "metadata": {},
   "outputs": [
    {
     "name": "stdout",
     "output_type": "stream",
     "text": [
      "True\n",
      "False\n"
     ]
    }
   ],
   "source": [
    "#endswith\n",
    "text=\"myfilepdf\"\n",
    "print(text.endswith(\"pdf\"))\n",
    "print(text.endswith(\"pdff\"))"
   ]
  },
  {
   "cell_type": "code",
   "execution_count": 82,
   "id": "cbe89bf5-a9cf-415a-a9e1-2162e0620f6f",
   "metadata": {},
   "outputs": [
    {
     "name": "stdin",
     "output_type": "stream",
     "text": [
      "Enter a year: ab\n"
     ]
    },
    {
     "name": "stdout",
     "output_type": "stream",
     "text": [
      "Invalid\n"
     ]
    }
   ],
   "source": [
    "year=input(\"Enter a year:\")\n",
    "if(len(year))==4:\n",
    "    if year.isdigit():\n",
    "        new_year=int(year)\n",
    "        if (new_year%4==0 and new_year%100!=0) or (new_year%400==0)  :\n",
    "            print(\"Leap year\")\n",
    "        else:\n",
    "            print(\"Not a leap year\")\n",
    "else:\n",
    "    print(\"Invalid\")\n"
   ]
  },
  {
   "cell_type": "code",
   "execution_count": 84,
   "id": "da6643dd-9878-4f02-90cf-53a3d88053cf",
   "metadata": {},
   "outputs": [
    {
     "name": "stdin",
     "output_type": "stream",
     "text": [
      "Enter the year: ghf\n"
     ]
    },
    {
     "name": "stdout",
     "output_type": "stream",
     "text": [
      "invalid\n"
     ]
    }
   ],
   "source": [
    "c = input(\"Enter the year:\")\n",
    "if (c.isdigit()):\n",
    "    if (len(c) > 3):\n",
    "        if (c%4==0 and c%100!=0):\n",
    "            print(\"leap year\")\n",
    "        elif( c%400==0):\n",
    "            print(\"leap year\")\n",
    "    else:\n",
    "        print(\"not leap year\")\n",
    "else:\n",
    "    print(\"invalid\")"
   ]
  },
  {
   "cell_type": "code",
   "execution_count": 95,
   "id": "6ef50279-95bc-44c4-aab3-5cc1797a937e",
   "metadata": {},
   "outputs": [
    {
     "name": "stdin",
     "output_type": "stream",
     "text": [
      "Enter side1: 2\n",
      "Enter side2: 2\n",
      "Enter side3: 1.4\n"
     ]
    },
    {
     "name": "stdout",
     "output_type": "stream",
     "text": [
      "Invalid\n"
     ]
    }
   ],
   "source": [
    "#not working for float values\n",
    "a=input(\"Enter side1:\")\n",
    "b=input(\"Enter side2:\")\n",
    "c=input(\"Enter side3:\")\n",
    "if (a + b > c and c + b > a and a + c > b):\n",
    "    if (a ==b and a==c and c==b) :\n",
    "        print(\"Equilateral\")\n",
    "    elif ((b == a or b==c or a==c)):\n",
    "        print(\"Isosceles\")\n",
    "    else:\n",
    "        print(\"Scalene\")\n",
    "else:\n",
    "    print(\"Invalid\")"
   ]
  },
  {
   "cell_type": "code",
   "execution_count": 109,
   "id": "6ec77f85-7d21-49ec-9875-02ffd4508e03",
   "metadata": {},
   "outputs": [
    {
     "name": "stdin",
     "output_type": "stream",
     "text": [
      "Enter side1:  2\n",
      "Enter side2:  2\n",
      "Enter side3:  1.4\n"
     ]
    },
    {
     "name": "stdout",
     "output_type": "stream",
     "text": [
      "Isosceles Triangle\n"
     ]
    }
   ],
   "source": [
    "#working for float values\n",
    "a = input(\"Enter side1: \")\n",
    "b = input(\"Enter side2: \")\n",
    "c = input(\"Enter side3: \")\n",
    "if a.replace('.', '').isdigit() and b.replace('.', '').isdigit() and c.replace('.', '').isdigit():\n",
    "    a = float(a)\n",
    "    b = float(b)\n",
    "    c = float(c)\n",
    "    if a + b > c and b + c > a and a + c > b:\n",
    "        if a == b == c:\n",
    "            print(\"Equilateral Triangle\")\n",
    "        elif a == b or b == c or a == c:\n",
    "            print(\"Isosceles Triangle\")\n",
    "        else:\n",
    "            print(\"Scalene Triangle\")\n",
    "    else:\n",
    "        print(\"Invalid Triangle\")\n",
    "else:\n",
    "    print(\"Invalid Triangle\")\n"
   ]
  },
  {
   "cell_type": "code",
   "execution_count": 19,
   "id": "1e8ee440-09ff-46a8-9dea-6dac7e3d184c",
   "metadata": {},
   "outputs": [
    {
     "name": "stdin",
     "output_type": "stream",
     "text": [
      "Enter total bill: djkfck\n",
      "Enter number of members: kjffk\n",
      "Enter tip percentage: ifjf\n"
     ]
    },
    {
     "name": "stdout",
     "output_type": "stream",
     "text": [
      "Please,Enter a valid details..\n"
     ]
    }
   ],
   "source": [
    "#tip_program Project-3\n",
    "total_bill=input(\"Enter total bill:\")\n",
    "no_members=input(\"Enter number of members:\")\n",
    "tip_percent=input(\"Enter tip percentage:\")\n",
    "if(no_members.isdigit()) and (total_bill.replace('.','').isdigit())and (no_members.replace('.','').isdigit()) and (tip_percent.replace('.','').isdigit()):\n",
    "    new_total_bill=float(total_bill)\n",
    "    new_no_members=int(no_members)\n",
    "    new_tip_percent=float(tip_percent)\n",
    "    if int(no_members)<=5 and int(tip_percent)<=5:\n",
    "        tip_amount=(new_tip_percent)/100*int(new_total_bill)\n",
    "        print(\"Total tip amount:\",total_bill)\n",
    "        new_bill=int(total_bill)+tip_amount\n",
    "        print(\"New bill:\",new_bill)\n",
    "        tip_per_head=tip_amount/int(no_members)\n",
    "        print(\"Tip amount per head:\",tip_per_head)\n",
    "    else:\n",
    "        print(\"Sorry,NO.of meembers <=5 and percentage should be <=5\",\"\\nEnter details carefully..\")\n",
    "else:\n",
    "    print(\"Please,Enter a valid details..\")\n",
    "    \n",
    "    "
   ]
  },
  {
   "cell_type": "code",
   "execution_count": 33,
   "id": "879624ac-47e3-4e95-9c22-24bb3155ae34",
   "metadata": {},
   "outputs": [
    {
     "name": "stdin",
     "output_type": "stream",
     "text": [
      "Enter your option: Stone\n"
     ]
    },
    {
     "name": "stdout",
     "output_type": "stream",
     "text": [
      "Computer Choose: stone\n",
      "User Choose: stone\n",
      "Match draw..Try again..\n"
     ]
    }
   ],
   "source": [
    "#StonePaperScissor Project-2\n",
    "import random\n",
    "options=['stone','paper','scissor']\n",
    "computer_choose=random.choice(options)\n",
    "user_choose=(input(\"Enter your option:\")).lower()\n",
    "print(\"Computer Choose:\",computer_choose)\n",
    "print(\"User Choose:\",user_choose)\n",
    "if user_choose in options:\n",
    "    if (computer_choose==user_choose):\n",
    "        print(\"Match draw..Try again..\")\n",
    "    elif(computer_choose=='stone' and user_choose=='scissor') or (computer_choose=='paper' and user_choose=='stone') or (computer_choose=='scissor' and user_choose=='paper'):\n",
    "        print(\"Computer win the match..You lost..\")\n",
    "    else:\n",
    "        print(\"You win the match..\")\n",
    "else:\n",
    "    print(\"Enter a valid option\")"
   ]
  },
  {
   "cell_type": "code",
   "execution_count": 20,
   "id": "e7031f25-0d64-42b8-9a61-05811aeab6e1",
   "metadata": {},
   "outputs": [
    {
     "name": "stdout",
     "output_type": "stream",
     "text": [
      "Welcome to Treasure Island.\n",
      "Your mission is to find the treasure.\n",
      "You're at a cross road. \n",
      "Where do you want to go?\n"
     ]
    },
    {
     "name": "stdin",
     "output_type": "stream",
     "text": [
      " Type \"left\" or \"right\" \n",
      " left\n"
     ]
    },
    {
     "name": "stdout",
     "output_type": "stream",
     "text": [
      "You've come to a lake. There is an island in the middle of the lake.\n"
     ]
    },
    {
     "name": "stdin",
     "output_type": "stream",
     "text": [
      "Type \"wait\" to wait for a boat. Type \"swim\" to swim across. 547687\n"
     ]
    },
    {
     "name": "stdout",
     "output_type": "stream",
     "text": [
      "Oops..Exit from the Game..\n"
     ]
    }
   ],
   "source": [
    "#TRESSURE HUNT-PROJECT1\n",
    "print(\"Welcome to Treasure Island.\\nYour mission is to find the treasure.\\nYou're at a cross road. \\nWhere do you want to go?\")\n",
    "option=['left','right']\n",
    "direction=input(' Type \"left\" or \"right\" \\n').lower()\n",
    "if(direction==\"left\"):\n",
    "    print(\"You've come to a lake. There is an island in the middle of the lake.\")\n",
    "    choice1=input('Type \"wait\" to wait for a boat. Type \"swim\" to swim across.').lower()\n",
    "    if choice1==\"wait\":\n",
    "        print(\"You arrive at the island unharmed. There is a house with 3 doors.\")\n",
    "        choice2=input(\"One red, one yellow and one blue. Which colour do you choose?\").lower()\n",
    "        if choice2==\"yellow\":\n",
    "            print(\"You found the treasure! You Win!\")\n",
    "        elif choice2==\"red\":\n",
    "            print(\"It's a room full of fire. Game Over.\")\n",
    "        elif choice2==\"blue\":\n",
    "            print(\"You enter a room of beasts. Game Over.\")\n",
    "        else:\n",
    "            print(\"Wrong colour..Exit from game\")\n",
    "    elif choice1==\"swim\":\n",
    "        print(\"You get attacked by an angry trout. Game Over.\")\n",
    "    else:\n",
    "        print(\"Oops..Exit from the Game..\")\n",
    "        \n",
    "elif(direction==\"right\"):\n",
    "    print(\"You fell into a hole. Game Over.\")\n",
    "else:\n",
    "    print(\"Oops..Exit from the Game..\")"
   ]
  },
  {
   "cell_type": "code",
   "execution_count": null,
   "id": "d0ac0a64-a11b-43ae-9364-f08cf19a8ad6",
   "metadata": {},
   "outputs": [],
   "source": []
  },
  {
   "cell_type": "code",
   "execution_count": null,
   "id": "0bd44c6c-5c7d-4cba-a9db-ed134adffcf3",
   "metadata": {},
   "outputs": [],
   "source": []
  }
 ],
 "metadata": {
  "kernelspec": {
   "display_name": "Python [conda env:base] *",
   "language": "python",
   "name": "conda-base-py"
  },
  "language_info": {
   "codemirror_mode": {
    "name": "ipython",
    "version": 3
   },
   "file_extension": ".py",
   "mimetype": "text/x-python",
   "name": "python",
   "nbconvert_exporter": "python",
   "pygments_lexer": "ipython3",
   "version": "3.13.5"
  }
 },
 "nbformat": 4,
 "nbformat_minor": 5
}
