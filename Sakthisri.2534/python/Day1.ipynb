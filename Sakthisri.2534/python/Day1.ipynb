{
 "cells": [
  {
   "cell_type": "code",
   "execution_count": 1,
   "id": "2d813d25-d150-459e-b05f-4e3fb7bf6038",
   "metadata": {},
   "outputs": [
    {
     "name": "stdout",
     "output_type": "stream",
     "text": [
      "Sri\n"
     ]
    }
   ],
   "source": [
    "print(\"Sri\")  #print()"
   ]
  },
  {
   "cell_type": "code",
   "execution_count": 6,
   "id": "b8a32dcb-41b8-49c9-bdbc-be0de763ce5a",
   "metadata": {},
   "outputs": [
    {
     "name": "stdout",
     "output_type": "stream",
     "text": [
      "Mix 500g of Flour, 10g Yeast and 300ml Water in a bowl.\n",
      "Knead the dough for 10 minutes.\n",
      "Add 3g of Salt.\n",
      "Leave to rise for 2 hours.\n",
      "Bake at 200 degrees C for 30 minutes.\n"
     ]
    }
   ],
   "source": [
    "print(\"Mix 500g of Flour, 10g Yeast and 300ml Water in a bowl.\")\n",
    "print(\"Knead the dough for 10 minutes.\")\n",
    "print(\"Add 3g of Salt.\")\n",
    "print(\"Leave to rise for 2 hours.\")\n",
    "print(\"Bake at 200 degrees C for 30 minutes.\")"
   ]
  },
  {
   "cell_type": "code",
   "execution_count": 8,
   "id": "d58aa64b-9022-4217-bbd1-002c02ce24b5",
   "metadata": {},
   "outputs": [
    {
     "name": "stdout",
     "output_type": "stream",
     "text": [
      "Mix 500g of Flour, 10g Yeast and 300ml Water in a bowl.\n",
      "Knead the dough for 10 minutes.\n",
      "Add 3g of Salt.\n",
      "Leave to rise for 2 hours.\n",
      "Bake at 200 degrees C for 30 minutes.\n"
     ]
    }
   ],
   "source": [
    "print(\"Mix 500g of Flour, 10g Yeast and 300ml Water in a bowl.\\n\" \"Knead the dough for 10 minutes.\\n\" \"Add 3g of Salt.\\n\" \"Leave to rise for 2 hours.\\n\" \"Bake at 200 degrees C for 30 minutes.\") "
   ]
  },
  {
   "cell_type": "raw",
   "id": "9d56b591-e6f7-401a-b993-69d9eec90046",
   "metadata": {},
   "source": [
    "#missing double quotes\n",
    "print(\"Notes from Day 1\")\n",
    "#indentation error\n",
    "print(\"The print statement is used to output strings\")\n",
    "#missing paranthesis\n",
    "print(Strings are strings od characters\")\n",
    "#priint error\n",
    "print(\"String Concatenation is done with the + sign\")\n",
    "#use of more paranthesis\n",
    "print(\"New lines can be created with a | and the letter n)"
   ]
  },
  {
   "cell_type": "code",
   "execution_count": 9,
   "id": "708a2bc0-2c56-4cc5-8205-6cefdaaf1027",
   "metadata": {},
   "outputs": [
    {
     "name": "stdout",
     "output_type": "stream",
     "text": [
      "Notes from Day 1\n",
      "The print statement is used to output strings\n",
      "Strings are strings od characters\n",
      "String Concatenation is done with the + sign\n",
      "New lines can be created with a | and the letter n\n"
     ]
    }
   ],
   "source": [
    "print(\"Notes from Day 1\")#missing double quotes \n",
    "print(\"The print statement is used to output strings\") #indentation error\n",
    "print(\"Strings are strings od characters\") #missing paranthesis \n",
    "print(\"String Concatenation is done with the + sign\") #priint error\n",
    "print(\"New lines can be created with a | and the letter n\") #use of more paranthesis\n"
   ]
  },
  {
   "cell_type": "raw",
   "id": "d283e822-79c3-41e5-8c08-ad91c3111dfb",
   "metadata": {},
   "source": [
    "Day 1 Python Notes\n",
    "The print() statement is used to display output.\n",
    "A string is a sequence of characters written inside quotes (\" \" or ' ').\n",
    "String concatenation (joining strings) is done using the + operator.\n",
    "A new line in strings is created using \\n.\n",
    "Strings can be repeated using the * operator."
   ]
  },
  {
   "cell_type": "code",
   "execution_count": 10,
   "id": "b447ce0a-204a-4159-801b-15d0271cc11f",
   "metadata": {},
   "outputs": [
    {
     "name": "stdout",
     "output_type": "stream",
     "text": [
      "Hello World\n",
      "Hello\n",
      "World\n",
      "Hi Hi Hi \n"
     ]
    }
   ],
   "source": [
    "print(\"Hello\" + \" World\")   # Concatenation\n",
    "print(\"Hello\\nWorld\")       # New line\n",
    "print(\"Hi \" * 3)            # Repetition"
   ]
  },
  {
   "cell_type": "code",
   "execution_count": 15,
   "id": "a9ee7262-c1ec-4803-9991-d423460b2023",
   "metadata": {},
   "outputs": [
    {
     "name": "stdin",
     "output_type": "stream",
     "text": [
      "1 2\n"
     ]
    },
    {
     "data": {
      "text/plain": [
       "'2'"
      ]
     },
     "execution_count": 15,
     "metadata": {},
     "output_type": "execute_result"
    }
   ],
   "source": [
    "input(\"1\") #input()"
   ]
  },
  {
   "cell_type": "code",
   "execution_count": 16,
   "id": "72a32bde-ce6a-4330-9182-90073ca6c043",
   "metadata": {},
   "outputs": [
    {
     "data": {
      "text/plain": [
       "\u001b[1;31mSignature:\u001b[0m \u001b[0mprint\u001b[0m\u001b[1;33m(\u001b[0m\u001b[1;33m*\u001b[0m\u001b[0margs\u001b[0m\u001b[1;33m,\u001b[0m \u001b[0msep\u001b[0m\u001b[1;33m=\u001b[0m\u001b[1;34m' '\u001b[0m\u001b[1;33m,\u001b[0m \u001b[0mend\u001b[0m\u001b[1;33m=\u001b[0m\u001b[1;34m'\\n'\u001b[0m\u001b[1;33m,\u001b[0m \u001b[0mfile\u001b[0m\u001b[1;33m=\u001b[0m\u001b[1;32mNone\u001b[0m\u001b[1;33m,\u001b[0m \u001b[0mflush\u001b[0m\u001b[1;33m=\u001b[0m\u001b[1;32mFalse\u001b[0m\u001b[1;33m)\u001b[0m\u001b[1;33m\u001b[0m\u001b[1;33m\u001b[0m\u001b[0m\n",
       "\u001b[1;31mDocstring:\u001b[0m\n",
       "Prints the values to a stream, or to sys.stdout by default.\n",
       "\n",
       "sep\n",
       "  string inserted between values, default a space.\n",
       "end\n",
       "  string appended after the last value, default a newline.\n",
       "file\n",
       "  a file-like object (stream); defaults to the current sys.stdout.\n",
       "flush\n",
       "  whether to forcibly flush the stream.\n",
       "\u001b[1;31mType:\u001b[0m      builtin_function_or_method"
      ]
     },
     "metadata": {},
     "output_type": "display_data"
    }
   ],
   "source": [
    "print?"
   ]
  },
  {
   "cell_type": "raw",
   "id": "55fbf766-17bf-49b6-9672-4f41d4549e18",
   "metadata": {},
   "source": [
    "print()"
   ]
  },
  {
   "cell_type": "code",
   "execution_count": 18,
   "id": "669a7d53-c57d-4bd4-809a-8603a2debc33",
   "metadata": {},
   "outputs": [
    {
     "name": "stdin",
     "output_type": "stream",
     "text": [
      "What is your name? sri\n"
     ]
    },
    {
     "name": "stdout",
     "output_type": "stream",
     "text": [
      "Hello sri\n"
     ]
    }
   ],
   "source": [
    "print(\"Hello \" + input(\"What is your name?\"))"
   ]
  },
  {
   "cell_type": "code",
   "execution_count": 21,
   "id": "7a477f60-b389-4bc4-831f-73cd5b97258a",
   "metadata": {},
   "outputs": [
    {
     "name": "stdin",
     "output_type": "stream",
     "text": [
      " sri\n"
     ]
    },
    {
     "name": "stdout",
     "output_type": "stream",
     "text": [
      "sri good morning\n"
     ]
    }
   ],
   "source": [
    "name=input()\n",
    "print(name+\" \"+ \"good morning\")"
   ]
  },
  {
   "cell_type": "code",
   "execution_count": 22,
   "id": "0b86ab98-e5b7-4714-8cbd-918d36081f82",
   "metadata": {},
   "outputs": [
    {
     "name": "stdin",
     "output_type": "stream",
     "text": [
      " sri\n"
     ]
    },
    {
     "name": "stdout",
     "output_type": "stream",
     "text": [
      "Hello sri I am learning python\n"
     ]
    }
   ],
   "source": [
    "name= input()\n",
    "print(\"Hello\",name,\"I am learning python\")"
   ]
  },
  {
   "cell_type": "code",
   "execution_count": 23,
   "id": "5abfbfca-bda2-4691-be9e-c0800ed7342a",
   "metadata": {},
   "outputs": [
    {
     "name": "stdin",
     "output_type": "stream",
     "text": [
      "What is your name? sakthisri anburaj\n"
     ]
    },
    {
     "name": "stdout",
     "output_type": "stream",
     "text": [
      "17\n"
     ]
    }
   ],
   "source": [
    "name = len(input(\"What is your name?\"))\n",
    "print(name)    #len"
   ]
  },
  {
   "cell_type": "code",
   "execution_count": 26,
   "id": "dc17f6f5-a328-4afe-b5e4-18b71029af86",
   "metadata": {},
   "outputs": [
    {
     "name": "stdout",
     "output_type": "stream",
     "text": [
      "juice milk\n",
      "juice\n",
      "milk\n"
     ]
    }
   ],
   "source": [
    "glass1=\"milk\"  #method 1\n",
    "glass2=\"juice\"\n",
    "temp=glass1\n",
    "glass1=glass2\n",
    "glass2=temp\n",
    "\n",
    "print(glass1,glass2)  #method 2\n",
    "print(glass1+\"\\n\"+glass2) #print on next line\n"
   ]
  },
  {
   "cell_type": "code",
   "execution_count": 27,
   "id": "f1c9c59f-6a96-43d0-b454-ec2be3d35036",
   "metadata": {},
   "outputs": [
    {
     "name": "stdout",
     "output_type": "stream",
     "text": [
      "3\n"
     ]
    }
   ],
   "source": [
    "print(len(\"123\"))"
   ]
  },
  {
   "cell_type": "code",
   "execution_count": 30,
   "id": "84c38880-6140-4982-9ecf-96d728af4b99",
   "metadata": {},
   "outputs": [
    {
     "name": "stdout",
     "output_type": "stream",
     "text": [
      "o\n"
     ]
    }
   ],
   "source": [
    "strr=\"hello\"   #single item subscripting\n",
    "print(strr[4])"
   ]
  },
  {
   "cell_type": "code",
   "execution_count": 63,
   "id": "dcfacee2-80f6-4cb0-aabb-d1b1aa5a0cf3",
   "metadata": {},
   "outputs": [
    {
     "name": "stdout",
     "output_type": "stream",
     "text": [
      "o\n"
     ]
    }
   ],
   "source": [
    "strr=\"hello\"\n",
    "print(strr[:-2:-1])"
   ]
  },
  {
   "cell_type": "code",
   "execution_count": 65,
   "id": "df393870-242d-4f81-9227-82a6bf487966",
   "metadata": {},
   "outputs": [
    {
     "name": "stdout",
     "output_type": "stream",
     "text": [
      "mom\n"
     ]
    }
   ],
   "source": [
    "name=\"mom\"\n",
    "print(name[::-1])"
   ]
  },
  {
   "cell_type": "code",
   "execution_count": 33,
   "id": "87586508-4973-45f7-83ee-0574df77ae10",
   "metadata": {},
   "outputs": [
    {
     "name": "stdin",
     "output_type": "stream",
     "text": [
      "What is your name? sakthisri\n"
     ]
    },
    {
     "name": "stdout",
     "output_type": "stream",
     "text": [
      "Number of letters in the name 9\n"
     ]
    }
   ],
   "source": [
    "print(\"Number of letters in the name\", len(input(\"What is your name?\")))"
   ]
  },
  {
   "cell_type": "code",
   "execution_count": 34,
   "id": "7f59fbb1-8a7b-45d4-a034-0957a2e74b1b",
   "metadata": {},
   "outputs": [
    {
     "name": "stdout",
     "output_type": "stream",
     "text": [
      "30.854\n"
     ]
    }
   ],
   "source": [
    "height=1.65\n",
    "weight=84\n",
    "bmi=(weight)/(height**2)\n",
    "print(round((bmi),4))"
   ]
  },
  {
   "cell_type": "code",
   "execution_count": 36,
   "id": "e0bef08f-f9a1-41f0-9cde-8f4540cfb8e9",
   "metadata": {},
   "outputs": [
    {
     "name": "stdout",
     "output_type": "stream",
     "text": [
      "sakthi\n"
     ]
    }
   ],
   "source": [
    "print(f\"sakthi\")"
   ]
  },
  {
   "cell_type": "code",
   "execution_count": 37,
   "id": "db110647-0268-42e4-bba3-fb21cc01cff9",
   "metadata": {},
   "outputs": [
    {
     "name": "stdout",
     "output_type": "stream",
     "text": [
      "Hello sakthi age: 22\n"
     ]
    }
   ],
   "source": [
    "name=\"sakthi\"\n",
    "age=22\n",
    "print(f\"Hello {name} age: {age}\")"
   ]
  },
  {
   "cell_type": "code",
   "execution_count": 39,
   "id": "006928e1-3600-40fb-9a68-4b15b142bdd3",
   "metadata": {},
   "outputs": [
    {
     "ename": "SyntaxError",
     "evalue": "invalid syntax (2978296256.py, line 1)",
     "output_type": "error",
     "traceback": [
      "\u001b[1;36m  Cell \u001b[1;32mIn[39], line 1\u001b[1;36m\u001b[0m\n\u001b[1;33m    print(10%%2) #to fix print(10%2)\u001b[0m\n\u001b[1;37m             ^\u001b[0m\n\u001b[1;31mSyntaxError\u001b[0m\u001b[1;31m:\u001b[0m invalid syntax\n"
     ]
    }
   ],
   "source": [
    "print(10%%2) #to fix print(10%2)"
   ]
  },
  {
   "cell_type": "code",
   "execution_count": 41,
   "id": "f92a7bba-b6ac-4d70-b971-7bb0c0bcb35f",
   "metadata": {},
   "outputs": [
    {
     "ename": "SyntaxError",
     "evalue": "unmatched ')' (177255511.py, line 1)",
     "output_type": "error",
     "traceback": [
      "\u001b[1;36m  Cell \u001b[1;32mIn[41], line 1\u001b[1;36m\u001b[0m\n\u001b[1;33m    my_string = \"Programming\")  #to fix begin with (\u001b[0m\n\u001b[1;37m                             ^\u001b[0m\n\u001b[1;31mSyntaxError\u001b[0m\u001b[1;31m:\u001b[0m unmatched ')'\n"
     ]
    }
   ],
   "source": [
    "my_string = \"Programming\")  #to fix begin with ("
   ]
  },
  {
   "cell_type": "code",
   "execution_count": 43,
   "id": "533c87dd-2a08-4e33-9ba5-359232cac9ff",
   "metadata": {},
   "outputs": [
    {
     "name": "stdout",
     "output_type": "stream",
     "text": [
      "Sri\n"
     ]
    }
   ],
   "source": [
    "name=\"sri\"\n",
    "print(name.title())"
   ]
  },
  {
   "cell_type": "code",
   "execution_count": 49,
   "id": "3401c253-c334-42a3-825c-06c7a2867bec",
   "metadata": {},
   "outputs": [
    {
     "name": "stdout",
     "output_type": "stream",
     "text": [
      "Python is a programming language\n",
      "Python Is A Programming Language\n",
      "pYtHON IS A pROGRAMMING lANGUAGE\n",
      "PYTHON IS A PROGRAMMING LANGUAGE\n",
      "python is a programming language\n"
     ]
    }
   ],
   "source": [
    "text = \"PyThon is a Programming Language\"\n",
    "print(text.capitalize())\n",
    "print(text.title())\n",
    "print(text.swapcase())\n",
    "print(text.upper())\n",
    "print(text.lower())"
   ]
  },
  {
   "cell_type": "raw",
   "id": "83fc2ab4-927b-4178-92d3-ec84419ed6df",
   "metadata": {},
   "source": [
    "capitalize() → Makes the first character uppercase and the rest lowercase.\n",
    "title() → Makes the first letter of every word uppercase.\n",
    "swapcase() → Swaps the case of every letter (uppercase → lowercase, lowercase → uppercase).\n",
    "upper() → Converts the whole string to uppercase.\n",
    "lower() → Converts the whole string to lowercase."
   ]
  },
  {
   "cell_type": "code",
   "execution_count": 53,
   "id": "6b26050e-9793-4821-8438-b3cc9997df8f",
   "metadata": {},
   "outputs": [
    {
     "name": "stdout",
     "output_type": "stream",
     "text": [
      "I love Java programming.\n",
      "I love python programming.\n"
     ]
    }
   ],
   "source": [
    "sentence = \"I love python programming.\"  #replace()\n",
    "print(sentence.replace(\"python\",\"Java\"))\n",
    "print(sentence)"
   ]
  },
  {
   "cell_type": "raw",
   "id": "8087124a-a104-43a4-9d3a-eb8039d764ae",
   "metadata": {},
   "source": [
    "replace(old, new) → changes text in a string.\n",
    "\n",
    "It replaces the word/part you give with something new.\n",
    "\n",
    "The original string stays the same (string is not changed)."
   ]
  },
  {
   "cell_type": "code",
   "execution_count": 54,
   "id": "88667d96-8e9f-40a2-b9f2-6b856c008d99",
   "metadata": {},
   "outputs": [
    {
     "name": "stdout",
     "output_type": "stream",
     "text": [
      "7\n"
     ]
    }
   ],
   "source": [
    "#find()\n",
    "sentence=\"I love python programming python is not a snake\"\n",
    "print(sentence.find(\"python\"))"
   ]
  },
  {
   "cell_type": "raw",
   "id": "d8f43ac7-fb73-407d-bed9-cb4b515f52da",
   "metadata": {},
   "source": [
    "find(word) → gives the index (position number) of the first match in the string.\n",
    "If the word is not found, it returns -1."
   ]
  },
  {
   "cell_type": "code",
   "execution_count": 55,
   "id": "d10a279c-c87f-4287-8316-56f06065145b",
   "metadata": {},
   "outputs": [
    {
     "name": "stdout",
     "output_type": "stream",
     "text": [
      "[]\n"
     ]
    }
   ],
   "source": [
    "import re\n",
    "print(re.findall(r'/b/wt/b',sentence))\n"
   ]
  },
  {
   "cell_type": "code",
   "execution_count": 56,
   "id": "28434bcd-dc76-4fde-b6cc-95bf2f212b0e",
   "metadata": {},
   "outputs": [
    {
     "name": "stdout",
     "output_type": "stream",
     "text": [
      "<callable_iterator object at 0x000001EDF1217340>\n",
      "[7, 26]\n"
     ]
    }
   ],
   "source": [
    "sentence=\"I love python programming python is not a snake\"\n",
    "iteration=re.finditer(r'python',sentence)\n",
    "print(iteration)\n",
    "print([m.start() for m in iteration])"
   ]
  },
  {
   "cell_type": "code",
   "execution_count": 71,
   "id": "26b2d633-2453-42e5-95cd-9c47f6a57477",
   "metadata": {},
   "outputs": [
    {
     "name": "stdin",
     "output_type": "stream",
     "text": [
      "Enter your emotion: happy\n",
      "Enter your favorite flower: rose\n"
     ]
    },
    {
     "name": "stdout",
     "output_type": "stream",
     "text": [
      "HappyRose5\n"
     ]
    }
   ],
   "source": [
    "emotion=input(\"Enter your emotion:\")\n",
    "flower=input(\"Enter your favorite flower:\")\n",
    "xiv=len(emotion.capitalize()+flower.capitalize())\n",
    "print(emotion.capitalize()+flower.capitalize()+str(x))"
   ]
  },
  {
   "cell_type": "code",
   "execution_count": 74,
   "id": "b06328c9-f17c-48f5-a3c7-2cab6b8bfd77",
   "metadata": {},
   "outputs": [
    {
     "name": "stdin",
     "output_type": "stream",
     "text": [
      "Enter your name? sri\n",
      "Enter your age: 22\n"
     ]
    },
    {
     "name": "stdout",
     "output_type": "stream",
     "text": [
      "name:sri age:22\n"
     ]
    }
   ],
   "source": [
    "name=input(\"Enter your name?\")  #format()\n",
    "age=input(\"Enter your age:\")\n",
    "print(\"name:{} age:{}\".format(name,age))\n"
   ]
  },
  {
   "cell_type": "code",
   "execution_count": 76,
   "id": "ab66c53d-3922-4520-a479-ffdd806ddecc",
   "metadata": {},
   "outputs": [
    {
     "name": "stdout",
     "output_type": "stream",
     "text": [
      "['Hello', 'Sakthisri', 'Anburaj']\n"
     ]
    }
   ],
   "source": [
    "text=\"Hello Sakthisri Anburaj\"  #split()\n",
    "test=text.split(\" \")\n",
    "print(test)"
   ]
  },
  {
   "cell_type": "code",
   "execution_count": 77,
   "id": "e9cf23d0-5c47-4349-ae7b-0b83b2e5d20a",
   "metadata": {},
   "outputs": [
    {
     "name": "stdout",
     "output_type": "stream",
     "text": [
      "I,am,a,programmer\n",
      "I_am_a_programmer\n"
     ]
    }
   ],
   "source": [
    "think=\"I,am,a,programmer\"\n",
    "words=think.split(\",\")\n",
    "print(think.ljust(3,'*'))\n",
    "text_join=\"_\".join(words)\n",
    "print(text_join)"
   ]
  },
  {
   "cell_type": "code",
   "execution_count": 78,
   "id": "abc81cc2-42d2-47ea-ba15-7cdd39a2201c",
   "metadata": {},
   "outputs": [
    {
     "name": "stdout",
     "output_type": "stream",
     "text": [
      "****sakthi\n"
     ]
    }
   ],
   "source": [
    "name=\"sakthi\"\n",
    "print(name.rjust(10,\"*\"))"
   ]
  },
  {
   "cell_type": "code",
   "execution_count": 79,
   "id": "edab6985-9e82-474f-af67-35424c226199",
   "metadata": {},
   "outputs": [
    {
     "name": "stdout",
     "output_type": "stream",
     "text": [
      "sakthi****\n"
     ]
    }
   ],
   "source": [
    "name=\"sakthi\"\n",
    "print(name.ljust(10,\"*\"))"
   ]
  },
  {
   "cell_type": "code",
   "execution_count": 80,
   "id": "362c3bc7-554f-427d-beb4-16b6a39eb137",
   "metadata": {},
   "outputs": [
    {
     "name": "stdout",
     "output_type": "stream",
     "text": [
      "0.0\n"
     ]
    }
   ],
   "source": [
    "print(round(3.0878,-3))"
   ]
  },
  {
   "cell_type": "code",
   "execution_count": 82,
   "id": "47ffad9e-f2e2-47ff-af58-653096a65898",
   "metadata": {},
   "outputs": [
    {
     "name": "stdout",
     "output_type": "stream",
     "text": [
      "3.14\n"
     ]
    }
   ],
   "source": [
    "pi=3.14159\n",
    "print(f\"{pi:.2f}\")"
   ]
  },
  {
   "cell_type": "code",
   "execution_count": null,
   "id": "4666caba-264f-46fe-9741-ca9fde7437d6",
   "metadata": {},
   "outputs": [],
   "source": []
  }
 ],
 "metadata": {
  "kernelspec": {
   "display_name": "Python [conda env:base] *",
   "language": "python",
   "name": "conda-base-py"
  },
  "language_info": {
   "codemirror_mode": {
    "name": "ipython",
    "version": 3
   },
   "file_extension": ".py",
   "mimetype": "text/x-python",
   "name": "python",
   "nbconvert_exporter": "python",
   "pygments_lexer": "ipython3",
   "version": "3.13.5"
  }
 },
 "nbformat": 4,
 "nbformat_minor": 5
}
