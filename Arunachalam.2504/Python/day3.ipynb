{
 "cells": [
  {
   "cell_type": "code",
   "execution_count": 6,
   "id": "34fda8b2-f66c-434c-9a5a-6cb72915d190",
   "metadata": {},
   "outputs": [
    {
     "name": "stdout",
     "output_type": "stream",
     "text": [
      "array('b', [1, 2, 3, 4, 5])\n",
      "1\n",
      "array('b', [1, 2, 3, 4, 5, 6])\n"
     ]
    }
   ],
   "source": [
    "import array as arr\n",
    "array1=arr.array('b',[1,2,3,4,5])\n",
    "print(array1)\n",
    "print(array1[0])\n",
    "array1.append(6)\n",
    "print(array1)\n"
   ]
  },
  {
   "cell_type": "code",
   "execution_count": 8,
   "id": "89d091b7-3e22-423a-83fc-824ea2f8e806",
   "metadata": {},
   "outputs": [
    {
     "name": "stdout",
     "output_type": "stream",
     "text": [
      "[1 2 3 4 5]\n",
      "[ 2  4  6  8 10]\n",
      "[3 4 5 6 7]\n",
      "[-1  0  1  2  3]\n",
      "[[1 2]\n",
      " [3 4]]\n",
      "(2, 2)\n",
      "int64\n",
      "<class 'type'>\n"
     ]
    }
   ],
   "source": [
    "import numpy as np\n",
    "a=np.array([1,2,3,4,5])\n",
    "print(a)\n",
    "print(a*2)\n",
    "print(a+2)\n",
    "print(a-2)\n",
    "md=np.array([[1,2],[3,4]])\n",
    "print(md)\n",
    "print(md.shape)\n",
    "print(md.dtype)\n",
    "print (type((type(md))))"
   ]
  },
  {
   "cell_type": "code",
   "execution_count": 2,
   "id": "eaf12de9-1cfc-4330-83e8-b7dffd6facfd",
   "metadata": {},
   "outputs": [],
   "source": [
    "import numpy\n"
   ]
  },
  {
   "cell_type": "code",
   "execution_count": 4,
   "id": "3f36848b-6d83-4f31-87fd-f0172245eae0",
   "metadata": {},
   "outputs": [],
   "source": [
    "import random\n",
    "import day2_module"
   ]
  },
  {
   "cell_type": "code",
   "execution_count": 5,
   "id": "06fee977-5f1e-40fa-984b-af71ca5a39d8",
   "metadata": {},
   "outputs": [],
   "source": [
    "friends=[\"moorthi\",\"mani\",\"aathif\",\"vicky\"]"
   ]
  },
  {
   "cell_type": "code",
   "execution_count": 9,
   "id": "24503a4d-4ad3-4f6e-9836-0ceff747164d",
   "metadata": {},
   "outputs": [
    {
     "name": "stdout",
     "output_type": "stream",
     "text": [
      "moorthi mani\n"
     ]
    }
   ],
   "source": [
    "print(random.choice(day2_module.friends),random.choice(friends))"
   ]
  },
  {
   "cell_type": "code",
   "execution_count": 8,
   "id": "739d87d4-3ffd-4368-bb09-fcf4b24ee323",
   "metadata": {},
   "outputs": [
    {
     "name": "stdout",
     "output_type": "stream",
     "text": [
      "moorthi\n"
     ]
    }
   ],
   "source": [
    "from python_folder import day2_module\n",
    "print(random.choice(day2_module.friends))"
   ]
  },
  {
   "cell_type": "code",
   "execution_count": 17,
   "id": "e72cd3c7-a43b-4a53-8735-df5d9745fa20",
   "metadata": {},
   "outputs": [
    {
     "name": "stdout",
     "output_type": "stream",
     "text": [
      "mani\n"
     ]
    }
   ],
   "source": [
    "friends=[\"moorthi\",\"mani\",\"aathif\",\"vicky\"]\n",
    "index_value=random.randint(0,4)\n",
    "print(friends[index_value])"
   ]
  },
  {
   "cell_type": "code",
   "execution_count": 27,
   "id": "1932a6ea-029c-4108-a10a-5dff9d6f5972",
   "metadata": {},
   "outputs": [
    {
     "name": "stdout",
     "output_type": "stream",
     "text": [
      "tomato onion\n"
     ]
    }
   ],
   "source": [
    "fruit=[\"apple\",\"orange\",\"mango\"]\n",
    "veg=[\"potato\",\"tomato\",\"onion\"]\n",
    "dirty_dozen=[fruit,veg]\n",
    "type(dirty_dozen)\n",
    "print(dirty_dozen[1][1],dirty_dozen[1][2])\n"
   ]
  },
  {
   "cell_type": "code",
   "execution_count": 12,
   "id": "107b7f59-e531-49c5-9540-51aca8cfce50",
   "metadata": {},
   "outputs": [
    {
     "name": "stdout",
     "output_type": "stream",
     "text": [
      "random item :apple\n",
      "random sample(unique):['apple', 'banana', 'elderberry']\n"
     ]
    }
   ],
   "source": [
    "import random\n",
    "my_list=['apple','banana','cherry','date','elderberry']\n",
    "random_item=random.choice(my_list)\n",
    "print(f\"random item :{random_item}\")\n",
    "sample_unique=random.sample(my_list,3)\n",
    "print(f\"random sample(unique):{sample_unique}\")\n"
   ]
  },
  {
   "cell_type": "code",
   "execution_count": 11,
   "id": "22335e07-beb9-465a-91b5-eb3868b22a7e",
   "metadata": {},
   "outputs": [
    {
     "name": "stdin",
     "output_type": "stream",
     "text": [
      "index1 8\n",
      "index2 7\n"
     ]
    },
    {
     "name": "stdout",
     "output_type": "stream",
     "text": [
      "out of index1\n"
     ]
    }
   ],
   "source": [
    "import random\n",
    "fruit=[\"apple\",\"orange\",\"mango\"]\n",
    "veg=[\"potato\",\"tomato\",\"onion\",\"bringe\"]\n",
    "dirty_dozen=[fruit,veg]\n",
    "index1=int(input(\"index1\"))\n",
    "index2=int(input(\"index2\"))\n",
    "if(0<=index1<len(dirty_dozen)):\n",
    "    if(index2<len(veg) and index1==0):\n",
    "        print(dirty_dozen[index1][index2])\n",
    "    elif(0<index2<len(veg) and index1==1):\n",
    "        print(dirty_dozen[index1][index2])\n",
    "    else:\n",
    "        print(\"out of index2\")\n",
    "else:\n",
    "    print(\"out of index1\")\n"
   ]
  },
  {
   "cell_type": "code",
   "execution_count": 27,
   "id": "48b9d3ed-8e7c-4ce9-a9f4-087798db943e",
   "metadata": {},
   "outputs": [
    {
     "name": "stdout",
     "output_type": "stream",
     "text": [
      "apple\n",
      "applepie\n",
      "orange\n",
      "orangepie\n",
      "mango\n",
      "mangopie\n"
     ]
    }
   ],
   "source": [
    "fruits=[\"apple\",\"orange\",\"mango\"]\n",
    "for fruit in fruits:\n",
    "    print(fruit)\n",
    "    print(fruit+\"pie\")"
   ]
  },
  {
   "cell_type": "code",
   "execution_count": 13,
   "id": "8066e401-8fd7-4d17-8553-309923b4dbde",
   "metadata": {},
   "outputs": [
    {
     "name": "stdout",
     "output_type": "stream",
     "text": [
      "apple\n",
      "applepie\n",
      "orange\n",
      "orangepie\n",
      "mango\n",
      "mangopie\n",
      "potato\n",
      "potatopie\n",
      "tomato\n",
      "tomatopie\n",
      "onion\n",
      "onionpie\n",
      "bringe\n",
      "bringepie\n"
     ]
    }
   ],
   "source": [
    "fruit=[\"apple\",\"orange\",\"mango\"]\n",
    "veg=[\"potato\",\"tomato\",\"onion\",\"bringe\"]\n",
    "dirty_dozen=[fruit,veg]\n",
    "for index2 in range(0,len(dirty_dozen)):\n",
    "    for i in dirty_dozen[index2]:\n",
    "        print(i)\n",
    "        print(i+\"pie\")"
   ]
  },
  {
   "cell_type": "code",
   "execution_count": 57,
   "id": "650893e5-f761-4051-ae32-e213b27a27cf",
   "metadata": {},
   "outputs": [
    {
     "name": "stdin",
     "output_type": "stream",
     "text": [
      "enter the no elements 4\n",
      "enter the elements 1\n",
      "enter the elements 1\n",
      "enter the elements 1\n",
      "enter the elements 1\n"
     ]
    },
    {
     "name": "stdout",
     "output_type": "stream",
     "text": [
      "[1, 1, 1, 1]\n",
      "4\n"
     ]
    }
   ],
   "source": [
    "def sum_marks():\n",
    "    marks=[]\n",
    "    sum1=0\n",
    "    for i in range (0,n):\n",
    "        num1=int(input(\"enter the elements\"))\n",
    "        marks.append(num1)\n",
    "    return marks\n",
    "    for j in marks:\n",
    "        sum1+=j\n",
    "    return sum1\n",
    "n=int(input(\"enter the no elements\"))\n",
    "print(sum_marks())\n",
    "\n",
    "        \n",
    "        \n",
    "\n",
    "            \n",
    "        "
   ]
  },
  {
   "cell_type": "code",
   "execution_count": 58,
   "id": "1e50d825-71ee-4e96-bcdc-bb9db973db6f",
   "metadata": {},
   "outputs": [
    {
     "name": "stdin",
     "output_type": "stream",
     "text": [
      "enter the limit  50\n"
     ]
    },
    {
     "name": "stdout",
     "output_type": "stream",
     "text": [
      "1\n",
      "2\n",
      "buzz\n",
      "4\n",
      "fizz\n",
      "buzz\n",
      "7\n",
      "8\n",
      "buzz\n",
      "fizz\n",
      "11\n",
      "buzz\n",
      "13\n",
      "14\n",
      "fizzbuzz\n",
      "16\n",
      "17\n",
      "buzz\n",
      "19\n",
      "fizz\n",
      "buzz\n",
      "22\n",
      "23\n",
      "buzz\n",
      "fizz\n",
      "26\n",
      "buzz\n",
      "28\n",
      "29\n",
      "fizzbuzz\n",
      "31\n",
      "32\n",
      "buzz\n",
      "34\n",
      "fizz\n",
      "buzz\n",
      "37\n",
      "38\n",
      "buzz\n",
      "fizz\n",
      "41\n",
      "buzz\n",
      "43\n",
      "44\n",
      "fizzbuzz\n",
      "46\n",
      "47\n",
      "buzz\n",
      "49\n",
      "fizz\n"
     ]
    }
   ],
   "source": [
    "n=int(input(\"enter the limit \"))\n",
    "for i in range (1,n+1):\n",
    "    if(i%3==0 and i%5==0):\n",
    "        print(\"fizzbuzz\")\n",
    "    elif(i%5==0):\n",
    "        print(\"fizz\")\n",
    "    elif(i%3==0):\n",
    "        print(\"buzz\")\n",
    "    else:\n",
    "        print(i)\n",
    "    "
   ]
  },
  {
   "cell_type": "code",
   "execution_count": 59,
   "id": "2ce61b2a-b422-43a1-b00f-903d3a17d445",
   "metadata": {},
   "outputs": [
    {
     "name": "stdin",
     "output_type": "stream",
     "text": [
      "enter height: 1.75\n",
      "enter weight 50\n"
     ]
    },
    {
     "name": "stdout",
     "output_type": "stream",
     "text": [
      "16.33\n",
      "under weight\n"
     ]
    }
   ],
   "source": [
    "height=float(input(\"enter height:\"))\n",
    "weight=float(input(\"enter weight\"))\n",
    "bmi=round(weight/(height*height),2)\n",
    "print(bmi)\n",
    "if(18.5<=bmi<=24.99):\n",
    "    print(\"normal weight\")\n",
    "elif(25.0<=bmi<=29.99):\n",
    "    print(\"over weight\")\n",
    "elif(bmi>=30.0):\n",
    "    print(\"obese\")\n",
    "else:\n",
    "    print(\"under weight\")\n",
    "\n",
    "\n"
   ]
  },
  {
   "cell_type": "code",
   "execution_count": 2,
   "id": "974f4cef-307c-462b-bab1-e2f53fb9d851",
   "metadata": {},
   "outputs": [
    {
     "name": "stdin",
     "output_type": "stream",
     "text": [
      "enter first string enum\n",
      "enter second string nume\n"
     ]
    },
    {
     "name": "stdout",
     "output_type": "stream",
     "text": [
      "anagram\n"
     ]
    }
   ],
   "source": [
    "name=input(\"enter first string\")\n",
    "name2=input(\"enter second string\")\n",
    "name3=[]\n",
    "name4=[]\n",
    "c=0\n",
    "if(len(name)==len(name2)):\n",
    "    for i in name:\n",
    "        name3.append(i)\n",
    "    for j in name2:\n",
    "        name4.append(j)\n",
    "    for k in name4:\n",
    "        if(k in name3):\n",
    "            c=c+1\n",
    "            name3.remove(k)\n",
    "    if(len(name3)==0 and len(name4)==c):\n",
    "        print(\"anagram\")\n",
    "    else:\n",
    "        print(\"not anagram\")\n",
    "\n",
    "else:\n",
    "    print(\"please valid string\")\n",
    "\n",
    "\n",
    "\n",
    "\n",
    "\n",
    "\n",
    "    "
   ]
  },
  {
   "cell_type": "code",
   "execution_count": 56,
   "id": "489027a1-8a19-4f4a-ab32-f21d0d016508",
   "metadata": {},
   "outputs": [
    {
     "name": "stdin",
     "output_type": "stream",
     "text": [
      "enter a password hfgy\n"
     ]
    },
    {
     "name": "stdout",
     "output_type": "stream",
     "text": [
      "enter minimum 8 character\n"
     ]
    }
   ],
   "source": [
    "password=input(\"enter a password\")\n",
    "special_charcter=['!','@','#','$','%','^','&','*','(',')','_','+','-','}','{','>','<','?','/','\\']']\n",
    "char=['a','b','c','d','e','f','g','h','i','j','k','l','m','n','o','p','q','r','s','t','u','v','w','x','y','z']\n",
    "char2=['A','B','C','D','E','F','G','H','I','J','K','L','M','N','O','P','Q','R','S','T','V','U','W','X','Y','Z']\n",
    "num=['1','2','3','4','5','6','7','8','9','0']\n",
    "c=0\n",
    "c1=0\n",
    "c2=0\n",
    "c3=0\n",
    "c4=0\n",
    "if(len(password)>=8):\n",
    "    for i in password:\n",
    "        if(i in special_charcter):\n",
    "            c+=1\n",
    "        elif(i in char):\n",
    "            c1+=1\n",
    "        elif(i in char2):\n",
    "            c2+=1\n",
    "        elif(i in num):\n",
    "            c3=c3+1\n",
    "        else:\n",
    "            c4=0\n",
    "    if(c>=1):\n",
    "        if(c1>=1):\n",
    "            if(c2>=1):\n",
    "                if(c3>=1):\n",
    "                    print(\"valid password\")\n",
    "                    if(c==2):\n",
    "                        print(\"valid\")\n",
    "                    elif(c==4):\n",
    "                        print(\"strong\")\n",
    "                    elif(c==8):\n",
    "                        print(\"very strong\")\n",
    "                else:\n",
    "                    print(\"invalid\")\n",
    "            else:\n",
    "                print(\"invalid\")\n",
    "        else:\n",
    "            print(\"invalid\")\n",
    "    else:\n",
    "        print(\"invalid\")\n",
    "else:\n",
    "    print(\"enter minimum 8 character\")\n"
   ]
  },
  {
   "cell_type": "code",
   "execution_count": 69,
   "id": "8e27cce4-0029-4c76-9888-66cf088e0895",
   "metadata": {},
   "outputs": [
    {
     "name": "stdout",
     "output_type": "stream",
     "text": [
      "1\n",
      "2\n",
      "3\n"
     ]
    }
   ],
   "source": [
    "my_list=[1,2,3,4,5,6]\n",
    "for element in my_list:\n",
    "    if(element==4):\n",
    "        break\n",
    "    else:\n",
    "        print(element)\n",
    "        continue "
   ]
  },
  {
   "cell_type": "code",
   "execution_count": null,
   "id": "18eb5540-5b59-4f2d-8023-a4825e50c41f",
   "metadata": {},
   "outputs": [],
   "source": []
  },
  {
   "cell_type": "code",
   "execution_count": 3,
   "id": "643a2129-36a6-475a-98c3-ad4dc032fb25",
   "metadata": {},
   "outputs": [],
   "source": [
    "my_list=[1,2,3,4,5,6]\n",
    "for element in my_list:\n",
    "    if(element==4):\n",
    "        break\n",
    "    else:\n",
    "        continue \n",
    "        print(element)"
   ]
  },
  {
   "cell_type": "code",
   "execution_count": 4,
   "id": "0ee1f3e0-fec3-4935-b0aa-99bb7e1b88e1",
   "metadata": {},
   "outputs": [
    {
     "name": "stdout",
     "output_type": "stream",
     "text": [
      "1\n",
      "2\n",
      "3\n"
     ]
    }
   ],
   "source": [
    "my_list=[1,2,3,4,5,6]\n",
    "for element in my_list:\n",
    "    if(element==4):\n",
    "        break\n",
    "    else:\n",
    "        pass\n",
    "        print(element)"
   ]
  },
  {
   "cell_type": "code",
   "execution_count": null,
   "id": "c04b7274-0728-4ab8-9cdf-328a0c4163f4",
   "metadata": {},
   "outputs": [],
   "source": []
  }
 ],
 "metadata": {
  "kernelspec": {
   "display_name": "Python 3 (ipykernel)",
   "language": "python",
   "name": "python3"
  },
  "language_info": {
   "codemirror_mode": {
    "name": "ipython",
    "version": 3
   },
   "file_extension": ".py",
   "mimetype": "text/x-python",
   "name": "python",
   "nbconvert_exporter": "python",
   "pygments_lexer": "ipython3",
   "version": "3.13.5"
  }
 },
 "nbformat": 4,
 "nbformat_minor": 5
}
