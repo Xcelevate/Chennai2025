{
 "cells": [
  {
   "cell_type": "code",
   "execution_count": 15,
   "id": "f49789a1-07b2-4ff7-9dc2-87723275fdbf",
   "metadata": {},
   "outputs": [
    {
     "name": "stdout",
     "output_type": "stream",
     "text": [
      "15\n"
     ]
    }
   ],
   "source": [
    "import random\n",
    "r=random.randint(11,20)"
   ]
  },
  {
   "cell_type": "code",
   "execution_count": 1,
   "id": "54f43cd0-d841-4b60-95e9-29b4e86149f6",
   "metadata": {},
   "outputs": [],
   "source": [
    "import day2_module"
   ]
  },
  {
   "cell_type": "code",
   "execution_count": 2,
   "id": "f7d65326-c1fa-457b-bead-dcb95768faae",
   "metadata": {},
   "outputs": [
    {
     "data": {
      "text/plain": [
       "12345678"
      ]
     },
     "execution_count": 2,
     "metadata": {},
     "output_type": "execute_result"
    }
   ],
   "source": [
    "day2_module.value"
   ]
  },
  {
   "cell_type": "code",
   "execution_count": 3,
   "id": "7f3e8527-8fc7-4b96-89fc-2ff44e66d04b",
   "metadata": {},
   "outputs": [],
   "source": [
    "import day2_module2"
   ]
  },
  {
   "cell_type": "code",
   "execution_count": 4,
   "id": "401b5235-6473-49f8-aecd-cec7751b4881",
   "metadata": {},
   "outputs": [
    {
     "data": {
      "text/plain": [
       "10"
      ]
     },
     "execution_count": 4,
     "metadata": {},
     "output_type": "execute_result"
    }
   ],
   "source": [
    "day2_module2.r"
   ]
  },
  {
   "cell_type": "code",
   "execution_count": 1,
   "id": "f1954f3e-4517-4702-81f3-df064b9f0566",
   "metadata": {},
   "outputs": [
    {
     "data": {
      "text/plain": [
       "10.375508924441052"
      ]
     },
     "execution_count": 1,
     "metadata": {},
     "output_type": "execute_result"
    }
   ],
   "source": [
    "import random\n",
    "randomnum=random.random()*10\n",
    "randomnum"
   ]
  },
  {
   "cell_type": "code",
   "execution_count": 2,
   "id": "fb16bf58-ab0c-40eb-ad34-ebabf5416948",
   "metadata": {},
   "outputs": [],
   "source": [
    "import random\n"
   ]
  },
  {
   "cell_type": "code",
   "execution_count": 7,
   "id": "5d3245b6-959f-4754-89a0-52e689ab2651",
   "metadata": {},
   "outputs": [],
   "source": [
    "randomnum1=random.uniform(1,10)"
   ]
  },
  {
   "cell_type": "code",
   "execution_count": 8,
   "id": "32e789b4-5ef4-45f7-9b4e-e56848f42220",
   "metadata": {},
   "outputs": [
    {
     "name": "stdout",
     "output_type": "stream",
     "text": [
      "7.26\n"
     ]
    }
   ],
   "source": [
    "print(randomnum1)"
   ]
  },
  {
   "cell_type": "code",
   "execution_count": 3,
   "id": "94b9ce37-d2f8-4a00-8d8a-7e402cf69389",
   "metadata": {},
   "outputs": [
    {
     "name": "stdout",
     "output_type": "stream",
     "text": [
      "head\n"
     ]
    }
   ],
   "source": [
    "import random\n",
    "binaryno=random.randint(0,1)\n",
    "if(binaryno==0):\n",
    "    print(\"head\")\n",
    "else:\n",
    "    print(\"tail\")"
   ]
  },
  {
   "cell_type": "code",
   "execution_count": 13,
   "id": "9e765a33-564a-4cef-b8e7-737735f910b2",
   "metadata": {},
   "outputs": [
    {
     "name": "stdout",
     "output_type": "stream",
     "text": [
      "choose\n",
      "0 for stone\n",
      "1 for scissors\n",
      "2 for paper\n"
     ]
    },
    {
     "name": "stdin",
     "output_type": "stream",
     "text": [
      "enter your choose 5\n"
     ]
    },
    {
     "name": "stdout",
     "output_type": "stream",
     "text": [
      "sorry! please enter valid choose\n"
     ]
    }
   ],
   "source": [
    "import random\n",
    "print(\"choose\\n0 for stone\\n1 for scissors\\n2 for paper\")\n",
    "user=int(input(\"enter your choose\"))\n",
    "comp=random.randint(0,2)\n",
    "if(user<0 or user>2):\n",
    "    print(\"sorry! please enter valid choose\")\n",
    "elif(user==comp):\n",
    "    print(f\"your's={user} comp={comp}\")\n",
    "    print(\"tie\")\n",
    "elif(user==0 and comp==1):\n",
    "    print(f\"your's={user} comp={comp}\")\n",
    "    print(\"your win\")\n",
    "elif(user==1 and comp==2):\n",
    "    print(f\"your's={user} comp={comp}\")\n",
    "    print(\"your win\")\n",
    "   \n",
    "elif(user==2 and comp==0):\n",
    "    print(f\"your's={user} comp={comp}\")\n",
    "    print(\"your win\")\n",
    "else:\n",
    "    print(f\"your's={user} comp={comp}\")\n",
    "    print(\"sorry!your loose\")\n",
    "   "
   ]
  },
  {
   "cell_type": "code",
   "execution_count": 4,
   "id": "2470bd94-5a92-477f-894d-faf050025aef",
   "metadata": {},
   "outputs": [
    {
     "name": "stdout",
     "output_type": "stream",
     "text": [
      "False\n"
     ]
    }
   ],
   "source": [
    "a=\"true\"\n",
    "b=\"false\"\n",
    "c=(a or b) and (not a and b)\n",
    "print(c)"
   ]
  },
  {
   "cell_type": "code",
   "execution_count": 2,
   "id": "2c179f81-8767-4ece-92e5-eb9802c50a0b",
   "metadata": {},
   "outputs": [
    {
     "name": "stdin",
     "output_type": "stream",
     "text": [
      "true or false 0\n",
      "true or false 0\n"
     ]
    },
    {
     "name": "stdout",
     "output_type": "stream",
     "text": [
      "False\n"
     ]
    }
   ],
   "source": [
    "a=bool(input(\"true or false\"))\n",
    "b=bool(input(\"true or false\"))\n",
    "c=(a or b) and not(a and b)\n",
    "print(c)\n"
   ]
  },
  {
   "cell_type": "code",
   "execution_count": 6,
   "id": "9536afbc-4dec-4697-b90e-30c073ba8b52",
   "metadata": {},
   "outputs": [
    {
     "name": "stdout",
     "output_type": "stream",
     "text": [
      "True\n"
     ]
    }
   ],
   "source": [
    "a=True\n",
    "b=False\n",
    "print(not(a and b))\n"
   ]
  },
  {
   "cell_type": "code",
   "execution_count": 7,
   "id": "41a135a2-0a50-4997-bb57-85cccd2e3382",
   "metadata": {},
   "outputs": [
    {
     "data": {
      "text/plain": [
       "False"
      ]
     },
     "execution_count": 7,
     "metadata": {},
     "output_type": "execute_result"
    }
   ],
   "source": [
    "a=False\n",
    "b=True\n",
    "not(a or b)"
   ]
  },
  {
   "cell_type": "code",
   "execution_count": 5,
   "id": "d41b7ce9-41ab-47df-a4a1-e1129dfabc82",
   "metadata": {},
   "outputs": [
    {
     "name": "stdin",
     "output_type": "stream",
     "text": [
      " 3\n"
     ]
    },
    {
     "name": "stdout",
     "output_type": "stream",
     "text": [
      "odd\n"
     ]
    }
   ],
   "source": [
    "a=int(input())\n",
    "if(a%2==0):\n",
    "    print(\"even\")\n",
    "else:\n",
    "    print(\"odd\")"
   ]
  },
  {
   "cell_type": "code",
   "execution_count": 12,
   "id": "9c21628d-aefd-4760-87b1-ef0f1f0ff27f",
   "metadata": {},
   "outputs": [
    {
     "name": "stdin",
     "output_type": "stream",
     "text": [
      "enter a number -78200\n",
      "enter a number -782001\n"
     ]
    },
    {
     "name": "stdout",
     "output_type": "stream",
     "text": [
      "-78200\n"
     ]
    }
   ],
   "source": [
    "a=int(input(\"enter a number\"))\n",
    "b=int(input(\"enter a number\"))\n",
    "if(a==b):\n",
    "    print(equal)\n",
    "elif(a>b):\n",
    "    print(a)\n",
    "else:\n",
    "    print(b)"
   ]
  },
  {
   "cell_type": "code",
   "execution_count": 21,
   "id": "8ebe08a2-1568-4cc2-8f01-ca2a436a7ce7",
   "metadata": {},
   "outputs": [
    {
     "name": "stdin",
     "output_type": "stream",
     "text": [
      "enter marks 60\n"
     ]
    },
    {
     "name": "stdout",
     "output_type": "stream",
     "text": [
      "C\n"
     ]
    }
   ],
   "source": [
    "mark=int(input(\"enter marks\"))\n",
    "if(mark<0 or mark>100):\n",
    "    print(\"please enter valid mark\")\n",
    "elif(mark>=90):\n",
    "    print(\"A+\")\n",
    "elif((mark<90)and(mark>=75)):\n",
    "    print(\"A\")\n",
    "elif(mark<75 and mark>60):\n",
    "    print(\"B\")\n",
    "elif(mark<=60 and mark>=40):\n",
    "    print(\"C\")\n",
    "else:\n",
    "    print(\"FAIL\")"
   ]
  },
  {
   "cell_type": "code",
   "execution_count": 24,
   "id": "54472164-69b1-42d0-bf0b-f2c8b8d9f300",
   "metadata": {},
   "outputs": [
    {
     "name": "stdin",
     "output_type": "stream",
     "text": [
      "enter your string }{787878797878787{}\n"
     ]
    },
    {
     "name": "stdout",
     "output_type": "stream",
     "text": [
      "yes\n"
     ]
    }
   ],
   "source": [
    "name=str(input(\"enter your string\"))\n",
    "re_name=name[::-1]\n",
    "if(name==re_name):\n",
    "    print(\"yes\")\n",
    "else:\n",
    "    print(\"no\")"
   ]
  },
  {
   "cell_type": "code",
   "execution_count": 34,
   "id": "02995f29-c284-49a7-89cf-b433c63844b7",
   "metadata": {},
   "outputs": [
    {
     "name": "stdin",
     "output_type": "stream",
     "text": [
      "enter your string 1a2dr4\n"
     ]
    },
    {
     "name": "stdout",
     "output_type": "stream",
     "text": [
      "False\n",
      "False\n",
      "False\n",
      "True\n"
     ]
    }
   ],
   "source": [
    "unknown=str(input(\"enter your string\"))\n",
    "print(unknown.startswith(\"123\"))\n",
    "print(unknown.startswith(\"6\",5))\n",
    "print(unknown.startswith(\"3456\",2,5))\n",
    "print(unknown.isalnum())"
   ]
  },
  {
   "cell_type": "code",
   "execution_count": 37,
   "id": "8c4f3fad-f1c8-478a-98a8-3358c7f7fce7",
   "metadata": {},
   "outputs": [
    {
     "data": {
      "text/plain": [
       "True"
      ]
     },
     "execution_count": 37,
     "metadata": {},
     "output_type": "execute_result"
    }
   ],
   "source": [
    "file_name=\"xcelevate.pdf\"\n",
    "file_name.endswith((\".pdf\",\".txt\"))"
   ]
  },
  {
   "cell_type": "code",
   "execution_count": 35,
   "id": "0fc5682f-c227-49fe-92ff-f90108221031",
   "metadata": {},
   "outputs": [
    {
     "name": "stdin",
     "output_type": "stream",
     "text": [
      "enter your year 2\n"
     ]
    },
    {
     "name": "stdout",
     "output_type": "stream",
     "text": [
      "enter a valid year\n"
     ]
    }
   ],
   "source": [
    "year=input(\"enter your year\")\n",
    "if(year.isdigit()):\n",
    "    year1=int(year)\n",
    "    if(len(year)==4 and year1>0 and year1%4==0 and year1%100!=0 or year1%400==0):\n",
    "        print(\"leap Year\")\n",
    "    else:\n",
    "        print(\"enter a valid year\")\n",
    "else:\n",
    "    if(year.isalpha() or not(year.isalnum())):\n",
    "        print(\"enter valid year\")\n",
    "    else:\n",
    "        print(\"not a leap year\")\n",
    "    \n",
    "            \n",
    "            \n",
    "        \n",
    "            \n",
    "        "
   ]
  },
  {
   "cell_type": "code",
   "execution_count": 11,
   "id": "40ebb15e-06a3-40ed-ad26-a985fd52e80c",
   "metadata": {},
   "outputs": [
    {
     "ename": "SyntaxError",
     "evalue": "invalid syntax (3334065150.py, line 4)",
     "output_type": "error",
     "traceback": [
      "  \u001b[36mCell\u001b[39m\u001b[36m \u001b[39m\u001b[32mIn[11]\u001b[39m\u001b[32m, line 4\u001b[39m\n\u001b[31m    \u001b[39m\u001b[31mif ((a.isdigit() or (a.)and b.isdigit() and c.isdigit())\u001b[39m\n                           ^\n\u001b[31mSyntaxError\u001b[39m\u001b[31m:\u001b[39m invalid syntax\n"
     ]
    }
   ],
   "source": [
    "a=input(\"enter value\")\n",
    "b=input(\"enter value\")\n",
    "c=input(\"enter value\")\n",
    "if ((a.isdigit() or (a.)and b.isdigit() and c.isdigit())\n",
    "    a=float(a)\n",
    "    b=float(b)\n",
    "    c=float(c)\n",
    "    if a+b>c and b+c>a and c+a>b:\n",
    "        if(a==b==c):\n",
    "            print(\"equaliteral\")\n",
    "        elif(a==b or b==c or a==c):\n",
    "            print(\"isosceles\")\n",
    "        else:\n",
    "             print(\"scelene\")\n",
    "    else:\n",
    "        print(\"not a triangle\")\n",
    "else:\n",
    "    print(\"enter valid value\")\n",
    "        \n",
    "            \n"
   ]
  },
  {
   "cell_type": "code",
   "execution_count": null,
   "id": "c40d2117-9908-48a9-9dbd-03bc21c2e1b4",
   "metadata": {},
   "outputs": [],
   "source": []
  }
 ],
 "metadata": {
  "kernelspec": {
   "display_name": "Python 3 (ipykernel)",
   "language": "python",
   "name": "python3"
  },
  "language_info": {
   "codemirror_mode": {
    "name": "ipython",
    "version": 3
   },
   "file_extension": ".py",
   "mimetype": "text/x-python",
   "name": "python",
   "nbconvert_exporter": "python",
   "pygments_lexer": "ipython3",
   "version": "3.13.5"
  }
 },
 "nbformat": 4,
 "nbformat_minor": 5
}
