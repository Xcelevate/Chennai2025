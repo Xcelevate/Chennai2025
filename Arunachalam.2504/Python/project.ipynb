{
 "cells": [
  {
   "cell_type": "code",
   "execution_count": 19,
   "id": "8e5d4df6-69a4-470d-8538-32d7fdcee571",
   "metadata": {},
   "outputs": [
    {
     "name": "stdout",
     "output_type": "stream",
     "text": [
      "choose\n",
      "0 for stone\n",
      "1 for scissors\n",
      "2 for paper\n"
     ]
    },
    {
     "name": "stdin",
     "output_type": "stream",
     "text": [
      "enter your choose:  0\n"
     ]
    },
    {
     "name": "stdout",
     "output_type": "stream",
     "text": [
      "your choice:\n",
      "\n",
      "   ---'____)\n",
      "      (_____)\n",
      "      (_____)\n",
      "      (____)\n",
      "---.__(___)\n",
      "\n",
      "    --________)____\n",
      "              ______)\n",
      "              _______)\n",
      "             _______)\n",
      "    ---.__________)\n",
      "\n",
      "sorry!your loose\n"
     ]
    }
   ],
   "source": [
    "import random\n",
    "print(\"choose\\n0 for stone\\n1 for scissors\\n2 for paper\")\n",
    "user=input(\"enter your choose: \")\n",
    "rock= \"\"\"\n",
    "   ---'____)\n",
    "      (_____)\n",
    "      (_____)\n",
    "      (____)\n",
    "---.__(___)\"\"\"\n",
    "\n",
    "paper = \"\"\"\n",
    "    --________)____\n",
    "              ______)\n",
    "              _______)\n",
    "             _______)\n",
    "    ---.__________)\n",
    "\"\"\"\n",
    "\n",
    "scissors = \"\"\"\n",
    "    ---____)________\n",
    "              ______)\n",
    "           __________)\n",
    "          (____)\n",
    "    ---.__(___) \n",
    "        \n",
    "\"\"\"\n",
    "\n",
    "comp=random.randint(0,2)\n",
    "if(user.isdigit()):\n",
    "    user=int(user)\n",
    "    if(user<0 or user>2):\n",
    "        print(\"sorry! please enter valid choose\")\n",
    "        print(\"your lose the game\")\n",
    "    else:\n",
    "        print(\"your choice:\")\n",
    "        if user==0:\n",
    "            print(rock)\n",
    "        elif user==1:\n",
    "            print(scissors)\n",
    "        elif user==2:\n",
    "            print(paper)\n",
    "            print(\"comp choice:\")\n",
    "        if comp==0:\n",
    "            print(rock)\n",
    "        elif comp==1:\n",
    "            print(scissors)\n",
    "        elif comp==2:\n",
    "            print(paper)\n",
    "        if(user==comp):\n",
    "            print(\"tie\")\n",
    "        elif(user==0 and comp==1):\n",
    "            print(\"your win\")\n",
    "        elif(user==1 and comp==2):\n",
    "            print(\"your win\")\n",
    "        elif(user==2 and comp==0):\n",
    "            print(\"your win\")\n",
    "        else:\n",
    "            print(\"sorry!your lose\")\n",
    "else:\n",
    "    print(\"enter valid  digit between 0-2\")\n",
    "    print(\"you should learn the rules of the game\")\n"
   ]
  },
  {
   "cell_type": "code",
   "execution_count": 18,
   "id": "4f0b9112-1027-4a7b-9e28-fa9e5ef7e2e7",
   "metadata": {},
   "outputs": [
    {
     "name": "stdout",
     "output_type": "stream",
     "text": [
      "Welcome to Treasure Island.\n",
      "Your mission is to find the treasure.\n",
      "You're at a cross road. Where do you want to go?\n"
     ]
    },
    {
     "name": "stdin",
     "output_type": "stream",
     "text": [
      "Type \"left\" or \"right\" left\n"
     ]
    },
    {
     "name": "stdout",
     "output_type": "stream",
     "text": [
      "You've come to a lake. There is an island in the middle of the lake.\n"
     ]
    },
    {
     "name": "stdin",
     "output_type": "stream",
     "text": [
      "Type \"wait\" to wait for a boat. Type \"swim\" to swim across. wait\n"
     ]
    },
    {
     "name": "stdout",
     "output_type": "stream",
     "text": [
      "You arrive at the island unharmed. There is a house with 3 doors. \n",
      "One red, one yellow and one blue. Which colour do you choose?\n"
     ]
    },
    {
     "name": "stdin",
     "output_type": "stream",
     "text": [
      " yellow\n"
     ]
    },
    {
     "name": "stdout",
     "output_type": "stream",
     "text": [
      "You found the treasure! You Win!\n"
     ]
    }
   ],
   "source": [
    "print(\"Welcome to Treasure Island.\\nYour mission is to find the treasure.\\nYou're at a cross road. Where do you want to go?\")\n",
    "user=input('Type \"left\" or \"right\"')\n",
    "if(user.isalpha()):\n",
    "    if(user=='right'or user==user.upper() or user==user.capitalize()):\n",
    "        print(\"you fell into the hole Game over!\")\n",
    "    else:\n",
    "        if(user=='left'or user==user.upper() or user==user.capitalize()):\n",
    "            print(\"You've come to a lake. There is an island in the middle of the lake.\")\n",
    "            wg=input( 'Type \"wait\" to wait for a boat. Type \"swim\" to swim across.')\n",
    "            if(wg=='wait'or wg==wg.upper() or wg==wg.capitalize()):\n",
    "                print('You arrive at the island unharmed. There is a house with 3 doors. \\nOne red, one yellow and one blue. Which colour do you choose?')\n",
    "                color=input()\n",
    "                if(color=='red'or color==color.upper() or color==color.capitalize()):\n",
    "                    print(\"it's a room full of fire.Game over\")\n",
    "                elif(color=='blue'or color==color.upper() or color==color.capitalize()):\n",
    "                    print(\"You enter a room of beasts. Game Over.\")\n",
    "                elif(color=='yellow'or color==color.upper() or color==color.capitalize()):\n",
    "                    print(\"You found the treasure! You Win!\")\n",
    "                else:\n",
    "                    print(\"please choose the valid color! game over\")\n",
    "            elif(wg=='swim'or wg==wg.upper() or wg==wg.capitalize()):\n",
    "                print(\"You get attacked by an angry trout. Game Over.\")\n",
    "            else:\n",
    "                print(\"have only two choose!. Game over\")\n",
    "else:\n",
    "    print(\"please enter valid input\")\n"
   ]
  },
  {
   "cell_type": "code",
   "execution_count": 2,
   "id": "7c3edd66-51b1-43bf-b73a-dec505fd1c2d",
   "metadata": {},
   "outputs": [
    {
     "name": "stdout",
     "output_type": "stream",
     "text": [
      "welcome to the tip calculator\n"
     ]
    },
    {
     "name": "stdin",
     "output_type": "stream",
     "text": [
      "total bill amount RS 29999\n",
      "how percentage whould you like to give as a tip.its should be lessthen 50% 45\n",
      "how many people 11\n"
     ]
    },
    {
     "name": "stdout",
     "output_type": "stream",
     "text": [
      "each person should pay 3954.45\n"
     ]
    }
   ],
   "source": [
    "print(\"welcome to the tip calculator\")\n",
    "amount=input(\"total bill amount RS\")\n",
    "if(amount.isdigit() and amount!=0):\n",
    "    amount=int(amount)\n",
    "    tip_per=int(input(\"how percentage whould you like to give as a tip.its should be lessthen 50%\"))\n",
    "    if((tip_per!=0)and (tip_per<50)):\n",
    "        tip_re=round(amount*(tip_per/100))\n",
    "        total=amount+tip_re\n",
    "        no_people=int(input(\"how many people\"))\n",
    "        if(no_people>0):\n",
    "            cor=(total/no_people)\n",
    "            tip=cor-(amount/no_people)\n",
    "            if(tip>5):\n",
    "                print(\"each person should pay\",round(cor,2))\n",
    "            else:\n",
    "                print(\"you give less then 5 ruppee as a tip so, no need\")\n",
    "        else:\n",
    "            print(\"wrong no_people your given\")\n",
    "            \n",
    "    else:\n",
    "        print(\"no need\")\n",
    "else:\n",
    "    print(\"this not a amount please enter biull n\")"
   ]
  },
  {
   "cell_type": "code",
   "execution_count": null,
   "id": "0d4a7f7f-ebea-4db0-844a-2707bc571264",
   "metadata": {},
   "outputs": [],
   "source": []
  }
 ],
 "metadata": {
  "kernelspec": {
   "display_name": "Python 3 (ipykernel)",
   "language": "python",
   "name": "python3"
  },
  "language_info": {
   "codemirror_mode": {
    "name": "ipython",
    "version": 3
   },
   "file_extension": ".py",
   "mimetype": "text/x-python",
   "name": "python",
   "nbconvert_exporter": "python",
   "pygments_lexer": "ipython3",
   "version": "3.13.5"
  }
 },
 "nbformat": 4,
 "nbformat_minor": 5
}
