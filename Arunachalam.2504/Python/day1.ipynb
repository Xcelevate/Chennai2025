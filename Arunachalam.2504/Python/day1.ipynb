{
 "cells": [
  {
   "cell_type": "code",
   "execution_count": 21,
   "id": "6e9204a6-1f98-44b9-87c1-db5a9f222011",
   "metadata": {},
   "outputs": [
    {
     "name": "stdout",
     "output_type": "stream",
     "text": [
      "hello\n"
     ]
    }
   ],
   "source": [
    "print(\"hello\")"
   ]
  },
  {
   "cell_type": "code",
   "execution_count": 22,
   "id": "6e52d9d2-cfb1-4e4d-9781-6c0f9f54c8c2",
   "metadata": {},
   "outputs": [
    {
     "name": "stdin",
     "output_type": "stream",
     "text": [
      "enter your name arun\n"
     ]
    },
    {
     "data": {
      "text/plain": [
       "'arun'"
      ]
     },
     "execution_count": 22,
     "metadata": {},
     "output_type": "execute_result"
    }
   ],
   "source": [
    "input(\"enter your name\")"
   ]
  },
  {
   "cell_type": "code",
   "execution_count": 24,
   "id": "e4de0e70-dd22-4866-a1f4-6068e52223c6",
   "metadata": {},
   "outputs": [
    {
     "name": "stdout",
     "output_type": "stream",
     "text": [
      "9\n"
     ]
    }
   ],
   "source": [
    "str=\"xcelevate\"\n",
    "print(len(str))"
   ]
  },
  {
   "cell_type": "code",
   "execution_count": 26,
   "id": "4704913a-fbb7-4f92-9832-68f61d9702d1",
   "metadata": {},
   "outputs": [
    {
     "name": "stdout",
     "output_type": "stream",
     "text": [
      "<class 'int'>\n",
      "<class 'str'>\n",
      "<class 'str'>\n",
      "<class 'float'>\n"
     ]
    }
   ],
   "source": [
    "print(type(2))\n",
    "print(type(\"arun\"))\n",
    "print(type('xcelevate'))\n",
    "print(type(2.4))"
   ]
  },
  {
   "cell_type": "code",
   "execution_count": 23,
   "id": "826b3643-affe-4f3b-ab41-3eedd6a4a8df",
   "metadata": {},
   "outputs": [
    {
     "name": "stdout",
     "output_type": "stream",
     "text": [
      "30.854\n"
     ]
    }
   ],
   "source": [
    "height=1.65\n",
    "weight=84\n",
    "bmi=84/(height*height)\n",
    "print(round(bmi,3))"
   ]
  },
  {
   "cell_type": "code",
   "execution_count": 14,
   "id": "fea33be4-259e-4b62-9a45-4f0111178da8",
   "metadata": {},
   "outputs": [
    {
     "name": "stdout",
     "output_type": "stream",
     "text": [
      "my name arun age:40.0\n"
     ]
    }
   ],
   "source": [
    "name=\"arun\"\n",
    "age=40.0\n",
    "print(f\"my name {name} age:{age}\")"
   ]
  },
  {
   "cell_type": "code",
   "execution_count": 15,
   "id": "cdc3e36f-51e1-4df0-93c5-9b5f098381b0",
   "metadata": {},
   "outputs": [
    {
     "ename": "SyntaxError",
     "evalue": "invalid syntax (2784766658.py, line 1)",
     "output_type": "error",
     "traceback": [
      "  \u001b[36mCell\u001b[39m\u001b[36m \u001b[39m\u001b[32mIn[15]\u001b[39m\u001b[32m, line 1\u001b[39m\n\u001b[31m    \u001b[39m\u001b[31mprint(10%%2)\u001b[39m\n             ^\n\u001b[31mSyntaxError\u001b[39m\u001b[31m:\u001b[39m invalid syntax\n"
     ]
    }
   ],
   "source": [
    "print(10%%2)"
   ]
  },
  {
   "cell_type": "code",
   "execution_count": 16,
   "id": "78eb3bbc-d8e5-4590-aa82-20c96eb298ec",
   "metadata": {},
   "outputs": [
    {
     "ename": "NameError",
     "evalue": "name 'r' is not defined",
     "output_type": "error",
     "traceback": [
      "\u001b[31m---------------------------------------------------------------------------\u001b[39m",
      "\u001b[31mNameError\u001b[39m                                 Traceback (most recent call last)",
      "\u001b[36mCell\u001b[39m\u001b[36m \u001b[39m\u001b[32mIn[16]\u001b[39m\u001b[32m, line 3\u001b[39m\n\u001b[32m      1\u001b[39m \u001b[38;5;28;01mimport\u001b[39;00m\u001b[38;5;250m \u001b[39m\u001b[34;01mre\u001b[39;00m\n\u001b[32m      2\u001b[39m test=\u001b[33m\"\u001b[39m\u001b[33marunachalam\u001b[39m\u001b[33m\"\u001b[39m\n\u001b[32m----> \u001b[39m\u001b[32m3\u001b[39m re.findall(\u001b[43mr\u001b[49m/b/wt,text)\n",
      "\u001b[31mNameError\u001b[39m: name 'r' is not defined"
     ]
    }
   ],
   "source": []
  },
  {
   "cell_type": "code",
   "execution_count": 32,
   "id": "a4820b19-78d8-4ef4-bc31-a0ced907ca6d",
   "metadata": {},
   "outputs": [
    {
     "name": "stdout",
     "output_type": "stream",
     "text": [
      "None\n"
     ]
    }
   ],
   "source": [
    "import re\n",
    "test=\"arunachalam is worst\"\n",
    "print(re.match(r\"is\",test))"
   ]
  },
  {
   "cell_type": "code",
   "execution_count": null,
   "id": "5955df09-e90d-4326-97b2-8abe2db8cd8f",
   "metadata": {},
   "outputs": [],
   "source": []
  },
  {
   "cell_type": "code",
   "execution_count": 16,
   "id": "17d0034c-da8d-4680-b3a7-78746fb17902",
   "metadata": {},
   "outputs": [
    {
     "name": "stdin",
     "output_type": "stream",
     "text": [
      "your name dinesh\n",
      "which food you like most grill\n"
     ]
    },
    {
     "name": "stdout",
     "output_type": "stream",
     "text": [
      "ESGRILL2\n"
     ]
    }
   ],
   "source": [
    "name=input(\"your name\")\n",
    "food=input(\"which food you like most\")\n",
    "nick1=food.replace('a','o')\n",
    "nick2=name[3:-1]\n",
    "nick3=len(nick2)\n",
    "print(nick2.upper()+nick1.upper()+str(nick3))\n",
    "\n",
    " "
   ]
  },
  {
   "cell_type": "code",
   "execution_count": 2,
   "id": "cdda6c65-9455-4d08-a48d-a290c10fba69",
   "metadata": {},
   "outputs": [
    {
     "name": "stdin",
     "output_type": "stream",
     "text": [
      "your name arun\n",
      "enter your age 21]\n"
     ]
    },
    {
     "name": "stdout",
     "output_type": "stream",
     "text": [
      "name:arun age:21]\n",
      "name:arun age21]\n"
     ]
    }
   ],
   "source": [
    "name=input(\"your name\")\n",
    "age=input(\"enter your age\")\n",
    "print(f\"name:{name} age:{age}\")\n",
    "print(\"name:{} age{}\" .format(name,age))"
   ]
  },
  {
   "cell_type": "code",
   "execution_count": 6,
   "id": "815b957d-d51c-4801-addc-d585e83f01ff",
   "metadata": {},
   "outputs": [
    {
     "name": "stdout",
     "output_type": "stream",
     "text": [
      "['I', 'love', 'python']\n"
     ]
    }
   ],
   "source": [
    "text=\"I love python\"\n",
    "print(text.split(\" \"))"
   ]
  },
  {
   "cell_type": "code",
   "execution_count": 20,
   "id": "dbcf1def-ab58-4915-bfd0-a4b3c98d372c",
   "metadata": {},
   "outputs": [
    {
     "name": "stdout",
     "output_type": "stream",
     "text": [
      "i am a programmer\n"
     ]
    }
   ],
   "source": [
    "text=\"i am a programmer\"\n",
    "words=text.split(\" \")\n",
    "text_join=\" \".join(words)\n",
    "print(text_join)"
   ]
  },
  {
   "cell_type": "code",
   "execution_count": 13,
   "id": "70ee7411-3254-4dca-8561-0e0ead58dfa1",
   "metadata": {},
   "outputs": [
    {
     "name": "stdout",
     "output_type": "stream",
     "text": [
      "i_,_ _a_m_ _,_p_r_o_g_r_a_m_m_e_r\n"
     ]
    }
   ],
   "source": [
    "text=\"i, am ,programmer\"\n",
    "j=\"_\".2join(text)\n",
    "print(j)"
   ]
  },
  {
   "cell_type": "code",
   "execution_count": 19,
   "id": "d05177f6-12d2-446d-8806-0a0b88799f26",
   "metadata": {},
   "outputs": [
    {
     "name": "stdout",
     "output_type": "stream",
     "text": [
      "***viki\n"
     ]
    }
   ],
   "source": [
    "name=\"viki\"\n",
    "\n",
    "print(name.rjust(7,'*'))"
   ]
  },
  {
   "cell_type": "code",
   "execution_count": null,
   "id": "0f926a3d-0640-49c6-ab7b-fdb6610c6ccd",
   "metadata": {},
   "outputs": [],
   "source": []
  },
  {
   "cell_type": "code",
   "execution_count": null,
   "id": "b6540e8d-6331-4b71-84c3-47a2bd26aab9",
   "metadata": {},
   "outputs": [],
   "source": []
  },
  {
   "cell_type": "code",
   "execution_count": null,
   "id": "c1bb491f-96c6-4a61-b59a-672cd356a40e",
   "metadata": {},
   "outputs": [],
   "source": []
  }
 ],
 "metadata": {
  "kernelspec": {
   "display_name": "Python 3 (ipykernel)",
   "language": "python",
   "name": "python3"
  },
  "language_info": {
   "codemirror_mode": {
    "name": "ipython",
    "version": 3
   },
   "file_extension": ".py",
   "mimetype": "text/x-python",
   "name": "python",
   "nbconvert_exporter": "python",
   "pygments_lexer": "ipython3",
   "version": "3.13.5"
  }
 },
 "nbformat": 4,
 "nbformat_minor": 5
}
