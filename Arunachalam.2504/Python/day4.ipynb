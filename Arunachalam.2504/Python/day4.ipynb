{
 "cells": [
  {
   "cell_type": "code",
   "execution_count": 6,
   "id": "724a6d6d-e06e-49f7-8ac1-f8fe4e146a19",
   "metadata": {},
   "outputs": [
    {
     "name": "stdin",
     "output_type": "stream",
     "text": [
      "enter the you want print: aarrrrrun\n"
     ]
    },
    {
     "data": {
      "text/plain": [
       "'aarrrrrun'"
      ]
     },
     "execution_count": 6,
     "metadata": {},
     "output_type": "execute_result"
    }
   ],
   "source": [
    "def print_str():\n",
    "    name=input(\"enter the you want print:\")\n",
    "    return name\n",
    "print_str()\n",
    "\n",
    "    "
   ]
  },
  {
   "cell_type": "code",
   "execution_count": 1,
   "id": "4821943c-7280-40e7-97b7-3e9a4445fcf4",
   "metadata": {},
   "outputs": [
    {
     "name": "stdin",
     "output_type": "stream",
     "text": [
      "enter your string arun\n"
     ]
    },
    {
     "ename": "TypeError",
     "evalue": "unsupported operand type(s) for -: 'int' and 'str'",
     "output_type": "error",
     "traceback": [
      "\u001b[31m---------------------------------------------------------------------------\u001b[39m",
      "\u001b[31mTypeError\u001b[39m                                 Traceback (most recent call last)",
      "\u001b[36mCell\u001b[39m\u001b[36m \u001b[39m\u001b[32mIn[1]\u001b[39m\u001b[32m, line 10\u001b[39m\n\u001b[32m      8\u001b[39m         n=\u001b[38;5;28mlen\u001b[39m(arr)\n\u001b[32m      9\u001b[39m         \u001b[38;5;28;01mfor\u001b[39;00m k \u001b[38;5;129;01min\u001b[39;00m \u001b[38;5;28mrange\u001b[39m(n):\n\u001b[32m---> \u001b[39m\u001b[32m10\u001b[39m             \u001b[38;5;28;01mfor\u001b[39;00m i \u001b[38;5;129;01min\u001b[39;00m \u001b[38;5;28mrange\u001b[39m(\u001b[32m0\u001b[39m,\u001b[43mn\u001b[49m\u001b[43m-\u001b[49m\u001b[43mi\u001b[49m-\u001b[32m1\u001b[39m):\n\u001b[32m     11\u001b[39m                 a[j]>a[j+\u001b[32m1\u001b[39m]\n\u001b[32m     13\u001b[39m \u001b[38;5;28;01melse\u001b[39;00m:\n",
      "\u001b[31mTypeError\u001b[39m: unsupported operand type(s) for -: 'int' and 'str'"
     ]
    }
   ],
   "source": [
    "st=input(\"enter your string\")\n",
    "arr=[]\n",
    "if(st.isalpha):\n",
    "    str1=st.lower()\n",
    "    for i in str1:\n",
    "        arr.append(i)\n",
    "    for j in arr:\n",
    "        n=len(arr)\n",
    "        for k in range(n):\n",
    "            for i in range(0,n-i-1):\n",
    "                a[j]>a[j+1]\n",
    "                \n",
    "else:\n",
    "    print(\"please enter the valid input:\")\n",
    "    "
   ]
  },
  {
   "cell_type": "code",
   "execution_count": 1,
   "id": "1d969afe-056f-4c71-8fce-9f7016eea31a",
   "metadata": {},
   "outputs": [
    {
     "data": {
      "text/plain": [
       "type"
      ]
     },
     "execution_count": 1,
     "metadata": {},
     "output_type": "execute_result"
    }
   ],
   "source": [
    "type(int)"
   ]
  },
  {
   "cell_type": "code",
   "execution_count": 2,
   "id": "08b9e46f-504c-436e-a52b-89a947e4604b",
   "metadata": {},
   "outputs": [
    {
     "data": {
      "text/plain": [
       "type"
      ]
     },
     "execution_count": 2,
     "metadata": {},
     "output_type": "execute_result"
    }
   ],
   "source": [
    "type(float)"
   ]
  },
  {
   "cell_type": "code",
   "execution_count": 15,
   "id": "50985c50-4476-450d-88e0-7c51f9ee0891",
   "metadata": {},
   "outputs": [
    {
     "name": "stdout",
     "output_type": "stream",
     "text": [
      "121121\n"
     ]
    }
   ],
   "source": [
    "x=\"121\"\n",
    "y=2\n",
    "print(x*y )"
   ]
  },
  {
   "cell_type": "code",
   "execution_count": 16,
   "id": "969a9e7d-72c2-454e-9942-3cf7d86889b8",
   "metadata": {},
   "outputs": [
    {
     "name": "stdout",
     "output_type": "stream",
     "text": [
      "13\n"
     ]
    }
   ],
   "source": [
    "str1=\"123\"\n",
    "print(str1[::2])"
   ]
  },
  {
   "cell_type": "code",
   "execution_count": 3,
   "id": "c996885b-eb23-4922-b3af-d50114690a97",
   "metadata": {},
   "outputs": [
    {
     "name": "stdout",
     "output_type": "stream",
     "text": [
      "1470\n"
     ]
    }
   ],
   "source": [
    "str1=\"1234567890\"\n",
    "print(str1[::3])"
   ]
  },
  {
   "cell_type": "code",
   "execution_count": 4,
   "id": "459e0605-9a5e-4c50-8af1-d257167c3224",
   "metadata": {},
   "outputs": [
    {
     "name": "stdout",
     "output_type": "stream",
     "text": [
      "13\n"
     ]
    }
   ],
   "source": [
    "str1=\"1234567890\"\n",
    "print(str1[0:4:2])"
   ]
  },
  {
   "cell_type": "code",
   "execution_count": 19,
   "id": "6e8758cc-43e5-41ff-b678-5a59cab51bf3",
   "metadata": {},
   "outputs": [
    {
     "name": "stdout",
     "output_type": "stream",
     "text": [
      "13579\n"
     ]
    }
   ],
   "source": [
    "str1=\"1234567890\"\n",
    "print(str1[0:9:2])"
   ]
  },
  {
   "cell_type": "code",
   "execution_count": 20,
   "id": "f5363e59-7bdf-422d-928e-656c04dc8ee2",
   "metadata": {},
   "outputs": [
    {
     "data": {
      "text/plain": [
       "9"
      ]
     },
     "execution_count": 20,
     "metadata": {},
     "output_type": "execute_result"
    }
   ],
   "source": [
    "pow(3,2)"
   ]
  },
  {
   "cell_type": "code",
   "execution_count": 21,
   "id": "ae9c3bcd-d809-41c2-98e4-34252125d67f",
   "metadata": {},
   "outputs": [
    {
     "data": {
      "text/plain": [
       "1"
      ]
     },
     "execution_count": 21,
     "metadata": {},
     "output_type": "execute_result"
    }
   ],
   "source": [
    "pow(3,2,2)"
   ]
  },
  {
   "cell_type": "code",
   "execution_count": 22,
   "id": "2f766a97-4a1e-4646-a26f-fc9e89fb7d65",
   "metadata": {},
   "outputs": [],
   "source": [
    "import math"
   ]
  },
  {
   "cell_type": "code",
   "execution_count": 23,
   "id": "78b6b84a-960e-498d-861a-1f0a5f76b780",
   "metadata": {},
   "outputs": [
    {
     "data": {
      "text/plain": [
       "3.0"
      ]
     },
     "execution_count": 23,
     "metadata": {},
     "output_type": "execute_result"
    }
   ],
   "source": [
    "math.sqrt(9)"
   ]
  },
  {
   "cell_type": "code",
   "execution_count": 24,
   "id": "52966f73-6969-4c13-943c-42119764c360",
   "metadata": {},
   "outputs": [
    {
     "data": {
      "text/plain": [
       "0"
      ]
     },
     "execution_count": 24,
     "metadata": {},
     "output_type": "execute_result"
    }
   ],
   "source": [
    "pow(4,2,4) #pow(x,y,z) is x power y %z"
   ]
  },
  {
   "cell_type": "code",
   "execution_count": 25,
   "id": "8db1bb42-de47-4d11-81c3-53956b015a12",
   "metadata": {},
   "outputs": [
    {
     "data": {
      "text/plain": [
       "True"
      ]
     },
     "execution_count": 25,
     "metadata": {},
     "output_type": "execute_result"
    }
   ],
   "source": [
    "isinstance(5,int)"
   ]
  },
  {
   "cell_type": "code",
   "execution_count": 26,
   "id": "01f752bf-a78d-486c-8145-538ec4ff26a3",
   "metadata": {},
   "outputs": [
    {
     "data": {
      "text/plain": [
       "True"
      ]
     },
     "execution_count": 26,
     "metadata": {},
     "output_type": "execute_result"
    }
   ],
   "source": [
    "isinstance(5.0,(int,float))"
   ]
  },
  {
   "cell_type": "code",
   "execution_count": 27,
   "id": "35ea1f44-5542-466c-881d-76d74eff2279",
   "metadata": {},
   "outputs": [
    {
     "data": {
      "text/plain": [
       "True"
      ]
     },
     "execution_count": 27,
     "metadata": {},
     "output_type": "execute_result"
    }
   ],
   "source": [
    "isinstance(4+5j,complex)"
   ]
  },
  {
   "cell_type": "code",
   "execution_count": 33,
   "id": "ac3d2e29-312c-476a-99a2-c6841d945ef7",
   "metadata": {},
   "outputs": [
    {
     "data": {
      "text/plain": [
       "15"
      ]
     },
     "execution_count": 33,
     "metadata": {},
     "output_type": "execute_result"
    }
   ],
   "source": [
    "def add(a,b,*args):\n",
    "    return a+b+len(args)\n",
    "add(3,5,4,5,6,7,8,9,0)\n",
    "    "
   ]
  },
  {
   "cell_type": "code",
   "execution_count": 4,
   "id": "c0efd0d5-2377-4c26-83c8-8b918f2b99e1",
   "metadata": {},
   "outputs": [
    {
     "name": "stdout",
     "output_type": "stream",
     "text": [
      "1\n"
     ]
    }
   ],
   "source": [
    "def subtract(x,y=2):\n",
    "    return(x-y)\n",
    "print(subtract(3))\n"
   ]
  },
  {
   "cell_type": "code",
   "execution_count": 7,
   "id": "d49396ef-0865-4357-853f-7e82127fb7a8",
   "metadata": {},
   "outputs": [
    {
     "name": "stdin",
     "output_type": "stream",
     "text": [
      "enter how much value you would like to add 5\n"
     ]
    },
    {
     "name": "stdout",
     "output_type": "stream",
     "text": [
      "['a', 'r', 'u', 'n']\n"
     ]
    },
    {
     "name": "stdin",
     "output_type": "stream",
     "text": [
      "enter numbers 3\n",
      "enter numbers 3\n",
      "enter numbers 3\n",
      "enter numbers 3\n",
      "enter numbers 3\n"
     ]
    },
    {
     "name": "stdout",
     "output_type": "stream",
     "text": [
      "15\n"
     ]
    }
   ],
   "source": [
    "def sum_of_element():\n",
    "    arr=[]\n",
    "    c=0\n",
    "    for i in range(n):\n",
    "        element=int(input(\"enter numbers\"))\n",
    "        arr.append(element)\n",
    "    for j in arr:\n",
    "        c=c+j\n",
    "    return c\n",
    "n=int(input(\"enter how much value you would like to add\"))\n",
    "print(sum_of_element())       \n",
    "        "
   ]
  },
  {
   "cell_type": "code",
   "execution_count": 57,
   "id": "7e676ff0-b1c6-4bbf-9a1c-a706af7b4dca",
   "metadata": {},
   "outputs": [
    {
     "name": "stdout",
     "output_type": "stream",
     "text": [
      "arun is bad 6\n"
     ]
    }
   ],
   "source": [
    "print(f\"\"\"arun is bad {3*2}\"\"\")"
   ]
  },
  {
   "cell_type": "code",
   "execution_count": null,
   "id": "d3e946af-dcbc-42a9-a8e0-d45ef585fb7a",
   "metadata": {},
   "outputs": [],
   "source": []
  },
  {
   "cell_type": "code",
   "execution_count": null,
   "id": "e51b44a8-e4ef-4dbb-afe9-24004b61b521",
   "metadata": {},
   "outputs": [],
   "source": []
  }
 ],
 "metadata": {
  "kernelspec": {
   "display_name": "Python 3 (ipykernel)",
   "language": "python",
   "name": "python3"
  },
  "language_info": {
   "codemirror_mode": {
    "name": "ipython",
    "version": 3
   },
   "file_extension": ".py",
   "mimetype": "text/x-python",
   "name": "python",
   "nbconvert_exporter": "python",
   "pygments_lexer": "ipython3",
   "version": "3.13.5"
  }
 },
 "nbformat": 4,
 "nbformat_minor": 5
}
