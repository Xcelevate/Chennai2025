{
 "cells": [
  {
   "cell_type": "code",
   "execution_count": 5,
   "id": "f0796eb8-e7e3-4781-ba63-7d2c72eaeec8",
   "metadata": {
    "collapsed": true,
    "jupyter": {
     "outputs_hidden": true
    }
   },
   "outputs": [
    {
     "name": "stdout",
     "output_type": "stream",
     "text": [
      "                      Car_Name  Year  Selling_Price  Present_Price  Kms_Driven Fuel_Type Seller_Type Transmission  Owner\n",
      "0                         ritz  2014           3.35          5.590       27000    Petrol      Dealer       Manual      0\n",
      "1                          sx4  2013           4.75          9.540       43000    Diesel      Dealer       Manual      0\n",
      "2                         ciaz  2017           7.25          9.850        6900    Petrol      Dealer       Manual      0\n",
      "3                      wagon r  2011           2.85          4.150        5200    Petrol      Dealer       Manual      0\n",
      "4                        swift  2014           4.60          6.870       42450    Diesel      Dealer       Manual      0\n",
      "5                vitara brezza  2018           9.25          9.830        2071    Diesel      Dealer       Manual      0\n",
      "6                         ciaz  2015           6.75          8.120       18796    Petrol      Dealer       Manual      0\n",
      "7                      s cross  2015           6.50          8.610       33429    Diesel      Dealer       Manual      0\n",
      "8                         ciaz  2016           8.75          8.890       20273    Diesel      Dealer       Manual      0\n",
      "9                         ciaz  2015           7.45          8.920       42367    Diesel      Dealer       Manual      0\n",
      "10                    alto 800  2017           2.85          3.600        2135    Petrol      Dealer       Manual      0\n",
      "11                        ciaz  2015           6.85         10.380       51000    Diesel      Dealer       Manual      0\n",
      "12                        ciaz  2015           7.50          9.940       15000    Petrol      Dealer    Automatic      0\n",
      "13                      ertiga  2015           6.10          7.710       26000    Petrol      Dealer       Manual      0\n",
      "14                       dzire  2009           2.25          7.210       77427    Petrol      Dealer       Manual      0\n",
      "15                      ertiga  2016           7.75         10.790       43000    Diesel      Dealer       Manual      0\n",
      "16                      ertiga  2015           7.25         10.790       41678    Diesel      Dealer       Manual      0\n",
      "17                      ertiga  2016           7.75         10.790       43000    Diesel      Dealer       Manual      0\n",
      "18                     wagon r  2015           3.25          5.090       35500       CNG      Dealer       Manual      0\n",
      "19                         sx4  2010           2.65          7.980       41442    Petrol      Dealer       Manual      0\n",
      "20                    alto k10  2016           2.85          3.950       25000    Petrol      Dealer       Manual      0\n",
      "21                       ignis  2017           4.90          5.710        2400    Petrol      Dealer       Manual      0\n",
      "22                         sx4  2011           4.40          8.010       50000    Petrol      Dealer    Automatic      0\n",
      "23                    alto k10  2014           2.50          3.460       45280    Petrol      Dealer       Manual      0\n",
      "24                     wagon r  2013           2.90          4.410       56879    Petrol      Dealer       Manual      0\n",
      "25                       swift  2011           3.00          4.990       20000    Petrol      Dealer       Manual      0\n",
      "26                       swift  2013           4.15          5.870       55138    Petrol      Dealer       Manual      0\n",
      "27                       swift  2017           6.00          6.490       16200    Petrol  Individual       Manual      0\n",
      "28                    alto k10  2010           1.95          3.950       44542    Petrol      Dealer       Manual      0\n",
      "29                        ciaz  2015           7.45         10.380       45000    Diesel      Dealer       Manual      0\n",
      "30                        ritz  2012           3.10          5.980       51439    Diesel      Dealer       Manual      0\n",
      "31                        ritz  2011           2.35          4.890       54200    Petrol      Dealer       Manual      0\n",
      "32                       swift  2014           4.95          7.490       39000    Diesel      Dealer       Manual      0\n",
      "33                      ertiga  2014           6.00          9.950       45000    Diesel      Dealer       Manual      0\n",
      "34                       dzire  2014           5.50          8.060       45000    Diesel      Dealer       Manual      0\n",
      "35                         sx4  2011           2.95          7.740       49998       CNG      Dealer       Manual      0\n",
      "36                       dzire  2015           4.65          7.200       48767    Petrol      Dealer       Manual      0\n",
      "37                         800  2003           0.35          2.280      127000    Petrol  Individual       Manual      0\n",
      "38                    alto k10  2016           3.00          3.760       10079    Petrol      Dealer       Manual      0\n",
      "39                         sx4  2003           2.25          7.980       62000    Petrol      Dealer       Manual      0\n",
      "40                      baleno  2016           5.85          7.870       24524    Petrol      Dealer    Automatic      0\n",
      "41                    alto k10  2014           2.55          3.980       46706    Petrol      Dealer       Manual      0\n",
      "42                         sx4  2008           1.95          7.150       58000    Petrol      Dealer       Manual      0\n",
      "43                       dzire  2014           5.50          8.060       45780    Diesel      Dealer       Manual      0\n",
      "44                        omni  2012           1.25          2.690       50000    Petrol      Dealer       Manual      0\n",
      "45                        ciaz  2014           7.50         12.040       15000    Petrol      Dealer    Automatic      0\n",
      "46                        ritz  2013           2.65          4.890       64532    Petrol      Dealer       Manual      0\n",
      "47                     wagon r  2006           1.05          4.150       65000    Petrol      Dealer       Manual      0\n",
      "48                      ertiga  2015           5.80          7.710       25870    Petrol      Dealer       Manual      0\n",
      "49                        ciaz  2017           7.75          9.290       37000    Petrol      Dealer    Automatic      0\n",
      "50                    fortuner  2012          14.90         30.610      104707    Diesel      Dealer    Automatic      0\n",
      "51                    fortuner  2015          23.00         30.610       40000    Diesel      Dealer    Automatic      0\n",
      "52                      innova  2017          18.00         19.770       15000    Diesel      Dealer    Automatic      0\n",
      "53                    fortuner  2013          16.00         30.610      135000    Diesel  Individual    Automatic      0\n",
      "54                      innova  2005           2.75         10.210       90000    Petrol  Individual       Manual      0\n",
      "55               corolla altis  2009           3.60         15.040       70000    Petrol      Dealer    Automatic      0\n",
      "56                 etios cross  2015           4.50          7.270       40534    Petrol      Dealer       Manual      0\n",
      "57               corolla altis  2010           4.75         18.540       50000    Petrol      Dealer       Manual      0\n",
      "58                     etios g  2014           4.10          6.800       39485    Petrol      Dealer       Manual      1\n",
      "59                    fortuner  2014          19.99         35.960       41000    Diesel      Dealer    Automatic      0\n",
      "60               corolla altis  2013           6.95         18.610       40001    Petrol      Dealer       Manual      0\n",
      "61                 etios cross  2015           4.50          7.700       40588    Petrol      Dealer       Manual      0\n",
      "62                    fortuner  2014          18.75         35.960       78000    Diesel      Dealer    Automatic      0\n",
      "63                    fortuner  2015          23.50         35.960       47000    Diesel      Dealer    Automatic      0\n",
      "64                    fortuner  2017          33.00         36.230        6000    Diesel      Dealer    Automatic      0\n",
      "65                  etios liva  2014           4.75          6.950       45000    Diesel      Dealer       Manual      0\n",
      "66                      innova  2017          19.75         23.150       11000    Petrol      Dealer    Automatic      0\n",
      "67                    fortuner  2010           9.25         20.450       59000    Diesel      Dealer       Manual      0\n",
      "68               corolla altis  2011           4.35         13.740       88000    Petrol      Dealer       Manual      0\n",
      "69               corolla altis  2016          14.25         20.910       12000    Petrol      Dealer       Manual      0\n",
      "70                  etios liva  2014           3.95          6.760       71000    Diesel      Dealer       Manual      0\n",
      "71               corolla altis  2011           4.50         12.480       45000    Diesel      Dealer       Manual      0\n",
      "72               corolla altis  2013           7.45         18.610       56001    Petrol      Dealer       Manual      0\n",
      "73                  etios liva  2011           2.65          5.710       43000    Petrol      Dealer       Manual      0\n",
      "74                 etios cross  2014           4.90          8.930       83000    Diesel      Dealer       Manual      0\n",
      "75                     etios g  2015           3.95          6.800       36000    Petrol      Dealer       Manual      0\n",
      "76               corolla altis  2013           5.50         14.680       72000    Petrol      Dealer       Manual      0\n",
      "77                     corolla  2004           1.50         12.350      135154    Petrol      Dealer    Automatic      0\n",
      "78               corolla altis  2010           5.25         22.830       80000    Petrol      Dealer    Automatic      0\n",
      "79                    fortuner  2012          14.50         30.610       89000    Diesel      Dealer    Automatic      0\n",
      "80               corolla altis  2016          14.73         14.890       23000    Diesel      Dealer       Manual      0\n",
      "81                    etios gd  2015           4.75          7.850       40000    Diesel      Dealer       Manual      0\n",
      "82                      innova  2017          23.00         25.390       15000    Diesel      Dealer    Automatic      0\n",
      "83                      innova  2015          12.50         13.460       38000    Diesel      Dealer       Manual      0\n",
      "84                      innova  2005           3.49         13.460      197176    Diesel      Dealer       Manual      0\n",
      "85                       camry  2006           2.50         23.730      142000    Petrol  Individual    Automatic      3\n",
      "86                land cruiser  2010          35.00         92.600       78000    Diesel      Dealer       Manual      0\n",
      "87               corolla altis  2012           5.90         13.740       56000    Petrol      Dealer       Manual      0\n",
      "88                  etios liva  2013           3.45          6.050       47000    Petrol      Dealer       Manual      0\n",
      "89                     etios g  2014           4.75          6.760       40000    Petrol      Dealer       Manual      0\n",
      "90               corolla altis  2009           3.80         18.610       62000    Petrol      Dealer       Manual      0\n",
      "91                      innova  2014          11.25         16.090       58242    Diesel      Dealer       Manual      0\n",
      "92                      innova  2005           3.51         13.700       75000    Petrol      Dealer       Manual      0\n",
      "93                    fortuner  2015          23.00         30.610       40000    Diesel      Dealer    Automatic      0\n",
      "94               corolla altis  2008           4.00         22.780       89000    Petrol      Dealer    Automatic      0\n",
      "95               corolla altis  2012           5.85         18.610       72000    Petrol      Dealer       Manual      0\n",
      "96                      innova  2016          20.75         25.390       29000    Diesel      Dealer    Automatic      0\n",
      "97               corolla altis  2017          17.00         18.640        8700    Petrol      Dealer       Manual      0\n",
      "98               corolla altis  2013           7.05         18.610       45000    Petrol      Dealer       Manual      0\n",
      "99                    fortuner  2010           9.65         20.450       50024    Diesel      Dealer       Manual      0\n",
      "100  Royal Enfield Thunder 500  2016           1.75          1.900        3000    Petrol  Individual       Manual      0\n",
      "101         UM Renegade Mojave  2017           1.70          1.820        1400    Petrol  Individual       Manual      0\n",
      "102                  KTM RC200  2017           1.65          1.780        4000    Petrol  Individual       Manual      0\n",
      "103          Bajaj Dominar 400  2017           1.45          1.600        1200    Petrol  Individual       Manual      0\n",
      "104  Royal Enfield Classic 350  2017           1.35          1.470        4100    Petrol  Individual       Manual      0\n",
      "105                  KTM RC390  2015           1.35          2.370       21700    Petrol  Individual       Manual      0\n",
      "106             Hyosung GT250R  2014           1.35          3.450       16500    Petrol  Individual       Manual      1\n",
      "107  Royal Enfield Thunder 350  2013           1.25          1.500       15000    Petrol  Individual       Manual      0\n",
      "108  Royal Enfield Thunder 350  2016           1.20          1.500       18000    Petrol  Individual       Manual      0\n",
      "109  Royal Enfield Classic 350  2017           1.20          1.470       11000    Petrol  Individual       Manual      0\n",
      "110                  KTM RC200  2016           1.20          1.780        6000    Petrol  Individual       Manual      0\n",
      "111  Royal Enfield Thunder 350  2016           1.15          1.500        8700    Petrol  Individual       Manual      0\n",
      "112              KTM 390 Duke   2014           1.15          2.400        7000    Petrol  Individual       Manual      0\n",
      "113        Mahindra Mojo XT300  2016           1.15          1.400       35000    Petrol  Individual       Manual      0\n",
      "114  Royal Enfield Classic 350  2015           1.15          1.470       17000    Petrol  Individual       Manual      0\n",
      "115  Royal Enfield Classic 350  2015           1.11          1.470       17500    Petrol  Individual       Manual      0\n",
      "116  Royal Enfield Classic 350  2013           1.10          1.470       33000    Petrol  Individual       Manual      0\n",
      "117  Royal Enfield Thunder 500  2015           1.10          1.900       14000    Petrol  Individual       Manual      0\n",
      "118  Royal Enfield Classic 350  2015           1.10          1.470       26000    Petrol  Individual       Manual      0\n",
      "119  Royal Enfield Thunder 500  2013           1.05          1.900        5400    Petrol  Individual       Manual      0\n",
      "120         Bajaj Pulsar RS200  2016           1.05          1.260        5700    Petrol  Individual       Manual      0\n",
      "121  Royal Enfield Thunder 350  2011           1.05          1.500        6900    Petrol  Individual       Manual      0\n",
      "122   Royal Enfield Bullet 350  2016           1.05          1.170        6000    Petrol  Individual       Manual      0\n",
      "123  Royal Enfield Classic 350  2013           1.00          1.470       46500    Petrol  Individual       Manual      0\n",
      "124  Royal Enfield Classic 500  2012           0.95          1.750       11500    Petrol  Individual       Manual      0\n",
      "125  Royal Enfield Classic 500  2009           0.90          1.750       40000    Petrol  Individual       Manual      0\n",
      "126          Bajaj Avenger 220  2017           0.90          0.950        1300    Petrol  Individual       Manual      0\n",
      "127          Bajaj Avenger 150  2016           0.75          0.800        7000    Petrol  Individual       Manual      0\n",
      "128       Honda CB Hornet 160R  2017           0.80          0.870        3000    Petrol  Individual       Manual      0\n",
      "129          Yamaha FZ S V 2.0  2017           0.78          0.840        5000    Petrol  Individual       Manual      0\n",
      "130       Honda CB Hornet 160R  2017           0.75          0.870       11000    Petrol  Individual       Manual      0\n",
      "131               Yamaha FZ 16  2015           0.75          0.820       18000    Petrol  Individual       Manual      0\n",
      "132          Bajaj Avenger 220  2017           0.75          0.950        3500    Petrol  Individual       Manual      0\n",
      "133          Bajaj Avenger 220  2016           0.72          0.950         500    Petrol  Individual       Manual      0\n",
      "134         TVS Apache RTR 160  2017           0.65          0.810       11800    Petrol  Individual       Manual      0\n",
      "135           Bajaj Pulsar 150  2015           0.65          0.740        5000    Petrol  Individual       Manual      0\n",
      "136              Honda CBR 150  2014           0.65          1.200       23500    Petrol  Individual       Manual      0\n",
      "137               Hero Extreme  2013           0.65          0.787       16000    Petrol  Individual       Manual      0\n",
      "138       Honda CB Hornet 160R  2016           0.60          0.870       15000    Petrol  Individual       Manual      0\n",
      "139     Bajaj Avenger 220 dtsi  2015           0.60          0.950       16600    Petrol  Individual       Manual      0\n",
      "140              Honda CBR 150  2013           0.60          1.200       32000    Petrol  Individual       Manual      0\n",
      "141   Bajaj Avenger 150 street  2016           0.60          0.800       20000    Petrol  Individual       Manual      0\n",
      "142           Yamaha FZ  v 2.0  2015           0.60          0.840       29000    Petrol  Individual       Manual      0\n",
      "143           Yamaha FZ  v 2.0  2016           0.60          0.840       25000    Petrol  Individual       Manual      0\n",
      "144       Bajaj Pulsar  NS 200  2014           0.60          0.990       25000    Petrol  Individual       Manual      0\n",
      "145         TVS Apache RTR 160  2012           0.60          0.810       19000    Petrol  Individual       Manual      0\n",
      "146               Hero Extreme  2014           0.55          0.787       15000    Petrol  Individual       Manual      0\n",
      "147          Yamaha FZ S V 2.0  2015           0.55          0.840       58000    Petrol  Individual       Manual      0\n",
      "148         Bajaj Pulsar 220 F  2010           0.52          0.940       45000    Petrol  Individual       Manual      0\n",
      "149         Bajaj Pulsar 220 F  2016           0.51          0.940       24000    Petrol  Individual       Manual      0\n",
      "150         TVS Apache RTR 180  2011           0.50          0.826        6000    Petrol  Individual       Manual      0\n",
      "151         Hero Passion X pro  2016           0.50          0.550       31000    Petrol  Individual       Manual      0\n",
      "152        Bajaj Pulsar NS 200  2012           0.50          0.990       13000    Petrol  Individual       Manual      0\n",
      "153        Bajaj Pulsar NS 200  2013           0.50          0.990       45000    Petrol  Individual       Manual      0\n",
      "154              Yamaha Fazer   2014           0.50          0.880        8000    Petrol  Individual       Manual      0\n",
      "155            Honda Activa 4G  2017           0.48          0.510        4300    Petrol  Individual    Automatic      0\n",
      "156                 TVS Sport   2017           0.48          0.520       15000    Petrol  Individual       Manual      0\n",
      "157          Yamaha FZ S V 2.0  2015           0.48          0.840       23000    Petrol  Individual       Manual      0\n",
      "158          Honda Dream Yuga   2017           0.48          0.540        8600    Petrol  Individual       Manual      0\n",
      "159            Honda Activa 4G  2017           0.45          0.510        4000    Petrol  Individual    Automatic      0\n",
      "160   Bajaj Avenger Street 220  2011           0.45          0.950       24000    Petrol  Individual       Manual      0\n",
      "161         TVS Apache RTR 180  2014           0.45          0.826       23000    Petrol  Individual       Manual      0\n",
      "162        Bajaj Pulsar NS 200  2012           0.45          0.990       14500    Petrol  Individual       Manual      0\n",
      "163     Bajaj Avenger 220 dtsi  2010           0.45          0.950       27000    Petrol  Individual       Manual      0\n",
      "164       Hero Splender iSmart  2016           0.45          0.540       14000    Petrol  Individual       Manual      0\n",
      "165                  Activa 3g  2016           0.45          0.540         500    Petrol  Individual    Automatic      0\n",
      "166           Hero Passion Pro  2016           0.45          0.550        1000    Petrol  Individual       Manual      0\n",
      "167         TVS Apache RTR 160  2014           0.42          0.810       42000    Petrol  Individual       Manual      0\n",
      "168           Honda CB Trigger  2013           0.42          0.730       12000    Petrol  Individual       Manual      0\n",
      "169       Hero Splender iSmart  2015           0.40          0.540       14000    Petrol  Individual       Manual      0\n",
      "170               Yamaha FZ S   2012           0.40          0.830        5500    Petrol  Individual       Manual      0\n",
      "171           Hero Passion Pro  2015           0.40          0.550        6700    Petrol  Individual       Manual      0\n",
      "172        Bajaj Pulsar 135 LS  2014           0.40          0.640       13700    Petrol  Individual       Manual      0\n",
      "173                  Activa 4g  2017           0.40          0.510        1300    Petrol  Individual    Automatic      0\n",
      "174           Honda CB Unicorn  2015           0.38          0.720       38600    Petrol  Individual       Manual      0\n",
      "175     Hero Honda CBZ extreme  2011           0.38          0.787       75000    Petrol  Individual       Manual      0\n",
      "176              Honda Karizma  2011           0.35          1.050       30000    Petrol  Individual       Manual      0\n",
      "177           Honda Activa 125  2016           0.35          0.570       24000    Petrol  Individual    Automatic      0\n",
      "178                TVS Jupyter  2014           0.35          0.520       19000    Petrol  Individual    Automatic      0\n",
      "179              Honda Karizma  2010           0.31          1.050      213000    Petrol  Individual       Manual      0\n",
      "180     Hero Honda Passion Pro  2012           0.30          0.510       60000    Petrol  Individual       Manual      0\n",
      "181         Hero Splender Plus  2016           0.30          0.480       50000    Petrol  Individual       Manual      0\n",
      "182             Honda CB Shine  2013           0.30          0.580       30000    Petrol  Individual       Manual      0\n",
      "183         Bajaj Discover 100  2013           0.27          0.470       21000    Petrol  Individual       Manual      0\n",
      "184           Bajaj Pulsar 150  2008           0.25          0.750       26000    Petrol  Individual       Manual      1\n",
      "185          Suzuki Access 125  2008           0.25          0.580        1900    Petrol  Individual    Automatic      0\n",
      "186                   TVS Wego  2010           0.25          0.520       22000    Petrol  Individual    Automatic      0\n",
      "187           Honda CB twister  2013           0.25          0.510       32000    Petrol  Individual       Manual      0\n",
      "188               Hero Glamour  2013           0.25          0.570       18000    Petrol  Individual       Manual      0\n",
      "189        Hero Super Splendor  2005           0.20          0.570       55000    Petrol  Individual       Manual      0\n",
      "190           Bajaj Pulsar 150  2008           0.20          0.750       60000    Petrol  Individual       Manual      0\n",
      "191         Bajaj Discover 125  2012           0.20          0.570       25000    Petrol  Individual       Manual      1\n",
      "192                  Hero Hunk  2007           0.20          0.750       49000    Petrol  Individual       Manual      1\n",
      "193         Hero  Ignitor Disc  2013           0.20          0.650       24000    Petrol  Individual       Manual      1\n",
      "194           Hero  CBZ Xtreme  2008           0.20          0.787       50000    Petrol  Individual       Manual      0\n",
      "195              Bajaj  ct 100  2015           0.18          0.320       35000    Petrol  Individual       Manual      0\n",
      "196                  Activa 3g  2008           0.17          0.520      500000    Petrol  Individual    Automatic      0\n",
      "197           Honda CB twister  2010           0.16          0.510       33000    Petrol  Individual       Manual      0\n",
      "198         Bajaj Discover 125  2011           0.15          0.570       35000    Petrol  Individual       Manual      1\n",
      "199             Honda CB Shine  2007           0.12          0.580       53000    Petrol  Individual       Manual      0\n",
      "200           Bajaj Pulsar 150  2006           0.10          0.750       92233    Petrol  Individual       Manual      0\n",
      "201                        i20  2010           3.25          6.790       58000    Diesel      Dealer       Manual      1\n",
      "202                  grand i10  2015           4.40          5.700       28200    Petrol      Dealer       Manual      0\n",
      "203                        i10  2011           2.95          4.600       53460    Petrol      Dealer       Manual      0\n",
      "204                        eon  2015           2.75          4.430       28282    Petrol      Dealer       Manual      0\n",
      "205                  grand i10  2016           5.25          5.700        3493    Petrol      Dealer       Manual      1\n",
      "206                      xcent  2017           5.75          7.130       12479    Petrol      Dealer       Manual      0\n",
      "207                  grand i10  2015           5.15          5.700       34797    Petrol      Dealer    Automatic      0\n",
      "208                        i20  2017           7.90          8.100        3435    Petrol      Dealer       Manual      0\n",
      "209                  grand i10  2015           4.85          5.700       21125    Diesel      Dealer       Manual      0\n",
      "210                        i10  2012           3.10          4.600       35775    Petrol      Dealer       Manual      0\n",
      "211                    elantra  2015          11.75         14.790       43535    Diesel      Dealer       Manual      0\n",
      "212                      creta  2016          11.25         13.600       22671    Petrol      Dealer       Manual      0\n",
      "213                        i20  2011           2.90          6.790       31604    Petrol      Dealer       Manual      0\n",
      "214                  grand i10  2017           5.25          5.700       20114    Petrol      Dealer       Manual      0\n",
      "215                      verna  2012           4.50          9.400       36100    Petrol      Dealer       Manual      0\n",
      "216                        eon  2016           2.90          4.430       12500    Petrol      Dealer       Manual      0\n",
      "217                        eon  2016           3.15          4.430       15000    Petrol      Dealer       Manual      0\n",
      "218                      verna  2014           6.45          9.400       45078    Petrol      Dealer       Manual      0\n",
      "219                      verna  2012           4.50          9.400       36000    Petrol      Dealer       Manual      0\n",
      "220                        eon  2017           3.50          4.430       38488    Petrol      Dealer       Manual      0\n",
      "221                        i20  2013           4.50          6.790       32000    Petrol      Dealer    Automatic      0\n",
      "222                        i20  2014           6.00          7.600       77632    Diesel      Dealer       Manual      0\n",
      "223                      verna  2015           8.25          9.400       61381    Diesel      Dealer       Manual      0\n",
      "224                      verna  2013           5.11          9.400       36198    Petrol      Dealer    Automatic      0\n",
      "225                        i10  2011           2.70          4.600       22517    Petrol      Dealer       Manual      0\n",
      "226                  grand i10  2015           5.25          5.700       24678    Petrol      Dealer       Manual      0\n",
      "227                        i10  2011           2.55          4.430       57000    Petrol      Dealer       Manual      0\n",
      "228                      verna  2012           4.95          9.400       60000    Diesel      Dealer       Manual      0\n",
      "229                        i20  2012           3.10          6.790       52132    Diesel      Dealer       Manual      0\n",
      "230                      verna  2013           6.15          9.400       45000    Diesel      Dealer       Manual      0\n",
      "231                      verna  2017           9.25          9.400       15001    Petrol      Dealer       Manual      0\n",
      "232                    elantra  2015          11.45         14.790       12900    Petrol      Dealer    Automatic      0\n",
      "233                  grand i10  2013           3.90          5.700       53000    Diesel      Dealer       Manual      0\n",
      "234                  grand i10  2015           5.50          5.700        4492    Petrol      Dealer       Manual      0\n",
      "235                      verna  2017           9.10          9.400       15141    Petrol      Dealer       Manual      0\n",
      "236                        eon  2016           3.10          4.430       11849    Petrol      Dealer       Manual      0\n",
      "237                      creta  2015          11.25         13.600       68000    Diesel      Dealer       Manual      0\n",
      "238                      verna  2013           4.80          9.400       60241    Petrol      Dealer       Manual      0\n",
      "239                        eon  2012           2.00          4.430       23709    Petrol      Dealer       Manual      0\n",
      "240                      verna  2012           5.35          9.400       32322    Diesel      Dealer       Manual      0\n",
      "241                      xcent  2015           4.75          7.130       35866    Petrol      Dealer       Manual      1\n",
      "242                      xcent  2014           4.40          7.130       34000    Petrol      Dealer       Manual      0\n",
      "243                        i20  2016           6.25          7.600        7000    Petrol      Dealer       Manual      0\n",
      "244                      verna  2013           5.95          9.400       49000    Diesel      Dealer       Manual      0\n",
      "245                      verna  2012           5.20          9.400       71000    Diesel      Dealer       Manual      0\n",
      "246                        i20  2012           3.75          6.790       35000    Petrol      Dealer       Manual      0\n",
      "247                      verna  2015           5.95          9.400       36000    Petrol      Dealer       Manual      0\n",
      "248                        i10  2013           4.00          4.600       30000    Petrol      Dealer       Manual      0\n",
      "249                        i20  2016           5.25          7.600       17000    Petrol      Dealer       Manual      0\n",
      "250                      creta  2016          12.90         13.600       35934    Diesel      Dealer       Manual      0\n",
      "251                       city  2013           5.00          9.900       56701    Petrol      Dealer       Manual      0\n",
      "252                       brio  2015           5.40          6.820       31427    Petrol      Dealer    Automatic      0\n",
      "253                       city  2014           7.20          9.900       48000    Diesel      Dealer       Manual      0\n",
      "254                       city  2013           5.25          9.900       54242    Petrol      Dealer       Manual      0\n",
      "255                       brio  2012           3.00          5.350       53675    Petrol      Dealer       Manual      0\n",
      "256                       city  2016          10.25         13.600       49562    Petrol      Dealer       Manual      0\n",
      "257                       city  2015           8.50         13.600       40324    Petrol      Dealer       Manual      0\n",
      "258                       city  2015           8.40         13.600       25000    Petrol      Dealer       Manual      0\n",
      "259                      amaze  2014           3.90          7.000       36054    Petrol      Dealer       Manual      0\n",
      "260                       city  2016           9.15         13.600       29223    Petrol      Dealer       Manual      0\n",
      "261                       brio  2016           5.50          5.970        5600    Petrol      Dealer       Manual      0\n",
      "262                      amaze  2015           4.00          5.800       40023    Petrol      Dealer       Manual      0\n",
      "263                       jazz  2016           6.60          7.700       16002    Petrol      Dealer       Manual      0\n",
      "264                      amaze  2015           4.00          7.000       40026    Petrol      Dealer       Manual      0\n",
      "265                       jazz  2017           6.50          8.700       21200    Petrol      Dealer       Manual      0\n",
      "266                      amaze  2014           3.65          7.000       35000    Petrol      Dealer       Manual      0\n",
      "267                       city  2016           8.35          9.400       19434    Diesel      Dealer       Manual      0\n",
      "268                       brio  2017           4.80          5.800       19000    Petrol      Dealer       Manual      0\n",
      "269                       city  2015           6.70         10.000       18828    Petrol      Dealer       Manual      0\n",
      "270                       city  2011           4.10         10.000       69341    Petrol      Dealer       Manual      0\n",
      "271                       city  2009           3.00         10.000       69562    Petrol      Dealer       Manual      0\n",
      "272                       city  2015           7.50         10.000       27600    Petrol      Dealer       Manual      0\n",
      "273                       jazz  2010           2.25          7.500       61203    Petrol      Dealer       Manual      0\n",
      "274                       brio  2014           5.30          6.800       16500    Petrol      Dealer       Manual      0\n",
      "275                       city  2016          10.90         13.600       30753    Petrol      Dealer    Automatic      0\n",
      "276                       city  2015           8.65         13.600       24800    Petrol      Dealer       Manual      0\n",
      "277                       city  2015           9.70         13.600       21780    Petrol      Dealer       Manual      0\n",
      "278                       jazz  2016           6.00          8.400        4000    Petrol      Dealer       Manual      0\n",
      "279                       city  2014           6.25         13.600       40126    Petrol      Dealer       Manual      0\n",
      "280                       brio  2015           5.25          5.900       14465    Petrol      Dealer       Manual      0\n",
      "281                       city  2006           2.10          7.600       50456    Petrol      Dealer       Manual      0\n",
      "282                       city  2014           8.25         14.000       63000    Diesel      Dealer       Manual      0\n",
      "283                       city  2016           8.99         11.800        9010    Petrol      Dealer       Manual      0\n",
      "284                       brio  2013           3.50          5.900        9800    Petrol      Dealer       Manual      0\n",
      "285                       jazz  2016           7.40          8.500       15059    Petrol      Dealer    Automatic      0\n",
      "286                       jazz  2016           5.65          7.900       28569    Petrol      Dealer       Manual      0\n",
      "287                      amaze  2015           5.75          7.500       44000    Petrol      Dealer    Automatic      0\n",
      "288                       city  2015           8.40         13.600       34000    Petrol      Dealer       Manual      0\n",
      "289                       city  2016          10.11         13.600       10980    Petrol      Dealer       Manual      0\n",
      "290                      amaze  2014           4.50          6.400       19000    Petrol      Dealer       Manual      0\n",
      "291                       brio  2015           5.40          6.100       31427    Petrol      Dealer       Manual      0\n",
      "292                       jazz  2016           6.40          8.400       12000    Petrol      Dealer       Manual      0\n",
      "293                       city  2010           3.25          9.900       38000    Petrol      Dealer       Manual      0\n",
      "294                      amaze  2014           3.75          6.800       33019    Petrol      Dealer       Manual      0\n",
      "295                       city  2015           8.55         13.090       60076    Diesel      Dealer       Manual      0\n",
      "296                       city  2016           9.50         11.600       33988    Diesel      Dealer       Manual      0\n",
      "297                       brio  2015           4.00          5.900       60000    Petrol      Dealer       Manual      0\n",
      "298                       city  2009           3.35         11.000       87934    Petrol      Dealer       Manual      0\n",
      "299                       city  2017          11.50         12.500        9000    Diesel      Dealer       Manual      0\n",
      "300                       brio  2016           5.30          5.900        5464    Petrol      Dealer       Manual      0\n"
     ]
    }
   ],
   "source": [
    "import pandas as pd \n",
    "df = pd.read_csv('car.csv')\n",
    "print(df.to_string())"
   ]
  },
  {
   "cell_type": "code",
   "execution_count": 6,
   "id": "f4cb9866-8a7f-4ba5-b45a-a5c84166cda4",
   "metadata": {},
   "outputs": [
    {
     "name": "stdout",
     "output_type": "stream",
     "text": [
      "60\n"
     ]
    }
   ],
   "source": [
    "import pandas as pd\n",
    "print(pd.options.display.max_rows)"
   ]
  },
  {
   "cell_type": "code",
   "execution_count": 7,
   "id": "24edfa51-fda7-4c6b-8cbe-fc41b33767cb",
   "metadata": {
    "collapsed": true,
    "jupyter": {
     "outputs_hidden": true
    }
   },
   "outputs": [
    {
     "name": "stdout",
     "output_type": "stream",
     "text": [
      "                      Car_Name  Year  Selling_Price  Present_Price  \\\n",
      "0                         ritz  2014           3.35          5.590   \n",
      "1                          sx4  2013           4.75          9.540   \n",
      "2                         ciaz  2017           7.25          9.850   \n",
      "3                      wagon r  2011           2.85          4.150   \n",
      "4                        swift  2014           4.60          6.870   \n",
      "5                vitara brezza  2018           9.25          9.830   \n",
      "6                         ciaz  2015           6.75          8.120   \n",
      "7                      s cross  2015           6.50          8.610   \n",
      "8                         ciaz  2016           8.75          8.890   \n",
      "9                         ciaz  2015           7.45          8.920   \n",
      "10                    alto 800  2017           2.85          3.600   \n",
      "11                        ciaz  2015           6.85         10.380   \n",
      "12                        ciaz  2015           7.50          9.940   \n",
      "13                      ertiga  2015           6.10          7.710   \n",
      "14                       dzire  2009           2.25          7.210   \n",
      "15                      ertiga  2016           7.75         10.790   \n",
      "16                      ertiga  2015           7.25         10.790   \n",
      "17                      ertiga  2016           7.75         10.790   \n",
      "18                     wagon r  2015           3.25          5.090   \n",
      "19                         sx4  2010           2.65          7.980   \n",
      "20                    alto k10  2016           2.85          3.950   \n",
      "21                       ignis  2017           4.90          5.710   \n",
      "22                         sx4  2011           4.40          8.010   \n",
      "23                    alto k10  2014           2.50          3.460   \n",
      "24                     wagon r  2013           2.90          4.410   \n",
      "25                       swift  2011           3.00          4.990   \n",
      "26                       swift  2013           4.15          5.870   \n",
      "27                       swift  2017           6.00          6.490   \n",
      "28                    alto k10  2010           1.95          3.950   \n",
      "29                        ciaz  2015           7.45         10.380   \n",
      "30                        ritz  2012           3.10          5.980   \n",
      "31                        ritz  2011           2.35          4.890   \n",
      "32                       swift  2014           4.95          7.490   \n",
      "33                      ertiga  2014           6.00          9.950   \n",
      "34                       dzire  2014           5.50          8.060   \n",
      "35                         sx4  2011           2.95          7.740   \n",
      "36                       dzire  2015           4.65          7.200   \n",
      "37                         800  2003           0.35          2.280   \n",
      "38                    alto k10  2016           3.00          3.760   \n",
      "39                         sx4  2003           2.25          7.980   \n",
      "40                      baleno  2016           5.85          7.870   \n",
      "41                    alto k10  2014           2.55          3.980   \n",
      "42                         sx4  2008           1.95          7.150   \n",
      "43                       dzire  2014           5.50          8.060   \n",
      "44                        omni  2012           1.25          2.690   \n",
      "45                        ciaz  2014           7.50         12.040   \n",
      "46                        ritz  2013           2.65          4.890   \n",
      "47                     wagon r  2006           1.05          4.150   \n",
      "48                      ertiga  2015           5.80          7.710   \n",
      "49                        ciaz  2017           7.75          9.290   \n",
      "50                    fortuner  2012          14.90         30.610   \n",
      "51                    fortuner  2015          23.00         30.610   \n",
      "52                      innova  2017          18.00         19.770   \n",
      "53                    fortuner  2013          16.00         30.610   \n",
      "54                      innova  2005           2.75         10.210   \n",
      "55               corolla altis  2009           3.60         15.040   \n",
      "56                 etios cross  2015           4.50          7.270   \n",
      "57               corolla altis  2010           4.75         18.540   \n",
      "58                     etios g  2014           4.10          6.800   \n",
      "59                    fortuner  2014          19.99         35.960   \n",
      "60               corolla altis  2013           6.95         18.610   \n",
      "61                 etios cross  2015           4.50          7.700   \n",
      "62                    fortuner  2014          18.75         35.960   \n",
      "63                    fortuner  2015          23.50         35.960   \n",
      "64                    fortuner  2017          33.00         36.230   \n",
      "65                  etios liva  2014           4.75          6.950   \n",
      "66                      innova  2017          19.75         23.150   \n",
      "67                    fortuner  2010           9.25         20.450   \n",
      "68               corolla altis  2011           4.35         13.740   \n",
      "69               corolla altis  2016          14.25         20.910   \n",
      "70                  etios liva  2014           3.95          6.760   \n",
      "71               corolla altis  2011           4.50         12.480   \n",
      "72               corolla altis  2013           7.45         18.610   \n",
      "73                  etios liva  2011           2.65          5.710   \n",
      "74                 etios cross  2014           4.90          8.930   \n",
      "75                     etios g  2015           3.95          6.800   \n",
      "76               corolla altis  2013           5.50         14.680   \n",
      "77                     corolla  2004           1.50         12.350   \n",
      "78               corolla altis  2010           5.25         22.830   \n",
      "79                    fortuner  2012          14.50         30.610   \n",
      "80               corolla altis  2016          14.73         14.890   \n",
      "81                    etios gd  2015           4.75          7.850   \n",
      "82                      innova  2017          23.00         25.390   \n",
      "83                      innova  2015          12.50         13.460   \n",
      "84                      innova  2005           3.49         13.460   \n",
      "85                       camry  2006           2.50         23.730   \n",
      "86                land cruiser  2010          35.00         92.600   \n",
      "87               corolla altis  2012           5.90         13.740   \n",
      "88                  etios liva  2013           3.45          6.050   \n",
      "89                     etios g  2014           4.75          6.760   \n",
      "90               corolla altis  2009           3.80         18.610   \n",
      "91                      innova  2014          11.25         16.090   \n",
      "92                      innova  2005           3.51         13.700   \n",
      "93                    fortuner  2015          23.00         30.610   \n",
      "94               corolla altis  2008           4.00         22.780   \n",
      "95               corolla altis  2012           5.85         18.610   \n",
      "96                      innova  2016          20.75         25.390   \n",
      "97               corolla altis  2017          17.00         18.640   \n",
      "98               corolla altis  2013           7.05         18.610   \n",
      "99                    fortuner  2010           9.65         20.450   \n",
      "100  Royal Enfield Thunder 500  2016           1.75          1.900   \n",
      "101         UM Renegade Mojave  2017           1.70          1.820   \n",
      "102                  KTM RC200  2017           1.65          1.780   \n",
      "103          Bajaj Dominar 400  2017           1.45          1.600   \n",
      "104  Royal Enfield Classic 350  2017           1.35          1.470   \n",
      "105                  KTM RC390  2015           1.35          2.370   \n",
      "106             Hyosung GT250R  2014           1.35          3.450   \n",
      "107  Royal Enfield Thunder 350  2013           1.25          1.500   \n",
      "108  Royal Enfield Thunder 350  2016           1.20          1.500   \n",
      "109  Royal Enfield Classic 350  2017           1.20          1.470   \n",
      "110                  KTM RC200  2016           1.20          1.780   \n",
      "111  Royal Enfield Thunder 350  2016           1.15          1.500   \n",
      "112              KTM 390 Duke   2014           1.15          2.400   \n",
      "113        Mahindra Mojo XT300  2016           1.15          1.400   \n",
      "114  Royal Enfield Classic 350  2015           1.15          1.470   \n",
      "115  Royal Enfield Classic 350  2015           1.11          1.470   \n",
      "116  Royal Enfield Classic 350  2013           1.10          1.470   \n",
      "117  Royal Enfield Thunder 500  2015           1.10          1.900   \n",
      "118  Royal Enfield Classic 350  2015           1.10          1.470   \n",
      "119  Royal Enfield Thunder 500  2013           1.05          1.900   \n",
      "120         Bajaj Pulsar RS200  2016           1.05          1.260   \n",
      "121  Royal Enfield Thunder 350  2011           1.05          1.500   \n",
      "122   Royal Enfield Bullet 350  2016           1.05          1.170   \n",
      "123  Royal Enfield Classic 350  2013           1.00          1.470   \n",
      "124  Royal Enfield Classic 500  2012           0.95          1.750   \n",
      "125  Royal Enfield Classic 500  2009           0.90          1.750   \n",
      "126          Bajaj Avenger 220  2017           0.90          0.950   \n",
      "127          Bajaj Avenger 150  2016           0.75          0.800   \n",
      "128       Honda CB Hornet 160R  2017           0.80          0.870   \n",
      "129          Yamaha FZ S V 2.0  2017           0.78          0.840   \n",
      "130       Honda CB Hornet 160R  2017           0.75          0.870   \n",
      "131               Yamaha FZ 16  2015           0.75          0.820   \n",
      "132          Bajaj Avenger 220  2017           0.75          0.950   \n",
      "133          Bajaj Avenger 220  2016           0.72          0.950   \n",
      "134         TVS Apache RTR 160  2017           0.65          0.810   \n",
      "135           Bajaj Pulsar 150  2015           0.65          0.740   \n",
      "136              Honda CBR 150  2014           0.65          1.200   \n",
      "137               Hero Extreme  2013           0.65          0.787   \n",
      "138       Honda CB Hornet 160R  2016           0.60          0.870   \n",
      "139     Bajaj Avenger 220 dtsi  2015           0.60          0.950   \n",
      "140              Honda CBR 150  2013           0.60          1.200   \n",
      "141   Bajaj Avenger 150 street  2016           0.60          0.800   \n",
      "142           Yamaha FZ  v 2.0  2015           0.60          0.840   \n",
      "143           Yamaha FZ  v 2.0  2016           0.60          0.840   \n",
      "144       Bajaj Pulsar  NS 200  2014           0.60          0.990   \n",
      "145         TVS Apache RTR 160  2012           0.60          0.810   \n",
      "146               Hero Extreme  2014           0.55          0.787   \n",
      "147          Yamaha FZ S V 2.0  2015           0.55          0.840   \n",
      "148         Bajaj Pulsar 220 F  2010           0.52          0.940   \n",
      "149         Bajaj Pulsar 220 F  2016           0.51          0.940   \n",
      "150         TVS Apache RTR 180  2011           0.50          0.826   \n",
      "151         Hero Passion X pro  2016           0.50          0.550   \n",
      "152        Bajaj Pulsar NS 200  2012           0.50          0.990   \n",
      "153        Bajaj Pulsar NS 200  2013           0.50          0.990   \n",
      "154              Yamaha Fazer   2014           0.50          0.880   \n",
      "155            Honda Activa 4G  2017           0.48          0.510   \n",
      "156                 TVS Sport   2017           0.48          0.520   \n",
      "157          Yamaha FZ S V 2.0  2015           0.48          0.840   \n",
      "158          Honda Dream Yuga   2017           0.48          0.540   \n",
      "159            Honda Activa 4G  2017           0.45          0.510   \n",
      "160   Bajaj Avenger Street 220  2011           0.45          0.950   \n",
      "161         TVS Apache RTR 180  2014           0.45          0.826   \n",
      "162        Bajaj Pulsar NS 200  2012           0.45          0.990   \n",
      "163     Bajaj Avenger 220 dtsi  2010           0.45          0.950   \n",
      "164       Hero Splender iSmart  2016           0.45          0.540   \n",
      "165                  Activa 3g  2016           0.45          0.540   \n",
      "166           Hero Passion Pro  2016           0.45          0.550   \n",
      "167         TVS Apache RTR 160  2014           0.42          0.810   \n",
      "168           Honda CB Trigger  2013           0.42          0.730   \n",
      "169       Hero Splender iSmart  2015           0.40          0.540   \n",
      "170               Yamaha FZ S   2012           0.40          0.830   \n",
      "171           Hero Passion Pro  2015           0.40          0.550   \n",
      "172        Bajaj Pulsar 135 LS  2014           0.40          0.640   \n",
      "173                  Activa 4g  2017           0.40          0.510   \n",
      "174           Honda CB Unicorn  2015           0.38          0.720   \n",
      "175     Hero Honda CBZ extreme  2011           0.38          0.787   \n",
      "176              Honda Karizma  2011           0.35          1.050   \n",
      "177           Honda Activa 125  2016           0.35          0.570   \n",
      "178                TVS Jupyter  2014           0.35          0.520   \n",
      "179              Honda Karizma  2010           0.31          1.050   \n",
      "180     Hero Honda Passion Pro  2012           0.30          0.510   \n",
      "181         Hero Splender Plus  2016           0.30          0.480   \n",
      "182             Honda CB Shine  2013           0.30          0.580   \n",
      "183         Bajaj Discover 100  2013           0.27          0.470   \n",
      "184           Bajaj Pulsar 150  2008           0.25          0.750   \n",
      "185          Suzuki Access 125  2008           0.25          0.580   \n",
      "186                   TVS Wego  2010           0.25          0.520   \n",
      "187           Honda CB twister  2013           0.25          0.510   \n",
      "188               Hero Glamour  2013           0.25          0.570   \n",
      "189        Hero Super Splendor  2005           0.20          0.570   \n",
      "190           Bajaj Pulsar 150  2008           0.20          0.750   \n",
      "191         Bajaj Discover 125  2012           0.20          0.570   \n",
      "192                  Hero Hunk  2007           0.20          0.750   \n",
      "193         Hero  Ignitor Disc  2013           0.20          0.650   \n",
      "194           Hero  CBZ Xtreme  2008           0.20          0.787   \n",
      "195              Bajaj  ct 100  2015           0.18          0.320   \n",
      "196                  Activa 3g  2008           0.17          0.520   \n",
      "197           Honda CB twister  2010           0.16          0.510   \n",
      "198         Bajaj Discover 125  2011           0.15          0.570   \n",
      "199             Honda CB Shine  2007           0.12          0.580   \n",
      "200           Bajaj Pulsar 150  2006           0.10          0.750   \n",
      "201                        i20  2010           3.25          6.790   \n",
      "202                  grand i10  2015           4.40          5.700   \n",
      "203                        i10  2011           2.95          4.600   \n",
      "204                        eon  2015           2.75          4.430   \n",
      "205                  grand i10  2016           5.25          5.700   \n",
      "206                      xcent  2017           5.75          7.130   \n",
      "207                  grand i10  2015           5.15          5.700   \n",
      "208                        i20  2017           7.90          8.100   \n",
      "209                  grand i10  2015           4.85          5.700   \n",
      "210                        i10  2012           3.10          4.600   \n",
      "211                    elantra  2015          11.75         14.790   \n",
      "212                      creta  2016          11.25         13.600   \n",
      "213                        i20  2011           2.90          6.790   \n",
      "214                  grand i10  2017           5.25          5.700   \n",
      "215                      verna  2012           4.50          9.400   \n",
      "216                        eon  2016           2.90          4.430   \n",
      "217                        eon  2016           3.15          4.430   \n",
      "218                      verna  2014           6.45          9.400   \n",
      "219                      verna  2012           4.50          9.400   \n",
      "220                        eon  2017           3.50          4.430   \n",
      "221                        i20  2013           4.50          6.790   \n",
      "222                        i20  2014           6.00          7.600   \n",
      "223                      verna  2015           8.25          9.400   \n",
      "224                      verna  2013           5.11          9.400   \n",
      "225                        i10  2011           2.70          4.600   \n",
      "226                  grand i10  2015           5.25          5.700   \n",
      "227                        i10  2011           2.55          4.430   \n",
      "228                      verna  2012           4.95          9.400   \n",
      "229                        i20  2012           3.10          6.790   \n",
      "230                      verna  2013           6.15          9.400   \n",
      "231                      verna  2017           9.25          9.400   \n",
      "232                    elantra  2015          11.45         14.790   \n",
      "233                  grand i10  2013           3.90          5.700   \n",
      "234                  grand i10  2015           5.50          5.700   \n",
      "235                      verna  2017           9.10          9.400   \n",
      "236                        eon  2016           3.10          4.430   \n",
      "237                      creta  2015          11.25         13.600   \n",
      "238                      verna  2013           4.80          9.400   \n",
      "239                        eon  2012           2.00          4.430   \n",
      "240                      verna  2012           5.35          9.400   \n",
      "241                      xcent  2015           4.75          7.130   \n",
      "242                      xcent  2014           4.40          7.130   \n",
      "243                        i20  2016           6.25          7.600   \n",
      "244                      verna  2013           5.95          9.400   \n",
      "245                      verna  2012           5.20          9.400   \n",
      "246                        i20  2012           3.75          6.790   \n",
      "247                      verna  2015           5.95          9.400   \n",
      "248                        i10  2013           4.00          4.600   \n",
      "249                        i20  2016           5.25          7.600   \n",
      "250                      creta  2016          12.90         13.600   \n",
      "251                       city  2013           5.00          9.900   \n",
      "252                       brio  2015           5.40          6.820   \n",
      "253                       city  2014           7.20          9.900   \n",
      "254                       city  2013           5.25          9.900   \n",
      "255                       brio  2012           3.00          5.350   \n",
      "256                       city  2016          10.25         13.600   \n",
      "257                       city  2015           8.50         13.600   \n",
      "258                       city  2015           8.40         13.600   \n",
      "259                      amaze  2014           3.90          7.000   \n",
      "260                       city  2016           9.15         13.600   \n",
      "261                       brio  2016           5.50          5.970   \n",
      "262                      amaze  2015           4.00          5.800   \n",
      "263                       jazz  2016           6.60          7.700   \n",
      "264                      amaze  2015           4.00          7.000   \n",
      "265                       jazz  2017           6.50          8.700   \n",
      "266                      amaze  2014           3.65          7.000   \n",
      "267                       city  2016           8.35          9.400   \n",
      "268                       brio  2017           4.80          5.800   \n",
      "269                       city  2015           6.70         10.000   \n",
      "270                       city  2011           4.10         10.000   \n",
      "271                       city  2009           3.00         10.000   \n",
      "272                       city  2015           7.50         10.000   \n",
      "273                       jazz  2010           2.25          7.500   \n",
      "274                       brio  2014           5.30          6.800   \n",
      "275                       city  2016          10.90         13.600   \n",
      "276                       city  2015           8.65         13.600   \n",
      "277                       city  2015           9.70         13.600   \n",
      "278                       jazz  2016           6.00          8.400   \n",
      "279                       city  2014           6.25         13.600   \n",
      "280                       brio  2015           5.25          5.900   \n",
      "281                       city  2006           2.10          7.600   \n",
      "282                       city  2014           8.25         14.000   \n",
      "283                       city  2016           8.99         11.800   \n",
      "284                       brio  2013           3.50          5.900   \n",
      "285                       jazz  2016           7.40          8.500   \n",
      "286                       jazz  2016           5.65          7.900   \n",
      "287                      amaze  2015           5.75          7.500   \n",
      "288                       city  2015           8.40         13.600   \n",
      "289                       city  2016          10.11         13.600   \n",
      "290                      amaze  2014           4.50          6.400   \n",
      "291                       brio  2015           5.40          6.100   \n",
      "292                       jazz  2016           6.40          8.400   \n",
      "293                       city  2010           3.25          9.900   \n",
      "294                      amaze  2014           3.75          6.800   \n",
      "295                       city  2015           8.55         13.090   \n",
      "296                       city  2016           9.50         11.600   \n",
      "297                       brio  2015           4.00          5.900   \n",
      "298                       city  2009           3.35         11.000   \n",
      "299                       city  2017          11.50         12.500   \n",
      "300                       brio  2016           5.30          5.900   \n",
      "\n",
      "     Kms_Driven Fuel_Type Seller_Type Transmission  Owner  \n",
      "0         27000    Petrol      Dealer       Manual      0  \n",
      "1         43000    Diesel      Dealer       Manual      0  \n",
      "2          6900    Petrol      Dealer       Manual      0  \n",
      "3          5200    Petrol      Dealer       Manual      0  \n",
      "4         42450    Diesel      Dealer       Manual      0  \n",
      "5          2071    Diesel      Dealer       Manual      0  \n",
      "6         18796    Petrol      Dealer       Manual      0  \n",
      "7         33429    Diesel      Dealer       Manual      0  \n",
      "8         20273    Diesel      Dealer       Manual      0  \n",
      "9         42367    Diesel      Dealer       Manual      0  \n",
      "10         2135    Petrol      Dealer       Manual      0  \n",
      "11        51000    Diesel      Dealer       Manual      0  \n",
      "12        15000    Petrol      Dealer    Automatic      0  \n",
      "13        26000    Petrol      Dealer       Manual      0  \n",
      "14        77427    Petrol      Dealer       Manual      0  \n",
      "15        43000    Diesel      Dealer       Manual      0  \n",
      "16        41678    Diesel      Dealer       Manual      0  \n",
      "17        43000    Diesel      Dealer       Manual      0  \n",
      "18        35500       CNG      Dealer       Manual      0  \n",
      "19        41442    Petrol      Dealer       Manual      0  \n",
      "20        25000    Petrol      Dealer       Manual      0  \n",
      "21         2400    Petrol      Dealer       Manual      0  \n",
      "22        50000    Petrol      Dealer    Automatic      0  \n",
      "23        45280    Petrol      Dealer       Manual      0  \n",
      "24        56879    Petrol      Dealer       Manual      0  \n",
      "25        20000    Petrol      Dealer       Manual      0  \n",
      "26        55138    Petrol      Dealer       Manual      0  \n",
      "27        16200    Petrol  Individual       Manual      0  \n",
      "28        44542    Petrol      Dealer       Manual      0  \n",
      "29        45000    Diesel      Dealer       Manual      0  \n",
      "30        51439    Diesel      Dealer       Manual      0  \n",
      "31        54200    Petrol      Dealer       Manual      0  \n",
      "32        39000    Diesel      Dealer       Manual      0  \n",
      "33        45000    Diesel      Dealer       Manual      0  \n",
      "34        45000    Diesel      Dealer       Manual      0  \n",
      "35        49998       CNG      Dealer       Manual      0  \n",
      "36        48767    Petrol      Dealer       Manual      0  \n",
      "37       127000    Petrol  Individual       Manual      0  \n",
      "38        10079    Petrol      Dealer       Manual      0  \n",
      "39        62000    Petrol      Dealer       Manual      0  \n",
      "40        24524    Petrol      Dealer    Automatic      0  \n",
      "41        46706    Petrol      Dealer       Manual      0  \n",
      "42        58000    Petrol      Dealer       Manual      0  \n",
      "43        45780    Diesel      Dealer       Manual      0  \n",
      "44        50000    Petrol      Dealer       Manual      0  \n",
      "45        15000    Petrol      Dealer    Automatic      0  \n",
      "46        64532    Petrol      Dealer       Manual      0  \n",
      "47        65000    Petrol      Dealer       Manual      0  \n",
      "48        25870    Petrol      Dealer       Manual      0  \n",
      "49        37000    Petrol      Dealer    Automatic      0  \n",
      "50       104707    Diesel      Dealer    Automatic      0  \n",
      "51        40000    Diesel      Dealer    Automatic      0  \n",
      "52        15000    Diesel      Dealer    Automatic      0  \n",
      "53       135000    Diesel  Individual    Automatic      0  \n",
      "54        90000    Petrol  Individual       Manual      0  \n",
      "55        70000    Petrol      Dealer    Automatic      0  \n",
      "56        40534    Petrol      Dealer       Manual      0  \n",
      "57        50000    Petrol      Dealer       Manual      0  \n",
      "58        39485    Petrol      Dealer       Manual      1  \n",
      "59        41000    Diesel      Dealer    Automatic      0  \n",
      "60        40001    Petrol      Dealer       Manual      0  \n",
      "61        40588    Petrol      Dealer       Manual      0  \n",
      "62        78000    Diesel      Dealer    Automatic      0  \n",
      "63        47000    Diesel      Dealer    Automatic      0  \n",
      "64         6000    Diesel      Dealer    Automatic      0  \n",
      "65        45000    Diesel      Dealer       Manual      0  \n",
      "66        11000    Petrol      Dealer    Automatic      0  \n",
      "67        59000    Diesel      Dealer       Manual      0  \n",
      "68        88000    Petrol      Dealer       Manual      0  \n",
      "69        12000    Petrol      Dealer       Manual      0  \n",
      "70        71000    Diesel      Dealer       Manual      0  \n",
      "71        45000    Diesel      Dealer       Manual      0  \n",
      "72        56001    Petrol      Dealer       Manual      0  \n",
      "73        43000    Petrol      Dealer       Manual      0  \n",
      "74        83000    Diesel      Dealer       Manual      0  \n",
      "75        36000    Petrol      Dealer       Manual      0  \n",
      "76        72000    Petrol      Dealer       Manual      0  \n",
      "77       135154    Petrol      Dealer    Automatic      0  \n",
      "78        80000    Petrol      Dealer    Automatic      0  \n",
      "79        89000    Diesel      Dealer    Automatic      0  \n",
      "80        23000    Diesel      Dealer       Manual      0  \n",
      "81        40000    Diesel      Dealer       Manual      0  \n",
      "82        15000    Diesel      Dealer    Automatic      0  \n",
      "83        38000    Diesel      Dealer       Manual      0  \n",
      "84       197176    Diesel      Dealer       Manual      0  \n",
      "85       142000    Petrol  Individual    Automatic      3  \n",
      "86        78000    Diesel      Dealer       Manual      0  \n",
      "87        56000    Petrol      Dealer       Manual      0  \n",
      "88        47000    Petrol      Dealer       Manual      0  \n",
      "89        40000    Petrol      Dealer       Manual      0  \n",
      "90        62000    Petrol      Dealer       Manual      0  \n",
      "91        58242    Diesel      Dealer       Manual      0  \n",
      "92        75000    Petrol      Dealer       Manual      0  \n",
      "93        40000    Diesel      Dealer    Automatic      0  \n",
      "94        89000    Petrol      Dealer    Automatic      0  \n",
      "95        72000    Petrol      Dealer       Manual      0  \n",
      "96        29000    Diesel      Dealer    Automatic      0  \n",
      "97         8700    Petrol      Dealer       Manual      0  \n",
      "98        45000    Petrol      Dealer       Manual      0  \n",
      "99        50024    Diesel      Dealer       Manual      0  \n",
      "100        3000    Petrol  Individual       Manual      0  \n",
      "101        1400    Petrol  Individual       Manual      0  \n",
      "102        4000    Petrol  Individual       Manual      0  \n",
      "103        1200    Petrol  Individual       Manual      0  \n",
      "104        4100    Petrol  Individual       Manual      0  \n",
      "105       21700    Petrol  Individual       Manual      0  \n",
      "106       16500    Petrol  Individual       Manual      1  \n",
      "107       15000    Petrol  Individual       Manual      0  \n",
      "108       18000    Petrol  Individual       Manual      0  \n",
      "109       11000    Petrol  Individual       Manual      0  \n",
      "110        6000    Petrol  Individual       Manual      0  \n",
      "111        8700    Petrol  Individual       Manual      0  \n",
      "112        7000    Petrol  Individual       Manual      0  \n",
      "113       35000    Petrol  Individual       Manual      0  \n",
      "114       17000    Petrol  Individual       Manual      0  \n",
      "115       17500    Petrol  Individual       Manual      0  \n",
      "116       33000    Petrol  Individual       Manual      0  \n",
      "117       14000    Petrol  Individual       Manual      0  \n",
      "118       26000    Petrol  Individual       Manual      0  \n",
      "119        5400    Petrol  Individual       Manual      0  \n",
      "120        5700    Petrol  Individual       Manual      0  \n",
      "121        6900    Petrol  Individual       Manual      0  \n",
      "122        6000    Petrol  Individual       Manual      0  \n",
      "123       46500    Petrol  Individual       Manual      0  \n",
      "124       11500    Petrol  Individual       Manual      0  \n",
      "125       40000    Petrol  Individual       Manual      0  \n",
      "126        1300    Petrol  Individual       Manual      0  \n",
      "127        7000    Petrol  Individual       Manual      0  \n",
      "128        3000    Petrol  Individual       Manual      0  \n",
      "129        5000    Petrol  Individual       Manual      0  \n",
      "130       11000    Petrol  Individual       Manual      0  \n",
      "131       18000    Petrol  Individual       Manual      0  \n",
      "132        3500    Petrol  Individual       Manual      0  \n",
      "133         500    Petrol  Individual       Manual      0  \n",
      "134       11800    Petrol  Individual       Manual      0  \n",
      "135        5000    Petrol  Individual       Manual      0  \n",
      "136       23500    Petrol  Individual       Manual      0  \n",
      "137       16000    Petrol  Individual       Manual      0  \n",
      "138       15000    Petrol  Individual       Manual      0  \n",
      "139       16600    Petrol  Individual       Manual      0  \n",
      "140       32000    Petrol  Individual       Manual      0  \n",
      "141       20000    Petrol  Individual       Manual      0  \n",
      "142       29000    Petrol  Individual       Manual      0  \n",
      "143       25000    Petrol  Individual       Manual      0  \n",
      "144       25000    Petrol  Individual       Manual      0  \n",
      "145       19000    Petrol  Individual       Manual      0  \n",
      "146       15000    Petrol  Individual       Manual      0  \n",
      "147       58000    Petrol  Individual       Manual      0  \n",
      "148       45000    Petrol  Individual       Manual      0  \n",
      "149       24000    Petrol  Individual       Manual      0  \n",
      "150        6000    Petrol  Individual       Manual      0  \n",
      "151       31000    Petrol  Individual       Manual      0  \n",
      "152       13000    Petrol  Individual       Manual      0  \n",
      "153       45000    Petrol  Individual       Manual      0  \n",
      "154        8000    Petrol  Individual       Manual      0  \n",
      "155        4300    Petrol  Individual    Automatic      0  \n",
      "156       15000    Petrol  Individual       Manual      0  \n",
      "157       23000    Petrol  Individual       Manual      0  \n",
      "158        8600    Petrol  Individual       Manual      0  \n",
      "159        4000    Petrol  Individual    Automatic      0  \n",
      "160       24000    Petrol  Individual       Manual      0  \n",
      "161       23000    Petrol  Individual       Manual      0  \n",
      "162       14500    Petrol  Individual       Manual      0  \n",
      "163       27000    Petrol  Individual       Manual      0  \n",
      "164       14000    Petrol  Individual       Manual      0  \n",
      "165         500    Petrol  Individual    Automatic      0  \n",
      "166        1000    Petrol  Individual       Manual      0  \n",
      "167       42000    Petrol  Individual       Manual      0  \n",
      "168       12000    Petrol  Individual       Manual      0  \n",
      "169       14000    Petrol  Individual       Manual      0  \n",
      "170        5500    Petrol  Individual       Manual      0  \n",
      "171        6700    Petrol  Individual       Manual      0  \n",
      "172       13700    Petrol  Individual       Manual      0  \n",
      "173        1300    Petrol  Individual    Automatic      0  \n",
      "174       38600    Petrol  Individual       Manual      0  \n",
      "175       75000    Petrol  Individual       Manual      0  \n",
      "176       30000    Petrol  Individual       Manual      0  \n",
      "177       24000    Petrol  Individual    Automatic      0  \n",
      "178       19000    Petrol  Individual    Automatic      0  \n",
      "179      213000    Petrol  Individual       Manual      0  \n",
      "180       60000    Petrol  Individual       Manual      0  \n",
      "181       50000    Petrol  Individual       Manual      0  \n",
      "182       30000    Petrol  Individual       Manual      0  \n",
      "183       21000    Petrol  Individual       Manual      0  \n",
      "184       26000    Petrol  Individual       Manual      1  \n",
      "185        1900    Petrol  Individual    Automatic      0  \n",
      "186       22000    Petrol  Individual    Automatic      0  \n",
      "187       32000    Petrol  Individual       Manual      0  \n",
      "188       18000    Petrol  Individual       Manual      0  \n",
      "189       55000    Petrol  Individual       Manual      0  \n",
      "190       60000    Petrol  Individual       Manual      0  \n",
      "191       25000    Petrol  Individual       Manual      1  \n",
      "192       49000    Petrol  Individual       Manual      1  \n",
      "193       24000    Petrol  Individual       Manual      1  \n",
      "194       50000    Petrol  Individual       Manual      0  \n",
      "195       35000    Petrol  Individual       Manual      0  \n",
      "196      500000    Petrol  Individual    Automatic      0  \n",
      "197       33000    Petrol  Individual       Manual      0  \n",
      "198       35000    Petrol  Individual       Manual      1  \n",
      "199       53000    Petrol  Individual       Manual      0  \n",
      "200       92233    Petrol  Individual       Manual      0  \n",
      "201       58000    Diesel      Dealer       Manual      1  \n",
      "202       28200    Petrol      Dealer       Manual      0  \n",
      "203       53460    Petrol      Dealer       Manual      0  \n",
      "204       28282    Petrol      Dealer       Manual      0  \n",
      "205        3493    Petrol      Dealer       Manual      1  \n",
      "206       12479    Petrol      Dealer       Manual      0  \n",
      "207       34797    Petrol      Dealer    Automatic      0  \n",
      "208        3435    Petrol      Dealer       Manual      0  \n",
      "209       21125    Diesel      Dealer       Manual      0  \n",
      "210       35775    Petrol      Dealer       Manual      0  \n",
      "211       43535    Diesel      Dealer       Manual      0  \n",
      "212       22671    Petrol      Dealer       Manual      0  \n",
      "213       31604    Petrol      Dealer       Manual      0  \n",
      "214       20114    Petrol      Dealer       Manual      0  \n",
      "215       36100    Petrol      Dealer       Manual      0  \n",
      "216       12500    Petrol      Dealer       Manual      0  \n",
      "217       15000    Petrol      Dealer       Manual      0  \n",
      "218       45078    Petrol      Dealer       Manual      0  \n",
      "219       36000    Petrol      Dealer       Manual      0  \n",
      "220       38488    Petrol      Dealer       Manual      0  \n",
      "221       32000    Petrol      Dealer    Automatic      0  \n",
      "222       77632    Diesel      Dealer       Manual      0  \n",
      "223       61381    Diesel      Dealer       Manual      0  \n",
      "224       36198    Petrol      Dealer    Automatic      0  \n",
      "225       22517    Petrol      Dealer       Manual      0  \n",
      "226       24678    Petrol      Dealer       Manual      0  \n",
      "227       57000    Petrol      Dealer       Manual      0  \n",
      "228       60000    Diesel      Dealer       Manual      0  \n",
      "229       52132    Diesel      Dealer       Manual      0  \n",
      "230       45000    Diesel      Dealer       Manual      0  \n",
      "231       15001    Petrol      Dealer       Manual      0  \n",
      "232       12900    Petrol      Dealer    Automatic      0  \n",
      "233       53000    Diesel      Dealer       Manual      0  \n",
      "234        4492    Petrol      Dealer       Manual      0  \n",
      "235       15141    Petrol      Dealer       Manual      0  \n",
      "236       11849    Petrol      Dealer       Manual      0  \n",
      "237       68000    Diesel      Dealer       Manual      0  \n",
      "238       60241    Petrol      Dealer       Manual      0  \n",
      "239       23709    Petrol      Dealer       Manual      0  \n",
      "240       32322    Diesel      Dealer       Manual      0  \n",
      "241       35866    Petrol      Dealer       Manual      1  \n",
      "242       34000    Petrol      Dealer       Manual      0  \n",
      "243        7000    Petrol      Dealer       Manual      0  \n",
      "244       49000    Diesel      Dealer       Manual      0  \n",
      "245       71000    Diesel      Dealer       Manual      0  \n",
      "246       35000    Petrol      Dealer       Manual      0  \n",
      "247       36000    Petrol      Dealer       Manual      0  \n",
      "248       30000    Petrol      Dealer       Manual      0  \n",
      "249       17000    Petrol      Dealer       Manual      0  \n",
      "250       35934    Diesel      Dealer       Manual      0  \n",
      "251       56701    Petrol      Dealer       Manual      0  \n",
      "252       31427    Petrol      Dealer    Automatic      0  \n",
      "253       48000    Diesel      Dealer       Manual      0  \n",
      "254       54242    Petrol      Dealer       Manual      0  \n",
      "255       53675    Petrol      Dealer       Manual      0  \n",
      "256       49562    Petrol      Dealer       Manual      0  \n",
      "257       40324    Petrol      Dealer       Manual      0  \n",
      "258       25000    Petrol      Dealer       Manual      0  \n",
      "259       36054    Petrol      Dealer       Manual      0  \n",
      "260       29223    Petrol      Dealer       Manual      0  \n",
      "261        5600    Petrol      Dealer       Manual      0  \n",
      "262       40023    Petrol      Dealer       Manual      0  \n",
      "263       16002    Petrol      Dealer       Manual      0  \n",
      "264       40026    Petrol      Dealer       Manual      0  \n",
      "265       21200    Petrol      Dealer       Manual      0  \n",
      "266       35000    Petrol      Dealer       Manual      0  \n",
      "267       19434    Diesel      Dealer       Manual      0  \n",
      "268       19000    Petrol      Dealer       Manual      0  \n",
      "269       18828    Petrol      Dealer       Manual      0  \n",
      "270       69341    Petrol      Dealer       Manual      0  \n",
      "271       69562    Petrol      Dealer       Manual      0  \n",
      "272       27600    Petrol      Dealer       Manual      0  \n",
      "273       61203    Petrol      Dealer       Manual      0  \n",
      "274       16500    Petrol      Dealer       Manual      0  \n",
      "275       30753    Petrol      Dealer    Automatic      0  \n",
      "276       24800    Petrol      Dealer       Manual      0  \n",
      "277       21780    Petrol      Dealer       Manual      0  \n",
      "278        4000    Petrol      Dealer       Manual      0  \n",
      "279       40126    Petrol      Dealer       Manual      0  \n",
      "280       14465    Petrol      Dealer       Manual      0  \n",
      "281       50456    Petrol      Dealer       Manual      0  \n",
      "282       63000    Diesel      Dealer       Manual      0  \n",
      "283        9010    Petrol      Dealer       Manual      0  \n",
      "284        9800    Petrol      Dealer       Manual      0  \n",
      "285       15059    Petrol      Dealer    Automatic      0  \n",
      "286       28569    Petrol      Dealer       Manual      0  \n",
      "287       44000    Petrol      Dealer    Automatic      0  \n",
      "288       34000    Petrol      Dealer       Manual      0  \n",
      "289       10980    Petrol      Dealer       Manual      0  \n",
      "290       19000    Petrol      Dealer       Manual      0  \n",
      "291       31427    Petrol      Dealer       Manual      0  \n",
      "292       12000    Petrol      Dealer       Manual      0  \n",
      "293       38000    Petrol      Dealer       Manual      0  \n",
      "294       33019    Petrol      Dealer       Manual      0  \n",
      "295       60076    Diesel      Dealer       Manual      0  \n",
      "296       33988    Diesel      Dealer       Manual      0  \n",
      "297       60000    Petrol      Dealer       Manual      0  \n",
      "298       87934    Petrol      Dealer       Manual      0  \n",
      "299        9000    Diesel      Dealer       Manual      0  \n",
      "300        5464    Petrol      Dealer       Manual      0  \n"
     ]
    }
   ],
   "source": [
    "pd.options.display.max_rows=9999\n",
    "print(df)"
   ]
  },
  {
   "cell_type": "code",
   "execution_count": 55,
   "id": "869fcbfd-5faa-48eb-946a-0df38eb3f355",
   "metadata": {},
   "outputs": [],
   "source": [
    "df1 = df.sample(n=10,random_state=1)"
   ]
  },
  {
   "cell_type": "code",
   "execution_count": 38,
   "id": "bde9c1c7-9680-48ee-b34b-0a1c3150b17b",
   "metadata": {},
   "outputs": [],
   "source": [
    "df1.to_excel('car.xlsx')"
   ]
  },
  {
   "cell_type": "code",
   "execution_count": 30,
   "id": "0d952c38-debf-48a4-9e9c-d93b360de433",
   "metadata": {
    "collapsed": true,
    "jupyter": {
     "outputs_hidden": true
    },
    "scrolled": true
   },
   "outputs": [
    {
     "data": {
      "text/html": [
       "<div>\n",
       "<style scoped>\n",
       "    .dataframe tbody tr th:only-of-type {\n",
       "        vertical-align: middle;\n",
       "    }\n",
       "\n",
       "    .dataframe tbody tr th {\n",
       "        vertical-align: top;\n",
       "    }\n",
       "\n",
       "    .dataframe thead th {\n",
       "        text-align: right;\n",
       "    }\n",
       "</style>\n",
       "<table border=\"1\" class=\"dataframe\">\n",
       "  <thead>\n",
       "    <tr style=\"text-align: right;\">\n",
       "      <th></th>\n",
       "      <th>Unnamed: 0</th>\n",
       "      <th>Car_Name</th>\n",
       "      <th>Year</th>\n",
       "      <th>Selling_Price</th>\n",
       "      <th>Present_Price</th>\n",
       "      <th>Kms_Driven</th>\n",
       "      <th>Fuel_Type</th>\n",
       "      <th>Seller_Type</th>\n",
       "      <th>Transmission</th>\n",
       "      <th>Owner</th>\n",
       "    </tr>\n",
       "  </thead>\n",
       "  <tbody>\n",
       "    <tr>\n",
       "      <th>0</th>\n",
       "      <td>285</td>\n",
       "      <td>jazz</td>\n",
       "      <td>2016</td>\n",
       "      <td>7.40</td>\n",
       "      <td>8.500</td>\n",
       "      <td>15059</td>\n",
       "      <td>Petrol</td>\n",
       "      <td>Dealer</td>\n",
       "      <td>Automatic</td>\n",
       "      <td>0</td>\n",
       "    </tr>\n",
       "    <tr>\n",
       "      <th>1</th>\n",
       "      <td>248</td>\n",
       "      <td>i10</td>\n",
       "      <td>2013</td>\n",
       "      <td>4.00</td>\n",
       "      <td>4.600</td>\n",
       "      <td>30000</td>\n",
       "      <td>Petrol</td>\n",
       "      <td>Dealer</td>\n",
       "      <td>Manual</td>\n",
       "      <td>0</td>\n",
       "    </tr>\n",
       "    <tr>\n",
       "      <th>2</th>\n",
       "      <td>150</td>\n",
       "      <td>TVS Apache RTR 180</td>\n",
       "      <td>2011</td>\n",
       "      <td>0.50</td>\n",
       "      <td>0.826</td>\n",
       "      <td>6000</td>\n",
       "      <td>Petrol</td>\n",
       "      <td>Individual</td>\n",
       "      <td>Manual</td>\n",
       "      <td>0</td>\n",
       "    </tr>\n",
       "    <tr>\n",
       "      <th>3</th>\n",
       "      <td>217</td>\n",
       "      <td>eon</td>\n",
       "      <td>2016</td>\n",
       "      <td>3.15</td>\n",
       "      <td>4.430</td>\n",
       "      <td>15000</td>\n",
       "      <td>Petrol</td>\n",
       "      <td>Dealer</td>\n",
       "      <td>Manual</td>\n",
       "      <td>0</td>\n",
       "    </tr>\n",
       "    <tr>\n",
       "      <th>4</th>\n",
       "      <td>107</td>\n",
       "      <td>Royal Enfield Thunder 350</td>\n",
       "      <td>2013</td>\n",
       "      <td>1.25</td>\n",
       "      <td>1.500</td>\n",
       "      <td>15000</td>\n",
       "      <td>Petrol</td>\n",
       "      <td>Individual</td>\n",
       "      <td>Manual</td>\n",
       "      <td>0</td>\n",
       "    </tr>\n",
       "    <tr>\n",
       "      <th>5</th>\n",
       "      <td>206</td>\n",
       "      <td>xcent</td>\n",
       "      <td>2017</td>\n",
       "      <td>5.75</td>\n",
       "      <td>7.130</td>\n",
       "      <td>12479</td>\n",
       "      <td>Petrol</td>\n",
       "      <td>Dealer</td>\n",
       "      <td>Manual</td>\n",
       "      <td>0</td>\n",
       "    </tr>\n",
       "    <tr>\n",
       "      <th>6</th>\n",
       "      <td>132</td>\n",
       "      <td>Bajaj Avenger 220</td>\n",
       "      <td>2017</td>\n",
       "      <td>0.75</td>\n",
       "      <td>0.950</td>\n",
       "      <td>3500</td>\n",
       "      <td>Petrol</td>\n",
       "      <td>Individual</td>\n",
       "      <td>Manual</td>\n",
       "      <td>0</td>\n",
       "    </tr>\n",
       "    <tr>\n",
       "      <th>7</th>\n",
       "      <td>73</td>\n",
       "      <td>etios liva</td>\n",
       "      <td>2011</td>\n",
       "      <td>2.65</td>\n",
       "      <td>5.710</td>\n",
       "      <td>43000</td>\n",
       "      <td>Petrol</td>\n",
       "      <td>Dealer</td>\n",
       "      <td>Manual</td>\n",
       "      <td>0</td>\n",
       "    </tr>\n",
       "    <tr>\n",
       "      <th>8</th>\n",
       "      <td>288</td>\n",
       "      <td>city</td>\n",
       "      <td>2015</td>\n",
       "      <td>8.40</td>\n",
       "      <td>13.600</td>\n",
       "      <td>34000</td>\n",
       "      <td>Petrol</td>\n",
       "      <td>Dealer</td>\n",
       "      <td>Manual</td>\n",
       "      <td>0</td>\n",
       "    </tr>\n",
       "    <tr>\n",
       "      <th>9</th>\n",
       "      <td>157</td>\n",
       "      <td>Yamaha FZ S V 2.0</td>\n",
       "      <td>2015</td>\n",
       "      <td>0.48</td>\n",
       "      <td>0.840</td>\n",
       "      <td>23000</td>\n",
       "      <td>Petrol</td>\n",
       "      <td>Individual</td>\n",
       "      <td>Manual</td>\n",
       "      <td>0</td>\n",
       "    </tr>\n",
       "  </tbody>\n",
       "</table>\n",
       "</div>"
      ],
      "text/plain": [
       "   Unnamed: 0                   Car_Name  Year  Selling_Price  Present_Price  \\\n",
       "0         285                       jazz  2016           7.40          8.500   \n",
       "1         248                        i10  2013           4.00          4.600   \n",
       "2         150         TVS Apache RTR 180  2011           0.50          0.826   \n",
       "3         217                        eon  2016           3.15          4.430   \n",
       "4         107  Royal Enfield Thunder 350  2013           1.25          1.500   \n",
       "5         206                      xcent  2017           5.75          7.130   \n",
       "6         132          Bajaj Avenger 220  2017           0.75          0.950   \n",
       "7          73                 etios liva  2011           2.65          5.710   \n",
       "8         288                       city  2015           8.40         13.600   \n",
       "9         157          Yamaha FZ S V 2.0  2015           0.48          0.840   \n",
       "\n",
       "   Kms_Driven Fuel_Type Seller_Type Transmission  Owner  \n",
       "0       15059    Petrol      Dealer    Automatic      0  \n",
       "1       30000    Petrol      Dealer       Manual      0  \n",
       "2        6000    Petrol  Individual       Manual      0  \n",
       "3       15000    Petrol      Dealer       Manual      0  \n",
       "4       15000    Petrol  Individual       Manual      0  \n",
       "5       12479    Petrol      Dealer       Manual      0  \n",
       "6        3500    Petrol  Individual       Manual      0  \n",
       "7       43000    Petrol      Dealer       Manual      0  \n",
       "8       34000    Petrol      Dealer       Manual      0  \n",
       "9       23000    Petrol  Individual       Manual      0  "
      ]
     },
     "execution_count": 30,
     "metadata": {},
     "output_type": "execute_result"
    }
   ],
   "source": [
    "pd.read_excel(\"dupcar.xlsx\")"
   ]
  },
  {
   "cell_type": "code",
   "execution_count": 56,
   "id": "22c09820-5f37-423b-be31-f728241cf1dd",
   "metadata": {},
   "outputs": [
    {
     "name": "stdout",
     "output_type": "stream",
     "text": [
      "   Unnamed: 0                   Car_Name  Year  Selling_Price  Present_Price  \\\n",
      "0         285                       jazz  2016           7.40          8.500   \n",
      "1         248                        i10  2013           4.00          4.600   \n",
      "2         150         TVS Apache RTR 180  2011           0.50          0.826   \n",
      "3         217                        eon  2016           3.15          4.430   \n",
      "4         107  Royal Enfield Thunder 350  2013           1.25          1.500   \n",
      "5         206                      xcent  2017           5.75          7.130   \n",
      "6         132          Bajaj Avenger 220  2017           0.75          0.950   \n",
      "7          73                 etios liva  2011           2.65          5.710   \n",
      "8         288                       city  2015           8.40         13.600   \n",
      "9         157          Yamaha FZ S V 2.0  2015           0.48          0.840   \n",
      "\n",
      "   Kms_Driven Fuel_Type Seller_Type Transmission  Owner  \n",
      "0       15059    Petrol      Dealer    Automatic      0  \n",
      "1       30000    Petrol      Dealer       Manual      0  \n",
      "2        6000    Petrol  Individual       Manual      0  \n",
      "3       15000    Petrol      Dealer       Manual      0  \n",
      "4       15000    Petrol  Individual       Manual      0  \n",
      "5       12479    Petrol      Dealer       Manual      0  \n",
      "6        3500    Petrol  Individual       Manual      0  \n",
      "7       43000    Petrol      Dealer       Manual      0  \n",
      "8       34000    Petrol      Dealer       Manual      0  \n",
      "9       23000    Petrol  Individual       Manual      0  \n"
     ]
    }
   ],
   "source": [
    "dates=[\"10-06-2001\",\"12-10-2002\"]\n",
    "print(pd.read_excel(\"dupcar.xlsx\"))"
   ]
  },
  {
   "cell_type": "code",
   "execution_count": 58,
   "id": "ffb30e10-a0c1-428f-83b3-eb4a78d5f30f",
   "metadata": {
    "collapsed": true,
    "jupyter": {
     "outputs_hidden": true
    }
   },
   "outputs": [
    {
     "ename": "IndexError",
     "evalue": "list index out of range (sheet: 0)",
     "output_type": "error",
     "traceback": [
      "\u001b[1;31m---------------------------------------------------------------------------\u001b[0m",
      "\u001b[1;31mIndexError\u001b[0m                                Traceback (most recent call last)",
      "Cell \u001b[1;32mIn[58], line 1\u001b[0m\n\u001b[1;32m----> 1\u001b[0m newdf \u001b[38;5;241m=\u001b[39m pd\u001b[38;5;241m.\u001b[39mread_excel(\u001b[38;5;124m\"\u001b[39m\u001b[38;5;124mdupcar.xlsx\u001b[39m\u001b[38;5;124m\"\u001b[39m,parse_dates\u001b[38;5;241m=\u001b[39m[\u001b[38;5;241m10\u001b[39m])\n",
      "File \u001b[1;32mD:\\microapplications\\anada\\Lib\\site-packages\\pandas\\io\\excel\\_base.py:508\u001b[0m, in \u001b[0;36mread_excel\u001b[1;34m(io, sheet_name, header, names, index_col, usecols, dtype, engine, converters, true_values, false_values, skiprows, nrows, na_values, keep_default_na, na_filter, verbose, parse_dates, date_parser, date_format, thousands, decimal, comment, skipfooter, storage_options, dtype_backend, engine_kwargs)\u001b[0m\n\u001b[0;32m    502\u001b[0m     \u001b[38;5;28;01mraise\u001b[39;00m \u001b[38;5;167;01mValueError\u001b[39;00m(\n\u001b[0;32m    503\u001b[0m         \u001b[38;5;124m\"\u001b[39m\u001b[38;5;124mEngine should not be specified when passing \u001b[39m\u001b[38;5;124m\"\u001b[39m\n\u001b[0;32m    504\u001b[0m         \u001b[38;5;124m\"\u001b[39m\u001b[38;5;124man ExcelFile - ExcelFile already has the engine set\u001b[39m\u001b[38;5;124m\"\u001b[39m\n\u001b[0;32m    505\u001b[0m     )\n\u001b[0;32m    507\u001b[0m \u001b[38;5;28;01mtry\u001b[39;00m:\n\u001b[1;32m--> 508\u001b[0m     data \u001b[38;5;241m=\u001b[39m io\u001b[38;5;241m.\u001b[39mparse(\n\u001b[0;32m    509\u001b[0m         sheet_name\u001b[38;5;241m=\u001b[39msheet_name,\n\u001b[0;32m    510\u001b[0m         header\u001b[38;5;241m=\u001b[39mheader,\n\u001b[0;32m    511\u001b[0m         names\u001b[38;5;241m=\u001b[39mnames,\n\u001b[0;32m    512\u001b[0m         index_col\u001b[38;5;241m=\u001b[39mindex_col,\n\u001b[0;32m    513\u001b[0m         usecols\u001b[38;5;241m=\u001b[39musecols,\n\u001b[0;32m    514\u001b[0m         dtype\u001b[38;5;241m=\u001b[39mdtype,\n\u001b[0;32m    515\u001b[0m         converters\u001b[38;5;241m=\u001b[39mconverters,\n\u001b[0;32m    516\u001b[0m         true_values\u001b[38;5;241m=\u001b[39mtrue_values,\n\u001b[0;32m    517\u001b[0m         false_values\u001b[38;5;241m=\u001b[39mfalse_values,\n\u001b[0;32m    518\u001b[0m         skiprows\u001b[38;5;241m=\u001b[39mskiprows,\n\u001b[0;32m    519\u001b[0m         nrows\u001b[38;5;241m=\u001b[39mnrows,\n\u001b[0;32m    520\u001b[0m         na_values\u001b[38;5;241m=\u001b[39mna_values,\n\u001b[0;32m    521\u001b[0m         keep_default_na\u001b[38;5;241m=\u001b[39mkeep_default_na,\n\u001b[0;32m    522\u001b[0m         na_filter\u001b[38;5;241m=\u001b[39mna_filter,\n\u001b[0;32m    523\u001b[0m         verbose\u001b[38;5;241m=\u001b[39mverbose,\n\u001b[0;32m    524\u001b[0m         parse_dates\u001b[38;5;241m=\u001b[39mparse_dates,\n\u001b[0;32m    525\u001b[0m         date_parser\u001b[38;5;241m=\u001b[39mdate_parser,\n\u001b[0;32m    526\u001b[0m         date_format\u001b[38;5;241m=\u001b[39mdate_format,\n\u001b[0;32m    527\u001b[0m         thousands\u001b[38;5;241m=\u001b[39mthousands,\n\u001b[0;32m    528\u001b[0m         decimal\u001b[38;5;241m=\u001b[39mdecimal,\n\u001b[0;32m    529\u001b[0m         comment\u001b[38;5;241m=\u001b[39mcomment,\n\u001b[0;32m    530\u001b[0m         skipfooter\u001b[38;5;241m=\u001b[39mskipfooter,\n\u001b[0;32m    531\u001b[0m         dtype_backend\u001b[38;5;241m=\u001b[39mdtype_backend,\n\u001b[0;32m    532\u001b[0m     )\n\u001b[0;32m    533\u001b[0m \u001b[38;5;28;01mfinally\u001b[39;00m:\n\u001b[0;32m    534\u001b[0m     \u001b[38;5;66;03m# make sure to close opened file handles\u001b[39;00m\n\u001b[0;32m    535\u001b[0m     \u001b[38;5;28;01mif\u001b[39;00m should_close:\n",
      "File \u001b[1;32mD:\\microapplications\\anada\\Lib\\site-packages\\pandas\\io\\excel\\_base.py:1616\u001b[0m, in \u001b[0;36mExcelFile.parse\u001b[1;34m(self, sheet_name, header, names, index_col, usecols, converters, true_values, false_values, skiprows, nrows, na_values, parse_dates, date_parser, date_format, thousands, comment, skipfooter, dtype_backend, **kwds)\u001b[0m\n\u001b[0;32m   1576\u001b[0m \u001b[38;5;28;01mdef\u001b[39;00m\u001b[38;5;250m \u001b[39m\u001b[38;5;21mparse\u001b[39m(\n\u001b[0;32m   1577\u001b[0m     \u001b[38;5;28mself\u001b[39m,\n\u001b[0;32m   1578\u001b[0m     sheet_name: \u001b[38;5;28mstr\u001b[39m \u001b[38;5;241m|\u001b[39m \u001b[38;5;28mint\u001b[39m \u001b[38;5;241m|\u001b[39m \u001b[38;5;28mlist\u001b[39m[\u001b[38;5;28mint\u001b[39m] \u001b[38;5;241m|\u001b[39m \u001b[38;5;28mlist\u001b[39m[\u001b[38;5;28mstr\u001b[39m] \u001b[38;5;241m|\u001b[39m \u001b[38;5;28;01mNone\u001b[39;00m \u001b[38;5;241m=\u001b[39m \u001b[38;5;241m0\u001b[39m,\n\u001b[1;32m   (...)\u001b[0m\n\u001b[0;32m   1596\u001b[0m     \u001b[38;5;241m*\u001b[39m\u001b[38;5;241m*\u001b[39mkwds,\n\u001b[0;32m   1597\u001b[0m ) \u001b[38;5;241m-\u001b[39m\u001b[38;5;241m>\u001b[39m DataFrame \u001b[38;5;241m|\u001b[39m \u001b[38;5;28mdict\u001b[39m[\u001b[38;5;28mstr\u001b[39m, DataFrame] \u001b[38;5;241m|\u001b[39m \u001b[38;5;28mdict\u001b[39m[\u001b[38;5;28mint\u001b[39m, DataFrame]:\n\u001b[0;32m   1598\u001b[0m \u001b[38;5;250m    \u001b[39m\u001b[38;5;124;03m\"\"\"\u001b[39;00m\n\u001b[0;32m   1599\u001b[0m \u001b[38;5;124;03m    Parse specified sheet(s) into a DataFrame.\u001b[39;00m\n\u001b[0;32m   1600\u001b[0m \n\u001b[1;32m   (...)\u001b[0m\n\u001b[0;32m   1614\u001b[0m \u001b[38;5;124;03m    >>> file.parse()  # doctest: +SKIP\u001b[39;00m\n\u001b[0;32m   1615\u001b[0m \u001b[38;5;124;03m    \"\"\"\u001b[39;00m\n\u001b[1;32m-> 1616\u001b[0m     \u001b[38;5;28;01mreturn\u001b[39;00m \u001b[38;5;28mself\u001b[39m\u001b[38;5;241m.\u001b[39m_reader\u001b[38;5;241m.\u001b[39mparse(\n\u001b[0;32m   1617\u001b[0m         sheet_name\u001b[38;5;241m=\u001b[39msheet_name,\n\u001b[0;32m   1618\u001b[0m         header\u001b[38;5;241m=\u001b[39mheader,\n\u001b[0;32m   1619\u001b[0m         names\u001b[38;5;241m=\u001b[39mnames,\n\u001b[0;32m   1620\u001b[0m         index_col\u001b[38;5;241m=\u001b[39mindex_col,\n\u001b[0;32m   1621\u001b[0m         usecols\u001b[38;5;241m=\u001b[39musecols,\n\u001b[0;32m   1622\u001b[0m         converters\u001b[38;5;241m=\u001b[39mconverters,\n\u001b[0;32m   1623\u001b[0m         true_values\u001b[38;5;241m=\u001b[39mtrue_values,\n\u001b[0;32m   1624\u001b[0m         false_values\u001b[38;5;241m=\u001b[39mfalse_values,\n\u001b[0;32m   1625\u001b[0m         skiprows\u001b[38;5;241m=\u001b[39mskiprows,\n\u001b[0;32m   1626\u001b[0m         nrows\u001b[38;5;241m=\u001b[39mnrows,\n\u001b[0;32m   1627\u001b[0m         na_values\u001b[38;5;241m=\u001b[39mna_values,\n\u001b[0;32m   1628\u001b[0m         parse_dates\u001b[38;5;241m=\u001b[39mparse_dates,\n\u001b[0;32m   1629\u001b[0m         date_parser\u001b[38;5;241m=\u001b[39mdate_parser,\n\u001b[0;32m   1630\u001b[0m         date_format\u001b[38;5;241m=\u001b[39mdate_format,\n\u001b[0;32m   1631\u001b[0m         thousands\u001b[38;5;241m=\u001b[39mthousands,\n\u001b[0;32m   1632\u001b[0m         comment\u001b[38;5;241m=\u001b[39mcomment,\n\u001b[0;32m   1633\u001b[0m         skipfooter\u001b[38;5;241m=\u001b[39mskipfooter,\n\u001b[0;32m   1634\u001b[0m         dtype_backend\u001b[38;5;241m=\u001b[39mdtype_backend,\n\u001b[0;32m   1635\u001b[0m         \u001b[38;5;241m*\u001b[39m\u001b[38;5;241m*\u001b[39mkwds,\n\u001b[0;32m   1636\u001b[0m     )\n",
      "File \u001b[1;32mD:\\microapplications\\anada\\Lib\\site-packages\\pandas\\io\\excel\\_base.py:916\u001b[0m, in \u001b[0;36mBaseExcelReader.parse\u001b[1;34m(self, sheet_name, header, names, index_col, usecols, dtype, true_values, false_values, skiprows, nrows, na_values, verbose, parse_dates, date_parser, date_format, thousands, decimal, comment, skipfooter, dtype_backend, **kwds)\u001b[0m\n\u001b[0;32m    914\u001b[0m     \u001b[38;5;28;01mexcept\u001b[39;00m \u001b[38;5;167;01mException\u001b[39;00m \u001b[38;5;28;01mas\u001b[39;00m err:\n\u001b[0;32m    915\u001b[0m         err\u001b[38;5;241m.\u001b[39margs \u001b[38;5;241m=\u001b[39m (\u001b[38;5;124mf\u001b[39m\u001b[38;5;124m\"\u001b[39m\u001b[38;5;132;01m{\u001b[39;00merr\u001b[38;5;241m.\u001b[39margs[\u001b[38;5;241m0\u001b[39m]\u001b[38;5;132;01m}\u001b[39;00m\u001b[38;5;124m (sheet: \u001b[39m\u001b[38;5;132;01m{\u001b[39;00masheetname\u001b[38;5;132;01m}\u001b[39;00m\u001b[38;5;124m)\u001b[39m\u001b[38;5;124m\"\u001b[39m, \u001b[38;5;241m*\u001b[39merr\u001b[38;5;241m.\u001b[39margs[\u001b[38;5;241m1\u001b[39m:])\n\u001b[1;32m--> 916\u001b[0m         \u001b[38;5;28;01mraise\u001b[39;00m err\n\u001b[0;32m    918\u001b[0m \u001b[38;5;28;01mif\u001b[39;00m last_sheetname \u001b[38;5;129;01mis\u001b[39;00m \u001b[38;5;28;01mNone\u001b[39;00m:\n\u001b[0;32m    919\u001b[0m     \u001b[38;5;28;01mraise\u001b[39;00m \u001b[38;5;167;01mValueError\u001b[39;00m(\u001b[38;5;124m\"\u001b[39m\u001b[38;5;124mSheet name is an empty list\u001b[39m\u001b[38;5;124m\"\u001b[39m)\n",
      "File \u001b[1;32mD:\\microapplications\\anada\\Lib\\site-packages\\pandas\\io\\excel\\_base.py:878\u001b[0m, in \u001b[0;36mBaseExcelReader.parse\u001b[1;34m(self, sheet_name, header, names, index_col, usecols, dtype, true_values, false_values, skiprows, nrows, na_values, verbose, parse_dates, date_parser, date_format, thousands, decimal, comment, skipfooter, dtype_backend, **kwds)\u001b[0m\n\u001b[0;32m    876\u001b[0m \u001b[38;5;66;03m# GH 12292 : error when read one empty column from excel file\u001b[39;00m\n\u001b[0;32m    877\u001b[0m \u001b[38;5;28;01mtry\u001b[39;00m:\n\u001b[1;32m--> 878\u001b[0m     parser \u001b[38;5;241m=\u001b[39m TextParser(\n\u001b[0;32m    879\u001b[0m         data,\n\u001b[0;32m    880\u001b[0m         names\u001b[38;5;241m=\u001b[39mnames,\n\u001b[0;32m    881\u001b[0m         header\u001b[38;5;241m=\u001b[39mheader,\n\u001b[0;32m    882\u001b[0m         index_col\u001b[38;5;241m=\u001b[39mindex_col,\n\u001b[0;32m    883\u001b[0m         has_index_names\u001b[38;5;241m=\u001b[39mhas_index_names,\n\u001b[0;32m    884\u001b[0m         dtype\u001b[38;5;241m=\u001b[39mdtype,\n\u001b[0;32m    885\u001b[0m         true_values\u001b[38;5;241m=\u001b[39mtrue_values,\n\u001b[0;32m    886\u001b[0m         false_values\u001b[38;5;241m=\u001b[39mfalse_values,\n\u001b[0;32m    887\u001b[0m         skiprows\u001b[38;5;241m=\u001b[39mskiprows,\n\u001b[0;32m    888\u001b[0m         nrows\u001b[38;5;241m=\u001b[39mnrows,\n\u001b[0;32m    889\u001b[0m         na_values\u001b[38;5;241m=\u001b[39mna_values,\n\u001b[0;32m    890\u001b[0m         skip_blank_lines\u001b[38;5;241m=\u001b[39m\u001b[38;5;28;01mFalse\u001b[39;00m,  \u001b[38;5;66;03m# GH 39808\u001b[39;00m\n\u001b[0;32m    891\u001b[0m         parse_dates\u001b[38;5;241m=\u001b[39mparse_dates,\n\u001b[0;32m    892\u001b[0m         date_parser\u001b[38;5;241m=\u001b[39mdate_parser,\n\u001b[0;32m    893\u001b[0m         date_format\u001b[38;5;241m=\u001b[39mdate_format,\n\u001b[0;32m    894\u001b[0m         thousands\u001b[38;5;241m=\u001b[39mthousands,\n\u001b[0;32m    895\u001b[0m         decimal\u001b[38;5;241m=\u001b[39mdecimal,\n\u001b[0;32m    896\u001b[0m         comment\u001b[38;5;241m=\u001b[39mcomment,\n\u001b[0;32m    897\u001b[0m         skipfooter\u001b[38;5;241m=\u001b[39mskipfooter,\n\u001b[0;32m    898\u001b[0m         usecols\u001b[38;5;241m=\u001b[39musecols,\n\u001b[0;32m    899\u001b[0m         dtype_backend\u001b[38;5;241m=\u001b[39mdtype_backend,\n\u001b[0;32m    900\u001b[0m         \u001b[38;5;241m*\u001b[39m\u001b[38;5;241m*\u001b[39mkwds,\n\u001b[0;32m    901\u001b[0m     )\n\u001b[0;32m    903\u001b[0m     output[asheetname] \u001b[38;5;241m=\u001b[39m parser\u001b[38;5;241m.\u001b[39mread(nrows\u001b[38;5;241m=\u001b[39mnrows)\n\u001b[0;32m    905\u001b[0m     \u001b[38;5;28;01mif\u001b[39;00m header_names:\n",
      "File \u001b[1;32mD:\\microapplications\\anada\\Lib\\site-packages\\pandas\\io\\parsers\\readers.py:2053\u001b[0m, in \u001b[0;36mTextParser\u001b[1;34m(*args, **kwds)\u001b[0m\n\u001b[0;32m   2000\u001b[0m \u001b[38;5;250m\u001b[39m\u001b[38;5;124;03m\"\"\"\u001b[39;00m\n\u001b[0;32m   2001\u001b[0m \u001b[38;5;124;03mConverts lists of lists/tuples into DataFrames with proper type inference\u001b[39;00m\n\u001b[0;32m   2002\u001b[0m \u001b[38;5;124;03mand optional (e.g. string to datetime) conversion. Also enables iterating\u001b[39;00m\n\u001b[1;32m   (...)\u001b[0m\n\u001b[0;32m   2050\u001b[0m \u001b[38;5;124;03m    `round_trip` for the round-trip converter.\u001b[39;00m\n\u001b[0;32m   2051\u001b[0m \u001b[38;5;124;03m\"\"\"\u001b[39;00m\n\u001b[0;32m   2052\u001b[0m kwds[\u001b[38;5;124m\"\u001b[39m\u001b[38;5;124mengine\u001b[39m\u001b[38;5;124m\"\u001b[39m] \u001b[38;5;241m=\u001b[39m \u001b[38;5;124m\"\u001b[39m\u001b[38;5;124mpython\u001b[39m\u001b[38;5;124m\"\u001b[39m\n\u001b[1;32m-> 2053\u001b[0m \u001b[38;5;28;01mreturn\u001b[39;00m TextFileReader(\u001b[38;5;241m*\u001b[39margs, \u001b[38;5;241m*\u001b[39m\u001b[38;5;241m*\u001b[39mkwds)\n",
      "File \u001b[1;32mD:\\microapplications\\anada\\Lib\\site-packages\\pandas\\io\\parsers\\readers.py:1620\u001b[0m, in \u001b[0;36mTextFileReader.__init__\u001b[1;34m(self, f, engine, **kwds)\u001b[0m\n\u001b[0;32m   1617\u001b[0m     \u001b[38;5;28mself\u001b[39m\u001b[38;5;241m.\u001b[39moptions[\u001b[38;5;124m\"\u001b[39m\u001b[38;5;124mhas_index_names\u001b[39m\u001b[38;5;124m\"\u001b[39m] \u001b[38;5;241m=\u001b[39m kwds[\u001b[38;5;124m\"\u001b[39m\u001b[38;5;124mhas_index_names\u001b[39m\u001b[38;5;124m\"\u001b[39m]\n\u001b[0;32m   1619\u001b[0m \u001b[38;5;28mself\u001b[39m\u001b[38;5;241m.\u001b[39mhandles: IOHandles \u001b[38;5;241m|\u001b[39m \u001b[38;5;28;01mNone\u001b[39;00m \u001b[38;5;241m=\u001b[39m \u001b[38;5;28;01mNone\u001b[39;00m\n\u001b[1;32m-> 1620\u001b[0m \u001b[38;5;28mself\u001b[39m\u001b[38;5;241m.\u001b[39m_engine \u001b[38;5;241m=\u001b[39m \u001b[38;5;28mself\u001b[39m\u001b[38;5;241m.\u001b[39m_make_engine(f, \u001b[38;5;28mself\u001b[39m\u001b[38;5;241m.\u001b[39mengine)\n",
      "File \u001b[1;32mD:\\microapplications\\anada\\Lib\\site-packages\\pandas\\io\\parsers\\readers.py:1898\u001b[0m, in \u001b[0;36mTextFileReader._make_engine\u001b[1;34m(self, f, engine)\u001b[0m\n\u001b[0;32m   1895\u001b[0m     \u001b[38;5;28;01mraise\u001b[39;00m \u001b[38;5;167;01mValueError\u001b[39;00m(msg)\n\u001b[0;32m   1897\u001b[0m \u001b[38;5;28;01mtry\u001b[39;00m:\n\u001b[1;32m-> 1898\u001b[0m     \u001b[38;5;28;01mreturn\u001b[39;00m mapping[engine](f, \u001b[38;5;241m*\u001b[39m\u001b[38;5;241m*\u001b[39m\u001b[38;5;28mself\u001b[39m\u001b[38;5;241m.\u001b[39moptions)\n\u001b[0;32m   1899\u001b[0m \u001b[38;5;28;01mexcept\u001b[39;00m \u001b[38;5;167;01mException\u001b[39;00m:\n\u001b[0;32m   1900\u001b[0m     \u001b[38;5;28;01mif\u001b[39;00m \u001b[38;5;28mself\u001b[39m\u001b[38;5;241m.\u001b[39mhandles \u001b[38;5;129;01mis\u001b[39;00m \u001b[38;5;129;01mnot\u001b[39;00m \u001b[38;5;28;01mNone\u001b[39;00m:\n",
      "File \u001b[1;32mD:\\microapplications\\anada\\Lib\\site-packages\\pandas\\io\\parsers\\python_parser.py:163\u001b[0m, in \u001b[0;36mPythonParser.__init__\u001b[1;34m(self, f, **kwds)\u001b[0m\n\u001b[0;32m    160\u001b[0m \u001b[38;5;28;01mif\u001b[39;00m \u001b[38;5;28mself\u001b[39m\u001b[38;5;241m.\u001b[39m_col_indices \u001b[38;5;129;01mis\u001b[39;00m \u001b[38;5;28;01mNone\u001b[39;00m:\n\u001b[0;32m    161\u001b[0m     \u001b[38;5;28mself\u001b[39m\u001b[38;5;241m.\u001b[39m_col_indices \u001b[38;5;241m=\u001b[39m \u001b[38;5;28mlist\u001b[39m(\u001b[38;5;28mrange\u001b[39m(\u001b[38;5;28mlen\u001b[39m(\u001b[38;5;28mself\u001b[39m\u001b[38;5;241m.\u001b[39mcolumns)))\n\u001b[1;32m--> 163\u001b[0m \u001b[38;5;28mself\u001b[39m\u001b[38;5;241m.\u001b[39m_parse_date_cols \u001b[38;5;241m=\u001b[39m \u001b[38;5;28mself\u001b[39m\u001b[38;5;241m.\u001b[39m_validate_parse_dates_presence(\u001b[38;5;28mself\u001b[39m\u001b[38;5;241m.\u001b[39mcolumns)\n\u001b[0;32m    164\u001b[0m \u001b[38;5;28mself\u001b[39m\u001b[38;5;241m.\u001b[39m_no_thousands_columns \u001b[38;5;241m=\u001b[39m \u001b[38;5;28mself\u001b[39m\u001b[38;5;241m.\u001b[39m_set_no_thousand_columns()\n\u001b[0;32m    166\u001b[0m \u001b[38;5;28;01mif\u001b[39;00m \u001b[38;5;28mlen\u001b[39m(\u001b[38;5;28mself\u001b[39m\u001b[38;5;241m.\u001b[39mdecimal) \u001b[38;5;241m!=\u001b[39m \u001b[38;5;241m1\u001b[39m:\n",
      "File \u001b[1;32mD:\\microapplications\\anada\\Lib\\site-packages\\pandas\\io\\parsers\\base_parser.py:248\u001b[0m, in \u001b[0;36mParserBase._validate_parse_dates_presence\u001b[1;34m(self, columns)\u001b[0m\n\u001b[0;32m    243\u001b[0m     \u001b[38;5;28;01mraise\u001b[39;00m \u001b[38;5;167;01mValueError\u001b[39;00m(\n\u001b[0;32m    244\u001b[0m         \u001b[38;5;124mf\u001b[39m\u001b[38;5;124m\"\u001b[39m\u001b[38;5;124mMissing column provided to \u001b[39m\u001b[38;5;124m'\u001b[39m\u001b[38;5;124mparse_dates\u001b[39m\u001b[38;5;124m'\u001b[39m\u001b[38;5;124m: \u001b[39m\u001b[38;5;124m'\u001b[39m\u001b[38;5;132;01m{\u001b[39;00mmissing_cols\u001b[38;5;132;01m}\u001b[39;00m\u001b[38;5;124m'\u001b[39m\u001b[38;5;124m\"\u001b[39m\n\u001b[0;32m    245\u001b[0m     )\n\u001b[0;32m    246\u001b[0m \u001b[38;5;66;03m# Convert positions to actual column names\u001b[39;00m\n\u001b[0;32m    247\u001b[0m \u001b[38;5;28;01mreturn\u001b[39;00m [\n\u001b[1;32m--> 248\u001b[0m     col \u001b[38;5;28;01mif\u001b[39;00m (\u001b[38;5;28misinstance\u001b[39m(col, \u001b[38;5;28mstr\u001b[39m) \u001b[38;5;129;01mor\u001b[39;00m col \u001b[38;5;129;01min\u001b[39;00m columns) \u001b[38;5;28;01melse\u001b[39;00m columns[col]\n\u001b[0;32m    249\u001b[0m     \u001b[38;5;28;01mfor\u001b[39;00m col \u001b[38;5;129;01min\u001b[39;00m cols_needed\n\u001b[0;32m    250\u001b[0m ]\n",
      "\u001b[1;31mIndexError\u001b[0m: list index out of range (sheet: 0)"
     ]
    }
   ],
   "source": [
    "newdf = pd.read_excel(\"dupcar.xlsx\",parse_dates=[10])"
   ]
  },
  {
   "cell_type": "code",
   "execution_count": 63,
   "id": "c37f2b52-7ca2-4efc-af68-33456cf0d8f8",
   "metadata": {},
   "outputs": [
    {
     "name": "stdout",
     "output_type": "stream",
     "text": [
      "   calories  duration\n",
      "0       420        50\n",
      "1       242        40\n",
      "2       534        30\n"
     ]
    }
   ],
   "source": [
    "import pandas\n",
    "data={\n",
    "    \"calories\":[420,242,534],\n",
    "    \"duration\":[50,40,30]\n",
    "}\n",
    "df = pd.DataFrame(data)\n",
    "print(df)"
   ]
  },
  {
   "cell_type": "code",
   "execution_count": 81,
   "id": "4a849818-93c7-4948-b49e-9a3a961434bf",
   "metadata": {},
   "outputs": [
    {
     "name": "stdout",
     "output_type": "stream",
     "text": [
      "50\n"
     ]
    }
   ],
   "source": [
    "print(df.iloc[0,1])"
   ]
  },
  {
   "cell_type": "code",
   "execution_count": 82,
   "id": "51700ec9-e7e1-49ac-906a-50ff4b35e020",
   "metadata": {},
   "outputs": [
    {
     "name": "stdout",
     "output_type": "stream",
     "text": [
      "   calories  duration\n",
      "0       420        50\n",
      "1       242        40\n"
     ]
    }
   ],
   "source": [
    "print(df.loc[[0,1]])"
   ]
  },
  {
   "cell_type": "code",
   "execution_count": 84,
   "id": "6f6a9d3b-cb98-4203-9ece-c132ac85a9a6",
   "metadata": {},
   "outputs": [
    {
     "data": {
      "text/plain": [
       "'{\"columns\":[\"calories\",\"duration\"],\"index\":[0,1,2],\"data\":[[420,50],[242,40],[534,30]]}'"
      ]
     },
     "execution_count": 84,
     "metadata": {},
     "output_type": "execute_result"
    }
   ],
   "source": [
    "df.to_json(orient='split')"
   ]
  },
  {
   "cell_type": "code",
   "execution_count": 86,
   "id": "334889ec-53e9-4e02-8625-2c63487a01de",
   "metadata": {},
   "outputs": [
    {
     "ename": "NameError",
     "evalue": "name 'StringIO' is not defined",
     "output_type": "error",
     "traceback": [
      "\u001b[1;31m---------------------------------------------------------------------------\u001b[0m",
      "\u001b[1;31mNameError\u001b[0m                                 Traceback (most recent call last)",
      "Cell \u001b[1;32mIn[86], line 2\u001b[0m\n\u001b[0;32m      1\u001b[0m \u001b[38;5;28;01mimport\u001b[39;00m\u001b[38;5;250m \u001b[39m\u001b[38;5;21;01mpandas\u001b[39;00m\u001b[38;5;250m \u001b[39m\u001b[38;5;28;01mas\u001b[39;00m\u001b[38;5;250m \u001b[39m\u001b[38;5;21;01mpd\u001b[39;00m\n\u001b[1;32m----> 2\u001b[0m pd\u001b[38;5;241m.\u001b[39mread_json(StringIO(_),orient\u001b[38;5;241m=\u001b[39m\u001b[38;5;124m'\u001b[39m\u001b[38;5;124msplit\u001b[39m\u001b[38;5;124m'\u001b[39m)\n",
      "\u001b[1;31mNameError\u001b[0m: name 'StringIO' is not defined"
     ]
    }
   ],
   "source": [
    "import pandas as pd\n",
    "pd.read_json(StringIO(_),orient='split')"
   ]
  },
  {
   "cell_type": "code",
   "execution_count": null,
   "id": "2003a009-16ef-42bb-911e-4d9e09456707",
   "metadata": {},
   "outputs": [],
   "source": [
    "arr = np.array(42) which is called 0 dimentional array because it contains one value"
   ]
  },
  {
   "cell_type": "code",
   "execution_count": null,
   "id": "af6b0cf6-3e07-4d73-b1fe-a9f4c27abe33",
   "metadata": {},
   "outputs": [],
   "source": [
    "arr=np.array([1,2,3])  its a one dimentional"
   ]
  },
  {
   "cell_type": "code",
   "execution_count": 88,
   "id": "ae30ed12-3dcc-493a-b166-160561b51316",
   "metadata": {},
   "outputs": [
    {
     "name": "stdout",
     "output_type": "stream",
     "text": [
      "[[ 1  2  3  4  5]\n",
      " [ 6  7  8  9 10]]\n"
     ]
    }
   ],
   "source": [
    "import numpy as np\n",
    "arr=np.array([[1,2,3,4,5],[6,7,8,9,10]])\n",
    "print(arr)"
   ]
  },
  {
   "cell_type": "code",
   "execution_count": 100,
   "id": "a3aec6ae-e9f1-4f35-8f8d-24bc84a1c7c9",
   "metadata": {},
   "outputs": [
    {
     "name": "stdout",
     "output_type": "stream",
     "text": [
      "0\n",
      "1\n",
      "2\n",
      "3\n"
     ]
    }
   ],
   "source": [
    "a=np.array(42)\n",
    "b=np.array([1,2,3,4,5,6])\n",
    "c=np.array([[1,2,3,4],[5,6,7,8]])\n",
    "d=np.array([[[1,2,3],[4,5,6]],[[7,8,9],[4,5,6]]])\n",
    "print(a.ndim)\n",
    "print(b.ndim)\n",
    "print(c.ndim)\n",
    "print(d.ndim)"
   ]
  },
  {
   "cell_type": "code",
   "execution_count": 97,
   "id": "310704d8-f08c-4e09-a9da-ab1616259424",
   "metadata": {},
   "outputs": [
    {
     "name": "stdout",
     "output_type": "stream",
     "text": [
      "10\n"
     ]
    }
   ],
   "source": [
    "arr=np.array([[1,2,3,4,5],[6,7,8,9,10]])\n",
    "print(arr[1,4])"
   ]
  },
  {
   "cell_type": "code",
   "execution_count": 110,
   "id": "93807f66-96cd-4d6b-adcb-55b36ffd546e",
   "metadata": {},
   "outputs": [
    {
     "name": "stdout",
     "output_type": "stream",
     "text": [
      "[3 7]\n"
     ]
    }
   ],
   "source": [
    "print(c[0:2,2])"
   ]
  },
  {
   "cell_type": "code",
   "execution_count": 101,
   "id": "975ebd37-5eda-43fa-8c72-e0bd13d0fd91",
   "metadata": {},
   "outputs": [
    {
     "name": "stdout",
     "output_type": "stream",
     "text": [
      "10\n"
     ]
    }
   ],
   "source": [
    "print(arr[-1,-1])"
   ]
  },
  {
   "cell_type": "code",
   "execution_count": 104,
   "id": "aa5951c2-86c2-4ba4-abab-f2641c471296",
   "metadata": {},
   "outputs": [
    {
     "data": {
      "text/plain": [
       "array([[10, 10],\n",
       "       [10, 10]])"
      ]
     },
     "execution_count": 104,
     "metadata": {},
     "output_type": "execute_result"
    }
   ],
   "source": [
    "\n",
    "np.full((2,2),[10])"
   ]
  },
  {
   "cell_type": "code",
   "execution_count": 108,
   "id": "5101d1f2-a458-4b8d-bdd0-3a36917fa37f",
   "metadata": {},
   "outputs": [
    {
     "ename": "TypeError",
     "evalue": "'float' object is not callable",
     "output_type": "error",
     "traceback": [
      "\u001b[1;31m---------------------------------------------------------------------------\u001b[0m",
      "\u001b[1;31mTypeError\u001b[0m                                 Traceback (most recent call last)",
      "Cell \u001b[1;32mIn[108], line 3\u001b[0m\n\u001b[0;32m      1\u001b[0m \u001b[38;5;28;01mimport\u001b[39;00m\u001b[38;5;250m \u001b[39m\u001b[38;5;21;01mnumpy\u001b[39;00m\u001b[38;5;250m \u001b[39m\u001b[38;5;28;01mas\u001b[39;00m\u001b[38;5;250m \u001b[39m\u001b[38;5;21;01mnp\u001b[39;00m\n\u001b[1;32m----> 3\u001b[0m np\u001b[38;5;241m.\u001b[39minf(\u001b[38;5;241m2\u001b[39m,\u001b[38;5;241m2\u001b[39m)\n",
      "\u001b[1;31mTypeError\u001b[0m: 'float' object is not callable"
     ]
    }
   ],
   "source": [
    "import numpy as np\n",
    "\n",
    "np.inf(2,2)"
   ]
  },
  {
   "cell_type": "code",
   "execution_count": 109,
   "id": "8f14bfd9-9ab5-46b7-959f-2fdde5ac1944",
   "metadata": {},
   "outputs": [
    {
     "data": {
      "text/plain": [
       "array([4, 5])"
      ]
     },
     "execution_count": 109,
     "metadata": {},
     "output_type": "execute_result"
    }
   ],
   "source": [
    "b[-3:-1]"
   ]
  },
  {
   "cell_type": "code",
   "execution_count": 132,
   "id": "c2a47ddc-429c-424e-bdf8-d71278e9d9f6",
   "metadata": {},
   "outputs": [
    {
     "name": "stdout",
     "output_type": "stream",
     "text": [
      "[54  2  3  4  5]\n",
      "[54  2  3  4  5]\n"
     ]
    }
   ],
   "source": [
    "arr=np.array([1,2,3,4,5])\n",
    "x=arr\n",
    "x[0]=54\n",
    "print(arr)\n",
    "print(x)"
   ]
  },
  {
   "cell_type": "code",
   "execution_count": 130,
   "id": "2ccf60c3-bc0e-4049-b261-b87b26ec70b1",
   "metadata": {},
   "outputs": [
    {
     "name": "stdout",
     "output_type": "stream",
     "text": [
      "[1 2 3 4 5]\n",
      "[54  2  3  4  5]\n"
     ]
    }
   ],
   "source": [
    "arr=np.array([1,2,3,4,5])\n",
    "x=arr.copy()\n",
    "x[0]=54\n",
    "print(arr)\n",
    "print(x)"
   ]
  },
  {
   "cell_type": "code",
   "execution_count": 115,
   "id": "11267b5b-d909-4b99-9259-fca8a5d71d63",
   "metadata": {},
   "outputs": [
    {
     "name": "stdout",
     "output_type": "stream",
     "text": [
      "(6,)\n"
     ]
    }
   ],
   "source": [
    "print(b.shape)"
   ]
  },
  {
   "cell_type": "code",
   "execution_count": 125,
   "id": "213d81f5-7bd1-484d-8253-7e58f70f5939",
   "metadata": {},
   "outputs": [
    {
     "name": "stdout",
     "output_type": "stream",
     "text": [
      "[[ 1  2  3]\n",
      " [ 4  5  6]\n",
      " [ 7  8  9]\n",
      " [10 11 12]]\n"
     ]
    }
   ],
   "source": [
    "brr=np.array([1,2,3,4,5,6,7,8,9,10,11,12])\n",
    "newarr= brr.reshape(4,3)\n",
    "print(newarr)"
   ]
  },
  {
   "cell_type": "code",
   "execution_count": 121,
   "id": "3bb1ec33-908a-40ca-a233-9e960eb2c9f1",
   "metadata": {},
   "outputs": [
    {
     "data": {
      "text/plain": [
       "2"
      ]
     },
     "execution_count": 121,
     "metadata": {},
     "output_type": "execute_result"
    }
   ],
   "source": [
    "newarr.ndim"
   ]
  },
  {
   "cell_type": "code",
   "execution_count": 123,
   "id": "a2015cc6-6d2c-491c-b500-aa5df16174f5",
   "metadata": {},
   "outputs": [
    {
     "name": "stdout",
     "output_type": "stream",
     "text": [
      "[[[ 1  2]\n",
      "  [ 3  4]\n",
      "  [ 5  6]]\n",
      "\n",
      " [[ 7  8]\n",
      "  [ 9 10]\n",
      "  [11 12]]]\n"
     ]
    }
   ],
   "source": [
    "brr=np.array([1,2,3,4,5,6,7,8,9,10,11,12])\n",
    "newbrr= brr.reshape(2,3,2)\n",
    "print(newbrr)"
   ]
  },
  {
   "cell_type": "code",
   "execution_count": 137,
   "id": "c74b37a3-e0e3-4d99-abf4-62ea5ed775b6",
   "metadata": {},
   "outputs": [
    {
     "name": "stdout",
     "output_type": "stream",
     "text": [
      "[[[1 2]\n",
      "  [3 4]]\n",
      "\n",
      " [[5 6]\n",
      "  [7 8]]]\n"
     ]
    }
   ],
   "source": [
    "crr=np.array([1,2,3,4,5,6,7,8])\n",
    "print(crr.reshape(2,2,-1))\n"
   ]
  },
  {
   "cell_type": "code",
   "execution_count": 142,
   "id": "916d6d1a-e265-4b04-85df-5c82c316a89f",
   "metadata": {},
   "outputs": [
    {
     "name": "stdout",
     "output_type": "stream",
     "text": [
      "[[[1 2]\n",
      "  [3 4]\n",
      "  [5 6]\n",
      "  [7 8]]]\n"
     ]
    }
   ],
   "source": [
    "crr=np.array([1,2,3,4,5,6,7,8])\n",
    "print(crr.reshape(1,-1,2))\n"
   ]
  },
  {
   "cell_type": "code",
   "execution_count": 145,
   "id": "ce17a2f6-0091-44bd-858f-097ccd462eb0",
   "metadata": {},
   "outputs": [
    {
     "name": "stdout",
     "output_type": "stream",
     "text": [
      "[10  2  3  4  5  6  7  8]\n"
     ]
    }
   ],
   "source": [
    "drr=np.array([1,2,3,4,5,6,7,8])\n",
    "drr[0]=10\n",
    "print(drr.reshape(2,4).base)\n"
   ]
  },
  {
   "cell_type": "code",
   "execution_count": 146,
   "id": "b6c61e59-a142-4b72-9828-a83ea1f34442",
   "metadata": {},
   "outputs": [
    {
     "name": "stdout",
     "output_type": "stream",
     "text": [
      "[1 2 3 4 5 6 7 8 9 4 5 6]\n"
     ]
    }
   ],
   "source": [
    "d=np.array([[[1,2,3],[4,5,6]],[[7,8,9],[4,5,6]]])\n",
    "print(d.reshape(-1))"
   ]
  },
  {
   "cell_type": "code",
   "execution_count": 149,
   "id": "b6bdc6a0-672d-4e2f-9763-e2c4c7042c84",
   "metadata": {},
   "outputs": [
    {
     "name": "stdout",
     "output_type": "stream",
     "text": [
      "97\n"
     ]
    }
   ],
   "source": [
    "mean=(99+86+87+87+88+86+86+77+78+85+88+94+103+111)/13\n",
    "print(round(mean))"
   ]
  },
  {
   "cell_type": "code",
   "execution_count": 158,
   "id": "66ac2746-6ff4-421b-95a0-6a241f3774a8",
   "metadata": {},
   "outputs": [
    {
     "name": "stdout",
     "output_type": "stream",
     "text": [
      "mean 87.625\n",
      "\n"
     ]
    }
   ],
   "source": [
    " \n",
    "a=[85, 86, 86, 87, 87, 88, 88, 94]\n",
    "sum=0\n",
    "count=0\n",
    "for i in a:\n",
    "    sum += i\n",
    "    count += 1\n",
    "print(f\"mean {sum/count}\")\n",
    "print()"
   ]
  },
  {
   "cell_type": "code",
   "execution_count": 178,
   "id": "8074335d-5f78-497d-8280-10c5f64a8a2d",
   "metadata": {},
   "outputs": [
    {
     "name": "stdout",
     "output_type": "stream",
     "text": [
      "87.625\n"
     ]
    }
   ],
   "source": [
    "import numpy\n",
    "a=[85, 86, 86, 87, 87, 88, 88, 94]\n",
    "x=numpy.mean(a)\n",
    "print(x)"
   ]
  },
  {
   "cell_type": "code",
   "execution_count": 179,
   "id": "8cd80927-9455-4286-87e9-85a463628444",
   "metadata": {},
   "outputs": [
    {
     "name": "stdout",
     "output_type": "stream",
     "text": [
      "ModeResult(mode=np.int64(86), count=np.int64(2))\n"
     ]
    }
   ],
   "source": [
    "from scipy import stats\n",
    "x=stats.mode(a)\n",
    "print(x)"
   ]
  },
  {
   "cell_type": "code",
   "execution_count": 180,
   "id": "99bdff3c-2309-4c9c-8114-1831dac4580f",
   "metadata": {},
   "outputs": [
    {
     "data": {
      "text/plain": [
       "4225"
      ]
     },
     "execution_count": 180,
     "metadata": {},
     "output_type": "execute_result"
    }
   ],
   "source": [
    "65*65"
   ]
  },
  {
   "cell_type": "code",
   "execution_count": 181,
   "id": "c4c99ecb-4d8c-4588-a7d0-2df1533f1011",
   "metadata": {},
   "outputs": [
    {
     "data": {
      "text/plain": [
       "750"
      ]
     },
     "execution_count": 181,
     "metadata": {},
     "output_type": "execute_result"
    }
   ],
   "source": [
    "30*25"
   ]
  },
  {
   "cell_type": "code",
   "execution_count": 182,
   "id": "e7a121df-4035-4a15-b514-be9c5366a676",
   "metadata": {},
   "outputs": [
    {
     "data": {
      "text/plain": [
       "15.107142857142858"
      ]
     },
     "execution_count": 182,
     "metadata": {},
     "output_type": "execute_result"
    }
   ],
   "source": [
    "105.75/7\n"
   ]
  },
  {
   "cell_type": "code",
   "execution_count": null,
   "id": "8aa46d08-3ea6-49bd-a7b1-dc69d4344182",
   "metadata": {},
   "outputs": [],
   "source": []
  }
 ],
 "metadata": {
  "kernelspec": {
   "display_name": "Python 3 (ipykernel)",
   "language": "python",
   "name": "python3"
  },
  "language_info": {
   "codemirror_mode": {
    "name": "ipython",
    "version": 3
   },
   "file_extension": ".py",
   "mimetype": "text/x-python",
   "name": "python",
   "nbconvert_exporter": "python",
   "pygments_lexer": "ipython3",
   "version": "3.13.5"
  }
 },
 "nbformat": 4,
 "nbformat_minor": 5
}
