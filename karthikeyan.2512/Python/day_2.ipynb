{
 "cells": [
  {
   "cell_type": "code",
   "execution_count": 29,
   "id": "cb56c379-2371-4f28-a3d4-21b837c64be7",
   "metadata": {},
   "outputs": [
    {
     "data": {
      "text/plain": [
       "63746"
      ]
     },
     "execution_count": 29,
     "metadata": {},
     "output_type": "execute_result"
    }
   ],
   "source": [
    "import random\n",
    "\n",
    "rand = random.randint(10000,99999)\n",
    "rand"
   ]
  },
  {
   "cell_type": "code",
   "execution_count": null,
   "id": "fca9d33f-7baa-41e2-a231-2ccf8530258b",
   "metadata": {},
   "outputs": [],
   "source": [
    "# scissor\n",
    "print(\"\\u2702\") \n",
    "\n",
    "#hand open\n",
    "print(\"\\u270B\"\n",
    "\n",
    "\n",
    "#hand close rock\n",
    "print(\"\\u270A\")"
   ]
  },
  {
   "cell_type": "code",
   "execution_count": 2,
   "id": "a2176e6f-2659-426a-bd27-03687af0732e",
   "metadata": {},
   "outputs": [
    {
     "data": {
      "text/plain": [
       "487268"
      ]
     },
     "execution_count": 2,
     "metadata": {},
     "output_type": "execute_result"
    }
   ],
   "source": [
    "import sample\n",
    "sample.karthi"
   ]
  },
  {
   "cell_type": "code",
   "execution_count": 26,
   "id": "394fb5ae-1f66-4d40-a873-15cb4f02108a",
   "metadata": {},
   "outputs": [
    {
     "data": {
      "text/plain": [
       "-198.01514930024604"
      ]
     },
     "execution_count": 26,
     "metadata": {},
     "output_type": "execute_result"
    }
   ],
   "source": [
    "randn = random.random() \n",
    "randn"
   ]
  },
  {
   "cell_type": "code",
   "execution_count": 25,
   "id": "fec75b93-4f2f-4af0-a443-5568070f4ef8",
   "metadata": {},
   "outputs": [
    {
     "name": "stdout",
     "output_type": "stream",
     "text": [
      "4.228241334633509\n"
     ]
    }
   ],
   "source": [
    "import random\n",
    "hii = random.uniform(1,10)\n",
    "print(hii)"
   ]
  },
  {
   "cell_type": "code",
   "execution_count": 24,
   "id": "6770eed0-71e2-4603-90b4-27f02ee72fc3",
   "metadata": {},
   "outputs": [
    {
     "name": "stdout",
     "output_type": "stream",
     "text": [
      "head\n"
     ]
    }
   ],
   "source": [
    "import random \n",
    "r = random.randint(0,1)\n",
    "\n",
    "if(r==0):\n",
    "  print(\"head\")\n",
    "else:\n",
    "    print(\"tail\")"
   ]
  },
  {
   "cell_type": "code",
   "execution_count": 40,
   "id": "64149558-13b3-4368-8fc0-185d09a437de",
   "metadata": {},
   "outputs": [
    {
     "name": "stdout",
     "output_type": "stream",
     "text": [
      "False\n"
     ]
    }
   ],
   "source": [
    "print((not(2!=3) and True) or True and (False and True))"
   ]
  },
  {
   "cell_type": "code",
   "execution_count": 34,
   "id": "478853db-fd82-48fe-83fd-c916c605713c",
   "metadata": {},
   "outputs": [
    {
     "name": "stdout",
     "output_type": "stream",
     "text": [
      "False\n",
      "True\n"
     ]
    }
   ],
   "source": [
    "print(not(True))\n",
    "print(not(False))"
   ]
  },
  {
   "cell_type": "code",
   "execution_count": 47,
   "id": "71df35bc-82bb-4050-8423-ae413a9903dc",
   "metadata": {},
   "outputs": [
    {
     "name": "stdout",
     "output_type": "stream",
     "text": [
      "True\n"
     ]
    }
   ],
   "source": [
    "print((True | (True & False))  | ((False & True) & True))"
   ]
  },
  {
   "cell_type": "code",
   "execution_count": 57,
   "id": "3daf7927-1897-4c67-8b44-0e35033bf1a6",
   "metadata": {},
   "outputs": [
    {
     "name": "stdin",
     "output_type": "stream",
     "text": [
      "tyghjk fdg\n"
     ]
    },
    {
     "data": {
      "text/plain": [
       "'fdg'"
      ]
     },
     "execution_count": 57,
     "metadata": {},
     "output_type": "execute_result"
    }
   ],
   "source": [
    "input(\"tyghjk\")\n"
   ]
  },
  {
   "cell_type": "code",
   "execution_count": 5,
   "id": "50be9029-4ae3-4cd3-86ab-29b9c2e94c87",
   "metadata": {},
   "outputs": [
    {
     "name": "stdout",
     "output_type": "stream",
     "text": [
      "rock means------( 0 )\n",
      "scissor means---( 1 )\n",
      "paper means-----( 2 )\n"
     ]
    },
    {
     "name": "stdin",
     "output_type": "stream",
     "text": [
      "--- 6\n"
     ]
    },
    {
     "name": "stdout",
     "output_type": "stream",
     "text": [
      "\n",
      "enter 0 or 1 or 2\n"
     ]
    }
   ],
   "source": [
    "\n",
    "print(\"rock means------( 0 )\")\n",
    "print(\"scissor means---( 1 )\") \n",
    "print(\"paper means-----( 2 )\")\n",
    "\n",
    "def hands(x): \n",
    "    if(x==0): \n",
    "        return(\"\\u270A\" \"  rock\")\n",
    "    elif(x==1): \n",
    "        return(\"\\u2702\"  \"  scissor\")\n",
    "    elif(x==2):\n",
    "        return(\"\\u270B\"  \"  paper\");\n",
    "\n",
    "your_choice = (input(\"---\"))\n",
    "print()\n",
    "\n",
    "com_choice = random.randint(0,2)\n",
    "\n",
    "if(your_choice.isdigit() ):\n",
    "    your_choice=int(your_choice)\n",
    "    if(0 <= your_choice <3):\n",
    "        print(hands(your_choice))\n",
    "        print()\n",
    "        print(hands(com_choice))\n",
    "        print()\n",
    "        \n",
    "        if(your_choice == 0):\n",
    "            if(com_choice ==1):\n",
    "               print(\"you win\")\n",
    "            elif(com_choice == 2):\n",
    "               print(\"computer win\")\n",
    "            else:\n",
    "               print(\"it's draw\")\n",
    "            \n",
    "        elif(your_choice == 1):\n",
    "            if(com_choice ==2):\n",
    "                print(\"you win\")\n",
    "            elif(com_choice == 0):\n",
    "                print(\"computer win\")\n",
    "            else:\n",
    "                print(\"it's draw\")\n",
    "                \n",
    "        else:\n",
    "            if(com_choice ==0):\n",
    "                print(\"you win\")\n",
    "            elif(com_choice == 1):\n",
    "                print(\"computer win\")\n",
    "            else:\n",
    "                print(\"it's draw\")\n",
    "    else:\n",
    "        print(\"enter 0 or 1 or 2\")\n",
    "else:\n",
    "    print(\"Oops,Your value is not matching. \\nPlease enter the correct value.\") \n"
   ]
  },
  {
   "cell_type": "code",
   "execution_count": 68,
   "id": "db57b2ca-881f-479f-874a-bdc6c1e7c5ab",
   "metadata": {},
   "outputs": [
    {
     "name": "stdout",
     "output_type": "stream",
     "text": [
      "True\n",
      "True\n"
     ]
    }
   ],
   "source": [
    "a=True\n",
    "b=False\n",
    "print((0a or b) and not(a and b))\n",
    "print((a or not b) or (b and not a))"
   ]
  },
  {
   "cell_type": "code",
   "execution_count": 75,
   "id": "ded3f470-7b6f-4ea7-b792-9b59bd632f32",
   "metadata": {},
   "outputs": [
    {
     "data": {
      "text/plain": [
       "bool"
      ]
     },
     "execution_count": 75,
     "metadata": {},
     "output_type": "execute_result"
    }
   ],
   "source": [
    "type(a)"
   ]
  },
  {
   "cell_type": "code",
   "execution_count": 87,
   "id": "adac3d65-1dfd-49e8-93c4-26a955756054",
   "metadata": {},
   "outputs": [
    {
     "name": "stdin",
     "output_type": "stream",
     "text": [
      "empty or not .\n"
     ]
    },
    {
     "name": "stdout",
     "output_type": "stream",
     "text": [
      "True\n"
     ]
    }
   ],
   "source": [
    "a=bool(input(\"empty or not\"))\n",
    "print(a)"
   ]
  },
  {
   "cell_type": "code",
   "execution_count": 1,
   "id": "b5766cc4-61c1-41d5-ae81-c8bc33a74249",
   "metadata": {},
   "outputs": [
    {
     "name": "stdin",
     "output_type": "stream",
     "text": [
      "empty or not \n"
     ]
    },
    {
     "name": "stdout",
     "output_type": "stream",
     "text": [
      "False\n"
     ]
    }
   ],
   "source": [
    "a=bool(input(\"empty or not\"))\n",
    "print(a)"
   ]
  },
  {
   "cell_type": "code",
   "execution_count": 89,
   "id": "fc895d58-d872-4311-8924-52e6b9ba5f16",
   "metadata": {},
   "outputs": [
    {
     "name": "stdout",
     "output_type": "stream",
     "text": [
      "True\n",
      "False\n"
     ]
    }
   ],
   "source": [
    "nand = not(a and b)\n",
    "nor = not(a or b)\n",
    "print(nand)\n",
    "print(nor)"
   ]
  },
  {
   "cell_type": "code",
   "execution_count": 96,
   "id": "9c7aef57-d82c-4cb6-95b6-ccd4b0315464",
   "metadata": {},
   "outputs": [
    {
     "name": "stdout",
     "output_type": "stream",
     "text": [
      "True\n"
     ]
    }
   ],
   "source": [
    "print(((not (2 <> 3) and (4<6)) or ((6!=7) & (8<2))))"
   ]
  },
  {
   "cell_type": "code",
   "execution_count": 99,
   "id": "3baa68bc-7619-4443-a45f-81c413434310",
   "metadata": {},
   "outputs": [
    {
     "name": "stdin",
     "output_type": "stream",
     "text": [
      " 5\n"
     ]
    },
    {
     "name": "stdout",
     "output_type": "stream",
     "text": [
      "odd\n"
     ]
    }
   ],
   "source": [
    "a = int(input())\n",
    "if(a&1==0):\n",
    "    print(\"even\")\n",
    "else:\n",
    "    print(\"odd\")"
   ]
  },
  {
   "cell_type": "code",
   "execution_count": 112,
   "id": "4d1ab2d2-c38d-436d-8d6c-71ec8b142e0b",
   "metadata": {},
   "outputs": [
    {
     "name": "stdin",
     "output_type": "stream",
     "text": [
      " 5\n",
      " 4\n"
     ]
    },
    {
     "name": "stdout",
     "output_type": "stream",
     "text": [
      "5\n"
     ]
    }
   ],
   "source": [
    "a=int(input())\n",
    "b=int(input())\n",
    "if(a>b):\n",
    "    print(a)\n",
    "elif(a<b):\n",
    "    print(b)\n",
    "else:\n",
    "    print(\"equal\")"
   ]
  },
  {
   "cell_type": "code",
   "execution_count": 122,
   "id": "c90e3979-0e4d-40d5-8861-2d9616cbc858",
   "metadata": {},
   "outputs": [
    {
     "name": "stdin",
     "output_type": "stream",
     "text": [
      " 0\n"
     ]
    },
    {
     "name": "stdout",
     "output_type": "stream",
     "text": [
      "fail\n"
     ]
    }
   ],
   "source": [
    "mark = int(input())\n",
    "\n",
    "if(mark <= 100 and mark >=0):\n",
    "    if(mark >= 90):\n",
    "        print(\"A+\")\n",
    "    elif(mark >= 75):\n",
    "        print(\"A\")\n",
    "    elif(mark > 60):\n",
    "        print(\"B\")\n",
    "    elif(mark >= 40):\n",
    "        print(\"C\")\n",
    "    else:\n",
    "        print(\"fail\")\n",
    "else:\n",
    "    print(\"invalid\")"
   ]
  },
  {
   "cell_type": "code",
   "execution_count": null,
   "id": "74ca2888-80a6-455a-a421-74429cc40563",
   "metadata": {},
   "outputs": [],
   "source": []
  },
  {
   "cell_type": "code",
   "execution_count": 132,
   "id": "9a4b8b51-f8df-40bf-a946-64e36ea584d6",
   "metadata": {},
   "outputs": [
    {
     "name": "stdin",
     "output_type": "stream",
     "text": [
      "enter the name )(787878)(\n"
     ]
    },
    {
     "name": "stdout",
     "output_type": "stream",
     "text": [
      "not a palindrome\n"
     ]
    }
   ],
   "source": [
    "original_name=input(\"enter the name\")\n",
    "reverse_name=original_name[::-1]\n",
    "if(original_name == reverse_name):\n",
    "    print(\"palindrome\")\n",
    "else:\n",
    "    print(\"not a palindrome\")"
   ]
  },
  {
   "cell_type": "code",
   "execution_count": 145,
   "id": "b8cc8e8d-b65c-46d5-9e99-b5d10abe4c16",
   "metadata": {},
   "outputs": [
    {
     "name": "stdout",
     "output_type": "stream",
     "text": [
      "True\n",
      "True\n",
      "True\n"
     ]
    }
   ],
   "source": [
    "s1=\"python\"\n",
    "s2 = \"12345\"\n",
    "print(s1.isalpha())\n",
    "print(s2.isdigit())\n",
    "print(s1.startswith(\"py\"))"
   ]
  },
  {
   "cell_type": "code",
   "execution_count": 8,
   "id": "81350bc5-3dd7-48e2-9b2d-e319865b1f03",
   "metadata": {},
   "outputs": [
    {
     "name": "stdin",
     "output_type": "stream",
     "text": [
      " 287\n"
     ]
    },
    {
     "name": "stdout",
     "output_type": "stream",
     "text": [
      "its an number\n",
      "it is alpha numeric\n"
     ]
    }
   ],
   "source": [
    "s1=input()\n",
    "\n",
    "if(s1.isalnum()):\n",
    "    if(s1.isdigit()):\n",
    "        print(\"its an number\")\n",
    "    else:\n",
    "        print(\"its a string\")\n",
    "    print(\"it is alpha numeric\")\n",
    "else:\n",
    "    print(\"not a alpha numeric\")"
   ]
  },
  {
   "cell_type": "code",
   "execution_count": null,
   "id": "9dd2c7fb-2822-4fc1-8c70-1dcd5f37b6eb",
   "metadata": {},
   "outputs": [],
   "source": [
    "text = \"1235 675123\"\n",
    "if(\"123\" in text):\n",
    "    print(\"True\")\n",
    "elif \" \" not in text:\n",
    "    print(\"True\")\n",
    "else:\n",
    "    print(\"False\")"
   ]
  },
  {
   "cell_type": "code",
   "execution_count": 186,
   "id": "65a0f92b-9185-4fb9-833e-8fe80cd3c3f0",
   "metadata": {},
   "outputs": [
    {
     "name": "stdout",
     "output_type": "stream",
     "text": [
      "True\n"
     ]
    }
   ],
   "source": [
    "text = \"123567\"\n",
    "if(text.startswith((\"13\", \"12\", \"1\"))):\n",
    "    print(\"True\")\n",
    "else:\n",
    "    print(\"False\")"
   ]
  },
  {
   "cell_type": "code",
   "execution_count": 223,
   "id": "5149328c-4d2c-494e-8efc-ba8fef8233cd",
   "metadata": {},
   "outputs": [
    {
     "name": "stdin",
     "output_type": "stream",
     "text": [
      "enter the year: 15486\n"
     ]
    },
    {
     "name": "stdout",
     "output_type": "stream",
     "text": [
      "enter the 4 digit year\n"
     ]
    }
   ],
   "source": [
    "str_year=input(\"enter the year:\")\n",
    "\n",
    "if (str_year.isdigit()):\n",
    "    if(len(str_year)==4):\n",
    "        year = int(str_year)\n",
    "        if(year % 400 == 0): \n",
    "             print(\"yes,leap year\")\n",
    "        else:\n",
    "            if(year % 4==0 and year % 100 != 0):\n",
    "                print(\"yes,leap year\")\n",
    "            else:  \n",
    "                print(\"no,its not a leap year\")\n",
    "    else:\n",
    "         print(\"enter the 4 digit year\")\n",
    "else:\n",
    "    print(\"invalid input ,so give the valid year\")"
   ]
  },
  {
   "cell_type": "code",
   "execution_count": 15,
   "id": "3054e7c5-2073-48d6-b320-243f18d30737",
   "metadata": {},
   "outputs": [
    {
     "name": "stdin",
     "output_type": "stream",
     "text": [
      "enter the first side 1.3\n",
      "enter the second side 5\n",
      "enter the third side 2\n"
     ]
    },
    {
     "name": "stdout",
     "output_type": "stream",
     "text": [
      "sorry ,enter the appropriate value\n"
     ]
    }
   ],
   "source": [
    "str_one = input(\"enter the first side\")\n",
    "str_two = input(\"enter the second side\")\n",
    "str_three= input(\"enter the third side\")\n",
    "\n",
    "if((str_one.isdigit()) and (str_two.isdigit()) and (str_three.isdigit())):\n",
    "   \n",
    "    one=float(str_one)\n",
    "    two=float(str_two)\n",
    "    three=float(str_three)\n",
    "    if((one+two > three) and (two+three > one) and (one+three > two)):\n",
    "        if(one == two == three):\n",
    "            print(\"equilateral\")\n",
    "        elif(one == two or two == three or one == three):\n",
    "            print(\"isoceles\")\n",
    "        else:\n",
    "            print(\"scalendal\")\n",
    "    else:\n",
    "        print(\"sorry ,enter the appropriate value\")\n",
    "else:\n",
    "    print(\"sorry ,enter the appropriate value\")\n"
   ]
  },
  {
   "cell_type": "code",
   "execution_count": 21,
   "id": "f442f0f2-d3c6-4a40-be7c-36960a568098",
   "metadata": {},
   "outputs": [
    {
     "name": "stdin",
     "output_type": "stream",
     "text": [
      "  \n"
     ]
    },
    {
     "name": "stdout",
     "output_type": "stream",
     "text": [
      "hiii\n"
     ]
    }
   ],
   "source": [
    "q=input()\n",
    "if (\" \" in q):\n",
    "    print(\"hiii\")\n",
    "else:\n",
    "    print(\"enter the empty\")\n"
   ]
  },
  {
   "cell_type": "code",
   "execution_count": null,
   "id": "59ce092c-3d79-4b4f-ade5-4190dc4c36c1",
   "metadata": {},
   "outputs": [],
   "source": [
    "text = \"1235675123\"¶\n",
    "if(text.startswith(\"123\")):\n",
    "    print(\"True\")\n",
    "else:\n",
    "    print(\"False\")"
   ]
  },
  {
   "cell_type": "code",
   "execution_count": 22,
   "id": "cb1b1d07-682d-46c3-aba1-0b049f2ca5a9",
   "metadata": {},
   "outputs": [
    {
     "name": "stdout",
     "output_type": "stream",
     "text": [
      "True\n",
      "False\n"
     ]
    }
   ],
   "source": [
    "print(not(False))\n",
    "print(not(True))"
   ]
  },
  {
   "cell_type": "code",
   "execution_count": null,
   "id": "0cf7a216-8839-46aa-afa4-9c306f217255",
   "metadata": {},
   "outputs": [],
   "source": []
  }
 ],
 "metadata": {
  "kernelspec": {
   "display_name": "Python 3 (ipykernel)",
   "language": "python",
   "name": "python3"
  },
  "language_info": {
   "codemirror_mode": {
    "name": "ipython",
    "version": 3
   },
   "file_extension": ".py",
   "mimetype": "text/x-python",
   "name": "python",
   "nbconvert_exporter": "python",
   "pygments_lexer": "ipython3",
   "version": "3.13.5"
  }
 },
 "nbformat": 4,
 "nbformat_minor": 5
}
