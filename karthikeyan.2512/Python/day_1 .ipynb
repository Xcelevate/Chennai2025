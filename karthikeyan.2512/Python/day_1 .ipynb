{
 "cells": [
  {
   "cell_type": "code",
   "execution_count": 10,
   "id": "a18cd64d-82dc-4b2e-9746-fd52d380e117",
   "metadata": {},
   "outputs": [
    {
     "name": "stdin",
     "output_type": "stream",
     "text": [
      "what is your name? karthik\n"
     ]
    },
    {
     "name": "stdout",
     "output_type": "stream",
     "text": [
      "12\n"
     ]
    }
   ],
   "source": [
    "print(len(\"hello\" + input(\"what is your name?\")))"
   ]
  },
  {
   "cell_type": "code",
   "execution_count": 7,
   "id": "ba1c39cd-233b-496e-a152-50d509dc7415",
   "metadata": {},
   "outputs": [
    {
     "name": "stdin",
     "output_type": "stream",
     "text": [
      "what is your name? karthik\n"
     ]
    },
    {
     "name": "stdout",
     "output_type": "stream",
     "text": [
      "karthik\n"
     ]
    }
   ],
   "source": [
    "name = input(\"what is your name?\")\n",
    "print(name)"
   ]
  },
  {
   "cell_type": "code",
   "execution_count": 8,
   "id": "28aea8d3-8f45-46d8-b5f5-967b333be2bc",
   "metadata": {},
   "outputs": [
    {
     "name": "stdout",
     "output_type": "stream",
     "text": [
      "\n"
     ]
    }
   ],
   "source": [
    "name =\"\"\n",
    "print(name)"
   ]
  },
  {
   "cell_type": "code",
   "execution_count": 12,
   "id": "36b8507b-dd01-42da-bbd5-9c22d9f376e2",
   "metadata": {},
   "outputs": [
    {
     "name": "stdin",
     "output_type": "stream",
     "text": [
      "what is your name karthi keyan\n"
     ]
    },
    {
     "name": "stdout",
     "output_type": "stream",
     "text": [
      "12\n"
     ]
    }
   ],
   "source": [
    "print(len(input(\"what is your name\")))"
   ]
  },
  {
   "cell_type": "code",
   "execution_count": 20,
   "id": "7a8193bc-bff5-461d-b5f8-7531121c55b4",
   "metadata": {},
   "outputs": [
    {
     "name": "stdout",
     "output_type": "stream",
     "text": [
      "juice\n",
      "milk\n"
     ]
    }
   ],
   "source": [
    "glass1=\"milk\"\n",
    "glass2=\"juice\"\n",
    "c=glass2\n",
    "glass2=glass1\n",
    "glass1=c\n",
    "print(glass1)\n",
    "print(glass2)"
   ]
  },
  {
   "cell_type": "code",
   "execution_count": 23,
   "id": "d4574347-7609-4921-bd8d-92fa4def063d",
   "metadata": {},
   "outputs": [
    {
     "name": "stdout",
     "output_type": "stream",
     "text": [
      "3\n"
     ]
    }
   ],
   "source": [
    "print(len(\"123\"))"
   ]
  },
  {
   "cell_type": "code",
   "execution_count": 29,
   "id": "dfbb44a6-b5b0-4896-9060-0cfd397fe1c5",
   "metadata": {},
   "outputs": [
    {
     "name": "stdout",
     "output_type": "stream",
     "text": [
      "o\n"
     ]
    }
   ],
   "source": [
    "str=\"hello\"\n",
    "print(str[len(str)-1])"
   ]
  },
  {
   "cell_type": "code",
   "execution_count": 72,
   "id": "d0097818-d07f-43d5-83c7-907f748a2698",
   "metadata": {},
   "outputs": [
    {
     "data": {
      "text/plain": [
       "'o'"
      ]
     },
     "execution_count": 72,
     "metadata": {},
     "output_type": "execute_result"
    }
   ],
   "source": [
    "str=\"hello\"\n",
    "str[:3:-1]"
   ]
  },
  {
   "cell_type": "code",
   "execution_count": 76,
   "id": "6eaf8dd9-4605-417b-a8e2-edcf8b9090be",
   "metadata": {},
   "outputs": [
    {
     "name": "stdout",
     "output_type": "stream",
     "text": [
      "kihtrak\n"
     ]
    }
   ],
   "source": [
    "man = \"karthik\"\n",
    "print(man[::-1])\n"
   ]
  },
  {
   "cell_type": "code",
   "execution_count": 81,
   "id": "88b743e9-9cf5-4278-9280-eb2b2ef84562",
   "metadata": {},
   "outputs": [
    {
     "data": {
      "text/plain": [
       "'oll'"
      ]
     },
     "execution_count": 81,
     "metadata": {},
     "output_type": "execute_result"
    }
   ],
   "source": [
    "str[4:1:-1]"
   ]
  },
  {
   "cell_type": "code",
   "execution_count": 85,
   "id": "ecc6160d-805a-41c0-9492-c7162c85f314",
   "metadata": {},
   "outputs": [
    {
     "name": "stdout",
     "output_type": "stream",
     "text": [
      "123456\n"
     ]
    }
   ],
   "source": [
    "print(123_456)"
   ]
  },
  {
   "cell_type": "code",
   "execution_count": 101,
   "id": "bab617a3-73bc-4a8f-8b8c-0f8aec83917b",
   "metadata": {},
   "outputs": [
    {
     "data": {
      "text/plain": [
       "bool"
      ]
     },
     "execution_count": 101,
     "metadata": {},
     "output_type": "execute_result"
    }
   ],
   "source": [
    "a= True\n",
    "type(a)"
   ]
  },
  {
   "cell_type": "code",
   "execution_count": 95,
   "id": "1ca668c8-b575-44f3-9016-1594517d786a",
   "metadata": {},
   "outputs": [
    {
     "data": {
      "text/plain": [
       "\u001b[1;31mInit signature:\u001b[0m \u001b[0mtype\u001b[0m\u001b[1;33m(\u001b[0m\u001b[0mself\u001b[0m\u001b[1;33m,\u001b[0m \u001b[1;33m/\u001b[0m\u001b[1;33m,\u001b[0m \u001b[1;33m*\u001b[0m\u001b[0margs\u001b[0m\u001b[1;33m,\u001b[0m \u001b[1;33m**\u001b[0m\u001b[0mkwargs\u001b[0m\u001b[1;33m)\u001b[0m\u001b[1;33m\u001b[0m\u001b[1;33m\u001b[0m\u001b[0m\n",
       "\u001b[1;31mDocstring:\u001b[0m     \n",
       "type(object) -> the object's type\n",
       "type(name, bases, dict, **kwds) -> a new type\n",
       "\u001b[1;31mType:\u001b[0m           type\n",
       "\u001b[1;31mSubclasses:\u001b[0m     ABCMeta, EnumType, _AnyMeta, NamedTupleMeta, _TypedDictMeta, _ABC, MetaHasDescriptors, CType_Type, _TzSingleton, _TzFactory, ..."
      ]
     },
     "metadata": {},
     "output_type": "display_data"
    }
   ],
   "source": [
    "type?"
   ]
  },
  {
   "cell_type": "code",
   "execution_count": 103,
   "id": "1d3deb76-7fc1-4b02-bfaa-92802b751622",
   "metadata": {},
   "outputs": [
    {
     "name": "stdout",
     "output_type": "stream",
     "text": [
      "579\n"
     ]
    }
   ],
   "source": [
    "print(int(\"123\") + int(\"456\"))"
   ]
  },
  {
   "cell_type": "code",
   "execution_count": 117,
   "id": "45c7d53d-2af9-41e2-a42d-1965040a6000",
   "metadata": {},
   "outputs": [
    {
     "name": "stdin",
     "output_type": "stream",
     "text": [
      "what is your name karthik\n"
     ]
    },
    {
     "name": "stdout",
     "output_type": "stream",
     "text": [
      "this is your name 7\n"
     ]
    }
   ],
   "source": [
    "a=f\"{len(input(\"what is your name\"))}\"\n",
    "print( \"this is your name \" + a )"
   ]
  },
  {
   "cell_type": "code",
   "execution_count": 126,
   "id": "28119922-aca7-4622-b3d2-4f084d5b775c",
   "metadata": {},
   "outputs": [
    {
     "name": "stdin",
     "output_type": "stream",
     "text": [
      " kgmosg\n"
     ]
    },
    {
     "ename": "TypeError",
     "evalue": "'str' object is not callable",
     "output_type": "error",
     "traceback": [
      "\u001b[1;31m---------------------------------------------------------------------------\u001b[0m",
      "\u001b[1;31mTypeError\u001b[0m                                 Traceback (most recent call last)",
      "Cell \u001b[1;32mIn[126], line 1\u001b[0m\n\u001b[1;32m----> 1\u001b[0m length \u001b[38;5;241m=\u001b[39m \u001b[38;5;28mstr\u001b[39m(\u001b[38;5;28mlen\u001b[39m(\u001b[38;5;28minput\u001b[39m()))\n\u001b[0;32m      2\u001b[0m \u001b[38;5;28mprint\u001b[39m(length)\n",
      "\u001b[1;31mTypeError\u001b[0m: 'str' object is not callable"
     ]
    }
   ],
   "source": [
    "length = str(len(input()))\n",
    "print(length)"
   ]
  },
  {
   "cell_type": "code",
   "execution_count": 125,
   "id": "3e359be6-8ab0-4916-b8db-a99e2a0b7079",
   "metadata": {},
   "outputs": [
    {
     "name": "stdout",
     "output_type": "stream",
     "text": [
      "4.0\n"
     ]
    }
   ],
   "source": [
    "print(3*(3+4)/3-3)"
   ]
  },
  {
   "cell_type": "code",
   "execution_count": 124,
   "id": "720a05a5-51c1-4816-b737-5cc01dbf6333",
   "metadata": {},
   "outputs": [
    {
     "data": {
      "text/plain": [
       "float"
      ]
     },
     "execution_count": 124,
     "metadata": {},
     "output_type": "execute_result"
    }
   ],
   "source": [
    "type"
   ]
  },
  {
   "cell_type": "code",
   "execution_count": 18,
   "id": "cccf8feb-bc3b-47cc-bb27-3267fbbbfb72",
   "metadata": {},
   "outputs": [
    {
     "name": "stdout",
     "output_type": "stream",
     "text": [
      "30.9\n"
     ]
    }
   ],
   "source": [
    "weight= 84\n",
    "height= 1.65\n",
    "print(round((weight/height**2),1))"
   ]
  },
  {
   "cell_type": "code",
   "execution_count": 23,
   "id": "bc0ad28a-3411-4fc8-9c22-309bf1762ebb",
   "metadata": {},
   "outputs": [
    {
     "name": "stdout",
     "output_type": "stream",
     "text": [
      "1\n"
     ]
    }
   ],
   "source": [
    "a=1.45\n",
    "print(round(a))"
   ]
  },
  {
   "cell_type": "code",
   "execution_count": 31,
   "id": "7d0f6f2c-0526-4050-a94f-827630d48424",
   "metadata": {},
   "outputs": [
    {
     "name": "stdout",
     "output_type": "stream",
     "text": [
      "1234\n"
     ]
    }
   ],
   "source": [
    "print(f\"{1234}\")\n",
    "      "
   ]
  },
  {
   "cell_type": "code",
   "execution_count": 34,
   "id": "47a24314-ef60-4d93-8c66-71f4861a233c",
   "metadata": {},
   "outputs": [
    {
     "data": {
      "text/plain": [
       "str"
      ]
     },
     "execution_count": 34,
     "metadata": {},
     "output_type": "execute_result"
    }
   ],
   "source": [
    "age = 21\n",
    "age = f\"{age}\"\n",
    "print(age)"
   ]
  },
  {
   "cell_type": "code",
   "execution_count": 34,
   "id": "760e8da2-b429-4850-ab9d-6c5d0d0efed6",
   "metadata": {},
   "outputs": [
    {
     "name": "stdin",
     "output_type": "stream",
     "text": [
      "enter your name karthik\n",
      "enter your age 21\n"
     ]
    },
    {
     "name": "stdout",
     "output_type": "stream",
     "text": [
      "name:karthik  age:21\n"
     ]
    }
   ],
   "source": [
    "name=input(\"enter your name\")\n",
    "age= input(\"enter your age\")\n",
    "print(\"name:{}  age:{}\".format(name,age))"
   ]
  },
  {
   "cell_type": "code",
   "execution_count": 48,
   "id": "019aca01-8719-4b63-9a88-2b449d58811f",
   "metadata": {},
   "outputs": [
    {
     "data": {
      "text/plain": [
       "str"
      ]
     },
     "execution_count": 48,
     "metadata": {},
     "output_type": "execute_result"
    }
   ],
   "source": [
    "\n",
    "type(name)"
   ]
  },
  {
   "cell_type": "code",
   "execution_count": 66,
   "id": "f8aabc49-ebd3-4435-bb7c-9cf2e29d1b99",
   "metadata": {},
   "outputs": [
    {
     "name": "stdout",
     "output_type": "stream",
     "text": [
      "0\n"
     ]
    }
   ],
   "source": [
    "print(10 & (10 < 2) )"
   ]
  },
  {
   "cell_type": "code",
   "execution_count": 86,
   "id": "37153f96-9068-48db-bfcf-f01533622886",
   "metadata": {},
   "outputs": [
    {
     "name": "stdout",
     "output_type": "stream",
     "text": [
      "i love java\n"
     ]
    }
   ],
   "source": [
    "name = \"i love python\"\n",
    "print(name.replace(\"python\",\"java\"))"
   ]
  },
  {
   "cell_type": "code",
   "execution_count": 96,
   "id": "d9d7d231-2d2b-4297-9cbc-6a9f777642ad",
   "metadata": {},
   "outputs": [
    {
     "ename": "TypeError",
     "evalue": "find expected at least 1 argument, got 0",
     "output_type": "error",
     "traceback": [
      "\u001b[1;31m---------------------------------------------------------------------------\u001b[0m",
      "\u001b[1;31mTypeError\u001b[0m                                 Traceback (most recent call last)",
      "Cell \u001b[1;32mIn[96], line 2\u001b[0m\n\u001b[0;32m      1\u001b[0m name\u001b[38;5;241m=\u001b[39m \u001b[38;5;124m\"\u001b[39m\u001b[38;5;124mkarthikeyan is a good boy\u001b[39m\u001b[38;5;124m\"\u001b[39m\n\u001b[1;32m----> 2\u001b[0m \u001b[38;5;28mprint\u001b[39m(name\u001b[38;5;241m.\u001b[39mfind())\n",
      "\u001b[1;31mTypeError\u001b[0m: find expected at least 1 argument, got 0"
     ]
    }
   ],
   "source": [
    "name= \"karthikeyan is a good boy\"\n",
    "print(name.find())"
   ]
  },
  {
   "cell_type": "code",
   "execution_count": 103,
   "id": "6fb4efe1-6ac7-49ed-b9f2-3f3cc3f2c999",
   "metadata": {},
   "outputs": [
    {
     "name": "stdout",
     "output_type": "stream",
     "text": [
      "<re.Match object; span=(7, 8), match=' '>\n"
     ]
    }
   ],
   "source": [
    "import re\n",
    "\n",
    "hii=\"karthik \"\n",
    "\n",
    "print(re.search(\" \",hii))"
   ]
  },
  {
   "cell_type": "code",
   "execution_count": 6,
   "id": "ab90bed8-4418-4c44-9fb8-af187d675f89",
   "metadata": {},
   "outputs": [
    {
     "name": "stdout",
     "output_type": "stream",
     "text": [
      "['python', 'python']\n"
     ]
    }
   ],
   "source": [
    "import re\n",
    "var= \"i love python.python is good\"\n",
    "words= re.findall('python',var)\n",
    "print(words)"
   ]
  },
  {
   "cell_type": "code",
   "execution_count": 28,
   "id": "f20ff947-701c-4993-b869-a497a7bc6168",
   "metadata": {},
   "outputs": [
    {
     "name": "stdin",
     "output_type": "stream",
     "text": [
      "enter the name: iuwbw\n",
      "enter the petname: bjkww'\n",
      "enter the city name: wub\n"
     ]
    },
    {
     "name": "stdout",
     "output_type": "stream",
     "text": [
      "Iuw'b\n"
     ]
    }
   ],
   "source": [
    "name=input(\"enter the name:\")\n",
    "pet=input(\"enter the petname:\")\n",
    "city=input(\"enter the city name:\")\n",
    "nick = name[0:3:1]\n",
    "nck= pet[len(pet)-1]\n",
    "nack= city[round((len(city)/2)) : :1]\n",
    "arr=nick + nck + nack\n",
    "print(arr.capitalize())"
   ]
  },
  {
   "cell_type": "code",
   "execution_count": 45,
   "id": "f4f05985-c9a2-4ca6-b8e2-0b86af67f98e",
   "metadata": {},
   "outputs": [
    {
     "name": "stdout",
     "output_type": "stream",
     "text": [
      "['i love python programming']\n"
     ]
    },
    {
     "data": {
      "text/plain": [
       "list"
      ]
     },
     "execution_count": 45,
     "metadata": {},
     "output_type": "execute_result"
    }
   ],
   "source": [
    "text=\"i love python programming\"\n",
    "words=text.split(\"  \")\n",
    "print(words)\n",
    "type(words)"
   ]
  },
  {
   "cell_type": "code",
   "execution_count": 57,
   "id": "20c3dda4-d927-4f8b-ad60-c596e4868545",
   "metadata": {},
   "outputs": [
    {
     "name": "stdout",
     "output_type": "stream",
     "text": [
      "i__,__a__m__,__a__,__p__r__o__g__r__a__m__m__e__r\n"
     ]
    }
   ],
   "source": [
    "text=\"i,am,a,programmer\"\n",
    "words=text.split(\",\")\n",
    "text_join= \"__\".join(text)\n",
    "print(text_join)"
   ]
  },
  {
   "cell_type": "code",
   "execution_count": 50,
   "id": "b96d03ae-c37b-414e-982b-a50bcd68eae0",
   "metadata": {},
   "outputs": [
    {
     "data": {
      "text/plain": [
       "str"
      ]
     },
     "execution_count": 50,
     "metadata": {},
     "output_type": "execute_result"
    }
   ],
   "source": [
    "type(text_join)"
   ]
  },
  {
   "cell_type": "code",
   "execution_count": 55,
   "id": "41b8ffdc-2eb6-400c-84cf-e9a55d6c5da1",
   "metadata": {},
   "outputs": [
    {
     "name": "stdout",
     "output_type": "stream",
     "text": [
      "karthik***\n"
     ]
    }
   ],
   "source": [
    "name=\"karthik\"\n",
    "print(name.ljust(10,\"*\"))"
   ]
  },
  {
   "cell_type": "code",
   "execution_count": 56,
   "id": "9ff0c3db-371c-4301-8e6c-c164b04ce8ad",
   "metadata": {},
   "outputs": [
    {
     "name": "stdout",
     "output_type": "stream",
     "text": [
      "***karthik\n"
     ]
    }
   ],
   "source": [
    "name=\"karthik\"\n",
    "print(name.rjust(10,\"*\"))"
   ]
  },
  {
   "cell_type": "code",
   "execution_count": 96,
   "id": "bad9ffc5-d233-4982-b950-304295759cf8",
   "metadata": {},
   "outputs": [
    {
     "name": "stdout",
     "output_type": "stream",
     "text": [
      "<<<<<<<karthik    harikrishnan......\n"
     ]
    }
   ],
   "source": [
    "name=\"<<<<<<<karthik    harikrishnan......\"\n",
    "print(name.strip())"
   ]
  },
  {
   "cell_type": "markdown",
   "id": "30134881-e2d5-468d-afc2-9a7da3562b17",
   "metadata": {},
   "source": [
    "###### print(round(3.7864829,-2))"
   ]
  },
  {
   "cell_type": "code",
   "execution_count": 87,
   "id": "aba38878-d284-491c-8622-169343c6b1b6",
   "metadata": {},
   "outputs": [
    {
     "name": "stdout",
     "output_type": "stream",
     "text": [
      "['i', 'love\\nprogram']\n"
     ]
    }
   ],
   "source": [
    "sen=\"i\\nlove\\nprogram\"\n",
    "print(sen.split(\"\\n\",1))"
   ]
  },
  {
   "cell_type": "code",
   "execution_count": 94,
   "id": "e37d0b95-ff08-41df-80d7-8b95bf72a38b",
   "metadata": {},
   "outputs": [
    {
     "name": "stdout",
     "output_type": "stream",
     "text": [
      "['blue', 'ball']\n"
     ]
    }
   ],
   "source": [
    "text=\"blue,pen,ball\"\n",
    "print(re.findall(\"blue|ball\",text))"
   ]
  },
  {
   "cell_type": "code",
   "execution_count": 98,
   "id": "23542f08-c90c-4cb6-a443-548e01fec98f",
   "metadata": {},
   "outputs": [
    {
     "name": "stdout",
     "output_type": "stream",
     "text": [
      "['', 'am']\n"
     ]
    }
   ],
   "source": [
    "print(\"ram\".split(\"r\"))"
   ]
  },
  {
   "cell_type": "code",
   "execution_count": 103,
   "id": "5c2d0db2-67d4-4aa9-b4ce-2ad05f2f7b3a",
   "metadata": {},
   "outputs": [
    {
     "name": "stdout",
     "output_type": "stream",
     "text": [
      "3.13\n"
     ]
    }
   ],
   "source": [
    "pi=3.13453\n",
    "print(f\"{pi:.2f}\")"
   ]
  },
  {
   "cell_type": "code",
   "execution_count": null,
   "id": "7d544d3d-862b-43f9-83f9-1a6250e18880",
   "metadata": {},
   "outputs": [],
   "source": []
  }
 ],
 "metadata": {
  "kernelspec": {
   "display_name": "Python 3 (ipykernel)",
   "language": "python",
   "name": "python3"
  },
  "language_info": {
   "codemirror_mode": {
    "name": "ipython",
    "version": 3
   },
   "file_extension": ".py",
   "mimetype": "text/x-python",
   "name": "python",
   "nbconvert_exporter": "python",
   "pygments_lexer": "ipython3",
   "version": "3.13.5"
  }
 },
 "nbformat": 4,
 "nbformat_minor": 5
}
