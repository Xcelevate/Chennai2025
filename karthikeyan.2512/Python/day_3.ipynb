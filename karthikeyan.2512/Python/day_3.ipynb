{
 "cells": [
  {
   "cell_type": "code",
   "execution_count": 1,
   "id": "5efc843c-e536-4f95-a3d5-de8d4ecdc515",
   "metadata": {},
   "outputs": [],
   "source": [
    "## loops and list\n"
   ]
  },
  {
   "cell_type": "code",
   "execution_count": 9,
   "id": "860be2b8-2e1e-4a70-9c9a-101665a853d2",
   "metadata": {},
   "outputs": [
    {
     "name": "stdout",
     "output_type": "stream",
     "text": [
      "array('i', [1, 2, 3, 4, 600])\n"
     ]
    }
   ],
   "source": [
    "import array as arr\n",
    "my_arr = arr.array('i',[1,2,3,4,600])\n",
    "print (my_arr)"
   ]
  },
  {
   "cell_type": "code",
   "execution_count": 7,
   "id": "fc382c74-b5ea-48ed-873a-e6988e21ba59",
   "metadata": {},
   "outputs": [
    {
     "name": "stdout",
     "output_type": "stream",
     "text": [
      "1\n"
     ]
    }
   ],
   "source": [
    "print(my_arr[])"
   ]
  },
  {
   "cell_type": "code",
   "execution_count": 11,
   "id": "38b8d0e9-83e8-49d9-981e-e9f9aa6b8cd1",
   "metadata": {},
   "outputs": [
    {
     "name": "stdout",
     "output_type": "stream",
     "text": [
      "array('i', [1, 2, 3, 4, 5, 6])\n"
     ]
    }
   ],
   "source": [
    "my_arr.append(7)\n",
    "print(my_arr)"
   ]
  },
  {
   "cell_type": "code",
   "execution_count": 52,
   "id": "8a920dc5-e5d8-4262-baca-a0b0204284cd",
   "metadata": {},
   "outputs": [
    {
     "name": "stdout",
     "output_type": "stream",
     "text": [
      "array('b', [127])\n"
     ]
    }
   ],
   "source": [
    "import array as arr\n",
    "my_arr = arr.array('b',[127])\n",
    "print (my_arr)"
   ]
  },
  {
   "cell_type": "code",
   "execution_count": 54,
   "id": "1b007102-9fa1-4a7a-a95b-29e923be0100",
   "metadata": {},
   "outputs": [
    {
     "name": "stdout",
     "output_type": "stream",
     "text": [
      "[1 2 3 4 5]\n"
     ]
    }
   ],
   "source": [
    "import numpy as np\n",
    "my_num = np.array([1,2,3,4,5])\n",
    "print(my_num)"
   ]
  },
  {
   "cell_type": "code",
   "execution_count": 55,
   "id": "eccffae1-023f-4e47-ba02-9b5f03d3aad4",
   "metadata": {},
   "outputs": [
    {
     "name": "stdout",
     "output_type": "stream",
     "text": [
      "[ 2  4  6  8 10]\n"
     ]
    }
   ],
   "source": [
    "print(my_num * 2)"
   ]
  },
  {
   "cell_type": "code",
   "execution_count": 58,
   "id": "18ef71f8-64bb-483e-9b5a-ea29c281a0dd",
   "metadata": {},
   "outputs": [
    {
     "name": "stdout",
     "output_type": "stream",
     "text": [
      "[[1 2]\n",
      " [3 4]]\n"
     ]
    }
   ],
   "source": [
    "my_2d = np.array([[1,2],[3,4]])\n",
    "print(my_2d)"
   ]
  },
  {
   "cell_type": "code",
   "execution_count": 68,
   "id": "8e7dd11f-6367-4dd1-8cad-29a836e870e8",
   "metadata": {},
   "outputs": [
    {
     "name": "stdout",
     "output_type": "stream",
     "text": [
      "ganeshan\n"
     ]
    }
   ],
   "source": [
    "import random\n",
    "list = [\"karthik\",\"hari\",\"durga\",\"chandra\",\"ganeshan\"]\n",
    "print(random.choice(list))"
   ]
  },
  {
   "cell_type": "code",
   "execution_count": 72,
   "id": "b4eaf139-9bce-4ac9-804a-90844e0b8ef7",
   "metadata": {},
   "outputs": [
    {
     "name": "stdout",
     "output_type": "stream",
     "text": [
      "3\n"
     ]
    }
   ],
   "source": [
    "print(random.choice(my_arr))"
   ]
  },
  {
   "cell_type": "code",
   "execution_count": 4,
   "id": "d5f8843f-4e07-4aaa-b9f9-f36f1590ab47",
   "metadata": {},
   "outputs": [
    {
     "name": "stdout",
     "output_type": "stream",
     "text": [
      "56789\n"
     ]
    }
   ],
   "source": [
    "import sample as sam\n",
    "import random\n",
    "print(random.choice(sam.list_name))"
   ]
  },
  {
   "cell_type": "code",
   "execution_count": 3,
   "id": "0d94817e-b9ce-4ec2-8016-ababf35d3b5e",
   "metadata": {},
   "outputs": [
    {
     "name": "stdout",
     "output_type": "stream",
     "text": [
      "c657\n",
      "friends\n"
     ]
    }
   ],
   "source": [
    "from example import sample,test\n",
    "import random\n",
    "print(random.choice(sample.list_name))\n",
    "print(random.choice(test.my_var))"
   ]
  },
  {
   "cell_type": "code",
   "execution_count": 24,
   "id": "2e61c504-46b6-42ff-b910-5edacc36cd14",
   "metadata": {},
   "outputs": [
    {
     "name": "stdout",
     "output_type": "stream",
     "text": [
      "eve\n"
     ]
    }
   ],
   "source": [
    "import random\n",
    "my_check = [\"alice\",\"rob\",\"charlie\",\"david\",\"eve\"] \n",
    "ran_inx = random.randint(0,4)\n",
    "print(my_check[ran_inx])"
   ]
  },
  {
   "cell_type": "code",
   "execution_count": 26,
   "id": "6fbda778-fda5-45c9-bc46-7839c77268f9",
   "metadata": {},
   "outputs": [
    {
     "data": {
      "text/plain": [
       "list"
      ]
     },
     "execution_count": 26,
     "metadata": {},
     "output_type": "execute_result"
    }
   ],
   "source": [
    "fruits = [\"strawberries\",\"nectraines\"\"apples\",\"grapes\",\"peaches\",\"cherries\"]\n",
    "veggies = [\"spinach\",\"kale\",\"tomatoes\",\"celery\",\"potatoes\"]\n",
    "dirty_dozen = [fruits,veggies]\n",
    "type(dirty_dozen)"
   ]
  },
  {
   "cell_type": "code",
   "execution_count": 35,
   "id": "a44ea28b-9948-49d9-ae1f-a40bb993d186",
   "metadata": {},
   "outputs": [
    {
     "name": "stdout",
     "output_type": "stream",
     "text": [
      "[['strawberries', 'nectraines', 'apples', 'grapes', 'peaches', 'cherries'], ['spinach', 'kale', 'tomatoes', 'celery', 'potatoes']]\n"
     ]
    }
   ],
   "source": [
    "print(dirty_dozen)"
   ]
  },
  {
   "cell_type": "code",
   "execution_count": 36,
   "id": "fd03a209-4ae3-4d26-8465-c12e93cdba0b",
   "metadata": {},
   "outputs": [
    {
     "name": "stdout",
     "output_type": "stream",
     "text": [
      "tomatoes\n"
     ]
    }
   ],
   "source": [
    "print(dirty_dozen[1][2])"
   ]
  },
  {
   "cell_type": "code",
   "execution_count": 38,
   "id": "4e3e7200-6d81-4fc8-b4f0-97d2c24e833c",
   "metadata": {},
   "outputs": [
    {
     "name": "stdout",
     "output_type": "stream",
     "text": [
      "Random item: date\n"
     ]
    }
   ],
   "source": [
    "my_list = ['apple','banana','cherry','date','elderberry']\n",
    "rand_item = random.choice(my_list)\n",
    "\n",
    "print(f\"Random item: {rand_item}\")"
   ]
  },
  {
   "cell_type": "code",
   "execution_count": 50,
   "id": "36a79bcd-b989-4fc3-b3b9-c67d6a7a721e",
   "metadata": {},
   "outputs": [
    {
     "name": "stdin",
     "output_type": "stream",
     "text": [
      " 0\n",
      " 2\n"
     ]
    },
    {
     "name": "stdout",
     "output_type": "stream",
     "text": [
      "grapes\n"
     ]
    }
   ],
   "source": [
    "fruits = [\"strawberries\",\"apples\",\"grapes\",\"peaches\",\"cherries\"]\n",
    "veggies = [\"spinach\",\"kale\",\"tomatoes\",\"celery\",\"potatoes\",\"DrumSticks\"]\n",
    "dirty_dozen = [fruits,veggies]\n",
    "index_1 = int(input())\n",
    "index_2 = int(input())\n",
    "if(0 <= index_1 < len(dirty_dozen)):\n",
    "    if(0<= index_2 < len(veggies) and index_1 == 1):\n",
    "        print(dirty_dozen[index_1][index_2])\n",
    "    elif(0<= index_2 < len(fruits) and index_1 == 0):\n",
    "        print(dirty_dozen[index_1][index_2])\n",
    "    else:\n",
    "        print(\"Invalid Values\")\n",
    "else:\n",
    "    \n",
    "    print(\"enter the valid index\")\n"
   ]
  },
  {
   "cell_type": "code",
   "execution_count": 54,
   "id": "41be07e2-52ad-4c47-aa18-d6973c09880f",
   "metadata": {},
   "outputs": [
    {
     "name": "stdout",
     "output_type": "stream",
     "text": [
      "strawberries\n",
      "strawberriespie\n",
      "apples\n",
      "applespie\n",
      "grapes\n",
      "grapespie\n",
      "peaches\n",
      "peachespie\n",
      "cherries\n",
      "cherriespie\n"
     ]
    }
   ],
   "source": [
    "for fruit in fruits:\n",
    "    print(fruit)\n",
    "    print(f\"{fruit}\" \"pie\")"
   ]
  },
  {
   "cell_type": "code",
   "execution_count": 5,
   "id": "2d020ac6-d6bd-45c3-b0cc-d7882a21ad04",
   "metadata": {},
   "outputs": [
    {
     "name": "stdin",
     "output_type": "stream",
     "text": [
      " 1\n",
      " 0\n"
     ]
    },
    {
     "ename": "NameError",
     "evalue": "name 'dirty_dozen' is not defined",
     "output_type": "error",
     "traceback": [
      "\u001b[1;31m---------------------------------------------------------------------------\u001b[0m",
      "\u001b[1;31mNameError\u001b[0m                                 Traceback (most recent call last)",
      "Cell \u001b[1;32mIn[5], line 3\u001b[0m\n\u001b[0;32m      1\u001b[0m index_1 \u001b[38;5;241m=\u001b[39m \u001b[38;5;28mint\u001b[39m(\u001b[38;5;28minput\u001b[39m())\n\u001b[0;32m      2\u001b[0m index_2 \u001b[38;5;241m=\u001b[39m \u001b[38;5;28mint\u001b[39m(\u001b[38;5;28minput\u001b[39m())\n\u001b[1;32m----> 3\u001b[0m \u001b[38;5;28;01mfor\u001b[39;00m index_1 \u001b[38;5;129;01min\u001b[39;00m (\u001b[38;5;241m0\u001b[39m,\u001b[38;5;28mlen\u001b[39m(dirty_dozen)):\n\u001b[0;32m      4\u001b[0m     \u001b[38;5;28;01mif\u001b[39;00m(\u001b[38;5;241m0\u001b[39m\u001b[38;5;241m<\u001b[39m\u001b[38;5;241m=\u001b[39m index_2 \u001b[38;5;241m<\u001b[39m\u001b[38;5;28mlen\u001b[39m(fruits)):\n\u001b[0;32m      5\u001b[0m         \u001b[38;5;28mprint\u001b[39m(dirty_dozen[index_1][index_2])\n",
      "\u001b[1;31mNameError\u001b[0m: name 'dirty_dozen' is not defined"
     ]
    }
   ],
   "source": [
    "index_1 = int(input())\n",
    "index_2 = int(input())\n",
    "for index_1 in (0,len(dirty_dozen)):\n",
    "    if(0<= index_2 <len(fruits)):\n",
    "        print(dirty_dozen[index_1][index_2])\n",
    "    else:\n",
    "        print(\"out of bountry\")\n",
    "else:\n",
    "    print(\"out of bountry\")"
   ]
  },
  {
   "cell_type": "code",
   "execution_count": 60,
   "id": "75ca1f36-023e-40ae-810a-9a11642fdbac",
   "metadata": {},
   "outputs": [
    {
     "name": "stdin",
     "output_type": "stream",
     "text": [
      "how many numbers do you want to sum: fefs\n"
     ]
    },
    {
     "name": "stdout",
     "output_type": "stream",
     "text": [
      "enter number only\n",
      "hiii\n"
     ]
    }
   ],
   "source": [
    "count =input(\"how many numbers do you want to sum:\")\n",
    "sum =0\n",
    "marks= []\n",
    "v=0\n",
    "if(count.isdigit()):\n",
    "    count = int(count)\n",
    "    for i in range(0,count):\n",
    "        val = input(\"enter the number\")\n",
    "        if(val.isdigit()):\n",
    "            val = int(val)\n",
    "            marks.append(val)\n",
    "            v +=1\n",
    "        else:\n",
    "            print(\"enter number only\")\n",
    "            break \n",
    "else:\n",
    "    print(\"enter number only\")\n",
    "    print(\"hiii\")\n",
    "\n",
    "\n",
    "if(v==count):\n",
    "    print(\"your sum is \",sumMarks(marks))\n",
    "    \n",
    "def sumMarks(x):\n",
    "    sum =0\n",
    "    for i in x:\n",
    "        sum +=i\n",
    "\n",
    "    return(sum)\n",
    "\n",
    "\n",
    "    \n",
    "\n",
    " "
   ]
  },
  {
   "cell_type": "code",
   "execution_count": 61,
   "id": "b7987499-0043-4465-bf7b-a972408dbee9",
   "metadata": {},
   "outputs": [
    {
     "name": "stdout",
     "output_type": "stream",
     "text": [
      "1\n",
      "2\n",
      "fizz\n",
      "4\n",
      "buzz\n",
      "fizz\n",
      "7\n",
      "8\n",
      "fizz\n",
      "buzz\n",
      "11\n",
      "fizz\n",
      "13\n",
      "14\n",
      "fizzbuzz\n",
      "16\n",
      "17\n",
      "fizz\n",
      "19\n",
      "buzz\n"
     ]
    }
   ],
   "source": [
    "for i in range(1,21):\n",
    "    if(i%3==0 and i%5==0):\n",
    "        print(\"fizzbuzz\")\n",
    "    elif(i%3==0):\n",
    "        print(\"fizz\")\n",
    "    elif(i%5==0):\n",
    "        print(\"buzz\") \n",
    "    else:\n",
    "        print(i)"
   ]
  },
  {
   "cell_type": "code",
   "execution_count": null,
   "id": "c5d92566-b1d5-49fb-a7b3-5b6ed95a7788",
   "metadata": {},
   "outputs": [],
   "source": []
  },
  {
   "cell_type": "code",
   "execution_count": 43,
   "id": "38d03bce-665a-4eae-830b-60417c69f344",
   "metadata": {},
   "outputs": [
    {
     "name": "stdin",
     "output_type": "stream",
     "text": [
      "enter your weight: 10\n",
      "enter your height: 1\n"
     ]
    },
    {
     "ename": "TypeError",
     "evalue": "unsupported operand type(s) for ** or pow(): 'str' and 'int'",
     "output_type": "error",
     "traceback": [
      "\u001b[1;31m---------------------------------------------------------------------------\u001b[0m",
      "\u001b[1;31mTypeError\u001b[0m                                 Traceback (most recent call last)",
      "Cell \u001b[1;32mIn[43], line 4\u001b[0m\n\u001b[0;32m      2\u001b[0m height\u001b[38;5;241m=\u001b[39m \u001b[38;5;28minput\u001b[39m(\u001b[38;5;124m\"\u001b[39m\u001b[38;5;124menter your height:\u001b[39m\u001b[38;5;124m\"\u001b[39m)\n\u001b[0;32m      3\u001b[0m \u001b[38;5;28;01mif\u001b[39;00m((weight\u001b[38;5;241m.\u001b[39mreplace(\u001b[38;5;124m'\u001b[39m\u001b[38;5;124m.\u001b[39m\u001b[38;5;124m'\u001b[39m,\u001b[38;5;124m\"\u001b[39m\u001b[38;5;124m\"\u001b[39m)\u001b[38;5;241m.\u001b[39misdigit()) \u001b[38;5;129;01mand\u001b[39;00m (height\u001b[38;5;241m.\u001b[39mreplace(\u001b[38;5;124m'\u001b[39m\u001b[38;5;124m.\u001b[39m\u001b[38;5;124m'\u001b[39m,\u001b[38;5;124m\"\u001b[39m\u001b[38;5;124m\"\u001b[39m)\u001b[38;5;241m.\u001b[39misdigit())):\n\u001b[1;32m----> 4\u001b[0m     bmi \u001b[38;5;241m=\u001b[39m weight \u001b[38;5;241m/\u001b[39m (height \u001b[38;5;241m*\u001b[39m\u001b[38;5;241m*\u001b[39m \u001b[38;5;241m2\u001b[39m)\n\u001b[0;32m      6\u001b[0m     \u001b[38;5;28;01mif\u001b[39;00m(bmi\u001b[38;5;241m>\u001b[39m\u001b[38;5;241m=\u001b[39m\u001b[38;5;241m30\u001b[39m):\n\u001b[0;32m      7\u001b[0m         \u001b[38;5;28mprint\u001b[39m(bmi)\n",
      "\u001b[1;31mTypeError\u001b[0m: unsupported operand type(s) for ** or pow(): 'str' and 'int'"
     ]
    }
   ],
   "source": [
    "weight= input(\"enter your weight:\")\n",
    "height= input(\"enter your height:\")\n",
    "if((weight.replace('.',\"\").isdigit()) and (height.replace('.',\"\").isdigit())):\n",
    "    weight = float(weight)\n",
    "    height = float(height)\n",
    "    bmi = weight / (height ** 2)\n",
    "\n",
    "    if(bmi>=30):\n",
    "        print(bmi)\n",
    "        print(\"obese\")\n",
    "    elif(25 <= bmi <30):\n",
    "        print(bmi)\n",
    "        print(\"overweight\")\n",
    "    elif(18.5 <= bmi < 25):\n",
    "        print(bmi)\n",
    "        print(\"normal\")\n",
    "    else:\n",
    "        print(bmi)\n",
    "        print(\"underweight\")\n",
    "else:\n",
    "    print(\"enter number only\")"
   ]
  },
  {
   "cell_type": "code",
   "execution_count": 44,
   "id": "7f89c6c2-741a-4841-89f8-a6e22acf273f",
   "metadata": {},
   "outputs": [
    {
     "name": "stdin",
     "output_type": "stream",
     "text": [
      "enter the first string 12bi\n",
      "enter the second string bi21\n"
     ]
    },
    {
     "name": "stdout",
     "output_type": "stream",
     "text": [
      "two string length should be same\n"
     ]
    }
   ],
   "source": [
    "string1=input(\"enter the first string\").strip()\n",
    "string2=input(\"enter the second string\").strip()\n",
    "count=0\n",
    "if(len(string1) == len(string2) and string1.isalpha() and string2.isalpha()):\n",
    "    for i in range (0,len(string1)):\n",
    "        a=string1[i]\n",
    "        for j in range(0,len(string2)):\n",
    "            b = string2[j]\n",
    "            if(a == b):\n",
    "                count +=1\n",
    "                string3=string2.replace(string2[j],\" \")\n",
    "                \n",
    "            j +=1\n",
    "        string2=string3\n",
    "        i +=1\n",
    "\n",
    "    if(count == len(string1)):\n",
    "        print(\"anagram\")\n",
    "    else:\n",
    "        print(\"not an anagram\")\n",
    "else:\n",
    "    print(\"two string length should be same\")\n",
    "            "
   ]
  },
  {
   "cell_type": "code",
   "execution_count": 38,
   "id": "cced36fb-72a2-4bec-b294-e70405a5ead3",
   "metadata": {},
   "outputs": [
    {
     "name": "stdin",
     "output_type": "stream",
     "text": [
      "enter your password:  rfgb\n"
     ]
    },
    {
     "name": "stdout",
     "output_type": "stream",
     "text": [
      "password length should be more then 8 character\n"
     ]
    }
   ],
   "source": [
    "pwd = input(\"enter your password: \").strip()\n",
    "list_chr = ['!', '@', '#', '$', '%', '^', '&', '*', '(', ')','-', '_', '+', '=', ':', ';' ]\n",
    "def spl_ch(x):\n",
    "    count =0 \n",
    "    for i in range(0,len(x)):\n",
    "        y=x[i]\n",
    "        if(y in list_chr):\n",
    "            count +=1;\n",
    "        \n",
    "    return count\n",
    "\n",
    "def num(x):\n",
    "    count = 0\n",
    "    for i in range(0,len(x)):\n",
    "        y= x[i]\n",
    "        if(y.isdigit()):\n",
    "            if(y.isdigit()):\n",
    "                count+=1\n",
    "    \n",
    "    return count\n",
    "\n",
    "\n",
    "def low(x):\n",
    "    count =0 \n",
    "    for i in range(0,len(x)):\n",
    "        y=x[i]\n",
    "        z=y\n",
    "        if(x.isalpha()):\n",
    "            if(z == y.lower()):\n",
    "                count +=1\n",
    "    return count\n",
    "\n",
    "def high(x):\n",
    "    count =0 \n",
    "    for i in range(0,len(x)):\n",
    "        y=x[i]\n",
    "        z=y\n",
    "        if(x.isalpha()):\n",
    "            if(z == y.upper()):\n",
    "                count +=1\n",
    "\n",
    "    return count\n",
    "\n",
    "\n",
    "\n",
    "if(len(pwd)>=8):\n",
    "    if(spl_ch(pwd) >= 2):\n",
    "        if((num(pwd) >= 1)):\n",
    "            if((low(pwd) >=1) and (high(pwd) >= 1)):\n",
    "                if(2 < spl_ch(pwd) <=4):\n",
    "                    print(\"strong password\")\n",
    "                elif(spl_ch(pwd) > 4):\n",
    "                    print(\"very strong password\")\n",
    "                else:\n",
    "                    print(\"valid password\")\n",
    "            else:\n",
    "                print(\"it should be one lower and upper case\")\n",
    "        else:\n",
    "                print(\"invalid password\")\n",
    "    else:\n",
    "        print(\"special character atleast two \")\n",
    "else:\n",
    "    print(\"password length should be more then 8 character\")\n",
    "    "
   ]
  },
  {
   "cell_type": "code",
   "execution_count": 73,
   "id": "98c993de-8cdf-4368-82c0-40fe2cb812c5",
   "metadata": {
    "collapsed": true,
    "jupyter": {
     "outputs_hidden": true
    }
   },
   "outputs": [
    {
     "name": "stdout",
     "output_type": "stream",
     "text": [
      "k\n",
      "a\n",
      "r\n",
      "t\n",
      "h\n",
      "i\n",
      "k\n",
      "['k', 'a', 'r', 't', 'h', 'i', 'k']\n",
      "['a', 'h', 'i', 'k', 'k', 'r', 't']\n"
     ]
    }
   ],
   "source": [
    "str=\"karthik\"\n",
    "char_list = []\n",
    "for c in str:\n",
    "    char_list.append(c)\n",
    "    print(c)\n",
    "    \n",
    "list1=char_list\n",
    "print(list1)\n",
    "char_list.sort()\n",
    "print(char_list)"
   ]
  },
  {
   "cell_type": "code",
   "execution_count": 74,
   "id": "f12d7dc6-4d5e-438d-b9f9-3fbfa2fbeca0",
   "metadata": {},
   "outputs": [
    {
     "name": "stdout",
     "output_type": "stream",
     "text": [
      "['a', 'c', 'e', 'e', 'e', 'l', 't', 'v', 'x']\n"
     ]
    }
   ],
   "source": [
    "var=\"xcelevate\"\n",
    "sort_var=sorted(var)\n",
    "print(sort_var)"
   ]
  },
  {
   "cell_type": "code",
   "execution_count": null,
   "id": "28024b94-9005-4a04-9a2a-37900c0baa73",
   "metadata": {},
   "outputs": [],
   "source": []
  }
 ],
 "metadata": {
  "kernelspec": {
   "display_name": "Python 3 (ipykernel)",
   "language": "python",
   "name": "python3"
  },
  "language_info": {
   "codemirror_mode": {
    "name": "ipython",
    "version": 3
   },
   "file_extension": ".py",
   "mimetype": "text/x-python",
   "name": "python",
   "nbconvert_exporter": "python",
   "pygments_lexer": "ipython3",
   "version": "3.13.5"
  }
 },
 "nbformat": 4,
 "nbformat_minor": 5
}
