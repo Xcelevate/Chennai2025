{
 "cells": [
  {
   "cell_type": "code",
   "execution_count": null,
   "id": "57219b18-7c3d-41cf-bdbc-1c5dce6369b3",
   "metadata": {},
   "outputs": [],
   "source": [
    "## hurdle 2\n",
    "\n",
    "def right():\n",
    "    for j in range(3):\n",
    "        turn_left()\n",
    "\n",
    "for i in range(6):\n",
    "    move() or turn_left() or move()\n",
    "    right()or move() or right() or move()\n",
    "    turn_left()\n",
    "    if at_goal():\n",
    "        break\n",
    "at_goal()"
   ]
  },
  {
   "cell_type": "code",
   "execution_count": 1,
   "id": "4241cc35-4174-4998-a072-0574d7e7b9a0",
   "metadata": {
    "collapsed": true,
    "jupyter": {
     "outputs_hidden": true
    }
   },
   "outputs": [
    {
     "ename": "NameError",
     "evalue": "name 'move' is not defined",
     "output_type": "error",
     "traceback": [
      "\u001b[1;31m---------------------------------------------------------------------------\u001b[0m",
      "\u001b[1;31mNameError\u001b[0m                                 Traceback (most recent call last)",
      "Cell \u001b[1;32mIn[1], line 8\u001b[0m\n\u001b[0;32m      5\u001b[0m         turn_left()\n\u001b[0;32m      7\u001b[0m \u001b[38;5;28;01mfor\u001b[39;00m i \u001b[38;5;129;01min\u001b[39;00m \u001b[38;5;28mrange\u001b[39m(\u001b[38;5;241m6\u001b[39m):\n\u001b[1;32m----> 8\u001b[0m     move() \u001b[38;5;129;01mor\u001b[39;00m turn_left() \u001b[38;5;129;01mor\u001b[39;00m move()\n\u001b[0;32m      9\u001b[0m     right()\u001b[38;5;129;01mor\u001b[39;00m move() \u001b[38;5;129;01mor\u001b[39;00m right() \u001b[38;5;129;01mor\u001b[39;00m move()\n\u001b[0;32m     10\u001b[0m     turn_left()\n",
      "\u001b[1;31mNameError\u001b[0m: name 'move' is not defined"
     ]
    }
   ],
   "source": [
    "## hurdle 1\n",
    "\n",
    "def right():\n",
    "    for j in range(3):\n",
    "        turn_left()\n",
    "\n",
    "for i in range(6):\n",
    "    move() or turn_left() or move()\n",
    "    right()or move() or right() or move()\n",
    "    turn_left()\n",
    "at_goal()"
   ]
  },
  {
   "cell_type": "code",
   "execution_count": null,
   "id": "3866be61-7650-44b5-b2c7-f67a1694f255",
   "metadata": {},
   "outputs": [],
   "source": [
    "##hurdle 3\n",
    "\n",
    "def right():\n",
    "    for j in range(3):\n",
    "        turn_left()\n",
    "        \n",
    "while not(at_goal()):\n",
    "    if right_is_clear():\n",
    "        right() or move()\n",
    "    elif front_is_clear():\n",
    "        move()\n",
    "    elif wall_in_front():\n",
    "        turn_left()\n",
    "    elif at_goal():\n",
    "        break\n",
    "at_goal()\n"
   ]
  },
  {
   "cell_type": "code",
   "execution_count": null,
   "id": "4e0c4cf5-4dda-4cf9-970b-f8ef4e849e18",
   "metadata": {},
   "outputs": [],
   "source": [
    "##hurdle 4\n",
    "\n",
    "def right():\n",
    "    for j in range(3):\n",
    "        turn_left()\n",
    "        \n",
    "while not(at_goal()):\n",
    "    if right_is_clear():\n",
    "        right() or move()\n",
    "    elif front_is_clear():\n",
    "        move()\n",
    "    elif wall_in_front():\n",
    "        turn_left()\n",
    "at_goal()\n"
   ]
  },
  {
   "cell_type": "code",
   "execution_count": 2,
   "id": "d701bddb-1f07-4262-a0f4-92e246e7cc36",
   "metadata": {
    "collapsed": true,
    "jupyter": {
     "outputs_hidden": true
    }
   },
   "outputs": [
    {
     "ename": "NameError",
     "evalue": "name 'at_goal' is not defined",
     "output_type": "error",
     "traceback": [
      "\u001b[1;31m---------------------------------------------------------------------------\u001b[0m",
      "\u001b[1;31mNameError\u001b[0m                                 Traceback (most recent call last)",
      "Cell \u001b[1;32mIn[2], line 7\u001b[0m\n\u001b[0;32m      4\u001b[0m     \u001b[38;5;28;01mfor\u001b[39;00m j \u001b[38;5;129;01min\u001b[39;00m \u001b[38;5;28mrange\u001b[39m(\u001b[38;5;241m3\u001b[39m):\n\u001b[0;32m      5\u001b[0m         turn_left()\n\u001b[1;32m----> 7\u001b[0m \u001b[38;5;28;01mwhile\u001b[39;00m \u001b[38;5;129;01mnot\u001b[39;00m(at_goal()):\n\u001b[0;32m      8\u001b[0m         \u001b[38;5;28;01mif\u001b[39;00m right_is_clear():\n\u001b[0;32m      9\u001b[0m              right() \u001b[38;5;129;01mor\u001b[39;00m move()\n",
      "\u001b[1;31mNameError\u001b[0m: name 'at_goal' is not defined"
     ]
    }
   ],
   "source": [
    "##maze\n",
    "\n",
    "def right():\n",
    "    for j in range(3):\n",
    "        turn_left()\n",
    "        \n",
    "while not(at_goal()):\n",
    "        if right_is_clear():\n",
    "             right() or move()\n",
    "        elif front_is_clear():\n",
    "            move()\n",
    "        elif wall_in_front():\n",
    "                turn_left()\n",
    "at_goal()\n"
   ]
  },
  {
   "cell_type": "code",
   "execution_count": null,
   "id": "1e04b933-570c-4609-b30e-e7c5a05de7d7",
   "metadata": {},
   "outputs": [],
   "source": [
    "## calculator\n",
    "count=False\n",
    "coun=False\n",
    "inval=False\n",
    "list=['+','-','*','/','%']\n",
    "cont=\"continue\"\n",
    "while True:\n",
    "    num1=input(\"enter the first number:\").strip()\n",
    "    if(num1.replace(\".\",\"\").isdigit()):\n",
    "        num1 = float(num1)\n",
    "        while True:\n",
    "            if(cont.lower() == \"continue\"):\n",
    "                print(\"enter the operation symbols \\n +\\n -\\n *\\n /\\n %\")\n",
    "                oper = input().strip()\n",
    "                if(oper in list):\n",
    "                    num2= input(\"enter the number: \").strip()\n",
    "                    if(num2.replace('.',\"\").isdigit() ):\n",
    "                        num2=float(num2)\n",
    "                        if(oper == '+'):\n",
    "                            total = add(num1,num2)\n",
    "                            print(f\"{num1} + {num2} = {total}\")\n",
    "                        elif(oper == '-'):\n",
    "                            total = sub(num1,num2)\n",
    "                            print(f\"{num1} - {num2} = {total}\")\n",
    "                        elif(oper == '*'):\n",
    "                            total = mul(num1,num2)\n",
    "                            print(f\"{num1} * {num2} = {total}\")\n",
    "                        elif(oper == '/'):\n",
    "                            if (num2 != 0):\n",
    "                                total = div(num1,num2)\n",
    "                                print(f\"{num1} / {num2} = {total}\")\n",
    "                            else:\n",
    "                                print(\"0 not allowed for divisor\")\n",
    "                                inval = True\n",
    "                        else:\n",
    "                            total = mod(num1,num2)\n",
    "                            print(f\"{num1} % {num2} = {total}\")\n",
    "\n",
    "                        print(f\"if you want to continue with {total},type 'CONTINUE'\" )\n",
    "                        print(f\"if you want to start from new ,type 'start'\")\n",
    "                        print(f\"if you want to close the calculator,type 'stop'\")\n",
    "                        cont = input().strip()\n",
    "                        num1=total\n",
    "                    else:\n",
    "                        print(\"enter proper valid number\")\n",
    "                        inval = True\n",
    "                        break\n",
    "                else:\n",
    "                    print(\"invalid operator.give proper operator\")\n",
    "                    inval = True\n",
    "                    break\n",
    "            elif(cont.lower() == \"start\"):\n",
    "                cont = \"continue\"\n",
    "                break\n",
    "            elif(cont.lower() == \"stop\"):\n",
    "                count =True\n",
    "                break\n",
    "            else:\n",
    "                coun =True\n",
    "                break \n",
    "    else:\n",
    "        print(\"enter proper valid number\")\n",
    "        inval = True\n",
    "    if(count):\n",
    "        print(\"thank you for using this calculator.\")\n",
    "        break\n",
    "    elif(coun):\n",
    "        print(\"enter the valid types like continue , start , stop\")\n",
    "        break\n",
    "    elif(inval):\n",
    "        break"
   ]
  },
  {
   "cell_type": "code",
   "execution_count": 23,
   "id": "bda3c524-d5e3-4f33-9267-85d79059637d",
   "metadata": {},
   "outputs": [],
   "source": [
    "def add(x,y):\n",
    "    return x+y\n",
    "def sub(x,y):\n",
    "    return x-y\n",
    "def mul(x,y):\n",
    "    return x*y\n",
    "def div(x,y):\n",
    "    return x/y\n",
    "def mod(x,y):\n",
    "    return x%y"
   ]
  },
  {
   "cell_type": "code",
   "execution_count": null,
   "id": "30bb93ab-0b5a-4963-9b96-87ffcf26ccf9",
   "metadata": {},
   "outputs": [],
   "source": []
  }
 ],
 "metadata": {
  "kernelspec": {
   "display_name": "Python 3 (ipykernel)",
   "language": "python",
   "name": "python3"
  },
  "language_info": {
   "codemirror_mode": {
    "name": "ipython",
    "version": 3
   },
   "file_extension": ".py",
   "mimetype": "text/x-python",
   "name": "python",
   "nbconvert_exporter": "python",
   "pygments_lexer": "ipython3",
   "version": "3.13.5"
  }
 },
 "nbformat": 4,
 "nbformat_minor": 5
}
