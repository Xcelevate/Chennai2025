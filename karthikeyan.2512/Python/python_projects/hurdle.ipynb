{
 "cells": [
  {
   "cell_type": "code",
   "execution_count": null,
   "id": "57219b18-7c3d-41cf-bdbc-1c5dce6369b3",
   "metadata": {},
   "outputs": [],
   "source": [
    "## hurdle 2\n",
    "\n",
    "def right():\n",
    "    for j in range(3):\n",
    "        turn_left()\n",
    "\n",
    "for i in range(6):\n",
    "    move() or turn_left() or move()\n",
    "    right()or move() or right() or move()\n",
    "    turn_left()\n",
    "    if at_goal():\n",
    "        break\n",
    "at_goal()"
   ]
  },
  {
   "cell_type": "code",
   "execution_count": null,
   "id": "cc4a9115-548c-435b-a69e-d05dfaa55abe",
   "metadata": {},
   "outputs": [],
   "source": [
    "## hurdle 1\n",
    "\n",
    "def right():\n",
    "    for j in range(3):\n",
    "        turn_left()\n",
    "\n",
    "for i in range(6):\n",
    "    move() or turn_left() or move()\n",
    "    right()or move() or right() or move()\n",
    "    turn_left()\n",
    "at_goal()"
   ]
  },
  {
   "cell_type": "code",
   "execution_count": null,
   "id": "db5c1d29-d80f-474a-97c6-5b5be1304063",
   "metadata": {},
   "outputs": [],
   "source": [
    "##hurdle 3\n",
    "\n",
    "def right():\n",
    "    for j in range(3):\n",
    "        turn_left()\n",
    "        \n",
    "while not(at_goal()):\n",
    "    if right_is_clear():\n",
    "        right() or move()\n",
    "    elif front_is_clear():\n",
    "        move()\n",
    "    elif wall_in_front():\n",
    "        turn_left()\n",
    "    elif at_goal():\n",
    "        break\n",
    "at_goal()\n"
   ]
  },
  {
   "cell_type": "code",
   "execution_count": null,
   "id": "a32ca820-5faf-465e-ab30-b55253dd60e8",
   "metadata": {},
   "outputs": [],
   "source": [
    "#hurdle 4\n",
    "\n",
    "def right():\n",
    "    for j in range(3):\n",
    "        turn_left()\n",
    "        \n",
    "while not(at_goal()):\n",
    "    if right_is_clear():\n",
    "        right() or move()\n",
    "    elif front_is_clear():\n",
    "        move()\n",
    "    elif wall_in_front():\n",
    "        turn_left()\n",
    "    elif at_goal():\n",
    "        break\n",
    "at_goal()\n"
   ]
  },
  {
   "cell_type": "code",
   "execution_count": null,
   "id": "361a5c60-8fb1-4930-8ef6-bac680225d88",
   "metadata": {},
   "outputs": [],
   "source": [
    "## maze\n",
    "\n",
    "def right():\n",
    "    for j in range(3):\n",
    "        turn_left()\n",
    "        \n",
    "while not(at_goal()):\n",
    "        if right_is_clear():\n",
    "             right() or move()\n",
    "        elif front_is_clear():\n",
    "            move()\n",
    "        elif wall_in_front():\n",
    "                turn_left()\n",
    "at_goal()\n"
   ]
  }
 ],
 "metadata": {
  "kernelspec": {
   "display_name": "Python 3 (ipykernel)",
   "language": "python",
   "name": "python3"
  },
  "language_info": {
   "codemirror_mode": {
    "name": "ipython",
    "version": 3
   },
   "file_extension": ".py",
   "mimetype": "text/x-python",
   "name": "python",
   "nbconvert_exporter": "python",
   "pygments_lexer": "ipython3",
   "version": "3.13.5"
  }
 },
 "nbformat": 4,
 "nbformat_minor": 5
}
