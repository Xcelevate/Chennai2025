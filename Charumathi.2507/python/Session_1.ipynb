{
 "cells": [
  {
   "cell_type": "code",
   "execution_count": 1,
   "id": "b1e29483-6937-4f72-ab90-e8b8cdae471c",
   "metadata": {},
   "outputs": [
    {
     "name": "stdout",
     "output_type": "stream",
     "text": [
      "MomZPrincess\n"
     ]
    }
   ],
   "source": [
    "print(\"MomZPrincess\")"
   ]
  },
  {
   "cell_type": "code",
   "execution_count": 2,
   "id": "30e9f862-3888-4450-ad50-23603e893d7f",
   "metadata": {},
   "outputs": [
    {
     "ename": "SyntaxError",
     "evalue": "unterminated string literal (detected at line 1) (604518082.py, line 1)",
     "output_type": "error",
     "traceback": [
      "\u001b[1;36m  Cell \u001b[1;32mIn[2], line 1\u001b[1;36m\u001b[0m\n\u001b[1;33m    print(MomZPrincess\")\u001b[0m\n\u001b[1;37m                      ^\u001b[0m\n\u001b[1;31mSyntaxError\u001b[0m\u001b[1;31m:\u001b[0m unterminated string literal (detected at line 1)\n"
     ]
    }
   ],
   "source": [
    "print(MomZPrincess\")"
   ]
  },
  {
   "cell_type": "code",
   "execution_count": 3,
   "id": "215dcd88-164f-4fff-9b1f-5da99688dda9",
   "metadata": {},
   "outputs": [
    {
     "name": "stdout",
     "output_type": "stream",
     "text": [
      "Mix 500g of Flour, 10g Yeast and 300 ml Water in a bowl\n"
     ]
    }
   ],
   "source": [
    "print(\"Mix 500g of Flour, 10g Yeast and 300 ml Water in a bowl\")"
   ]
  },
  {
   "cell_type": "code",
   "execution_count": 4,
   "id": "8b3a2866-ae19-4657-9c5f-43737281cf69",
   "metadata": {},
   "outputs": [
    {
     "ename": "SyntaxError",
     "evalue": "unterminated string literal (detected at line 1) (2137446695.py, line 1)",
     "output_type": "error",
     "traceback": [
      "\u001b[1;36m  Cell \u001b[1;32mIn[4], line 1\u001b[1;36m\u001b[0m\n\u001b[1;33m    print(\"1.Mix 500g of Flour, 10g Yeast and 300 ml Water in a bowl\u001b[0m\n\u001b[1;37m          ^\u001b[0m\n\u001b[1;31mSyntaxError\u001b[0m\u001b[1;31m:\u001b[0m unterminated string literal (detected at line 1)\n"
     ]
    }
   ],
   "source": [
    "print(\"1.Mix 500g of Flour, 10g Yeast and 300 ml Water in a bowl\n",
    "        2. Knead the dough for 10 minutes\")"
   ]
  },
  {
   "cell_type": "code",
   "execution_count": 5,
   "id": "137956a6-cf48-4780-b607-e55f35a5e22a",
   "metadata": {},
   "outputs": [
    {
     "name": "stdout",
     "output_type": "stream",
     "text": [
      "Mix 500g of Flour, 10g Yeast and 300 ml Water in a bowl\n",
      "2. Knead the dough for 10 minutes \n"
     ]
    }
   ],
   "source": [
    "print(\"Mix 500g of Flour, 10g Yeast and 300 ml Water in a bowl\")\n",
    "print(\"2. Knead the dough for 10 minutes \")"
   ]
  },
  {
   "cell_type": "code",
   "execution_count": 28,
   "id": "f87b68ee-60ef-48da-8867-02c2ce29dfc4",
   "metadata": {},
   "outputs": [
    {
     "name": "stdout",
     "output_type": "stream",
     "text": [
      "1. Mix 500g of Flour, 10g Yeast and 300 ml Water in a bowl.\n",
      "2. Knead the dough for 10 minutes. \n",
      "3. Add 3g of Salt.\n",
      "4.Leave to rise for 2hours.\n",
      "5.Bake at 200 degrees C for 30 minutes.\n"
     ]
    }
   ],
   "source": [
    "print(\"1. Mix 500g of Flour, 10g Yeast and 300 ml Water in a bowl.\") # Excerecise 1\n",
    "print(\"2. Knead the dough for 10 minutes. \")\n",
    "print(\"3. Add 3g of Salt.\")\n",
    "print(\"4.Leave to rise for 2hours.\")\n",
    "print(\"5.Bake at 200 degrees C for 30 minutes.\")"
   ]
  },
  {
   "cell_type": "code",
   "execution_count": 7,
   "id": "b6464d1f-96bd-4f8a-a8dc-5ea0fc1b9ab1",
   "metadata": {},
   "outputs": [
    {
     "name": "stdout",
     "output_type": "stream",
     "text": [
      "Notes from Day 1\n",
      "The print statement is used ti iutput strings\n",
      "Strings are strings of characters\n",
      "String Concatenation is done with thesin\n",
      "New lines can be created with a /nand the letter n\n"
     ]
    }
   ],
   "source": [
    "print(\"Notes from Day 1\") #Double quotes not completed\n",
    "print(\"The print statement is used ti iutput strings\") #No error\n",
    "print(\"Strings are strings of characters\") # Paranthesis should be closed \n",
    "print(\"String Concatenation is done with the\" + \"sin\") # each string should be with in quotes in concatenation\n",
    "print(\"New lines can be created with a /nand the letter n\") #beside the / we should write n"
   ]
  },
  {
   "cell_type": "code",
   "execution_count": 8,
   "id": "a4328627-8001-4feb-9013-f3ca37bda711",
   "metadata": {},
   "outputs": [
    {
     "name": "stdout",
     "output_type": "stream",
     "text": [
      "Notes from Day 1\n",
      "The print statement is used to iutput strings\n",
      "Strings are strings of characters\n",
      "String Concatenation is done with the + sin\n",
      "New lines can be created with a / and the letter n\n"
     ]
    }
   ],
   "source": [
    "# Excerecise 2\n",
    "print(\"Notes from Day 1\") #Double quotes not completed\n",
    "print(\"The print statement is used to iutput strings\") #No error\n",
    "print(\"Strings are strings of characters\") # Paranthesis should be closed \n",
    "print(\"String Concatenation is done with the + sin\") # i\n",
    "print(\"New lines can be created with a / and the letter n\") #remove an paranthesis"
   ]
  },
  {
   "cell_type": "code",
   "execution_count": 10,
   "id": "0fc8ad24-d9ca-4b7e-91cd-709bd2cbb766",
   "metadata": {},
   "outputs": [
    {
     "name": "stdin",
     "output_type": "stream",
     "text": [
      "What is your name? charu\n"
     ]
    },
    {
     "data": {
      "text/plain": [
       "'charu'"
      ]
     },
     "execution_count": 10,
     "metadata": {},
     "output_type": "execute_result"
    }
   ],
   "source": [
    "input(\"What is your name?\")"
   ]
  },
  {
   "cell_type": "code",
   "execution_count": 11,
   "id": "43b9e37c-418d-4655-af18-234df1e58db2",
   "metadata": {},
   "outputs": [
    {
     "name": "stdout",
     "output_type": "stream",
     "text": [
      "Hello\n"
     ]
    },
    {
     "name": "stdin",
     "output_type": "stream",
     "text": [
      "What is your name? manju\n"
     ]
    },
    {
     "ename": "TypeError",
     "evalue": "unsupported operand type(s) for +: 'NoneType' and 'str'",
     "output_type": "error",
     "traceback": [
      "\u001b[1;31m---------------------------------------------------------------------------\u001b[0m",
      "\u001b[1;31mTypeError\u001b[0m                                 Traceback (most recent call last)",
      "Cell \u001b[1;32mIn[11], line 1\u001b[0m\n\u001b[1;32m----> 1\u001b[0m \u001b[38;5;28mprint\u001b[39m(\u001b[38;5;124m\"\u001b[39m\u001b[38;5;124mHello\u001b[39m\u001b[38;5;124m\"\u001b[39m) \u001b[38;5;241m+\u001b[39m \u001b[38;5;28minput\u001b[39m(\u001b[38;5;124m\"\u001b[39m\u001b[38;5;124mWhat is your name?\u001b[39m\u001b[38;5;124m\"\u001b[39m)\n",
      "\u001b[1;31mTypeError\u001b[0m: unsupported operand type(s) for +: 'NoneType' and 'str'"
     ]
    }
   ],
   "source": [
    "print(\"Hello\") + input(\"What is your name?\")"
   ]
  },
  {
   "cell_type": "code",
   "execution_count": 12,
   "id": "54d113bb-d55a-4f98-84bd-e75cab6762d1",
   "metadata": {},
   "outputs": [
    {
     "name": "stdin",
     "output_type": "stream",
     "text": [
      "what is your name? manju\n"
     ]
    }
   ],
   "source": [
    "name = input(\"what is your name?\")"
   ]
  },
  {
   "cell_type": "code",
   "execution_count": 14,
   "id": "bb474dab-c0d7-47b2-9802-2132d62d1792",
   "metadata": {},
   "outputs": [
    {
     "ename": "SyntaxError",
     "evalue": "invalid syntax (2157815334.py, line 3)",
     "output_type": "error",
     "traceback": [
      "\u001b[1;36m  Cell \u001b[1;32mIn[14], line 3\u001b[1;36m\u001b[0m\n\u001b[1;33m    print(name, /n name)\u001b[0m\n\u001b[1;37m                ^\u001b[0m\n\u001b[1;31mSyntaxError\u001b[0m\u001b[1;31m:\u001b[0m invalid syntax\n"
     ]
    }
   ],
   "source": [
    "name = input(\"what is your name?\")\n",
    "name = input(\"I am learning python\")\n",
    "print(name /n name)"
   ]
  },
  {
   "cell_type": "code",
   "execution_count": 15,
   "id": "6967f006-60c2-47c0-98ff-217854ed76d3",
   "metadata": {},
   "outputs": [
    {
     "name": "stdin",
     "output_type": "stream",
     "text": [
      "what is your name? Charu\n"
     ]
    },
    {
     "name": "stdout",
     "output_type": "stream",
     "text": [
      "helloCharu/n I am learning python\n"
     ]
    }
   ],
   "source": [
    "#Excerecise 1\n",
    "name = input(\"what is your name?\")\n",
    "print(\"hello\"+\"\"+ name + \"/n I am learning python\") "
   ]
  },
  {
   "cell_type": "code",
   "execution_count": 16,
   "id": "9a99edeb-9f3f-4bb5-87a1-1efb9351aa3a",
   "metadata": {},
   "outputs": [
    {
     "name": "stdin",
     "output_type": "stream",
     "text": [
      "what is your name? charu\n"
     ]
    },
    {
     "name": "stdout",
     "output_type": "stream",
     "text": [
      "hellocharu\n",
      " I am learning python\n"
     ]
    }
   ],
   "source": [
    "name = input(\"what is your name?\")\n",
    "print(\"hello\"+\"\"+ name + \"\\n I am learning python\") "
   ]
  },
  {
   "cell_type": "code",
   "execution_count": 17,
   "id": "e290a6f5-d3d5-4f69-9692-42b5c64ad735",
   "metadata": {},
   "outputs": [
    {
     "name": "stdout",
     "output_type": "stream",
     "text": [
      "\n"
     ]
    }
   ],
   "source": [
    "name =\"\"\n",
    "print(name)"
   ]
  },
  {
   "cell_type": "code",
   "execution_count": 18,
   "id": "f0584d19-d289-4e00-abd6-62b0b1f3bbb6",
   "metadata": {},
   "outputs": [
    {
     "name": "stdin",
     "output_type": "stream",
     "text": [
      "What is your name? Charumathi\n"
     ]
    },
    {
     "name": "stdout",
     "output_type": "stream",
     "text": [
      "10\n"
     ]
    }
   ],
   "source": [
    "print(len(input(\"What is your name?\")))"
   ]
  },
  {
   "cell_type": "code",
   "execution_count": 19,
   "id": "1f7c84ca-c0d9-4ef4-956b-1522c7cd6041",
   "metadata": {},
   "outputs": [
    {
     "name": "stdin",
     "output_type": "stream",
     "text": [
      "What is your name? Charumathi Manjumatha\n"
     ]
    }
   ],
   "source": [
    "tot = len(input(\"What is your name?\"))"
   ]
  },
  {
   "cell_type": "code",
   "execution_count": 20,
   "id": "645d6628-bf35-4681-9f4a-421b27137c3b",
   "metadata": {},
   "outputs": [
    {
     "ename": "NameError",
     "evalue": "name 'Str' is not defined",
     "output_type": "error",
     "traceback": [
      "\u001b[1;31m---------------------------------------------------------------------------\u001b[0m",
      "\u001b[1;31mNameError\u001b[0m                                 Traceback (most recent call last)",
      "Cell \u001b[1;32mIn[20], line 1\u001b[0m\n\u001b[1;32m----> 1\u001b[0m \u001b[38;5;28mprint\u001b[39m(Str[\u001b[38;5;241m0\u001b[39m])\n",
      "\u001b[1;31mNameError\u001b[0m: name 'Str' is not defined"
     ]
    }
   ],
   "source": [
    " print(Str[0])"
   ]
  },
  {
   "cell_type": "code",
   "execution_count": 21,
   "id": "1623d9e0-c6e1-48cc-88bc-538eb32188dc",
   "metadata": {},
   "outputs": [
    {
     "ename": "NameError",
     "evalue": "name 'Str' is not defined",
     "output_type": "error",
     "traceback": [
      "\u001b[1;31m---------------------------------------------------------------------------\u001b[0m",
      "\u001b[1;31mNameError\u001b[0m                                 Traceback (most recent call last)",
      "Cell \u001b[1;32mIn[21], line 1\u001b[0m\n\u001b[1;32m----> 1\u001b[0m Str[\u001b[38;5;241m0\u001b[39m]\n",
      "\u001b[1;31mNameError\u001b[0m: name 'Str' is not defined"
     ]
    }
   ],
   "source": [
    "Str[0]"
   ]
  },
  {
   "cell_type": "code",
   "execution_count": 22,
   "id": "46a899ec-34e2-47a0-a25c-3d43dc6dde16",
   "metadata": {},
   "outputs": [
    {
     "data": {
      "text/plain": [
       "'H'"
      ]
     },
     "execution_count": 22,
     "metadata": {},
     "output_type": "execute_result"
    }
   ],
   "source": [
    "str=\"Hello\"\n",
    "str[0]"
   ]
  },
  {
   "cell_type": "code",
   "execution_count": 23,
   "id": "720222c4-8cc5-4a81-b100-799ea567c589",
   "metadata": {},
   "outputs": [
    {
     "data": {
      "text/plain": [
       "'H'"
      ]
     },
     "execution_count": 23,
     "metadata": {},
     "output_type": "execute_result"
    }
   ],
   "source": [
    "str=\"Hello\"\n",
    "str[0:1]"
   ]
  },
  {
   "cell_type": "code",
   "execution_count": 24,
   "id": "9681a699-3b4b-46fc-942e-72de6f04712d",
   "metadata": {},
   "outputs": [
    {
     "data": {
      "text/plain": [
       "'He'"
      ]
     },
     "execution_count": 24,
     "metadata": {},
     "output_type": "execute_result"
    }
   ],
   "source": [
    "str=\"Hello\"\n",
    "str[0:2]"
   ]
  },
  {
   "cell_type": "code",
   "execution_count": 25,
   "id": "650ef0c5-d53e-40a6-9960-aebf9a249f92",
   "metadata": {},
   "outputs": [
    {
     "data": {
      "text/plain": [
       "''"
      ]
     },
     "execution_count": 25,
     "metadata": {},
     "output_type": "execute_result"
    }
   ],
   "source": [
    "str=\"Hello\"\n",
    "str[2:0]"
   ]
  },
  {
   "cell_type": "code",
   "execution_count": 26,
   "id": "3d9938ed-f483-432f-8c13-9f8330f07760",
   "metadata": {},
   "outputs": [
    {
     "data": {
      "text/plain": [
       "''"
      ]
     },
     "execution_count": 26,
     "metadata": {},
     "output_type": "execute_result"
    }
   ],
   "source": [
    "str=\"Hello\"\n",
    "str[0:0]"
   ]
  },
  {
   "cell_type": "code",
   "execution_count": 27,
   "id": "0cd445ce-5f6c-4e20-ab99-dcb0b895097e",
   "metadata": {},
   "outputs": [
    {
     "data": {
      "text/plain": [
       "'H'"
      ]
     },
     "execution_count": 27,
     "metadata": {},
     "output_type": "execute_result"
    }
   ],
   "source": [
    "str=\"Hello\"\n",
    "str[0:1]"
   ]
  },
  {
   "cell_type": "code",
   "execution_count": 32,
   "id": "f17d35cb-952a-4cff-9d7f-4ae75cce685f",
   "metadata": {},
   "outputs": [
    {
     "data": {
      "text/plain": [
       "'Hl'"
      ]
     },
     "execution_count": 32,
     "metadata": {},
     "output_type": "execute_result"
    }
   ],
   "source": [
    "str=\"Hello\"\n",
    "str[0:4:2]"
   ]
  },
  {
   "cell_type": "code",
   "execution_count": 33,
   "id": "73d2b68f-395f-47e2-9458-9b91fd5833d7",
   "metadata": {},
   "outputs": [
    {
     "data": {
      "text/plain": [
       "''"
      ]
     },
     "execution_count": 33,
     "metadata": {},
     "output_type": "execute_result"
    }
   ],
   "source": [
    "str=\"Hello\"\n",
    "str[2:1:2]"
   ]
  },
  {
   "cell_type": "code",
   "execution_count": 40,
   "id": "a8b362c2-8492-4166-90e7-760e3415dddd",
   "metadata": {},
   "outputs": [
    {
     "data": {
      "text/plain": [
       "'o'"
      ]
     },
     "execution_count": 40,
     "metadata": {},
     "output_type": "execute_result"
    }
   ],
   "source": [
    "STR = \"Hello\"\n",
    "str[4:5]"
   ]
  },
  {
   "cell_type": "code",
   "execution_count": 41,
   "id": "69fcfab9-c30b-45fb-8472-db001615cdc3",
   "metadata": {},
   "outputs": [
    {
     "name": "stdout",
     "output_type": "stream",
     "text": [
      "aba\n"
     ]
    }
   ],
   "source": [
    "str=\"aba\"\n",
    "print(str[::-1])"
   ]
  },
  {
   "cell_type": "code",
   "execution_count": 42,
   "id": "7fb2360b-6c5c-4651-a115-5c0e99493b9c",
   "metadata": {},
   "outputs": [
    {
     "name": "stdout",
     "output_type": "stream",
     "text": [
      "zyzaba\n"
     ]
    }
   ],
   "source": [
    "str=\"abazyz\"\n",
    "print(str[::-1])"
   ]
  },
  {
   "cell_type": "code",
   "execution_count": 43,
   "id": "5581f918-70b5-47f6-9917-a48636d32eaa",
   "metadata": {},
   "outputs": [
    {
     "name": "stdout",
     "output_type": "stream",
     "text": [
      "abazyz\n"
     ]
    }
   ],
   "source": [
    "str=\"abazyz\"\n",
    "print(str[::1])"
   ]
  },
  {
   "cell_type": "code",
   "execution_count": 44,
   "id": "d7610102-e48a-4175-a97d-95fbd2cd3302",
   "metadata": {},
   "outputs": [
    {
     "data": {
      "text/plain": [
       "\u001b[1;31mInit signature:\u001b[0m \u001b[0mtype\u001b[0m\u001b[1;33m(\u001b[0m\u001b[0mself\u001b[0m\u001b[1;33m,\u001b[0m \u001b[1;33m/\u001b[0m\u001b[1;33m,\u001b[0m \u001b[1;33m*\u001b[0m\u001b[0margs\u001b[0m\u001b[1;33m,\u001b[0m \u001b[1;33m**\u001b[0m\u001b[0mkwargs\u001b[0m\u001b[1;33m)\u001b[0m\u001b[1;33m\u001b[0m\u001b[1;33m\u001b[0m\u001b[0m\n",
       "\u001b[1;31mDocstring:\u001b[0m     \n",
       "type(object) -> the object's type\n",
       "type(name, bases, dict, **kwds) -> a new type\n",
       "\u001b[1;31mType:\u001b[0m           type\n",
       "\u001b[1;31mSubclasses:\u001b[0m     ABCMeta, EnumType, _AnyMeta, NamedTupleMeta, _TypedDictMeta, _ABC, MetaHasDescriptors, CType_Type, _TzSingleton, _TzFactory, ..."
      ]
     },
     "metadata": {},
     "output_type": "display_data"
    }
   ],
   "source": [
    "type?"
   ]
  },
  {
   "cell_type": "code",
   "execution_count": 45,
   "id": "a5b8ea75-11d0-4c5f-9536-2ed91c2bef1d",
   "metadata": {},
   "outputs": [
    {
     "name": "stdout",
     "output_type": "stream",
     "text": [
      "1110\n"
     ]
    }
   ],
   "source": [
    "print(int(\"123\")+int(\"987\"))"
   ]
  },
  {
   "cell_type": "code",
   "execution_count": 46,
   "id": "090ec2fa-009d-4a05-9d7f-2b9ce599bdc7",
   "metadata": {},
   "outputs": [
    {
     "name": "stdin",
     "output_type": "stream",
     "text": [
      "What is your name Charumathi Manjumatha\n"
     ]
    },
    {
     "ename": "TypeError",
     "evalue": "can only concatenate str (not \"int\") to str",
     "output_type": "error",
     "traceback": [
      "\u001b[1;31m---------------------------------------------------------------------------\u001b[0m",
      "\u001b[1;31mTypeError\u001b[0m                                 Traceback (most recent call last)",
      "Cell \u001b[1;32mIn[46], line 1\u001b[0m\n\u001b[1;32m----> 1\u001b[0m \u001b[38;5;28mprint\u001b[39m(\u001b[38;5;124m\"\u001b[39m\u001b[38;5;124mnumber of letters in the name\u001b[39m\u001b[38;5;124m\"\u001b[39m \u001b[38;5;241m+\u001b[39m \u001b[38;5;28mlen\u001b[39m(\u001b[38;5;28minput\u001b[39m(\u001b[38;5;124m\"\u001b[39m\u001b[38;5;124mWhat is your name\u001b[39m\u001b[38;5;124m\"\u001b[39m)))\n",
      "\u001b[1;31mTypeError\u001b[0m: can only concatenate str (not \"int\") to str"
     ]
    }
   ],
   "source": [
    "print(\"number of letters in the name\" + len(input(\"What is your name\")))"
   ]
  },
  {
   "cell_type": "code",
   "execution_count": 49,
   "id": "8923e87a-366e-4b8c-910f-edfb793dbcbb",
   "metadata": {},
   "outputs": [
    {
     "name": "stdin",
     "output_type": "stream",
     "text": [
      "What is your name? Charumathi Manjumatha\n"
     ]
    },
    {
     "ename": "TypeError",
     "evalue": "'str' object is not callable",
     "output_type": "error",
     "traceback": [
      "\u001b[1;31m---------------------------------------------------------------------------\u001b[0m",
      "\u001b[1;31mTypeError\u001b[0m                                 Traceback (most recent call last)",
      "Cell \u001b[1;32mIn[49], line 1\u001b[0m\n\u001b[1;32m----> 1\u001b[0m \u001b[38;5;28mprint\u001b[39m(\u001b[38;5;124m\"\u001b[39m\u001b[38;5;124mnumber of letters in the name\u001b[39m\u001b[38;5;124m\"\u001b[39m \u001b[38;5;241m+\u001b[39m \u001b[38;5;28mstr\u001b[39m(\u001b[38;5;28mlen\u001b[39m(\u001b[38;5;28minput\u001b[39m(\u001b[38;5;124m\"\u001b[39m\u001b[38;5;124mWhat is your name?\u001b[39m\u001b[38;5;124m\"\u001b[39m ))))\n",
      "\u001b[1;31mTypeError\u001b[0m: 'str' object is not callable"
     ]
    }
   ],
   "source": [
    "print(\"number of letters in the name\" + str(len(input(\"What is your name?\" ))))"
   ]
  },
  {
   "cell_type": "code",
   "execution_count": 50,
   "id": "45cfdfa3-d2da-46a6-a649-9e6a9fa17948",
   "metadata": {},
   "outputs": [
    {
     "name": "stdin",
     "output_type": "stream",
     "text": [
      "What is your name? cha\n"
     ]
    },
    {
     "ename": "TypeError",
     "evalue": "'str' object is not callable",
     "output_type": "error",
     "traceback": [
      "\u001b[1;31m---------------------------------------------------------------------------\u001b[0m",
      "\u001b[1;31mTypeError\u001b[0m                                 Traceback (most recent call last)",
      "Cell \u001b[1;32mIn[50], line 1\u001b[0m\n\u001b[1;32m----> 1\u001b[0m \u001b[38;5;28mprint\u001b[39m(\u001b[38;5;124m\"\u001b[39m\u001b[38;5;124mnumber of letters in the name\u001b[39m\u001b[38;5;124m\"\u001b[39m \u001b[38;5;241m+\u001b[39m \u001b[38;5;28mstr\u001b[39m(\u001b[38;5;28mlen\u001b[39m(\u001b[38;5;28minput\u001b[39m(\u001b[38;5;124m\"\u001b[39m\u001b[38;5;124mWhat is your name?\u001b[39m\u001b[38;5;124m\"\u001b[39m ))))\n",
      "\u001b[1;31mTypeError\u001b[0m: 'str' object is not callable"
     ]
    }
   ],
   "source": [
    "print(\"number of letters in the name\" + str(len(input(\"What is your name?\" ))))\n"
   ]
  },
  {
   "cell_type": "code",
   "execution_count": 51,
   "id": "e0d4dd4b-6ee2-42c2-a012-088a813f62c1",
   "metadata": {},
   "outputs": [
    {
     "name": "stdout",
     "output_type": "stream",
     "text": [
      "3.0\n"
     ]
    }
   ],
   "source": [
    "print(3*(3+3)/3-3)"
   ]
  },
  {
   "cell_type": "code",
   "execution_count": 52,
   "id": "85154eb9-0a6c-405f-bd62-c20ac7e627ab",
   "metadata": {},
   "outputs": [
    {
     "name": "stdout",
     "output_type": "stream",
     "text": [
      "7.0\n"
     ]
    }
   ],
   "source": [
    "print(3*3+3/3-3)"
   ]
  },
  {
   "cell_type": "code",
   "execution_count": 55,
   "id": "7ef31702-8030-4fdc-abe2-39267433761a",
   "metadata": {},
   "outputs": [
    {
     "name": "stdout",
     "output_type": "stream",
     "text": [
      "30.85399449035813\n"
     ]
    }
   ],
   "source": [
    "print(84/1.65**2)"
   ]
  },
  {
   "cell_type": "code",
   "execution_count": 60,
   "id": "29866299-8984-4a2b-9e16-f3e84ec0e61f",
   "metadata": {},
   "outputs": [],
   "source": [
    "#Body mass calculation\n",
    "w=84\n",
    "h=1.65\n",
    "bmi = w/h**2"
   ]
  },
  {
   "cell_type": "code",
   "execution_count": 61,
   "id": "31393315-6efb-4257-b97b-72d17fbe7c71",
   "metadata": {},
   "outputs": [
    {
     "name": "stdout",
     "output_type": "stream",
     "text": [
      "30.85399449035813\n"
     ]
    }
   ],
   "source": [
    "print(bmi)"
   ]
  },
  {
   "cell_type": "code",
   "execution_count": 98,
   "id": "6fcf21fd-0528-41a8-b1a4-60e51954666e",
   "metadata": {},
   "outputs": [
    {
     "name": "stdin",
     "output_type": "stream",
     "text": [
      "what is your name Manjumatha\n",
      "Enter your age 48\n"
     ]
    },
    {
     "name": "stdout",
     "output_type": "stream",
     "text": [
      "Hello Manjumatha 48\n"
     ]
    }
   ],
   "source": [
    " name = input(\"what is your name\")\n",
    "age = int(input(\"Enter your age\"))\n",
    "print(f\"Hello {name} {age}\")"
   ]
  },
  {
   "cell_type": "code",
   "execution_count": 77,
   "id": "f0b2b4f7-c6e7-48c2-a31d-5c2d35c21c51",
   "metadata": {},
   "outputs": [
    {
     "name": "stdout",
     "output_type": "stream",
     "text": [
      "5.0\n"
     ]
    }
   ],
   "source": [
    "print(10.2//2)"
   ]
  },
  {
   "cell_type": "code",
   "execution_count": 80,
   "id": "be5df356-eb2d-4c70-85da-855465d1edd4",
   "metadata": {},
   "outputs": [
    {
     "name": "stdout",
     "output_type": "stream",
     "text": [
      "Python is a programming language\n"
     ]
    }
   ],
   "source": [
    "text = \"PyThOn is a programming language\"\n",
    "print(text.capitalize())\n"
   ]
  },
  {
   "cell_type": "code",
   "execution_count": 81,
   "id": "212e91a0-953f-4e56-868b-757ca2127f77",
   "metadata": {},
   "outputs": [
    {
     "name": "stdout",
     "output_type": "stream",
     "text": [
      "Python Is A Programming Language\n"
     ]
    }
   ],
   "source": [
    "text = \"PyThOn is a programming language\"\n",
    "print(text.title())"
   ]
  },
  {
   "cell_type": "code",
   "execution_count": 82,
   "id": "e051fab1-45b6-402b-9537-5137b9b2437d",
   "metadata": {},
   "outputs": [
    {
     "name": "stdout",
     "output_type": "stream",
     "text": [
      "pYtHoN IS A PROGRAMMING LANGUAGE\n"
     ]
    }
   ],
   "source": [
    "text = \"PyThOn is a programming language\"\n",
    "print(text.swapcase())"
   ]
  },
  {
   "cell_type": "code",
   "execution_count": 84,
   "id": "9b3f1a46-d6c2-4185-870a-deb50844f3d5",
   "metadata": {},
   "outputs": [
    {
     "name": "stdout",
     "output_type": "stream",
     "text": [
      "PyThOn is a programming language\n"
     ]
    }
   ],
   "source": [
    "text = \" PyThOn is a programming language \"\n",
    "print(text.lstrip())"
   ]
  },
  {
   "cell_type": "code",
   "execution_count": 85,
   "id": "a3d198e4-c01f-4274-a24b-8a0b651067ba",
   "metadata": {},
   "outputs": [
    {
     "name": "stdout",
     "output_type": "stream",
     "text": [
      "PyThOn is a programming language \n"
     ]
    }
   ],
   "source": [
    "text = \" PyThOn is a programming language \"\n",
    "print(text.lstrip())"
   ]
  },
  {
   "cell_type": "code",
   "execution_count": 86,
   "id": "d2d17cfa-12e0-4a64-bb45-0b9f57c323f3",
   "metadata": {},
   "outputs": [
    {
     "name": "stdout",
     "output_type": "stream",
     "text": [
      " PyThOn is a programming language\n"
     ]
    }
   ],
   "source": [
    "text = \" PyThOn is a programming language \"\n",
    "print(text.rstrip())"
   ]
  },
  {
   "cell_type": "code",
   "execution_count": 89,
   "id": "c0b64adc-6709-4f66-8cea-1664afcabbee",
   "metadata": {},
   "outputs": [
    {
     "name": "stdout",
     "output_type": "stream",
     "text": [
      "-1\n"
     ]
    }
   ],
   "source": [
    "text = \" PyThOn is a programming language \"\n",
    "print(text.find(\"Python\"))"
   ]
  },
  {
   "cell_type": "code",
   "execution_count": 92,
   "id": "c60f59a4-b5f4-414b-bd73-e233205f2e09",
   "metadata": {},
   "outputs": [
    {
     "name": "stdout",
     "output_type": "stream",
     "text": [
      " Java is a programming language \n"
     ]
    }
   ],
   "source": [
    "text = \" Python is a programming language \"\n",
    "new_text = text.replace( \"Python\",\"Java\")\n",
    "print(new_text)"
   ]
  },
  {
   "cell_type": "code",
   "execution_count": 100,
   "id": "8491c22b-d1ae-4dc3-a09a-2120405122f5",
   "metadata": {},
   "outputs": [],
   "source": [
    "import re"
   ]
  },
  {
   "cell_type": "code",
   "execution_count": 105,
   "id": "c5091efc-9e33-40a4-b8ec-2c32f2e35bd2",
   "metadata": {},
   "outputs": [
    {
     "name": "stdout",
     "output_type": "stream",
     "text": [
      "['Java', 'language', 'Java']\n"
     ]
    }
   ],
   "source": [
    "text = \"Java is a programming language. Java\"\n",
    "print(re.findall(\"Java|language\",text))"
   ]
  },
  {
   "cell_type": "code",
   "execution_count": 15,
   "id": "0a04d071-6799-4e87-ade0-c2e6b25bcd0c",
   "metadata": {},
   "outputs": [
    {
     "ename": "NameError",
     "evalue": "name 're' is not defined",
     "output_type": "error",
     "traceback": [
      "\u001b[1;31m---------------------------------------------------------------------------\u001b[0m",
      "\u001b[1;31mNameError\u001b[0m                                 Traceback (most recent call last)",
      "Cell \u001b[1;32mIn[15], line 2\u001b[0m\n\u001b[0;32m      1\u001b[0m text \u001b[38;5;241m=\u001b[39m \u001b[38;5;124m\"\u001b[39m\u001b[38;5;124mJava is a programming language. Java is platform independent\u001b[39m\u001b[38;5;124m\"\u001b[39m\n\u001b[1;32m----> 2\u001b[0m words \u001b[38;5;241m=\u001b[39m re\u001b[38;5;241m.\u001b[39mfindall(\u001b[38;5;124mr\u001b[39m\u001b[38;5;124m'\u001b[39m\u001b[38;5;124mJava\u001b[39m\u001b[38;5;124m'\u001b[39m,text)\n\u001b[0;32m      3\u001b[0m iteration \u001b[38;5;241m=\u001b[39m re\u001b[38;5;241m.\u001b[39mfinditer(\u001b[38;5;124mr\u001b[39m\u001b[38;5;124m'\u001b[39m\u001b[38;5;124mJava\u001b[39m\u001b[38;5;124m'\u001b[39m,text)\n\u001b[0;32m      4\u001b[0m \u001b[38;5;28mprint\u001b[39m(iteration)\n",
      "\u001b[1;31mNameError\u001b[0m: name 're' is not defined"
     ]
    }
   ],
   "source": [
    "text = \"Java is a programming language. Java is platform independent\"\n",
    "words = re.findall(r'Java',text)\n",
    "iteration = re.finditer(r'Java',text)\n",
    "print(iteration)"
   ]
  },
  {
   "cell_type": "code",
   "execution_count": null,
   "id": "6dba69fb-ec7d-4116-9f15-c289809cced1",
   "metadata": {},
   "outputs": [],
   "source": [
    "nick_name=input(\"what is your desired nick name\")\n",
    "city_name=input(\"Where you are living\")\n",
    "fit=nick_name[::-1]\n",
    "fit_1=city_name[::-2]\n",
    "group_name=fit+str(len(fit+fit_1))+fit_1\n",
    "print(group_name)"
   ]
  },
  {
   "cell_type": "code",
   "execution_count": 1,
   "id": "8842701c-f30d-4a81-a7c1-21bc158a1dc5",
   "metadata": {},
   "outputs": [
    {
     "name": "stdout",
     "output_type": "stream",
     "text": [
      "Name:Vaishu age:17\n"
     ]
    }
   ],
   "source": [
    "Name=\"Vaishu\"\n",
    "age=17\n",
    "print(\"Name:{} age:{}\".format(Name,age))"
   ]
  },
  {
   "cell_type": "code",
   "execution_count": 10,
   "id": "1285c3d9-fa9e-483c-ad4a-a6f3580151c9",
   "metadata": {},
   "outputs": [
    {
     "name": "stdout",
     "output_type": "stream",
     "text": [
      "I_ Love_ My_ India\n"
     ]
    }
   ],
   "source": [
    "text = \"I, Love, My, India\"\n",
    "SPLIT = text.split(\",\")\n",
    "text_join = \"_\".join(SPLIT)\n",
    "print(text_join)"
   ]
  },
  {
   "cell_type": "code",
   "execution_count": 11,
   "id": "f5d13982-ea35-475b-a214-b3dfd864580b",
   "metadata": {},
   "outputs": [
    {
     "name": "stdout",
     "output_type": "stream",
     "text": [
      "['I', ' Love', ' My', ' India']\n"
     ]
    }
   ],
   "source": [
    " text = \"I, Love, My, India\"\n",
    "SPLIT = text.split(\",\")\n",
    "print(SPLIT)"
   ]
  },
  {
   "cell_type": "code",
   "execution_count": 14,
   "id": "762387cc-414f-40e4-bff0-96b7ad71ffb5",
   "metadata": {},
   "outputs": [
    {
     "name": "stdout",
     "output_type": "stream",
     "text": [
      "ZLiya\n"
     ]
    }
   ],
   "source": [
    "name = \"Liya\"\n",
    "print(name.rjust(5,\"Z\"))"
   ]
  },
  {
   "cell_type": "code",
   "execution_count": 17,
   "id": "fe6dbf3a-aed8-4353-8573-3ad3169045d0",
   "metadata": {},
   "outputs": [
    {
     "data": {
      "text/plain": [
       "3.148"
      ]
     },
     "execution_count": 17,
     "metadata": {},
     "output_type": "execute_result"
    }
   ],
   "source": [
    "round(3.14782,3)"
   ]
  },
  {
   "cell_type": "code",
   "execution_count": null,
   "id": "2ca69067-5760-417e-a995-cce1a96ccff9",
   "metadata": {},
   "outputs": [],
   "source": []
  }
 ],
 "metadata": {
  "kernelspec": {
   "display_name": "Python [conda env:base] *",
   "language": "python",
   "name": "conda-base-py"
  },
  "language_info": {
   "codemirror_mode": {
    "name": "ipython",
    "version": 3
   },
   "file_extension": ".py",
   "mimetype": "text/x-python",
   "name": "python",
   "nbconvert_exporter": "python",
   "pygments_lexer": "ipython3",
   "version": "3.13.5"
  }
 },
 "nbformat": 4,
 "nbformat_minor": 5
}
