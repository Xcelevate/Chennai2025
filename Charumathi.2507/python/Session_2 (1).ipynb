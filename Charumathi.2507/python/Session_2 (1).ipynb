{
 "cells": [
  {
   "cell_type": "code",
   "execution_count": 2,
   "id": "eba13eac-257f-40df-ba76-2f30ecad3e88",
   "metadata": {},
   "outputs": [],
   "source": [
    "import random"
   ]
  },
  {
   "cell_type": "code",
   "execution_count": 5,
   "id": "4365f0e6-8247-4b49-957a-9ad458314cc5",
   "metadata": {},
   "outputs": [
    {
     "name": "stdout",
     "output_type": "stream",
     "text": [
      "226\n"
     ]
    }
   ],
   "source": [
    "randomInt = random.randint(200,500)\n",
    "print(randomInt)"
   ]
  },
  {
   "cell_type": "code",
   "execution_count": 7,
   "id": "73d23afb-c9b1-4b5a-8b8a-faea14eb6c28",
   "metadata": {},
   "outputs": [
    {
     "data": {
      "text/plain": [
       "'mango'"
      ]
     },
     "execution_count": 7,
     "metadata": {},
     "output_type": "execute_result"
    }
   ],
   "source": [
    "fruits = ('apple','mango','jack')\n",
    "rand = random.choice(fruits)\n",
    "rand"
   ]
  },
  {
   "cell_type": "code",
   "execution_count": 38,
   "id": "5d7eddca-2619-4a7b-acf8-54425dfbbe57",
   "metadata": {},
   "outputs": [
    {
     "name": "stdout",
     "output_type": "stream",
     "text": [
      "406.46\n"
     ]
    }
   ],
   "source": [
    "randomInt = round(random.uniform(200,500),2)\n",
    "print(randomInt)"
   ]
  },
  {
   "cell_type": "code",
   "execution_count": 36,
   "id": "e0c26c0b-8288-4d02-b5ab-671171711da9",
   "metadata": {},
   "outputs": [
    {
     "name": "stdout",
     "output_type": "stream",
     "text": [
      "['jack', 'mango', 'apple']\n"
     ]
    }
   ],
   "source": [
    "fruits = ['apple','mango','jack']\n",
    "random.shuffle(fruits)\n",
    "print(fruits)"
   ]
  },
  {
   "cell_type": "code",
   "execution_count": 14,
   "id": "a2dbde17-e449-49b9-aabe-9fff955053f7",
   "metadata": {},
   "outputs": [
    {
     "data": {
      "text/plain": [
       "'Air_Force'"
      ]
     },
     "execution_count": 14,
     "metadata": {},
     "output_type": "execute_result"
    }
   ],
   "source": [
    "import day2\n",
    "day2.Profile"
   ]
  },
  {
   "cell_type": "code",
   "execution_count": 31,
   "id": "e437ddce-994d-4408-b8d5-ae02d3e42741",
   "metadata": {},
   "outputs": [
    {
     "data": {
      "text/plain": [
       "0.62"
      ]
     },
     "execution_count": 31,
     "metadata": {},
     "output_type": "execute_result"
    }
   ],
   "source": [
    "round(random.random(),2)"
   ]
  },
  {
   "cell_type": "code",
   "execution_count": 52,
   "id": "b476ab81-61db-4387-965a-e9d0e98bd16b",
   "metadata": {},
   "outputs": [
    {
     "name": "stdout",
     "output_type": "stream",
     "text": [
      "Tail\n"
     ]
    }
   ],
   "source": [
    "# Tossing\n",
    "toss=random.randint(0,2)\n",
    "if(toss==0):print(\"Head\")\n",
    "elif(toss==1):print(\"Tail\")\n",
    "else:print(\"out\")"
   ]
  },
  {
   "cell_type": "code",
   "execution_count": 53,
   "id": "944918d9-1233-4e2a-a7ae-d0a11a4becc2",
   "metadata": {},
   "outputs": [
    {
     "data": {
      "text/plain": [
       "True"
      ]
     },
     "execution_count": 53,
     "metadata": {},
     "output_type": "execute_result"
    }
   ],
   "source": [
    "not(False or((True&False)&(False&True)&False))"
   ]
  },
  {
   "cell_type": "code",
   "execution_count": 65,
   "id": "46e7777f-ab32-4a84-899e-0321f12aa884",
   "metadata": {},
   "outputs": [
    {
     "name": "stdin",
     "output_type": "stream",
     "text": [
      " 1\n",
      " 1\n"
     ]
    },
    {
     "data": {
      "text/plain": [
       "False"
      ]
     },
     "execution_count": 65,
     "metadata": {},
     "output_type": "execute_result"
    }
   ],
   "source": [
    "#XOR\n",
    "a=bool(input())\n",
    "b=bool(input())\n",
    "(a or b) and not(a and b)\n"
   ]
  },
  {
   "cell_type": "code",
   "execution_count": 66,
   "id": "31361058-29c4-4075-835b-850e0b755431",
   "metadata": {},
   "outputs": [
    {
     "name": "stdin",
     "output_type": "stream",
     "text": [
      " 0\n",
      " \n"
     ]
    },
    {
     "data": {
      "text/plain": [
       "True"
      ]
     },
     "execution_count": 66,
     "metadata": {},
     "output_type": "execute_result"
    }
   ],
   "source": [
    "#XOR\n",
    "a=bool(input())\n",
    "b=bool(input())\n",
    "(a and not b) or (b and not a)"
   ]
  },
  {
   "cell_type": "code",
   "execution_count": 69,
   "id": "573c2bae-917f-46ef-a7c1-b842d559d53f",
   "metadata": {},
   "outputs": [
    {
     "name": "stdin",
     "output_type": "stream",
     "text": [
      " 0\n",
      " \n"
     ]
    },
    {
     "data": {
      "text/plain": [
       "True"
      ]
     },
     "execution_count": 69,
     "metadata": {},
     "output_type": "execute_result"
    }
   ],
   "source": [
    "#NAND\n",
    "a=bool(input())\n",
    "b=bool(input())\n",
    "not(a and b)"
   ]
  },
  {
   "cell_type": "code",
   "execution_count": 71,
   "id": "bb16d314-4343-4ee7-9a50-27cecadc8538",
   "metadata": {},
   "outputs": [
    {
     "name": "stdin",
     "output_type": "stream",
     "text": [
      " \n",
      " 1\n"
     ]
    },
    {
     "data": {
      "text/plain": [
       "False"
      ]
     },
     "execution_count": 71,
     "metadata": {},
     "output_type": "execute_result"
    }
   ],
   "source": [
    "#NOR\n",
    "a=bool(input())\n",
    "b=bool(input())\n",
    "not(a or b)"
   ]
  },
  {
   "cell_type": "code",
   "execution_count": 75,
   "id": "749a6e27-3e7f-4385-af34-4fcb484ccf9c",
   "metadata": {},
   "outputs": [
    {
     "name": "stdin",
     "output_type": "stream",
     "text": [
      " 0\n"
     ]
    },
    {
     "name": "stdout",
     "output_type": "stream",
     "text": [
      "Even\n"
     ]
    }
   ],
   "source": [
    "#Odd or Even\n",
    "num = int(input())\n",
    "if(num%2==0):\n",
    "    print(\"Even\")\n",
    "else:\n",
    "    print(\"Odd\")"
   ]
  },
  {
   "cell_type": "code",
   "execution_count": 80,
   "id": "41dc95ff-153d-41ef-9d20-3579f99272da",
   "metadata": {},
   "outputs": [
    {
     "name": "stdin",
     "output_type": "stream",
     "text": [
      " 100\n",
      " 1093\n"
     ]
    },
    {
     "name": "stdout",
     "output_type": "stream",
     "text": [
      "1093\n"
     ]
    }
   ],
   "source": [
    "#Greater or Smaller\n",
    "num_1 = int(input())\n",
    "num_2 = int(input()) \n",
    "print(num_1 if (num_1>num_2) else num_2 if(num_1<num_2) else\"same\")"
   ]
  },
  {
   "cell_type": "code",
   "execution_count": 87,
   "id": "def67a50-4f18-425c-aa4a-927af96919c4",
   "metadata": {},
   "outputs": [
    {
     "name": "stdin",
     "output_type": "stream",
     "text": [
      "Enter your Marks: -12\n"
     ]
    },
    {
     "name": "stdout",
     "output_type": "stream",
     "text": [
      "Invalid\n"
     ]
    }
   ],
   "source": [
    "#Grading System\n",
    "marks = int(input(\"Enter your Marks:\"))\n",
    "if(marks<=100 and marks<0):\n",
    "    print(\"Invalid\")\n",
    "elif(marks>=90):\n",
    "    print(\"A+\")\n",
    "elif(marks>=75):\n",
    "    print(\"A\")\n",
    "elif(marks>60):\n",
    "    print(\"B\")\n",
    "elif(marks>=40):\n",
    "    print(\"C\")\n",
    "else:\n",
    "    print(\"Fail\")"
   ]
  },
  {
   "cell_type": "code",
   "execution_count": 91,
   "id": "a1de9760-5f7d-4af1-b878-a6f7cb4d2842",
   "metadata": {},
   "outputs": [
    {
     "name": "stdin",
     "output_type": "stream",
     "text": [
      " malayalam\n"
     ]
    },
    {
     "name": "stdout",
     "output_type": "stream",
     "text": [
      "Palindrome\n"
     ]
    }
   ],
   "source": [
    "#palindrome\n",
    "num = input()\n",
    "new = num[::-1]\n",
    "if(num==new):\n",
    "    print(\"Palindrome\")\n",
    "else:\n",
    "    print(\"Not Palindrome\")\n"
   ]
  },
  {
   "cell_type": "code",
   "execution_count": 144,
   "id": "0ff29ab7-287c-400a-8313-6ab2c8d6be0a",
   "metadata": {},
   "outputs": [
    {
     "name": "stdin",
     "output_type": "stream",
     "text": [
      "Enter the year 2020\n"
     ]
    },
    {
     "name": "stdout",
     "output_type": "stream",
     "text": [
      "Leap year\n"
     ]
    }
   ],
   "source": [
    "#Leap year\n",
    "year = input(\"Enter the year\")\n",
    "if(year.isdigit() and len(year)==4 ):\n",
    "        years=int(year)\n",
    "        if(years%400==0):\n",
    "            print(\"Leap year\")\n",
    "        elif(years%4==0):\n",
    "            if(years%100==0):\n",
    "                print(\"Not a leap year\")\n",
    "            else:\n",
    "                print(\"Leap year\")\n",
    "        else:\n",
    "            print(\"Not a leap year\")\n",
    "else:2\n",
    "    print(\"Invalid\")"
   ]
  },
  {
   "cell_type": "code",
   "execution_count": 100,
   "id": "77cfb8f8-2345-4441-98b1-916ad874f49a",
   "metadata": {},
   "outputs": [
    {
     "name": "stdout",
     "output_type": "stream",
     "text": [
      "True\n"
     ]
    }
   ],
   "source": [
    "a = \"mom\"\n",
    "print(a.isalpha())"
   ]
  },
  {
   "cell_type": "code",
   "execution_count": 120,
   "id": "1e4f3c36-7b7d-4628-aed6-f9a3820fc12f",
   "metadata": {},
   "outputs": [
    {
     "name": "stdout",
     "output_type": "stream",
     "text": [
      "True\n",
      "False\n",
      "True\n",
      "True\n"
     ]
    }
   ],
   "source": [
    "a = \"21\"\n",
    "b = \"abc$098\"\n",
    "name = \"Manikandan\"\n",
    "print(a.isdigit())\n",
    "print(b.isalnum())\n",
    "print(name.startswith(\"ani\",1,-1))\n",
    "print(name.endswith(\"dan\"))\n"
   ]
  },
  {
   "cell_type": "code",
   "execution_count": 122,
   "id": "874986be-b9f5-426c-9c75-ab10a2aea55a",
   "metadata": {},
   "outputs": [
    {
     "name": "stdout",
     "output_type": "stream",
     "text": [
      "3\n"
     ]
    }
   ],
   "source": [
    "# Contains\n",
    "name = \"Manikandan\"\n",
    "print(name.count(\"an\"))"
   ]
  },
  {
   "cell_type": "code",
   "execution_count": 127,
   "id": "aaf56a82-abe2-4475-b7b8-bcebd5cd1350",
   "metadata": {},
   "outputs": [
    {
     "name": "stdout",
     "output_type": "stream",
     "text": [
      "[3, 7, 10]\n"
     ]
    }
   ],
   "source": [
    "import re\n",
    "name = \"Manikandan\"\n",
    "man = [s.end() for s in re.finditer(\"an\",name)]\n",
    "print(man)"
   ]
  },
  {
   "cell_type": "code",
   "execution_count": 166,
   "id": "6deb9e73-706d-48d7-bb91-f5ba13d7434a",
   "metadata": {},
   "outputs": [
    {
     "name": "stdin",
     "output_type": "stream",
     "text": [
      "Enter a number 12\n",
      "Enter a number 15\n",
      "Enter a number 10\n"
     ]
    },
    {
     "name": "stdout",
     "output_type": "stream",
     "text": [
      "scalane\n"
     ]
    }
   ],
   "source": [
    "a=input(\"Enter a number\")\n",
    "b=input(\"Enter a number\")\n",
    "c=input(\"Enter a number\")\n",
    "d=a.replace(\".\",\"\")\n",
    "e=b.replace(\".\",\"\")\n",
    "f=c.replace(\".\",\"\")\n",
    "if(d.isdigit() and e.isdigit() and f.isdigit()):\n",
    "    num1 = float(a)\n",
    "    num2 = float(b)\n",
    "    num3 = float(c)\n",
    "    if(num1+num2>num3 and num2+num3>num1 and num3+num1>num2):\n",
    "        if(num1==num2 and num2==num3):\n",
    "            print(\"Equilateral\")\n",
    "        elif(num1==num2 or num2==num3 or num3==num1):\n",
    "            print(\"Isoceles\")\n",
    "        else:\n",
    "            print(\"scalane\")\n",
    "    else:\n",
    "        print(\"Invalid\")\n",
    "else:\n",
    "    print(\"Check input\")\n",
    "    "
   ]
  },
  {
   "cell_type": "code",
   "execution_count": null,
   "id": "84c386ac-300a-4ad6-bb00-8fd19ff1b43e",
   "metadata": {},
   "outputs": [],
   "source": []
  }
 ],
 "metadata": {
  "kernelspec": {
   "display_name": "Python [conda env:base] *",
   "language": "python",
   "name": "conda-base-py"
  },
  "language_info": {
   "codemirror_mode": {
    "name": "ipython",
    "version": 3
   },
   "file_extension": ".py",
   "mimetype": "text/x-python",
   "name": "python",
   "nbconvert_exporter": "python",
   "pygments_lexer": "ipython3",
   "version": "3.13.5"
  }
 },
 "nbformat": 4,
 "nbformat_minor": 5
}
