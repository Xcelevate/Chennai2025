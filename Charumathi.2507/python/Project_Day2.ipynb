{
 "cells": [
  {
   "cell_type": "code",
   "execution_count": 4,
   "id": "9950084d-0fe6-4131-b841-dd89c6b76959",
   "metadata": {},
   "outputs": [
    {
     "name": "stdin",
     "output_type": "stream",
     "text": [
      "Enter your name ram \n",
      "Rock or Paper or Scissor: rock\n"
     ]
    },
    {
     "name": "stdout",
     "output_type": "stream",
     "text": [
      "Rock\n",
      "Paper\n",
      "computer won the match!\n"
     ]
    }
   ],
   "source": [
    "#Stone Paper and Scissor\n",
    "import random\n",
    "sets =('Rock','Paper','Scissor')\n",
    "name = input(\"Enter your name\")\n",
    "play = input(\"Rock or Paper or Scissor:\")\n",
    "player = play.title()\n",
    "if(player=='Rock' or player=='Paper' or player=='Scissor' ):\n",
    "    print(player)\n",
    "    comp = random.choice(sets) \n",
    "    print(comp)\n",
    "    if((player=='Rock' and comp=='Paper') or (player=='Paper' and comp=='Scissor' ) or (player=='Scissor' and comp=='Rock')):\n",
    "        print(\"computer won the match!\")\n",
    "    elif((player=='Rock' and comp=='Scissor') or (player=='Paper' and comp=='Rock') or (player=='Scissor' and comp=='Paper')):\n",
    "        print(f\"Awesome{name}, You nailed it!\")\n",
    "    else:\n",
    "        print(\"Draw match * _ * \")\n",
    "else:\n",
    "    print(\"try again\")       "
   ]
  },
  {
   "cell_type": "code",
   "execution_count": 6,
   "id": "385c8d9a-071a-4740-8233-68f139429a3e",
   "metadata": {},
   "outputs": [
    {
     "name": "stdin",
     "output_type": "stream",
     "text": [
      "Enter your name: baby\n"
     ]
    },
    {
     "name": "stdout",
     "output_type": "stream",
     "text": [
      "baby\n"
     ]
    },
    {
     "name": "stdin",
     "output_type": "stream",
     "text": [
      "Enter total Bill: 10000\n"
     ]
    },
    {
     "name": "stdout",
     "output_type": "stream",
     "text": [
      "10000\n"
     ]
    },
    {
     "name": "stdin",
     "output_type": "stream",
     "text": [
      "Tip you like to pay: 2\n"
     ]
    },
    {
     "name": "stdout",
     "output_type": "stream",
     "text": [
      "2.0\n"
     ]
    },
    {
     "name": "stdin",
     "output_type": "stream",
     "text": [
      "Number of people going to split: 19\n"
     ]
    },
    {
     "name": "stdout",
     "output_type": "stream",
     "text": [
      "The amount each person should pay:$536.85\n",
      "Thank youbaby! \n",
      "We are happy to serve you!\n"
     ]
    }
   ],
   "source": [
    "#Bill Calaculator\n",
    "a=input(\"Enter your name:\")\n",
    "if(a.isalpha()):\n",
    "    print(a)\n",
    "    b=input(\"Enter total Bill:\")\n",
    "    if(b.isdigit()):\n",
    "        bill=int(b)\n",
    "        if(bill>=100):\n",
    "            print(bill)\n",
    "            c=input(\"Tip you like to pay:\")\n",
    "            m=c.replace(\".\",\"\")\n",
    "            if(m.isdigit()):\n",
    "                tip=float(c)\n",
    "                if(tip>0 and tip<50):\n",
    "                    print(tip)\n",
    "                    d=bill*(tip/100)\n",
    "                    e=input(\"Number of people going to split:\")\n",
    "                    if(e.isdigit()):\n",
    "                        people=int(e)\n",
    "                        f=round((d/people),2)\n",
    "                        g=round((bill/people),2)\n",
    "                        if( people<20 and f>5): \n",
    "                            print(f\"The amount each person should pay:${round((g+f),2)}\")\n",
    "                            print(f\"Thank you{a}! \\nWe are happy to serve you!\")\n",
    "                        else:\n",
    "                            print(\"Reduce number of people\")\n",
    "                    else:\n",
    "                        print(\"only digits\")\n",
    "                else:\n",
    "                    print(\"Check your tips amount 0>tips<50\")\n",
    "            else:\n",
    "                print(\"only digits\")\n",
    "        else:\n",
    "            print(\"Min bill is 100\")\n",
    "    else:\n",
    "        print(\"only digits\")\n",
    "else:\n",
    "    print(\"Invalid name\")\n",
    "     \n",
    "        \n",
    "        \n",
    "        \n",
    "           \n",
    "           \n",
    "            \n",
    "                \n",
    "                \n",
    "            \n",
    "            \n",
    "    "
   ]
  },
  {
   "cell_type": "code",
   "execution_count": 10,
   "id": "ff05c993-185e-40af-b222-34b61fbaa035",
   "metadata": {},
   "outputs": [
    {
     "name": "stdin",
     "output_type": "stream",
     "text": [
      "Enter your name san\n"
     ]
    },
    {
     "name": "stdout",
     "output_type": "stream",
     "text": [
      "san,Welcome to Treasure Island.\n",
      "Your mission is to find the treasure.\n",
      "You're at a cross road.\n",
      "Where do you want to go?\n",
      "\n"
     ]
    },
    {
     "name": "stdin",
     "output_type": "stream",
     "text": [
      "left or right? right\n"
     ]
    },
    {
     "name": "stdout",
     "output_type": "stream",
     "text": [
      "You came to a lake. There is an island in the middle of the lake.\n",
      "Type wait to wait for a boat.\n",
      "Or Type swim to swim across.\n",
      "\n"
     ]
    },
    {
     "name": "stdin",
     "output_type": "stream",
     "text": [
      "Boat or Swim swim\n"
     ]
    },
    {
     "name": "stdout",
     "output_type": "stream",
     "text": [
      "You get attacked by crocodile\n",
      "You lost the match!\n"
     ]
    }
   ],
   "source": [
    "# Treasure Hunt\n",
    "name = input(\"Enter your name\")\n",
    "print(f\"{name},Welcome to Treasure Island.\\nYour mission is to find the treasure.\\nYou're at a cross road.\\nWhere do you want to go?\\n\")\n",
    "a=input(\"left or right?\").lower()\n",
    "if(a==\"right\"):\n",
    "    print(\"You came to a lake. There is an island in the middle of the lake.\\nType wait to wait for a boat.\\nOr Type swim to swim across.\\n\")\n",
    "    b=input(\"Boat or Swim\").lower()\n",
    "    if(b.isalpha()):\n",
    "        if(b==\"boat\"):\n",
    "            print(\"You arrive to a greenish island.\\nThere is a house with 3 doors.\\nOne red, one yellow and one blue.\\n Which colour do you choose?\\n\")\n",
    "            c=input(\"Blue or Black or Brown\").title()\n",
    "            if(c.isalpha()):\n",
    "                if(c==\"Black\"):\n",
    "                    print(\"Congratulation! Now it's yours\")\n",
    "                elif(c==\"Blue\"):\n",
    "                    print(\"You got Martyrdom, You lost the match!\")\n",
    "                elif(c==\"Brown\"):\n",
    "                    print(\"you got Agonizing demise, You lost the match!\")\n",
    "                else:\n",
    "                    print(\"Invalid colour\")\n",
    "            else:\n",
    "                print(\"Only alphabets\")\n",
    "        elif(b==\"swim\"):\n",
    "            print(\"You get attacked by crocodile\\nYou lost the match!\")\n",
    "        else:\n",
    "            print(\"Invalid, only boat or swim\")   \n",
    "    else:\n",
    "        print(\"Only alphabets\")\n",
    "elif(a==\"left\"):\n",
    "    print(\"You misrooted in forest\\nGame over!\")\n",
    "else:\n",
    "    print(\"Invalid, only left or right\")\n",
    "    \n",
    "    \n",
    "        \n",
    "        \n",
    "\n",
    "    \n",
    "            \n",
    "            \n",
    "                \n",
    "                \n",
    "        \n",
    "    \n",
    "\n",
    "    \n"
   ]
  },
  {
   "cell_type": "code",
   "execution_count": null,
   "id": "dab4f75b-54e5-4270-bf6c-efeb1da30c61",
   "metadata": {},
   "outputs": [],
   "source": []
  }
 ],
 "metadata": {
  "kernelspec": {
   "display_name": "Python [conda env:base] *",
   "language": "python",
   "name": "conda-base-py"
  },
  "language_info": {
   "codemirror_mode": {
    "name": "ipython",
    "version": 3
   },
   "file_extension": ".py",
   "mimetype": "text/x-python",
   "name": "python",
   "nbconvert_exporter": "python",
   "pygments_lexer": "ipython3",
   "version": "3.13.5"
  }
 },
 "nbformat": 4,
 "nbformat_minor": 5
}
