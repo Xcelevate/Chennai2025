{
 "cells": [
  {
   "cell_type": "code",
   "execution_count": 14,
   "id": "6b319ed5-4841-4ba3-b727-5ed5d26334d6",
   "metadata": {},
   "outputs": [
    {
     "name": "stdin",
     "output_type": "stream",
     "text": [
      "Num of element 5\n",
      "enter a number 1\n"
     ]
    },
    {
     "name": "stdout",
     "output_type": "stream",
     "text": [
      "1\n"
     ]
    },
    {
     "name": "stdin",
     "output_type": "stream",
     "text": [
      "enter a number 2\n"
     ]
    },
    {
     "name": "stdout",
     "output_type": "stream",
     "text": [
      "3\n"
     ]
    },
    {
     "name": "stdin",
     "output_type": "stream",
     "text": [
      "enter a number 3\n"
     ]
    },
    {
     "name": "stdout",
     "output_type": "stream",
     "text": [
      "6\n"
     ]
    },
    {
     "name": "stdin",
     "output_type": "stream",
     "text": [
      "enter a number 9\n"
     ]
    },
    {
     "name": "stdout",
     "output_type": "stream",
     "text": [
      "15\n"
     ]
    },
    {
     "name": "stdin",
     "output_type": "stream",
     "text": [
      "enter a number 7\n"
     ]
    },
    {
     "name": "stdout",
     "output_type": "stream",
     "text": [
      "22\n"
     ]
    }
   ],
   "source": [
    "##### 1. Sum of integers\n",
    "num=int(input(\"Num of element\"))\n",
    "arr=[]\n",
    "for i in range(1,num+1):\n",
    "    arr.append(int(input(\"enter a number\")))\n",
    "    n=sum(arr)\n",
    "    print(n)\n"
   ]
  },
  {
   "cell_type": "code",
   "execution_count": 10,
   "id": "17ebfd99-599c-41a2-b23f-2aee31cc6f1d",
   "metadata": {},
   "outputs": [
    {
     "name": "stdin",
     "output_type": "stream",
     "text": [
      "Enter last num 5\n"
     ]
    },
    {
     "name": "stdout",
     "output_type": "stream",
     "text": [
      "1\n",
      "2\n",
      "fiz\n",
      "4\n"
     ]
    }
   ],
   "source": [
    "#2. FIZBUZ\n",
    "num = input(\"Enter last num\")\n",
    "if(num.isdigit()):\n",
    "    a=int(num)\n",
    "    for i in range(1,a):\n",
    "        if(i%3==0 and i%5==0):\n",
    "            print(\"fizbuz\")\n",
    "        elif(i%3==0):\n",
    "            print(\"fiz\")\n",
    "        elif(i%5==0):\n",
    "            print(\"buz\")\n",
    "        else:\n",
    "            print(i)\n",
    "else:\n",
    "    print(\"enter a number\")\n",
    "    \n",
    "\n",
    "    "
   ]
  },
  {
   "cell_type": "code",
   "execution_count": 5,
   "id": "8b6c8785-59aa-4186-ba8b-90e64e96930c",
   "metadata": {},
   "outputs": [
    {
     "name": "stdin",
     "output_type": "stream",
     "text": [
      "Enter your height 1.6\n",
      "Enter your weight 40\n"
     ]
    },
    {
     "name": "stdout",
     "output_type": "stream",
     "text": [
      "16\n",
      "Underweight\n"
     ]
    }
   ],
   "source": [
    "# 3. BMI\n",
    "height = input(\"Enter your height\")\n",
    "weight = input(\"Enter your weight\")\n",
    "a=height.replace(\".\",\"\")\n",
    "b=weight.replace(\".\",\"\")\n",
    "if(a.isdigit() and b.isdigit()):\n",
    "    h=float(height)\n",
    "    w=float(weight)\n",
    "    bmi = round(w/(h**2))\n",
    "    print(bmi)\n",
    "    if(bmi>30):\n",
    "        print(\"Obese\")\n",
    "    elif(bmi>25):\n",
    "        print(\"overweight\")\n",
    "    elif(bmi>18.5):\n",
    "        print(\"Normal\")\n",
    "    else:\n",
    "        print(\"Underweight\")\n",
    "else:\n",
    "    print(\"Only digits\")\n",
    "\n",
    "\n",
    "\n"
   ]
  },
  {
   "cell_type": "code",
   "execution_count": 15,
   "id": "eba617ba-e5a0-491b-9887-a554065c53b5",
   "metadata": {},
   "outputs": [],
   "source": [
    "\n",
    "    \n",
    "        \n",
    "\n"
   ]
  },
  {
   "cell_type": "code",
   "execution_count": null,
   "id": "5f510596-508d-4470-8808-7ce93013c596",
   "metadata": {},
   "outputs": [],
   "source": []
  }
 ],
 "metadata": {
  "kernelspec": {
   "display_name": "Python [conda env:base] *",
   "language": "python",
   "name": "conda-base-py"
  },
  "language_info": {
   "codemirror_mode": {
    "name": "ipython",
    "version": 3
   },
   "file_extension": ".py",
   "mimetype": "text/x-python",
   "name": "python",
   "nbconvert_exporter": "python",
   "pygments_lexer": "ipython3",
   "version": "3.13.5"
  }
 },
 "nbformat": 4,
 "nbformat_minor": 5
}
