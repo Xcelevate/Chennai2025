{
 "cells": [
  {
   "cell_type": "code",
   "execution_count": 15,
   "id": "d83d2eea-7bd9-4df6-956b-812c5f24c720",
   "metadata": {},
   "outputs": [
    {
     "ename": "OverflowError",
     "evalue": "signed char is greater than maximum",
     "output_type": "error",
     "traceback": [
      "\u001b[1;31m---------------------------------------------------------------------------\u001b[0m",
      "\u001b[1;31mOverflowError\u001b[0m                             Traceback (most recent call last)",
      "Cell \u001b[1;32mIn[15], line 2\u001b[0m\n\u001b[0;32m      1\u001b[0m \u001b[38;5;28;01mimport\u001b[39;00m\u001b[38;5;250m \u001b[39m\u001b[38;5;21;01marray\u001b[39;00m\u001b[38;5;250m \u001b[39m\u001b[38;5;28;01mas\u001b[39;00m\u001b[38;5;250m \u001b[39m\u001b[38;5;21;01marr\u001b[39;00m\n\u001b[1;32m----> 2\u001b[0m m\u001b[38;5;241m=\u001b[39marr\u001b[38;5;241m.\u001b[39marray(\u001b[38;5;124m'\u001b[39m\u001b[38;5;124mb\u001b[39m\u001b[38;5;124m'\u001b[39m,[\u001b[38;5;241m1\u001b[39m,\u001b[38;5;241m600\u001b[39m,\u001b[38;5;241m4\u001b[39m,\u001b[38;5;241m5\u001b[39m])\n\u001b[0;32m      3\u001b[0m \u001b[38;5;28mprint\u001b[39m(m)\n",
      "\u001b[1;31mOverflowError\u001b[0m: signed char is greater than maximum"
     ]
    }
   ],
   "source": [
    "import array as arr\n",
    "m=arr.array('b',[1,600,4,5])\n",
    "print(m)\n"
   ]
  },
  {
   "cell_type": "code",
   "execution_count": 11,
   "id": "dd444600-b95d-4801-a37d-ecfc4939e97e",
   "metadata": {},
   "outputs": [
    {
     "name": "stdout",
     "output_type": "stream",
     "text": [
      "[[1 4]\n",
      " [5 8]]\n"
     ]
    }
   ],
   "source": [
    "import numpy as np\n",
    "m=np.array([[1,4],[5,8]])\n",
    "print(m)\n"
   ]
  },
  {
   "cell_type": "code",
   "execution_count": 12,
   "id": "c16e96d1-bf8e-4680-b527-c513eae4d65e",
   "metadata": {},
   "outputs": [
    {
     "name": "stdout",
     "output_type": "stream",
     "text": [
      "bike\n"
     ]
    }
   ],
   "source": [
    "import random\n",
    "a=[\"car\",\"bike\",\"cycle\"]\n",
    "print(random.choice(a))"
   ]
  },
  {
   "cell_type": "code",
   "execution_count": 22,
   "id": "bdc2dc66-ab7b-41cd-9e17-465b6c72008a",
   "metadata": {},
   "outputs": [
    {
     "data": {
      "text/plain": [
       "['chair', 'sofa', 'bed']"
      ]
     },
     "execution_count": 22,
     "metadata": {},
     "output_type": "execute_result"
    }
   ],
   "source": [
    "import Vettri\n",
    "Vettri.furn\n"
   ]
  },
  {
   "cell_type": "code",
   "execution_count": 23,
   "id": "a640d1fb-d499-43b1-ab23-caddcd363fca",
   "metadata": {},
   "outputs": [
    {
     "data": {
      "text/plain": [
       "'bed'"
      ]
     },
     "execution_count": 23,
     "metadata": {},
     "output_type": "execute_result"
    }
   ],
   "source": [
    "random.choice(Vettri.furn)"
   ]
  },
  {
   "cell_type": "code",
   "execution_count": 28,
   "id": "bfe79cc0-0cbe-40d7-a87e-b724aa3e3b3e",
   "metadata": {},
   "outputs": [
    {
     "data": {
      "text/plain": [
       "'chair'"
      ]
     },
     "execution_count": 28,
     "metadata": {},
     "output_type": "execute_result"
    }
   ],
   "source": [
    "from refPython import Vettri\n",
    "random.choice(Vettri.furn)"
   ]
  },
  {
   "cell_type": "code",
   "execution_count": 30,
   "id": "2ab4fd7e-14a6-4631-8069-2527606ad615",
   "metadata": {},
   "outputs": [
    {
     "name": "stdout",
     "output_type": "stream",
     "text": [
      "bike\n"
     ]
    }
   ],
   "source": [
    "a=[\"car\",\"bike\",\"cycle\"]\n",
    "rand_val = random.randint(0,2)\n",
    "print(a[rand_val])"
   ]
  },
  {
   "cell_type": "code",
   "execution_count": 52,
   "id": "672831fb-9cd7-4646-8927-5fc4c307b0a0",
   "metadata": {},
   "outputs": [
    {
     "name": "stdout",
     "output_type": "stream",
     "text": [
      "<class 'list'>\n",
      "banana\n",
      "[['poatato', 'tomato', 'onion', 'turnip', 'capsicum'], ['mango', 'banana', 'jack']]\n"
     ]
    }
   ],
   "source": [
    "#Nested lists\n",
    "fruits = [\"mango\", \"banana\",\"jack\"]\n",
    "veg = [\"poatato\",\"tomato\",\"onion\",\"turnip\",\"capsicum\"]\n",
    "dirty_dozex =[veg,fruits]\n",
    "print(type(dirty_dozex))\n",
    "print(dirty_dozex[1][1])\n",
    "print(random.sample(dirty_dozex,2))"
   ]
  },
  {
   "cell_type": "code",
   "execution_count": 35,
   "id": "09f94f6a-1054-439a-98b8-0a1f57fe5d20",
   "metadata": {},
   "outputs": [
    {
     "name": "stdin",
     "output_type": "stream",
     "text": [
      " 0\n",
      " 2\n"
     ]
    },
    {
     "name": "stdout",
     "output_type": "stream",
     "text": [
      "jack\n"
     ]
    }
   ],
   "source": [
    "print(dirty_dozex[int(input())][int(input())])"
   ]
  },
  {
   "cell_type": "code",
   "execution_count": 42,
   "id": "65cdadce-1755-48b5-a52b-f341d6b2dc13",
   "metadata": {},
   "outputs": [
    {
     "name": "stdin",
     "output_type": "stream",
     "text": [
      " 1\n",
      " 4\n"
     ]
    },
    {
     "name": "stdout",
     "output_type": "stream",
     "text": [
      "index out of bound\n"
     ]
    }
   ],
   "source": [
    "val1=int(input())\n",
    "val2=int(input())\n",
    "if(0<=val1<len(dirty_dozex)):\n",
    "    if(val2==0 and 0<=val2<len(fruits)):\n",
    "        print(dirty_dozex[val1][val2])\n",
    "    elif(val2==1 and 0<=val2<len(veg)):\n",
    "        print(dirty_dozex[val1][val2])\n",
    "    else:\n",
    "        print(\"index out of bound\")\n",
    "else:\n",
    "    print(\"index out of bound\")"
   ]
  },
  {
   "cell_type": "code",
   "execution_count": 38,
   "id": "5af5e61c-d616-4de5-8ff5-93386835cf8f",
   "metadata": {},
   "outputs": [
    {
     "name": "stdout",
     "output_type": "stream",
     "text": [
      "poatato\n",
      "poatatohalwa\n",
      "tomato\n",
      "tomatohalwa\n",
      "onion\n",
      "onionhalwa\n"
     ]
    }
   ],
   "source": [
    "for vegtables in veg:\n",
    "    print(vegtables)\n",
    "    print(vegtables+\"halwa\")"
   ]
  },
  {
   "cell_type": "code",
   "execution_count": 53,
   "id": "4d406948-f816-4f57-b15b-c5e3a3dcd04a",
   "metadata": {},
   "outputs": [
    {
     "name": "stdout",
     "output_type": "stream",
     "text": [
      "poatatohalwa\n",
      "tomatohalwa\n",
      "onionhalwa\n",
      "turniphalwa\n",
      "capsicumhalwa\n",
      "mangohalwa\n",
      "bananahalwa\n",
      "jackhalwa\n"
     ]
    }
   ],
   "source": [
    "for i in dirty_dozex:\n",
    "    for vegtables in i:\n",
    "        print(vegtables + \"halwa\")"
   ]
  },
  {
   "cell_type": "code",
   "execution_count": 55,
   "id": "14b4cff7-8f9d-4d94-b97b-2c0915964f8d",
   "metadata": {},
   "outputs": [
    {
     "ename": "TypeError",
     "evalue": "'list' object is not callable",
     "output_type": "error",
     "traceback": [
      "\u001b[1;31m---------------------------------------------------------------------------\u001b[0m",
      "\u001b[1;31mTypeError\u001b[0m                                 Traceback (most recent call last)",
      "Cell \u001b[1;32mIn[55], line 2\u001b[0m\n\u001b[0;32m      1\u001b[0m \u001b[38;5;28;01mfor\u001b[39;00m index \u001b[38;5;129;01min\u001b[39;00m \u001b[38;5;28mrange\u001b[39m(\u001b[38;5;28mlen\u001b[39m(dirty_dozex)):\n\u001b[1;32m----> 2\u001b[0m     \u001b[38;5;28;01mfor\u001b[39;00m fruits \u001b[38;5;129;01min\u001b[39;00m dirty_dozex(index):\n\u001b[0;32m      3\u001b[0m         \u001b[38;5;28mprint\u001b[39m(vegtables \u001b[38;5;241m+\u001b[39m \u001b[38;5;124m\"\u001b[39m\u001b[38;5;124mhalwa\u001b[39m\u001b[38;5;124m\"\u001b[39m)\n",
      "\u001b[1;31mTypeError\u001b[0m: 'list' object is not callable"
     ]
    }
   ],
   "source": [
    "for index in range(len(dirty_dozex)):\n",
    "    for fruits in dirty_dozex(index):\n",
    "        print(vegtables + \"halwa\")\n",
    "        "
   ]
  },
  {
   "cell_type": "code",
   "execution_count": 59,
   "id": "67877c48-f19b-4179-8e85-93735ec3ce78",
   "metadata": {},
   "outputs": [
    {
     "name": "stdout",
     "output_type": "stream",
     "text": [
      "L\n",
      "I\n",
      "S\n",
      "T\n",
      "E\n",
      "N\n"
     ]
    }
   ],
   "source": [
    "word='LISTEN'\n",
    "charlist=[]\n",
    "for i in word:\n",
    "    print(i)\n",
    "    charlist.append(i)\n",
    "    "
   ]
  },
  {
   "cell_type": "code",
   "execution_count": null,
   "id": "9b1a9af4-e2bc-482a-8e57-f74a5a90aa30",
   "metadata": {},
   "outputs": [],
   "source": []
  }
 ],
 "metadata": {
  "kernelspec": {
   "display_name": "Python [conda env:base] *",
   "language": "python",
   "name": "conda-base-py"
  },
  "language_info": {
   "codemirror_mode": {
    "name": "ipython",
    "version": 3
   },
   "file_extension": ".py",
   "mimetype": "text/x-python",
   "name": "python",
   "nbconvert_exporter": "python",
   "pygments_lexer": "ipython3",
   "version": "3.13.5"
  }
 },
 "nbformat": 4,
 "nbformat_minor": 5
}
