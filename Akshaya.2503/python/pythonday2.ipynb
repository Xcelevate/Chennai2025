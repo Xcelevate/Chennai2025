{
 "cells": [
  {
   "cell_type": "code",
   "execution_count": 4,
   "id": "3606df90-9116-482b-aea7-3e133071074b",
   "metadata": {},
   "outputs": [
    {
     "data": {
      "text/plain": [
       "30"
      ]
     },
     "execution_count": 4,
     "metadata": {},
     "output_type": "execute_result"
    }
   ],
   "source": [
    "import random\n",
    "randInt=random.randint(10,100)\n",
    "randInt"
   ]
  },
  {
   "cell_type": "code",
   "execution_count": 6,
   "id": "63bf78a5-dd86-4abc-83a7-e618a9057e4c",
   "metadata": {},
   "outputs": [
    {
     "data": {
      "text/plain": [
       "462"
      ]
     },
     "execution_count": 6,
     "metadata": {},
     "output_type": "execute_result"
    }
   ],
   "source": [
    "import random\n",
    "randInt=random.randint(50,500)\n",
    "randInt"
   ]
  },
  {
   "cell_type": "code",
   "execution_count": 11,
   "id": "9e54027a-bd19-4c48-a269-b3dd69c1f235",
   "metadata": {},
   "outputs": [
    {
     "data": {
      "text/plain": [
       "4.89"
      ]
     },
     "execution_count": 11,
     "metadata": {},
     "output_type": "execute_result"
    }
   ],
   "source": [
    "import Akshaya\n",
    "Akshaya.number\n"
   ]
  },
  {
   "cell_type": "code",
   "execution_count": 28,
   "id": "e891f270-1ee2-427f-a801-52d0a4ffbcfa",
   "metadata": {},
   "outputs": [
    {
     "data": {
      "text/plain": [
       "0"
      ]
     },
     "execution_count": 28,
     "metadata": {},
     "output_type": "execute_result"
    }
   ],
   "source": [
    "import random\n",
    "randInt=round(random.random())\n",
    "randInt"
   ]
  },
  {
   "cell_type": "code",
   "execution_count": 26,
   "id": "6204a71a-0093-4f14-8c0e-b7155f4e59ae",
   "metadata": {},
   "outputs": [
    {
     "data": {
      "text/plain": [
       "3.652"
      ]
     },
     "execution_count": 26,
     "metadata": {},
     "output_type": "execute_result"
    }
   ],
   "source": [
    "randf=round(random.uniform(1,10),3)\n",
    "randf"
   ]
  },
  {
   "cell_type": "code",
   "execution_count": 41,
   "id": "82f09bfa-c719-4ba1-a8b3-57bdb2573e6d",
   "metadata": {},
   "outputs": [
    {
     "name": "stdout",
     "output_type": "stream",
     "text": [
      "tails\n"
     ]
    }
   ],
   "source": [
    "randb=random.randint(0,1)\n",
    "if(randb==1):\n",
    "    print(\"head\")\n",
    "else:\n",
    "    print(\"tails\")"
   ]
  },
  {
   "cell_type": "code",
   "execution_count": 47,
   "id": "16aed74e-4dfa-4165-82f6-09656cc0bd04",
   "metadata": {},
   "outputs": [
    {
     "data": {
      "text/plain": [
       "False"
      ]
     },
     "execution_count": 47,
     "metadata": {},
     "output_type": "execute_result"
    }
   ],
   "source": [
    "not(True or ((True & False) & (False & True)& False))"
   ]
  },
  {
   "cell_type": "code",
   "execution_count": 48,
   "id": "50be99cb-c218-4273-a919-ea9d59b2728b",
   "metadata": {},
   "outputs": [
    {
     "data": {
      "text/plain": [
       "True"
      ]
     },
     "execution_count": 48,
     "metadata": {},
     "output_type": "execute_result"
    }
   ],
   "source": [
    "not(False or ((True & False) & (False & True)& False))"
   ]
  },
  {
   "cell_type": "code",
   "execution_count": 49,
   "id": "c0d66342-9692-4f9f-982c-65193fbccf86",
   "metadata": {},
   "outputs": [
    {
     "data": {
      "text/plain": [
       "True"
      ]
     },
     "execution_count": 49,
     "metadata": {},
     "output_type": "execute_result"
    }
   ],
   "source": [
    "not (False or ((True and False) and (False and True) and False))\n"
   ]
  },
  {
   "cell_type": "code",
   "execution_count": 68,
   "id": "2eb6d92f-ba98-4dbd-8af2-0f5e8b662242",
   "metadata": {},
   "outputs": [
    {
     "name": "stdin",
     "output_type": "stream",
     "text": [
      "enter a value1: j\n",
      "enter a value2: \n"
     ]
    },
    {
     "name": "stdout",
     "output_type": "stream",
     "text": [
      "True\n"
     ]
    }
   ],
   "source": [
    "A=bool(input(\"enter a value1:\"))\n",
    "B=bool(input(\"enter a value2:\"))\n",
    "C=(A or B) and not (A and B)\n",
    "print(C)"
   ]
  },
  {
   "cell_type": "code",
   "execution_count": 63,
   "id": "6ebb687a-4fa7-4a2c-9c82-a23fc74cb2ce",
   "metadata": {},
   "outputs": [
    {
     "name": "stdin",
     "output_type": "stream",
     "text": [
      "enter a value1: t\n",
      "enter a value2: t\n"
     ]
    },
    {
     "name": "stdout",
     "output_type": "stream",
     "text": [
      "True\n"
     ]
    }
   ],
   "source": [
    "A=bool(input(\"enter a value1:\"))\n",
    "B=bool(input(\"enter a value2:\"))\n",
    "C=(A and B) or (B and not A)\n",
    "print(C)"
   ]
  },
  {
   "cell_type": "code",
   "execution_count": 72,
   "id": "8068db00-f2d2-4920-a657-6543e6bf1701",
   "metadata": {},
   "outputs": [
    {
     "name": "stdin",
     "output_type": "stream",
     "text": [
      "enter a value1: \n",
      "enter a value2: h\n"
     ]
    },
    {
     "name": "stdout",
     "output_type": "stream",
     "text": [
      "False\n",
      "True\n",
      "True\n"
     ]
    }
   ],
   "source": [
    "A=bool(input(\"enter a value1:\"))\n",
    "B=bool(input(\"enter a value2:\"))\n",
    "print(A)\n",
    "print(B)\n",
    "C=not(A and B)\n",
    "print(C)"
   ]
  },
  {
   "cell_type": "code",
   "execution_count": 73,
   "id": "2340fe74-76a4-4dc4-a63d-25b0f101f661",
   "metadata": {},
   "outputs": [
    {
     "name": "stdin",
     "output_type": "stream",
     "text": [
      "enter a value1: T\n",
      "enter a value2: \n"
     ]
    },
    {
     "name": "stdout",
     "output_type": "stream",
     "text": [
      "True\n",
      "False\n",
      "False\n"
     ]
    }
   ],
   "source": [
    "A=bool(input(\"enter a value1:\"))\n",
    "B=bool(input(\"enter a value2:\"))\n",
    "print(A)\n",
    "print(B)\n",
    "C=not(A or B)\n",
    "print(C)"
   ]
  },
  {
   "cell_type": "code",
   "execution_count": 75,
   "id": "bff1978c-0d7d-4c02-acc0-909a9d8f6c5e",
   "metadata": {},
   "outputs": [
    {
     "data": {
      "text/plain": [
       "False"
      ]
     },
     "execution_count": 75,
     "metadata": {},
     "output_type": "execute_result"
    }
   ],
   "source": [
    "not((2!=3) and (4<6)) or ((6!=7)and (8<2))"
   ]
  },
  {
   "cell_type": "code",
   "execution_count": 79,
   "id": "43ff654b-dfb3-48c5-902e-9ae67cee20d7",
   "metadata": {},
   "outputs": [
    {
     "name": "stdin",
     "output_type": "stream",
     "text": [
      "enter a number: 67\n"
     ]
    },
    {
     "name": "stdout",
     "output_type": "stream",
     "text": [
      "odd number\n"
     ]
    }
   ],
   "source": [
    "A=bool(input(\"enter a value1:\"))\n",
    "B=bool(input(\"enter a value2:\"))\n",
    "print(A)\n",
    "print(B)\n",
    "C=not(A and B)\n",
    "print(C)"
   ]
  },
  {
   "cell_type": "code",
   "execution_count": 87,
   "id": "f6049057-35e7-4532-a404-ed5891313b9b",
   "metadata": {},
   "outputs": [
    {
     "name": "stdin",
     "output_type": "stream",
     "text": [
      "Enter 1: -45\n",
      "Enter 2: 34\n"
     ]
    },
    {
     "name": "stdout",
     "output_type": "stream",
     "text": [
      "34\n"
     ]
    }
   ],
   "source": [
    "A=int(input(\"Enter 1:\"))\n",
    "B=int(input(\"Enter 2:\"))\n",
    "if(A>B):\n",
    "    print(A)\n",
    "elif(A<B):\n",
    "    print(B)\n",
    "else:\n",
    "    print(\"A equal to B\")"
   ]
  },
  {
   "cell_type": "code",
   "execution_count": 98,
   "id": "1b5a825b-287b-43f1-804b-0ab9bab08faa",
   "metadata": {},
   "outputs": [
    {
     "name": "stdin",
     "output_type": "stream",
     "text": [
      "enter marks 40000\n"
     ]
    },
    {
     "name": "stdout",
     "output_type": "stream",
     "text": [
      "invalid\n"
     ]
    }
   ],
   "source": [
    "A=int(input(\"enter marks\"))\n",
    "if(A>0 and A<=100):\n",
    "    if(A>=90):\n",
    "        print(\"A+\")\n",
    "    elif(A>=75 and A<90):\n",
    "        print(\"A\")\n",
    "    elif(A>=60 and A<75):\n",
    "        print(\"B\")\n",
    "    elif(A>=45 and A<60):\n",
    "        print(\"C\")\n",
    "    else:\n",
    "        print(\"Fail\")\n",
    "else:\n",
    "    print(\"invalid\")\n"
   ]
  },
  {
   "cell_type": "code",
   "execution_count": 107,
   "id": "e6895c0d-a374-49fd-a4ed-870c4152435b",
   "metadata": {},
   "outputs": [
    {
     "name": "stdin",
     "output_type": "stream",
     "text": [
      "enter any word akshaya\n"
     ]
    },
    {
     "name": "stdout",
     "output_type": "stream",
     "text": [
      "It is not a pallindrome\n"
     ]
    }
   ],
   "source": [
    "name=str(input(\"enter any word\"))\n",
    "name2=name[: :-1]\n",
    "if(name==name2):\n",
    "    print(\"It is pallindrome\")\n",
    "else:\n",
    "    print(\"It is not a pallindrome\")"
   ]
  },
  {
   "cell_type": "code",
   "execution_count": 118,
   "id": "c3332e97-4ac7-4023-b608-211d1da10214",
   "metadata": {},
   "outputs": [
    {
     "name": "stdin",
     "output_type": "stream",
     "text": [
      "enter any number 345\n"
     ]
    },
    {
     "name": "stdout",
     "output_type": "stream",
     "text": [
      "It is not a pallindrome\n"
     ]
    }
   ],
   "source": [
    "num1=int(input(\"enter any number\"))\n",
    "num2=int(str(num1)[::-1])\n",
    "if(num1==num2):\n",
    "    print(\"It is pallindrome\")\n",
    "else:\n",
    "    print(\"It is not a pallindrome\")"
   ]
  },
  {
   "cell_type": "markdown",
   "id": "ee113656-e3b8-4146-bec8-c44f3240f329",
   "metadata": {},
   "source": [
    "n1=\"Akshaya\"\n",
    "n2=\"9787530126\"\n",
    "print(n1.isalpha())\n",
    "print(n2.isdigit())\n",
    "print(n1.startswith(\"Ak\"))"
   ]
  },
  {
   "cell_type": "code",
   "execution_count": 5,
   "id": "246564ac-cb7d-41b3-a967-acf6b73bb1b3",
   "metadata": {},
   "outputs": [
    {
     "name": "stdout",
     "output_type": "stream",
     "text": [
      "True\n",
      "True\n",
      "True\n"
     ]
    }
   ],
   "source": [
    "n1=\"Akshaya\"\n",
    "n2=\"9787530126\" \n",
    "print(n1.isalpha())\n",
    "print(n2.isdigit()) \n",
    "print(n1.startswith(\"Ak\"))\n",
    "\n"
   ]
  },
  {
   "cell_type": "code",
   "execution_count": 7,
   "id": "e0b45537-a728-4821-b0a7-1ccdf3f5c697",
   "metadata": {},
   "outputs": [
    {
     "name": "stdout",
     "output_type": "stream",
     "text": [
      "False\n"
     ]
    }
   ],
   "source": [
    "num=\"indians\"\n",
    "print(num.startswith(\"d\"))"
   ]
  },
  {
   "cell_type": "code",
   "execution_count": 8,
   "id": "56204888-9438-4cf4-80a4-ef756ee3962c",
   "metadata": {},
   "outputs": [
    {
     "ename": "TypeError",
     "evalue": "startswith expected at least 1 argument, got 0",
     "output_type": "error",
     "traceback": [
      "\u001b[1;31m---------------------------------------------------------------------------\u001b[0m",
      "\u001b[1;31mTypeError\u001b[0m                                 Traceback (most recent call last)",
      "Cell \u001b[1;32mIn[8], line 2\u001b[0m\n\u001b[0;32m      1\u001b[0m num\u001b[38;5;241m=\u001b[39m\u001b[38;5;124m\"\u001b[39m\u001b[38;5;124mindians\u001b[39m\u001b[38;5;124m\"\u001b[39m\n\u001b[1;32m----> 2\u001b[0m \u001b[38;5;28mprint\u001b[39m(num\u001b[38;5;241m.\u001b[39mstartswith())\n",
      "\u001b[1;31mTypeError\u001b[0m: startswith expected at least 1 argument, got 0"
     ]
    }
   ],
   "source": [
    "num=\"indians\"\n",
    "print(num.startswith())"
   ]
  },
  {
   "cell_type": "code",
   "execution_count": 13,
   "id": "72082682-6804-4177-bd79-80dadf3341d5",
   "metadata": {},
   "outputs": [
    {
     "data": {
      "text/plain": [
       "True"
      ]
     },
     "execution_count": 13,
     "metadata": {},
     "output_type": "execute_result"
    }
   ],
   "source": [
    "pword=\"231976\"\n",
    "pword.isalnum()"
   ]
  },
  {
   "cell_type": "code",
   "execution_count": 24,
   "id": "283eb08d-5bb1-473f-b2a1-ba58d3d0b87b",
   "metadata": {},
   "outputs": [
    {
     "name": "stdout",
     "output_type": "stream",
     "text": [
      "True\n"
     ]
    }
   ],
   "source": [
    "text=\"myfile.pdf\"\n",
    "print(text.endswith((\".txt\" ,\".pdf\")))\n"
   ]
  },
  {
   "cell_type": "code",
   "execution_count": 60,
   "id": "2a9e72e2-071e-4ab4-8d7b-43a45d1ababf",
   "metadata": {},
   "outputs": [
    {
     "name": "stdin",
     "output_type": "stream",
     "text": [
      "enter a year 2100\n"
     ]
    },
    {
     "name": "stdout",
     "output_type": "stream",
     "text": [
      "not a leap year\n"
     ]
    }
   ],
   "source": [
    "a=input(\"enter a year\")\n",
    "if a.isdigit():\n",
    "    year=int(a)\n",
    "    if(year>999):\n",
    "        if(year%400==0 or year%4==0 and year%100!=0):\n",
    "            print(\"This is leap year\")\n",
    "        else:\n",
    "            print(\"not a leap year\")\n",
    "    else:\n",
    "        print(\"invalid\")\n",
    "else:\n",
    "    print(\"invalid\")\n"
   ]
  },
  {
   "cell_type": "code",
   "execution_count": 94,
   "id": "ed51577d-1cf5-45d7-8e6d-ee8368759ad7",
   "metadata": {},
   "outputs": [
    {
     "name": "stdin",
     "output_type": "stream",
     "text": [
      "enter side1: 2\n",
      "enter side2: 2\n",
      "enter side3: 5\n"
     ]
    },
    {
     "name": "stdout",
     "output_type": "stream",
     "text": [
      "not a traingle\n"
     ]
    }
   ],
   "source": [
    "n1=input(\"enter side1:\")\n",
    "n2=input(\"enter side2:\")\n",
    "n3=input(\"enter side3:\")\n",
    "if n1 and n2 and n3.isdigit():\n",
    "    s1=round(float(n1))\n",
    "    s2=round(float(n2))\n",
    "    s3=round(float(n3))\n",
    "if(s1+s2>s3 and s1+s3>s2 and s2+s3>s1):\n",
    "    if(s1==s2 or s2==s3 and s1!=s3):\n",
    "        print(\"Isosceles triangle\")\n",
    "    elif(s1==s2 and s2==s3) :\n",
    "        print(\"equilateral triangle\")\n",
    "    else:\n",
    "        print(\"scalene triangle\")\n",
    "else:\n",
    "    print(\"not a traingle\")"
   ]
  },
  {
   "cell_type": "code",
   "execution_count": null,
   "id": "a770f300-c2a2-4146-a898-f5eefd6305ad",
   "metadata": {},
   "outputs": [],
   "source": []
  }
 ],
 "metadata": {
  "kernelspec": {
   "display_name": "Python [conda env:base] *",
   "language": "python",
   "name": "conda-base-py"
  },
  "language_info": {
   "codemirror_mode": {
    "name": "ipython",
    "version": 3
   },
   "file_extension": ".py",
   "mimetype": "text/x-python",
   "name": "python",
   "nbconvert_exporter": "python",
   "pygments_lexer": "ipython3",
   "version": "3.13.5"
  }
 },
 "nbformat": 4,
 "nbformat_minor": 5
}
