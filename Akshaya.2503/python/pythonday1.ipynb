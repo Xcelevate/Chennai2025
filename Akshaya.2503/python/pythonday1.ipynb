{
 "cells": [
  {
   "cell_type": "code",
   "execution_count": 1,
   "id": "d64f598a-ade8-4e71-8d12-dec7a5ec2ff3",
   "metadata": {},
   "outputs": [
    {
     "name": "stdout",
     "output_type": "stream",
     "text": [
      "hello\n"
     ]
    }
   ],
   "source": [
    "print(\"hello\")"
   ]
  },
  {
   "cell_type": "code",
   "execution_count": 2,
   "id": "ada41b76-467b-4aee-927a-81d75b5e1c0e",
   "metadata": {},
   "outputs": [
    {
     "ename": "SyntaxError",
     "evalue": "unterminated string literal (detected at line 1) (661946227.py, line 1)",
     "output_type": "error",
     "traceback": [
      "\u001b[1;36m  Cell \u001b[1;32mIn[2], line 1\u001b[1;36m\u001b[0m\n\u001b[1;33m    print(hello\")\u001b[0m\n\u001b[1;37m               ^\u001b[0m\n\u001b[1;31mSyntaxError\u001b[0m\u001b[1;31m:\u001b[0m unterminated string literal (detected at line 1)\n"
     ]
    }
   ],
   "source": [
    "print(hello\")"
   ]
  },
  {
   "cell_type": "code",
   "execution_count": 3,
   "id": "55a6050b-3d52-4ebc-b2fd-b6a5eb10cad0",
   "metadata": {},
   "outputs": [
    {
     "ename": "SyntaxError",
     "evalue": "unterminated string literal (detected at line 1) (391948405.py, line 1)",
     "output_type": "error",
     "traceback": [
      "\u001b[1;36m  Cell \u001b[1;32mIn[3], line 1\u001b[1;36m\u001b[0m\n\u001b[1;33m    print(\"hello)\u001b[0m\n\u001b[1;37m          ^\u001b[0m\n\u001b[1;31mSyntaxError\u001b[0m\u001b[1;31m:\u001b[0m unterminated string literal (detected at line 1)\n"
     ]
    }
   ],
   "source": [
    "print(\"hello)\n"
   ]
  },
  {
   "cell_type": "code",
   "execution_count": 4,
   "id": "1a174ed2-016d-4dfe-b3bc-317a023fbc10",
   "metadata": {},
   "outputs": [
    {
     "name": "stdout",
     "output_type": "stream",
     "text": [
      "Mix 500g of flour,10g yeast and 300ml water in a bowl.\n",
      "Knead the dough for 16 minutes\n",
      "Add 3g of salt\n",
      "Leave to rise for 2 hours.\n",
      "Bake at 200 degrees C for 30 minutes.\n"
     ]
    }
   ],
   "source": [
    "print(\"Mix 500g of flour,10g yeast and 300ml water in a bowl.\")\n",
    "print(\"Knead the dough for 16 minutes\")\n",
    "print(\"Add 3g of salt\")\n",
    "print(\"Leave to rise for 2 hours.\")\n",
    "print(\"Bake at 200 degrees C for 30 minutes.\")"
   ]
  },
  {
   "cell_type": "code",
   "execution_count": 5,
   "id": "874e0e46-5fa2-49f2-be8b-3f5380020f3b",
   "metadata": {},
   "outputs": [
    {
     "ename": "SyntaxError",
     "evalue": "unterminated string literal (detected at line 1) (844828167.py, line 1)",
     "output_type": "error",
     "traceback": [
      "\u001b[1;36m  Cell \u001b[1;32mIn[5], line 1\u001b[1;36m\u001b[0m\n\u001b[1;33m    print(\"1.Mix 500g of flour,10g yeast and 300ml water in a bowl.\u001b[0m\n\u001b[1;37m          ^\u001b[0m\n\u001b[1;31mSyntaxError\u001b[0m\u001b[1;31m:\u001b[0m unterminated string literal (detected at line 1)\n"
     ]
    }
   ],
   "source": [
    "print(\"1.Mix 500g of flour,10g yeast and 300ml water in a bowl.\n",
    "       2.Knead the dough for 16 minutes.\n",
    "       3.Add 3g of salt.\n",
    "       4.Leave to rise for 2 hours.\n",
    "       5.Bake at 200 degrees C for 30 minutes.\")"
   ]
  },
  {
   "cell_type": "code",
   "execution_count": 6,
   "id": "c8447f7d-fff5-489a-bf29-609f341f4898",
   "metadata": {},
   "outputs": [
    {
     "name": "stdout",
     "output_type": "stream",
     "text": [
      "1.Mix 500g of flour,10g yeast and 300ml water in a bowl.\n",
      "2.Knead the dough for 16 minutes\n",
      "3.Add 3g of salt\n",
      "4.Leave to rise for 2 hours.\n",
      "5.Bake at 200 degrees C for 30 minutes.\n"
     ]
    }
   ],
   "source": [
    "print(\"1.Mix 500g of flour,10g yeast and 300ml water in a bowl.\")\n",
    "print(\"2.Knead the dough for 16 minutes\")\n",
    "print(\"3.Add 3g of salt\")\n",
    "print(\"4.Leave to rise for 2 hours.\")\n",
    "print(\"5.Bake at 200 degrees C for 30 minutes.\")"
   ]
  },
  {
   "cell_type": "code",
   "execution_count": 7,
   "id": "39a59e56-5810-4eb0-85af-0f1a22fd558a",
   "metadata": {},
   "outputs": [
    {
     "name": "stdout",
     "output_type": "stream",
     "text": [
      "helloworld\n"
     ]
    }
   ],
   "source": [
    "print(\"hello\"+\"world\")\n"
   ]
  },
  {
   "cell_type": "code",
   "execution_count": 8,
   "id": "822efe0f-c746-45b8-96ea-ef9d47c2b43e",
   "metadata": {},
   "outputs": [
    {
     "name": "stdout",
     "output_type": "stream",
     "text": [
      "helloworld\n"
     ]
    }
   ],
   "source": [
    "print(\"hello\"+\"world\")"
   ]
  },
  {
   "cell_type": "code",
   "execution_count": 9,
   "id": "74737ad4-9434-4381-8023-02f90272be3c",
   "metadata": {},
   "outputs": [
    {
     "name": "stdout",
     "output_type": "stream",
     "text": [
      "hello world\n"
     ]
    }
   ],
   "source": [
    "print(\"hello\"+\" \" +\"world\")"
   ]
  },
  {
   "cell_type": "code",
   "execution_count": 10,
   "id": "58471034-bb99-4a60-a267-32c7e3a2fa4b",
   "metadata": {},
   "outputs": [
    {
     "name": "stdout",
     "output_type": "stream",
     "text": [
      "The print statement is used to output string\n"
     ]
    }
   ],
   "source": [
    " print(\"The print statement is used to output string\")"
   ]
  },
  {
   "cell_type": "code",
   "execution_count": 11,
   "id": "6e87e6b0-d3b2-4e5d-8c09-40dc8d05e0c9",
   "metadata": {},
   "outputs": [
    {
     "ename": "_IncompleteInputError",
     "evalue": "incomplete input (1964368206.py, line 2)",
     "output_type": "error",
     "traceback": [
      "\u001b[1;36m  Cell \u001b[1;32mIn[11], line 2\u001b[1;36m\u001b[0m\n\u001b[1;33m    print(\"strings are strings of characters\"\u001b[0m\n\u001b[1;37m                                             ^\u001b[0m\n\u001b[1;31m_IncompleteInputError\u001b[0m\u001b[1;31m:\u001b[0m incomplete input\n"
     ]
    }
   ],
   "source": [
    "print(\"The print statement is used to display whatever we need to print\")\n",
    "print(\"strings are strings of characters\""
   ]
  },
  {
   "cell_type": "code",
   "execution_count": 12,
   "id": "474b8321-d8e5-4f2f-b7fd-ac352ca8ea9f",
   "metadata": {},
   "outputs": [
    {
     "ename": "NameError",
     "evalue": "name 'priint' is not defined",
     "output_type": "error",
     "traceback": [
      "\u001b[1;31m---------------------------------------------------------------------------\u001b[0m",
      "\u001b[1;31mNameError\u001b[0m                                 Traceback (most recent call last)",
      "Cell \u001b[1;32mIn[12], line 1\u001b[0m\n\u001b[1;32m----> 1\u001b[0m priint(\u001b[38;5;124m\"\u001b[39m\u001b[38;5;124mconcatenation is done with the + sign\u001b[39m\u001b[38;5;124m\"\u001b[39m)\n",
      "\u001b[1;31mNameError\u001b[0m: name 'priint' is not defined"
     ]
    }
   ],
   "source": [
    "priint(\"concatenation is done with the + sign\")"
   ]
  },
  {
   "cell_type": "code",
   "execution_count": 13,
   "id": "d4c8338e-1422-4281-96d6-614d387fc0fc",
   "metadata": {},
   "outputs": [
    {
     "ename": "SyntaxError",
     "evalue": "unterminated string literal (detected at line 1) (581858535.py, line 1)",
     "output_type": "error",
     "traceback": [
      "\u001b[1;36m  Cell \u001b[1;32mIn[13], line 1\u001b[1;36m\u001b[0m\n\u001b[1;33m    print(\"New lines can be created with a\\ and a letter n\u001b[0m\n\u001b[1;37m          ^\u001b[0m\n\u001b[1;31mSyntaxError\u001b[0m\u001b[1;31m:\u001b[0m unterminated string literal (detected at line 1)\n"
     ]
    }
   ],
   "source": [
    "print(\"New lines can be created with a\\ and a letter n"
   ]
  },
  {
   "cell_type": "code",
   "execution_count": 14,
   "id": "264fed6b-379c-4d45-9a0e-e9be58142b5e",
   "metadata": {},
   "outputs": [
    {
     "ename": "NameError",
     "evalue": "name 'invalid' is not defined",
     "output_type": "error",
     "traceback": [
      "\u001b[1;31m---------------------------------------------------------------------------\u001b[0m",
      "\u001b[1;31mNameError\u001b[0m                                 Traceback (most recent call last)",
      "Cell \u001b[1;32mIn[14], line 1\u001b[0m\n\u001b[1;32m----> 1\u001b[0m invalid(\u001b[38;5;124m\"\u001b[39m\u001b[38;5;124m1\u001b[39m\u001b[38;5;124m\"\u001b[39m)\n",
      "\u001b[1;31mNameError\u001b[0m: name 'invalid' is not defined"
     ]
    }
   ],
   "source": [
    "invalid(\"1\")"
   ]
  },
  {
   "cell_type": "code",
   "execution_count": 15,
   "id": "9f633116-5193-424d-8948-b937546c4230",
   "metadata": {},
   "outputs": [
    {
     "name": "stdin",
     "output_type": "stream",
     "text": [
      "1 akshaya\n"
     ]
    },
    {
     "data": {
      "text/plain": [
       "'akshaya'"
      ]
     },
     "execution_count": 15,
     "metadata": {},
     "output_type": "execute_result"
    }
   ],
   "source": [
    "input(\"1\")"
   ]
  },
  {
   "cell_type": "code",
   "execution_count": 16,
   "id": "69988eda-df10-43b9-968b-8861979252a0",
   "metadata": {},
   "outputs": [
    {
     "data": {
      "text/plain": [
       "\u001b[1;31mSignature:\u001b[0m \u001b[0minput\u001b[0m\u001b[1;33m(\u001b[0m\u001b[0mprompt\u001b[0m\u001b[1;33m=\u001b[0m\u001b[1;34m''\u001b[0m\u001b[1;33m)\u001b[0m\u001b[1;33m\u001b[0m\u001b[1;33m\u001b[0m\u001b[0m\n",
       "\u001b[1;31mDocstring:\u001b[0m\n",
       "Forward raw_input to frontends\n",
       "\n",
       "Raises\n",
       "------\n",
       "StdinNotImplementedError if active frontend doesn't support stdin.\n",
       "\u001b[1;31mFile:\u001b[0m      c:\\users\\user one\\anaconda3\\lib\\site-packages\\ipykernel\\kernelbase.py\n",
       "\u001b[1;31mType:\u001b[0m      method"
      ]
     },
     "metadata": {},
     "output_type": "display_data"
    }
   ],
   "source": [
    "input?"
   ]
  },
  {
   "cell_type": "code",
   "execution_count": null,
   "id": "a6512b65-4c8e-4389-a8a5-0374b55f7cfc",
   "metadata": {},
   "outputs": [],
   "source": [
    "print(\"hello\"+ input(\"what is your name\"))"
   ]
  },
  {
   "cell_type": "code",
   "execution_count": null,
   "id": "de835b76-fd57-460d-a52b-3e62f0af9222",
   "metadata": {},
   "outputs": [],
   "source": [
    "nsme = input(\"what is your name\")"
   ]
  },
  {
   "cell_type": "code",
   "execution_count": null,
   "id": "06b1cec5-3abf-4f98-9b01-c96141e16966",
   "metadata": {},
   "outputs": [],
   "source": [
    "a=input(\"akshaya\")"
   ]
  },
  {
   "cell_type": "code",
   "execution_count": 1,
   "id": "a977ade0-f5d5-48df-8a1e-d6d99f9470ea",
   "metadata": {},
   "outputs": [
    {
     "name": "stdin",
     "output_type": "stream",
     "text": [
      "put your name Akshaya\n"
     ]
    },
    {
     "data": {
      "text/plain": [
       "7"
      ]
     },
     "execution_count": 1,
     "metadata": {},
     "output_type": "execute_result"
    }
   ],
   "source": [
    "len(input(\"put your name\"))"
   ]
  },
  {
   "cell_type": "code",
   "execution_count": 2,
   "id": "22d3f911-6bf4-439f-a69d-71655ec49bf3",
   "metadata": {},
   "outputs": [],
   "source": [
    "glass1=\"milk\"\n",
    "glass2=\"juice\"\n"
   ]
  },
  {
   "cell_type": "code",
   "execution_count": 3,
   "id": "c2bf3875-19a1-4457-aaa1-acb7e7508b95",
   "metadata": {},
   "outputs": [],
   "source": [
    "temp=glass1\n",
    "glass1=glass2\n",
    "glass2=temp"
   ]
  },
  {
   "cell_type": "code",
   "execution_count": 4,
   "id": "b8a9aec9-43e5-4c91-9a4a-edbdc5d94ebd",
   "metadata": {},
   "outputs": [
    {
     "name": "stdout",
     "output_type": "stream",
     "text": [
      "juice\n",
      "milk\n"
     ]
    }
   ],
   "source": [
    "print(glass1)\n",
    "print(glass2)"
   ]
  },
  {
   "cell_type": "code",
   "execution_count": 5,
   "id": "77fca4d2-48d4-4e42-bb08-5f98dcfc4ddd",
   "metadata": {},
   "outputs": [
    {
     "ename": "TypeError",
     "evalue": "object of type 'int' has no len()",
     "output_type": "error",
     "traceback": [
      "\u001b[1;31m---------------------------------------------------------------------------\u001b[0m",
      "\u001b[1;31mTypeError\u001b[0m                                 Traceback (most recent call last)",
      "Cell \u001b[1;32mIn[5], line 1\u001b[0m\n\u001b[1;32m----> 1\u001b[0m \u001b[38;5;28mlen\u001b[39m(\u001b[38;5;241m123\u001b[39m)\n",
      "\u001b[1;31mTypeError\u001b[0m: object of type 'int' has no len()"
     ]
    }
   ],
   "source": [
    "len(123)"
   ]
  },
  {
   "cell_type": "code",
   "execution_count": 6,
   "id": "c8b2080c-322d-4322-b3eb-8fb02f2d0181",
   "metadata": {},
   "outputs": [
    {
     "name": "stdout",
     "output_type": "stream",
     "text": [
      "h\n"
     ]
    }
   ],
   "source": [
    "str=\"hello\"\n",
    "print(str[0])"
   ]
  },
  {
   "cell_type": "code",
   "execution_count": 16,
   "id": "45e44e4f-7224-4b1d-938a-47b48c06f85f",
   "metadata": {},
   "outputs": [
    {
     "name": "stdout",
     "output_type": "stream",
     "text": [
      "hl\n"
     ]
    }
   ],
   "source": [
    "print(str[:4:2])"
   ]
  },
  {
   "cell_type": "code",
   "execution_count": 17,
   "id": "9f10e870-d3c1-4c72-942a-53931a0c6754",
   "metadata": {},
   "outputs": [
    {
     "name": "stdout",
     "output_type": "stream",
     "text": [
      "l\n"
     ]
    }
   ],
   "source": [
    "print(str[2:4:2])"
   ]
  },
  {
   "cell_type": "code",
   "execution_count": 18,
   "id": "ea40609f-d404-47ad-bc66-e9fb87ef7e01",
   "metadata": {},
   "outputs": [
    {
     "name": "stdout",
     "output_type": "stream",
     "text": [
      "\n"
     ]
    }
   ],
   "source": [
    "print(str[2:1:2])"
   ]
  },
  {
   "cell_type": "code",
   "execution_count": 19,
   "id": "0d80d0c3-7b36-497d-8cb8-5be8afd32492",
   "metadata": {},
   "outputs": [
    {
     "name": "stdout",
     "output_type": "stream",
     "text": [
      "o\n"
     ]
    }
   ],
   "source": [
    "print(str[-1:])"
   ]
  },
  {
   "cell_type": "code",
   "execution_count": 24,
   "id": "666e9d90-bb13-4434-92a3-01b71686a606",
   "metadata": {},
   "outputs": [
    {
     "name": "stdout",
     "output_type": "stream",
     "text": [
      "o\n"
     ]
    }
   ],
   "source": [
    "print(str[-1:])"
   ]
  },
  {
   "cell_type": "code",
   "execution_count": 36,
   "id": "2bb3ded6-d702-45b2-9027-09d971d8eaae",
   "metadata": {},
   "outputs": [
    {
     "name": "stdout",
     "output_type": "stream",
     "text": [
      "hello\n"
     ]
    }
   ],
   "source": [
    "str=\"hello\"\n",
    "print(str[: :1])"
   ]
  },
  {
   "cell_type": "code",
   "execution_count": 38,
   "id": "b84ad8bf-df1b-4189-9744-d01902c34128",
   "metadata": {},
   "outputs": [
    {
     "name": "stdout",
     "output_type": "stream",
     "text": [
      "12 3456 556876\n"
     ]
    }
   ],
   "source": [
    "print(12,3456,556876)"
   ]
  },
  {
   "cell_type": "code",
   "execution_count": 39,
   "id": "8f7107e2-7098-484a-a3ab-877b0e7c42b9",
   "metadata": {},
   "outputs": [
    {
     "data": {
      "text/plain": [
       "str"
      ]
     },
     "execution_count": 39,
     "metadata": {},
     "output_type": "execute_result"
    }
   ],
   "source": [
    "type(\"hello\")\n"
   ]
  },
  {
   "cell_type": "code",
   "execution_count": 40,
   "id": "213c60c0-39e5-4d29-81fd-74ac5db0e9bb",
   "metadata": {},
   "outputs": [
    {
     "data": {
      "text/plain": [
       "int"
      ]
     },
     "execution_count": 40,
     "metadata": {},
     "output_type": "execute_result"
    }
   ],
   "source": [
    "type(11324)"
   ]
  },
  {
   "cell_type": "code",
   "execution_count": 41,
   "id": "092f482d-e9e8-445a-89b0-d88c141f7cdb",
   "metadata": {},
   "outputs": [
    {
     "data": {
      "text/plain": [
       "\u001b[1;31mInit signature:\u001b[0m \u001b[0mtype\u001b[0m\u001b[1;33m(\u001b[0m\u001b[0mself\u001b[0m\u001b[1;33m,\u001b[0m \u001b[1;33m/\u001b[0m\u001b[1;33m,\u001b[0m \u001b[1;33m*\u001b[0m\u001b[0margs\u001b[0m\u001b[1;33m,\u001b[0m \u001b[1;33m**\u001b[0m\u001b[0mkwargs\u001b[0m\u001b[1;33m)\u001b[0m\u001b[1;33m\u001b[0m\u001b[1;33m\u001b[0m\u001b[0m\n",
       "\u001b[1;31mDocstring:\u001b[0m     \n",
       "type(object) -> the object's type\n",
       "type(name, bases, dict, **kwds) -> a new type\n",
       "\u001b[1;31mType:\u001b[0m           type\n",
       "\u001b[1;31mSubclasses:\u001b[0m     ABCMeta, EnumType, _AnyMeta, NamedTupleMeta, _TypedDictMeta, _ABC, MetaHasDescriptors, CType_Type, _TzSingleton, _TzFactory, ..."
      ]
     },
     "metadata": {},
     "output_type": "display_data"
    }
   ],
   "source": [
    "type?"
   ]
  },
  {
   "cell_type": "code",
   "execution_count": 42,
   "id": "1652ae6e-c733-4e71-90c3-8f295379830a",
   "metadata": {},
   "outputs": [
    {
     "name": "stdout",
     "output_type": "stream",
     "text": [
      "579\n"
     ]
    }
   ],
   "source": [
    "print(int(\"123\")+int(\"456\"))"
   ]
  },
  {
   "cell_type": "code",
   "execution_count": 44,
   "id": "554ec788-41a4-400f-99b4-cffadc957785",
   "metadata": {},
   "outputs": [
    {
     "ename": "ValueError",
     "evalue": "invalid literal for int() with base 10: 'abc'",
     "output_type": "error",
     "traceback": [
      "\u001b[1;31m---------------------------------------------------------------------------\u001b[0m",
      "\u001b[1;31mValueError\u001b[0m                                Traceback (most recent call last)",
      "Cell \u001b[1;32mIn[44], line 1\u001b[0m\n\u001b[1;32m----> 1\u001b[0m \u001b[38;5;28mprint\u001b[39m(\u001b[38;5;28mint\u001b[39m(\u001b[38;5;124m\"\u001b[39m\u001b[38;5;124mabc\u001b[39m\u001b[38;5;124m\"\u001b[39m)\u001b[38;5;241m+\u001b[39m\u001b[38;5;241m123\u001b[39m)\n",
      "\u001b[1;31mValueError\u001b[0m: invalid literal for int() with base 10: 'abc'"
     ]
    }
   ],
   "source": [
    "print(int(\"abc\")+123)"
   ]
  },
  {
   "cell_type": "code",
   "execution_count": 2,
   "id": "58d8de57-6b0b-44ab-a608-6e317dad17f4",
   "metadata": {},
   "outputs": [
    {
     "name": "stdin",
     "output_type": "stream",
     "text": [
      "name akshaya\n"
     ]
    },
    {
     "name": "stdout",
     "output_type": "stream",
     "text": [
      "length of the name: 7\n"
     ]
    }
   ],
   "source": [
    "print(\"length of the name: \" + str(len(input(\"name\"))))"
   ]
  },
  {
   "cell_type": "code",
   "execution_count": 4,
   "id": "1e65948c-a10a-4899-83c1-5d87e7203b1a",
   "metadata": {},
   "outputs": [
    {
     "name": "stdout",
     "output_type": "stream",
     "text": [
      "7.0\n"
     ]
    }
   ],
   "source": [
    "print(3*3+3/3-3)\n"
   ]
  },
  {
   "cell_type": "code",
   "execution_count": 5,
   "id": "a2510444-ea8b-4888-b336-afb4befd00e7",
   "metadata": {},
   "outputs": [
    {
     "name": "stdout",
     "output_type": "stream",
     "text": [
      "7\n"
     ]
    }
   ],
   "source": [
    "print(int(3*3+3/3-3))"
   ]
  },
  {
   "cell_type": "code",
   "execution_count": 6,
   "id": "73a43e7a-7e25-4cfc-82b6-08e8ebb67d0c",
   "metadata": {},
   "outputs": [
    {
     "name": "stdout",
     "output_type": "stream",
     "text": [
      "3.0\n"
     ]
    }
   ],
   "source": [
    "print(3*(3+3)/3-3)"
   ]
  },
  {
   "cell_type": "code",
   "execution_count": 11,
   "id": "99a01a36-5844-47bd-b54a-607945cb0d0f",
   "metadata": {},
   "outputs": [],
   "source": [
    "height=1.65\n",
    "weight=84\n",
    "bmi=weight/height**2"
   ]
  },
  {
   "cell_type": "code",
   "execution_count": 12,
   "id": "32cabc94-6d55-403a-a893-40a6314133d2",
   "metadata": {},
   "outputs": [
    {
     "name": "stdout",
     "output_type": "stream",
     "text": [
      "30.85399449035813\n"
     ]
    }
   ],
   "source": [
    "print(bmi)"
   ]
  },
  {
   "cell_type": "code",
   "execution_count": 14,
   "id": "62cbf10c-88fd-4edf-b5c3-dbdae8d229e3",
   "metadata": {},
   "outputs": [
    {
     "data": {
      "text/plain": [
       "30.85"
      ]
     },
     "execution_count": 14,
     "metadata": {},
     "output_type": "execute_result"
    }
   ],
   "source": [
    "round(bmi,2)"
   ]
  },
  {
   "cell_type": "code",
   "execution_count": 15,
   "id": "84118c54-3ac2-4113-affb-6880e3194e15",
   "metadata": {},
   "outputs": [
    {
     "name": "stdin",
     "output_type": "stream",
     "text": [
      "enter weight: 1.65\n",
      "enter height: 456\n"
     ]
    },
    {
     "ename": "TypeError",
     "evalue": "unsupported operand type(s) for /: 'str' and 'str'",
     "output_type": "error",
     "traceback": [
      "\u001b[1;31m---------------------------------------------------------------------------\u001b[0m",
      "\u001b[1;31mTypeError\u001b[0m                                 Traceback (most recent call last)",
      "Cell \u001b[1;32mIn[15], line 3\u001b[0m\n\u001b[0;32m      1\u001b[0m weight\u001b[38;5;241m=\u001b[39m\u001b[38;5;28minput\u001b[39m(\u001b[38;5;124m\"\u001b[39m\u001b[38;5;124menter weight:\u001b[39m\u001b[38;5;124m\"\u001b[39m)\n\u001b[0;32m      2\u001b[0m height\u001b[38;5;241m=\u001b[39m\u001b[38;5;28minput\u001b[39m(\u001b[38;5;124m\"\u001b[39m\u001b[38;5;124menter height:\u001b[39m\u001b[38;5;124m\"\u001b[39m)\n\u001b[1;32m----> 3\u001b[0m bmi\u001b[38;5;241m=\u001b[39mweight\u001b[38;5;241m/\u001b[39mheight\u001b[38;5;241m*\u001b[39mheight\n\u001b[0;32m      4\u001b[0m \u001b[38;5;28mprint\u001b[39m(bmi)\n",
      "\u001b[1;31mTypeError\u001b[0m: unsupported operand type(s) for /: 'str' and 'str'"
     ]
    }
   ],
   "source": [
    "weight=input(\"enter weight:\")\n",
    "height=input(\"enter height:\")\n",
    "bmi=weight/height*height\n",
    "print(bmi)\n"
   ]
  },
  {
   "cell_type": "code",
   "execution_count": 16,
   "id": "a423d463-12a0-4c4e-8d2b-581f5e1ce56d",
   "metadata": {},
   "outputs": [
    {
     "ename": "SyntaxError",
     "evalue": "invalid syntax (3666014962.py, line 1)",
     "output_type": "error",
     "traceback": [
      "\u001b[1;36m  Cell \u001b[1;32mIn[16], line 1\u001b[1;36m\u001b[0m\n\u001b[1;33m    f print(\"this is my pen\")\u001b[0m\n\u001b[1;37m      ^\u001b[0m\n\u001b[1;31mSyntaxError\u001b[0m\u001b[1;31m:\u001b[0m invalid syntax\n"
     ]
    }
   ],
   "source": [
    "f print(\"this is my pen\")\n"
   ]
  },
  {
   "cell_type": "code",
   "execution_count": 17,
   "id": "c6cdcaf4-8ce6-43db-afa9-99716978924a",
   "metadata": {},
   "outputs": [
    {
     "ename": "SyntaxError",
     "evalue": "Missing parentheses in call to 'print'. Did you mean print(...)? (1575735551.py, line 1)",
     "output_type": "error",
     "traceback": [
      "\u001b[1;36m  Cell \u001b[1;32mIn[17], line 1\u001b[1;36m\u001b[0m\n\u001b[1;33m    print f(\"this is akshaya\")\u001b[0m\n\u001b[1;37m    ^\u001b[0m\n\u001b[1;31mSyntaxError\u001b[0m\u001b[1;31m:\u001b[0m Missing parentheses in call to 'print'. Did you mean print(...)?\n"
     ]
    }
   ],
   "source": [
    "print f(\"this is akshaya\")"
   ]
  },
  {
   "cell_type": "code",
   "execution_count": 19,
   "id": "bf6a6ba9-cf8e-4f95-89db-f10d9d39770b",
   "metadata": {},
   "outputs": [
    {
     "name": "stdout",
     "output_type": "stream",
     "text": [
      "this is my one\n"
     ]
    }
   ],
   "source": [
    "print(f\"this is my one\")"
   ]
  },
  {
   "cell_type": "code",
   "execution_count": 20,
   "id": "12afe2c7-1e14-440b-b7b7-eb53ecc9eb39",
   "metadata": {},
   "outputs": [
    {
     "name": "stdout",
     "output_type": "stream",
     "text": [
      "hello Akshaya age 21\n"
     ]
    }
   ],
   "source": [
    "name=\"Akshaya\"\n",
    "age=21\n",
    "print(f\"hello {name} age {age}\")"
   ]
  },
  {
   "cell_type": "code",
   "execution_count": 21,
   "id": "95c52c99-dfb0-4192-9521-091f0783a9aa",
   "metadata": {},
   "outputs": [
    {
     "name": "stdin",
     "output_type": "stream",
     "text": [
      "what is ur name ?  akshaya\n",
      "enter ur name:  21\n"
     ]
    },
    {
     "name": "stdout",
     "output_type": "stream",
     "text": [
      "hello akshayaage21\n"
     ]
    }
   ],
   "source": [
    "name=input(\"what is ur name ? \")\n",
    "age=input(\"enter ur name: \")\n",
    "print(\"hello \"+ name+\"age\" + age)"
   ]
  },
  {
   "cell_type": "code",
   "execution_count": 22,
   "id": "59bebfa6-b00c-4113-91ba-5bf20441bd13",
   "metadata": {},
   "outputs": [
    {
     "ename": "SyntaxError",
     "evalue": "invalid syntax (932440972.py, line 1)",
     "output_type": "error",
     "traceback": [
      "\u001b[1;36m  Cell \u001b[1;32mIn[22], line 1\u001b[1;36m\u001b[0m\n\u001b[1;33m    print (10%%2)\u001b[0m\n\u001b[1;37m              ^\u001b[0m\n\u001b[1;31mSyntaxError\u001b[0m\u001b[1;31m:\u001b[0m invalid syntax\n"
     ]
    }
   ],
   "source": [
    "print (10%%2)"
   ]
  },
  {
   "cell_type": "code",
   "execution_count": 23,
   "id": "c1033869-b969-412b-b88a-a08a815c4638",
   "metadata": {},
   "outputs": [
    {
     "data": {
      "text/plain": [
       "2"
      ]
     },
     "execution_count": 23,
     "metadata": {},
     "output_type": "execute_result"
    }
   ],
   "source": [
    "10//5"
   ]
  },
  {
   "cell_type": "code",
   "execution_count": 29,
   "id": "fc6e3fc0-3496-4e26-812c-063ae9e495b2",
   "metadata": {},
   "outputs": [],
   "source": [
    "name=\" aKsHaYa muRugaiyan \" "
   ]
  },
  {
   "cell_type": "code",
   "execution_count": 27,
   "id": "cb6942f5-bb59-4e75-aa6b-9cecb488ffb2",
   "metadata": {},
   "outputs": [
    {
     "name": "stdout",
     "output_type": "stream",
     "text": [
      "akshaya murugaiyan\n",
      "Akshaya murugaiyan\n",
      "Akshaya Murugaiyan\n",
      "AkShAyA MUrUGAIYAN\n"
     ]
    }
   ],
   "source": [
    "print(name.lower())\n",
    "print(name.capitalize())\n",
    "print(name.title())\n",
    "print(name.swapcase())"
   ]
  },
  {
   "cell_type": "code",
   "execution_count": 16,
   "id": "d296db0d-da28-455b-878b-c227bb760526",
   "metadata": {},
   "outputs": [
    {
     "ename": "NameError",
     "evalue": "name 'name' is not defined",
     "output_type": "error",
     "traceback": [
      "\u001b[1;31m---------------------------------------------------------------------------\u001b[0m",
      "\u001b[1;31mNameError\u001b[0m                                 Traceback (most recent call last)",
      "Cell \u001b[1;32mIn[16], line 1\u001b[0m\n\u001b[1;32m----> 1\u001b[0m \u001b[38;5;28mprint\u001b[39m(name\u001b[38;5;241m.\u001b[39mstrip())\n",
      "\u001b[1;31mNameError\u001b[0m: name 'name' is not defined"
     ]
    }
   ],
   "source": [
    "print(name.strip())"
   ]
  },
  {
   "cell_type": "code",
   "execution_count": 23,
   "id": "7059bd6d-1f78-46e9-bb5f-64a61419e43a",
   "metadata": {},
   "outputs": [],
   "source": [
    "text=(\"I love python programming.\\n python is not a snake\")"
   ]
  },
  {
   "cell_type": "code",
   "execution_count": 18,
   "id": "8091df12-7d6b-4123-8fd5-320cac0cae6a",
   "metadata": {},
   "outputs": [
    {
     "ename": "AttributeError",
     "evalue": "'str' object has no attribute 'findall'",
     "output_type": "error",
     "traceback": [
      "\u001b[1;31m---------------------------------------------------------------------------\u001b[0m",
      "\u001b[1;31mAttributeError\u001b[0m                            Traceback (most recent call last)",
      "Cell \u001b[1;32mIn[18], line 1\u001b[0m\n\u001b[1;32m----> 1\u001b[0m \u001b[38;5;28mprint\u001b[39m(text\u001b[38;5;241m.\u001b[39mfindall(\u001b[38;5;124m\"\u001b[39m\u001b[38;5;124mpython\u001b[39m\u001b[38;5;124m\"\u001b[39m,\u001b[38;5;241m10\u001b[39m))\n",
      "\u001b[1;31mAttributeError\u001b[0m: 'str' object has no attribute 'findall'"
     ]
    }
   ],
   "source": [
    "print(text.findall(\"python\",10))"
   ]
  },
  {
   "cell_type": "code",
   "execution_count": 19,
   "id": "7cb44621-ff83-477b-a189-b37150ff95c2",
   "metadata": {},
   "outputs": [],
   "source": [
    "t"
   ]
  },
  {
   "cell_type": "code",
   "execution_count": 20,
   "id": "8c7a1c18-4247-4530-9b74-eaf323a1f231",
   "metadata": {},
   "outputs": [
    {
     "name": "stdout",
     "output_type": "stream",
     "text": [
      "I love java programming.\n",
      " java is not a snake\n"
     ]
    }
   ],
   "source": [
    "print(text)"
   ]
  },
  {
   "cell_type": "code",
   "execution_count": 24,
   "id": "f9fd3d4d-13cb-4051-96c2-ab8e04aeac5c",
   "metadata": {},
   "outputs": [
    {
     "ename": "AttributeError",
     "evalue": "'str' object has no attribute 'lfind'",
     "output_type": "error",
     "traceback": [
      "\u001b[1;31m---------------------------------------------------------------------------\u001b[0m",
      "\u001b[1;31mAttributeError\u001b[0m                            Traceback (most recent call last)",
      "Cell \u001b[1;32mIn[24], line 1\u001b[0m\n\u001b[1;32m----> 1\u001b[0m \u001b[38;5;28mprint\u001b[39m(text\u001b[38;5;241m.\u001b[39mlfind(\u001b[38;5;124m\"\u001b[39m\u001b[38;5;124mpython\u001b[39m\u001b[38;5;124m\"\u001b[39m))\n",
      "\u001b[1;31mAttributeError\u001b[0m: 'str' object has no attribute 'lfind'"
     ]
    }
   ],
   "source": [
    "print(text.lfind(\"python\"))"
   ]
  },
  {
   "cell_type": "code",
   "execution_count": 25,
   "id": "da22d842-de77-4b15-9358-372f74291d2c",
   "metadata": {},
   "outputs": [
    {
     "data": {
      "text/plain": [
       "0.0"
      ]
     },
     "execution_count": 25,
     "metadata": {},
     "output_type": "execute_result"
    }
   ],
   "source": [
    "round(3.147832,-3)"
   ]
  },
  {
   "cell_type": "markdown",
   "id": "eea6b443-b633-4535-bd3b-d3c65d253634",
   "metadata": {},
   "source": []
  }
 ],
 "metadata": {
  "kernelspec": {
   "display_name": "Python [conda env:base] *",
   "language": "python",
   "name": "conda-base-py"
  },
  "language_info": {
   "codemirror_mode": {
    "name": "ipython",
    "version": 3
   },
   "file_extension": ".py",
   "mimetype": "text/x-python",
   "name": "python",
   "nbconvert_exporter": "python",
   "pygments_lexer": "ipython3",
   "version": "3.13.5"
  }
 },
 "nbformat": 4,
 "nbformat_minor": 5
}
