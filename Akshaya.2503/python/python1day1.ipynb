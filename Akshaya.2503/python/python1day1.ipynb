{
 "cells": [
  {
   "cell_type": "code",
   "execution_count": 3,
   "id": "15dad5cc-439c-4eab-ab21-64c067458e23",
   "metadata": {},
   "outputs": [],
   "source": []
  },
  {
   "cell_type": "raw",
   "id": "585f22be-d3ff-4d0d-91f5-655fcea9d555",
   "metadata": {},
   "source": [
    "import re\n",
    "text=\"I love python.python is not a snake.I like python.\"\n",
    "words=re.findall(r'python',text)\n",
    "iteration = re.finditer(r'python',text)\n",
    "print(words)"
   ]
  },
  {
   "cell_type": "code",
   "execution_count": 4,
   "id": "af7eac43-508c-43e5-84cc-26fea4f9e87d",
   "metadata": {},
   "outputs": [
    {
     "name": "stdout",
     "output_type": "stream",
     "text": [
      "['python', 'python', 'python']\n"
     ]
    }
   ],
   "source": [
    "import re\n",
    "text=\"I love python.python is not a snake.I like python.\"\n",
    "words=re.findall(r'python',text)\n",
    "iteration = re.finditer(r'python',text)\n",
    "print(words)"
   ]
  },
  {
   "cell_type": "code",
   "execution_count": 5,
   "id": "f5f254c3-5326-452f-9016-4224f3e5a8f5",
   "metadata": {},
   "outputs": [
    {
     "name": "stdout",
     "output_type": "stream",
     "text": [
      "<callable_iterator object at 0x000002522B3EB880>\n"
     ]
    }
   ],
   "source": [
    "print(iteration)"
   ]
  },
  {
   "cell_type": "code",
   "execution_count": 12,
   "id": "be9e889d-471d-42e2-8a96-52438a2a350f",
   "metadata": {},
   "outputs": [
    {
     "name": "stdin",
     "output_type": "stream",
     "text": [
      "enter a name1:  happy\n",
      "enter name2 :  anniversary\n"
     ]
    },
    {
     "name": "stdout",
     "output_type": "stream",
     "text": [
      "your title is HAPPYVERSARY\n"
     ]
    }
   ],
   "source": [
    "name1=input(\"enter a name1: \")\n",
    "name2=input(\"enter name2 : \")\n",
    "topic=name1[0:5].upper()+name2[4:].upper()\n",
    "print(\"your title is \" + topic)\n"
   ]
  },
  {
   "cell_type": "code",
   "execution_count": 13,
   "id": "367ee3f7-8504-4cc7-9440-42e2408f457f",
   "metadata": {},
   "outputs": [
    {
     "ename": "NameError",
     "evalue": "name 'name' is not defined",
     "output_type": "error",
     "traceback": [
      "\u001b[1;31m---------------------------------------------------------------------------\u001b[0m",
      "\u001b[1;31mNameError\u001b[0m                                 Traceback (most recent call last)",
      "Cell \u001b[1;32mIn[13], line 1\u001b[0m\n\u001b[1;32m----> 1\u001b[0m \u001b[38;5;28mprint\u001b[39m(\u001b[38;5;124m\"\u001b[39m\u001b[38;5;124mname:\u001b[39m\u001b[38;5;132;01m{}\u001b[39;00m\u001b[38;5;124m age:\u001b[39m\u001b[38;5;132;01m{}\u001b[39;00m\u001b[38;5;124m\"\u001b[39m\u001b[38;5;241m.\u001b[39mformat(name,age))\n",
      "\u001b[1;31mNameError\u001b[0m: name 'name' is not defined"
     ]
    }
   ],
   "source": [
    "print(\"name:{} age:{}\".format(name,age))"
   ]
  },
  {
   "cell_type": "code",
   "execution_count": null,
   "id": "b1a84e46-2339-453a-a4e7-77658cd86346",
   "metadata": {},
   "outputs": [],
   "source": [
    "name=input(\"enter a name:\")\n",
    "age=input(\"enter your age:\")\n",
    "print(\"name:{} age:{}\".format(name,age))"
   ]
  },
  {
   "cell_type": "code",
   "execution_count": 2,
   "id": "47bb39f1-f0a1-4718-8eaa-8fdc70149de1",
   "metadata": {},
   "outputs": [
    {
     "name": "stdout",
     "output_type": "stream",
     "text": [
      "I_ _l_o_v_e_ _t_h_a_l_a_p_a_t_h_y_ _v_i_j_a_y_.\n"
     ]
    }
   ],
   "source": [
    "text=\"I love thalapathy vijay.\"\n",
    "words=text.split(\" \")\n",
    "splits=\"_\".join(text)\n",
    "print(splits)"
   ]
  },
  {
   "cell_type": "code",
   "execution_count": 25,
   "id": "7ef5bfea-2039-43de-a25a-f953efaf4be1",
   "metadata": {},
   "outputs": [
    {
     "name": "stdout",
     "output_type": "stream",
     "text": [
      "<built-in method join of str object at 0x000002522C5A4080>\n"
     ]
    }
   ],
   "source": [
    "print(text.join)"
   ]
  },
  {
   "cell_type": "code",
   "execution_count": 4,
   "id": "d679e47b-2652-4891-b4c2-261a70d5282c",
   "metadata": {},
   "outputs": [
    {
     "name": "stdout",
     "output_type": "stream",
     "text": [
      "I/ /l/o/v/e/ /t/h/a/l/a/p/a/t/h/y/ /v/i/j/a/y/.\n"
     ]
    }
   ],
   "source": [
    "text=\"I love thalapathy vijay.\"\n",
    "words=text.split(\" \")\n",
    "splits=\"/\".join(text)\n",
    "print(splits)"
   ]
  },
  {
   "cell_type": "code",
   "execution_count": 11,
   "id": "631b9fd7-d213-4830-8201-18f2738e1350",
   "metadata": {},
   "outputs": [
    {
     "name": "stdout",
     "output_type": "stream",
     "text": [
      "******xcelevate\n"
     ]
    }
   ],
   "source": [
    "name=\"xcelevate\"\n",
    "print(name.rjust(15,'*'))"
   ]
  },
  {
   "cell_type": "code",
   "execution_count": null,
   "id": "b1316425-e4c3-4f90-9d85-043282d7207e",
   "metadata": {},
   "outputs": [],
   "source": []
  }
 ],
 "metadata": {
  "kernelspec": {
   "display_name": "Python [conda env:base] *",
   "language": "python",
   "name": "conda-base-py"
  },
  "language_info": {
   "codemirror_mode": {
    "name": "ipython",
    "version": 3
   },
   "file_extension": ".py",
   "mimetype": "text/x-python",
   "name": "python",
   "nbconvert_exporter": "python",
   "pygments_lexer": "ipython3",
   "version": "3.13.5"
  }
 },
 "nbformat": 4,
 "nbformat_minor": 5
}
