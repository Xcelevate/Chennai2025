{
 "cells": [
  {
   "cell_type": "code",
   "execution_count": 3,
   "id": "28778632-629c-4b84-8a2e-fff791c23f93",
   "metadata": {},
   "outputs": [
    {
     "name": "stdout",
     "output_type": "stream",
     "text": [
      "array('i', [1, 2, 3, 4, 5])\n",
      "1\n"
     ]
    }
   ],
   "source": [
    "import array as arr\n",
    "my_array=arr.array('i',[1,2,3,4,5])\n",
    "print(my_array)\n",
    "print(my_array[0])"
   ]
  },
  {
   "cell_type": "code",
   "execution_count": 4,
   "id": "50e4ed30-a50e-4f75-9e30-c34027dbfd74",
   "metadata": {},
   "outputs": [
    {
     "name": "stdout",
     "output_type": "stream",
     "text": [
      "array('i', [1, 2, 3, 4, 5, 6])\n"
     ]
    }
   ],
   "source": [
    "my_array.append(6)\n",
    "print(my_array)"
   ]
  },
  {
   "cell_type": "code",
   "execution_count": 8,
   "id": "67ac1522-695d-40cf-9e08-d070b0fd448e",
   "metadata": {},
   "outputs": [
    {
     "name": "stdout",
     "output_type": "stream",
     "text": [
      "[1 2 3 4]\n",
      "[2 4 6 8]\n",
      "[[1 2]\n",
      " [3 4]]\n"
     ]
    }
   ],
   "source": [
    "import numpy as np\n",
    "numpy_array=np.array([1,2,3,4])\n",
    "print(numpy_array)\n",
    "print(numpy_array*2)\n",
    "multi_dim_array=np.array([[1,2],[3,4]])\n",
    "print(multi_dim_array)"
   ]
  },
  {
   "cell_type": "code",
   "execution_count": 6,
   "id": "96e99eb0-177f-41d3-bbd9-c9898b885355",
   "metadata": {},
   "outputs": [
    {
     "name": "stdout",
     "output_type": "stream",
     "text": [
      "array('I', [1, 2, 3, 4, 5])\n",
      "1\n"
     ]
    }
   ],
   "source": [
    "import array as arr\n",
    "my_array=arr.array('I',[1,2,3,4,5])\n",
    "print(my_array)\n",
    "print(my_array[0])"
   ]
  },
  {
   "cell_type": "code",
   "execution_count": 7,
   "id": "d33ab208-17ac-41c2-850b-c0becf58f22e",
   "metadata": {},
   "outputs": [
    {
     "ename": "OverflowError",
     "evalue": "can't convert negative value to unsigned int",
     "output_type": "error",
     "traceback": [
      "\u001b[1;31m---------------------------------------------------------------------------\u001b[0m",
      "\u001b[1;31mOverflowError\u001b[0m                             Traceback (most recent call last)",
      "Cell \u001b[1;32mIn[7], line 2\u001b[0m\n\u001b[0;32m      1\u001b[0m \u001b[38;5;28;01mimport\u001b[39;00m\u001b[38;5;250m \u001b[39m\u001b[38;5;21;01marray\u001b[39;00m\u001b[38;5;250m \u001b[39m\u001b[38;5;28;01mas\u001b[39;00m\u001b[38;5;250m \u001b[39m\u001b[38;5;21;01marr\u001b[39;00m\n\u001b[1;32m----> 2\u001b[0m my_array\u001b[38;5;241m=\u001b[39marr\u001b[38;5;241m.\u001b[39marray(\u001b[38;5;124m'\u001b[39m\u001b[38;5;124mI\u001b[39m\u001b[38;5;124m'\u001b[39m,[\u001b[38;5;241m-\u001b[39m\u001b[38;5;241m1\u001b[39m,\u001b[38;5;241m-\u001b[39m\u001b[38;5;241m2\u001b[39m,\u001b[38;5;241m-\u001b[39m\u001b[38;5;241m3\u001b[39m,\u001b[38;5;241m-\u001b[39m\u001b[38;5;241m4\u001b[39m,\u001b[38;5;241m-\u001b[39m\u001b[38;5;241m5\u001b[39m])\n\u001b[0;32m      3\u001b[0m \u001b[38;5;28mprint\u001b[39m(my_array)\n\u001b[0;32m      4\u001b[0m \u001b[38;5;28mprint\u001b[39m(my_array[\u001b[38;5;241m0\u001b[39m])\n",
      "\u001b[1;31mOverflowError\u001b[0m: can't convert negative value to unsigned int"
     ]
    }
   ],
   "source": [
    "import array as arr\n",
    "my_array=arr.array('I',[-1,-2,-3,-4,-5])\n",
    "print(my_array)\n",
    "print(my_array[0])"
   ]
  },
  {
   "cell_type": "code",
   "execution_count": 9,
   "id": "5404cc03-b4c0-4a39-a8e0-996377f4fb72",
   "metadata": {},
   "outputs": [
    {
     "name": "stdout",
     "output_type": "stream",
     "text": [
      "1\n"
     ]
    }
   ],
   "source": [
    "import random\n",
    "arr=[1,2,3,4]\n",
    "print(random.choice(arr))"
   ]
  },
  {
   "cell_type": "code",
   "execution_count": 10,
   "id": "7571ca19-dc32-4c17-acc3-02507eaa4108",
   "metadata": {},
   "outputs": [
    {
     "name": "stdout",
     "output_type": "stream",
     "text": [
      "Bob\n"
     ]
    }
   ],
   "source": [
    "import random\n",
    "friends=[\"Alice\",\"Bob\",\"Charlie\",\"David\"]\n",
    "print(random.choice(friends))"
   ]
  },
  {
   "cell_type": "code",
   "execution_count": 33,
   "id": "1774a913-80c2-4554-903e-3cc598d85e12",
   "metadata": {},
   "outputs": [
    {
     "data": {
      "text/plain": [
       "'keerthana'"
      ]
     },
     "execution_count": 33,
     "metadata": {},
     "output_type": "execute_result"
    }
   ],
   "source": [
    "import friends\n",
    "import random\n",
    "random.choice( friends.name)"
   ]
  },
  {
   "cell_type": "code",
   "execution_count": 7,
   "id": "ccaf4bdc-c1ff-49a1-abc7-46166b010ee8",
   "metadata": {},
   "outputs": [
    {
     "name": "stdout",
     "output_type": "stream",
     "text": [
      "Charlie\n"
     ]
    }
   ],
   "source": [
    "import random\n",
    "friends=[\"Alice\",\"Bob\",\"Charlie\",\"David\"]\n",
    "random_index=random.randint(0,4)\n",
    "print(friends[random_index])"
   ]
  },
  {
   "cell_type": "code",
   "execution_count": 9,
   "id": "5fb03183-8987-40c5-8571-e4959fa07832",
   "metadata": {},
   "outputs": [
    {
     "name": "stdout",
     "output_type": "stream",
     "text": [
      "pine apple\n"
     ]
    }
   ],
   "source": [
    "fruits=[\"apple\",\"banana\",\"graps\",\"mango\",\"pine apple\"]\n",
    "vegetables=[\"spinach\",\"tomatos\",\"kale\",\"celery\",\"potatoes\"]\n",
    "dirty_dozen=[fruits,vegetables]\n",
    "print(dirty_dozen[0][4])"
   ]
  },
  {
   "cell_type": "code",
   "execution_count": 15,
   "id": "b957288a-0e89-4030-a95e-14f1fbdd5ca5",
   "metadata": {},
   "outputs": [
    {
     "name": "stdout",
     "output_type": "stream",
     "text": [
      "random_item:cherry\n"
     ]
    }
   ],
   "source": [
    "import random\n",
    "my_list=['apple','banana','cherry','date','date']\n",
    "# select a single random element\n",
    "random_item=random.choice(my_list)\n",
    "print(f\"random_item:{random_item}\")"
   ]
  },
  {
   "cell_type": "code",
   "execution_count": 21,
   "id": "21848ea4-6e96-4470-816b-a1528d9ad81f",
   "metadata": {},
   "outputs": [
    {
     "name": "stdout",
     "output_type": "stream",
     "text": [
      "['cherry', 'banana', 'apple', 'date']\n"
     ]
    }
   ],
   "source": [
    "#select 3 unique random elements(without replacement)\n",
    "random_sample_unique=random.sample(my_list,4)\n",
    "print(random_sample_unique)"
   ]
  },
  {
   "cell_type": "code",
   "execution_count": 13,
   "id": "a576ee2d-af7e-4dfc-8054-0baa2c950e15",
   "metadata": {},
   "outputs": [
    {
     "name": "stdin",
     "output_type": "stream",
     "text": [
      " 1\n",
      " 3\n"
     ]
    },
    {
     "name": "stdout",
     "output_type": "stream",
     "text": [
      "celery\n"
     ]
    }
   ],
   "source": [
    "print(dirty_dozen[int(input())][int(input())])"
   ]
  },
  {
   "cell_type": "code",
   "execution_count": 33,
   "id": "490f6463-ef7b-451c-bc6c-95e364941bdb",
   "metadata": {},
   "outputs": [
    {
     "name": "stdin",
     "output_type": "stream",
     "text": [
      " 3\n",
      " 3\n"
     ]
    },
    {
     "name": "stdout",
     "output_type": "stream",
     "text": [
      "out of index\n"
     ]
    }
   ],
   "source": [
    "dirty_dozen=[fruits,vegetables]\n",
    "index1=int(input())\n",
    "index2=int(input())\n",
    "if(0<=index1<len(dirty_dozen)):\n",
    "    if(index2<len(fruits) and index1==0):\n",
    "        print(dirty_dozen[index1][index2])\n",
    "    elif(index1<len(vegetables)and(index1==1)):\n",
    "        print(dirty_dozen[index1][index2])\n",
    "    else:\n",
    "        print(\"out of index\")\n",
    "else:\n",
    "    print(\"out of index\")"
   ]
  },
  {
   "cell_type": "code",
   "execution_count": 38,
   "id": "f1b8b942-938f-43fd-a106-e758332cfacb",
   "metadata": {},
   "outputs": [
    {
     "name": "stdout",
     "output_type": "stream",
     "text": [
      "apple\n",
      "applepie\n",
      "applepie\n",
      "banana\n",
      "bananapie\n",
      "bananapie\n",
      "graps\n",
      "grapspie\n",
      "grapspie\n",
      "mango\n",
      "mangopie\n",
      "mangopie\n",
      "pine apple\n",
      "pine applepie\n",
      "pine applepie\n"
     ]
    }
   ],
   "source": [
    "for fruit in fruits:\n",
    "    print(fruit)\n",
    "    print(fruit+\"pie\")\n",
    "    print(f\"{fruit}pie\")"
   ]
  },
  {
   "cell_type": "code",
   "execution_count": 42,
   "id": "9965adce-6169-41ad-b3e2-6cfa9f6d5d59",
   "metadata": {},
   "outputs": [
    {
     "name": "stdout",
     "output_type": "stream",
     "text": [
      "apple\n",
      "applepie\n",
      "banana\n",
      "bananapie\n",
      "graps\n",
      "grapspie\n",
      "mango\n",
      "mangopie\n",
      "pine apple\n",
      "pine applepie\n",
      "apple\n",
      "applepie\n",
      "banana\n",
      "bananapie\n",
      "graps\n",
      "grapspie\n",
      "mango\n",
      "mangopie\n",
      "pine apple\n",
      "pine applepie\n"
     ]
    }
   ],
   "source": [
    "for index in dirty_dozen:\n",
    "    for fruit in dirty_dozen[0]:\n",
    "        print(fruit)\n",
    "        print(fruit+ \"pie\")"
   ]
  },
  {
   "cell_type": "code",
   "execution_count": 44,
   "id": "b0240cd4-3ec7-4d74-b498-06af4eea7fda",
   "metadata": {},
   "outputs": [
    {
     "name": "stdout",
     "output_type": "stream",
     "text": [
      "apple\n",
      "applepie\n",
      "banana\n",
      "bananapie\n",
      "graps\n",
      "grapspie\n",
      "mango\n",
      "mangopie\n",
      "pine apple\n",
      "pine applepie\n",
      "apple\n",
      "applepie\n",
      "banana\n",
      "bananapie\n",
      "graps\n",
      "grapspie\n",
      "mango\n",
      "mangopie\n",
      "pine apple\n",
      "pine applepie\n"
     ]
    }
   ],
   "source": [
    "for index in range(0,len( dirty_dozen)):\n",
    "    for fruit in dirty_dozen[0]:\n",
    "        print(fruit)\n",
    "        print(fruit+ \"pie\")  "
   ]
  },
  {
   "cell_type": "code",
   "execution_count": 45,
   "id": "aef196b6-ed4d-4411-bc83-5e6b17bc1c58",
   "metadata": {},
   "outputs": [
    {
     "name": "stdout",
     "output_type": "stream",
     "text": [
      "1\n",
      "2\n",
      "3\n",
      "4\n"
     ]
    }
   ],
   "source": [
    "my_list=[1,2,3,4,5]\n",
    "for element in my_list:\n",
    "    print(element)\n",
    "    if(element==4):\n",
    "        break\n",
    "    else:\n",
    "        continue\n",
    "        print(element)"
   ]
  },
  {
   "cell_type": "code",
   "execution_count": 48,
   "id": "849ee64c-87ef-4777-8805-4356e3556d8e",
   "metadata": {},
   "outputs": [
    {
     "name": "stdout",
     "output_type": "stream",
     "text": [
      "1\n",
      "2\n",
      "3\n"
     ]
    }
   ],
   "source": [
    "my_list=[1,2,3,4,5]\n",
    "for element in my_list:\n",
    "    if(element==4):\n",
    "        break\n",
    "    else:\n",
    "        pass\n",
    "        print(element)"
   ]
  },
  {
   "cell_type": "code",
   "execution_count": 54,
   "id": "331c9826-c9b8-4d48-8e75-231168d1fd5f",
   "metadata": {},
   "outputs": [
    {
     "name": "stdout",
     "output_type": "stream",
     "text": [
      "l\n",
      "i\n",
      "s\n",
      "t\n",
      "e\n",
      "n\n"
     ]
    }
   ],
   "source": [
    "\n",
    "my_word=\"listen\"\n",
    "for c in my_word:\n",
    "    charlist=[]\n",
    "    print(c)\n",
    "    charlist.append(c)"
   ]
  },
  {
   "cell_type": "code",
   "execution_count": 55,
   "id": "37295ead-ffff-460e-b5e9-4d9a72ed3677",
   "metadata": {},
   "outputs": [
    {
     "name": "stdout",
     "output_type": "stream",
     "text": [
      "l\n",
      "i\n",
      "s\n",
      "t\n",
      "e\n",
      "n\n"
     ]
    }
   ],
   "source": [
    "my_word=\"listen\"\n",
    "l=[]\n",
    "for c in my_word:\n",
    "    print(c)\n",
    "    l.append(c)\n",
    "l.sort()\n"
   ]
  },
  {
   "cell_type": "code",
   "execution_count": 56,
   "id": "6371cffb-3e3e-4be5-8bb3-21d331c448d5",
   "metadata": {},
   "outputs": [
    {
     "data": {
      "text/plain": [
       "['e', 'i', 'l', 'n', 's', 't']"
      ]
     },
     "execution_count": 56,
     "metadata": {},
     "output_type": "execute_result"
    }
   ],
   "source": [
    "l"
   ]
  },
  {
   "cell_type": "code",
   "execution_count": null,
   "id": "2a92eb69-0b65-4ff1-8963-b9407698e692",
   "metadata": {},
   "outputs": [],
   "source": []
  }
 ],
 "metadata": {
  "kernelspec": {
   "display_name": "Python 3 (ipykernel)",
   "language": "python",
   "name": "python3"
  },
  "language_info": {
   "codemirror_mode": {
    "name": "ipython",
    "version": 3
   },
   "file_extension": ".py",
   "mimetype": "text/x-python",
   "name": "python",
   "nbconvert_exporter": "python",
   "pygments_lexer": "ipython3",
   "version": "3.13.5"
  }
 },
 "nbformat": 4,
 "nbformat_minor": 5
}
