{
 "cells": [
  {
   "cell_type": "code",
   "execution_count": 1,
   "id": "65d63a4f-d932-44d5-a081-f0cbfb062df7",
   "metadata": {},
   "outputs": [
    {
     "name": "stdout",
     "output_type": "stream",
     "text": [
      "hello\n"
     ]
    }
   ],
   "source": [
    "print(\"hello\")"
   ]
  },
  {
   "cell_type": "code",
   "execution_count": 3,
   "id": "7b429810-1fa3-45f5-bd61-05dba2b5ab25",
   "metadata": {},
   "outputs": [
    {
     "ename": "SyntaxError",
     "evalue": "unterminated string literal (detected at line 1) (2458401772.py, line 1)",
     "output_type": "error",
     "traceback": [
      "\u001b[1;36m  Cell \u001b[1;32mIn[3], line 1\u001b[1;36m\u001b[0m\n\u001b[1;33m    print(Hello\")\u001b[0m\n\u001b[1;37m               ^\u001b[0m\n\u001b[1;31mSyntaxError\u001b[0m\u001b[1;31m:\u001b[0m unterminated string literal (detected at line 1)\n"
     ]
    }
   ],
   "source": [
    "print(Hello\")"
   ]
  },
  {
   "cell_type": "code",
   "execution_count": 6,
   "id": "f82f1fba-b205-4c4a-85d8-4964f85cc6e4",
   "metadata": {
    "scrolled": true
   },
   "outputs": [
    {
     "ename": "SyntaxError",
     "evalue": "unterminated string literal (detected at line 1) (3180031312.py, line 1)",
     "output_type": "error",
     "traceback": [
      "\u001b[1;36m  Cell \u001b[1;32mIn[6], line 1\u001b[1;36m\u001b[0m\n\u001b[1;33m    print(\"hello world!)\u001b[0m\n\u001b[1;37m          ^\u001b[0m\n\u001b[1;31mSyntaxError\u001b[0m\u001b[1;31m:\u001b[0m unterminated string literal (detected at line 1)\n"
     ]
    }
   ],
   "source": [
    "print(\"hello world!)"
   ]
  },
  {
   "cell_type": "code",
   "execution_count": 8,
   "id": "fcf256df-05ed-4cbf-a1a6-adf8070e5924",
   "metadata": {},
   "outputs": [
    {
     "name": "stdout",
     "output_type": "stream",
     "text": [
      "1.Mix 500g of Flour, 10g Yeast and 300ml Water in a bowl.\n",
      "2.Knead the dough for 10 minutes.\n",
      "3.Add 3g of Salt.\n",
      "4.Leave to rise for 2 hours.\n",
      "5.Bake at 200 degrees C for 30 minutes.\n"
     ]
    }
   ],
   "source": [
    "print(\"1.Mix 500g of Flour, 10g Yeast and 300ml Water in a bowl.\")\n",
    "print(\"2.Knead the dough for 10 minutes.\")\n",
    "print(\"3.Add 3g of Salt.\")\n",
    "print(\"4.Leave to rise for 2 hours.\")\n",
    "print(\"5.Bake at 200 degrees C for 30 minutes.\")"
   ]
  },
  {
   "cell_type": "code",
   "execution_count": 10,
   "id": "c1530fdc-2d4c-4c41-afbe-c03cdaeaee56",
   "metadata": {},
   "outputs": [
    {
     "name": "stdout",
     "output_type": "stream",
     "text": [
      "Notes from Day 1\n",
      "The print statement is used to output strings\n",
      "Strings are string of characters\n",
      "String Concatenation is done with the + sign\n",
      "New lines can be created with a \\ and the letter n\n"
     ]
    }
   ],
   "source": [
    "print(\"Notes from Day 1\")\n",
    "print(\"The print statement is used to output strings\")\n",
    "print(\"Strings are string of characters\")\n",
    "print(\"String Concatenation is done with the + sign\")\n",
    "print(\"New lines can be created with a \\ and the letter n\")"
   ]
  },
  {
   "cell_type": "code",
   "execution_count": 11,
   "id": "52fee58a-91ed-4c27-b7e5-815e13cba98b",
   "metadata": {},
   "outputs": [
    {
     "name": "stdin",
     "output_type": "stream",
     "text": [
      "1 drtg\n"
     ]
    },
    {
     "data": {
      "text/plain": [
       "'drtg'"
      ]
     },
     "execution_count": 11,
     "metadata": {},
     "output_type": "execute_result"
    }
   ],
   "source": [
    "input(\"1\")"
   ]
  },
  {
   "cell_type": "code",
   "execution_count": 12,
   "id": "4dd4af60-1488-4d9f-93c5-ce2ba8c1672f",
   "metadata": {},
   "outputs": [
    {
     "data": {
      "text/plain": [
       "\u001b[1;31mSignature:\u001b[0m \u001b[0minput\u001b[0m\u001b[1;33m(\u001b[0m\u001b[0mprompt\u001b[0m\u001b[1;33m=\u001b[0m\u001b[1;34m''\u001b[0m\u001b[1;33m)\u001b[0m\u001b[1;33m\u001b[0m\u001b[1;33m\u001b[0m\u001b[0m\n",
       "\u001b[1;31mDocstring:\u001b[0m\n",
       "Forward raw_input to frontends\n",
       "\n",
       "Raises\n",
       "------\n",
       "StdinNotImplementedError if active frontend doesn't support stdin.\n",
       "\u001b[1;31mFile:\u001b[0m      c:\\users\\chnadmin\\anaconda3\\lib\\site-packages\\ipykernel\\kernelbase.py\n",
       "\u001b[1;31mType:\u001b[0m      method"
      ]
     },
     "metadata": {},
     "output_type": "display_data"
    }
   ],
   "source": [
    "input?"
   ]
  },
  {
   "cell_type": "code",
   "execution_count": 13,
   "id": "17e191dd-a14a-41f0-aeaa-59231105267a",
   "metadata": {},
   "outputs": [
    {
     "name": "stdin",
     "output_type": "stream",
     "text": [
      " 23\n"
     ]
    },
    {
     "data": {
      "text/plain": [
       "'23'"
      ]
     },
     "execution_count": 13,
     "metadata": {},
     "output_type": "execute_result"
    }
   ],
   "source": [
    "input()\n"
   ]
  },
  {
   "cell_type": "code",
   "execution_count": 16,
   "id": "adbd0544-5e70-4f04-91d9-8e9a61621842",
   "metadata": {},
   "outputs": [
    {
     "name": "stdin",
     "output_type": "stream",
     "text": [
      "What is your name? Lavanya\n"
     ]
    },
    {
     "name": "stdout",
     "output_type": "stream",
     "text": [
      "Hello Lavanya\n"
     ]
    }
   ],
   "source": [
    "print(\"Hello\" +\" \"+ input(\"What is your name?\"))"
   ]
  },
  {
   "cell_type": "markdown",
   "id": "2d88f637-86c4-4902-9f3a-e24bc908b87e",
   "metadata": {
    "jp-MarkdownHeadingCollapsed": true
   },
   "source": []
  },
  {
   "cell_type": "code",
   "execution_count": 30,
   "id": "81ed7b8b-8bb3-454d-8001-1ce217621f46",
   "metadata": {},
   "outputs": [
    {
     "name": "stdout",
     "output_type": "stream",
     "text": [
      "juice\n",
      "milk\n"
     ]
    }
   ],
   "source": [
    "glass1=\"milk\"\n",
    "glass2=\"juice\"trfge\n",
    "glass3=glass1\n",
    "glass1=glass2\n",
    "glass2=glass3\n",
    "print(glass1)\n",
    "print(glass2)"
   ]
  },
  {
   "cell_type": "code",
   "execution_count": 32,
   "id": "76a910d0-951b-439a-b3bd-f254608f9daa",
   "metadata": {},
   "outputs": [
    {
     "name": "stdout",
     "output_type": "stream",
     "text": [
      "7\n"
     ]
    }
   ],
   "source": [
    "print(len(\"Lavanya\"))"
   ]
  },
  {
   "cell_type": "code",
   "execution_count": 33,
   "id": "21f9be3b-8d57-4d67-be95-29d032d7e010",
   "metadata": {},
   "outputs": [
    {
     "name": "stdin",
     "output_type": "stream",
     "text": [
      "What is your name? saranya\n"
     ]
    },
    {
     "name": "stdout",
     "output_type": "stream",
     "text": [
      "7\n"
     ]
    }
   ],
   "source": [
    "print(len(input(\"What is your name?\")))"
   ]
  },
  {
   "cell_type": "code",
   "execution_count": 5,
   "id": "bb8aa05b-424a-42cc-966b-1b5055b46185",
   "metadata": {},
   "outputs": [
    {
     "name": "stdout",
     "output_type": "stream",
     "text": [
      "o\n"
     ]
    }
   ],
   "source": [
    "str=\"Hello\"\n",
    "print(str[4])\n"
   ]
  },
  {
   "cell_type": "code",
   "execution_count": 49,
   "id": "35bc4184-9358-46d0-90cc-50c436dd50ab",
   "metadata": {},
   "outputs": [
    {
     "name": "stdout",
     "output_type": "stream",
     "text": [
      "He\n"
     ]
    }
   ],
   "source": [
    "str=\"Hello\"\n",
    "print(str[0:2])"
   ]
  },
  {
   "cell_type": "code",
   "execution_count": 7,
   "id": "57af9823-9e34-4ef0-92fe-1e29ba134047",
   "metadata": {},
   "outputs": [
    {
     "name": "stdout",
     "output_type": "stream",
     "text": [
      "Hello\n"
     ]
    }
   ],
   "source": [
    "str=\"Hello\"\n",
    "print(str[::1])"
   ]
  },
  {
   "cell_type": "code",
   "execution_count": 15,
   "id": "cdd5b8fc-11ca-4942-8e31-9db213be43e1",
   "metadata": {},
   "outputs": [
    {
     "name": "stdout",
     "output_type": "stream",
     "text": [
      "e\n"
     ]
    }
   ],
   "source": [
    "str=\"Hello\"\n",
    "print(str[1:2:1])"
   ]
  },
  {
   "cell_type": "code",
   "execution_count": 60,
   "id": "acd9bdb8-f6cb-4e95-9d1d-16f2c4219233",
   "metadata": {},
   "outputs": [
    {
     "name": "stdout",
     "output_type": "stream",
     "text": [
      "Hl\n"
     ]
    }
   ],
   "source": [
    "str=\"Hellolavanya\"\n",
    "print(str[0:5:3])"
   ]
  },
  {
   "cell_type": "code",
   "execution_count": 67,
   "id": "891d934f-fae8-4de9-8596-f053a1aa7192",
   "metadata": {},
   "outputs": [
    {
     "name": "stdout",
     "output_type": "stream",
     "text": [
      "o\n"
     ]
    }
   ],
   "source": [
    "str=\"Hello\"\n",
    "print(str[4])"
   ]
  },
  {
   "cell_type": "code",
   "execution_count": 73,
   "id": "7812a7a7-a71e-4475-b9da-d012b4c32c63",
   "metadata": {},
   "outputs": [
    {
     "name": "stdout",
     "output_type": "stream",
     "text": [
      "csc\n"
     ]
    }
   ],
   "source": [
    "str=\"csc\"\n",
    "print(str[::-1])"
   ]
  },
  {
   "cell_type": "code",
   "execution_count": 75,
   "id": "7c1a7b51-7cbc-4dbd-aba3-555eef1701e4",
   "metadata": {},
   "outputs": [
    {
     "name": "stdout",
     "output_type": "stream",
     "text": [
      "123 456\n"
     ]
    }
   ],
   "source": [
    "print(123,456)"
   ]
  },
  {
   "cell_type": "code",
   "execution_count": 77,
   "id": "08048485-6fb3-4557-bbbd-9ddcec5dbf13",
   "metadata": {},
   "outputs": [
    {
     "name": "stdout",
     "output_type": "stream",
     "text": [
      "123456\n"
     ]
    }
   ],
   "source": [
    "print(123_456)"
   ]
  },
  {
   "cell_type": "code",
   "execution_count": 79,
   "id": "f1060796-4f96-454c-a7dc-912aa4540071",
   "metadata": {},
   "outputs": [
    {
     "data": {
      "text/plain": [
       "str"
      ]
     },
     "execution_count": 79,
     "metadata": {},
     "output_type": "execute_result"
    }
   ],
   "source": [
    "type(\"123\")"
   ]
  },
  {
   "cell_type": "code",
   "execution_count": 81,
   "id": "81c47815-45eb-46c7-a2c1-42fa2d6b3709",
   "metadata": {},
   "outputs": [
    {
     "data": {
      "text/plain": [
       "int"
      ]
     },
     "execution_count": 81,
     "metadata": {},
     "output_type": "execute_result"
    }
   ],
   "source": [
    "type(123)"
   ]
  },
  {
   "cell_type": "code",
   "execution_count": 83,
   "id": "a7ab85e8-d055-45f6-b8bd-00be22f6d4cb",
   "metadata": {},
   "outputs": [
    {
     "data": {
      "text/plain": [
       "float"
      ]
     },
     "execution_count": 83,
     "metadata": {},
     "output_type": "execute_result"
    }
   ],
   "source": [
    "type(23.45)"
   ]
  },
  {
   "cell_type": "code",
   "execution_count": 85,
   "id": "89b77ed2-b981-4700-9936-c24cf552d18f",
   "metadata": {},
   "outputs": [
    {
     "name": "stdout",
     "output_type": "stream",
     "text": [
      "579\n"
     ]
    }
   ],
   "source": [
    "print(int(\"123\")+int(\"456\"))"
   ]
  },
  {
   "cell_type": "code",
   "execution_count": 88,
   "id": "9d155db8-32d8-4a65-8a0e-cf8f096b4347",
   "metadata": {},
   "outputs": [
    {
     "name": "stdout",
     "output_type": "stream",
     "text": [
      "579\n"
     ]
    }
   ],
   "source": [
    "print(123+456)"
   ]
  },
  {
   "cell_type": "code",
   "execution_count": 97,
   "id": "788a30bf-d43b-4945-9cb4-13610cfc9a20",
   "metadata": {
    "scrolled": true
   },
   "outputs": [
    {
     "ename": "ValueError",
     "evalue": "invalid literal for int() with base 10: 'abc'",
     "output_type": "error",
     "traceback": [
      "\u001b[1;31m---------------------------------------------------------------------------\u001b[0m",
      "\u001b[1;31mValueError\u001b[0m                                Traceback (most recent call last)",
      "Cell \u001b[1;32mIn[97], line 1\u001b[0m\n\u001b[1;32m----> 1\u001b[0m \u001b[38;5;28mprint\u001b[39m(\u001b[38;5;28mint\u001b[39m(\u001b[38;5;124m\"\u001b[39m\u001b[38;5;124mabc\u001b[39m\u001b[38;5;124m\"\u001b[39m)\u001b[38;5;241m+\u001b[39m\u001b[38;5;28mint\u001b[39m(\u001b[38;5;124m\"\u001b[39m\u001b[38;5;124m456\u001b[39m\u001b[38;5;124m\"\u001b[39m))\n",
      "\u001b[1;31mValueError\u001b[0m: invalid literal for int() with base 10: 'abc'"
     ]
    }
   ],
   "source": [
    "print(int(\"abc\")+int(\"456\"))"
   ]
  },
  {
   "cell_type": "code",
   "execution_count": 92,
   "id": "f7b75052-42d4-40dd-8f8d-b2eced72d354",
   "metadata": {
    "scrolled": true
   },
   "outputs": [
    {
     "name": "stdin",
     "output_type": "stream",
     "text": [
      "what is your name lavanya\n"
     ]
    },
    {
     "ename": "TypeError",
     "evalue": "can only concatenate str (not \"int\") to str",
     "output_type": "error",
     "traceback": [
      "\u001b[1;31m---------------------------------------------------------------------------\u001b[0m",
      "\u001b[1;31mTypeError\u001b[0m                                 Traceback (most recent call last)",
      "Cell \u001b[1;32mIn[92], line 1\u001b[0m\n\u001b[1;32m----> 1\u001b[0m \u001b[38;5;28mprint\u001b[39m(\u001b[38;5;124m\"\u001b[39m\u001b[38;5;124mNumber of letters in the name\u001b[39m\u001b[38;5;124m\"\u001b[39m \u001b[38;5;241m+\u001b[39m\u001b[38;5;28mlen\u001b[39m(\u001b[38;5;28minput\u001b[39m(\u001b[38;5;124m\"\u001b[39m\u001b[38;5;124mwhat is your name\u001b[39m\u001b[38;5;124m\"\u001b[39m)))\n",
      "\u001b[1;31mTypeError\u001b[0m: can only concatenate str (not \"int\") to str"
     ]
    }
   ],
   "source": [
    "print(\"Number of letters in the name\" +len(input(\"what is your name\")))"
   ]
  },
  {
   "cell_type": "code",
   "execution_count": 98,
   "id": "07b3cd62-07e3-466d-a95a-689776002d13",
   "metadata": {},
   "outputs": [
    {
     "name": "stdout",
     "output_type": "stream",
     "text": [
      "7.0\n"
     ]
    }
   ],
   "source": [
    "print(3*3+3/3-3)"
   ]
  },
  {
   "cell_type": "code",
   "execution_count": 103,
   "id": "8a935662-0b4c-405c-9439-d7e848b21ea9",
   "metadata": {},
   "outputs": [
    {
     "name": "stdout",
     "output_type": "stream",
     "text": [
      "30.854\n"
     ]
    }
   ],
   "source": [
    "height=1.65\n",
    "weight=84\n",
    "bmi=weight/height**2\n",
    "print(round(bmi,3))"
   ]
  },
  {
   "cell_type": "code",
   "execution_count": 106,
   "id": "4b60f06d-3cd2-44d3-aeee-4d9944426977",
   "metadata": {},
   "outputs": [
    {
     "name": "stdin",
     "output_type": "stream",
     "text": [
      "what is your name? lavanya\n",
      "enter your age 20\n"
     ]
    },
    {
     "name": "stdout",
     "output_type": "stream",
     "text": [
      "title lavanya age:20\n"
     ]
    }
   ],
   "source": [
    "name= input(\"what is your name?\")\n",
    "age=int(input(\"enter your age\"))\n",
    "print( f\"title {name} age:{age}\")                                                         \n"
   ]
  },
  {
   "cell_type": "code",
   "execution_count": 113,
   "id": "77e61153-259f-4b7b-b32a-d8c1de568bed",
   "metadata": {},
   "outputs": [
    {
     "name": "stdout",
     "output_type": "stream",
     "text": [
      "2.5\n"
     ]
    }
   ],
   "source": [
    "print(5/2)"
   ]
  },
  {
   "cell_type": "code",
   "execution_count": 116,
   "id": "ceff0c65-a2e4-4c70-b564-5fc8cc179efd",
   "metadata": {},
   "outputs": [
    {
     "name": "stdout",
     "output_type": "stream",
     "text": [
      "PYTHON\n",
      "python\n",
      "Python\n",
      "Python\n",
      "PYTHoN\n"
     ]
    }
   ],
   "source": [
    "text=\"pythOn\"\n",
    "print(text.upper())\n",
    "print(text.lower())\n",
    "print(text.capitalize())\n",
    "print(text.title())\n",
    "print(text.swapcase())"
   ]
  },
  {
   "cell_type": "code",
   "execution_count": 117,
   "id": "de7866c4-f1aa-4576-80b3-8ffab0c2e8b9",
   "metadata": {},
   "outputs": [
    {
     "name": "stdout",
     "output_type": "stream",
     "text": [
      "PYTHON IS A PROGRAMMING LANGUAGE\n",
      "python is a programming language\n",
      "Python Is A Programming Language\n",
      "Python is a programming language\n",
      "PYTHoN IS A pROGRAMMING LANGUAGE\n"
     ]
    }
   ],
   "source": [
    "text=\"pythOn is a Programming language\"\n",
    "print(text.upper())\n",
    "print(text.lower())\n",
    "print(text.title())\n",
    "print(text.capitalize())\n",
    "print(text.swapcase())"
   ]
  },
  {
   "cell_type": "code",
   "execution_count": 122,
   "id": "d5f80cbe-dfc5-4733-8bef-c8139aadcc56",
   "metadata": {},
   "outputs": [
    {
     "data": {
      "text/plain": [
       "6"
      ]
     },
     "execution_count": 122,
     "metadata": {},
     "output_type": "execute_result"
    }
   ],
   "source": [
    "text.find(\" \")"
   ]
  },
  {
   "cell_type": "code",
   "execution_count": 128,
   "id": "9e0f7ade-e9b3-40ab-8993-551e3fd6e050",
   "metadata": {},
   "outputs": [
    {
     "data": {
      "text/plain": [
       "'java is a Programming language'"
      ]
     },
     "execution_count": 128,
     "metadata": {},
     "output_type": "execute_result"
    }
   ],
   "source": [
    "text.replace(\"pythOn\",\"java\")"
   ]
  },
  {
   "cell_type": "code",
   "execution_count": 5,
   "id": "5ecb97d9-8f56-4c4e-85bc-3e1b64a58054",
   "metadata": {},
   "outputs": [
    {
     "name": "stdout",
     "output_type": "stream",
     "text": [
      "[]\n",
      "[7, 14]\n"
     ]
    }
   ],
   "source": [
    "import re\n",
    "text=\"i love python,python is good\"\n",
    "words=re.findall(r\"pyton\",text)\n",
    "iteration=re.finditer(r\"python\",text)\n",
    "print(words)\n",
    "print([m.start() for m in iteration])"
   ]
  },
  {
   "cell_type": "markdown",
   "id": "29bb9f8c-7d33-4a77-9a02-28d06495a9f4",
   "metadata": {},
   "source": []
  },
  {
   "cell_type": "code",
   "execution_count": 139,
   "id": "cddc4f08-bd91-41fb-88da-eaacde5e5199",
   "metadata": {},
   "outputs": [
    {
     "name": "stdin",
     "output_type": "stream",
     "text": [
      "name1: lavanya\n",
      "name2: santhanam\n"
     ]
    },
    {
     "name": "stdout",
     "output_type": "stream",
     "text": [
      "lavanya santhanam\n"
     ]
    }
   ],
   "source": [
    "name1=input(\"name1:\")\n",
    "name2=input(\"name2:\")\n",
    "print(f\"{name1} {name2}\")"
   ]
  },
  {
   "cell_type": "code",
   "execution_count": 142,
   "id": "51e73e5c-9d55-4cf1-be69-4832742b7288",
   "metadata": {},
   "outputs": [
    {
     "name": "stdin",
     "output_type": "stream",
     "text": [
      "name: lavanya\n",
      "age 20\n"
     ]
    },
    {
     "name": "stdout",
     "output_type": "stream",
     "text": [
      "name:lavanya age:20\n"
     ]
    }
   ],
   "source": [
    "name=input(\"name:\")\n",
    "age=input(\"age\")\n",
    "print(\"name:{} age:{}\".format(name,age))"
   ]
  },
  {
   "cell_type": "code",
   "execution_count": 144,
   "id": "1f0ac183-c574-4271-b966-11f7e89edc60",
   "metadata": {},
   "outputs": [
    {
     "name": "stdout",
     "output_type": "stream",
     "text": [
      "['i', 'love', 'python', 'program']\n"
     ]
    }
   ],
   "source": [
    "text=\"i,love,python,program\"\n",
    "words=text.split(\",\")\n",
    "print(words)"
   ]
  },
  {
   "cell_type": "code",
   "execution_count": 145,
   "id": "00f4d112-cdb7-449a-8997-2d0b3516a786",
   "metadata": {},
   "outputs": [
    {
     "name": "stdout",
     "output_type": "stream",
     "text": [
      "<class 'list'>\n"
     ]
    }
   ],
   "source": [
    "print(type(words))"
   ]
  },
  {
   "cell_type": "code",
   "execution_count": 156,
   "id": "57906cfb-64ec-4cfc-9c39-1e368afda88e",
   "metadata": {},
   "outputs": [
    {
     "name": "stdout",
     "output_type": "stream",
     "text": [
      "i_,_a_m_,_a_,_p_r_o_g_r_a_m_m_e_r\n"
     ]
    }
   ],
   "source": [
    "text=\"i,am,a,programmer\"\n",
    "words=text.split(\",\")\n",
    "text_join = \"_\". join(text)\n",
    "print(text_join)"
   ]
  },
  {
   "cell_type": "code",
   "execution_count": 157,
   "id": "ebdb792b-69f3-422a-9177-1b1df906b124",
   "metadata": {},
   "outputs": [
    {
     "name": "stdout",
     "output_type": "stream",
     "text": [
      "i-am-a-programmer\n"
     ]
    }
   ],
   "source": [
    "text1=\"-\".join(words)\n",
    "print(text1)"
   ]
  },
  {
   "cell_type": "code",
   "execution_count": 6,
   "id": "2b753a4c-4063-4092-becf-a8f8ae36eecc",
   "metadata": {},
   "outputs": [
    {
     "name": "stdout",
     "output_type": "stream",
     "text": [
      "*********lavanya\n"
     ]
    }
   ],
   "source": [
    "name=\"lavanya\"\n",
    "print(name.rjust(16,\"*\"))"
   ]
  },
  {
   "cell_type": "code",
   "execution_count": 162,
   "id": "e0dbd8f8-2a86-42c4-be08-4402fdd5b6bc",
   "metadata": {
    "scrolled": true
   },
   "outputs": [
    {
     "name": "stdout",
     "output_type": "stream",
     "text": [
      "lavanya*********\n"
     ]
    }
   ],
   "source": [
    "name=\"lavanya\"\n",
    "print(name.ljust(16,\"*\"))"
   ]
  },
  {
   "cell_type": "code",
   "execution_count": 166,
   "id": "311690f1-a5c5-4e78-993d-fdff5c2188f2",
   "metadata": {},
   "outputs": [
    {
     "name": "stdout",
     "output_type": "stream",
     "text": [
      "hiii\n"
     ]
    }
   ],
   "source": [
    "text=\"....hiii.....\"\n",
    "print(text.strip(\".\"))"
   ]
  },
  {
   "cell_type": "code",
   "execution_count": 18,
   "id": "ea715bfc-c459-40c5-bd17-c2ee395be9ef",
   "metadata": {},
   "outputs": [
    {
     "name": "stdin",
     "output_type": "stream",
     "text": [
      "What is your name? Laddu\n"
     ]
    }
   ],
   "source": [
    "name= input (\"What is your name?\")"
   ]
  },
  {
   "cell_type": "code",
   "execution_count": 3,
   "id": "b322ff05-deb0-40c9-996d-b3aa1d891a24",
   "metadata": {},
   "outputs": [
    {
     "name": "stdin",
     "output_type": "stream",
     "text": [
      "What is your name? lavanya\n"
     ]
    },
    {
     "name": "stdout",
     "output_type": "stream",
     "text": [
      "Hello i am lavanya\n",
      " i am learning python\n"
     ]
    }
   ],
   "source": [
    "name= input(\"What is your name?\")\n",
    "print(\"Hello i am\" + \" \" +name +\"\\n i am learning python\")"
   ]
  },
  {
   "cell_type": "code",
   "execution_count": null,
   "id": "3e335bb8-9145-4719-b547-31a8c8381840",
   "metadata": {},
   "outputs": [],
   "source": [
    "import re\n",
    "text=\"i love python,python is good language\"\n",
    "print(re.)\n"
   ]
  }
 ],
 "metadata": {
  "kernelspec": {
   "display_name": "Python 3 (ipykernel)",
   "language": "python",
   "name": "python3"
  },
  "language_info": {
   "codemirror_mode": {
    "name": "ipython",
    "version": 3
   },
   "file_extension": ".py",
   "mimetype": "text/x-python",
   "name": "python",
   "nbconvert_exporter": "python",
   "pygments_lexer": "ipython3",
   "version": "3.13.5"
  }
 },
 "nbformat": 4,
 "nbformat_minor": 5
}
