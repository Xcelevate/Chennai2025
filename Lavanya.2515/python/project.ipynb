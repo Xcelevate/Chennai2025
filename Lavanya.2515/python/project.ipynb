{
 "cells": [
  {
   "cell_type": "code",
   "execution_count": 1,
   "id": "d88d1939-0a10-4de2-a963-ab98d74334da",
   "metadata": {},
   "outputs": [
    {
     "name": "stdin",
     "output_type": "stream",
     "text": [
      "name: dfg\n"
     ]
    },
    {
     "name": "stdout",
     "output_type": "stream",
     "text": [
      "Paper\n",
      "invalid\n"
     ]
    }
   ],
   "source": [
    "import random\n",
    "a=input(\"name:\")\n",
    "c= \"Rock\",\"Paper\",\"Scissors\"\n",
    "d=random.choice(c)\n",
    "print(d)\n",
    "if(a.isalpha()):\n",
    "    b=(a.title())\n",
    "    if(b==\"Rock\" or b==\"Paper\" or b==\"Scissors\"):\n",
    "        if(b==d):\n",
    "            print(\"It's a draw\")\n",
    "        elif((a==\"Rock\" and d==\"Scissors\") or (a==\"Paper\" and d==\"Rock\") or (a==\"Scissors\" and d==\"Paper\")):\n",
    "            print(\"You Win\")\n",
    "        else:\n",
    "            print(\"You loss\")\n",
    "    else:\n",
    "        print(\"invalid\")\n",
    "else:\n",
    "    print(\"undefined\")\n"
   ]
  },
  {
   "cell_type": "code",
   "execution_count": null,
   "id": "9e87ae45-273c-4fbe-8d97-b08f6b6b3f37",
   "metadata": {},
   "outputs": [],
   "source": [
    "print(\"Welcome to Treasure Island.\\nYour mission is to find the treasure.\\nYou're at a cross road.Where do you want to go?\")\n",
    "a=input(\"Type Left or Right:\").title()\n",
    "if(a==\"Right\"):\n",
    "    print(\"You fell into a hole. Game Over\")\n",
    "elif(a==\"Left\"):\n",
    "    print(\"You've come to a lake. There is an island in the middle of the lake.\")\n",
    "    b=input(\"Type 'Wait' to wait for a boat. Type 'Swim' to swim across.:\").title()\n",
    "    if(b==\"Swim\"):\n",
    "        print(\"You get attacked by an angry trout. Game Over.\")\n",
    "    elif(b==\"Wait\"):\n",
    "        print(\"You arrive at the island unharmed. There is a house with 3 doors.\")\n",
    "        c=input(\"One Brown, one Pink and one Black. Which colour do you choose?:\").title()\n",
    "        if(c==\"Brown\"):\n",
    "           print(\"It's a room full of fire🔥. Game Over.\")\n",
    "        elif(c==\"Pink\"):\n",
    "            print(\"You enter a room of beasts🧛‍♂️🧛‍♂️. Game Over🚩.\")\n",
    "        elif(c==\"Black\"):\n",
    "            print(\"You found the treasure! You Win!\")\n",
    "        else:\n",
    "            print(\"Choose the correct option\")\n",
    "    else:\n",
    "       print(\"Choose the correct option\")\n",
    "else:\n",
    "    print(\"Game Over. You Choose the Wrong option\")\n",
    "            \n"
   ]
  },
  {
   "cell_type": "code",
   "execution_count": null,
   "id": "0c97cd4f-6e79-4512-aa64-f09b4f968382",
   "metadata": {},
   "outputs": [],
   "source": [
    "#tip calculator\n",
    "print(\"Welcome to the tip calculator!\")\n",
    "a=input(\"What was the total bill? $\")\n",
    "if(a.isdigit()):\n",
    "    a=int(a)\n",
    "    if(a>=100):\n",
    "        b=input(\"How much tip would you like to give? \")\n",
    "        if(b.isdigit()):\n",
    "            b=int(b)\n",
    "            if(b>0 and b<=50):\n",
    "                m=float((a*(b/100))+a)\n",
    "                c=input(\"How many people to split the bill?\")\n",
    "                if(c.isdigit()):\n",
    "                    c=int(c)\n",
    "                    if(c>0 and c<=20):\n",
    "                        n=float(m/c)\n",
    "                        print(\"Each person should pay: $\",n)\n",
    "                    else:\n",
    "                        print(\"invalid number\")\n",
    "                else:\n",
    "                    print(\"invalid number\")\n",
    "            else:\n",
    "                print(\"invalid number\")\n",
    "        else:\n",
    "            print(\"invalid number\")\n",
    "    else:\n",
    "        print(\"invalid number\")\n",
    "else:\n",
    "    print(\"invalid number\")"
   ]
  },
  {
   "cell_type": "code",
   "execution_count": null,
   "id": "6f014dbd-09e5-4973-950d-d317884f3bee",
   "metadata": {},
   "outputs": [],
   "source": []
  }
 ],
 "metadata": {
  "kernelspec": {
   "display_name": "Python 3 (ipykernel)",
   "language": "python",
   "name": "python3"
  },
  "language_info": {
   "codemirror_mode": {
    "name": "ipython",
    "version": 3
   },
   "file_extension": ".py",
   "mimetype": "text/x-python",
   "name": "python",
   "nbconvert_exporter": "python",
   "pygments_lexer": "ipython3",
   "version": "3.13.5"
  }
 },
 "nbformat": 4,
 "nbformat_minor": 5
}
