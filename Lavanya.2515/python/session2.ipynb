{
 "cells": [
  {
   "cell_type": "code",
   "execution_count": 1,
   "id": "672db170-3a58-4882-a1ae-6ccd8b8da523",
   "metadata": {},
   "outputs": [
    {
     "name": "stdout",
     "output_type": "stream",
     "text": [
      "7\n"
     ]
    }
   ],
   "source": [
    "import random\n",
    "randomint=random.randint(1,10)\n",
    "print(randomint)"
   ]
  },
  {
   "cell_type": "code",
   "execution_count": 2,
   "id": "e44ada1d-7c5a-4572-a7c1-ffe29b0459b7",
   "metadata": {},
   "outputs": [
    {
     "data": {
      "text/plain": [
       "7"
      ]
     },
     "execution_count": 2,
     "metadata": {},
     "output_type": "execute_result"
    }
   ],
   "source": [
    "randomint=random.randint(1,10)\n",
    "randomint"
   ]
  },
  {
   "cell_type": "code",
   "execution_count": 3,
   "id": "5a1b8102-99fd-41cb-b507-99caea592918",
   "metadata": {},
   "outputs": [
    {
     "data": {
      "text/plain": [
       "18"
      ]
     },
     "execution_count": 3,
     "metadata": {},
     "output_type": "execute_result"
    }
   ],
   "source": [
    "randomint=random.randint(11,20)\n",
    "randomint"
   ]
  },
  {
   "cell_type": "code",
   "execution_count": 4,
   "id": "53f8a008-f6d4-4589-a35d-71024e6e5bd5",
   "metadata": {},
   "outputs": [
    {
     "data": {
      "text/plain": [
       "(34, 56, 78, 98)"
      ]
     },
     "execution_count": 4,
     "metadata": {},
     "output_type": "execute_result"
    }
   ],
   "source": [
    "import python_module\n",
    "python_module.my_number"
   ]
  },
  {
   "cell_type": "code",
   "execution_count": 5,
   "id": "55980b61-b330-4088-b181-eb5b78274836",
   "metadata": {},
   "outputs": [
    {
     "data": {
      "text/plain": [
       "(34, 56, 78, 98)"
      ]
     },
     "execution_count": 5,
     "metadata": {},
     "output_type": "execute_result"
    }
   ],
   "source": [
    "import python_module\n",
    "python_module.my_number"
   ]
  },
  {
   "cell_type": "code",
   "execution_count": 6,
   "id": "9f73038a-6b5c-4c48-8653-4a8cd5919110",
   "metadata": {},
   "outputs": [
    {
     "name": "stdout",
     "output_type": "stream",
     "text": [
      "(34, 56, 78, 98)\n",
      "lavanya\n"
     ]
    }
   ],
   "source": [
    "import python_module\n",
    "print(python_module.my_number)\n",
    "print(python_module.a)"
   ]
  },
  {
   "cell_type": "code",
   "execution_count": 7,
   "id": "9e53451e-3554-47bf-a10a-657732c2b6f4",
   "metadata": {},
   "outputs": [
    {
     "data": {
      "text/plain": [
       "0.7455203871789371"
      ]
     },
     "execution_count": 7,
     "metadata": {},
     "output_type": "execute_result"
    }
   ],
   "source": [
    "random.random()"
   ]
  },
  {
   "cell_type": "code",
   "execution_count": 8,
   "id": "f2c380f0-5aed-454a-affb-aa771d225983",
   "metadata": {},
   "outputs": [
    {
     "data": {
      "text/plain": [
       "9.61794654954064"
      ]
     },
     "execution_count": 8,
     "metadata": {},
     "output_type": "execute_result"
    }
   ],
   "source": [
    "random.random() * 10"
   ]
  },
  {
   "cell_type": "code",
   "execution_count": 9,
   "id": "e80179eb-7798-4db4-b999-495be73f75c7",
   "metadata": {},
   "outputs": [
    {
     "name": "stdout",
     "output_type": "stream",
     "text": [
      "8.346532629658164\n"
     ]
    }
   ],
   "source": [
    "randfloat=random.uniform(1,10)\n",
    "print(randfloat)"
   ]
  },
  {
   "cell_type": "code",
   "execution_count": 10,
   "id": "a77a6e4f-60e6-4624-9b0e-ed03e8af2f9c",
   "metadata": {},
   "outputs": [
    {
     "data": {
      "text/plain": [
       "['goat', 'noodles', 'sofa', 'laddu']"
      ]
     },
     "execution_count": 10,
     "metadata": {},
     "output_type": "execute_result"
    }
   ],
   "source": [
    "name=[\"laddu\",\"goat\",\"sofa\",\"noodles\"]\n",
    "random.shuffle(name)\n",
    "name"
   ]
  },
  {
   "cell_type": "code",
   "execution_count": 4,
   "id": "7655f48c-d5c1-4730-b654-01c3e3bc4f60",
   "metadata": {},
   "outputs": [
    {
     "data": {
      "text/plain": [
       "'goat'"
      ]
     },
     "execution_count": 4,
     "metadata": {},
     "output_type": "execute_result"
    }
   ],
   "source": [
    "import random\n",
    "name=\"laddu\",\"goat\",\"sofa\",\"noodles\"\n",
    "random.choice(name)"
   ]
  },
  {
   "cell_type": "code",
   "execution_count": 12,
   "id": "fb5cdfd2-025d-4a2f-947a-e356c8d0f0b5",
   "metadata": {},
   "outputs": [
    {
     "name": "stdout",
     "output_type": "stream",
     "text": [
      "6.79798\n"
     ]
    }
   ],
   "source": [
    "randfloat=round(random.uniform(1,10),5)\n",
    "print(randfloat)"
   ]
  },
  {
   "cell_type": "code",
   "execution_count": 13,
   "id": "8b92928c-5774-4fc0-8080-4ed67cd28f52",
   "metadata": {},
   "outputs": [
    {
     "data": {
      "text/plain": [
       "0"
      ]
     },
     "execution_count": 13,
     "metadata": {},
     "output_type": "execute_result"
    }
   ],
   "source": [
    "randbinary=random.randint(0,1)\n",
    "randbinary"
   ]
  },
  {
   "cell_type": "code",
   "execution_count": 19,
   "id": "a8b78fcc-f9d4-44a4-a6c1-f8931d94ef0a",
   "metadata": {},
   "outputs": [
    {
     "name": "stdout",
     "output_type": "stream",
     "text": [
      "Tails\n"
     ]
    }
   ],
   "source": [
    "randbinary=random.randint(0,1)\n",
    "if(randbinary==0):\n",
    "      print(\"Head\")\n",
    "else:\n",
    "      print(\"Tails\")\n",
    "\n"
   ]
  },
  {
   "cell_type": "code",
   "execution_count": 22,
   "id": "64ff3455-5c9d-4bed-82f7-11cf6d594b7b",
   "metadata": {},
   "outputs": [
    {
     "data": {
      "text/plain": [
       "False"
      ]
     },
     "execution_count": 22,
     "metadata": {},
     "output_type": "execute_result"
    }
   ],
   "source": [
    "A=not(True or((True and False) and (False and True) and False))\n",
    "A"
   ]
  },
  {
   "cell_type": "code",
   "execution_count": 35,
   "id": "b8ae6a01-2360-4537-a4be-70348e65ac48",
   "metadata": {},
   "outputs": [
    {
     "name": "stdout",
     "output_type": "stream",
     "text": [
      "True\n",
      "True\n"
     ]
    }
   ],
   "source": [
    "A=True\n",
    "B=False\n",
    "print((A or B) and not(A and B))\n",
    "print((A and not B) or (B and not A))\n"
   ]
  },
  {
   "cell_type": "code",
   "execution_count": 36,
   "id": "186c2550-d87e-44a5-bf6a-1243836060b2",
   "metadata": {},
   "outputs": [
    {
     "name": "stdout",
     "output_type": "stream",
     "text": [
      "False\n",
      "False\n"
     ]
    }
   ],
   "source": [
    "A=True\n",
    "B=True\n",
    "print((A or B) and not(A and B))\n",
    "print((A and not B) or (B and not A))"
   ]
  },
  {
   "cell_type": "code",
   "execution_count": 37,
   "id": "e1a707de-6698-4c9a-ae8c-866f84a342d0",
   "metadata": {},
   "outputs": [
    {
     "name": "stdout",
     "output_type": "stream",
     "text": [
      "False\n",
      "False\n"
     ]
    }
   ],
   "source": [
    "A=False\n",
    "B=False\n",
    "print((A or B) and not(A and B))\n",
    "print((A and not B) or (B and not A))"
   ]
  },
  {
   "cell_type": "code",
   "execution_count": 38,
   "id": "4c2e1e23-000e-40ed-bcb7-0c3076587c5f",
   "metadata": {},
   "outputs": [
    {
     "name": "stdout",
     "output_type": "stream",
     "text": [
      "True\n",
      "True\n"
     ]
    }
   ],
   "source": [
    "A=False\n",
    "B=True\n",
    "print((A or B) and not(A and B))\n",
    "print((A and not B) or (B and not A))"
   ]
  },
  {
   "cell_type": "code",
   "execution_count": 39,
   "id": "658b9b80-73a0-431d-8580-e6676f2b0648",
   "metadata": {},
   "outputs": [
    {
     "name": "stdin",
     "output_type": "stream",
     "text": [
      " True\n",
      " True\n"
     ]
    },
    {
     "name": "stdout",
     "output_type": "stream",
     "text": [
      "False\n",
      "False\n"
     ]
    }
   ],
   "source": [
    "A=bool(input())\n",
    "B=bool(input())\n",
    "print((A or B) and not(A and B))\n",
    "print((A and not B) or (B and not A))"
   ]
  },
  {
   "cell_type": "code",
   "execution_count": 40,
   "id": "88cb09c4-277b-4158-a640-1efb6facb744",
   "metadata": {},
   "outputs": [
    {
     "name": "stdout",
     "output_type": "stream",
     "text": [
      "True\n",
      "False\n"
     ]
    }
   ],
   "source": [
    "A=False\n",
    "B=True\n",
    "print(not(A and B))\n",
    "print(not(A or B))"
   ]
  },
  {
   "cell_type": "code",
   "execution_count": 41,
   "id": "d1b4dd6e-7ee7-4607-88c9-433140fba64d",
   "metadata": {},
   "outputs": [
    {
     "name": "stdout",
     "output_type": "stream",
     "text": [
      "True\n",
      "True\n"
     ]
    }
   ],
   "source": [
    "A=False\n",
    "B=False\n",
    "print(not(A and B))\n",
    "print(not(A or B))"
   ]
  },
  {
   "cell_type": "code",
   "execution_count": 44,
   "id": "b942c9db-354c-4db8-8679-f77e67a47e22",
   "metadata": {},
   "outputs": [
    {
     "name": "stdout",
     "output_type": "stream",
     "text": [
      "False\n"
     ]
    },
    {
     "data": {
      "text/plain": [
       "False"
      ]
     },
     "execution_count": 44,
     "metadata": {},
     "output_type": "execute_result"
    }
   ],
   "source": [
    "print(not(2!=3) and (4<6)) or((6!=7) and (8<2))"
   ]
  },
  {
   "cell_type": "code",
   "execution_count": 61,
   "id": "578f4136-feea-4a13-a255-f729988c308b",
   "metadata": {},
   "outputs": [
    {
     "name": "stdin",
     "output_type": "stream",
     "text": [
      "number : 24\n"
     ]
    },
    {
     "name": "stdout",
     "output_type": "stream",
     "text": [
      "The number is Even\n"
     ]
    }
   ],
   "source": [
    "a=int(input(\"number :\"))\n",
    "if(a % 2 == 0):\n",
    "    print(\"The number is Even\")\n",
    "else:\n",
    "    print(\"The number is Odd\")"
   ]
  },
  {
   "cell_type": "code",
   "execution_count": 60,
   "id": "a88ee9c1-9224-4835-ba54-b066e3197fec",
   "metadata": {},
   "outputs": [
    {
     "name": "stdin",
     "output_type": "stream",
     "text": [
      "The number is: 34\n",
      "The number is: 23\n"
     ]
    },
    {
     "name": "stdout",
     "output_type": "stream",
     "text": [
      " greater number is:  34\n"
     ]
    }
   ],
   "source": [
    "a=int(input(\"The number is:\"))\n",
    "b=int(input(\"The number is:\"))\n",
    "if(a>b):\n",
    "    print(\" greater number is:\"+\" \",a)\n",
    "elif(a<b):\n",
    "    print(\"smaller number is:\"+\" \",a)\n",
    "else:\n",
    "    print(\"The number is same\")"
   ]
  },
  {
   "cell_type": "code",
   "execution_count": 64,
   "id": "8440d21a-5509-4db0-9b7d-4719b2fd6acd",
   "metadata": {},
   "outputs": [
    {
     "name": "stdin",
     "output_type": "stream",
     "text": [
      "number: 22\n"
     ]
    },
    {
     "name": "stdout",
     "output_type": "stream",
     "text": [
      "Even\n"
     ]
    }
   ],
   "source": [
    "a=int(input(\"number:\"))\n",
    "print(\"Even\" if a % 2 == 0 else \"Odd\")"
   ]
  },
  {
   "cell_type": "code",
   "execution_count": 86,
   "id": "eb5f821b-af04-4434-b2f9-40bbb5c550db",
   "metadata": {},
   "outputs": [
    {
     "name": "stdin",
     "output_type": "stream",
     "text": [
      "marks: 30\n"
     ]
    },
    {
     "name": "stdout",
     "output_type": "stream",
     "text": [
      "Fail\n"
     ]
    }
   ],
   "source": [
    "a=int(input(\"marks:\"))\n",
    "if(a>100 or a<0):\n",
    "    print(\"invailid number\")\n",
    "elif(a>=90 and a<=100):\n",
    "    print(\"The grade is: A+\")\n",
    "elif(a<90 and a>=75):\n",
    "     print(\"The grade is: A\")\n",
    "elif(a<75 and a>60):\n",
    "    print(\"The grade is: B\")\n",
    "elif(a<=60 and a>=40):\n",
    "    print(\"The grade is: C\")\n",
    "else:\n",
    "    print(\"Fail\") "
   ]
  },
  {
   "cell_type": "code",
   "execution_count": 95,
   "id": "43991009-f07c-40cc-9766-f452edff1e39",
   "metadata": {},
   "outputs": [
    {
     "name": "stdin",
     "output_type": "stream",
     "text": [
      " @#$#@\n"
     ]
    },
    {
     "name": "stdout",
     "output_type": "stream",
     "text": [
      "@#$#@  is palindrome\n"
     ]
    }
   ],
   "source": [
    "a=input()\n",
    "b=a[::-1]\n",
    "if(a==b):\n",
    "    print(a,\" \"+\"is palindrome\")\n",
    "else:\n",
    "    print(a,\" \"+\"is  not a palindrome\")"
   ]
  },
  {
   "cell_type": "code",
   "execution_count": 97,
   "id": "2d3462e8-b4d7-48d5-a676-1a8501f7feeb",
   "metadata": {},
   "outputs": [
    {
     "name": "stdout",
     "output_type": "stream",
     "text": [
      "True\n",
      "True\n",
      "True\n"
     ]
    }
   ],
   "source": [
    "s1=\"python\"\n",
    "s2=\"12345\"\n",
    "print(s1.isalpha())\n",
    "print(s2.isdigit())\n",
    "print(s1.startswith(\"py\"))"
   ]
  },
  {
   "cell_type": "code",
   "execution_count": 103,
   "id": "94c52a98-159a-4844-a1a4-c0bb4ac9d068",
   "metadata": {},
   "outputs": [
    {
     "name": "stdin",
     "output_type": "stream",
     "text": [
      " lavanya23\n"
     ]
    },
    {
     "name": "stdout",
     "output_type": "stream",
     "text": [
      "True\n"
     ]
    }
   ],
   "source": [
    "s1 = input()\n",
    "print(s1.isalnum())\n"
   ]
  },
  {
   "cell_type": "code",
   "execution_count": 118,
   "id": "0d0da8e6-e499-475c-a75f-c413a0ed42ff",
   "metadata": {},
   "outputs": [
    {
     "name": "stdout",
     "output_type": "stream",
     "text": [
      "False\n",
      "True\n",
      "False\n"
     ]
    }
   ],
   "source": [
    "s1 = \"0112345\"\n",
    "print(s1.startswith(\"123\"))\n",
    "print(s1.startswith(\"234\",3,-1))\n",
    "print(s1.startswith(\"567\",2))\n"
   ]
  },
  {
   "cell_type": "code",
   "execution_count": 124,
   "id": "10ccc746-e56d-4846-919d-b93e4c64a25c",
   "metadata": {},
   "outputs": [
    {
     "name": "stdin",
     "output_type": "stream",
     "text": [
      " 1234562\n"
     ]
    },
    {
     "name": "stdout",
     "output_type": "stream",
     "text": [
      "True\n"
     ]
    }
   ],
   "source": [
    "a=input()\n",
    "print(a.endswith(\"2\")) "
   ]
  },
  {
   "cell_type": "code",
   "execution_count": 128,
   "id": "1bb7e99a-f800-4689-b48e-a05ca1a0da54",
   "metadata": {},
   "outputs": [
    {
     "name": "stdin",
     "output_type": "stream",
     "text": [
      " asdf\n"
     ]
    },
    {
     "name": "stdout",
     "output_type": "stream",
     "text": [
      "False\n"
     ]
    }
   ],
   "source": [
    "a=input()\n",
    "print(a.endswith((\"lavanya\", \".pdf\")))"
   ]
  },
  {
   "cell_type": "code",
   "execution_count": 166,
   "id": "beb34555-492a-4c67-8064-51b6798f7f2b",
   "metadata": {},
   "outputs": [
    {
     "name": "stdin",
     "output_type": "stream",
     "text": [
      "Year: 2020\n"
     ]
    },
    {
     "name": "stdout",
     "output_type": "stream",
     "text": [
      "Leap year\n"
     ]
    }
   ],
   "source": [
    "a=(input(\"Year:\"))\n",
    "\n",
    "if(a.isdigit()):\n",
    "    yearlen = len(a)\n",
    "    b = int(yearlen);\n",
    "    if(yearlen != 4):\n",
    "        print(\"Enter valid year\")\n",
    "    elif((b % 4 == 0 and b % 100 != 0) or (b % 400 == 0)):\n",
    "        print(\"Leap year\")\n",
    "    else:\n",
    "            print(\"Not Leap year\")       \n",
    "else:\n",
    "    print(\"enter valid or positve number\")"
   ]
  },
  {
   "cell_type": "code",
   "execution_count": 218,
   "id": "a85186cb-0e9e-4077-9d47-6a32998be99f",
   "metadata": {},
   "outputs": [
    {
     "name": "stdin",
     "output_type": "stream",
     "text": [
      "s1: 3\n",
      "s2: 2\n",
      "s3: 5\n"
     ]
    },
    {
     "name": "stdout",
     "output_type": "stream",
     "text": [
      "invalid Triangle\n"
     ]
    }
   ],
   "source": [
    "s1=input(\"s1:\")\n",
    "s2=input(\"s2:\")\n",
    "s3=input(\"s3:\")\n",
    "a=s1.replace(\".\",\"\")\n",
    "b=s2.replace(\".\",\"\")\n",
    "c=s3.replace(\".\",\"\")\n",
    "\n",
    "if(a.isdigit() and b.isdigit() and c.isdigit()):\n",
    "    \n",
    "    if( s1 + s2 > s3 and s1 + s3 >s2  and s2 + s3 > s1):\n",
    "        if(s1 == s2 == s3):\n",
    "            print(\"Equilateral Triangl\")\n",
    "        elif(s1 == s2 or s1 == s3 or s2 == s3):\n",
    "            print(\"Isosceles Triangle\")\n",
    "        else:\n",
    "            print(\"Scalene Triangle\")\n",
    "    else:\n",
    "        print(\"invalid Triangle\")\n",
    "else:\n",
    "    print(\"is not digit\")"
   ]
  },
  {
   "cell_type": "code",
   "execution_count": null,
   "id": "f133700c-9ea4-44ee-a1ec-d8da98f49b16",
   "metadata": {},
   "outputs": [],
   "source": []
  },
  {
   "cell_type": "code",
   "execution_count": null,
   "id": "ed2e881f-45f1-47bb-8aa8-65a8482f6183",
   "metadata": {},
   "outputs": [],
   "source": []
  }
 ],
 "metadata": {
  "kernelspec": {
   "display_name": "Python 3 (ipykernel)",
   "language": "python",
   "name": "python3"
  },
  "language_info": {
   "codemirror_mode": {
    "name": "ipython",
    "version": 3
   },
   "file_extension": ".py",
   "mimetype": "text/x-python",
   "name": "python",
   "nbconvert_exporter": "python",
   "pygments_lexer": "ipython3",
   "version": "3.13.5"
  }
 },
 "nbformat": 4,
 "nbformat_minor": 5
}
