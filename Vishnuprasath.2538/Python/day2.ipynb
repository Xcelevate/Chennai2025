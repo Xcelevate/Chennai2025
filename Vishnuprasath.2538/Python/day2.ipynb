{
 "cells": [
  {
   "cell_type": "code",
   "execution_count": 38,
   "id": "f43f1f63-2c6f-4d74-8bc8-7c538c5f497d",
   "metadata": {},
   "outputs": [],
   "source": [
    "# randomization\n",
    "#implement my_module"
   ]
  },
  {
   "cell_type": "code",
   "execution_count": 24,
   "id": "ba2dad1a-7703-4f39-8faf-4c7a638a9aa0",
   "metadata": {},
   "outputs": [
    {
     "name": "stdout",
     "output_type": "stream",
     "text": [
      "5\n"
     ]
    }
   ],
   "source": [
    "import random\n",
    "randomint = random.randint(1,10)\n",
    "print(randomint)"
   ]
  },
  {
   "cell_type": "code",
   "execution_count": 36,
   "id": "8b65a5d9-eb42-46cb-909c-0181ec0c67d8",
   "metadata": {},
   "outputs": [],
   "source": [
    "import my_trail"
   ]
  },
  {
   "cell_type": "code",
   "execution_count": 37,
   "id": "378feb7c-32ea-42b8-b5f5-e3d645b96259",
   "metadata": {},
   "outputs": [
    {
     "data": {
      "text/plain": [
       "23"
      ]
     },
     "execution_count": 37,
     "metadata": {},
     "output_type": "execute_result"
    }
   ],
   "source": [
    "my_trail.one"
   ]
  },
  {
   "cell_type": "code",
   "execution_count": 39,
   "id": "8cd71ebb-f29f-4d73-b14d-6574e244dc1b",
   "metadata": {},
   "outputs": [],
   "source": [
    "# random() it is between 0 and 1"
   ]
  },
  {
   "cell_type": "code",
   "execution_count": 48,
   "id": "084c33cc-d8bc-4923-b87c-54c1999cf98f",
   "metadata": {},
   "outputs": [
    {
     "name": "stdout",
     "output_type": "stream",
     "text": [
      "2.80717582890317\n"
     ]
    }
   ],
   "source": [
    "randomNum = random.random() * 10\n",
    "print(randomNum)"
   ]
  },
  {
   "cell_type": "code",
   "execution_count": 50,
   "id": "9691eb51-0108-4e27-9aa0-ce1901464bcd",
   "metadata": {},
   "outputs": [
    {
     "name": "stdout",
     "output_type": "stream",
     "text": [
      "0.8539943336607639\n"
     ]
    }
   ],
   "source": [
    "#it will less then 1\n",
    "\n",
    "randomNum = random.random()\n",
    "print(randomNum)"
   ]
  },
  {
   "cell_type": "code",
   "execution_count": 62,
   "id": "3aa276b7-92b5-41ea-81e4-245d5284e4db",
   "metadata": {},
   "outputs": [
    {
     "name": "stdout",
     "output_type": "stream",
     "text": [
      "4.78\n"
     ]
    }
   ],
   "source": [
    "randfloat = round(random.uniform(1,10),2)\n",
    "print(randfloat)"
   ]
  },
  {
   "cell_type": "code",
   "execution_count": 81,
   "id": "1084f856-57b8-4486-a5f2-11cc7e1ec4a3",
   "metadata": {},
   "outputs": [
    {
     "name": "stdout",
     "output_type": "stream",
     "text": [
      "1\n",
      "tails\n"
     ]
    }
   ],
   "source": [
    "#print head or tails randomly\n",
    "\n",
    "randbinary = random.randint(0,1)\n",
    "print(randbinary)\n",
    "if(randbinary==0):\n",
    "    print(\"head\")\n",
    "else:\n",
    "    print(\"tails\")\n",
    "    "
   ]
  },
  {
   "cell_type": "code",
   "execution_count": 86,
   "id": "920730d2-9219-4f81-b15b-75b2f09f0313",
   "metadata": {},
   "outputs": [
    {
     "name": "stdout",
     "output_type": "stream",
     "text": [
      "head\n"
     ]
    }
   ],
   "source": [
    "#we can write in one line if and else functions\n",
    "\n",
    "randbinary = random.randint(0,1)\n",
    "print( \"head\" if randbinary==0 else \"tail\")"
   ]
  },
  {
   "cell_type": "code",
   "execution_count": 87,
   "id": "500e0fc1-c343-47c0-93f8-9a2724fe0787",
   "metadata": {},
   "outputs": [],
   "source": [
    "#Logical expressions\n",
    "\n",
    "# a and b\n",
    "# a or b\n",
    "# not a"
   ]
  },
  {
   "cell_type": "code",
   "execution_count": 91,
   "id": "c054fa0f-3a9d-4dd0-a038-35a3fcc4ceb2",
   "metadata": {},
   "outputs": [
    {
     "data": {
      "text/plain": [
       "False"
      ]
     },
     "execution_count": 91,
     "metadata": {},
     "output_type": "execute_result"
    }
   ],
   "source": [
    "not(True or ((True&False)&(False&True)&False))"
   ]
  },
  {
   "cell_type": "code",
   "execution_count": 94,
   "id": "7f7f8457-147d-4ba0-a72b-1e0682789ab1",
   "metadata": {},
   "outputs": [
    {
     "name": "stdin",
     "output_type": "stream",
     "text": [
      "Enter rock, hand or scissors:  scissors\n"
     ]
    },
    {
     "name": "stdout",
     "output_type": "stream",
     "text": [
      "\n",
      "You chose: scissors\n",
      "Computer chose: scissors\n",
      "\n",
      "It's a tie!\n"
     ]
    }
   ],
   "source": [
    "import random\n",
    "\n",
    "# List of choices\n",
    "choices = [\"rock\", \"hand\", \"scissors\"]\n",
    "\n",
    "# User input\n",
    "user_choice = input(\"Enter rock, hand or scissors: \").lower()\n",
    "\n",
    "# Computer random choice\n",
    "computer_choice = random.choice(choices)\n",
    "\n",
    "print(f\"\\nYou chose: {user_choice}\")\n",
    "print(f\"Computer chose: {computer_choice}\\n\")\n",
    "\n",
    "# Game logic\n",
    "if user_choice == computer_choice:\n",
    "    print(\"It's a tie!\")\n",
    "elif (user_choice == \"rock\" and computer_choice == \"scissors\") or \\\n",
    "     (user_choice == \"scissors\" and computer_choice == \"hand\") or \\\n",
    "     (user_choice == \"hand\" and computer_choice == \"rock\"):\n",
    "    print(\"You win! 🎉\")\n",
    "else:\n",
    "    print(\"You lose! 😢\")\n"
   ]
  },
  {
   "cell_type": "code",
   "execution_count": 96,
   "id": "7c0d4e23-abe7-4401-bf87-22e35017cc04",
   "metadata": {},
   "outputs": [
    {
     "name": "stdin",
     "output_type": "stream",
     "text": [
      "Enter rock, paper or scissors:  rock\n"
     ]
    },
    {
     "name": "stdout",
     "output_type": "stream",
     "text": [
      "You chose: rock\n",
      "Computer chose: rock\n",
      "It's a tie!\n"
     ]
    }
   ],
   "source": [
    "import random\n",
    "\n",
    "# Choices\n",
    "choices = [\"rock\", \"paper\", \"scissors\"]\n",
    "\n",
    "# Get input from user\n",
    "user = input(\"Enter rock, paper or scissors: \").lower()\n",
    "\n",
    "# Computer random choice\n",
    "computer = random.choice(choices)\n",
    "\n",
    "# Show both\n",
    "print(\"You chose:\", user)\n",
    "print(\"Computer chose:\", computer)\n",
    "\n",
    "# Compare\n",
    "if user == computer:\n",
    "    print(\"It's a tie!\")\n",
    "elif (user == \"rock\" and computer == \"scissors\"):\n",
    "    print(\"You win! Rock breaks Scissors!\")\n",
    "elif (user == \"paper\" and computer == \"rock\"):\n",
    "    print(\"You win! Paper covers Rock!\")\n",
    "elif (user == \"scissors\" and computer == \"paper\"):\n",
    "    print(\"You win! Scissors cut Paper!\")\n",
    "else:\n",
    "    print(\"You lose!\")\n"
   ]
  },
  {
   "cell_type": "code",
   "execution_count": 134,
   "id": "d27d5602-b96a-4f5d-9730-8c5cf235dfcd",
   "metadata": {},
   "outputs": [
    {
     "name": "stdin",
     "output_type": "stream",
     "text": [
      " True\n",
      " \n"
     ]
    },
    {
     "data": {
      "text/plain": [
       "True"
      ]
     },
     "execution_count": 134,
     "metadata": {},
     "output_type": "execute_result"
    }
   ],
   "source": [
    "a=bool(input())\n",
    "b=bool(input())\n",
    "(a or b) and not (a and b)"
   ]
  },
  {
   "cell_type": "code",
   "execution_count": 138,
   "id": "440435f0-315d-4188-9c41-3a304127c8bb",
   "metadata": {},
   "outputs": [
    {
     "name": "stdin",
     "output_type": "stream",
     "text": [
      " True\n",
      " True\n"
     ]
    },
    {
     "data": {
      "text/plain": [
       "False"
      ]
     },
     "execution_count": 138,
     "metadata": {},
     "output_type": "execute_result"
    }
   ],
   "source": [
    "a=input()\n",
    "b=input()\n",
    "(a and not b) or (b and not a)"
   ]
  },
  {
   "cell_type": "code",
   "execution_count": 121,
   "id": "80854e85-aab7-4159-b3bc-c079a6e9c1cd",
   "metadata": {},
   "outputs": [
    {
     "name": "stdout",
     "output_type": "stream",
     "text": [
      "True\n"
     ]
    }
   ],
   "source": [
    "print((True or False) and not (True and False))\n",
    "print((True or False) or (True and False))"
   ]
  },
  {
   "cell_type": "code",
   "execution_count": 139,
   "id": "c634fe4c-a824-49d0-8917-ed547e84f044",
   "metadata": {},
   "outputs": [],
   "source": [
    "#nand = not(a and b)\n",
    "#nor = nor(a and b)"
   ]
  },
  {
   "cell_type": "code",
   "execution_count": 142,
   "id": "b0da67fe-0a7e-4ac1-bef0-015b61eb6bb1",
   "metadata": {},
   "outputs": [
    {
     "name": "stdin",
     "output_type": "stream",
     "text": [
      " \n",
      " False\n"
     ]
    },
    {
     "data": {
      "text/plain": [
       "True"
      ]
     },
     "execution_count": 142,
     "metadata": {},
     "output_type": "execute_result"
    }
   ],
   "source": [
    "a=bool(input())\n",
    "b=bool(input())\n",
    "not(a and b)"
   ]
  },
  {
   "cell_type": "code",
   "execution_count": 148,
   "id": "2e0460df-2183-4363-bb9c-e523abdad7f4",
   "metadata": {},
   "outputs": [
    {
     "name": "stdin",
     "output_type": "stream",
     "text": [
      " \n",
      " False\n"
     ]
    },
    {
     "data": {
      "text/plain": [
       "False"
      ]
     },
     "execution_count": 148,
     "metadata": {},
     "output_type": "execute_result"
    }
   ],
   "source": [
    "a=bool(input())\n",
    "b=bool(input())\n",
    "not(a or b)"
   ]
  },
  {
   "cell_type": "code",
   "execution_count": 149,
   "id": "334ada54-61c8-4c39-8cd2-b9c376f5b16d",
   "metadata": {},
   "outputs": [
    {
     "data": {
      "text/plain": [
       "False"
      ]
     },
     "execution_count": 149,
     "metadata": {},
     "output_type": "execute_result"
    }
   ],
   "source": [
    "((not(2!=3)and(4<6))or((6!=7)and(8<2)))"
   ]
  },
  {
   "cell_type": "code",
   "execution_count": 160,
   "id": "6dbc1128-efee-424a-93ac-626e2db22353",
   "metadata": {},
   "outputs": [
    {
     "name": "stdin",
     "output_type": "stream",
     "text": [
      "Enter your number 0\n"
     ]
    },
    {
     "name": "stdout",
     "output_type": "stream",
     "text": [
      "Even\n"
     ]
    }
   ],
   "source": [
    "number = int(input(\"Enter your number\"))\n",
    "if(number%2==0):\n",
    "    print(\"Even\")\n",
    "else:\n",
    "    print(\"Odd\")"
   ]
  },
  {
   "cell_type": "code",
   "execution_count": 173,
   "id": "5903dfea-a1de-4e25-a2ff-c796ea211a44",
   "metadata": {},
   "outputs": [
    {
     "name": "stdin",
     "output_type": "stream",
     "text": [
      "Enter your number 5\n",
      "Enter your number 5\n"
     ]
    },
    {
     "name": "stdout",
     "output_type": "stream",
     "text": [
      "Equal\n"
     ]
    }
   ],
   "source": [
    "a = int(input(\"Enter your number\"))\n",
    "b = int(input(\"Enter your number\"))\n",
    "if(a>b):\n",
    "    print(a)\n",
    "elif(a<b):\n",
    "    print(b)\n",
    "else:\n",
    "    print(\"Equal\")"
   ]
  },
  {
   "cell_type": "code",
   "execution_count": 202,
   "id": "299c2ce7-2129-4165-bf4b-193e213c463d",
   "metadata": {},
   "outputs": [
    {
     "name": "stdin",
     "output_type": "stream",
     "text": [
      "Enter your number 200\n"
     ]
    },
    {
     "name": "stdout",
     "output_type": "stream",
     "text": [
      "❌ Number must be between 0 and 100.\n"
     ]
    }
   ],
   "source": [
    "a = input(\"Enter your number\")\n",
    "if a.isdigit():\n",
    "    a = int(a)\n",
    "    if 0 <= a <= 100:\n",
    "         if(a>=90):\n",
    "            print(\"A+\")\n",
    "         elif(a<90 and a>=75):\n",
    "            print(\"A\")\n",
    "         elif(a<75 and a>60):\n",
    "            print(\"B\")\n",
    "         elif(a<=60 and a>=40):\n",
    "            print(\"C\")\n",
    "         elif(a<40):\n",
    "            print(\"Fail\")\n",
    "    else:\n",
    "       print(\"❌ Number must be between 0 and 100.\")\n",
    "else:\n",
    "     print(\"❌ Invalid input! Enter only positive numbers.\")\n"
   ]
  },
  {
   "cell_type": "code",
   "execution_count": 216,
   "id": "d7ff06cd-34a8-426a-989a-6b0a0891f9bc",
   "metadata": {},
   "outputs": [
    {
     "name": "stdin",
     "output_type": "stream",
     "text": [
      "Hey drop your input here call\n"
     ]
    },
    {
     "name": "stdout",
     "output_type": "stream",
     "text": [
      "Oh! call not a palindrom\n"
     ]
    }
   ],
   "source": [
    "a = input(\"Hey drop your input here\")\n",
    "if(a==a[::-1]):\n",
    "    print(\"Hurry!\",a,\"is Palindrome\")\n",
    "else:\n",
    "    print(\"Oh!\",a,\"not a palindrom\")"
   ]
  },
  {
   "cell_type": "code",
   "execution_count": 277,
   "id": "86bb5175-f33d-4790-b4b2-ca335914272a",
   "metadata": {},
   "outputs": [
    {
     "name": "stdin",
     "output_type": "stream",
     "text": [
      "Enter year:  2000\n"
     ]
    },
    {
     "name": "stdout",
     "output_type": "stream",
     "text": [
      "2000 is a Leap Year\n"
     ]
    }
   ],
   "source": [
    "a = input(\"Enter year: \")\n",
    "if a.isdigit() and len(a)==4 and int(a) > 0:\n",
    "    a = int(a)\n",
    "    if (a % 400 == 0) or (a % 4 == 0 and a % 100 != 0):\n",
    "        print(a, \"is a Leap Year\")\n",
    "    else:\n",
    "        print(a, \"is Not a Leap Year\")\n",
    "else:\n",
    "    print(\"Invalid input!\")"
   ]
  },
  {
   "cell_type": "code",
   "execution_count": 226,
   "id": "8856d9a4-cd33-40ce-8139-7961642b4f22",
   "metadata": {},
   "outputs": [
    {
     "name": "stdout",
     "output_type": "stream",
     "text": [
      "True\n",
      "False\n",
      "True\n"
     ]
    }
   ],
   "source": [
    "s1 = \"python\"\n",
    "s2 = \"as12345\"\n",
    "print(s1.isalpha())\n",
    "print(s2.isdigit())\n",
    "print(s1.startswith(\"p\"))"
   ]
  },
  {
   "cell_type": "code",
   "execution_count": 230,
   "id": "dcda3713-3ce8-4aff-b4b7-530166ea4d60",
   "metadata": {},
   "outputs": [
    {
     "name": "stdin",
     "output_type": "stream",
     "text": [
      " jnc#$nd\n"
     ]
    },
    {
     "name": "stdout",
     "output_type": "stream",
     "text": [
      "it is not alphanumeric\n"
     ]
    }
   ],
   "source": [
    "a = input()\n",
    "if(a.isalnum()):\n",
    "    print(\"it is alphanumeric\")\n",
    "else:\n",
    "    print(\"it is not alphanumeric\")\n",
    "\n",
    "\n"
   ]
  },
  {
   "cell_type": "code",
   "execution_count": 241,
   "id": "cbe3143b-644e-4fb2-9c28-a99d4d5dcff5",
   "metadata": {},
   "outputs": [
    {
     "name": "stdin",
     "output_type": "stream",
     "text": [
      " 123123456\n"
     ]
    },
    {
     "name": "stdout",
     "output_type": "stream",
     "text": [
      "True\n",
      "True\n",
      "True\n"
     ]
    }
   ],
   "source": [
    "b = input()\n",
    "print(b.startswith(\"123\"))\n",
    "print(b.startswith(\"123\",))\n",
    "print(b.startswith(\"123\",3))"
   ]
  },
  {
   "cell_type": "code",
   "execution_count": 246,
   "id": "7574a456-bdcc-4d4a-9d15-162beed39cf2",
   "metadata": {},
   "outputs": [
    {
     "name": "stdin",
     "output_type": "stream",
     "text": [
      " vish\n"
     ]
    },
    {
     "name": "stdout",
     "output_type": "stream",
     "text": [
      "False\n",
      "True\n",
      "False\n"
     ]
    }
   ],
   "source": [
    "b = input()\n",
    "print(b.startswith(\"h\"))\n",
    "print(b.startswith(\"v\",))\n",
    "print(b.startswith(\"v\",3))"
   ]
  },
  {
   "cell_type": "code",
   "execution_count": 324,
   "id": "03766878-9bd2-4351-95d9-411b461d2e43",
   "metadata": {},
   "outputs": [
    {
     "name": "stdin",
     "output_type": "stream",
     "text": [
      " 123\n",
      " 34.4\n",
      " ert\n"
     ]
    },
    {
     "name": "stdout",
     "output_type": "stream",
     "text": [
      "give me proper number\n"
     ]
    }
   ],
   "source": [
    "d = input()\n",
    "e = input()\n",
    "f = input()\n",
    "x=d.replace(\".\",\"\")\n",
    "y=e.replace(\".\",\"\")\n",
    "z=f.replace(\".\",\"\")\n",
    "if(x.isdigit() and y.isdigit() and z.isdigit()):\n",
    "    a=float(d)\n",
    "    b=float(e)\n",
    "    c=float(f)\n",
    "    if ((a + b > c) and (b + c > a) and (c + a > b)):\n",
    "        if a == b == c:\n",
    "            print(\"Equilateral\")\n",
    "        elif a == b or b == c or c == a:\n",
    "            print(\"Isosceles\")\n",
    "        else:\n",
    "             print(\"Scalene\")\n",
    "    else:\n",
    "        print(\"It's not a triangle\")\n",
    "else:\n",
    "    print(\"give me proper number\")"
   ]
  },
  {
   "cell_type": "code",
   "execution_count": null,
   "id": "29594f90-beee-4732-80d1-e6fe4b20e533",
   "metadata": {},
   "outputs": [],
   "source": []
  }
 ],
 "metadata": {
  "kernelspec": {
   "display_name": "Python 3 (ipykernel)",
   "language": "python",
   "name": "python3"
  },
  "language_info": {
   "codemirror_mode": {
    "name": "ipython",
    "version": 3
   },
   "file_extension": ".py",
   "mimetype": "text/x-python",
   "name": "python",
   "nbconvert_exporter": "python",
   "pygments_lexer": "ipython3",
   "version": "3.13.5"
  }
 },
 "nbformat": 4,
 "nbformat_minor": 5
}
