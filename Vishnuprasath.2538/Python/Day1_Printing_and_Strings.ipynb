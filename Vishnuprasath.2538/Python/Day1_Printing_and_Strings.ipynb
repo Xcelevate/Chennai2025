{
 "cells": [
  {
   "cell_type": "code",
   "execution_count": 1,
   "id": "5953559f-c1df-4e2b-a9a3-cc110b17a4a1",
   "metadata": {},
   "outputs": [
    {
     "name": "stdout",
     "output_type": "stream",
     "text": [
      "Hello world!\n"
     ]
    }
   ],
   "source": [
    "print(\"Hello world!\")"
   ]
  },
  {
   "cell_type": "code",
   "execution_count": 1,
   "id": "cf0a863c-6df5-4eb0-b626-aa35ac034367",
   "metadata": {},
   "outputs": [
    {
     "ename": "SyntaxError",
     "evalue": "unterminated string literal (detected at line 1) (1637021313.py, line 1)",
     "output_type": "error",
     "traceback": [
      "\u001b[1;36m  Cell \u001b[1;32mIn[1], line 1\u001b[1;36m\u001b[0m\n\u001b[1;33m    print(Hello world!\")\u001b[0m\n\u001b[1;37m                      ^\u001b[0m\n\u001b[1;31mSyntaxError\u001b[0m\u001b[1;31m:\u001b[0m unterminated string literal (detected at line 1)\n"
     ]
    }
   ],
   "source": [
    "print(Hello world!\")"
   ]
  },
  {
   "cell_type": "code",
   "execution_count": 2,
   "id": "b6a4de5b-dc20-4e95-96af-3907245b4e5a",
   "metadata": {},
   "outputs": [
    {
     "ename": "SyntaxError",
     "evalue": "unterminated string literal (detected at line 1) (410663758.py, line 1)",
     "output_type": "error",
     "traceback": [
      "\u001b[1;36m  Cell \u001b[1;32mIn[2], line 1\u001b[1;36m\u001b[0m\n\u001b[1;33m    print(\"Hello world!)\u001b[0m\n\u001b[1;37m          ^\u001b[0m\n\u001b[1;31mSyntaxError\u001b[0m\u001b[1;31m:\u001b[0m unterminated string literal (detected at line 1)\n"
     ]
    }
   ],
   "source": [
    "print(\"Hello world!)"
   ]
  },
  {
   "cell_type": "code",
   "execution_count": 4,
   "id": "6bcd614b-1e83-4af9-a405-2c9011cb7ea9",
   "metadata": {},
   "outputs": [
    {
     "ename": "SyntaxError",
     "evalue": "invalid syntax. Perhaps you forgot a comma? (516480326.py, line 1)",
     "output_type": "error",
     "traceback": [
      "\u001b[1;36m  Cell \u001b[1;32mIn[4], line 1\u001b[1;36m\u001b[0m\n\u001b[1;33m    print(\"Mix 500g of Flour, 10g Yeast and 300ml Water in a bowl.\" /n \"Knead the dough for 10 minutes.\")\u001b[0m\n\u001b[1;37m          ^\u001b[0m\n\u001b[1;31mSyntaxError\u001b[0m\u001b[1;31m:\u001b[0m invalid syntax. Perhaps you forgot a comma?\n"
     ]
    }
   ],
   "source": [
    "print(\"Mix 500g of Flour, 10g Yeast and 300ml Water in a bowl.\" /n \"Knead the dough for 10 minutes.\")"
   ]
  },
  {
   "cell_type": "code",
   "execution_count": 5,
   "id": "a2279a01-1078-47d2-b540-587ba34b48be",
   "metadata": {},
   "outputs": [
    {
     "name": "stdout",
     "output_type": "stream",
     "text": [
      "Mix 500g of Flour, 10g Yeast and 300ml Water in a bowl.\n"
     ]
    }
   ],
   "source": [
    "print(\"Mix 500g of Flour, 10g Yeast and 300ml Water in a bowl.\")"
   ]
  },
  {
   "cell_type": "code",
   "execution_count": 6,
   "id": "e65af57d-984b-405d-a824-d8df00607464",
   "metadata": {},
   "outputs": [
    {
     "name": "stdout",
     "output_type": "stream",
     "text": [
      "Knead the dough for 10 minutes.\n"
     ]
    }
   ],
   "source": [
    "print(\"Knead the dough for 10 minutes.\")"
   ]
  },
  {
   "cell_type": "code",
   "execution_count": 7,
   "id": "1b41f5ed-1530-4e8c-a996-8370700be276",
   "metadata": {},
   "outputs": [
    {
     "name": "stdout",
     "output_type": "stream",
     "text": [
      "add3g of salt.\n"
     ]
    }
   ],
   "source": [
    "print(\"add3g of salt.\")"
   ]
  },
  {
   "cell_type": "code",
   "execution_count": 8,
   "id": "164b40a1-6ec5-4069-8c2c-f62349a92b1f",
   "metadata": {},
   "outputs": [
    {
     "name": "stdout",
     "output_type": "stream",
     "text": [
      "Leave to rise for 2 hours.\n",
      "Bake at 200 degrees C for 30 minutes\n"
     ]
    }
   ],
   "source": [
    "print(\"Leave to rise for 2 hours.\")\n",
    "print(\"Bake at 200 degrees C for 30 minutes\")"
   ]
  },
  {
   "cell_type": "code",
   "execution_count": 9,
   "id": "5bc3aa97-db1b-4368-925f-61177304e353",
   "metadata": {},
   "outputs": [
    {
     "name": "stdout",
     "output_type": "stream",
     "text": [
      "Mix 500g of Flour, 10g Yeast and 300ml Water in a bowl. /n Knead the dough for 10 minutes.\n"
     ]
    }
   ],
   "source": [
    "print(\"Mix 500g of Flour, 10g Yeast and 300ml Water in a bowl. /n Knead the dough for 10 minutes.\")"
   ]
  },
  {
   "cell_type": "code",
   "execution_count": 10,
   "id": "5c72562d-bfc0-488b-8509-c26f191e8726",
   "metadata": {},
   "outputs": [
    {
     "name": "stdout",
     "output_type": "stream",
     "text": [
      "Mix 500g of Flour, 10g Yeast and 300ml Water in a bowl. /nKnead the dough for 10 minutes.\n"
     ]
    }
   ],
   "source": [
    "print(\"Mix 500g of Flour, 10g Yeast and 300ml Water in a bowl. /nKnead the dough for 10 minutes.\")"
   ]
  },
  {
   "cell_type": "code",
   "execution_count": 11,
   "id": "81b53962-167f-48ae-88f7-e6578a50f045",
   "metadata": {},
   "outputs": [
    {
     "name": "stdout",
     "output_type": "stream",
     "text": [
      "Mix 500g of Flour, 10g Yeast and 300ml Water in a bowl. \n",
      "Knead the dough for 10 minutes.\n"
     ]
    }
   ],
   "source": [
    "print(\"Mix 500g of Flour, 10g Yeast and 300ml Water in a bowl. \\nKnead the dough for 10 minutes.\")"
   ]
  },
  {
   "cell_type": "code",
   "execution_count": 12,
   "id": "c63f8eea-6683-4215-b4a5-b8f93774b6cd",
   "metadata": {},
   "outputs": [
    {
     "name": "stdout",
     "output_type": "stream",
     "text": [
      "helloworld!\n"
     ]
    }
   ],
   "source": [
    "print(\"hello\" + \"world!\")"
   ]
  },
  {
   "cell_type": "code",
   "execution_count": 13,
   "id": "8dffdbf5-d26b-4a10-8d6e-cc6a11fff356",
   "metadata": {},
   "outputs": [
    {
     "ename": "SyntaxError",
     "evalue": "unterminated string literal (detected at line 1) (1438225106.py, line 1)",
     "output_type": "error",
     "traceback": [
      "\u001b[1;36m  Cell \u001b[1;32mIn[13], line 1\u001b[1;36m\u001b[0m\n\u001b[1;33m    print(Note from day1\")\u001b[0m\n\u001b[1;37m                        ^\u001b[0m\n\u001b[1;31mSyntaxError\u001b[0m\u001b[1;31m:\u001b[0m unterminated string literal (detected at line 1)\n"
     ]
    }
   ],
   "source": [
    "print(Note from day1\")\n",
    "print(\"the print statement is used to output strings\")\n",
    "print(\"string are strings of the characters\"\n",
    "priint(\"string concatenation is done with the + sign\")\n",
    "print((\"new lines can be created with a \\ and the letter n\")"
   ]
  },
  {
   "cell_type": "code",
   "execution_count": 14,
   "id": "f97e9cc0-40a0-41cd-9a9f-8aee93a67679",
   "metadata": {},
   "outputs": [
    {
     "ename": "SyntaxError",
     "evalue": "invalid syntax. Perhaps you forgot a comma? (1519001543.py, line 3)",
     "output_type": "error",
     "traceback": [
      "\u001b[1;36m  Cell \u001b[1;32mIn[14], line 3\u001b[1;36m\u001b[0m\n\u001b[1;33m    print(\"string are strings of the characters\"\u001b[0m\n\u001b[1;37m          ^\u001b[0m\n\u001b[1;31mSyntaxError\u001b[0m\u001b[1;31m:\u001b[0m invalid syntax. Perhaps you forgot a comma?\n"
     ]
    }
   ],
   "source": [
    "print(\"Note from day1\")\n",
    "print(\"the print statement is used to output strings\")\n",
    "print(\"string are strings of the characters\"\n",
    "priint(\"string concatenation is done with the + sign\")\n",
    "print((\"new lines can be created with a \\ and the letter n\")"
   ]
  },
  {
   "cell_type": "code",
   "execution_count": 18,
   "id": "c8cabd16-2193-47f4-a34d-6a8384966c0d",
   "metadata": {},
   "outputs": [
    {
     "name": "stdout",
     "output_type": "stream",
     "text": [
      "Note from day1\n",
      "the print statement is used to output strings\n",
      "string are strings of the characters\n",
      "string concatenation is done with the + sign\n",
      "new lines can be created with a \\ and the letter n\n"
     ]
    }
   ],
   "source": [
    "print(\"Note from day1\")\n",
    "print(\"the print statement is used to output strings\")\n",
    "print(\"string are strings of the characters\")\n",
    "print(\"string concatenation is done with the + sign\")\n",
    "print(\"new lines can be created with a \\ and the letter n\")"
   ]
  },
  {
   "cell_type": "markdown",
   "id": "f1549309-01ce-4218-a94b-db901156de69",
   "metadata": {},
   "source": [
    "Python input functions"
   ]
  },
  {
   "cell_type": "code",
   "execution_count": 19,
   "id": "a1e4b4e5-0d98-44b8-8fe0-2029f73cbe9e",
   "metadata": {},
   "outputs": [
    {
     "name": "stdin",
     "output_type": "stream",
     "text": [
      "1 1\n"
     ]
    },
    {
     "data": {
      "text/plain": [
       "'1'"
      ]
     },
     "execution_count": 19,
     "metadata": {},
     "output_type": "execute_result"
    }
   ],
   "source": [
    "input(1)"
   ]
  },
  {
   "cell_type": "code",
   "execution_count": 20,
   "id": "e2c145d6-7483-4e0a-9617-a2cc663e0f97",
   "metadata": {},
   "outputs": [
    {
     "name": "stdin",
     "output_type": "stream",
     "text": [
      "1 1\n"
     ]
    },
    {
     "data": {
      "text/plain": [
       "'1'"
      ]
     },
     "execution_count": 20,
     "metadata": {},
     "output_type": "execute_result"
    }
   ],
   "source": [
    "input(1)"
   ]
  },
  {
   "cell_type": "code",
   "execution_count": 22,
   "id": "ac086e43-208b-4426-999f-54913393d223",
   "metadata": {},
   "outputs": [
    {
     "name": "stdin",
     "output_type": "stream",
     "text": [
      "1 1\n"
     ]
    },
    {
     "data": {
      "text/plain": [
       "'1'"
      ]
     },
     "execution_count": 22,
     "metadata": {},
     "output_type": "execute_result"
    }
   ],
   "source": [
    "input(\"1\")"
   ]
  },
  {
   "cell_type": "code",
   "execution_count": 23,
   "id": "c2eec523-c1bb-4093-80f7-1462cd6ad7c8",
   "metadata": {},
   "outputs": [
    {
     "name": "stdin",
     "output_type": "stream",
     "text": [
      "1 vishnu\n"
     ]
    },
    {
     "data": {
      "text/plain": [
       "'vishnu'"
      ]
     },
     "execution_count": 23,
     "metadata": {},
     "output_type": "execute_result"
    }
   ],
   "source": [
    "input(\"1\")"
   ]
  },
  {
   "cell_type": "code",
   "execution_count": 24,
   "id": "178b6969-0752-44cb-85fe-89ce73e478ff",
   "metadata": {},
   "outputs": [
    {
     "data": {
      "text/plain": [
       "\u001b[1;31mSignature:\u001b[0m \u001b[0minput\u001b[0m\u001b[1;33m(\u001b[0m\u001b[0mprompt\u001b[0m\u001b[1;33m=\u001b[0m\u001b[1;34m''\u001b[0m\u001b[1;33m)\u001b[0m\u001b[1;33m\u001b[0m\u001b[1;33m\u001b[0m\u001b[0m\n",
       "\u001b[1;31mDocstring:\u001b[0m\n",
       "Forward raw_input to frontends\n",
       "\n",
       "Raises\n",
       "------\n",
       "StdinNotImplementedError if active frontend doesn't support stdin.\n",
       "\u001b[1;31mFile:\u001b[0m      c:\\users\\vishnu prasath\\anaconda3\\lib\\site-packages\\ipykernel\\kernelbase.py\n",
       "\u001b[1;31mType:\u001b[0m      method"
      ]
     },
     "metadata": {},
     "output_type": "display_data"
    }
   ],
   "source": [
    "input?"
   ]
  },
  {
   "cell_type": "code",
   "execution_count": 25,
   "id": "708cc652-caf9-4dc4-867b-6a5ff5280cd2",
   "metadata": {},
   "outputs": [
    {
     "name": "stdin",
     "output_type": "stream",
     "text": [
      "what is your name? vishnu\n"
     ]
    },
    {
     "name": "stdout",
     "output_type": "stream",
     "text": [
      "hello vishnu\n"
     ]
    }
   ],
   "source": [
    "print(\"hello \" + input(\"what is your name?\"))"
   ]
  },
  {
   "cell_type": "code",
   "execution_count": 26,
   "id": "13241698-fa3e-470d-b1c7-53adf122ff61",
   "metadata": {},
   "outputs": [],
   "source": [
    "#Signature: input(prompt='')\n",
    "#Docstring:\n",
    "#Forward raw_input to frontends\n",
    "\n",
    "#Raises\n",
    "#------\n",
    "#StdinNotImplementedError if active frontend doesn't support stdin."
   ]
  },
  {
   "cell_type": "code",
   "execution_count": 27,
   "id": "57c4ce49-0c79-4b5d-9fab-dbbd1c6f29e2",
   "metadata": {},
   "outputs": [
    {
     "name": "stdin",
     "output_type": "stream",
     "text": [
      "what is your name? Vishnu\n"
     ]
    }
   ],
   "source": [
    "name = input(\"what is your name?\")"
   ]
  },
  {
   "cell_type": "code",
   "execution_count": 28,
   "id": "2043b639-3b0d-4a68-91df-d74cace0f94f",
   "metadata": {},
   "outputs": [
    {
     "name": "stdout",
     "output_type": "stream",
     "text": [
      "Vishnu\n"
     ]
    }
   ],
   "source": [
    "print(name)"
   ]
  },
  {
   "cell_type": "code",
   "execution_count": 29,
   "id": "482777fe-284c-46c0-bb80-bcff210b3143",
   "metadata": {},
   "outputs": [
    {
     "name": "stdin",
     "output_type": "stream",
     "text": [
      "What your learning Hello I am learning python\n"
     ]
    }
   ],
   "source": [
    "Dayone = input(\"What your learning\")"
   ]
  },
  {
   "cell_type": "code",
   "execution_count": 30,
   "id": "b976bf37-832e-4798-ab01-42ae170b38e2",
   "metadata": {},
   "outputs": [
    {
     "name": "stdin",
     "output_type": "stream",
     "text": [
      "Hello vishnu \n",
      "your are learning python Yes I am learning python\n"
     ]
    }
   ],
   "source": [
    "Dayone = input(\"Hello vishnu \\nyour are learning python\")"
   ]
  },
  {
   "cell_type": "code",
   "execution_count": 31,
   "id": "4fdb9e54-2c8d-4ba7-8f7d-175ce76d98d1",
   "metadata": {},
   "outputs": [
    {
     "name": "stdin",
     "output_type": "stream",
     "text": [
      "what are you doing I am learning python\n"
     ]
    }
   ],
   "source": [
    "Hello = input(\"what are you doing\")"
   ]
  },
  {
   "cell_type": "code",
   "execution_count": 32,
   "id": "81bebca3-6935-4e78-9eb8-9f49067d1a57",
   "metadata": {},
   "outputs": [
    {
     "name": "stdin",
     "output_type": "stream",
     "text": [
      "What is your name? vishnu\n"
     ]
    }
   ],
   "source": [
    "name = input(\"What is your name?\")"
   ]
  },
  {
   "cell_type": "code",
   "execution_count": 35,
   "id": "51034b56-fd17-4034-b8b2-8c60372bde72",
   "metadata": {},
   "outputs": [
    {
     "name": "stdout",
     "output_type": "stream",
     "text": [
      "hi i am vishnu\n",
      "i am learning python\n"
     ]
    }
   ],
   "source": [
    "print(\"hi i am\" + \" \" + name + \"\\ni am learning python\")"
   ]
  },
  {
   "cell_type": "code",
   "execution_count": 37,
   "id": "9e12b514-c9c5-4d76-b422-7b59e7b7385a",
   "metadata": {},
   "outputs": [
    {
     "name": "stdin",
     "output_type": "stream",
     "text": [
      "what is your name? Vishnu Prasath Perumal\n"
     ]
    },
    {
     "name": "stdout",
     "output_type": "stream",
     "text": [
      "22\n"
     ]
    }
   ],
   "source": [
    "print(len(input(\"what is your name?\")))"
   ]
  },
  {
   "cell_type": "code",
   "execution_count": 38,
   "id": "416bc348-0048-4045-a280-0462e04e2dbb",
   "metadata": {},
   "outputs": [],
   "source": [
    "temp=\"milk\"\n",
    "glass1=\"juice\"\n",
    "glass2=temp"
   ]
  },
  {
   "cell_type": "code",
   "execution_count": 39,
   "id": "ace31402-c08e-431f-a714-09131fb89270",
   "metadata": {},
   "outputs": [
    {
     "name": "stdout",
     "output_type": "stream",
     "text": [
      "juice\n"
     ]
    }
   ],
   "source": [
    "print(glass1)"
   ]
  },
  {
   "cell_type": "code",
   "execution_count": 41,
   "id": "dc5f4b5a-ea1b-4393-a752-404766258083",
   "metadata": {},
   "outputs": [
    {
     "name": "stdout",
     "output_type": "stream",
     "text": [
      "milk\n"
     ]
    }
   ],
   "source": [
    "print(glass2)"
   ]
  },
  {
   "cell_type": "code",
   "execution_count": 43,
   "id": "04797879-280c-4856-a9a4-822aca84e480",
   "metadata": {},
   "outputs": [],
   "source": [
    "glass1 = \"juice\"\n",
    "glass2 = \"milk\""
   ]
  },
  {
   "cell_type": "code",
   "execution_count": 45,
   "id": "9324227a-6f0c-44b8-8cb9-cee0c2d3355d",
   "metadata": {},
   "outputs": [],
   "source": [
    "temp = glass1\n",
    "glass1 = glass2\n",
    "glass2 = temp"
   ]
  },
  {
   "cell_type": "code",
   "execution_count": 46,
   "id": "c868011f-9d8e-4bb0-957d-b323c8f48f22",
   "metadata": {},
   "outputs": [
    {
     "name": "stdout",
     "output_type": "stream",
     "text": [
      "milk\n",
      "juice\n"
     ]
    }
   ],
   "source": [
    "print(glass1)\n",
    "print(glass2)"
   ]
  },
  {
   "cell_type": "code",
   "execution_count": 53,
   "id": "6be5fbee-5ecf-43a7-9937-c91aa6df02cf",
   "metadata": {},
   "outputs": [
    {
     "data": {
      "text/plain": [
       "'H'"
      ]
     },
     "execution_count": 53,
     "metadata": {},
     "output_type": "execute_result"
    }
   ],
   "source": [
    "str = \"Hello vishnu\"\n",
    "str[0]"
   ]
  },
  {
   "cell_type": "code",
   "execution_count": 50,
   "id": "1deaa3a8-535b-41bb-b533-5cb42f81e35d",
   "metadata": {},
   "outputs": [
    {
     "name": "stdout",
     "output_type": "stream",
     "text": [
      "He\n"
     ]
    }
   ],
   "source": [
    "print(str[0:2])"
   ]
  },
  {
   "cell_type": "code",
   "execution_count": 51,
   "id": "a975bc0a-3bc2-4b97-b915-d514c58f691f",
   "metadata": {},
   "outputs": [
    {
     "name": "stdout",
     "output_type": "stream",
     "text": [
      "He\n"
     ]
    }
   ],
   "source": [
    "print(str[0:2:])"
   ]
  },
  {
   "cell_type": "code",
   "execution_count": 52,
   "id": "f4315398-80ed-4fd8-9972-fdf64c836755",
   "metadata": {},
   "outputs": [
    {
     "name": "stdout",
     "output_type": "stream",
     "text": [
      "He\n"
     ]
    }
   ],
   "source": [
    "print(str[0:2:1])"
   ]
  },
  {
   "cell_type": "code",
   "execution_count": 54,
   "id": "ff48cd6f-6066-4c3b-bf47-c22c730630e3",
   "metadata": {},
   "outputs": [
    {
     "name": "stdout",
     "output_type": "stream",
     "text": [
      "H\n"
     ]
    }
   ],
   "source": [
    "print(str[0:3:7])"
   ]
  },
  {
   "cell_type": "code",
   "execution_count": 60,
   "id": "b2864e8d-5ee7-47df-957c-b6de0c96afdf",
   "metadata": {},
   "outputs": [
    {
     "name": "stdout",
     "output_type": "stream",
     "text": [
      "\n"
     ]
    }
   ],
   "source": [
    "print(str[2:1:2])"
   ]
  },
  {
   "cell_type": "code",
   "execution_count": 61,
   "id": "dd16f963-c724-4749-abbf-7f46460be748",
   "metadata": {},
   "outputs": [
    {
     "name": "stdin",
     "output_type": "stream",
     "text": [
      "vishnu prasath\n"
     ]
    }
   ],
   "source": [
    "my_name = input(\"vishnu\")"
   ]
  },
  {
   "cell_type": "code",
   "execution_count": 64,
   "id": "3a69d7f1-2dd0-4a00-a6d4-acce174b0d8f",
   "metadata": {},
   "outputs": [
    {
     "name": "stdout",
     "output_type": "stream",
     "text": [
      "prasath\n"
     ]
    }
   ],
   "source": [
    "print(my_name)"
   ]
  },
  {
   "cell_type": "code",
   "execution_count": 65,
   "id": "07e70ca7-04e9-498e-8393-5ac9d7fd4019",
   "metadata": {},
   "outputs": [],
   "source": [
    "str = \"hello\""
   ]
  },
  {
   "cell_type": "code",
   "execution_count": 72,
   "id": "7e92834b-91e9-499a-b939-4672118585d7",
   "metadata": {},
   "outputs": [
    {
     "name": "stdout",
     "output_type": "stream",
     "text": [
      "o\n"
     ]
    }
   ],
   "source": [
    "print(str[-1])"
   ]
  },
  {
   "cell_type": "code",
   "execution_count": 75,
   "id": "8762d8b3-805a-4d05-8ebf-1fff91586791",
   "metadata": {},
   "outputs": [
    {
     "name": "stdout",
     "output_type": "stream",
     "text": [
      "olleh\n"
     ]
    }
   ],
   "source": [
    "print(str[::-1])"
   ]
  },
  {
   "cell_type": "code",
   "execution_count": 76,
   "id": "412c65a9-3d5c-4bc8-a8d9-1ad264aabf0d",
   "metadata": {},
   "outputs": [
    {
     "name": "stdout",
     "output_type": "stream",
     "text": [
      "hello\n"
     ]
    }
   ],
   "source": [
    "print(str[::1])"
   ]
  },
  {
   "cell_type": "code",
   "execution_count": 77,
   "id": "d67b4a1b-d83c-433e-b02f-28d3cc34f57d",
   "metadata": {},
   "outputs": [
    {
     "name": "stdout",
     "output_type": "stream",
     "text": [
      "lle\n"
     ]
    }
   ],
   "source": [
    "print(str[3:0:-1])"
   ]
  },
  {
   "cell_type": "code",
   "execution_count": 78,
   "id": "b41acc0a-329c-4615-b1aa-7849c246ab8e",
   "metadata": {},
   "outputs": [
    {
     "name": "stdout",
     "output_type": "stream",
     "text": [
      "he\n"
     ]
    }
   ],
   "source": [
    "print(str[0:2:1])"
   ]
  },
  {
   "cell_type": "code",
   "execution_count": 79,
   "id": "f00bfca6-5baf-4670-89d7-0dffe1537dad",
   "metadata": {},
   "outputs": [],
   "source": [
    "num=123_456"
   ]
  },
  {
   "cell_type": "code",
   "execution_count": 80,
   "id": "0d79d176-6473-4ec2-9eb6-fc1e100efe34",
   "metadata": {},
   "outputs": [
    {
     "name": "stdout",
     "output_type": "stream",
     "text": [
      "123456\n"
     ]
    }
   ],
   "source": [
    "print(num)"
   ]
  },
  {
   "cell_type": "code",
   "execution_count": 81,
   "id": "69091a5b-f208-43ed-a76b-efbaa64ff122",
   "metadata": {},
   "outputs": [
    {
     "data": {
      "text/plain": [
       "int"
      ]
     },
     "execution_count": 81,
     "metadata": {},
     "output_type": "execute_result"
    }
   ],
   "source": [
    "type(num)"
   ]
  },
  {
   "cell_type": "code",
   "execution_count": 82,
   "id": "8df32924-70b0-422a-b481-05375ddb49ed",
   "metadata": {},
   "outputs": [],
   "source": [
    "n=54.6"
   ]
  },
  {
   "cell_type": "code",
   "execution_count": 83,
   "id": "ab9d4d74-6436-49a9-86e2-20e140839791",
   "metadata": {},
   "outputs": [
    {
     "data": {
      "text/plain": [
       "float"
      ]
     },
     "execution_count": 83,
     "metadata": {},
     "output_type": "execute_result"
    }
   ],
   "source": [
    "type(n)"
   ]
  },
  {
   "cell_type": "code",
   "execution_count": 84,
   "id": "2ed85dac-45be-479e-839c-324d28db9dc7",
   "metadata": {},
   "outputs": [
    {
     "data": {
      "text/plain": [
       "\u001b[1;31mInit signature:\u001b[0m \u001b[0mtype\u001b[0m\u001b[1;33m(\u001b[0m\u001b[0mself\u001b[0m\u001b[1;33m,\u001b[0m \u001b[1;33m/\u001b[0m\u001b[1;33m,\u001b[0m \u001b[1;33m*\u001b[0m\u001b[0margs\u001b[0m\u001b[1;33m,\u001b[0m \u001b[1;33m**\u001b[0m\u001b[0mkwargs\u001b[0m\u001b[1;33m)\u001b[0m\u001b[1;33m\u001b[0m\u001b[1;33m\u001b[0m\u001b[0m\n",
       "\u001b[1;31mDocstring:\u001b[0m     \n",
       "type(object) -> the object's type\n",
       "type(name, bases, dict, **kwds) -> a new type\n",
       "\u001b[1;31mType:\u001b[0m           type\n",
       "\u001b[1;31mSubclasses:\u001b[0m     ABCMeta, EnumType, _AnyMeta, NamedTupleMeta, _TypedDictMeta, _ABC, MetaHasDescriptors, CType_Type, _TzSingleton, _TzFactory, ..."
      ]
     },
     "metadata": {},
     "output_type": "display_data"
    }
   ],
   "source": [
    "type?"
   ]
  },
  {
   "cell_type": "code",
   "execution_count": 85,
   "id": "c8ab2257-903b-45ae-baa8-b8390494dead",
   "metadata": {},
   "outputs": [
    {
     "name": "stdout",
     "output_type": "stream",
     "text": [
      "579\n"
     ]
    }
   ],
   "source": [
    "print(int(\"123\")+int(\"456\"))"
   ]
  },
  {
   "cell_type": "code",
   "execution_count": null,
   "id": "297184e2-a6fe-4209-92e9-59637bc4c806",
   "metadata": {},
   "outputs": [],
   "source": []
  },
  {
   "cell_type": "code",
   "execution_count": 86,
   "id": "4475ab36-f31b-4e4d-8494-c85bccd103d5",
   "metadata": {},
   "outputs": [
    {
     "ename": "ValueError",
     "evalue": "invalid literal for int() with base 10: 'a23'",
     "output_type": "error",
     "traceback": [
      "\u001b[1;31m---------------------------------------------------------------------------\u001b[0m",
      "\u001b[1;31mValueError\u001b[0m                                Traceback (most recent call last)",
      "Cell \u001b[1;32mIn[86], line 1\u001b[0m\n\u001b[1;32m----> 1\u001b[0m \u001b[38;5;28mprint\u001b[39m(\u001b[38;5;28mint\u001b[39m(\u001b[38;5;124m\"\u001b[39m\u001b[38;5;124ma23\u001b[39m\u001b[38;5;124m\"\u001b[39m)\u001b[38;5;241m+\u001b[39m\u001b[38;5;28mint\u001b[39m(\u001b[38;5;124m\"\u001b[39m\u001b[38;5;124m456\u001b[39m\u001b[38;5;124m\"\u001b[39m))\n",
      "\u001b[1;31mValueError\u001b[0m: invalid literal for int() with base 10: 'a23'"
     ]
    }
   ],
   "source": [
    "print(int(\"a23\")+int(\"456\"))"
   ]
  },
  {
   "cell_type": "code",
   "execution_count": 87,
   "id": "907e498f-5517-420e-bc49-4dc3b9d150d6",
   "metadata": {},
   "outputs": [
    {
     "name": "stdout",
     "output_type": "stream",
     "text": [
      "123456\n"
     ]
    }
   ],
   "source": [
    "print(\"123\"+\"456\")"
   ]
  },
  {
   "cell_type": "code",
   "execution_count": 88,
   "id": "04d53ccc-f08d-4611-9058-d2527cc38251",
   "metadata": {},
   "outputs": [
    {
     "ename": "ValueError",
     "evalue": "invalid literal for int() with base 10: 'abc'",
     "output_type": "error",
     "traceback": [
      "\u001b[1;31m---------------------------------------------------------------------------\u001b[0m",
      "\u001b[1;31mValueError\u001b[0m                                Traceback (most recent call last)",
      "Cell \u001b[1;32mIn[88], line 1\u001b[0m\n\u001b[1;32m----> 1\u001b[0m \u001b[38;5;28mprint\u001b[39m(\u001b[38;5;28mint\u001b[39m(\u001b[38;5;124m\"\u001b[39m\u001b[38;5;124mabc\u001b[39m\u001b[38;5;124m\"\u001b[39m)\u001b[38;5;241m+\u001b[39m\u001b[38;5;28mint\u001b[39m(\u001b[38;5;124m\"\u001b[39m\u001b[38;5;124m456\u001b[39m\u001b[38;5;124m\"\u001b[39m))\n",
      "\u001b[1;31mValueError\u001b[0m: invalid literal for int() with base 10: 'abc'"
     ]
    }
   ],
   "source": [
    "print(int(\"abc\")+int(\"456\"))"
   ]
  },
  {
   "cell_type": "code",
   "execution_count": 89,
   "id": "e376a4f4-8f99-4286-b0b1-bc9aaa0044b5",
   "metadata": {},
   "outputs": [
    {
     "name": "stdin",
     "output_type": "stream",
     "text": [
      "what is your name vishnu\n"
     ]
    },
    {
     "ename": "TypeError",
     "evalue": "can only concatenate str (not \"int\") to str",
     "output_type": "error",
     "traceback": [
      "\u001b[1;31m---------------------------------------------------------------------------\u001b[0m",
      "\u001b[1;31mTypeError\u001b[0m                                 Traceback (most recent call last)",
      "Cell \u001b[1;32mIn[89], line 1\u001b[0m\n\u001b[1;32m----> 1\u001b[0m \u001b[38;5;28mprint\u001b[39m(\u001b[38;5;124m\"\u001b[39m\u001b[38;5;124mnumber of letters in name\u001b[39m\u001b[38;5;124m\"\u001b[39m \u001b[38;5;241m+\u001b[39m \u001b[38;5;28mlen\u001b[39m(\u001b[38;5;28minput\u001b[39m(\u001b[38;5;124m\"\u001b[39m\u001b[38;5;124mwhat is your name\u001b[39m\u001b[38;5;124m\"\u001b[39m)))\n",
      "\u001b[1;31mTypeError\u001b[0m: can only concatenate str (not \"int\") to str"
     ]
    }
   ],
   "source": [
    "print(\"number of letters in name\" + len(input(\"what is your name\")))"
   ]
  },
  {
   "cell_type": "code",
   "execution_count": 90,
   "id": "fb2abfa9-dfe0-44cf-be46-e038baa8f6f0",
   "metadata": {},
   "outputs": [
    {
     "name": "stdin",
     "output_type": "stream",
     "text": [
      "what is your name vishnu\n"
     ]
    },
    {
     "ename": "TypeError",
     "evalue": "'str' object is not callable",
     "output_type": "error",
     "traceback": [
      "\u001b[1;31m---------------------------------------------------------------------------\u001b[0m",
      "\u001b[1;31mTypeError\u001b[0m                                 Traceback (most recent call last)",
      "Cell \u001b[1;32mIn[90], line 1\u001b[0m\n\u001b[1;32m----> 1\u001b[0m \u001b[38;5;28mprint\u001b[39m(\u001b[38;5;124m\"\u001b[39m\u001b[38;5;124mnumber of letters in name\u001b[39m\u001b[38;5;124m\"\u001b[39m \u001b[38;5;241m+\u001b[39m \u001b[38;5;28mstr\u001b[39m(\u001b[38;5;28mlen\u001b[39m(\u001b[38;5;28minput\u001b[39m(\u001b[38;5;124m\"\u001b[39m\u001b[38;5;124mwhat is your name\u001b[39m\u001b[38;5;124m\"\u001b[39m))))\n",
      "\u001b[1;31mTypeError\u001b[0m: 'str' object is not callable"
     ]
    }
   ],
   "source": [
    "print(\"number of letters in name\" + str(len(input(\"what is your name\"))))"
   ]
  },
  {
   "cell_type": "code",
   "execution_count": 91,
   "id": "5afb402f-55a1-4b80-a225-db0c6ce2f84f",
   "metadata": {},
   "outputs": [
    {
     "name": "stdin",
     "output_type": "stream",
     "text": [
      "what is your name vishnu\n"
     ]
    },
    {
     "ename": "TypeError",
     "evalue": "'str' object is not callable",
     "output_type": "error",
     "traceback": [
      "\u001b[1;31m---------------------------------------------------------------------------\u001b[0m",
      "\u001b[1;31mTypeError\u001b[0m                                 Traceback (most recent call last)",
      "Cell \u001b[1;32mIn[91], line 1\u001b[0m\n\u001b[1;32m----> 1\u001b[0m length\u001b[38;5;241m=\u001b[39m\u001b[38;5;28mstr\u001b[39m(\u001b[38;5;28mlen\u001b[39m(\u001b[38;5;28minput\u001b[39m(\u001b[38;5;124m\"\u001b[39m\u001b[38;5;124mwhat is your name\u001b[39m\u001b[38;5;124m\"\u001b[39m)))\n",
      "\u001b[1;31mTypeError\u001b[0m: 'str' object is not callable"
     ]
    }
   ],
   "source": [
    "length=str(len(input(\"what is your name\")))"
   ]
  },
  {
   "cell_type": "code",
   "execution_count": 92,
   "id": "3a863e3a-d315-4c8a-b966-ece3dcbde82b",
   "metadata": {},
   "outputs": [
    {
     "name": "stdout",
     "output_type": "stream",
     "text": [
      "7.0\n"
     ]
    }
   ],
   "source": [
    "print(3*3+3/3-3)"
   ]
  },
  {
   "cell_type": "code",
   "execution_count": 93,
   "id": "297702f8-d0f0-4963-a4c4-5a1d2ab27a63",
   "metadata": {},
   "outputs": [
    {
     "name": "stdout",
     "output_type": "stream",
     "text": [
      "3.0\n"
     ]
    }
   ],
   "source": [
    "print(3*(3+3)/3-3)"
   ]
  },
  {
   "cell_type": "code",
   "execution_count": 1,
   "id": "3b768d45-c22e-464d-a6f2-f033f53c2e02",
   "metadata": {},
   "outputs": [
    {
     "name": "stdin",
     "output_type": "stream",
     "text": [
      "what is your name vishnu\n"
     ]
    }
   ],
   "source": [
    "length=str(len(input(\"what is your name\")))"
   ]
  },
  {
   "cell_type": "code",
   "execution_count": 2,
   "id": "5c660d3d-dbaa-42c2-ab55-4fd722c141d6",
   "metadata": {},
   "outputs": [
    {
     "name": "stdin",
     "output_type": "stream",
     "text": [
      "what is your name vishwa\n"
     ]
    }
   ],
   "source": [
    "length=str(len(input(\"what is your name\")))"
   ]
  },
  {
   "cell_type": "code",
   "execution_count": 3,
   "id": "35abb5a9-79e1-46ef-9eb2-7fedde6e1915",
   "metadata": {},
   "outputs": [
    {
     "name": "stdin",
     "output_type": "stream",
     "text": [
      "what is your name vishwa\n"
     ]
    },
    {
     "name": "stdout",
     "output_type": "stream",
     "text": [
      "number of letters in name6\n"
     ]
    }
   ],
   "source": [
    "print(\"number of letters in name\" + str(len(input(\"what is your name\"))))"
   ]
  },
  {
   "cell_type": "code",
   "execution_count": 2,
   "id": "4b86feda-9af2-47be-8a46-ca6e9cba79db",
   "metadata": {},
   "outputs": [],
   "source": [
    "height = 1.65\n",
    "weight= 84\n",
    "bmi = (weight / height**2)"
   ]
  },
  {
   "cell_type": "code",
   "execution_count": 3,
   "id": "5648c866-929b-4104-8f73-df424b581015",
   "metadata": {},
   "outputs": [
    {
     "name": "stdout",
     "output_type": "stream",
     "text": [
      "30.85399449035813\n"
     ]
    }
   ],
   "source": [
    "print(bmi)"
   ]
  },
  {
   "cell_type": "code",
   "execution_count": 5,
   "id": "733bbf24-4aa6-4069-b95d-82b2512a77cc",
   "metadata": {},
   "outputs": [
    {
     "name": "stdout",
     "output_type": "stream",
     "text": [
      "30.85\n"
     ]
    }
   ],
   "source": [
    "print(round(bmi,2))"
   ]
  },
  {
   "cell_type": "code",
   "execution_count": 9,
   "id": "e941edab-30ed-454c-9938-212c16c902a2",
   "metadata": {},
   "outputs": [
    {
     "name": "stdin",
     "output_type": "stream",
     "text": [
      "what is your name? vishnu\n",
      "enter your age 21\n"
     ]
    }
   ],
   "source": [
    "name = input(\"what is your name?\")\n",
    "age = int(input(\"enter your age\"))"
   ]
  },
  {
   "cell_type": "code",
   "execution_count": 13,
   "id": "334027d7-51f4-4474-bbb8-40290285354f",
   "metadata": {},
   "outputs": [
    {
     "name": "stdout",
     "output_type": "stream",
     "text": [
      "hello my name vishnu and my age is 21\n"
     ]
    }
   ],
   "source": [
    "print(f\"hello my name {name} and my age is {age}\") "
   ]
  },
  {
   "cell_type": "code",
   "execution_count": 14,
   "id": "82945add-ee1e-45f1-8b3c-10927733a3b1",
   "metadata": {},
   "outputs": [
    {
     "name": "stdout",
     "output_type": "stream",
     "text": [
      "0\n"
     ]
    }
   ],
   "source": [
    "print(10%2)"
   ]
  },
  {
   "cell_type": "code",
   "execution_count": 15,
   "id": "1c5f6969-587c-46ee-8f7c-d1483996be95",
   "metadata": {},
   "outputs": [
    {
     "name": "stdout",
     "output_type": "stream",
     "text": [
      "5\n"
     ]
    }
   ],
   "source": [
    "print(10//2)"
   ]
  },
  {
   "cell_type": "code",
   "execution_count": 16,
   "id": "6a3b210b-d596-41c5-b279-b2adf28b6218",
   "metadata": {},
   "outputs": [],
   "source": [
    "text=\"vishnu\""
   ]
  },
  {
   "cell_type": "code",
   "execution_count": 17,
   "id": "09f4eb13-ca39-417b-8f48-7a6fb2b0d24c",
   "metadata": {},
   "outputs": [
    {
     "name": "stdout",
     "output_type": "stream",
     "text": [
      "VISHNU\n",
      "vishnu\n"
     ]
    }
   ],
   "source": [
    "print(text.upper())\n",
    "print(text.lower())"
   ]
  },
  {
   "cell_type": "code",
   "execution_count": 19,
   "id": "2cbdd5ae-ae59-4f8e-a741-4aabaddba6be",
   "metadata": {},
   "outputs": [
    {
     "name": "stdout",
     "output_type": "stream",
     "text": [
      "Vishnu\n",
      "Vishnu\n",
      "VISHNU\n"
     ]
    }
   ],
   "source": [
    "print(text.capitalize())\n",
    "print(text.title())\n",
    "print(text.swapcase())"
   ]
  },
  {
   "cell_type": "code",
   "execution_count": 21,
   "id": "b71f7357-4e3c-4654-8217-3594dbb37f3a",
   "metadata": {},
   "outputs": [],
   "source": [
    "text = \"        VisHnu Is LeaRninG PythOn        \""
   ]
  },
  {
   "cell_type": "code",
   "execution_count": 24,
   "id": "0c93838f-08b8-4005-93bd-183e37db3c4d",
   "metadata": {},
   "outputs": [
    {
     "name": "stdout",
     "output_type": "stream",
     "text": [
      "VISHNU IS LEARNING PYTHON\n",
      "vishnu is learning python\n",
      "Vishnu is learning python\n",
      "Vishnu Is Learning Python\n",
      "vIShNU iS lEArNINg pYTHoN\n",
      "VisHnu Is LeaRninG PythOn\n",
      "VisHnu Is LeaRninG PythOn\n",
      "VisHnu Is LeaRninG PythOn\n"
     ]
    }
   ],
   "source": [
    "print(text.upper())\n",
    "print(text.lower())\n",
    "print(text.capitalize())\n",
    "print(text.title())\n",
    "print(text.swapcase())\n",
    "print(text.strip())\n",
    "print(text.lstrip())\n",
    "print(text.rstrip())"
   ]
  },
  {
   "cell_type": "code",
   "execution_count": 41,
   "id": "7ca9da3f-5cef-4682-b388-4c6163469d7b",
   "metadata": {},
   "outputs": [],
   "source": [
    "text = '      VisHnu Is LeaRninG PythOn        '"
   ]
  },
  {
   "cell_type": "code",
   "execution_count": 42,
   "id": "b8477ef6-52e6-4093-af55-25a2e2e944c5",
   "metadata": {},
   "outputs": [
    {
     "name": "stdout",
     "output_type": "stream",
     "text": [
      "      VisHnu Is LeaRninG PythOn        \n"
     ]
    }
   ],
   "source": [
    "print(text)"
   ]
  },
  {
   "cell_type": "code",
   "execution_count": 43,
   "id": "61bf7454-ac27-4894-99ef-3962344b5a4a",
   "metadata": {},
   "outputs": [
    {
     "name": "stdout",
     "output_type": "stream",
     "text": [
      "VisHnu Is LeaRninG PythOn\n"
     ]
    }
   ],
   "source": [
    "print(text.strip())"
   ]
  },
  {
   "cell_type": "code",
   "execution_count": 44,
   "id": "fdd38268-4ed5-4090-9778-3cd31830cec4",
   "metadata": {},
   "outputs": [
    {
     "name": "stdout",
     "output_type": "stream",
     "text": [
      "VisHnu Is LeaRninG PythOn        \n"
     ]
    }
   ],
   "source": [
    "print(text.lstrip())"
   ]
  },
  {
   "cell_type": "code",
   "execution_count": 45,
   "id": "25cdf40e-13e8-4b66-aad5-7b318ce76d37",
   "metadata": {},
   "outputs": [
    {
     "name": "stdout",
     "output_type": "stream",
     "text": [
      "      VisHnu Is LeaRninG PythOn\n"
     ]
    }
   ],
   "source": [
    "print(text.rstrip())"
   ]
  },
  {
   "cell_type": "code",
   "execution_count": 46,
   "id": "7055ff2c-73e8-43ce-a9f2-0b7521118106",
   "metadata": {},
   "outputs": [],
   "source": [
    "sentence = \" I Love python Programming \"\n"
   ]
  },
  {
   "cell_type": "code",
   "execution_count": 48,
   "id": "02440c68-79ac-439b-947e-39ae1c1bf046",
   "metadata": {},
   "outputs": [
    {
     "name": "stdout",
     "output_type": "stream",
     "text": [
      "8\n"
     ]
    }
   ],
   "source": [
    "print(sentence.find(\"python\"))"
   ]
  },
  {
   "cell_type": "code",
   "execution_count": 49,
   "id": "f4d94262-87e9-442f-a78b-e90814f6ba2a",
   "metadata": {},
   "outputs": [],
   "source": [
    "new_sentence=sentence.replace(\"python\", \"java\")"
   ]
  },
  {
   "cell_type": "code",
   "execution_count": 50,
   "id": "9028249b-d722-4ffc-8431-bd2bdb5fa7dd",
   "metadata": {},
   "outputs": [
    {
     "name": "stdout",
     "output_type": "stream",
     "text": [
      " I Love java Programming \n"
     ]
    }
   ],
   "source": [
    "print(new_sentence)"
   ]
  },
  {
   "cell_type": "code",
   "execution_count": 55,
   "id": "c28fd307-8cdf-4ee4-bea8-b7df1a72dc5a",
   "metadata": {},
   "outputs": [
    {
     "ename": "AttributeError",
     "evalue": "'str' object has no attribute 'findall'",
     "output_type": "error",
     "traceback": [
      "\u001b[1;31m---------------------------------------------------------------------------\u001b[0m",
      "\u001b[1;31mAttributeError\u001b[0m                            Traceback (most recent call last)",
      "Cell \u001b[1;32mIn[55], line 1\u001b[0m\n\u001b[1;32m----> 1\u001b[0m \u001b[38;5;28mprint\u001b[39m(sentence\u001b[38;5;241m.\u001b[39mfindall())\n",
      "\u001b[1;31mAttributeError\u001b[0m: 'str' object has no attribute 'findall'"
     ]
    }
   ],
   "source": [
    "print(sentence.findall())"
   ]
  },
  {
   "cell_type": "code",
   "execution_count": 56,
   "id": "00a2dba9-9c95-4d11-8ef0-256ee0cf69d2",
   "metadata": {},
   "outputs": [],
   "source": [
    "import re"
   ]
  },
  {
   "cell_type": "code",
   "execution_count": 60,
   "id": "ee77b4eb-8f97-438d-8e31-372093a344da",
   "metadata": {},
   "outputs": [
    {
     "name": "stdout",
     "output_type": "stream",
     "text": [
      "['python', 'python']\n"
     ]
    }
   ],
   "source": [
    "import re\n",
    "text = \" i love python, python is good\"\n",
    "words = re.findall(r'python', text)\n",
    "iterations = re.finditer(r'python', text)\n",
    "print(words)"
   ]
  },
  {
   "cell_type": "code",
   "execution_count": 61,
   "id": "583513fc-470d-4bbd-8467-7eb88fa393fd",
   "metadata": {},
   "outputs": [
    {
     "name": "stdout",
     "output_type": "stream",
     "text": [
      "<callable_iterator object at 0x000001D12DEA7400>\n"
     ]
    }
   ],
   "source": [
    "print(iterations)"
   ]
  },
  {
   "cell_type": "code",
   "execution_count": 63,
   "id": "8b931986-bd0b-461d-a769-2ed4bf0249fe",
   "metadata": {},
   "outputs": [
    {
     "name": "stdin",
     "output_type": "stream",
     "text": [
      " gayu\n",
      " chennai\n"
     ]
    },
    {
     "name": "stdout",
     "output_type": "stream",
     "text": [
      "gayu chennai\n"
     ]
    }
   ],
   "source": [
    "name = input()\n",
    "city = input()\n",
    "print(name +\" \"+ city)"
   ]
  },
  {
   "cell_type": "code",
   "execution_count": 67,
   "id": "65fb5701-6fa9-42c3-93e0-fb4a34649504",
   "metadata": {},
   "outputs": [
    {
     "name": "stdin",
     "output_type": "stream",
     "text": [
      " vishwa\n",
      " gurgon\n"
     ]
    },
    {
     "name": "stdout",
     "output_type": "stream",
     "text": [
      "vishwa gurgon\n"
     ]
    }
   ],
   "source": [
    "name = input(what's your name)\n",
    "city = input(your city)\n",
    "print(f\"{name} {city}\")"
   ]
  },
  {
   "cell_type": "code",
   "execution_count": 68,
   "id": "91675383-74d0-4c6e-b0be-54b90142747d",
   "metadata": {},
   "outputs": [
    {
     "name": "stdin",
     "output_type": "stream",
     "text": [
      " vishnu\n",
      " 2025\n"
     ]
    },
    {
     "name": "stdout",
     "output_type": "stream",
     "text": [
      "vis2025\n"
     ]
    }
   ],
   "source": [
    "name = input(what's your name)\n",
    "year = input(your year)\n",
    "print(name[0:3] + year)"
   ]
  },
  {
   "cell_type": "code",
   "execution_count": 70,
   "id": "45ca34e4-6d48-4152-9e84-0f30c222c4b5",
   "metadata": {},
   "outputs": [
    {
     "name": "stdin",
     "output_type": "stream",
     "text": [
      " vishnu\n",
      " vishwa\n"
     ]
    },
    {
     "name": "stdout",
     "output_type": "stream",
     "text": [
      "vishwa\n"
     ]
    }
   ],
   "source": [
    "name = input(what's your name)\n",
    "name2 = input(your year)\n",
    "print(name[0:4] + name2[4:])"
   ]
  },
  {
   "cell_type": "code",
   "execution_count": 71,
   "id": "2a36fce6-48a9-447c-910e-571f0879a549",
   "metadata": {},
   "outputs": [
    {
     "name": "stdout",
     "output_type": "stream",
     "text": [
      "name:vishnu age:21\n"
     ]
    }
   ],
   "source": [
    "print(f\"name:{name} age:{age}\")"
   ]
  },
  {
   "cell_type": "code",
   "execution_count": 72,
   "id": "2f6e5416-eb93-442c-b0d4-2ae39b16e37d",
   "metadata": {},
   "outputs": [
    {
     "name": "stdout",
     "output_type": "stream",
     "text": [
      "name:vishnu age:21\n"
     ]
    }
   ],
   "source": [
    "print(\"name:{} age:{}\". format(name,age))"
   ]
  },
  {
   "cell_type": "code",
   "execution_count": 75,
   "id": "f06ac1e8-c5d0-4680-9aad-ce225f18ef04",
   "metadata": {},
   "outputs": [
    {
     "name": "stdout",
     "output_type": "stream",
     "text": [
      "['I', ' love', ' Python', ' Program']\n"
     ]
    }
   ],
   "source": [
    "text =\"I, love, Python, Program\"\n",
    "words = text.split(\",\")\n",
    "print(words)"
   ]
  },
  {
   "cell_type": "code",
   "execution_count": 80,
   "id": "3b5e28c0-50cd-4aa5-824e-ab7f6679503e",
   "metadata": {},
   "outputs": [
    {
     "name": "stdout",
     "output_type": "stream",
     "text": [
      "['I love Python Program']\n"
     ]
    }
   ],
   "source": [
    "text =\"I love Python Program\"\n",
    "words = text.split(\",\")\n",
    "print(words)"
   ]
  },
  {
   "cell_type": "code",
   "execution_count": 85,
   "id": "b3acb655-e7b2-467d-abfb-a5821ebc63ab",
   "metadata": {},
   "outputs": [
    {
     "name": "stdout",
     "output_type": "stream",
     "text": [
      "I -, -  -l -o -v -e -, -  -P -y -t -h -o -n -, -  -P -r -o -g -r -a -m\n"
     ]
    }
   ],
   "source": [
    "text =\"I, love, Python, Program\"\n",
    "words = text.split(\",\")\n",
    "text_join= \" -\".join(words)\n",
    "text_join= \" -\".join(text)\n",
    "print(text_join)"
   ]
  },
  {
   "cell_type": "code",
   "execution_count": 89,
   "id": "26c56570-5007-41ef-b362-fcf10bc8b39c",
   "metadata": {},
   "outputs": [
    {
     "name": "stdout",
     "output_type": "stream",
     "text": [
      "I - love - Python - Program\n"
     ]
    }
   ],
   "source": [
    "text =\"I love Python Program\"\n",
    "text_join= \" -\".join(words)\n",
    "print(text_join)"
   ]
  },
  {
   "cell_type": "code",
   "execution_count": 94,
   "id": "9de90e7d-4b61-4d12-918b-a714d5c294fb",
   "metadata": {},
   "outputs": [
    {
     "name": "stdout",
     "output_type": "stream",
     "text": [
      "vishnu*\n"
     ]
    }
   ],
   "source": [
    "name=\"vishnu\"\n",
    "print(name.ljust(7,'*'))"
   ]
  },
  {
   "cell_type": "code",
   "execution_count": 92,
   "id": "c87feae3-e8c0-4dbd-8d60-a11d23f6f9f3",
   "metadata": {},
   "outputs": [
    {
     "name": "stdout",
     "output_type": "stream",
     "text": [
      "*vishnu\n"
     ]
    }
   ],
   "source": [
    "name=\"vishnu\"\n",
    "print(name.rjust(7,'*'))"
   ]
  },
  {
   "cell_type": "code",
   "execution_count": 107,
   "id": "2fe14e36-aa33-4458-9aa7-930776551111",
   "metadata": {},
   "outputs": [
    {
     "name": "stdout",
     "output_type": "stream",
     "text": [
      "['I', 'love', 'Python Program']\n"
     ]
    }
   ],
   "source": [
    "text =\"I love Python Program\"\n",
    "words = text.split(' ',2)\n",
    "print(words)\n",
    "#why"
   ]
  },
  {
   "cell_type": "code",
   "execution_count": 103,
   "id": "4e6f5ad5-b0ba-4e4b-b805-a3cc043e5046",
   "metadata": {},
   "outputs": [],
   "source": [
    "#why (blue/ball)"
   ]
  },
  {
   "cell_type": "code",
   "execution_count": null,
   "id": "4882ecfd-9a2a-4fb8-a081-012c55703612",
   "metadata": {},
   "outputs": [],
   "source": []
  }
 ],
 "metadata": {
  "kernelspec": {
   "display_name": "Python 3 (ipykernel)",
   "language": "python",
   "name": "python3"
  },
  "language_info": {
   "codemirror_mode": {
    "name": "ipython",
    "version": 3
   },
   "file_extension": ".py",
   "mimetype": "text/x-python",
   "name": "python",
   "nbconvert_exporter": "python",
   "pygments_lexer": "ipython3",
   "version": "3.13.5"
  }
 },
 "nbformat": 4,
 "nbformat_minor": 5
}
